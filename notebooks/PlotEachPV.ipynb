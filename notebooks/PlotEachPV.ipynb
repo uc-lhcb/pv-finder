{
 "cells": [
  {
   "cell_type": "code",
   "execution_count": 1,
   "metadata": {},
   "outputs": [
    {
     "name": "stdout",
     "output_type": "stream",
     "text": [
      "Tue Oct  5 21:49:31 2021       \n",
      "+-----------------------------------------------------------------------------+\n",
      "| NVIDIA-SMI 460.32.03    Driver Version: 460.56       CUDA Version: 11.2     |\n",
      "|-------------------------------+----------------------+----------------------+\n",
      "| GPU  Name        Persistence-M| Bus-Id        Disp.A | Volatile Uncorr. ECC |\n",
      "| Fan  Temp  Perf  Pwr:Usage/Cap|         Memory-Usage | GPU-Util  Compute M. |\n",
      "|                               |                      |               MIG M. |\n",
      "|===============================+======================+======================|\n",
      "|   0  GeForce RTX 208...  On   | 00000000:18:00.0 Off |                  N/A |\n",
      "| 29%   38C    P8    40W / 250W |      3MiB / 11019MiB |      0%      Default |\n",
      "|                               |                      |                  N/A |\n",
      "+-------------------------------+----------------------+----------------------+\n",
      "|   1  GeForce RTX 208...  On   | 00000000:3B:00.0 Off |                  N/A |\n",
      "| 29%   31C    P8    21W / 250W |      3MiB / 11019MiB |      0%      Default |\n",
      "|                               |                      |                  N/A |\n",
      "+-------------------------------+----------------------+----------------------+\n",
      "|   2  GeForce RTX 3090    On   | 00000000:AF:00.0 Off |                  N/A |\n",
      "|  0%   36C    P8    29W / 350W |      3MiB / 24268MiB |      0%      Default |\n",
      "|                               |                      |                  N/A |\n",
      "+-------------------------------+----------------------+----------------------+\n",
      "                                                                               \n",
      "+-----------------------------------------------------------------------------+\n",
      "| Processes:                                                                  |\n",
      "|  GPU   GI   CI        PID   Type   Process name                  GPU Memory |\n",
      "|        ID   ID                                                   Usage      |\n",
      "|=============================================================================|\n",
      "|  No running processes found                                                 |\n",
      "+-----------------------------------------------------------------------------+\n"
     ]
    }
   ],
   "source": [
    "!nvidia-smi"
   ]
  },
  {
   "cell_type": "markdown",
   "metadata": {},
   "source": [
    "First, we grab matplotlib, and set the old \"classic\" style for some reason only Rui knows."
   ]
  },
  {
   "cell_type": "code",
   "execution_count": 2,
   "metadata": {},
   "outputs": [],
   "source": [
    "import matplotlib.pyplot as plt\n",
    "import matplotlib as mpl\n",
    "mpl.style.use('classic')"
   ]
  },
  {
   "cell_type": "code",
   "execution_count": 3,
   "metadata": {},
   "outputs": [],
   "source": [
    "import numpy as np\n",
    "import torch"
   ]
  },
  {
   "cell_type": "markdown",
   "metadata": {},
   "source": [
    "These are the local imports. Make sure you import the correct model!"
   ]
  },
  {
   "cell_type": "code",
   "execution_count": 4,
   "metadata": {},
   "outputs": [],
   "source": [
    "from model.models import AltCNN4Layer_D35_sp as Model\n",
    "from model.collectdata import collect_data, collect_truth\n",
    "from model.training import select_gpu\n",
    "from model.plots import plot_ruiplot\n",
    "from model.efficiency import pv_locations, efficiency\n",
    "from model.core import modernize_state"
   ]
  },
  {
   "cell_type": "markdown",
   "metadata": {},
   "source": [
    "Select a GPU here. Same numbering as the NVidia-SMI tool."
   ]
  },
  {
   "cell_type": "code",
   "execution_count": 5,
   "metadata": {},
   "outputs": [],
   "source": [
    "device = select_gpu(-1)"
   ]
  },
  {
   "cell_type": "markdown",
   "metadata": {},
   "source": [
    "Pick a file to load."
   ]
  },
  {
   "cell_type": "code",
   "execution_count": 6,
   "metadata": {},
   "outputs": [
    {
     "name": "stdout",
     "output_type": "stream",
     "text": [
      "Loading data...\n",
      "Loaded /share/lazy/sokoloff/ML-data_AA/1K_POCA_HLT1CPU_poca_kernel_evts_201022.h5 in 0.08078 s\n",
      "Constructing 100 event dataset took 0.005011 s\n"
     ]
    }
   ],
   "source": [
    "file = '/share/lazy/sokoloff/ML-data_AA/1K_POCA_HLT1CPU_poca_kernel_evts_201022.h5'\n",
    "validation = collect_data(file,\n",
    "                          batch_size=1,\n",
    "                          slice=slice(100),\n",
    "                          masking=True,\n",
    "                          device=device)"
   ]
  },
  {
   "cell_type": "code",
   "execution_count": 7,
   "metadata": {},
   "outputs": [],
   "source": [
    "import h5py\n",
    "XY_file = file\n",
    "\n",
    "with h5py.File(XY_file, mode='r') as XY:\n",
    "    xmax = np.asarray(XY['Xmax'])\n",
    "    ymax = np.asarray(XY['Ymax'])"
   ]
  },
  {
   "cell_type": "markdown",
   "metadata": {},
   "source": [
    "> Note: to get the real PV locations, use `collect_truth('file.h5', pvs=True)` to collect PVs (or SVs with `pvs=False`)"
   ]
  },
  {
   "cell_type": "markdown",
   "metadata": {},
   "source": [
    "Let's just see how many NaNs we have in the dataset."
   ]
  },
  {
   "cell_type": "code",
   "execution_count": 8,
   "metadata": {},
   "outputs": [
    {
     "name": "stdout",
     "output_type": "stream",
     "text": [
      "6 6 13 6 24 34 12 24 12 11 24 12 6 6 0 6 0 6 11 0 23 11 6 18 6 6 6 12 12 17 12 6 12 17 17 23 12 0 12 23 24 6 12 34 12 9 24 23 5 0 6 12 6 12 18 30 12 36 18 6 0 16 23 6 18 12 6 18 5 6 24 0 6 23 18 18 0 12 6 35 30 6 12 6 24 6 18 12 12 18 11 6 6 6 18 6 12 24 18 16\n"
     ]
    }
   ],
   "source": [
    "print(*np.sum(np.isnan(validation.dataset.tensors[1].cpu().numpy()), 1))"
   ]
  },
  {
   "cell_type": "code",
   "execution_count": 9,
   "metadata": {},
   "outputs": [
    {
     "name": "stdout",
     "output_type": "stream",
     "text": [
      "Loaded /share/lazy/sokoloff/ML-data_AA/1K_POCA_HLT1CPU_poca_kernel_evts_201022.h5 in 0.009918 s\n",
      "PV.n.shape =     (512,)\n",
      "PV.n[0].shape =  8\n",
      "PV.x[0] =        0.0304 -0.0165 -0.0365 -0.0144 -0.0121 0.0287 0.011 0.025\n",
      "PV.y[0] =        -0.0098 -0.0196 -0.0109 0.0085 -0.0368 0.0152 -0.02 -0.0642\n",
      "PV.z[0] =        15.7673 -72.0684 -34.512 49.1347 -62.7178 15.32 120.1546 14.7535\n",
      "PV.n[0] =        122 15 37 0 25 65 33 93\n",
      "PV.cat[0] =      1 1 1 -1 1 1 1 1\n"
     ]
    }
   ],
   "source": [
    "PV = collect_truth(file, pvs=True)\n",
    "print('PV.n.shape =    ',  PV.n.shape)\n",
    "print('PV.n[0].shape = ', *PV.n[0].shape)\n",
    "print('PV.x[0] =       ', *PV.x[0])\n",
    "print('PV.y[0] =       ', *PV.y[0])\n",
    "print('PV.z[0] =       ', *PV.z[0])\n",
    "print('PV.n[0] =       ', *PV.n[0])\n",
    "print('PV.cat[0] =     ', *PV.cat[0])"
   ]
  },
  {
   "cell_type": "code",
   "execution_count": 10,
   "metadata": {},
   "outputs": [],
   "source": [
    "import h5py, awkward"
   ]
  },
  {
   "cell_type": "code",
   "execution_count": 11,
   "metadata": {},
   "outputs": [
    {
     "name": "stdout",
     "output_type": "stream",
     "text": [
      "<class 'awkward.array.jagged.JaggedArray'>\n"
     ]
    }
   ],
   "source": [
    "x_list = []\n",
    "y_list = []\n",
    "z_list = []\n",
    "n_list = []\n",
    "c_list = []\n",
    "\n",
    "p = 'p'\n",
    "\n",
    "with h5py.File(file, mode='r') as XY:\n",
    "    afile = awkward.persist.hdf5(XY)\n",
    "    x_list.append(afile[f\"{p}v_loc_x\"])\n",
    "    y_list.append(afile[f\"{p}v_loc_y\"])\n",
    "    z_list.append(afile[f\"{p}v_loc\"])\n",
    "    n_list.append(afile[f\"{p}v_ntracks\"])\n",
    "    c_list.append(afile[f\"{p}v_cat\"])\n",
    "\n",
    "print(x_list[0].JaggedArray)"
   ]
  },
  {
   "cell_type": "code",
   "execution_count": 12,
   "metadata": {},
   "outputs": [
    {
     "name": "stdout",
     "output_type": "stream",
     "text": [
      "<class 'awkward.array.jagged.JaggedArray'>\n"
     ]
    }
   ],
   "source": [
    "import awkward, h5py, numpy as np\n",
    "\n",
    "simple = awkward.JaggedArray.fromcounts([2,3], [1.,2,3,4,5])\n",
    "\n",
    "with h5py.File('example.h5', mode='w') as f:\n",
    "    af = awkward.persist.hdf5(f)\n",
    "    af['example'] = simple\n",
    "    \n",
    "with h5py.File('example.h5', mode='r') as f:\n",
    "    af = awkward.persist.hdf5(f)\n",
    "    example = af['example']\n",
    "    \n",
    "print(example.JaggedArray)"
   ]
  },
  {
   "cell_type": "code",
   "execution_count": 13,
   "metadata": {},
   "outputs": [
    {
     "name": "stderr",
     "output_type": "stream",
     "text": [
      "/apps/miniconda3/envs/june2020-gpu/lib/python3.7/site-packages/ipykernel_launcher.py:2: H5pyDeprecationWarning: dataset.value has been deprecated. Use dataset[()] instead.\n",
      "  \n"
     ]
    }
   ],
   "source": [
    "with h5py.File(file, mode='r') as XY:\n",
    "    schema = XY['pv_loc_x']['schema.json'].value"
   ]
  },
  {
   "cell_type": "code",
   "execution_count": 14,
   "metadata": {},
   "outputs": [
    {
     "name": "stdout",
     "output_type": "stream",
     "text": [
      "b'{\"awkward\": \"0.12.21\", \"schema\": {\"call\": [\"awkward\", \"JaggedArray\", \"fromcounts\"], \"args\": [{\"call\": [\"awkward\", \"numpy\", \"frombuffer\"], \"args\": [{\"read\": \"1\"}, {\"dtype\": \"int64\"}, {\"json\": 512, \"id\": 2}], \"id\": 1}, {\"call\": [\"awkward\", \"numpy\", \"frombuffer\"], \"args\": [{\"read\": \"3\"}, {\"dtype\": \"float64\"}, {\"json\": 4158, \"id\": 4}], \"id\": 3}], \"id\": 0}, \"prefix\": \"pv_loc_x/\"}'\n"
     ]
    }
   ],
   "source": [
    "print(np.string_(schema))"
   ]
  },
  {
   "cell_type": "code",
   "execution_count": 15,
   "metadata": {},
   "outputs": [
    {
     "data": {
      "text/plain": [
       "179"
      ]
     },
     "execution_count": 15,
     "metadata": {},
     "output_type": "execute_result"
    }
   ],
   "source": [
    "PV.n.flatten().max()"
   ]
  },
  {
   "cell_type": "code",
   "execution_count": 16,
   "metadata": {},
   "outputs": [],
   "source": [
    "import awkward"
   ]
  },
  {
   "cell_type": "code",
   "execution_count": 17,
   "metadata": {},
   "outputs": [
    {
     "data": {
      "text/plain": [
       "<JaggedArray [[0.0304 -0.0165 -0.0365 ... 0.0287 0.011 0.025] [0.0217 -0.039 -0.0206 ... 0.0109 -0.0289 -0.0127] [0.0125 0.0199 -0.0479 ... -0.0115 -0.017 -0.014] ... [-0.0099 0.0291 0.0198 ... 0.0463 -0.0629 -0.0195] [0.0193 -0.0204 0.0094 ... 0.0346 -0.0129 -0.0326] [-0.0188 0.0217 -0.0079 ... -0.0048 -0.0282 -0.0267]] at 0x7f9caac73d50>"
      ]
     },
     "execution_count": 17,
     "metadata": {},
     "output_type": "execute_result"
    }
   ],
   "source": [
    "PV.x"
   ]
  },
  {
   "cell_type": "code",
   "execution_count": 18,
   "metadata": {},
   "outputs": [
    {
     "data": {
      "text/plain": [
       "array([ 1,  1,  1, -1,  1,  1,  1,  1], dtype=int8)"
      ]
     },
     "execution_count": 18,
     "metadata": {},
     "output_type": "execute_result"
    }
   ],
   "source": [
    "PV.cat[0]"
   ]
  },
  {
   "cell_type": "code",
   "execution_count": 19,
   "metadata": {},
   "outputs": [
    {
     "name": "stdout",
     "output_type": "stream",
     "text": [
      "Loaded /share/lazy/sokoloff/ML-data_AA/1K_POCA_HLT1CPU_poca_kernel_evts_201022.h5 in 0.0201 s\n",
      "SV.n.shape =     (512,)\n",
      "SV.n[0].shape =  238\n",
      "SV.x[0] =        0.0304 0.0304 0.0304 0.0304 0.0304 0.0304 0.0304 0.0304 0.0304 0.0304 0.0304 0.0304 0.0304 0.0304 0.0304 0.0304 0.0304 0.0304 0.0304 0.0304 0.0304 0.0304 0.0304 0.0304 0.0304 0.0304 0.0304 0.0304 0.0304 0.0304 0.0304 0.0304 0.0304 0.0304 0.0304 0.0304 0.0304 0.0304 0.0304 0.0304 0.0304 0.0304 0.0304 0.0304 0.0304 0.0304 0.0304 0.0304 0.0304 0.0304 0.0304 0.0304 0.0304 0.0304 0.0304 0.0304 -0.0165 -0.0165 -0.0165 -0.0165 -0.0165 -0.0165 -0.0165 -0.0165 -0.0365 -0.0365 -0.0365 -0.0365 -0.0365 -0.0365 -0.0365 -0.0365 -0.0365 -0.0365 -0.0365 -0.0365 -0.0365 -0.0365 -0.0365 -0.0365 -0.0365 -0.0365 -0.0365 -0.0365 -0.0121 -0.0121 -0.0121 -0.0121 -0.0121 -0.0232 -0.0121 -0.0121 -0.0121 -0.0121 -0.0121 -0.0121 -0.0121 0.0287 0.0287 0.0287 0.0287 0.0287 0.0287 0.0287 0.0287 0.0287 0.0287 0.0287 0.0287 0.0287 0.0287 0.0287 0.0287 0.0287 0.0287 0.0287 0.0287 0.0287 0.0287 0.0287 0.0287 0.0287 0.0287 0.0287 0.0287 0.0287 0.0287 0.0287 0.011 0.011 0.011 0.011 0.011 0.011 0.011 0.011 0.011 0.011 0.011 0.011 0.011 0.011 0.025 0.025 0.025 0.025 0.025 0.025 0.025 0.025 0.025 0.025 0.025 0.025 0.025 0.025 0.025 0.025 0.025 0.025 0.025 0.025 0.025 0.025 0.025 0.025 0.025 0.025 0.025 0.025 0.025 0.025 0.025 0.025 0.025 0.025 0.025 0.025 0.025 0.025 0.025 0.025 0.025 0.025 0.025 0.025 0.025 0.025 0.025 0.025 0.025 -3.0048 11.9451 -3.6383 6.4184 10.2766 8.8459 0.058 4.9778 3.8154 7.2374 14.7227 4.6987 1.523 7.2629 -2.8935 -5.1579 -7.2933 -0.8318 -3.1287 7.8765 4.7202 6.3731 5.2501 2.6322 11.5261 -6.0823 10.8167 -0.0232 0.2803 6.4494 7.7854 2.0665 -7.142 4.6175 -2.4246 5.4047 -7.105 -3.3745 0.0126 -10.1991 0.0371 5.0893 3.9722 17.1327 -11.2214 -0.005 3.4505\n",
      "SV.y[0] =        -0.0098 -0.0098 -0.0098 -0.0098 -0.0098 -0.0098 -0.0098 -0.0098 -0.0098 -0.0098 -0.0098 -0.0098 -0.0098 -0.0098 -0.0098 -0.0098 -0.0098 -0.0098 -0.0098 -0.0098 -0.0098 -0.0098 -0.0098 -0.0098 -0.0098 -0.0098 -0.0098 -0.0098 -0.0098 -0.0098 -0.0098 -0.0098 -0.0098 -0.0098 -0.0098 -0.0098 -0.0098 -0.0098 -0.0098 -0.0098 -0.0098 -0.0098 -0.0098 -0.0098 -0.0098 -0.0098 -0.0098 -0.0098 -0.0098 -0.0098 -0.0098 -0.0098 -0.0098 -0.0098 -0.0098 -0.0098 -0.0196 -0.0196 -0.0196 -0.0196 -0.0196 -0.0196 -0.0196 -0.0196 -0.0109 -0.0109 -0.0109 -0.0109 -0.0109 -0.0109 -0.0109 -0.0109 -0.0109 -0.0109 -0.0109 -0.0109 -0.0109 -0.0109 -0.0109 -0.0109 -0.0109 -0.0109 -0.0109 -0.0109 -0.0368 -0.0368 -0.0368 -0.0368 -0.0368 0.0608 -0.0368 -0.0368 -0.0368 -0.0368 -0.0368 -0.0368 -0.0368 0.0152 0.0152 0.0152 0.0152 0.0152 0.0152 0.0152 0.0152 0.0152 0.0152 0.0152 0.0152 0.0152 0.0152 0.0152 0.0152 0.0152 0.0152 0.0152 0.0152 0.0152 0.0152 0.0152 0.0152 0.0152 0.0152 0.0152 0.0152 0.0152 0.0152 0.0152 -0.02 -0.02 -0.02 -0.02 -0.02 -0.02 -0.02 -0.02 -0.02 -0.02 -0.02 -0.02 -0.02 -0.02 -0.0642 -0.0642 -0.0642 -0.0642 -0.0642 -0.0642 -0.0642 -0.0642 -0.0642 -0.0642 -0.0642 -0.0642 -0.0642 -0.0642 -0.0642 -0.0642 -0.0642 -0.0642 -0.0642 -0.0642 -0.0642 -0.0642 -0.0642 -0.0642 -0.0642 -0.0642 -0.0642 -0.0642 -0.0642 -0.0642 -0.0642 -0.0642 -0.0642 -0.0642 -0.0642 -0.0642 -0.0642 -0.0642 -0.0642 -0.0642 -0.0642 -0.0642 -0.0642 -0.0642 -0.0642 -0.0642 -0.0642 -0.0642 -0.0642 1.0158 2.0633 17.6504 -0.3135 19.0101 -10.9052 -0.0812 -5.9303 -0.1644 -0.4261 0.4764 -1.3334 3.7115 3.041 -8.4415 -14.9659 7.1566 2.9639 -5.0088 15.3978 4.2253 -4.2983 13.3676 -16.8029 3.7457 -7.2816 -25.1455 0.0608 0.1738 2.0667 -9.5153 -3.8677 4.2582 -4.8121 -6.7427 -3.0034 21.386 1.7787 -0.1568 22.7501 -6.5452 -4.6212 -2.0308 17.9586 18.9706 0.0781 -7.3082\n",
      "SV.z[0] =        15.7673 15.7673 15.7673 15.7673 15.7673 15.7673 15.7673 15.7673 15.7673 15.7673 15.7673 15.7673 15.7673 15.7673 15.7673 15.7673 15.7673 15.7673 15.7673 15.7673 15.7673 15.7673 15.7673 15.7673 15.7673 15.7673 15.7673 15.7673 15.7673 15.7673 15.7673 15.7673 15.7673 15.7673 15.7673 15.7673 15.7673 15.7673 15.7673 15.7673 15.7673 15.7673 15.7673 15.7673 15.7673 15.7673 15.7673 15.7673 15.7673 15.7673 15.7673 15.7673 15.7673 15.7673 15.7673 15.7673 -72.0684 -72.0684 -72.0684 -72.0684 -72.0684 -72.0684 -72.0684 -72.0684 -34.512 -34.512 -34.512 -34.512 -34.512 -34.512 -34.512 -34.512 -34.512 -34.512 -34.512 -34.512 -34.512 -34.512 -34.512 -34.512 -34.512 -34.512 -34.512 -34.512 -62.7178 -62.7178 -62.7178 -62.7178 -62.7178 -65.6716 -62.7178 -62.7178 -62.7178 -62.7178 -62.7178 -62.7178 -62.7178 15.32 15.32 15.32 15.32 15.32 15.32 15.32 15.32 15.32 15.32 15.32 15.32 15.32 15.32 15.32 15.32 15.32 15.32 15.32 15.32 15.32 15.32 15.32 15.32 15.32 15.32 15.32 15.32 15.32 15.32 15.32 120.1546 120.1546 120.1546 120.1546 120.1546 120.1546 120.1546 120.1546 120.1546 120.1546 120.1546 120.1546 120.1546 120.1546 14.7535 14.7535 14.7535 14.7535 14.7535 14.7535 14.7535 14.7535 14.7535 14.7535 14.7535 14.7535 14.7535 14.7535 14.7535 14.7535 14.7535 14.7535 14.7535 14.7535 14.7535 14.7535 14.7535 14.7535 14.7535 14.7535 14.7535 14.7535 14.7535 14.7535 14.7535 14.7535 14.7535 14.7535 14.7535 14.7535 14.7535 14.7535 14.7535 14.7535 14.7535 14.7535 14.7535 14.7535 14.7535 14.7535 14.7535 14.7535 14.7535 143.6152 384.4822 313.2525 51.652 74.9503 -148.3405 14.8044 137.407 82.4421 146.2262 242.0553 332.2233 398.5007 203.4165 111.9562 187.6144 101.8663 -62.6007 65.0 649.4719 -0.2981 -46.2913 275.1594 319.8516 400.2963 481.1338 572.0176 -65.6716 -70.058 21.3076 378.5678 26.3883 -83.0562 70.5307 150.8414 252.259 256.2029 112.261 9.6189 -245.114 485.3847 100.4298 145.9581 11.4781 -125.6113 15.0373 -221.5403\n",
      "SV.n[0] =        1 7 1 2 1 1 2 1 2 1 1 1 2 1 2 2 1 2 1 2 1 1 1 1 1 1 1 2 1 1 2 1 7 1 1 1 1 2 2 2 1 1 1 1 1 1 2 1 2 1 1 1 1 1 1 3 1 1 1 2 1 2 1 1 1 2 1 1 2 1 2 1 1 1 1 1 1 1 1 1 1 2 2 1 1 5 2 1 1 2 1 2 2 2 1 2 2 2 1 2 1 2 2 2 1 2 2 2 1 1 1 1 2 2 1 1 1 1 1 1 2 1 1 1 1 1 2 1 1 1 2 1 2 1 1 1 2 1 1 1 1 2 1 1 2 2 1 1 1 1 1 1 1 2 2 2 1 2 2 1 2 1 1 2 2 2 1 2 2 1 1 2 1 1 2 1 2 1 2 1 2 1 1 2 2 2 1 1 1 2 2 2 1 2 2 2 2 1 1 1 6 2 1 2 1 2 1 2 1 2 1 1 2 2 2 2 2 1 3 2 2 2 2 1 1 1 2 2 2 1 1 2 2 1 1 3 1 1\n",
      "SV.cat[0] =      0 1 0 1 0 0 1 0 1 0 0 0 1 0 1 1 0 1 0 1 0 0 0 0 0 0 0 1 0 0 1 0 1 0 0 0 0 1 1 1 0 0 0 0 0 0 1 0 1 0 0 0 0 0 0 1 0 0 0 1 0 1 0 0 0 1 0 0 1 0 1 0 0 0 0 0 0 0 0 0 0 1 1 0 0 1 1 0 0 1 0 1 1 1 0 1 1 1 0 1 0 1 1 1 0 1 1 1 0 0 0 0 1 1 0 0 0 0 0 0 1 0 0 0 0 0 1 0 0 0 1 0 1 0 0 0 1 0 0 0 0 1 0 0 1 1 0 0 0 0 0 0 0 1 1 1 0 1 1 0 1 0 0 1 1 1 0 1 1 0 0 1 0 0 1 0 1 0 1 0 1 0 0 1 1 1 0 0 0 1 1 1 0 1 1 1 1 0 0 0 1 1 0 1 0 1 0 1 0 1 0 0 1 1 1 1 1 0 1 1 1 1 1 0 0 0 1 1 1 0 0 1 1 0 0 1 0 0\n"
     ]
    }
   ],
   "source": [
    "SV = collect_truth(file, pvs=False)\n",
    "print('SV.n.shape =    ', SV.n.shape)\n",
    "print('SV.n[0].shape = ', *SV.n[0].shape)\n",
    "print('SV.x[0] =       ', *SV.x[0])\n",
    "print('SV.y[0] =       ', *SV.y[0])\n",
    "print('SV.z[0] =       ', *SV.z[0])\n",
    "print('SV.n[0] =       ', *SV.n[0])\n",
    "print('SV.cat[0] =     ', *SV.cat[0])"
   ]
  },
  {
   "cell_type": "code",
   "execution_count": 20,
   "metadata": {},
   "outputs": [],
   "source": [
    "model = Model().to(device)"
   ]
  },
  {
   "cell_type": "markdown",
   "metadata": {},
   "source": [
    "Select a model to load. Make sure it matches the model you imported above."
   ]
  },
  {
   "cell_type": "markdown",
   "metadata": {},
   "source": [
    "> #### Mike note:\n",
    ">\n",
    "> If you use an old-style model, comment out the `d = modernize(d, 3)` line - that converts the old model key names to the new format."
   ]
  },
  {
   "cell_type": "code",
   "execution_count": 21,
   "metadata": {},
   "outputs": [],
   "source": [
    "state = torch.load(\n",
    "    '/share/lazy/schreihf/PvFinder/models/'\n",
    "    '07Jan19_AltCNN4Layer_D35_sp_300epochs'\n",
    "    '_240K_lr_3em5_bs256_Alt_Loss_A_5p5/'\n",
    "    '07Jan19_AltCNN4Layer_D35_sp_300epochs'\n",
    "    '_240K_lr_3em5_bs256_Alt_Loss_A_5p5_199.pyt',\n",
    "    map_location=torch.device('cpu')\n",
    ")"
   ]
  },
  {
   "cell_type": "code",
   "execution_count": 22,
   "metadata": {},
   "outputs": [],
   "source": [
    "del state['fc1.weight'], state['fc1.bias']"
   ]
  },
  {
   "cell_type": "code",
   "execution_count": 23,
   "metadata": {},
   "outputs": [],
   "source": [
    "state = modernize_state(model, state)"
   ]
  },
  {
   "cell_type": "code",
   "execution_count": 24,
   "metadata": {},
   "outputs": [
    {
     "data": {
      "text/plain": [
       "AltCNN4Layer_D35_sp(\n",
       "  (features): Sequential(\n",
       "    (0): Conv1d(1, 25, kernel_size=(25,), stride=(1,), padding=(12,))\n",
       "    (1): LeakyReLU(negative_slope=0.01)\n",
       "    (2): Dropout(p=0.05, inplace=False)\n",
       "    (3): Conv1d(25, 25, kernel_size=(15,), stride=(1,), padding=(7,))\n",
       "    (4): LeakyReLU(negative_slope=0.01)\n",
       "    (5): Dropout(p=0.05, inplace=False)\n",
       "    (6): Conv1d(25, 25, kernel_size=(15,), stride=(1,), padding=(7,))\n",
       "    (7): LeakyReLU(negative_slope=0.01)\n",
       "    (8): Dropout(p=0.05, inplace=False)\n",
       "    (9): Conv1d(25, 1, kernel_size=(5,), stride=(1,), padding=(2,))\n",
       "    (10): LeakyReLU(negative_slope=0.01)\n",
       "    (11): Dropout(p=0.05, inplace=False)\n",
       "    (12): Conv1d(1, 1, kernel_size=(91,), stride=(1,), padding=(45,))\n",
       "    (13): Softplus(beta=1, threshold=20)\n",
       "  )\n",
       ")"
      ]
     },
     "execution_count": 24,
     "metadata": {},
     "output_type": "execute_result"
    }
   ],
   "source": [
    "\n",
    "model.load_state_dict(state)\n",
    "model.eval()"
   ]
  },
  {
   "cell_type": "markdown",
   "metadata": {},
   "source": [
    "Let's grab the outputs and labels as normal numpy arrays."
   ]
  },
  {
   "cell_type": "code",
   "execution_count": 25,
   "metadata": {},
   "outputs": [
    {
     "name": "stdout",
     "output_type": "stream",
     "text": [
      "CPU times: user 3min 2s, sys: 2.75 s, total: 3min 5s\n",
      "Wall time: 3.32 s\n"
     ]
    }
   ],
   "source": [
    "%%time\n",
    "with torch.no_grad():\n",
    "    outputs = model(validation.dataset.tensors[0]).cpu().numpy()\n",
    "    labels = validation.dataset.tensors[1].cpu().numpy()"
   ]
  },
  {
   "cell_type": "code",
   "execution_count": 26,
   "metadata": {},
   "outputs": [],
   "source": [
    "# fontdict = {\n",
    "#     'font.size':18,\n",
    "#     'font.weight':'bold'\n",
    "# }"
   ]
  },
  {
   "cell_type": "markdown",
   "metadata": {},
   "source": [
    "And here's Rui's plotting code."
   ]
  },
  {
   "cell_type": "code",
   "execution_count": 27,
   "metadata": {},
   "outputs": [
    {
     "name": "stdout",
     "output_type": "stream",
     "text": [
      "nitems:  7\n",
      "nitems:  6\n",
      "nitems:  7\n",
      "nitems:  6\n",
      "\n",
      "Event 0: Found 7 of 7, added 0 (eff 100.00%)\n",
      "nitems:  8\n",
      "nitems:  8\n",
      "nitems:  8\n",
      "nitems:  8\n",
      "\n",
      "Event 1: Found 7 of 8, added 1 (eff 87.50%)\n",
      "\n",
      "Event 1.2:\n",
      "\n",
      "PV: 7 tracks (type 1)\n",
      "  x:    22 μm\n",
      "  y:   -32 μm\n",
      "  z:  -61.003 mm\n",
      "\n",
      "SV: 1 tracks (type 0)\n",
      "  x:    22 μm\n",
      "  y:   -32 μm\n",
      "  z:  -61.003 mm\n",
      "\n",
      "SV: 1 tracks (type 0)\n",
      "  x:    22 μm\n",
      "  y:   -32 μm\n",
      "  z:  -61.003 mm\n",
      "\n",
      "SV: 1 tracks (type 0)\n",
      "  x:    22 μm\n",
      "  y:   -32 μm\n",
      "  z:  -61.003 mm\n",
      "\n",
      "SV: 1 tracks (type 0)\n",
      "  x:    22 μm\n",
      "  y:   -32 μm\n",
      "  z:  -61.003 mm\n",
      "\n",
      "SV: 1 tracks (type 0)\n",
      "  x:    22 μm\n",
      "  y:   -32 μm\n",
      "  z:  -61.003 mm\n",
      "\n",
      "07Jan19_AltCNN4Layer_D35_sp_00.pdf\n"
     ]
    },
    {
     "data": {
      "image/png": "[encoded data removed]",
      "text/plain": [
       "<Figure size 960x800 with 3 Axes>"
      ]
     },
     "metadata": {},
     "output_type": "display_data"
    },
    {
     "name": "stdout",
     "output_type": "stream",
     "text": [
      "nitems:  5\n",
      "nitems:  5\n",
      "nitems:  5\n",
      "nitems:  5\n",
      "\n",
      "Event 2: Found 5 of 5, added 0 (eff 100.00%)\n",
      "nitems:  2\n",
      "nitems:  2\n",
      "nitems:  2\n",
      "nitems:  2\n",
      "\n",
      "Event 3: Found 2 of 2, added 0 (eff 100.00%)\n",
      "nitems:  6\n",
      "nitems:  6\n",
      "nitems:  6\n",
      "nitems:  6\n",
      "\n",
      "Event 4: Found 6 of 6, added 0 (eff 100.00%)\n",
      "nitems:  9\n",
      "nitems:  9\n",
      "nitems:  9\n",
      "nitems:  9\n",
      "\n",
      "Event 5: Found 9 of 9, added 0 (eff 100.00%)\n",
      "nitems:  7\n",
      "nitems:  7\n",
      "nitems:  7\n",
      "nitems:  7\n",
      "\n",
      "Event 6: Found 7 of 7, added 0 (eff 100.00%)\n",
      "nitems:  8\n",
      "nitems:  8\n",
      "nitems:  8\n",
      "nitems:  8\n",
      "\n",
      "Event 7: Found 8 of 8, added 0 (eff 100.00%)\n",
      "nitems:  7\n",
      "nitems:  5\n",
      "nitems:  7\n",
      "nitems:  5\n",
      "\n",
      "Event 8: Found 5 of 7, added 0 (eff 71.43%)\n",
      "nitems:  2\n",
      "nitems:  2\n",
      "nitems:  2\n",
      "nitems:  2\n",
      "\n",
      "Event 9: Found 2 of 2, added 0 (eff 100.00%)\n",
      "nitems:  7\n",
      "nitems:  7\n",
      "nitems:  7\n",
      "nitems:  7\n",
      "\n",
      "Event 10: Found 7 of 7, added 0 (eff 100.00%)\n",
      "nitems:  4\n",
      "nitems:  4\n",
      "nitems:  4\n",
      "nitems:  4\n",
      "\n",
      "Event 11: Found 4 of 4, added 0 (eff 100.00%)\n",
      "nitems:  7\n",
      "nitems:  7\n",
      "nitems:  7\n",
      "nitems:  7\n",
      "\n",
      "Event 12: Found 7 of 7, added 0 (eff 100.00%)\n",
      "nitems:  2\n",
      "nitems:  2\n",
      "nitems:  2\n",
      "nitems:  2\n",
      "\n",
      "Event 13: Found 2 of 2, added 0 (eff 100.00%)\n",
      "nitems:  9\n",
      "nitems:  8\n",
      "nitems:  9\n",
      "nitems:  8\n",
      "\n",
      "Event 14: Found 8 of 9, added 0 (eff 88.89%)\n",
      "nitems:  3\n",
      "nitems:  4\n",
      "nitems:  3\n",
      "nitems:  4\n",
      "\n",
      "Event 15: Found 3 of 3, added 1 (eff 100.00%)\n",
      "\n",
      "Event 15.0:\n",
      "\n",
      "PV: 102 tracks (type 1)\n",
      "  x:    27 μm\n",
      "  y:    43 μm\n",
      "  z:   -5.786 mm\n",
      "\n",
      "SV: 2 tracks (type 1)\n",
      "  x:  -259 μm\n",
      "  y:   520 μm\n",
      "  z:   -6.801 mm\n",
      "\n",
      "SV: 1 tracks (type 0)\n",
      "  x:    27 μm\n",
      "  y:    43 μm\n",
      "  z:   -5.786 mm\n",
      "\n",
      "SV: 1 tracks (type 0)\n",
      "  x:    27 μm\n",
      "  y:    43 μm\n",
      "  z:   -5.786 mm\n",
      "\n",
      "SV: 1 tracks (type 0)\n",
      "  x:    27 μm\n",
      "  y:    43 μm\n",
      "  z:   -5.786 mm\n",
      "\n",
      "SV: 2 tracks (type 1)\n",
      "  x:    27 μm\n",
      "  y:    43 μm\n",
      "  z:   -5.786 mm\n",
      "\n",
      "SV: 1 tracks (type 0)\n",
      "  x:    27 μm\n",
      "  y:    43 μm\n",
      "  z:   -5.786 mm\n",
      "\n",
      "SV: 2 tracks (type 1)\n",
      "  x:    27 μm\n",
      "  y:    43 μm\n",
      "  z:   -5.786 mm\n",
      "\n",
      "SV: 1 tracks (type 0)\n",
      "  x:    27 μm\n",
      "  y:    43 μm\n",
      "  z:   -5.786 mm\n",
      "\n",
      "SV: 1 tracks (type 0)\n",
      "  x:    27 μm\n",
      "  y:    43 μm\n",
      "  z:   -5.786 mm\n",
      "\n",
      "SV: 1 tracks (type 0)\n",
      "  x:    27 μm\n",
      "  y:    43 μm\n",
      "  z:   -5.786 mm\n",
      "\n",
      "SV: 1 tracks (type 0)\n",
      "  x:    27 μm\n",
      "  y:    43 μm\n",
      "  z:   -5.786 mm\n",
      "\n",
      "SV: 1 tracks (type 0)\n",
      "  x:    27 μm\n",
      "  y:    43 μm\n",
      "  z:   -5.786 mm\n",
      "\n",
      "SV: 1 tracks (type 0)\n",
      "  x:    27 μm\n",
      "  y:    43 μm\n",
      "  z:   -5.786 mm\n",
      "\n",
      "SV: 1 tracks (type 0)\n",
      "  x:    27 μm\n",
      "  y:    43 μm\n",
      "  z:   -5.786 mm\n",
      "\n",
      "SV: 1 tracks (type 0)\n",
      "  x:    27 μm\n",
      "  y:    43 μm\n",
      "  z:   -5.786 mm\n",
      "\n",
      "SV: 2 tracks (type 1)\n",
      "  x:    27 μm\n",
      "  y:    43 μm\n",
      "  z:   -5.786 mm\n",
      "\n",
      "SV: 1 tracks (type 0)\n",
      "  x:    27 μm\n",
      "  y:    43 μm\n",
      "  z:   -5.786 mm\n",
      "\n",
      "SV: 1 tracks (type 0)\n",
      "  x:    27 μm\n",
      "  y:    43 μm\n",
      "  z:   -5.786 mm\n",
      "\n",
      "SV: 1 tracks (type 0)\n",
      "  x:    27 μm\n",
      "  y:    43 μm\n",
      "  z:   -5.786 mm\n",
      "\n",
      "SV: 1 tracks (type 0)\n",
      "  x:    27 μm\n",
      "  y:    43 μm\n",
      "  z:   -5.786 mm\n",
      "\n",
      "SV: 2 tracks (type 1)\n",
      "  x:    27 μm\n",
      "  y:    43 μm\n",
      "  z:   -5.786 mm\n",
      "\n",
      "SV: 2 tracks (type 1)\n",
      "  x:    27 μm\n",
      "  y:    43 μm\n",
      "  z:   -5.786 mm\n",
      "\n",
      "SV: 2 tracks (type 1)\n",
      "  x:    27 μm\n",
      "  y:    43 μm\n",
      "  z:   -5.786 mm\n",
      "\n",
      "SV: 1 tracks (type 0)\n",
      "  x:    27 μm\n",
      "  y:    43 μm\n",
      "  z:   -5.786 mm\n",
      "\n",
      "SV: 2 tracks (type 1)\n",
      "  x:    27 μm\n",
      "  y:    43 μm\n",
      "  z:   -5.786 mm\n",
      "\n",
      "SV: 2 tracks (type 1)\n",
      "  x:    27 μm\n",
      "  y:    43 μm\n",
      "  z:   -5.786 mm\n",
      "\n",
      "SV: 2 tracks (type 1)\n",
      "  x:    27 μm\n",
      "  y:    43 μm\n",
      "  z:   -5.786 mm\n",
      "\n",
      "SV: 2 tracks (type 1)\n",
      "  x:    27 μm\n",
      "  y:    43 μm\n",
      "  z:   -5.786 mm\n",
      "\n",
      "SV: 2 tracks (type 1)\n",
      "  x:    27 μm\n",
      "  y:    43 μm\n",
      "  z:   -5.786 mm\n",
      "\n",
      "SV: 1 tracks (type 0)\n",
      "  x:    27 μm\n",
      "  y:    43 μm\n",
      "  z:   -5.786 mm\n",
      "\n",
      "SV: 2 tracks (type 1)\n",
      "  x:    27 μm\n",
      "  y:    43 μm\n",
      "  z:   -5.786 mm\n",
      "\n",
      "SV: 1 tracks (type 0)\n",
      "  x:    27 μm\n",
      "  y:    43 μm\n",
      "  z:   -5.786 mm\n",
      "\n",
      "SV: 1 tracks (type 0)\n",
      "  x:    27 μm\n",
      "  y:    43 μm\n",
      "  z:   -5.786 mm\n",
      "\n",
      "SV: 1 tracks (type 0)\n",
      "  x:    27 μm\n",
      "  y:    43 μm\n",
      "  z:   -5.786 mm\n",
      "\n",
      "SV: 1 tracks (type 0)\n",
      "  x:    27 μm\n",
      "  y:    43 μm\n",
      "  z:   -5.786 mm\n",
      "\n",
      "SV: 1 tracks (type 0)\n",
      "  x:    27 μm\n",
      "  y:    43 μm\n",
      "  z:   -5.786 mm\n",
      "\n",
      "SV: 2 tracks (type 1)\n",
      "  x:    27 μm\n",
      "  y:    43 μm\n",
      "  z:   -5.786 mm\n",
      "\n",
      "SV: 1 tracks (type 0)\n",
      "  x:    27 μm\n",
      "  y:    43 μm\n",
      "  z:   -5.786 mm\n",
      "\n",
      "SV: 2 tracks (type 1)\n",
      "  x:    27 μm\n",
      "  y:    43 μm\n",
      "  z:   -5.786 mm\n",
      "\n",
      "SV: 1 tracks (type 0)\n",
      "  x:    27 μm\n",
      "  y:    43 μm\n",
      "  z:   -5.786 mm\n",
      "\n",
      "SV: 1 tracks (type 0)\n",
      "  x:    27 μm\n",
      "  y:    43 μm\n",
      "  z:   -5.786 mm\n",
      "\n",
      "SV: 1 tracks (type 0)\n",
      "  x:    27 μm\n",
      "  y:    43 μm\n",
      "  z:   -5.786 mm\n",
      "\n",
      "SV: 1 tracks (type 0)\n",
      "  x:    27 μm\n",
      "  y:    43 μm\n",
      "  z:   -5.786 mm\n",
      "\n",
      "SV: 1 tracks (type 0)\n",
      "  x:    27 μm\n",
      "  y:    43 μm\n",
      "  z:   -5.786 mm\n",
      "\n",
      "SV: 2 tracks (type 1)\n",
      "  x:    27 μm\n",
      "  y:    43 μm\n",
      "  z:   -5.786 mm\n",
      "\n",
      "SV: 1 tracks (type 0)\n",
      "  x:    27 μm\n",
      "  y:    43 μm\n",
      "  z:   -5.786 mm\n",
      "\n",
      "SV: 1 tracks (type 0)\n",
      "  x:  -259 μm\n",
      "  y:   520 μm\n",
      "  z:   -6.801 mm\n",
      "\n",
      "07Jan19_AltCNN4Layer_D35_sp_01.pdf\n"
     ]
    },
    {
     "data": {
      "image/png": "[encoded data removed]",
      "text/plain": [
       "<Figure size 960x800 with 3 Axes>"
      ]
     },
     "metadata": {},
     "output_type": "display_data"
    },
    {
     "name": "stdout",
     "output_type": "stream",
     "text": [
      "nitems:  7\n",
      "nitems:  6\n",
      "nitems:  7\n",
      "nitems:  6\n",
      "\n",
      "Event 16: Found 6 of 7, added 0 (eff 85.71%)\n",
      "nitems:  7\n",
      "nitems:  7\n",
      "nitems:  7\n",
      "nitems:  7\n",
      "\n",
      "Event 17: Found 6 of 7, added 1 (eff 85.71%)\n"
     ]
    },
    {
     "ename": "ValueError",
     "evalue": "max() arg is an empty sequence",
     "output_type": "error",
     "traceback": [
      "\u001b[0;31m---------------------------------------------------------------------------\u001b[0m",
      "\u001b[0;31mValueError\u001b[0m                                Traceback (most recent call last)",
      "\u001b[0;32m<ipython-input-27-1771711f7192>\u001b[0m in \u001b[0;36m<module>\u001b[0;34m\u001b[0m\n\u001b[1;32m     64\u001b[0m             \u001b[0;31m# ax1 is the axis that is tied to left (density)\u001b[0m\u001b[0;34m\u001b[0m\u001b[0;34m\u001b[0m\u001b[0;34m\u001b[0m\u001b[0m\n\u001b[1;32m     65\u001b[0m             \u001b[0;31m# ax2 is the axis that is tied to the right (probability)\u001b[0m\u001b[0;34m\u001b[0m\u001b[0;34m\u001b[0m\u001b[0;34m\u001b[0m\u001b[0m\n\u001b[0;32m---> 66\u001b[0;31m             \u001b[0max1\u001b[0m\u001b[0;34m,\u001b[0m \u001b[0max2\u001b[0m \u001b[0;34m=\u001b[0m \u001b[0mplot_ruiplot\u001b[0m\u001b[0;34m(\u001b[0m\u001b[0mzvals\u001b[0m\u001b[0;34m,\u001b[0m \u001b[0mi\u001b[0m\u001b[0;34m,\u001b[0m \u001b[0minput\u001b[0m\u001b[0;34m,\u001b[0m \u001b[0mlabel\u001b[0m\u001b[0;34m,\u001b[0m \u001b[0moutput\u001b[0m\u001b[0;34m,\u001b[0m \u001b[0max\u001b[0m\u001b[0;34m=\u001b[0m\u001b[0maxs\u001b[0m\u001b[0;34m[\u001b[0m\u001b[0;36m0\u001b[0m\u001b[0;34m]\u001b[0m\u001b[0;34m)\u001b[0m\u001b[0;34m\u001b[0m\u001b[0;34m\u001b[0m\u001b[0m\n\u001b[0m\u001b[1;32m     67\u001b[0m             \u001b[0max1\u001b[0m\u001b[0;34m.\u001b[0m\u001b[0mset_title\u001b[0m\u001b[0;34m(\u001b[0m\u001b[0;34mf\"Event {event} @ {center:.1f} mm: {msg}\"\u001b[0m\u001b[0;34m)\u001b[0m\u001b[0;34m,\u001b[0m\u001b[0;34m\u001b[0m\u001b[0;34m\u001b[0m\u001b[0m\n\u001b[1;32m     68\u001b[0m                           \u001b[0;31m#fontdict=fontdict)\u001b[0m\u001b[0;34m\u001b[0m\u001b[0;34m\u001b[0m\u001b[0;34m\u001b[0m\u001b[0m\n",
      "\u001b[0;32m~/git/pv-finder/notebooks/model/plots.py\u001b[0m in \u001b[0;36mplot_ruiplot\u001b[0;34m(zvals, i, inputs, labels, outputs, width, ax, styles)\u001b[0m\n\u001b[1;32m     63\u001b[0m         \u001b[0max\u001b[0m\u001b[0;34m.\u001b[0m\u001b[0mlegend\u001b[0m\u001b[0;34m(\u001b[0m\u001b[0mloc\u001b[0m\u001b[0;34m=\u001b[0m\u001b[0;34m\"upper left\"\u001b[0m\u001b[0;34m)\u001b[0m\u001b[0;34m\u001b[0m\u001b[0;34m\u001b[0m\u001b[0m\n\u001b[1;32m     64\u001b[0m \u001b[0;34m\u001b[0m\u001b[0m\n\u001b[0;32m---> 65\u001b[0;31m         \u001b[0max\u001b[0m\u001b[0;34m.\u001b[0m\u001b[0mset_ylim\u001b[0m\u001b[0;34m(\u001b[0m\u001b[0;36m0\u001b[0m\u001b[0;34m,\u001b[0m \u001b[0mmax\u001b[0m\u001b[0;34m(\u001b[0m\u001b[0my_kernel\u001b[0m\u001b[0;34m)\u001b[0m \u001b[0;34m*\u001b[0m \u001b[0;36m1.2\u001b[0m\u001b[0;34m)\u001b[0m\u001b[0;34m\u001b[0m\u001b[0;34m\u001b[0m\u001b[0m\n\u001b[0m\u001b[1;32m     66\u001b[0m \u001b[0;34m\u001b[0m\u001b[0m\n\u001b[1;32m     67\u001b[0m         \u001b[0max\u001b[0m\u001b[0;34m.\u001b[0m\u001b[0mset_ylabel\u001b[0m\u001b[0;34m(\u001b[0m\u001b[0;34m\"Kernel Density\"\u001b[0m\u001b[0;34m,\u001b[0m \u001b[0mcolor\u001b[0m\u001b[0;34m=\u001b[0m\u001b[0mget_color\u001b[0m\u001b[0;34m(\u001b[0m\u001b[0mstyles\u001b[0m\u001b[0;34m[\u001b[0m\u001b[0;34m\"kernel\"\u001b[0m\u001b[0;34m]\u001b[0m\u001b[0;34m)\u001b[0m\u001b[0;34m)\u001b[0m\u001b[0;34m\u001b[0m\u001b[0;34m\u001b[0m\u001b[0m\n",
      "\u001b[0;31mValueError\u001b[0m: max() arg is an empty sequence"
     ]
    }
   ],
   "source": [
    "inputs = validation.dataset.tensors[0].cpu().numpy().squeeze()\n",
    "zvals = np.linspace(-100, 300, 4000, endpoint=False) + 0.05\n",
    "finalmsg = ''\n",
    "internal_count = 0\n",
    "output_filename = '07Jan19_AltCNN4Layer_D35_sp_{number:02}.pdf'\n",
    "#  None # Or set: '120000_3layer_{number:02}.pdf'\n",
    "\n",
    "for event in range(100):\n",
    "    input = inputs[event]\n",
    "    label = labels[event]\n",
    "    output = outputs[event]\n",
    "    \n",
    "    # Consistent parameters for the calls below\n",
    "    parameters = {\n",
    "        \"threshold\": 1e-2,\n",
    "        \"integral_threshold\": .2,\n",
    "        \"min_width\": 3\n",
    "    }\n",
    "    \n",
    "    # Compute the \"actual\" efficenies and things\n",
    "    ftruth = pv_locations(label, **parameters)\n",
    "    fcomputed = pv_locations(output, **parameters)\n",
    "    results = efficiency(label, output, difference=5.0, **parameters)\n",
    "    \n",
    "    # Add a line to the final results string (print at end)\n",
    "    finalmsg += f\"Event {event}: {results}\\n\"\n",
    "    \n",
    "    # Make sure bin numbers are integers\n",
    "    truth = np.around(ftruth).astype(np.int32)\n",
    "    computed = np.around(fcomputed).astype(np.int32)\n",
    "    \n",
    "    # Join arrays and remove any points closer than 5 bins\n",
    "    # We plot over these \"points of interest\"\n",
    "    poi = np.sort(np.concatenate([truth, computed]))\n",
    "    poi = poi[np.concatenate([[True], np.fabs(np.diff(poi)) > 5])]\n",
    "    \n",
    "    print(f\"\\nEvent {event}:\", results)\n",
    "    \n",
    "    for index, i in enumerate(poi):\n",
    "        # Convert to location in z\n",
    "        center = (i / 10) - 100\n",
    "        \n",
    "        # Collect items less than 5 apart as \"true\"\n",
    "        b_truth = np.fabs(ftruth - i) <= 5\n",
    "        b_comp = np.fabs(fcomputed - i) <= 5\n",
    "        in_truth = np.any(b_truth)\n",
    "        in_comp = np.any(b_comp)\n",
    "        \n",
    "        if in_truth and in_comp:\n",
    "            msg = 'PV found'\n",
    "        elif in_truth:\n",
    "            msg = 'PV not found'\n",
    "        elif np.any(np.isnan(label[i-3:i+3])):\n",
    "            msg = 'Masked'\n",
    "        else:\n",
    "            msg = 'False positive'\n",
    "            \n",
    "        #with plt.style.context(fontdict):\n",
    "        \n",
    "            fig, axs = plt.subplots(2, figsize=(12,10), sharex=True,\n",
    "                                    gridspec_kw={'height_ratios':[2,1],\n",
    "                                                'hspace':0.1})\n",
    "        \n",
    "            # ax1 is the axis that is tied to left (density)\n",
    "            # ax2 is the axis that is tied to the right (probability)\n",
    "            ax1, ax2 = plot_ruiplot(zvals, i, input, label, output, ax=axs[0])\n",
    "            ax1.set_title(f\"Event {event} @ {center:.1f} mm: {msg}\"),\n",
    "                          #fontdict=fontdict)\n",
    "\n",
    "\n",
    "            msg = \"\"\n",
    "            \n",
    "            truth_centroid = (ftruth[b_truth] / 10) - 100\n",
    "            for value in truth_centroid:\n",
    "                msg += f\"True: {value:.3f} mm\\n\"\n",
    "                \n",
    "            comp_centroid = (fcomputed[b_comp] / 10) - 100\n",
    "            for value in comp_centroid:\n",
    "                msg += f\"Pred: {value:.3f} mm\\n\"\n",
    "                \n",
    "            if len(truth_centroid) == 1 and len(comp_centroid) == 1:\n",
    "                diff = (comp_centroid[0] - truth_centroid[0]) * 1_000\n",
    "                msg += f\"∆: {diff:.0f} µm\\n\"\n",
    "            \n",
    "            ax1.text(.02, .8, msg,\n",
    "                     transform=ax1.transAxes,\n",
    "                     verticalalignment='top')\n",
    "            \n",
    "            print(f\"\\nEvent {event}.{index}:\")\n",
    "            \n",
    "            # Plot and print PVs\n",
    "            ax2.scatter(PV.z[event], np.ones_like(PV.z[event])*.4, s=50, color='C0')\n",
    "            for x,y,z,n,cat in zip(PV.x[event], PV.y[event], PV.z[event], PV.n[event], PV.cat[event]):\n",
    "                # Only print out if z in plotting range\n",
    "                if center - 2.5 < z < center + 2.5:\n",
    "                    print()\n",
    "                    print(f'PV: {n} tracks (type {cat})')\n",
    "                    print(f'  x: {x*1000:5.0f} μm')\n",
    "                    print(f'  y: {y*1000:5.0f} μm')\n",
    "                    print(f'  z: {z:8.3f} mm')\n",
    "                    \n",
    "\n",
    "            # Plot and print SVs\n",
    "            ax2.scatter(SV.z[event], np.ones_like(SV.z[event])*.6, s=50, color='C1')\n",
    "            for x,y,z,n,cat in zip(SV.x[event], SV.y[event], SV.z[event], SV.n[event], SV.cat[event]):\n",
    "                # Only print out if z in plotting range\n",
    "                if center - 2.5 < z < center + 2.5:\n",
    "                    print()\n",
    "                    print(f'SV: {n} tracks (type {cat})')\n",
    "                    print(f'  x: {x*1000:5.0f} μm')\n",
    "                    print(f'  y: {y*1000:5.0f} μm')\n",
    "                    print(f'  z: {z:8.3f} mm')\n",
    "            \n",
    "            ax = axs[1]\n",
    "            ax.plot((np.arange(4000) / 10) - 100, xmax[event]*1000000, label=\"x\")\n",
    "            ax.plot((np.arange(4000) / 10) - 100, ymax[event]*1000000, label=\"y\")\n",
    "            ax.set_xlim(ax1.get_xlim())\n",
    "            ax.set_ylim(-150,150)\n",
    "            ax.grid(axis='y')\n",
    "            ax.set_ylabel('xy maximum [μm]')\n",
    "            ax.legend(loc='best')\n",
    "            \n",
    "            ax.set_xlabel(ax1.get_xlabel())\n",
    "            ax1.set_xlabel(\"\")\n",
    "            \n",
    "            if output_filename:\n",
    "                print()\n",
    "                print(output_filename.format(number=internal_count))\n",
    "            \n",
    "            # Save and show\n",
    "            if output_filename:        \n",
    "                plt.savefig(output_filename.format(number=internal_count), transparent=True)\n",
    "            plt.show()\n",
    "            \n",
    "            internal_count += 1\n",
    "            \n",
    "print(finalmsg)"
   ]
  },
  {
   "cell_type": "code",
   "execution_count": null,
   "metadata": {},
   "outputs": [],
   "source": []
  },
  {
   "cell_type": "code",
   "execution_count": null,
   "metadata": {},
   "outputs": [],
   "source": []
  }
 ],
 "metadata": {
  "kernelspec": {
   "display_name": "Python 3",
   "language": "python",
   "name": "python3"
  },
  "language_info": {
   "codemirror_mode": {
    "name": "ipython",
    "version": 3
   },
   "file_extension": ".py",
   "mimetype": "text/x-python",
   "name": "python",
   "nbconvert_exporter": "python",
   "pygments_lexer": "ipython3",
   "version": "3.7.6"
  }
 },
 "nbformat": 4,
 "nbformat_minor": 4
}
