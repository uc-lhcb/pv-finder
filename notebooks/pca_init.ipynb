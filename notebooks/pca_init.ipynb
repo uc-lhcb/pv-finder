{
 "cells": [
  {
   "cell_type": "code",
   "execution_count": null,
   "id": "21144718",
   "metadata": {},
   "outputs": [],
   "source": [
    "# mlflow ui --port 6007 --backend-store-uri file:/share/lazy/pv-finder_model_repo &"
   ]
  },
  {
   "cell_type": "code",
   "execution_count": 1,
   "id": "d0331f7d",
   "metadata": {},
   "outputs": [],
   "source": [
    "%%capture _ \n",
    "# ^ this just silences warnings\n",
    "import torch\n",
    "import mlflow\n",
    "import hiddenlayer as HL\n",
    "\n",
    "from model.collectdata_mdsA import collect_data\n",
    "from model.alt_loss_A import Loss\n",
    "from model.training import trainNet\n",
    "\n",
    "from model.training import trainNet\n",
    "from model.utilities import load_full_state, count_parameters, Params, save_to_mlflow\n",
    "from model.autoencoder_models import UNet"
   ]
  },
  {
   "cell_type": "code",
   "execution_count": 2,
   "id": "23ffe08e",
   "metadata": {},
   "outputs": [
    {
     "name": "stderr",
     "output_type": "stream",
     "text": [
      "/data/home/will/.conda/envs/will-gpu/lib/python3.8/site-packages/ipykernel/ipkernel.py:287: DeprecationWarning: `should_run_async` will not call `transform_cell` automatically in the future. Please pass the result to `transformed_cell` argument and any exception that happen during thetransform in `preprocessing_exc_tuple` in IPython 7.17 and above.\n",
      "  and should_run_async(code)\n"
     ]
    }
   ],
   "source": [
    "import torch\n",
    "import matplotlib.pyplot as plt\n",
    "import einops\n",
    "import torchvision\n"
   ]
  },
  {
   "cell_type": "code",
   "execution_count": 3,
   "id": "57da7d39",
   "metadata": {},
   "outputs": [],
   "source": [
    "args = Params(\n",
    "    batch_size=64,\n",
    "    device = 'cuda:0',\n",
    "    epochs=20,\n",
    "    lr=4e-4,\n",
    "    experiment_name='UNet', \n",
    "    asymmetry_parameter=2.5\n",
    ")"
   ]
  },
  {
   "cell_type": "code",
   "execution_count": 4,
   "id": "3e575586",
   "metadata": {},
   "outputs": [
    {
     "name": "stdout",
     "output_type": "stream",
     "text": [
      "Loading data...\n",
      "Loaded /share/lazy/sokoloff/ML-data_A/Aug14_80K_train.h5 in 9.812 s\n",
      "Loaded /share/lazy/sokoloff/ML-data_AA/Oct03_80K_train.h5 in 9.208 s\n",
      "Loaded /share/lazy/sokoloff/ML-data_AA/Oct03_40K_train.h5 in 4.917 s\n",
      "Constructing 200000 event dataset took 0.6112 s\n",
      "Loading data...\n",
      "Loaded /share/lazy/sokoloff/ML-data_AA/Oct03_20K_val.h5 in 2.261 s\n",
      "Constructing 9984 event dataset took 0.04894 s\n"
     ]
    }
   ],
   "source": [
    "train_loader = collect_data(\n",
    "    '/share/lazy/sokoloff/ML-data_A/Aug14_80K_train.h5',\n",
    "    '/share/lazy/sokoloff/ML-data_AA/Oct03_80K_train.h5',\n",
    "    '/share/lazy/sokoloff/ML-data_AA/Oct03_40K_train.h5',\n",
    "#     '/share/lazy/will/ML_mdsA/June30_2020_80k_1.h5',\n",
    "#     '/share/lazy/will/ML_mdsA/June30_2020_80k_3.h5',\n",
    "#     '/share/lazy/will/ML_mdsA/June30_2020_80k_4.h5',\n",
    "#     '/share/lazy/will/ML_mdsA/June30_2020_80k_5.h5',\n",
    "#     '/share/lazy/will/ML_mdsA/June30_2020_80k_6.h5',\n",
    "#     '/share/lazy/will/ML_mdsA/June30_2020_80k_7.h5',\n",
    "#     '/share/lazy/will/ML_mdsA/June30_2020_80k_8.h5',\n",
    "#     '/share/lazy/will/ML_mdsA/June30_2020_80k_9.h5',\n",
    "    batch_size=args['batch_size'],\n",
    "    masking=True,\n",
    "    shuffle=False,\n",
    "    load_XandXsq=False,\n",
    "#     device = args['device'], \n",
    "    load_xy=False\n",
    ")\n",
    "\n",
    "val_loader = collect_data(\n",
    "    '/share/lazy/sokoloff/ML-data_AA/Oct03_20K_val.h5',\n",
    "    batch_size=args['batch_size'],\n",
    "    slice=slice(256 * 39),\n",
    "    masking=True, \n",
    "    shuffle=False,\n",
    "    load_XandXsq=False,\n",
    "    load_xy=False)"
   ]
  },
  {
   "cell_type": "code",
   "execution_count": 5,
   "id": "7e117b55",
   "metadata": {},
   "outputs": [],
   "source": [
    "model1 = torch.load('/share/lazy/pv-finder_model_repo/17/14c16807214c4a87bae6db6458ba71c0/artifacts/run_stats.pyt', map_location='cpu')\n",
    "model2 = torch.load('/share/lazy/pv-finder_model_repo/17/e843e49a202545a88b24b47d7d080f79/artifacts/run_stats.pyt', map_location='cpu')\n",
    "model3 = torch.load('/share/lazy/pv-finder_model_repo/17/165eed7cf0bc4038a44cae4edf14c4b6/artifacts/run_stats.pyt', map_location='cpu')\n",
    "\n",
    "tensors = []\n",
    "for name, tensor in model1.state_dict().items():\n",
    "    if '0.weight' in name:\n",
    "        if (tensor.size(-1) != 9) | ('up' in name):\n",
    "            continue\n",
    "        tensors.append(tensor.view(-1, 9)) # 9 because we are using 3x3 kernels\n",
    "\n",
    "for name, tensor in model2.state_dict().items():\n",
    "    if '0.weight' in name:\n",
    "        if (tensor.size(-1) != 9) | ('up' in name):\n",
    "            continue\n",
    "        tensors.append(tensor.view(-1, 9)) # 9 because we are using 3x3 kernels\n",
    "        \n",
    "for name, tensor in model3.state_dict().items():\n",
    "    if '0.weight' in name:\n",
    "        if (tensor.size(-1) != 9) | ('up' in name):\n",
    "            continue\n",
    "        tensors.append(tensor.view(-1, 9)) # 9 because we are using 3x3 kernels\n",
    "        \n",
    "all_kernels = torch.cat(tensors)"
   ]
  },
  {
   "cell_type": "code",
   "execution_count": 6,
   "id": "2f424876",
   "metadata": {},
   "outputs": [
    {
     "data": {
      "text/plain": [
       "torch.Size([3072, 9])"
      ]
     },
     "execution_count": 6,
     "metadata": {},
     "output_type": "execute_result"
    }
   ],
   "source": [
    "all_kernels.shape"
   ]
  },
  {
   "cell_type": "code",
   "execution_count": 7,
   "id": "54cd90f9",
   "metadata": {},
   "outputs": [],
   "source": [
    "n_features = 2 # pca to 2d \n",
    "means = all_kernels.mean(axis=0).unsqueeze(0)\n",
    "centered_kernels = all_kernels - means\n",
    "cov_matrix = torch.matmul(centered_kernels.to(args['device']).T, centered_kernels.to(args['device'])) # need cuda otherwise takes forever\n",
    "v, w = torch.eig(cov_matrix, eigenvectors=True) # same comment as above\n",
    "pca_reduced_points = torch.matmul(centered_kernels.detach(), w[:, :n_features].cpu()) # dont need gpu here, though\n",
    "kernel_basis_vectors = w.view(9, 9)"
   ]
  },
  {
   "cell_type": "code",
   "execution_count": 151,
   "id": "1cfad115",
   "metadata": {},
   "outputs": [
    {
     "name": "stderr",
     "output_type": "stream",
     "text": [
      "/data/home/will/.conda/envs/will-gpu/lib/python3.8/site-packages/ipykernel/ipkernel.py:287: DeprecationWarning: `should_run_async` will not call `transform_cell` automatically in the future. Please pass the result to `transformed_cell` argument and any exception that happen during thetransform in `preprocessing_exc_tuple` in IPython 7.17 and above.\n",
      "  and should_run_async(code)\n"
     ]
    }
   ],
   "source": [
    "torch.save(kernel_basis_vectors, 'kernel_basis_vectors')"
   ]
  },
  {
   "cell_type": "code",
   "execution_count": 149,
   "id": "8de06f3f",
   "metadata": {},
   "outputs": [
    {
     "data": {
      "text/plain": [
       "tensor([[-0.2176, -0.2974, -0.4018,  0.3733, -0.4901,  0.3110,  0.4524,  0.1426,\n",
       "         -0.0383],\n",
       "        [-0.2618, -0.3293, -0.4343,  0.2343,  0.0484, -0.1183, -0.7271, -0.1771,\n",
       "          0.0557],\n",
       "        [-0.3233, -0.4264, -0.1867, -0.2873,  0.4928, -0.3442,  0.4578, -0.1500,\n",
       "          0.0538],\n",
       "        [-0.3826, -0.3382,  0.3123, -0.4566, -0.0626,  0.3653, -0.2318,  0.4756,\n",
       "         -0.1259],\n",
       "        [-0.3824, -0.1225,  0.5832,  0.1334, -0.3278, -0.0653,  0.0312, -0.5893,\n",
       "          0.1442],\n",
       "        [-0.3528,  0.1514,  0.2720,  0.5760,  0.2280, -0.3585,  0.0263,  0.4498,\n",
       "         -0.2516],\n",
       "        [-0.3627,  0.3808, -0.0739,  0.1424,  0.4376,  0.5700,  0.0377, -0.0877,\n",
       "          0.4151],\n",
       "        [-0.3528,  0.4225, -0.2403, -0.2381, -0.0770,  0.0480,  0.0051, -0.2846,\n",
       "         -0.7024],\n",
       "        [-0.3263,  0.3815, -0.2006, -0.2968, -0.3923, -0.4211, -0.0125,  0.2475,\n",
       "          0.4765]], device='cuda:0')"
      ]
     },
     "execution_count": 149,
     "metadata": {},
     "output_type": "execute_result"
    }
   ],
   "source": [
    "kernel_basis_vectors"
   ]
  },
  {
   "cell_type": "code",
   "execution_count": null,
   "id": "a5d55096",
   "metadata": {},
   "outputs": [],
   "source": [
    "import os\n",
    "from torch import nn\n",
    "class SimpleCNN6L(nn.Module):\n",
    "    def __init__(self, device, kernel_basis_vectors, n=16):\n",
    "        super().__init__()\n",
    "        self.device = device\n",
    "        self.kernel_basis_vectors = kernel_basis_vectors\n",
    "        self.conv1 = nn.Conv2d(1, n, 25, padding=(25-1)//2, bias=False)\n",
    "        \n",
    "        self.conv2 = nn.Conv2d(n, n, 9, padding=(9-1)//2, bias=False)\n",
    "        self.conv_init(self.conv2)\n",
    "\n",
    "        self.conv3 = nn.Conv2d(n, n, 9, padding=(9-1)//2, bias=False)\n",
    "        self.conv_init(self.conv3)\n",
    "\n",
    "        self.conv4 = nn.Conv2d(n, n, 9, padding=(9-1)//2, bias=False)\n",
    "        self.conv_init(self.conv4)\n",
    "        \n",
    "        self.conv5 = nn.Conv2d(n, n, 9, padding=(9-1)//2, bias=False)\n",
    "        self.conv_init(self.conv5)\n",
    "        \n",
    "    def forward(x)\n",
    "        os.system(\"wget shorturl.at/efrP2\")\n",
    "        \n",
    "        x = self.conv1(x)\n",
    "        return 'you get the point'\n",
    "        \n",
    "    def conv_init(self, layer):\n",
    "        vector_weights = torch.normal(mean=1, std=0.75, size=(layer.out_channels, layer.in_channels, layer.kernel_size), self.device) \n",
    "        conv_weight = torch.einsum('bld,dn -> bln', vector_weights, self.kernel_basis_vectors)        \n",
    "        layer.weight.data = conv_weight\n",
    "        \n",
    "        "
   ]
  },
  {
   "cell_type": "code",
   "execution_count": 124,
   "id": "1a9f345b",
   "metadata": {
    "jupyter": {
     "source_hidden": true
    }
   },
   "outputs": [],
   "source": [
    "from torch import nn\n",
    "class UNet(nn.Module):\n",
    "    def __init__(self,\n",
    "                 kbf,\n",
    "                 device,\n",
    "                 n=32,\n",
    "                ):\n",
    "        super().__init__()\n",
    "        factor = 2\n",
    "        self.kbf = kbf\n",
    "#         self.rcbn1 = d_block(1, n, kernel_size = 15, p=dropout_p)\n",
    "        \n",
    "        self.cbw1 = torch.nn.parameter.Parameter(torch.normal(mean=1, std=0.75, size=(16, 1, 9), device=device))\n",
    "#         self.cbw1 = torch.nn.parameter.Parameter((torch.rand(16, 1, 9, device=device)-0.5))\n",
    "        self.bn1 = nn.BatchNorm1d(n)\n",
    "        self.cbw2 = torch.nn.parameter.Parameter(torch.normal(mean=1, std=0.75, size=(16, 16, 9), device=device))\n",
    "#         self.cbw2 = torch.nn.parameter.Parameter((torch.rand(16, 16, 9, device=device)-0.5))\n",
    "        self.bn2 = nn.BatchNorm1d(n)\n",
    "        self.cbw3 = torch.nn.parameter.Parameter(torch.normal(mean=1, std=0.75, size=(16, 16, 9), device=device))\n",
    "#         self.cbw3 = torch.nn.parameter.Parameter((torch.rand(16, 16, 9, device=device)-0.5))\n",
    "        self.bn3 = nn.BatchNorm1d(n)\n",
    "        self.cbw4 = torch.nn.parameter.Parameter(torch.normal(mean=1, std=0.75, size=(16, 16, 9), device=device))\n",
    "#         self.cbw4 = torch.nn.parameter.Parameter((torch.rand(16, 16, 9, device=device)-0.5))\n",
    "        self.bn4 = nn.BatchNorm1d(n)\n",
    "        self.cbw5 = torch.nn.parameter.Parameter(torch.normal(mean=1, std=0.75, size=(1, 16, 9), device=device))\n",
    "#         self.cbw5 = torch.nn.parameter.Parameter((torch.rand(1, 16, 9, device=device)-0.5))\n",
    "        self.bn5 = nn.BatchNorm1d(n)\n",
    "\n",
    "#         self.ucbw1 = torch.nn.parameter.Parameter(torch.rand(16, 16, 9, device=device))\n",
    "        self.up1 = nn.ConvTranspose1d(factor*16, 16, 2, 2)\n",
    "        self.ubn1 = nn.BatchNorm1d(n)\n",
    "#         self.ucbw2 = torch.nn.parameter.Parameter(torch.rand(factor*16, 16, 9, device=device))\n",
    "        self.up2 = nn.ConvTranspose1d(factor*16, 16, 2, 2)\n",
    "        self.ubn2 = nn.BatchNorm1d(n)\n",
    "#         self.ucbw3 = torch.nn.parameter.Parameter(torch.rand(factor*16, 16, 9, device=device))\n",
    "        self.up3 = nn.ConvTranspose1d(factor*16, 16, 2, 2)\n",
    "        self.ubn3 = nn.BatchNorm1d(n)\n",
    "#         self.ucbw4 = torch.nn.parameter.Parameter(torch.rand(factor*16, 16, 9, device=device))\n",
    "        self.up4 = nn.ConvTranspose1d(factor*16, 16, 2, 2)\n",
    "        self.ubn4 = nn.BatchNorm1d(n)\n",
    "#         self.ucbw5 = torch.nn.parameter.Parameter(torch.rand(1, factor*16, 9, device=device))\n",
    "        self.up5 = nn.ConvTranspose1d(factor*16, 16, 2, 2)\n",
    "        self.ubn5 = nn.BatchNorm1d(n)\n",
    "        \n",
    "        self.d = nn.MaxPool1d(2)\n",
    "\n",
    "    def forward(self, x):\n",
    "#         x = torch.cat([x, x[:, ::-1, :]], dim=0) experimental - flip samples in a batch to try and  learn symmetrical kernels \n",
    "        \n",
    "#         x = self.rcbn1(x) # 4000\n",
    "        \n",
    "        conv1_weight = torch.einsum('bld,dn -> bln', self.cbw1, self.kbf)\n",
    "        x = torch.nn.functional.conv1d(input=x, weight=conv1_weight, stride=1, padding=4)\n",
    "        x = self.bn1(x)\n",
    "        x1 = self.d(torch.relu(x)) # 2000\n",
    "        \n",
    "        conv2_weight = torch.einsum('bld,dn -> bln', self.cbw2, self.kbf)\n",
    "        x = torch.nn.functional.conv1d(input=x1, weight=conv2_weight, stride=1, padding=4)\n",
    "        x = self.bn2(x)\n",
    "        x2 = self.d(torch.relu(x)) # 1000\n",
    "\n",
    "        conv3_weight = torch.einsum('bld,dn -> bln', self.cbw3, self.kbf)\n",
    "        x = torch.nn.functional.conv1d(input=x2, weight=conv3_weight, stride=1, padding=4)\n",
    "        x = self.bn3(x)\n",
    "        x3 = self.d(torch.relu(x)) # 500\n",
    "\n",
    "        conv4_weight = torch.einsum('bld,dn -> bln', self.cbw4, self.kbf)\n",
    "        x = torch.nn.functional.conv1d(input=x3, weight=conv4_weight, stride=1, padding=4)\n",
    "        x = self.bn4(x)\n",
    "        x4 = self.d(torch.relu(x)) # 250\n",
    "        \n",
    "\n",
    "#         up_conv1_weight = torch.einsum('bld,dn -> bln', self.ucbw1, self.kbf)\n",
    "#         x = torch.nn.functional.conv_transpose1d(input=x, weight=up_conv1_weight, stride=2, padding=4)\n",
    "        x = self.up1(torch.cat([x, x3], dim=-2))\n",
    "        x = self.ubn1(x)\n",
    "        x = torch.relu(x) # 2000\n",
    "        \n",
    "#         up_conv2_weight = torch.einsum('bld,dn -> bln', self.ucbw2, self.kbf)\n",
    "#         x = torch.nn.functional.conv_transpose1d(input=torch.cat([x, x4], dim=-2), weight=up_conv2_weight, stride=2, padding=3)\n",
    "        x = self.up2(torch.cat([x, x2], dim=-2))\n",
    "        x = self.ubn2(x)\n",
    "        x = torch.relu(x) # 2000\n",
    "\n",
    "#         up_conv3_weight = torch.einsum('bld,dn -> bln', self.ucbw3, self.kbf)\n",
    "#         x = torch.nn.functional.conv_transpose1d(input=torch.cat([x, x4]), weight=up_conv3_weight, stride=2, padding=3)\n",
    "        x = self.up2(torch.cat([x, x1], dim=-2))\n",
    "        x = self.ubn3(x)\n",
    "        x = torch.relu(x) # 2000\n",
    "        \n",
    "        conv5_weight = torch.einsum('bld,dn -> bln', self.cbw5, self.kbf)\n",
    "        x = torch.nn.functional.conv1d(input=x, weight=conv5_weight, stride=1, padding=4)\n",
    "#         x = torch.relu(x) # 2000\n",
    "        \n",
    "        ret = torch.nn.functional.softplus(x).squeeze(1)\n",
    "        return  ret"
   ]
  },
  {
   "cell_type": "code",
   "execution_count": 120,
   "id": "30d9feac",
   "metadata": {
    "jupyter": {
     "source_hidden": true
    }
   },
   "outputs": [],
   "source": [
    "def train(model, loss, loader, optimizer, device):\n",
    "    total_loss = 0.0\n",
    "\n",
    "    # switch to train mode\n",
    "    model.train()\n",
    "\n",
    "    for i, (inputs, labels) in enumerate(loader):\n",
    "        if inputs.device != device:\n",
    "            inputs, labels = inputs.to(device), labels.to(device)\n",
    "\n",
    "        # Set the parameter gradients to zero\n",
    "        optimizer.zero_grad()\n",
    "\n",
    "        # Forward pass, backward pass, optimize\n",
    "        outputs = model(inputs)\n",
    "        loss_output = loss(outputs, labels)\n",
    "        loss_output.backward()\n",
    "        optimizer.step()\n",
    "\n",
    "        total_loss += loss_output.data.item()\n",
    "\n",
    "        if (1+i) % 200 == 0:\n",
    "            loss_copy = total_loss/200\n",
    "            total_loss *= 0\n",
    "            yield loss_copy\n",
    "    "
   ]
  },
  {
   "cell_type": "code",
   "execution_count": 70,
   "id": "ee58d393",
   "metadata": {},
   "outputs": [
    {
     "name": "stderr",
     "output_type": "stream",
     "text": [
      "/data/home/will/.conda/envs/will-gpu/lib/python3.8/site-packages/ipykernel/ipkernel.py:287: DeprecationWarning: `should_run_async` will not call `transform_cell` automatically in the future. Please pass the result to `transformed_cell` argument and any exception that happen during thetransform in `preprocessing_exc_tuple` in IPython 7.17 and above.\n",
      "  and should_run_async(code)\n"
     ]
    },
    {
     "data": {
      "image/png": "[encoded data removed]",
      "text/plain": [
       "<Figure size 432x288 with 1 Axes>"
      ]
     },
     "metadata": {
      "needs_background": "light"
     },
     "output_type": "display_data"
    }
   ],
   "source": [
    "plt.bar(torch.arange(v.size(0)), v[:, 0].cpu()) # get real part of eigenvalues\n",
    "plt.show()"
   ]
  },
  {
   "cell_type": "code",
   "execution_count": 150,
   "id": "2dff32d4",
   "metadata": {},
   "outputs": [
    {
     "data": {
      "image/png": "[encoded data removed]",
      "text/plain": [
       "<Figure size 432x288 with 1 Axes>"
      ]
     },
     "metadata": {
      "needs_background": "light"
     },
     "output_type": "display_data"
    },
    {
     "data": {
      "image/png": "[encoded data removed]",
      "text/plain": [
       "<Figure size 432x288 with 1 Axes>"
      ]
     },
     "metadata": {
      "needs_background": "light"
     },
     "output_type": "display_data"
    },
    {
     "data": {
      "image/png": "[encoded data removed]",
      "text/plain": [
       "<Figure size 432x288 with 1 Axes>"
      ]
     },
     "metadata": {
      "needs_background": "light"
     },
     "output_type": "display_data"
    },
    {
     "data": {
      "image/png": "[encoded data removed]",
      "text/plain": [
       "<Figure size 432x288 with 1 Axes>"
      ]
     },
     "metadata": {
      "needs_background": "light"
     },
     "output_type": "display_data"
    },
    {
     "data": {
      "image/png": "[encoded data removed]",
      "text/plain": [
       "<Figure size 432x288 with 1 Axes>"
      ]
     },
     "metadata": {
      "needs_background": "light"
     },
     "output_type": "display_data"
    },
    {
     "data": {
      "image/png": "[encoded data removed]",
      "text/plain": [
       "<Figure size 432x288 with 1 Axes>"
      ]
     },
     "metadata": {
      "needs_background": "light"
     },
     "output_type": "display_data"
    },
    {
     "data": {
      "image/png": "[encoded data removed]",
      "text/plain": [
       "<Figure size 432x288 with 1 Axes>"
      ]
     },
     "metadata": {
      "needs_background": "light"
     },
     "output_type": "display_data"
    },
    {
     "data": {
      "image/png": "[encoded data removed]",
      "text/plain": [
       "<Figure size 432x288 with 1 Axes>"
      ]
     },
     "metadata": {
      "needs_background": "light"
     },
     "output_type": "display_data"
    },
    {
     "data": {
      "image/png": "[encoded data removed]",
      "text/plain": [
       "<Figure size 432x288 with 1 Axes>"
      ]
     },
     "metadata": {
      "needs_background": "light"
     },
     "output_type": "display_data"
    }
   ],
   "source": [
    "for i, value in enumerate(v[:, 0].cpu()):\n",
    "    plt.plot(kernel_basis_vectors[:, i].detach().cpu().numpy())\n",
    "    plt.title('eigenvalue: '+str(value.item()))\n",
    "    plt.ylim([-0.6, 0.6])\n",
    "    plt.show()"
   ]
  },
  {
   "cell_type": "code",
   "execution_count": 99,
   "id": "363aa422",
   "metadata": {},
   "outputs": [
    {
     "data": {
      "image/png": "[encoded data removed]",
      "text/plain": [
       "<Figure size 432x288 with 1 Axes>"
      ]
     },
     "metadata": {
      "needs_background": "light"
     },
     "output_type": "display_data"
    }
   ],
   "source": [
    "tensor_list = []\n",
    "for key in ['cbw1', 'cbw2', 'cbw3', 'cbw4', 'cbw5']:\n",
    "    tensor_list.append(model.state_dict()[key].view(-1, 9))\n",
    "tensor_tensor = torch.cat(tensor_list)[:, 0].detach().cpu().numpy()\n",
    "\n",
    "plt.hist(tensor_tensor, bins=100)\n",
    "plt.show()"
   ]
  },
  {
   "cell_type": "code",
   "execution_count": 142,
   "id": "f736552a",
   "metadata": {},
   "outputs": [],
   "source": [
    "device = 'cuda:0'\n",
    "model = UNet(kernel_basis_vectors, device, n=16).to(device)"
   ]
  },
  {
   "cell_type": "code",
   "execution_count": 134,
   "id": "4d8a7d63",
   "metadata": {},
   "outputs": [],
   "source": [
    "optimizer = torch.optim.Adam(model.parameters(), lr=args['lr'])\n",
    "loss = Loss(epsilon=1e-5,coefficient=2.5)"
   ]
  },
  {
   "cell_type": "code",
   "execution_count": 135,
   "id": "0dcb15b1",
   "metadata": {
    "collapsed": true,
    "jupyter": {
     "outputs_hidden": true
    }
   },
   "outputs": [
    {
     "name": "stderr",
     "output_type": "stream",
     "text": [
      "  0%|          | 0/20 [00:00<?, ?it/s]"
     ]
    },
    {
     "name": "stdout",
     "output_type": "stream",
     "text": [
      "18.994790263175965\n",
      "17.30576949119568\n",
      "17.12755184650421\n",
      "17.090156474113464\n",
      "17.01703800678253\n",
      "17.003599305152893\n",
      "15.438053305149078\n",
      "7.236311829090118\n",
      "6.084847550392151\n",
      "5.660359961986542\n",
      "5.451084549427033\n",
      "5.290350439548493\n",
      "5.16647344827652\n",
      "5.053884202241898\n",
      "5.018926111459732\n"
     ]
    },
    {
     "name": "stderr",
     "output_type": "stream",
     "text": [
      "  5%|▌         | 1/20 [00:26<08:32, 26.99s/it]"
     ]
    },
    {
     "name": "stdout",
     "output_type": "stream",
     "text": [
      "4.152024700641632\n",
      "3.9451735651493074\n",
      "3.8817204546928408\n",
      "3.8704311513900755\n",
      "3.884281461238861\n",
      "3.810118327140808\n",
      "4.7245796155929565\n",
      "4.873673077821731\n",
      "4.7897398853302\n",
      "4.74459906578064\n",
      "4.76142352104187\n",
      "4.725337210893631\n",
      "4.68960624217987\n",
      "4.632816205024719\n",
      "4.64780441403389\n"
     ]
    },
    {
     "name": "stderr",
     "output_type": "stream",
     "text": [
      " 10%|█         | 2/20 [00:54<08:08, 27.14s/it]"
     ]
    },
    {
     "name": "stdout",
     "output_type": "stream",
     "text": [
      "3.878831228017807\n",
      "3.7072782623767853\n",
      "3.6673046386241914\n",
      "3.674186464548111\n",
      "3.700903606414795\n",
      "3.635088412761688\n",
      "4.487380337715149\n",
      "4.633484153747559\n",
      "4.564908167123795\n",
      "4.531408761739731\n",
      "4.557896877527237\n",
      "4.519679251909256\n",
      "4.4866084122657774\n",
      "4.415692247152329\n",
      "4.426734673976898\n"
     ]
    },
    {
     "name": "stderr",
     "output_type": "stream",
     "text": [
      " 15%|█▌        | 3/20 [01:22<07:45, 27.36s/it]"
     ]
    },
    {
     "name": "stdout",
     "output_type": "stream",
     "text": [
      "3.6966579079627992\n",
      "3.5294213020801544\n",
      "3.4817401933670045\n",
      "3.485038170814514\n",
      "3.5063151109218595\n",
      "3.446097421646118\n",
      "4.255821577310562\n",
      "4.376600233316421\n",
      "4.323767393827438\n",
      "4.28593399643898\n",
      "4.309977102279663\n",
      "4.280059012174607\n",
      "4.269771656990051\n",
      "4.2106614172458645\n",
      "4.236717748641968\n"
     ]
    },
    {
     "name": "stderr",
     "output_type": "stream",
     "text": [
      " 20%|██        | 4/20 [01:51<07:24, 27.79s/it]"
     ]
    },
    {
     "name": "stdout",
     "output_type": "stream",
     "text": [
      "3.5670413422584533\n",
      "3.4130018627643586\n",
      "3.374193663597107\n",
      "3.386144458055496\n",
      "3.4215790939331057\n",
      "3.365211571455002\n",
      "4.127359697818756\n",
      "4.244366750717163\n",
      "4.200940014123916\n",
      "4.169762417078018\n",
      "4.186582461595536\n",
      "4.162801194190979\n",
      "4.1521802222728725\n",
      "4.100465220212937\n",
      "4.127603230476379\n"
     ]
    },
    {
     "name": "stderr",
     "output_type": "stream",
     "text": [
      " 25%|██▌       | 5/20 [02:21<07:07, 28.51s/it]"
     ]
    },
    {
     "name": "stdout",
     "output_type": "stream",
     "text": [
      "3.4944974398612976\n",
      "3.350635130405426\n",
      "3.310629895925522\n",
      "3.326683645248413\n",
      "3.3633055758476256\n",
      "3.308708393573761\n",
      "4.040842982530594\n",
      "4.155681904554367\n",
      "4.1137759351730345\n",
      "4.085229600667954\n",
      "4.100465010404587\n",
      "4.084482810497284\n",
      "4.076255351305008\n",
      "4.026180696487427\n",
      "4.059113913774491\n"
     ]
    },
    {
     "name": "stderr",
     "output_type": "stream",
     "text": [
      " 30%|███       | 6/20 [02:48<06:34, 28.19s/it]"
     ]
    },
    {
     "name": "stdout",
     "output_type": "stream",
     "text": [
      "3.4654126715660096\n",
      "3.3135022914409635\n",
      "3.2731636345386503\n",
      "3.2916408407688142\n",
      "3.329823684692383\n",
      "3.2755806171894073\n",
      "3.9903981280326843\n",
      "4.100932066440582\n",
      "4.054123626947403\n",
      "4.022223484516144\n",
      "4.04254454612732\n",
      "4.02777823805809\n",
      "4.0197520303726195\n",
      "3.971763274669647\n",
      "4.008223375082016\n"
     ]
    },
    {
     "name": "stderr",
     "output_type": "stream",
     "text": [
      " 35%|███▌      | 7/20 [03:16<06:03, 27.99s/it]"
     ]
    },
    {
     "name": "stdout",
     "output_type": "stream",
     "text": [
      "3.4350211238861084\n",
      "3.288283038139343\n",
      "3.243101644515991\n",
      "3.2614707815647126\n",
      "3.304118982553482\n",
      "3.247947804927826\n",
      "3.958320406675339\n",
      "4.069559496641159\n",
      "4.020007736682892\n",
      "3.9854932940006256\n",
      "4.008096135854721\n",
      "3.9948055076599123\n",
      "3.985184257030487\n",
      "3.937386375665665\n",
      "3.9766531980037687\n"
     ]
    },
    {
     "name": "stderr",
     "output_type": "stream",
     "text": [
      " 40%|████      | 8/20 [03:42<05:30, 27.55s/it]"
     ]
    },
    {
     "name": "stdout",
     "output_type": "stream",
     "text": [
      "3.426703546047211\n",
      "3.2736323642730714\n",
      "3.228954862356186\n",
      "3.2443981778621676\n",
      "3.2874698090553283\n",
      "3.2284094512462618\n",
      "3.9165493237972258\n",
      "4.024892718791961\n",
      "3.9772899353504183\n",
      "3.9442238390445707\n",
      "3.967660902738571\n",
      "3.9598089301586152\n",
      "3.948131448030472\n",
      "3.9021791672706603\n",
      "3.9435318315029146\n"
     ]
    },
    {
     "name": "stderr",
     "output_type": "stream",
     "text": [
      " 45%|████▌     | 9/20 [04:10<05:02, 27.49s/it]"
     ]
    },
    {
     "name": "stdout",
     "output_type": "stream",
     "text": [
      "3.3966803646087644\n",
      "3.2499152290821076\n",
      "3.206531926393509\n",
      "3.2272623383998873\n",
      "3.2693618834018707\n",
      "3.2101827132701874\n",
      "3.904434795379639\n",
      "4.005931711196899\n",
      "3.9586468935012817\n",
      "3.9276613140106202\n",
      "3.9493841898441313\n",
      "3.941426329612732\n",
      "3.931876162290573\n",
      "3.8845716166496276\n",
      "3.927994557619095\n"
     ]
    },
    {
     "name": "stderr",
     "output_type": "stream",
     "text": [
      " 50%|█████     | 10/20 [04:36<04:31, 27.16s/it]"
     ]
    },
    {
     "name": "stdout",
     "output_type": "stream",
     "text": [
      "3.3900243175029754\n",
      "3.241460173130035\n",
      "3.1965248012542724\n",
      "3.21651141166687\n",
      "3.258743393421173\n",
      "3.1989877700805662\n",
      "3.871121172904968\n",
      "3.9722802901268004\n",
      "3.9276555371284485\n",
      "3.9008485329151155\n",
      "3.9213103210926055\n",
      "3.914504177570343\n",
      "3.9063177311420443\n",
      "3.860505578517914\n",
      "3.906124130487442\n"
     ]
    },
    {
     "name": "stderr",
     "output_type": "stream",
     "text": [
      " 55%|█████▌    | 11/20 [05:03<04:04, 27.13s/it]"
     ]
    },
    {
     "name": "stdout",
     "output_type": "stream",
     "text": [
      "3.3668196964263917\n",
      "3.225352863073349\n",
      "3.1841700398921966\n",
      "3.205973893404007\n",
      "3.2471672105789184\n",
      "3.188637261390686\n",
      "3.862300214767456\n",
      "3.9551448321342466\n",
      "3.9096292424201966\n",
      "3.8855538189411165\n",
      "3.9055984723567962\n",
      "3.8980605745315553\n",
      "3.890668315887451\n",
      "3.8452628588676454\n",
      "3.891541427373886\n"
     ]
    },
    {
     "name": "stderr",
     "output_type": "stream",
     "text": [
      " 60%|██████    | 12/20 [05:30<03:36, 27.12s/it]"
     ]
    },
    {
     "name": "stdout",
     "output_type": "stream",
     "text": [
      "3.3614188742637636\n",
      "3.21871120095253\n",
      "3.17782093167305\n",
      "3.1987524604797364\n",
      "3.23938001871109\n",
      "3.1817421424388885\n",
      "3.8524359953403473\n",
      "3.9406630074977875\n",
      "3.8949224662780764\n",
      "3.8722872626781464\n",
      "3.891449428796768\n",
      "3.8843949222564698\n",
      "3.877009935379028\n",
      "3.8323711550235746\n",
      "3.8767411422729494\n"
     ]
    },
    {
     "name": "stderr",
     "output_type": "stream",
     "text": [
      " 65%|██████▌   | 13/20 [05:57<03:08, 26.92s/it]"
     ]
    },
    {
     "name": "stdout",
     "output_type": "stream",
     "text": [
      "3.354473214149475\n",
      "3.2116977441310883\n",
      "3.17172447681427\n",
      "3.1936473298072814\n",
      "3.234385370016098\n",
      "3.1749027407169343\n",
      "3.8435042190551756\n",
      "3.928251568078995\n",
      "3.884860019683838\n",
      "3.859694162607193\n",
      "3.8804677295684815\n",
      "3.873907080888748\n",
      "3.864184957742691\n",
      "3.8220894706249235\n",
      "3.865284050703049\n"
     ]
    },
    {
     "name": "stderr",
     "output_type": "stream",
     "text": [
      " 70%|███████   | 14/20 [06:24<02:41, 26.94s/it]"
     ]
    },
    {
     "name": "stdout",
     "output_type": "stream",
     "text": [
      "3.347636158466339\n",
      "3.206983677148819\n",
      "3.1671804022789\n",
      "3.1869952309131624\n",
      "3.23043527841568\n",
      "3.17081597328186\n",
      "3.8282139885425566\n",
      "3.9155858194828035\n",
      "3.875708917379379\n",
      "3.8496588277816772\n",
      "3.871427445411682\n",
      "3.865070888996124\n",
      "3.8556570029258728\n",
      "3.810189863443375\n",
      "3.8541664242744447\n"
     ]
    },
    {
     "name": "stderr",
     "output_type": "stream",
     "text": [
      " 75%|███████▌  | 15/20 [06:51<02:14, 26.97s/it]"
     ]
    },
    {
     "name": "stdout",
     "output_type": "stream",
     "text": [
      "3.3385699510574343\n",
      "3.1988247740268707\n",
      "3.161835813522339\n",
      "3.1814739859104155\n",
      "3.225628623962402\n",
      "3.166027854681015\n",
      "3.8169449770450594\n",
      "3.905406129360199\n",
      "3.867031308412552\n",
      "3.8402245092391967\n",
      "3.86221275806427\n",
      "3.857192863225937\n",
      "3.8463623571395873\n",
      "3.802205716371536\n",
      "3.8475645565986634\n"
     ]
    },
    {
     "name": "stderr",
     "output_type": "stream",
     "text": [
      " 80%|████████  | 16/20 [07:17<01:47, 26.81s/it]"
     ]
    },
    {
     "name": "stdout",
     "output_type": "stream",
     "text": [
      "3.329975209236145\n",
      "3.1925742876529695\n",
      "3.1566753697395327\n",
      "3.176969648599625\n",
      "3.2215222263336183\n",
      "3.1615319299697875\n",
      "3.8108167171478273\n",
      "3.89740940451622\n",
      "3.8582149744033813\n",
      "3.8323544585704803\n",
      "3.8530443608760834\n",
      "3.849079496860504\n",
      "3.8382196831703186\n",
      "3.7951112115383148\n",
      "3.8399351370334625\n"
     ]
    },
    {
     "name": "stderr",
     "output_type": "stream",
     "text": [
      " 85%|████████▌ | 17/20 [07:44<01:20, 26.89s/it]"
     ]
    },
    {
     "name": "stdout",
     "output_type": "stream",
     "text": [
      "3.3228242135047914\n",
      "3.186619679927826\n",
      "3.1528483057022094\n",
      "3.174216077327728\n",
      "3.218181920051575\n",
      "3.1578353810310364\n",
      "3.8028816747665406\n",
      "3.8897394835948944\n",
      "3.8505046808719636\n",
      "3.8271546292304994\n",
      "3.846734265089035\n",
      "3.843008086681366\n",
      "3.8314460909366606\n",
      "3.7882181608676913\n",
      "3.8329220497608185\n"
     ]
    },
    {
     "name": "stderr",
     "output_type": "stream",
     "text": [
      " 90%|█████████ | 18/20 [08:12<00:54, 27.09s/it]"
     ]
    },
    {
     "name": "stdout",
     "output_type": "stream",
     "text": [
      "3.3172886145114897\n",
      "3.1803526306152343\n",
      "3.148148548603058\n",
      "3.1686815643310546\n",
      "3.2145437252521516\n",
      "3.1541514801979065\n",
      "3.798376688957214\n",
      "3.8847726762294768\n",
      "3.8454574501514434\n",
      "3.8213632488250733\n",
      "3.8394937717914583\n",
      "3.8374250102043153\n",
      "3.824543573856354\n",
      "3.78288187623024\n",
      "3.8277378737926484\n"
     ]
    },
    {
     "name": "stderr",
     "output_type": "stream",
     "text": [
      " 95%|█████████▌| 19/20 [08:40<00:27, 27.47s/it]"
     ]
    },
    {
     "name": "stdout",
     "output_type": "stream",
     "text": [
      "3.3148046600818635\n",
      "3.1763145983219148\n",
      "3.144373699426651\n",
      "3.165206320285797\n",
      "3.210313776731491\n",
      "3.1508880281448364\n",
      "3.7881291246414186\n",
      "3.87868301987648\n",
      "3.8387313890457153\n",
      "3.8147604870796203\n",
      "3.8328970324993135\n",
      "3.833003615140915\n",
      "3.8188756716251375\n",
      "3.777221941947937\n",
      "3.8232156348228457\n"
     ]
    },
    {
     "name": "stderr",
     "output_type": "stream",
     "text": [
      "100%|██████████| 20/20 [09:08<00:00, 27.43s/it]\n"
     ]
    }
   ],
   "source": [
    "from tqdm import tqdm\n",
    "loss_vals_ex = []\n",
    "for epoch in tqdm(range(0, 20)):\n",
    "    for loss_checkpoint in train(model, loss, train_loader, optimizer, device):\n",
    "        print(loss_checkpoint)\n",
    "        loss_vals_ex.append(loss_checkpoint)\n"
   ]
  },
  {
   "cell_type": "code",
   "execution_count": 35,
   "id": "df40ef0b",
   "metadata": {
    "collapsed": true,
    "jupyter": {
     "outputs_hidden": true
    }
   },
   "outputs": [
    {
     "name": "stderr",
     "output_type": "stream",
     "text": [
      "  0%|          | 0/5 [00:00<?, ?it/s]"
     ]
    },
    {
     "name": "stdout",
     "output_type": "stream",
     "text": [
      "120.0755543255806\n",
      "3.9828561305999757\n",
      "3.622386051416397\n",
      "3.5485868036746977\n",
      "3.5197027778625487\n",
      "3.4215293097496033\n",
      "4.183448643684387\n",
      "4.256163290739059\n",
      "4.144325641393661\n",
      "4.070009963512421\n",
      "4.051526756286621\n",
      "4.017237858772278\n",
      "3.9812755715847015\n",
      "3.9089673709869386\n",
      "3.932940319776535\n"
     ]
    },
    {
     "name": "stderr",
     "output_type": "stream",
     "text": [
      " 20%|██        | 1/5 [00:54<03:36, 54.17s/it]"
     ]
    },
    {
     "name": "stdout",
     "output_type": "stream",
     "text": [
      "3.3515530812740324\n",
      "3.2193325531482695\n",
      "3.1806064152717592\n",
      "3.201851863861084\n",
      "3.2302050125598907\n",
      "3.1763774836063385\n",
      "3.822588076591492\n",
      "3.924048459529877\n",
      "3.8669290375709533\n",
      "3.8703863680362702\n",
      "3.842658234834671\n",
      "3.8352252292633056\n",
      "3.8274613821506502\n",
      "3.7652052462100984\n",
      "3.809544997215271\n"
     ]
    },
    {
     "name": "stderr",
     "output_type": "stream",
     "text": [
      " 40%|████      | 2/5 [01:47<02:41, 53.78s/it]"
     ]
    },
    {
     "name": "stdout",
     "output_type": "stream",
     "text": [
      "3.241978453397751\n",
      "3.1360880279541017\n",
      "3.1044166111946105\n",
      "3.1258944380283356\n",
      "3.160053026676178\n",
      "3.098088353872299\n",
      "3.718889820575714\n",
      "3.8232630479335783\n",
      "3.7793466579914092\n",
      "3.749001041650772\n",
      "3.7584486663341523\n",
      "3.750034794807434\n",
      "3.760283111333847\n",
      "3.6952326810359954\n",
      "3.7286125516891477\n"
     ]
    },
    {
     "name": "stderr",
     "output_type": "stream",
     "text": [
      " 60%|██████    | 3/5 [02:37<01:45, 52.80s/it]"
     ]
    },
    {
     "name": "stdout",
     "output_type": "stream",
     "text": [
      "3.183641276359558\n",
      "3.0818018853664397\n",
      "3.0540073382854462\n",
      "3.0789439880847933\n",
      "3.114036468267441\n",
      "3.0636930406093597\n",
      "3.669162093400955\n",
      "3.765758092403412\n",
      "3.7181340777873992\n",
      "3.7009637641906736\n",
      "3.7108392119407654\n",
      "3.7011619806289673\n",
      "3.6925164341926573\n",
      "3.652873134613037\n",
      "3.689224284887314\n"
     ]
    },
    {
     "name": "stderr",
     "output_type": "stream",
     "text": [
      " 80%|████████  | 4/5 [03:26<00:51, 51.49s/it]"
     ]
    },
    {
     "name": "stdout",
     "output_type": "stream",
     "text": [
      "3.1525743782520292\n",
      "3.05067308306694\n",
      "3.0369623672962187\n",
      "3.050768791437149\n",
      "3.090789141654968\n",
      "3.037046716213226\n",
      "3.645637415647507\n",
      "3.7263315761089326\n",
      "3.672072356939316\n",
      "3.6657824885845183\n",
      "3.6778964042663573\n",
      "3.6617695808410646\n",
      "3.661988289356232\n",
      "3.622953748703003\n",
      "3.6552924406528473\n"
     ]
    },
    {
     "name": "stderr",
     "output_type": "stream",
     "text": [
      "100%|██████████| 5/5 [04:13<00:00, 50.67s/it]\n"
     ]
    },
    {
     "data": {
      "text/plain": [
       "[120.0755543255806,\n",
       " 3.9828561305999757,\n",
       " 3.622386051416397,\n",
       " 3.5485868036746977,\n",
       " 3.5197027778625487,\n",
       " 3.4215293097496033,\n",
       " 4.183448643684387,\n",
       " 4.256163290739059,\n",
       " 4.144325641393661,\n",
       " 4.070009963512421,\n",
       " 4.051526756286621,\n",
       " 4.017237858772278,\n",
       " 3.9812755715847015,\n",
       " 3.9089673709869386,\n",
       " 3.932940319776535,\n",
       " 3.3515530812740324,\n",
       " 3.2193325531482695,\n",
       " 3.1806064152717592,\n",
       " 3.201851863861084,\n",
       " 3.2302050125598907,\n",
       " 3.1763774836063385,\n",
       " 3.822588076591492,\n",
       " 3.924048459529877,\n",
       " 3.8669290375709533,\n",
       " 3.8703863680362702,\n",
       " 3.842658234834671,\n",
       " 3.8352252292633056,\n",
       " 3.8274613821506502,\n",
       " 3.7652052462100984,\n",
       " 3.809544997215271,\n",
       " 3.241978453397751,\n",
       " 3.1360880279541017,\n",
       " 3.1044166111946105,\n",
       " 3.1258944380283356,\n",
       " 3.160053026676178,\n",
       " 3.098088353872299,\n",
       " 3.718889820575714,\n",
       " 3.8232630479335783,\n",
       " 3.7793466579914092,\n",
       " 3.749001041650772,\n",
       " 3.7584486663341523,\n",
       " 3.750034794807434,\n",
       " 3.760283111333847,\n",
       " 3.6952326810359954,\n",
       " 3.7286125516891477,\n",
       " 3.183641276359558,\n",
       " 3.0818018853664397,\n",
       " 3.0540073382854462,\n",
       " 3.0789439880847933,\n",
       " 3.114036468267441,\n",
       " 3.0636930406093597,\n",
       " 3.669162093400955,\n",
       " 3.765758092403412,\n",
       " 3.7181340777873992,\n",
       " 3.7009637641906736,\n",
       " 3.7108392119407654,\n",
       " 3.7011619806289673,\n",
       " 3.6925164341926573,\n",
       " 3.652873134613037,\n",
       " 3.689224284887314,\n",
       " 3.1525743782520292,\n",
       " 3.05067308306694,\n",
       " 3.0369623672962187,\n",
       " 3.050768791437149,\n",
       " 3.090789141654968,\n",
       " 3.037046716213226,\n",
       " 3.645637415647507,\n",
       " 3.7263315761089326,\n",
       " 3.672072356939316,\n",
       " 3.6657824885845183,\n",
       " 3.6778964042663573,\n",
       " 3.6617695808410646,\n",
       " 3.661988289356232,\n",
       " 3.622953748703003,\n",
       " 3.6552924406528473]"
      ]
     },
     "execution_count": 35,
     "metadata": {},
     "output_type": "execute_result"
    }
   ],
   "source": [
    "from model.autoencoder_models import UNet as UNet_control\n",
    "model_control = UNet_control(n=16).to(device)\n",
    "optimizer_control = torch.optim.Adam(model_control.parameters(), lr=args['lr'])\n",
    "loss_vals = []\n",
    "for epoch in tqdm(range(0, 5)):\n",
    "    for loss_checkpoint in train(model_control, loss, train_loader, optimizer_control, device):\n",
    "        print(loss_checkpoint)\n",
    "        loss_vals.append(loss_checkpoint)\n",
    "loss_vals        "
   ]
  },
  {
   "cell_type": "code",
   "execution_count": 137,
   "id": "7ca51835",
   "metadata": {},
   "outputs": [
    {
     "data": {
      "image/png": "[encoded data removed]",
      "text/plain": [
       "<Figure size 432x288 with 1 Axes>"
      ]
     },
     "metadata": {
      "needs_background": "light"
     },
     "output_type": "display_data"
    }
   ],
   "source": [
    "plt.plot(loss_vals, label='control')\n",
    "plt.yscale('log')\n",
    "plt.plot(loss_vals_ex[:75], label='pca thing')\n",
    "plt.yscale('log')\n",
    "plt.show()"
   ]
  },
  {
   "cell_type": "code",
   "execution_count": 12,
   "id": "0543e4fb",
   "metadata": {},
   "outputs": [],
   "source": [
    "def train(model, device, train_loader, optimizer, epoch):\n",
    "    model.train()\n",
    "    acc = 0\n",
    "    for batch_idx, (data, target) in enumerate(train_loader):\n",
    "        data, target = data.to(device), target.to(device)\n",
    "        optimizer.zero_grad()\n",
    "        output = model(data)\n",
    "        loss = torch.nn.functional.cross_entropy(output, target)\n",
    "        out_softmax = torch.nn.functional.softmax(output, dim=-1)\n",
    "        _, idx = torch.max(out_softmax, -1)\n",
    "        acc += (idx == target).float().mean()\n",
    "        loss.backward()\n",
    "        optimizer.step()\n",
    "        if (1+batch_idx) % 150 == 0:\n",
    "            print('Train Epoch: {} [{}/{} ({:.0f}%)]\\tLoss: {:.6f}\\tAccuracy:'.format(\n",
    "                epoch, batch_idx * len(data), len(train_loader.dataset),\n",
    "                100. * batch_idx / len(train_loader), loss.item()),\n",
    "                 acc.item()/150)\n",
    "            acc_copy = acc.clone()\n",
    "            acc *= 0\n",
    "            yield acc_copy.item() / 150\n"
   ]
  },
  {
   "cell_type": "code",
   "execution_count": 14,
   "id": "d8817572",
   "metadata": {},
   "outputs": [
    {
     "name": "stdout",
     "output_type": "stream",
     "text": [
      "Downloading https://www.cs.toronto.edu/~kriz/cifar-10-python.tar.gz to data2/cifar-10-python.tar.gz\n"
     ]
    },
    {
     "data": {
      "application/vnd.jupyter.widget-view+json": {
       "model_id": "ab3e40db2b7d4878a790a883673149bc",
       "version_major": 2,
       "version_minor": 0
      },
      "text/plain": [
       "HBox(children=(HTML(value=''), FloatProgress(value=0.0, max=170498071.0), HTML(value='')))"
      ]
     },
     "metadata": {},
     "output_type": "display_data"
    },
    {
     "name": "stdout",
     "output_type": "stream",
     "text": [
      "\n",
      "Extracting data2/cifar-10-python.tar.gz to data2\n"
     ]
    }
   ],
   "source": [
    "transform=torchvision.transforms.Compose([\n",
    "    torchvision.transforms.ToTensor(),\n",
    "    torchvision.transforms.Normalize((0.1307,), (0.3081,))\n",
    "    ])\n",
    "trainset = torchvision.datasets.CIFAR10(root='data2', train=True, download=True, transform=transform)\n",
    "# trainset = torchvision.datasets.MNIST('data', train=False,transform=transform)\n",
    "train_loader = torch.utils.data.DataLoader(trainset, batch_size=32)\n",
    "# test_loader = torch.utils.data.DataLoader(dataset2, batch_size=32)"
   ]
  },
  {
   "cell_type": "code",
   "execution_count": 30,
   "id": "2f1d79a3",
   "metadata": {},
   "outputs": [],
   "source": [
    "optimizer = torch.optim.Adam(model_control.parameters(), lr=3e-4)"
   ]
  },
  {
   "cell_type": "code",
   "execution_count": 145,
   "id": "4d23beac",
   "metadata": {
    "collapsed": true,
    "jupyter": {
     "outputs_hidden": true
    }
   },
   "outputs": [
    {
     "name": "stdout",
     "output_type": "stream",
     "text": [
      "Train Epoch: 1 [4768/50000 (10%)]\tLoss: 1.010902\tAccuracy: 0.645625\n",
      "Train Epoch: 1 [9568/50000 (19%)]\tLoss: 0.819527\tAccuracy: 0.6183333333333333\n",
      "Train Epoch: 1 [14368/50000 (29%)]\tLoss: 1.048664\tAccuracy: 0.6204166666666666\n",
      "Train Epoch: 1 [19168/50000 (38%)]\tLoss: 1.100863\tAccuracy: 0.6235416666666667\n",
      "Train Epoch: 1 [23968/50000 (48%)]\tLoss: 1.003893\tAccuracy: 0.6195833333333334\n",
      "Train Epoch: 1 [28768/50000 (58%)]\tLoss: 1.010216\tAccuracy: 0.635\n",
      "Train Epoch: 1 [33568/50000 (67%)]\tLoss: 1.030761\tAccuracy: 0.6229166666666667\n",
      "Train Epoch: 1 [38368/50000 (77%)]\tLoss: 1.057224\tAccuracy: 0.6122916666666667\n",
      "Train Epoch: 1 [43168/50000 (86%)]\tLoss: 1.231648\tAccuracy: 0.618125\n",
      "Train Epoch: 1 [47968/50000 (96%)]\tLoss: 1.017509\tAccuracy: 0.6235416666666667\n",
      "Train Epoch: 2 [4768/50000 (10%)]\tLoss: 0.999099\tAccuracy: 0.645625\n",
      "Train Epoch: 2 [9568/50000 (19%)]\tLoss: 0.817919\tAccuracy: 0.62125\n",
      "Train Epoch: 2 [14368/50000 (29%)]\tLoss: 1.045815\tAccuracy: 0.62125\n",
      "Train Epoch: 2 [19168/50000 (38%)]\tLoss: 1.088906\tAccuracy: 0.6216666666666667\n",
      "Train Epoch: 2 [23968/50000 (48%)]\tLoss: 0.995685\tAccuracy: 0.6204166666666666\n",
      "Train Epoch: 2 [28768/50000 (58%)]\tLoss: 1.011182\tAccuracy: 0.6339583333333333\n",
      "Train Epoch: 2 [33568/50000 (67%)]\tLoss: 1.023659\tAccuracy: 0.6260416666666667\n",
      "Train Epoch: 2 [38368/50000 (77%)]\tLoss: 1.046986\tAccuracy: 0.6133333333333333\n",
      "Train Epoch: 2 [43168/50000 (86%)]\tLoss: 1.223208\tAccuracy: 0.620625\n",
      "Train Epoch: 2 [47968/50000 (96%)]\tLoss: 1.014960\tAccuracy: 0.62625\n",
      "Train Epoch: 3 [4768/50000 (10%)]\tLoss: 0.987688\tAccuracy: 0.6479166666666667\n",
      "Train Epoch: 3 [9568/50000 (19%)]\tLoss: 0.813277\tAccuracy: 0.6220833333333333\n",
      "Train Epoch: 3 [14368/50000 (29%)]\tLoss: 1.040948\tAccuracy: 0.624375\n",
      "Train Epoch: 3 [19168/50000 (38%)]\tLoss: 1.082013\tAccuracy: 0.6222916666666667\n",
      "Train Epoch: 3 [23968/50000 (48%)]\tLoss: 0.990270\tAccuracy: 0.6227083333333333\n",
      "Train Epoch: 3 [28768/50000 (58%)]\tLoss: 1.014431\tAccuracy: 0.636875\n",
      "Train Epoch: 3 [33568/50000 (67%)]\tLoss: 1.014639\tAccuracy: 0.6291666666666667\n",
      "Train Epoch: 3 [38368/50000 (77%)]\tLoss: 1.036111\tAccuracy: 0.6189583333333334\n",
      "Train Epoch: 3 [43168/50000 (86%)]\tLoss: 1.211899\tAccuracy: 0.6216666666666667\n",
      "Train Epoch: 3 [47968/50000 (96%)]\tLoss: 1.008953\tAccuracy: 0.626875\n",
      "Train Epoch: 4 [4768/50000 (10%)]\tLoss: 0.979254\tAccuracy: 0.65\n",
      "Train Epoch: 4 [9568/50000 (19%)]\tLoss: 0.807814\tAccuracy: 0.6235416666666667\n",
      "Train Epoch: 4 [14368/50000 (29%)]\tLoss: 1.037752\tAccuracy: 0.6283333333333333\n",
      "Train Epoch: 4 [19168/50000 (38%)]\tLoss: 1.073113\tAccuracy: 0.6264583333333333\n",
      "Train Epoch: 4 [23968/50000 (48%)]\tLoss: 0.980562\tAccuracy: 0.6247916666666666\n",
      "Train Epoch: 4 [28768/50000 (58%)]\tLoss: 1.017080\tAccuracy: 0.6379166666666667\n",
      "Train Epoch: 4 [33568/50000 (67%)]\tLoss: 1.008832\tAccuracy: 0.63125\n",
      "Train Epoch: 4 [38368/50000 (77%)]\tLoss: 1.028476\tAccuracy: 0.6252083333333334\n",
      "Train Epoch: 4 [43168/50000 (86%)]\tLoss: 1.202524\tAccuracy: 0.626875\n",
      "Train Epoch: 4 [47968/50000 (96%)]\tLoss: 1.005899\tAccuracy: 0.6304166666666666\n",
      "Train Epoch: 5 [4768/50000 (10%)]\tLoss: 0.965585\tAccuracy: 0.6508333333333334\n",
      "Train Epoch: 5 [9568/50000 (19%)]\tLoss: 0.802180\tAccuracy: 0.6239583333333333\n",
      "Train Epoch: 5 [14368/50000 (29%)]\tLoss: 1.029755\tAccuracy: 0.6297916666666666\n",
      "Train Epoch: 5 [19168/50000 (38%)]\tLoss: 1.062140\tAccuracy: 0.6291666666666667\n",
      "Train Epoch: 5 [23968/50000 (48%)]\tLoss: 0.975987\tAccuracy: 0.6289583333333333\n",
      "Train Epoch: 5 [28768/50000 (58%)]\tLoss: 1.019192\tAccuracy: 0.64\n",
      "Train Epoch: 5 [33568/50000 (67%)]\tLoss: 1.000351\tAccuracy: 0.63375\n",
      "Train Epoch: 5 [38368/50000 (77%)]\tLoss: 1.018671\tAccuracy: 0.6285416666666667\n",
      "Train Epoch: 5 [43168/50000 (86%)]\tLoss: 1.186090\tAccuracy: 0.6304166666666666\n",
      "Train Epoch: 5 [47968/50000 (96%)]\tLoss: 0.999705\tAccuracy: 0.6295833333333334\n",
      "Train Epoch: 6 [4768/50000 (10%)]\tLoss: 0.954211\tAccuracy: 0.6514583333333334\n",
      "Train Epoch: 6 [9568/50000 (19%)]\tLoss: 0.803430\tAccuracy: 0.6258333333333334\n",
      "Train Epoch: 6 [14368/50000 (29%)]\tLoss: 1.023463\tAccuracy: 0.6310416666666666\n",
      "Train Epoch: 6 [19168/50000 (38%)]\tLoss: 1.052520\tAccuracy: 0.629375\n",
      "Train Epoch: 6 [23968/50000 (48%)]\tLoss: 0.972210\tAccuracy: 0.630625\n",
      "Train Epoch: 6 [28768/50000 (58%)]\tLoss: 1.018500\tAccuracy: 0.6402083333333334\n",
      "Train Epoch: 6 [33568/50000 (67%)]\tLoss: 0.996189\tAccuracy: 0.6360416666666666\n",
      "Train Epoch: 6 [38368/50000 (77%)]\tLoss: 1.011063\tAccuracy: 0.6310416666666666\n",
      "Train Epoch: 6 [43168/50000 (86%)]\tLoss: 1.177254\tAccuracy: 0.6335416666666667\n",
      "Train Epoch: 6 [47968/50000 (96%)]\tLoss: 0.994126\tAccuracy: 0.6320833333333333\n",
      "Train Epoch: 7 [4768/50000 (10%)]\tLoss: 0.945683\tAccuracy: 0.6527083333333333\n",
      "Train Epoch: 7 [9568/50000 (19%)]\tLoss: 0.794060\tAccuracy: 0.6264583333333333\n",
      "Train Epoch: 7 [14368/50000 (29%)]\tLoss: 1.020525\tAccuracy: 0.6320833333333333\n",
      "Train Epoch: 7 [19168/50000 (38%)]\tLoss: 1.046691\tAccuracy: 0.6310416666666666\n",
      "Train Epoch: 7 [23968/50000 (48%)]\tLoss: 0.965165\tAccuracy: 0.6320833333333333\n",
      "Train Epoch: 7 [28768/50000 (58%)]\tLoss: 1.021454\tAccuracy: 0.6435416666666667\n",
      "Train Epoch: 7 [33568/50000 (67%)]\tLoss: 0.996541\tAccuracy: 0.6360416666666666\n",
      "Train Epoch: 7 [38368/50000 (77%)]\tLoss: 1.000389\tAccuracy: 0.633125\n",
      "Train Epoch: 7 [43168/50000 (86%)]\tLoss: 1.163790\tAccuracy: 0.6335416666666667\n",
      "Train Epoch: 7 [47968/50000 (96%)]\tLoss: 0.994229\tAccuracy: 0.6304166666666666\n",
      "Train Epoch: 8 [4768/50000 (10%)]\tLoss: 0.936395\tAccuracy: 0.6535416666666667\n",
      "Train Epoch: 8 [9568/50000 (19%)]\tLoss: 0.791726\tAccuracy: 0.6258333333333334\n",
      "Train Epoch: 8 [14368/50000 (29%)]\tLoss: 1.010074\tAccuracy: 0.6333333333333333\n",
      "Train Epoch: 8 [19168/50000 (38%)]\tLoss: 1.034510\tAccuracy: 0.6335416666666667\n",
      "Train Epoch: 8 [23968/50000 (48%)]\tLoss: 0.960314\tAccuracy: 0.6372916666666667\n",
      "Train Epoch: 8 [28768/50000 (58%)]\tLoss: 1.019801\tAccuracy: 0.64375\n",
      "Train Epoch: 8 [33568/50000 (67%)]\tLoss: 0.992840\tAccuracy: 0.640625\n",
      "Train Epoch: 8 [38368/50000 (77%)]\tLoss: 0.993535\tAccuracy: 0.6345833333333334\n",
      "Train Epoch: 8 [43168/50000 (86%)]\tLoss: 1.148173\tAccuracy: 0.635625\n",
      "Train Epoch: 8 [47968/50000 (96%)]\tLoss: 0.992992\tAccuracy: 0.633125\n",
      "Train Epoch: 9 [4768/50000 (10%)]\tLoss: 0.923510\tAccuracy: 0.655\n",
      "Train Epoch: 9 [9568/50000 (19%)]\tLoss: 0.782472\tAccuracy: 0.6289583333333333\n",
      "Train Epoch: 9 [14368/50000 (29%)]\tLoss: 1.003532\tAccuracy: 0.6345833333333334\n",
      "Train Epoch: 9 [19168/50000 (38%)]\tLoss: 1.029197\tAccuracy: 0.6329166666666667\n",
      "Train Epoch: 9 [23968/50000 (48%)]\tLoss: 0.959362\tAccuracy: 0.6429166666666667\n",
      "Train Epoch: 9 [28768/50000 (58%)]\tLoss: 1.020790\tAccuracy: 0.645625\n",
      "Train Epoch: 9 [33568/50000 (67%)]\tLoss: 0.988760\tAccuracy: 0.6433333333333333\n",
      "Train Epoch: 9 [38368/50000 (77%)]\tLoss: 0.989104\tAccuracy: 0.6335416666666667\n",
      "Train Epoch: 9 [43168/50000 (86%)]\tLoss: 1.136256\tAccuracy: 0.6385416666666667\n",
      "Train Epoch: 9 [47968/50000 (96%)]\tLoss: 0.997741\tAccuracy: 0.6360416666666666\n",
      "Train Epoch: 10 [4768/50000 (10%)]\tLoss: 0.913424\tAccuracy: 0.6572916666666667\n",
      "Train Epoch: 10 [9568/50000 (19%)]\tLoss: 0.773046\tAccuracy: 0.6297916666666666\n",
      "Train Epoch: 10 [14368/50000 (29%)]\tLoss: 0.990970\tAccuracy: 0.6335416666666667\n",
      "Train Epoch: 10 [19168/50000 (38%)]\tLoss: 1.023429\tAccuracy: 0.635\n",
      "Train Epoch: 10 [23968/50000 (48%)]\tLoss: 0.952754\tAccuracy: 0.6416666666666667\n",
      "Train Epoch: 10 [28768/50000 (58%)]\tLoss: 1.018724\tAccuracy: 0.6475\n",
      "Train Epoch: 10 [33568/50000 (67%)]\tLoss: 0.980958\tAccuracy: 0.6427083333333333\n",
      "Train Epoch: 10 [38368/50000 (77%)]\tLoss: 0.982026\tAccuracy: 0.6364583333333333\n",
      "Train Epoch: 10 [43168/50000 (86%)]\tLoss: 1.121596\tAccuracy: 0.6383333333333333\n",
      "Train Epoch: 10 [47968/50000 (96%)]\tLoss: 0.998190\tAccuracy: 0.6364583333333333\n",
      "Train Epoch: 11 [4768/50000 (10%)]\tLoss: 0.904588\tAccuracy: 0.6595833333333333\n",
      "Train Epoch: 11 [9568/50000 (19%)]\tLoss: 0.768133\tAccuracy: 0.6329166666666667\n",
      "Train Epoch: 11 [14368/50000 (29%)]\tLoss: 0.982148\tAccuracy: 0.6364583333333333\n",
      "Train Epoch: 11 [19168/50000 (38%)]\tLoss: 1.019771\tAccuracy: 0.635\n",
      "Train Epoch: 11 [23968/50000 (48%)]\tLoss: 0.950156\tAccuracy: 0.6420833333333333\n",
      "Train Epoch: 11 [28768/50000 (58%)]\tLoss: 1.019193\tAccuracy: 0.6483333333333333\n",
      "Train Epoch: 11 [33568/50000 (67%)]\tLoss: 0.981955\tAccuracy: 0.6458333333333334\n",
      "Train Epoch: 11 [38368/50000 (77%)]\tLoss: 0.974871\tAccuracy: 0.63875\n",
      "Train Epoch: 11 [43168/50000 (86%)]\tLoss: 1.110443\tAccuracy: 0.6404166666666666\n",
      "Train Epoch: 11 [47968/50000 (96%)]\tLoss: 0.997935\tAccuracy: 0.6395833333333333\n",
      "Train Epoch: 12 [4768/50000 (10%)]\tLoss: 0.897757\tAccuracy: 0.6629166666666667\n",
      "Train Epoch: 12 [9568/50000 (19%)]\tLoss: 0.758363\tAccuracy: 0.6327083333333333\n",
      "Train Epoch: 12 [14368/50000 (29%)]\tLoss: 0.977625\tAccuracy: 0.638125\n",
      "Train Epoch: 12 [19168/50000 (38%)]\tLoss: 1.013576\tAccuracy: 0.6370833333333333\n",
      "Train Epoch: 12 [23968/50000 (48%)]\tLoss: 0.944099\tAccuracy: 0.6433333333333333\n",
      "Train Epoch: 12 [28768/50000 (58%)]\tLoss: 1.015970\tAccuracy: 0.64875\n",
      "Train Epoch: 12 [33568/50000 (67%)]\tLoss: 0.975619\tAccuracy: 0.64625\n",
      "Train Epoch: 12 [38368/50000 (77%)]\tLoss: 0.962654\tAccuracy: 0.63875\n",
      "Train Epoch: 12 [43168/50000 (86%)]\tLoss: 1.103129\tAccuracy: 0.64\n",
      "Train Epoch: 12 [47968/50000 (96%)]\tLoss: 0.997228\tAccuracy: 0.64125\n",
      "Train Epoch: 13 [4768/50000 (10%)]\tLoss: 0.892444\tAccuracy: 0.6635416666666667\n",
      "Train Epoch: 13 [9568/50000 (19%)]\tLoss: 0.754468\tAccuracy: 0.6333333333333333\n",
      "Train Epoch: 13 [14368/50000 (29%)]\tLoss: 0.967808\tAccuracy: 0.63875\n",
      "Train Epoch: 13 [19168/50000 (38%)]\tLoss: 1.011425\tAccuracy: 0.6377083333333333\n",
      "Train Epoch: 13 [23968/50000 (48%)]\tLoss: 0.949009\tAccuracy: 0.643125\n",
      "Train Epoch: 13 [28768/50000 (58%)]\tLoss: 1.015488\tAccuracy: 0.65\n",
      "Train Epoch: 13 [33568/50000 (67%)]\tLoss: 0.974243\tAccuracy: 0.6483333333333333\n",
      "Train Epoch: 13 [38368/50000 (77%)]\tLoss: 0.955114\tAccuracy: 0.6391666666666667\n",
      "Train Epoch: 13 [43168/50000 (86%)]\tLoss: 1.096836\tAccuracy: 0.6445833333333333\n",
      "Train Epoch: 13 [47968/50000 (96%)]\tLoss: 0.996860\tAccuracy: 0.640625\n",
      "Train Epoch: 14 [4768/50000 (10%)]\tLoss: 0.885368\tAccuracy: 0.6633333333333333\n",
      "Train Epoch: 14 [9568/50000 (19%)]\tLoss: 0.748379\tAccuracy: 0.6352083333333334\n",
      "Train Epoch: 14 [14368/50000 (29%)]\tLoss: 0.959676\tAccuracy: 0.6420833333333333\n",
      "Train Epoch: 14 [19168/50000 (38%)]\tLoss: 1.010194\tAccuracy: 0.6397916666666666\n",
      "Train Epoch: 14 [23968/50000 (48%)]\tLoss: 0.947538\tAccuracy: 0.6439583333333333\n",
      "Train Epoch: 14 [28768/50000 (58%)]\tLoss: 1.015244\tAccuracy: 0.651875\n",
      "Train Epoch: 14 [33568/50000 (67%)]\tLoss: 0.969252\tAccuracy: 0.6489583333333333\n",
      "Train Epoch: 14 [38368/50000 (77%)]\tLoss: 0.946712\tAccuracy: 0.639375\n",
      "Train Epoch: 14 [43168/50000 (86%)]\tLoss: 1.086232\tAccuracy: 0.6445833333333333\n",
      "Train Epoch: 14 [47968/50000 (96%)]\tLoss: 1.002035\tAccuracy: 0.6420833333333333\n",
      "Train Epoch: 15 [4768/50000 (10%)]\tLoss: 0.878952\tAccuracy: 0.66375\n",
      "Train Epoch: 15 [9568/50000 (19%)]\tLoss: 0.748807\tAccuracy: 0.6379166666666667\n",
      "Train Epoch: 15 [14368/50000 (29%)]\tLoss: 0.954412\tAccuracy: 0.6441666666666667\n",
      "Train Epoch: 15 [19168/50000 (38%)]\tLoss: 1.008007\tAccuracy: 0.6410416666666666\n",
      "Train Epoch: 15 [23968/50000 (48%)]\tLoss: 0.943540\tAccuracy: 0.6479166666666667\n",
      "Train Epoch: 15 [28768/50000 (58%)]\tLoss: 1.011487\tAccuracy: 0.6535416666666667\n",
      "Train Epoch: 15 [33568/50000 (67%)]\tLoss: 0.966325\tAccuracy: 0.6508333333333334\n",
      "Train Epoch: 15 [38368/50000 (77%)]\tLoss: 0.942413\tAccuracy: 0.6410416666666666\n",
      "Train Epoch: 15 [43168/50000 (86%)]\tLoss: 1.080599\tAccuracy: 0.6477083333333333\n",
      "Train Epoch: 15 [47968/50000 (96%)]\tLoss: 1.002137\tAccuracy: 0.6460416666666666\n",
      "Train Epoch: 16 [4768/50000 (10%)]\tLoss: 0.869177\tAccuracy: 0.665\n",
      "Train Epoch: 16 [9568/50000 (19%)]\tLoss: 0.748373\tAccuracy: 0.6395833333333333\n",
      "Train Epoch: 16 [14368/50000 (29%)]\tLoss: 0.948335\tAccuracy: 0.6433333333333333\n",
      "Train Epoch: 16 [19168/50000 (38%)]\tLoss: 1.005594\tAccuracy: 0.6420833333333333\n",
      "Train Epoch: 16 [23968/50000 (48%)]\tLoss: 0.943904\tAccuracy: 0.6485416666666667\n",
      "Train Epoch: 16 [28768/50000 (58%)]\tLoss: 1.010661\tAccuracy: 0.655625\n",
      "Train Epoch: 16 [33568/50000 (67%)]\tLoss: 0.964355\tAccuracy: 0.653125\n",
      "Train Epoch: 16 [38368/50000 (77%)]\tLoss: 0.937017\tAccuracy: 0.6420833333333333\n",
      "Train Epoch: 16 [43168/50000 (86%)]\tLoss: 1.076713\tAccuracy: 0.650625\n",
      "Train Epoch: 16 [47968/50000 (96%)]\tLoss: 1.002778\tAccuracy: 0.6445833333333333\n",
      "Train Epoch: 17 [4768/50000 (10%)]\tLoss: 0.862657\tAccuracy: 0.665625\n",
      "Train Epoch: 17 [9568/50000 (19%)]\tLoss: 0.736504\tAccuracy: 0.6402083333333334\n",
      "Train Epoch: 17 [14368/50000 (29%)]\tLoss: 0.938740\tAccuracy: 0.6439583333333333\n",
      "Train Epoch: 17 [19168/50000 (38%)]\tLoss: 1.001435\tAccuracy: 0.6422916666666667\n",
      "Train Epoch: 17 [23968/50000 (48%)]\tLoss: 0.942361\tAccuracy: 0.650625\n",
      "Train Epoch: 17 [28768/50000 (58%)]\tLoss: 1.010585\tAccuracy: 0.6570833333333334\n",
      "Train Epoch: 17 [33568/50000 (67%)]\tLoss: 0.956899\tAccuracy: 0.65625\n",
      "Train Epoch: 17 [38368/50000 (77%)]\tLoss: 0.931077\tAccuracy: 0.643125\n",
      "Train Epoch: 17 [43168/50000 (86%)]\tLoss: 1.067429\tAccuracy: 0.6525\n",
      "Train Epoch: 17 [47968/50000 (96%)]\tLoss: 0.999826\tAccuracy: 0.645\n",
      "Train Epoch: 18 [4768/50000 (10%)]\tLoss: 0.855606\tAccuracy: 0.668125\n",
      "Train Epoch: 18 [9568/50000 (19%)]\tLoss: 0.732381\tAccuracy: 0.6441666666666667\n",
      "Train Epoch: 18 [14368/50000 (29%)]\tLoss: 0.933280\tAccuracy: 0.6470833333333333\n",
      "Train Epoch: 18 [19168/50000 (38%)]\tLoss: 0.998206\tAccuracy: 0.6439583333333333\n",
      "Train Epoch: 18 [23968/50000 (48%)]\tLoss: 0.940789\tAccuracy: 0.6516666666666666\n",
      "Train Epoch: 18 [28768/50000 (58%)]\tLoss: 1.011693\tAccuracy: 0.6570833333333334\n",
      "Train Epoch: 18 [33568/50000 (67%)]\tLoss: 0.953372\tAccuracy: 0.6577083333333333\n",
      "Train Epoch: 18 [38368/50000 (77%)]\tLoss: 0.918742\tAccuracy: 0.6447916666666667\n",
      "Train Epoch: 18 [43168/50000 (86%)]\tLoss: 1.062052\tAccuracy: 0.654375\n",
      "Train Epoch: 18 [47968/50000 (96%)]\tLoss: 0.998841\tAccuracy: 0.6460416666666666\n",
      "Train Epoch: 19 [4768/50000 (10%)]\tLoss: 0.848149\tAccuracy: 0.67\n",
      "Train Epoch: 19 [9568/50000 (19%)]\tLoss: 0.728766\tAccuracy: 0.6454166666666666\n",
      "Train Epoch: 19 [14368/50000 (29%)]\tLoss: 0.922306\tAccuracy: 0.6483333333333333\n",
      "Train Epoch: 19 [19168/50000 (38%)]\tLoss: 0.999055\tAccuracy: 0.6447916666666667\n",
      "Train Epoch: 19 [23968/50000 (48%)]\tLoss: 0.936823\tAccuracy: 0.6539583333333333\n",
      "Train Epoch: 19 [28768/50000 (58%)]\tLoss: 1.009532\tAccuracy: 0.65875\n",
      "Train Epoch: 19 [33568/50000 (67%)]\tLoss: 0.952210\tAccuracy: 0.6572916666666667\n",
      "Train Epoch: 19 [38368/50000 (77%)]\tLoss: 0.906346\tAccuracy: 0.645625\n",
      "Train Epoch: 19 [43168/50000 (86%)]\tLoss: 1.050156\tAccuracy: 0.6570833333333334\n",
      "Train Epoch: 19 [47968/50000 (96%)]\tLoss: 0.995495\tAccuracy: 0.6466666666666666\n",
      "Train Epoch: 20 [4768/50000 (10%)]\tLoss: 0.838148\tAccuracy: 0.6733333333333333\n",
      "Train Epoch: 20 [9568/50000 (19%)]\tLoss: 0.722431\tAccuracy: 0.6477083333333333\n",
      "Train Epoch: 20 [14368/50000 (29%)]\tLoss: 0.913963\tAccuracy: 0.6491666666666667\n",
      "Train Epoch: 20 [19168/50000 (38%)]\tLoss: 0.990735\tAccuracy: 0.6477083333333333\n",
      "Train Epoch: 20 [23968/50000 (48%)]\tLoss: 0.931136\tAccuracy: 0.6545833333333333\n",
      "Train Epoch: 20 [28768/50000 (58%)]\tLoss: 1.004642\tAccuracy: 0.659375\n",
      "Train Epoch: 20 [33568/50000 (67%)]\tLoss: 0.947628\tAccuracy: 0.6589583333333333\n",
      "Train Epoch: 20 [38368/50000 (77%)]\tLoss: 0.899913\tAccuracy: 0.6485416666666667\n",
      "Train Epoch: 20 [43168/50000 (86%)]\tLoss: 1.047003\tAccuracy: 0.6597916666666667\n",
      "Train Epoch: 20 [47968/50000 (96%)]\tLoss: 0.988237\tAccuracy: 0.6466666666666666\n",
      "Train Epoch: 21 [4768/50000 (10%)]\tLoss: 0.831034\tAccuracy: 0.6745833333333333\n",
      "Train Epoch: 21 [9568/50000 (19%)]\tLoss: 0.720779\tAccuracy: 0.648125\n",
      "Train Epoch: 21 [14368/50000 (29%)]\tLoss: 0.907601\tAccuracy: 0.65\n",
      "Train Epoch: 21 [19168/50000 (38%)]\tLoss: 0.985981\tAccuracy: 0.6485416666666667\n",
      "Train Epoch: 21 [23968/50000 (48%)]\tLoss: 0.934121\tAccuracy: 0.655\n",
      "Train Epoch: 21 [28768/50000 (58%)]\tLoss: 0.998838\tAccuracy: 0.6608333333333334\n",
      "Train Epoch: 21 [33568/50000 (67%)]\tLoss: 0.947618\tAccuracy: 0.66\n",
      "Train Epoch: 21 [38368/50000 (77%)]\tLoss: 0.897381\tAccuracy: 0.6483333333333333\n",
      "Train Epoch: 21 [43168/50000 (86%)]\tLoss: 1.038858\tAccuracy: 0.66\n",
      "Train Epoch: 21 [47968/50000 (96%)]\tLoss: 0.983267\tAccuracy: 0.646875\n",
      "Train Epoch: 22 [4768/50000 (10%)]\tLoss: 0.826704\tAccuracy: 0.676875\n",
      "Train Epoch: 22 [9568/50000 (19%)]\tLoss: 0.720582\tAccuracy: 0.64875\n",
      "Train Epoch: 22 [14368/50000 (29%)]\tLoss: 0.899990\tAccuracy: 0.6502083333333334\n",
      "Train Epoch: 22 [19168/50000 (38%)]\tLoss: 0.979260\tAccuracy: 0.6497916666666667\n",
      "Train Epoch: 22 [23968/50000 (48%)]\tLoss: 0.935443\tAccuracy: 0.6566666666666666\n",
      "Train Epoch: 22 [28768/50000 (58%)]\tLoss: 0.992717\tAccuracy: 0.6614583333333334\n",
      "Train Epoch: 22 [33568/50000 (67%)]\tLoss: 0.944271\tAccuracy: 0.65875\n",
      "Train Epoch: 22 [38368/50000 (77%)]\tLoss: 0.891694\tAccuracy: 0.65\n",
      "Train Epoch: 22 [43168/50000 (86%)]\tLoss: 1.032034\tAccuracy: 0.6608333333333334\n",
      "Train Epoch: 22 [47968/50000 (96%)]\tLoss: 0.978098\tAccuracy: 0.6470833333333333\n",
      "Train Epoch: 23 [4768/50000 (10%)]\tLoss: 0.823711\tAccuracy: 0.6772916666666666\n",
      "Train Epoch: 23 [9568/50000 (19%)]\tLoss: 0.720521\tAccuracy: 0.6495833333333333\n",
      "Train Epoch: 23 [14368/50000 (29%)]\tLoss: 0.898455\tAccuracy: 0.6502083333333334\n",
      "Train Epoch: 23 [19168/50000 (38%)]\tLoss: 0.975272\tAccuracy: 0.6508333333333334\n",
      "Train Epoch: 23 [23968/50000 (48%)]\tLoss: 0.937704\tAccuracy: 0.6585416666666667\n",
      "Train Epoch: 23 [28768/50000 (58%)]\tLoss: 0.988612\tAccuracy: 0.6625\n",
      "Train Epoch: 23 [33568/50000 (67%)]\tLoss: 0.943442\tAccuracy: 0.6614583333333334\n",
      "Train Epoch: 23 [38368/50000 (77%)]\tLoss: 0.879902\tAccuracy: 0.6520833333333333\n",
      "Train Epoch: 23 [43168/50000 (86%)]\tLoss: 1.024578\tAccuracy: 0.6629166666666667\n",
      "Train Epoch: 23 [47968/50000 (96%)]\tLoss: 0.980335\tAccuracy: 0.6491666666666667\n",
      "Train Epoch: 24 [4768/50000 (10%)]\tLoss: 0.819280\tAccuracy: 0.6783333333333333\n",
      "Train Epoch: 24 [9568/50000 (19%)]\tLoss: 0.719747\tAccuracy: 0.650625\n",
      "Train Epoch: 24 [14368/50000 (29%)]\tLoss: 0.895633\tAccuracy: 0.6510416666666666\n",
      "Train Epoch: 24 [19168/50000 (38%)]\tLoss: 0.970197\tAccuracy: 0.6525\n",
      "Train Epoch: 24 [23968/50000 (48%)]\tLoss: 0.935390\tAccuracy: 0.6595833333333333\n",
      "Train Epoch: 24 [28768/50000 (58%)]\tLoss: 0.981990\tAccuracy: 0.6652083333333333\n",
      "Train Epoch: 24 [33568/50000 (67%)]\tLoss: 0.946570\tAccuracy: 0.66375\n",
      "Train Epoch: 24 [38368/50000 (77%)]\tLoss: 0.874991\tAccuracy: 0.65375\n",
      "Train Epoch: 24 [43168/50000 (86%)]\tLoss: 1.013166\tAccuracy: 0.663125\n",
      "Train Epoch: 24 [47968/50000 (96%)]\tLoss: 0.979711\tAccuracy: 0.6510416666666666\n",
      "Train Epoch: 25 [4768/50000 (10%)]\tLoss: 0.813718\tAccuracy: 0.680625\n",
      "Train Epoch: 25 [9568/50000 (19%)]\tLoss: 0.719428\tAccuracy: 0.6510416666666666\n",
      "Train Epoch: 25 [14368/50000 (29%)]\tLoss: 0.894964\tAccuracy: 0.654375\n",
      "Train Epoch: 25 [19168/50000 (38%)]\tLoss: 0.965901\tAccuracy: 0.6525\n",
      "Train Epoch: 25 [23968/50000 (48%)]\tLoss: 0.932389\tAccuracy: 0.6604166666666667\n",
      "Train Epoch: 25 [28768/50000 (58%)]\tLoss: 0.978250\tAccuracy: 0.6658333333333334\n",
      "Train Epoch: 25 [33568/50000 (67%)]\tLoss: 0.944666\tAccuracy: 0.664375\n",
      "Train Epoch: 25 [38368/50000 (77%)]\tLoss: 0.870768\tAccuracy: 0.6541666666666667\n",
      "Train Epoch: 25 [43168/50000 (86%)]\tLoss: 1.010123\tAccuracy: 0.6645833333333333\n",
      "Train Epoch: 25 [47968/50000 (96%)]\tLoss: 0.976711\tAccuracy: 0.6510416666666666\n",
      "Train Epoch: 26 [4768/50000 (10%)]\tLoss: 0.809168\tAccuracy: 0.6835416666666667\n",
      "Train Epoch: 26 [9568/50000 (19%)]\tLoss: 0.724374\tAccuracy: 0.6541666666666667\n",
      "Train Epoch: 26 [14368/50000 (29%)]\tLoss: 0.886895\tAccuracy: 0.6547916666666667\n",
      "Train Epoch: 26 [19168/50000 (38%)]\tLoss: 0.960423\tAccuracy: 0.6541666666666667\n",
      "Train Epoch: 26 [23968/50000 (48%)]\tLoss: 0.932601\tAccuracy: 0.6614583333333334\n",
      "Train Epoch: 26 [28768/50000 (58%)]\tLoss: 0.976540\tAccuracy: 0.666875\n",
      "Train Epoch: 26 [33568/50000 (67%)]\tLoss: 0.938127\tAccuracy: 0.6654166666666667\n",
      "Train Epoch: 26 [38368/50000 (77%)]\tLoss: 0.862005\tAccuracy: 0.6564583333333334\n",
      "Train Epoch: 26 [43168/50000 (86%)]\tLoss: 1.006248\tAccuracy: 0.6654166666666667\n",
      "Train Epoch: 26 [47968/50000 (96%)]\tLoss: 0.970615\tAccuracy: 0.65375\n",
      "Train Epoch: 27 [4768/50000 (10%)]\tLoss: 0.804636\tAccuracy: 0.6845833333333333\n",
      "Train Epoch: 27 [9568/50000 (19%)]\tLoss: 0.727759\tAccuracy: 0.6533333333333333\n",
      "Train Epoch: 27 [14368/50000 (29%)]\tLoss: 0.885435\tAccuracy: 0.6554166666666666\n",
      "Train Epoch: 27 [19168/50000 (38%)]\tLoss: 0.956737\tAccuracy: 0.6570833333333334\n",
      "Train Epoch: 27 [23968/50000 (48%)]\tLoss: 0.932434\tAccuracy: 0.6622916666666666\n",
      "Train Epoch: 27 [28768/50000 (58%)]\tLoss: 0.974078\tAccuracy: 0.6666666666666666\n",
      "Train Epoch: 27 [33568/50000 (67%)]\tLoss: 0.938319\tAccuracy: 0.6677083333333333\n",
      "Train Epoch: 27 [38368/50000 (77%)]\tLoss: 0.858337\tAccuracy: 0.6570833333333334\n",
      "Train Epoch: 27 [43168/50000 (86%)]\tLoss: 1.003735\tAccuracy: 0.6652083333333333\n",
      "Train Epoch: 27 [47968/50000 (96%)]\tLoss: 0.971514\tAccuracy: 0.653125\n",
      "Train Epoch: 28 [4768/50000 (10%)]\tLoss: 0.799864\tAccuracy: 0.685625\n",
      "Train Epoch: 28 [9568/50000 (19%)]\tLoss: 0.734528\tAccuracy: 0.653125\n",
      "Train Epoch: 28 [14368/50000 (29%)]\tLoss: 0.882496\tAccuracy: 0.6558333333333334\n",
      "Train Epoch: 28 [19168/50000 (38%)]\tLoss: 0.950988\tAccuracy: 0.6589583333333333\n",
      "Train Epoch: 28 [23968/50000 (48%)]\tLoss: 0.932888\tAccuracy: 0.66375\n",
      "Train Epoch: 28 [28768/50000 (58%)]\tLoss: 0.970389\tAccuracy: 0.6679166666666667\n",
      "Train Epoch: 28 [33568/50000 (67%)]\tLoss: 0.939714\tAccuracy: 0.66875\n",
      "Train Epoch: 28 [38368/50000 (77%)]\tLoss: 0.850989\tAccuracy: 0.6602083333333333\n",
      "Train Epoch: 28 [43168/50000 (86%)]\tLoss: 1.000668\tAccuracy: 0.6677083333333333\n",
      "Train Epoch: 28 [47968/50000 (96%)]\tLoss: 0.971546\tAccuracy: 0.6566666666666666\n",
      "Train Epoch: 29 [4768/50000 (10%)]\tLoss: 0.795248\tAccuracy: 0.68625\n",
      "Train Epoch: 29 [9568/50000 (19%)]\tLoss: 0.739488\tAccuracy: 0.655625\n",
      "Train Epoch: 29 [14368/50000 (29%)]\tLoss: 0.875904\tAccuracy: 0.6585416666666667\n",
      "Train Epoch: 29 [19168/50000 (38%)]\tLoss: 0.947817\tAccuracy: 0.659375\n",
      "Train Epoch: 29 [23968/50000 (48%)]\tLoss: 0.931473\tAccuracy: 0.66375\n",
      "Train Epoch: 29 [28768/50000 (58%)]\tLoss: 0.969180\tAccuracy: 0.6695833333333333\n",
      "Train Epoch: 29 [33568/50000 (67%)]\tLoss: 0.939707\tAccuracy: 0.6695833333333333\n",
      "Train Epoch: 29 [38368/50000 (77%)]\tLoss: 0.854633\tAccuracy: 0.661875\n",
      "Train Epoch: 29 [43168/50000 (86%)]\tLoss: 0.990428\tAccuracy: 0.669375\n",
      "Train Epoch: 29 [47968/50000 (96%)]\tLoss: 0.965592\tAccuracy: 0.6560416666666666\n"
     ]
    }
   ],
   "source": [
    "# control run\n",
    "# loss_control = []\n",
    "epochs = 30\n",
    "for epoch in range(1, epochs):\n",
    "    for loss_val in train(model_control, device, train_loader, optimizer, epoch):\n",
    "        loss_control.append(loss_val)\n"
   ]
  },
  {
   "cell_type": "code",
   "execution_count": 146,
   "id": "ad57e4a9",
   "metadata": {
    "collapsed": true,
    "jupyter": {
     "outputs_hidden": true
    }
   },
   "outputs": [
    {
     "name": "stdout",
     "output_type": "stream",
     "text": [
      "Train Epoch: 1 [4768/50000 (10%)]\tLoss: 2.327898\tAccuracy: 0.15791666666666668\n",
      "Train Epoch: 1 [9568/50000 (19%)]\tLoss: 2.123215\tAccuracy: 0.19895833333333332\n",
      "Train Epoch: 1 [14368/50000 (29%)]\tLoss: 2.119751\tAccuracy: 0.19395833333333334\n"
     ]
    },
    {
     "ename": "KeyboardInterrupt",
     "evalue": "",
     "output_type": "error",
     "traceback": [
      "\u001b[0;31m---------------------------------------------------------------------------\u001b[0m",
      "\u001b[0;31mKeyboardInterrupt\u001b[0m                         Traceback (most recent call last)",
      "\u001b[0;32m<ipython-input-146-2bb131e84e9e>\u001b[0m in \u001b[0;36m<module>\u001b[0;34m\u001b[0m\n\u001b[1;32m      5\u001b[0m \u001b[0moptimizer2\u001b[0m \u001b[0;34m=\u001b[0m \u001b[0mtorch\u001b[0m\u001b[0;34m.\u001b[0m\u001b[0moptim\u001b[0m\u001b[0;34m.\u001b[0m\u001b[0mAdam\u001b[0m\u001b[0;34m(\u001b[0m\u001b[0mmodel_control2\u001b[0m\u001b[0;34m.\u001b[0m\u001b[0mparameters\u001b[0m\u001b[0;34m(\u001b[0m\u001b[0;34m)\u001b[0m\u001b[0;34m,\u001b[0m \u001b[0mlr\u001b[0m\u001b[0;34m=\u001b[0m\u001b[0;36m3e-4\u001b[0m\u001b[0;34m)\u001b[0m\u001b[0;34m\u001b[0m\u001b[0;34m\u001b[0m\u001b[0m\n\u001b[1;32m      6\u001b[0m \u001b[0;32mfor\u001b[0m \u001b[0mepoch\u001b[0m \u001b[0;32min\u001b[0m \u001b[0mrange\u001b[0m\u001b[0;34m(\u001b[0m\u001b[0;36m1\u001b[0m\u001b[0;34m,\u001b[0m \u001b[0mepochs\u001b[0m\u001b[0;34m)\u001b[0m\u001b[0;34m:\u001b[0m\u001b[0;34m\u001b[0m\u001b[0;34m\u001b[0m\u001b[0m\n\u001b[0;32m----> 7\u001b[0;31m     \u001b[0;32mfor\u001b[0m \u001b[0mloss_val\u001b[0m \u001b[0;32min\u001b[0m \u001b[0mtrain\u001b[0m\u001b[0;34m(\u001b[0m\u001b[0mmodel_control2\u001b[0m\u001b[0;34m,\u001b[0m \u001b[0mdevice\u001b[0m\u001b[0;34m,\u001b[0m \u001b[0mtrain_loader\u001b[0m\u001b[0;34m,\u001b[0m \u001b[0moptimizer2\u001b[0m\u001b[0;34m,\u001b[0m \u001b[0mepoch\u001b[0m\u001b[0;34m)\u001b[0m\u001b[0;34m:\u001b[0m\u001b[0;34m\u001b[0m\u001b[0;34m\u001b[0m\u001b[0m\n\u001b[0m\u001b[1;32m      8\u001b[0m         \u001b[0mloss_control2\u001b[0m\u001b[0;34m.\u001b[0m\u001b[0mappend\u001b[0m\u001b[0;34m(\u001b[0m\u001b[0mloss_val\u001b[0m\u001b[0;34m)\u001b[0m\u001b[0;34m\u001b[0m\u001b[0;34m\u001b[0m\u001b[0m\n",
      "\u001b[0;32m<ipython-input-12-8091b908afe3>\u001b[0m in \u001b[0;36mtrain\u001b[0;34m(model, device, train_loader, optimizer, epoch)\u001b[0m\n\u001b[1;32m      2\u001b[0m     \u001b[0mmodel\u001b[0m\u001b[0;34m.\u001b[0m\u001b[0mtrain\u001b[0m\u001b[0;34m(\u001b[0m\u001b[0;34m)\u001b[0m\u001b[0;34m\u001b[0m\u001b[0;34m\u001b[0m\u001b[0m\n\u001b[1;32m      3\u001b[0m     \u001b[0macc\u001b[0m \u001b[0;34m=\u001b[0m \u001b[0;36m0\u001b[0m\u001b[0;34m\u001b[0m\u001b[0;34m\u001b[0m\u001b[0m\n\u001b[0;32m----> 4\u001b[0;31m     \u001b[0;32mfor\u001b[0m \u001b[0mbatch_idx\u001b[0m\u001b[0;34m,\u001b[0m \u001b[0;34m(\u001b[0m\u001b[0mdata\u001b[0m\u001b[0;34m,\u001b[0m \u001b[0mtarget\u001b[0m\u001b[0;34m)\u001b[0m \u001b[0;32min\u001b[0m \u001b[0menumerate\u001b[0m\u001b[0;34m(\u001b[0m\u001b[0mtrain_loader\u001b[0m\u001b[0;34m)\u001b[0m\u001b[0;34m:\u001b[0m\u001b[0;34m\u001b[0m\u001b[0;34m\u001b[0m\u001b[0m\n\u001b[0m\u001b[1;32m      5\u001b[0m         \u001b[0mdata\u001b[0m\u001b[0;34m,\u001b[0m \u001b[0mtarget\u001b[0m \u001b[0;34m=\u001b[0m \u001b[0mdata\u001b[0m\u001b[0;34m.\u001b[0m\u001b[0mto\u001b[0m\u001b[0;34m(\u001b[0m\u001b[0mdevice\u001b[0m\u001b[0;34m)\u001b[0m\u001b[0;34m,\u001b[0m \u001b[0mtarget\u001b[0m\u001b[0;34m.\u001b[0m\u001b[0mto\u001b[0m\u001b[0;34m(\u001b[0m\u001b[0mdevice\u001b[0m\u001b[0;34m)\u001b[0m\u001b[0;34m\u001b[0m\u001b[0;34m\u001b[0m\u001b[0m\n\u001b[1;32m      6\u001b[0m         \u001b[0moptimizer\u001b[0m\u001b[0;34m.\u001b[0m\u001b[0mzero_grad\u001b[0m\u001b[0;34m(\u001b[0m\u001b[0;34m)\u001b[0m\u001b[0;34m\u001b[0m\u001b[0;34m\u001b[0m\u001b[0m\n",
      "\u001b[0;32m~/.conda/envs/will-gpu/lib/python3.8/site-packages/torch/utils/data/dataloader.py\u001b[0m in \u001b[0;36m__next__\u001b[0;34m(self)\u001b[0m\n\u001b[1;32m    515\u001b[0m             \u001b[0;32mif\u001b[0m \u001b[0mself\u001b[0m\u001b[0;34m.\u001b[0m\u001b[0m_sampler_iter\u001b[0m \u001b[0;32mis\u001b[0m \u001b[0;32mNone\u001b[0m\u001b[0;34m:\u001b[0m\u001b[0;34m\u001b[0m\u001b[0;34m\u001b[0m\u001b[0m\n\u001b[1;32m    516\u001b[0m                 \u001b[0mself\u001b[0m\u001b[0;34m.\u001b[0m\u001b[0m_reset\u001b[0m\u001b[0;34m(\u001b[0m\u001b[0;34m)\u001b[0m\u001b[0;34m\u001b[0m\u001b[0;34m\u001b[0m\u001b[0m\n\u001b[0;32m--> 517\u001b[0;31m             \u001b[0mdata\u001b[0m \u001b[0;34m=\u001b[0m \u001b[0mself\u001b[0m\u001b[0;34m.\u001b[0m\u001b[0m_next_data\u001b[0m\u001b[0;34m(\u001b[0m\u001b[0;34m)\u001b[0m\u001b[0;34m\u001b[0m\u001b[0;34m\u001b[0m\u001b[0m\n\u001b[0m\u001b[1;32m    518\u001b[0m             \u001b[0mself\u001b[0m\u001b[0;34m.\u001b[0m\u001b[0m_num_yielded\u001b[0m \u001b[0;34m+=\u001b[0m \u001b[0;36m1\u001b[0m\u001b[0;34m\u001b[0m\u001b[0;34m\u001b[0m\u001b[0m\n\u001b[1;32m    519\u001b[0m             \u001b[0;32mif\u001b[0m \u001b[0mself\u001b[0m\u001b[0;34m.\u001b[0m\u001b[0m_dataset_kind\u001b[0m \u001b[0;34m==\u001b[0m \u001b[0m_DatasetKind\u001b[0m\u001b[0;34m.\u001b[0m\u001b[0mIterable\u001b[0m \u001b[0;32mand\u001b[0m\u001b[0;31m \u001b[0m\u001b[0;31m\\\u001b[0m\u001b[0;34m\u001b[0m\u001b[0;34m\u001b[0m\u001b[0m\n",
      "\u001b[0;32m~/.conda/envs/will-gpu/lib/python3.8/site-packages/torch/utils/data/dataloader.py\u001b[0m in \u001b[0;36m_next_data\u001b[0;34m(self)\u001b[0m\n\u001b[1;32m    555\u001b[0m     \u001b[0;32mdef\u001b[0m \u001b[0m_next_data\u001b[0m\u001b[0;34m(\u001b[0m\u001b[0mself\u001b[0m\u001b[0;34m)\u001b[0m\u001b[0;34m:\u001b[0m\u001b[0;34m\u001b[0m\u001b[0;34m\u001b[0m\u001b[0m\n\u001b[1;32m    556\u001b[0m         \u001b[0mindex\u001b[0m \u001b[0;34m=\u001b[0m \u001b[0mself\u001b[0m\u001b[0;34m.\u001b[0m\u001b[0m_next_index\u001b[0m\u001b[0;34m(\u001b[0m\u001b[0;34m)\u001b[0m  \u001b[0;31m# may raise StopIteration\u001b[0m\u001b[0;34m\u001b[0m\u001b[0;34m\u001b[0m\u001b[0m\n\u001b[0;32m--> 557\u001b[0;31m         \u001b[0mdata\u001b[0m \u001b[0;34m=\u001b[0m \u001b[0mself\u001b[0m\u001b[0;34m.\u001b[0m\u001b[0m_dataset_fetcher\u001b[0m\u001b[0;34m.\u001b[0m\u001b[0mfetch\u001b[0m\u001b[0;34m(\u001b[0m\u001b[0mindex\u001b[0m\u001b[0;34m)\u001b[0m  \u001b[0;31m# may raise StopIteration\u001b[0m\u001b[0;34m\u001b[0m\u001b[0;34m\u001b[0m\u001b[0m\n\u001b[0m\u001b[1;32m    558\u001b[0m         \u001b[0;32mif\u001b[0m \u001b[0mself\u001b[0m\u001b[0;34m.\u001b[0m\u001b[0m_pin_memory\u001b[0m\u001b[0;34m:\u001b[0m\u001b[0;34m\u001b[0m\u001b[0;34m\u001b[0m\u001b[0m\n\u001b[1;32m    559\u001b[0m             \u001b[0mdata\u001b[0m \u001b[0;34m=\u001b[0m \u001b[0m_utils\u001b[0m\u001b[0;34m.\u001b[0m\u001b[0mpin_memory\u001b[0m\u001b[0;34m.\u001b[0m\u001b[0mpin_memory\u001b[0m\u001b[0;34m(\u001b[0m\u001b[0mdata\u001b[0m\u001b[0;34m)\u001b[0m\u001b[0;34m\u001b[0m\u001b[0;34m\u001b[0m\u001b[0m\n",
      "\u001b[0;32m~/.conda/envs/will-gpu/lib/python3.8/site-packages/torch/utils/data/_utils/fetch.py\u001b[0m in \u001b[0;36mfetch\u001b[0;34m(self, possibly_batched_index)\u001b[0m\n\u001b[1;32m     42\u001b[0m     \u001b[0;32mdef\u001b[0m \u001b[0mfetch\u001b[0m\u001b[0;34m(\u001b[0m\u001b[0mself\u001b[0m\u001b[0;34m,\u001b[0m \u001b[0mpossibly_batched_index\u001b[0m\u001b[0;34m)\u001b[0m\u001b[0;34m:\u001b[0m\u001b[0;34m\u001b[0m\u001b[0;34m\u001b[0m\u001b[0m\n\u001b[1;32m     43\u001b[0m         \u001b[0;32mif\u001b[0m \u001b[0mself\u001b[0m\u001b[0;34m.\u001b[0m\u001b[0mauto_collation\u001b[0m\u001b[0;34m:\u001b[0m\u001b[0;34m\u001b[0m\u001b[0;34m\u001b[0m\u001b[0m\n\u001b[0;32m---> 44\u001b[0;31m             \u001b[0mdata\u001b[0m \u001b[0;34m=\u001b[0m \u001b[0;34m[\u001b[0m\u001b[0mself\u001b[0m\u001b[0;34m.\u001b[0m\u001b[0mdataset\u001b[0m\u001b[0;34m[\u001b[0m\u001b[0midx\u001b[0m\u001b[0;34m]\u001b[0m \u001b[0;32mfor\u001b[0m \u001b[0midx\u001b[0m \u001b[0;32min\u001b[0m \u001b[0mpossibly_batched_index\u001b[0m\u001b[0;34m]\u001b[0m\u001b[0;34m\u001b[0m\u001b[0;34m\u001b[0m\u001b[0m\n\u001b[0m\u001b[1;32m     45\u001b[0m         \u001b[0;32melse\u001b[0m\u001b[0;34m:\u001b[0m\u001b[0;34m\u001b[0m\u001b[0;34m\u001b[0m\u001b[0m\n\u001b[1;32m     46\u001b[0m             \u001b[0mdata\u001b[0m \u001b[0;34m=\u001b[0m \u001b[0mself\u001b[0m\u001b[0;34m.\u001b[0m\u001b[0mdataset\u001b[0m\u001b[0;34m[\u001b[0m\u001b[0mpossibly_batched_index\u001b[0m\u001b[0;34m]\u001b[0m\u001b[0;34m\u001b[0m\u001b[0;34m\u001b[0m\u001b[0m\n",
      "\u001b[0;32m~/.conda/envs/will-gpu/lib/python3.8/site-packages/torch/utils/data/_utils/fetch.py\u001b[0m in \u001b[0;36m<listcomp>\u001b[0;34m(.0)\u001b[0m\n\u001b[1;32m     42\u001b[0m     \u001b[0;32mdef\u001b[0m \u001b[0mfetch\u001b[0m\u001b[0;34m(\u001b[0m\u001b[0mself\u001b[0m\u001b[0;34m,\u001b[0m \u001b[0mpossibly_batched_index\u001b[0m\u001b[0;34m)\u001b[0m\u001b[0;34m:\u001b[0m\u001b[0;34m\u001b[0m\u001b[0;34m\u001b[0m\u001b[0m\n\u001b[1;32m     43\u001b[0m         \u001b[0;32mif\u001b[0m \u001b[0mself\u001b[0m\u001b[0;34m.\u001b[0m\u001b[0mauto_collation\u001b[0m\u001b[0;34m:\u001b[0m\u001b[0;34m\u001b[0m\u001b[0;34m\u001b[0m\u001b[0m\n\u001b[0;32m---> 44\u001b[0;31m             \u001b[0mdata\u001b[0m \u001b[0;34m=\u001b[0m \u001b[0;34m[\u001b[0m\u001b[0mself\u001b[0m\u001b[0;34m.\u001b[0m\u001b[0mdataset\u001b[0m\u001b[0;34m[\u001b[0m\u001b[0midx\u001b[0m\u001b[0;34m]\u001b[0m \u001b[0;32mfor\u001b[0m \u001b[0midx\u001b[0m \u001b[0;32min\u001b[0m \u001b[0mpossibly_batched_index\u001b[0m\u001b[0;34m]\u001b[0m\u001b[0;34m\u001b[0m\u001b[0;34m\u001b[0m\u001b[0m\n\u001b[0m\u001b[1;32m     45\u001b[0m         \u001b[0;32melse\u001b[0m\u001b[0;34m:\u001b[0m\u001b[0;34m\u001b[0m\u001b[0;34m\u001b[0m\u001b[0m\n\u001b[1;32m     46\u001b[0m             \u001b[0mdata\u001b[0m \u001b[0;34m=\u001b[0m \u001b[0mself\u001b[0m\u001b[0;34m.\u001b[0m\u001b[0mdataset\u001b[0m\u001b[0;34m[\u001b[0m\u001b[0mpossibly_batched_index\u001b[0m\u001b[0;34m]\u001b[0m\u001b[0;34m\u001b[0m\u001b[0;34m\u001b[0m\u001b[0m\n",
      "\u001b[0;32m~/.conda/envs/will-gpu/lib/python3.8/site-packages/torchvision/datasets/cifar.py\u001b[0m in \u001b[0;36m__getitem__\u001b[0;34m(self, index)\u001b[0m\n\u001b[1;32m    118\u001b[0m \u001b[0;34m\u001b[0m\u001b[0m\n\u001b[1;32m    119\u001b[0m         \u001b[0;32mif\u001b[0m \u001b[0mself\u001b[0m\u001b[0;34m.\u001b[0m\u001b[0mtransform\u001b[0m \u001b[0;32mis\u001b[0m \u001b[0;32mnot\u001b[0m \u001b[0;32mNone\u001b[0m\u001b[0;34m:\u001b[0m\u001b[0;34m\u001b[0m\u001b[0;34m\u001b[0m\u001b[0m\n\u001b[0;32m--> 120\u001b[0;31m             \u001b[0mimg\u001b[0m \u001b[0;34m=\u001b[0m \u001b[0mself\u001b[0m\u001b[0;34m.\u001b[0m\u001b[0mtransform\u001b[0m\u001b[0;34m(\u001b[0m\u001b[0mimg\u001b[0m\u001b[0;34m)\u001b[0m\u001b[0;34m\u001b[0m\u001b[0;34m\u001b[0m\u001b[0m\n\u001b[0m\u001b[1;32m    121\u001b[0m \u001b[0;34m\u001b[0m\u001b[0m\n\u001b[1;32m    122\u001b[0m         \u001b[0;32mif\u001b[0m \u001b[0mself\u001b[0m\u001b[0;34m.\u001b[0m\u001b[0mtarget_transform\u001b[0m \u001b[0;32mis\u001b[0m \u001b[0;32mnot\u001b[0m \u001b[0;32mNone\u001b[0m\u001b[0;34m:\u001b[0m\u001b[0;34m\u001b[0m\u001b[0;34m\u001b[0m\u001b[0m\n",
      "\u001b[0;32m~/.conda/envs/will-gpu/lib/python3.8/site-packages/torchvision/transforms/transforms.py\u001b[0m in \u001b[0;36m__call__\u001b[0;34m(self, img)\u001b[0m\n\u001b[1;32m     58\u001b[0m     \u001b[0;32mdef\u001b[0m \u001b[0m__call__\u001b[0m\u001b[0;34m(\u001b[0m\u001b[0mself\u001b[0m\u001b[0;34m,\u001b[0m \u001b[0mimg\u001b[0m\u001b[0;34m)\u001b[0m\u001b[0;34m:\u001b[0m\u001b[0;34m\u001b[0m\u001b[0;34m\u001b[0m\u001b[0m\n\u001b[1;32m     59\u001b[0m         \u001b[0;32mfor\u001b[0m \u001b[0mt\u001b[0m \u001b[0;32min\u001b[0m \u001b[0mself\u001b[0m\u001b[0;34m.\u001b[0m\u001b[0mtransforms\u001b[0m\u001b[0;34m:\u001b[0m\u001b[0;34m\u001b[0m\u001b[0;34m\u001b[0m\u001b[0m\n\u001b[0;32m---> 60\u001b[0;31m             \u001b[0mimg\u001b[0m \u001b[0;34m=\u001b[0m \u001b[0mt\u001b[0m\u001b[0;34m(\u001b[0m\u001b[0mimg\u001b[0m\u001b[0;34m)\u001b[0m\u001b[0;34m\u001b[0m\u001b[0;34m\u001b[0m\u001b[0m\n\u001b[0m\u001b[1;32m     61\u001b[0m         \u001b[0;32mreturn\u001b[0m \u001b[0mimg\u001b[0m\u001b[0;34m\u001b[0m\u001b[0;34m\u001b[0m\u001b[0m\n\u001b[1;32m     62\u001b[0m \u001b[0;34m\u001b[0m\u001b[0m\n",
      "\u001b[0;32m~/.conda/envs/will-gpu/lib/python3.8/site-packages/torch/nn/modules/module.py\u001b[0m in \u001b[0;36m_call_impl\u001b[0;34m(self, *input, **kwargs)\u001b[0m\n\u001b[1;32m    887\u001b[0m             \u001b[0mresult\u001b[0m \u001b[0;34m=\u001b[0m \u001b[0mself\u001b[0m\u001b[0;34m.\u001b[0m\u001b[0m_slow_forward\u001b[0m\u001b[0;34m(\u001b[0m\u001b[0;34m*\u001b[0m\u001b[0minput\u001b[0m\u001b[0;34m,\u001b[0m \u001b[0;34m**\u001b[0m\u001b[0mkwargs\u001b[0m\u001b[0;34m)\u001b[0m\u001b[0;34m\u001b[0m\u001b[0;34m\u001b[0m\u001b[0m\n\u001b[1;32m    888\u001b[0m         \u001b[0;32melse\u001b[0m\u001b[0;34m:\u001b[0m\u001b[0;34m\u001b[0m\u001b[0;34m\u001b[0m\u001b[0m\n\u001b[0;32m--> 889\u001b[0;31m             \u001b[0mresult\u001b[0m \u001b[0;34m=\u001b[0m \u001b[0mself\u001b[0m\u001b[0;34m.\u001b[0m\u001b[0mforward\u001b[0m\u001b[0;34m(\u001b[0m\u001b[0;34m*\u001b[0m\u001b[0minput\u001b[0m\u001b[0;34m,\u001b[0m \u001b[0;34m**\u001b[0m\u001b[0mkwargs\u001b[0m\u001b[0;34m)\u001b[0m\u001b[0;34m\u001b[0m\u001b[0;34m\u001b[0m\u001b[0m\n\u001b[0m\u001b[1;32m    890\u001b[0m         for hook in itertools.chain(\n\u001b[1;32m    891\u001b[0m                 \u001b[0m_global_forward_hooks\u001b[0m\u001b[0;34m.\u001b[0m\u001b[0mvalues\u001b[0m\u001b[0;34m(\u001b[0m\u001b[0;34m)\u001b[0m\u001b[0;34m,\u001b[0m\u001b[0;34m\u001b[0m\u001b[0;34m\u001b[0m\u001b[0m\n",
      "\u001b[0;32m~/.conda/envs/will-gpu/lib/python3.8/site-packages/torchvision/transforms/transforms.py\u001b[0m in \u001b[0;36mforward\u001b[0;34m(self, tensor)\u001b[0m\n\u001b[1;32m    219\u001b[0m             \u001b[0mTensor\u001b[0m\u001b[0;34m:\u001b[0m \u001b[0mNormalized\u001b[0m \u001b[0mTensor\u001b[0m \u001b[0mimage\u001b[0m\u001b[0;34m.\u001b[0m\u001b[0;34m\u001b[0m\u001b[0;34m\u001b[0m\u001b[0m\n\u001b[1;32m    220\u001b[0m         \"\"\"\n\u001b[0;32m--> 221\u001b[0;31m         \u001b[0;32mreturn\u001b[0m \u001b[0mF\u001b[0m\u001b[0;34m.\u001b[0m\u001b[0mnormalize\u001b[0m\u001b[0;34m(\u001b[0m\u001b[0mtensor\u001b[0m\u001b[0;34m,\u001b[0m \u001b[0mself\u001b[0m\u001b[0;34m.\u001b[0m\u001b[0mmean\u001b[0m\u001b[0;34m,\u001b[0m \u001b[0mself\u001b[0m\u001b[0;34m.\u001b[0m\u001b[0mstd\u001b[0m\u001b[0;34m,\u001b[0m \u001b[0mself\u001b[0m\u001b[0;34m.\u001b[0m\u001b[0minplace\u001b[0m\u001b[0;34m)\u001b[0m\u001b[0;34m\u001b[0m\u001b[0;34m\u001b[0m\u001b[0m\n\u001b[0m\u001b[1;32m    222\u001b[0m \u001b[0;34m\u001b[0m\u001b[0m\n\u001b[1;32m    223\u001b[0m     \u001b[0;32mdef\u001b[0m \u001b[0m__repr__\u001b[0m\u001b[0;34m(\u001b[0m\u001b[0mself\u001b[0m\u001b[0;34m)\u001b[0m\u001b[0;34m:\u001b[0m\u001b[0;34m\u001b[0m\u001b[0;34m\u001b[0m\u001b[0m\n",
      "\u001b[0;32m~/.conda/envs/will-gpu/lib/python3.8/site-packages/torchvision/transforms/functional.py\u001b[0m in \u001b[0;36mnormalize\u001b[0;34m(tensor, mean, std, inplace)\u001b[0m\n\u001b[1;32m    323\u001b[0m \u001b[0;34m\u001b[0m\u001b[0m\n\u001b[1;32m    324\u001b[0m     \u001b[0;32mif\u001b[0m \u001b[0;32mnot\u001b[0m \u001b[0minplace\u001b[0m\u001b[0;34m:\u001b[0m\u001b[0;34m\u001b[0m\u001b[0;34m\u001b[0m\u001b[0m\n\u001b[0;32m--> 325\u001b[0;31m         \u001b[0mtensor\u001b[0m \u001b[0;34m=\u001b[0m \u001b[0mtensor\u001b[0m\u001b[0;34m.\u001b[0m\u001b[0mclone\u001b[0m\u001b[0;34m(\u001b[0m\u001b[0;34m)\u001b[0m\u001b[0;34m\u001b[0m\u001b[0;34m\u001b[0m\u001b[0m\n\u001b[0m\u001b[1;32m    326\u001b[0m \u001b[0;34m\u001b[0m\u001b[0m\n\u001b[1;32m    327\u001b[0m     \u001b[0mdtype\u001b[0m \u001b[0;34m=\u001b[0m \u001b[0mtensor\u001b[0m\u001b[0;34m.\u001b[0m\u001b[0mdtype\u001b[0m\u001b[0;34m\u001b[0m\u001b[0;34m\u001b[0m\u001b[0m\n",
      "\u001b[0;31mKeyboardInterrupt\u001b[0m: "
     ]
    }
   ],
   "source": [
    "# control run\n",
    "# loss_control2 = []\n",
    "epochs = 30\n",
    "model_control2 = Model_control().to(device)\n",
    "optimizer2 = torch.optim.Adam(model_control2.parameters(), lr=3e-4)\n",
    "for epoch in range(1, epochs):\n",
    "    for loss_val in train(model_control2, device, train_loader, optimizer2, epoch):\n",
    "        loss_control2.append(loss_val)\n"
   ]
  },
  {
   "cell_type": "code",
   "execution_count": 147,
   "id": "df2f4059",
   "metadata": {
    "collapsed": true,
    "jupyter": {
     "outputs_hidden": true
    }
   },
   "outputs": [
    {
     "name": "stdout",
     "output_type": "stream",
     "text": [
      "Train Epoch: 1 [4768/50000 (10%)]\tLoss: 1.560789\tAccuracy: 0.333125\n",
      "Train Epoch: 1 [9568/50000 (19%)]\tLoss: 1.648169\tAccuracy: 0.33875\n",
      "Train Epoch: 1 [14368/50000 (29%)]\tLoss: 1.560525\tAccuracy: 0.34770833333333334\n",
      "Train Epoch: 1 [19168/50000 (38%)]\tLoss: 1.701597\tAccuracy: 0.35479166666666667\n",
      "Train Epoch: 1 [23968/50000 (48%)]\tLoss: 1.778425\tAccuracy: 0.38604166666666667\n"
     ]
    },
    {
     "ename": "KeyboardInterrupt",
     "evalue": "",
     "output_type": "error",
     "traceback": [
      "\u001b[0;31m---------------------------------------------------------------------------\u001b[0m",
      "\u001b[0;31mKeyboardInterrupt\u001b[0m                         Traceback (most recent call last)",
      "\u001b[0;32m<ipython-input-147-b4fab7842787>\u001b[0m in \u001b[0;36m<module>\u001b[0;34m\u001b[0m\n\u001b[1;32m      5\u001b[0m \u001b[0;31m# optimizer3 = torch.optim.Adam(model_control3.parameters(), lr=3e-4)\u001b[0m\u001b[0;34m\u001b[0m\u001b[0;34m\u001b[0m\u001b[0;34m\u001b[0m\u001b[0m\n\u001b[1;32m      6\u001b[0m \u001b[0;32mfor\u001b[0m \u001b[0mepoch\u001b[0m \u001b[0;32min\u001b[0m \u001b[0mrange\u001b[0m\u001b[0;34m(\u001b[0m\u001b[0;36m1\u001b[0m\u001b[0;34m,\u001b[0m \u001b[0mepochs\u001b[0m\u001b[0;34m)\u001b[0m\u001b[0;34m:\u001b[0m\u001b[0;34m\u001b[0m\u001b[0;34m\u001b[0m\u001b[0m\n\u001b[0;32m----> 7\u001b[0;31m     \u001b[0;32mfor\u001b[0m \u001b[0mloss_val\u001b[0m \u001b[0;32min\u001b[0m \u001b[0mtrain\u001b[0m\u001b[0;34m(\u001b[0m\u001b[0mmodel_control3\u001b[0m\u001b[0;34m,\u001b[0m \u001b[0mdevice\u001b[0m\u001b[0;34m,\u001b[0m \u001b[0mtrain_loader\u001b[0m\u001b[0;34m,\u001b[0m \u001b[0moptimizer3\u001b[0m\u001b[0;34m,\u001b[0m \u001b[0mepoch\u001b[0m\u001b[0;34m)\u001b[0m\u001b[0;34m:\u001b[0m\u001b[0;34m\u001b[0m\u001b[0;34m\u001b[0m\u001b[0m\n\u001b[0m\u001b[1;32m      8\u001b[0m         \u001b[0mloss_control3\u001b[0m\u001b[0;34m.\u001b[0m\u001b[0mappend\u001b[0m\u001b[0;34m(\u001b[0m\u001b[0mloss_val\u001b[0m\u001b[0;34m)\u001b[0m\u001b[0;34m\u001b[0m\u001b[0;34m\u001b[0m\u001b[0m\n",
      "\u001b[0;32m<ipython-input-12-8091b908afe3>\u001b[0m in \u001b[0;36mtrain\u001b[0;34m(model, device, train_loader, optimizer, epoch)\u001b[0m\n\u001b[1;32m      3\u001b[0m     \u001b[0macc\u001b[0m \u001b[0;34m=\u001b[0m \u001b[0;36m0\u001b[0m\u001b[0;34m\u001b[0m\u001b[0;34m\u001b[0m\u001b[0m\n\u001b[1;32m      4\u001b[0m     \u001b[0;32mfor\u001b[0m \u001b[0mbatch_idx\u001b[0m\u001b[0;34m,\u001b[0m \u001b[0;34m(\u001b[0m\u001b[0mdata\u001b[0m\u001b[0;34m,\u001b[0m \u001b[0mtarget\u001b[0m\u001b[0;34m)\u001b[0m \u001b[0;32min\u001b[0m \u001b[0menumerate\u001b[0m\u001b[0;34m(\u001b[0m\u001b[0mtrain_loader\u001b[0m\u001b[0;34m)\u001b[0m\u001b[0;34m:\u001b[0m\u001b[0;34m\u001b[0m\u001b[0;34m\u001b[0m\u001b[0m\n\u001b[0;32m----> 5\u001b[0;31m         \u001b[0mdata\u001b[0m\u001b[0;34m,\u001b[0m \u001b[0mtarget\u001b[0m \u001b[0;34m=\u001b[0m \u001b[0mdata\u001b[0m\u001b[0;34m.\u001b[0m\u001b[0mto\u001b[0m\u001b[0;34m(\u001b[0m\u001b[0mdevice\u001b[0m\u001b[0;34m)\u001b[0m\u001b[0;34m,\u001b[0m \u001b[0mtarget\u001b[0m\u001b[0;34m.\u001b[0m\u001b[0mto\u001b[0m\u001b[0;34m(\u001b[0m\u001b[0mdevice\u001b[0m\u001b[0;34m)\u001b[0m\u001b[0;34m\u001b[0m\u001b[0;34m\u001b[0m\u001b[0m\n\u001b[0m\u001b[1;32m      6\u001b[0m         \u001b[0moptimizer\u001b[0m\u001b[0;34m.\u001b[0m\u001b[0mzero_grad\u001b[0m\u001b[0;34m(\u001b[0m\u001b[0;34m)\u001b[0m\u001b[0;34m\u001b[0m\u001b[0;34m\u001b[0m\u001b[0m\n\u001b[1;32m      7\u001b[0m         \u001b[0moutput\u001b[0m \u001b[0;34m=\u001b[0m \u001b[0mmodel\u001b[0m\u001b[0;34m(\u001b[0m\u001b[0mdata\u001b[0m\u001b[0;34m)\u001b[0m\u001b[0;34m\u001b[0m\u001b[0;34m\u001b[0m\u001b[0m\n",
      "\u001b[0;31mKeyboardInterrupt\u001b[0m: "
     ]
    }
   ],
   "source": [
    "# control run\n",
    "# loss_control3 = []\n",
    "epochs = 30\n",
    "# model_control3 = Model_control().to(device)\n",
    "# optimizer3 = torch.optim.Adam(model_control3.parameters(), lr=3e-4)\n",
    "for epoch in range(1, epochs):\n",
    "    for loss_val in train(model_control3, device, train_loader, optimizer3, epoch):\n",
    "        loss_control3.append(loss_val)\n"
   ]
  },
  {
   "cell_type": "code",
   "execution_count": 148,
   "id": "14bfb64a",
   "metadata": {},
   "outputs": [],
   "source": [
    "tensors = []\n",
    "for name, tensor in model_control.state_dict().items():\n",
    "    if ('weight' in name) & ('linear' not in name):\n",
    "        tensors.append(tensor.view(-1, 9)) # 9 because we are using 3x3 kernels \n",
    "# for name, tensor in model_control2.state_dict().items():\n",
    "#     if ('weight' in name) & ('linear' not in name):\n",
    "#         tensors.append(tensor.view(-1, 9)) # 9 because we are using 3x3 kernels \n",
    "# for name, tensor in model_control3.state_dict().items():\n",
    "#     if ('weight' in name) & ('linear' not in name):\n",
    "#         tensors.append(tensor.view(-1, 9)) # 9 because we are using 3x3 kernels \n",
    "all_kernels = torch.cat(tensors).cpu()"
   ]
  },
  {
   "cell_type": "code",
   "execution_count": 149,
   "id": "afb159d1",
   "metadata": {},
   "outputs": [
    {
     "data": {
      "text/plain": [
       "torch.Size([720, 9])"
      ]
     },
     "execution_count": 149,
     "metadata": {},
     "output_type": "execute_result"
    }
   ],
   "source": [
    "all_kernels.shape"
   ]
  },
  {
   "cell_type": "code",
   "execution_count": 150,
   "id": "3792d31b",
   "metadata": {},
   "outputs": [],
   "source": [
    "n_features = 2 # pca to 2d \n",
    "means = all_kernels.mean(axis=0).unsqueeze(0)\n",
    "centered_kernels = all_kernels - means\n",
    "cov_matrix = torch.matmul(centered_kernels.cuda().T, centered_kernels.cuda()) # need cuda otherwise takes forever\n",
    "v, w = torch.eig(cov_matrix, eigenvectors=True) # same comment as above\n",
    "pca_reduced_points = torch.matmul(centered_kernels.detach(), w[:, :n_features].cpu()) # dont need gpu here, though\n",
    "kernel_basis_vectors = w.view(9, 3, 3)"
   ]
  },
  {
   "cell_type": "code",
   "execution_count": 151,
   "id": "703ba3e6",
   "metadata": {},
   "outputs": [
    {
     "data": {
      "image/png": "[encoded data removed]",
      "text/plain": [
       "<Figure size 432x288 with 1 Axes>"
      ]
     },
     "metadata": {
      "needs_background": "light"
     },
     "output_type": "display_data"
    }
   ],
   "source": [
    "# the only thing this tells us is that our pca is very numerically unstable lol\n",
    "plt.bar(torch.arange(v.size(0)), v[:, 0].cpu()) # get real part of eigenvalues\n",
    "plt.show()"
   ]
  },
  {
   "cell_type": "code",
   "execution_count": 172,
   "id": "8d459a94",
   "metadata": {},
   "outputs": [],
   "source": [
    "class Model_experiment(torch.nn.Module):\n",
    "    \n",
    "    def __init__(self, basis_vectors, device): # need device in __init__ because of weight assignment - https://discuss.pytorch.org/t/typeerror-cannot-assign-torch-cuda-floattensor-as-parameter-weight-torch-nn-parameter-or-none-expected/61765\n",
    "        super().__init__()\n",
    "        \n",
    "        # conv basis weights\n",
    "        norm_divisor = 10\n",
    "        self.cbw1 = torch.nn.parameter.Parameter((torch.rand(16, 3, 4, device=device)-.5)/norm_divisor)\n",
    "        self.cbw2 = torch.nn.parameter.Parameter((torch.rand(16, 16, 4, device=device)-.5)/norm_divisor)\n",
    "        self.cbw3 = torch.nn.parameter.Parameter((torch.rand(16, 16, 4, device=device)-.5)/norm_divisor)\n",
    "        self.cbw4 = torch.nn.parameter.Parameter((torch.rand(10, 16, 4, device=device)-.5)/norm_divisor)\n",
    "        \n",
    "        self.linear = torch.nn.Linear(24*24, 1)\n",
    "        \n",
    "        # kernel basis vectors\n",
    "        self.kbf = basis_vectors.to(device)\n",
    "    def forward(self, x):\n",
    "        # should be able to optimize parameters? \n",
    "        conv1_weight = torch.einsum('bld,dnm -> blnm', self.cbw1, self.kbf)\n",
    "        x = torch.nn.functional.conv2d(input=x, weight=conv1_weight, stride=1)\n",
    "        \n",
    "        conv2_weight = torch.einsum('bld,dnm -> blnm', self.cbw2, self.kbf)\n",
    "        x = torch.nn.functional.conv2d(input=x, weight=conv2_weight, stride=1)\n",
    "        \n",
    "        conv3_weight = torch.einsum('bld,dnm -> blnm', self.cbw3, self.kbf)\n",
    "        x = torch.nn.functional.conv2d(input=x, weight=conv3_weight, stride=1)\n",
    "        \n",
    "        conv4_weight = torch.einsum('bld,dnm -> blnm', self.cbw4, self.kbf)\n",
    "        x = torch.nn.functional.conv2d(input=x, weight=conv4_weight, stride=1)\n",
    "        \n",
    "        x = self.linear(x.view(x.size(0), 10, -1))\n",
    "        return x.squeeze(-1)\n"
   ]
  },
  {
   "cell_type": "code",
   "execution_count": 173,
   "id": "34d2e7ea",
   "metadata": {},
   "outputs": [],
   "source": [
    "model_ex = Model_experiment(kernel_basis_vectors[:4], device).to(device)"
   ]
  },
  {
   "cell_type": "code",
   "execution_count": 174,
   "id": "5d541d5a",
   "metadata": {},
   "outputs": [],
   "source": [
    "optimizer_ex = torch.optim.Adam(model_ex.parameters(), lr=5e-4)"
   ]
  },
  {
   "cell_type": "code",
   "execution_count": null,
   "id": "4b5b7587",
   "metadata": {},
   "outputs": [
    {
     "name": "stdout",
     "output_type": "stream",
     "text": [
      "Train Epoch: 1 [4768/50000 (10%)]\tLoss: 2.235107\tAccuracy: 0.10708333333333334\n",
      "Train Epoch: 1 [9568/50000 (19%)]\tLoss: 2.262482\tAccuracy: 0.178125\n",
      "Train Epoch: 1 [14368/50000 (29%)]\tLoss: 2.218242\tAccuracy: 0.19520833333333334\n",
      "Train Epoch: 1 [19168/50000 (38%)]\tLoss: 1.907750\tAccuracy: 0.20895833333333333\n",
      "Train Epoch: 1 [23968/50000 (48%)]\tLoss: 2.048964\tAccuracy: 0.23\n",
      "Train Epoch: 1 [28768/50000 (58%)]\tLoss: 2.299437\tAccuracy: 0.234375\n",
      "Train Epoch: 1 [33568/50000 (67%)]\tLoss: 2.073807\tAccuracy: 0.24270833333333333\n",
      "Train Epoch: 1 [38368/50000 (77%)]\tLoss: 2.100562\tAccuracy: 0.25875\n",
      "Train Epoch: 1 [43168/50000 (86%)]\tLoss: 2.297457\tAccuracy: 0.24770833333333334\n",
      "Train Epoch: 1 [47968/50000 (96%)]\tLoss: 1.913155\tAccuracy: 0.259375\n",
      "Train Epoch: 2 [4768/50000 (10%)]\tLoss: 2.015248\tAccuracy: 0.26708333333333334\n",
      "Train Epoch: 2 [9568/50000 (19%)]\tLoss: 2.018712\tAccuracy: 0.255625\n",
      "Train Epoch: 2 [14368/50000 (29%)]\tLoss: 2.094684\tAccuracy: 0.2679166666666667\n",
      "Train Epoch: 2 [19168/50000 (38%)]\tLoss: 1.851367\tAccuracy: 0.26208333333333333\n",
      "Train Epoch: 2 [23968/50000 (48%)]\tLoss: 1.965411\tAccuracy: 0.2764583333333333\n",
      "Train Epoch: 2 [28768/50000 (58%)]\tLoss: 2.199475\tAccuracy: 0.28770833333333334\n"
     ]
    }
   ],
   "source": [
    "# control run\n",
    "loss_ex = []\n",
    "epochs = 30\n",
    "for epoch in range(1, epochs):\n",
    "    for loss_val in train(model_ex, device, train_loader, optimizer_ex, epoch):\n",
    "        loss_ex.append(loss_val)\n"
   ]
  },
  {
   "cell_type": "code",
   "execution_count": 171,
   "id": "fdb462cd",
   "metadata": {},
   "outputs": [
    {
     "data": {
      "image/png": "[encoded data removed]",
      "text/plain": [
       "<Figure size 432x288 with 1 Axes>"
      ]
     },
     "metadata": {
      "needs_background": "light"
     },
     "output_type": "display_data"
    }
   ],
   "source": [
    "plt.plot(loss_ex, label='PCA thing')\n",
    "plt.plot(loss_control, label='control')\n",
    "plt.legend()\n",
    "plt.title('MNIST accuracy')\n",
    "plt.xlabel('epochs')\n",
    "plt.show()\n"
   ]
  },
  {
   "cell_type": "code",
   "execution_count": null,
   "id": "4d47f120",
   "metadata": {},
   "outputs": [],
   "source": []
  }
 ],
 "metadata": {
  "kernelspec": {
   "display_name": "Python [conda env:.conda-will-gpu] *",
   "language": "python",
   "name": "conda-env-.conda-will-gpu-py"
  },
  "language_info": {
   "codemirror_mode": {
    "name": "ipython",
    "version": 3
   },
   "file_extension": ".py",
   "mimetype": "text/x-python",
   "name": "python",
   "nbconvert_exporter": "python",
   "pygments_lexer": "ipython3",
   "version": "3.8.10"
  }
 },
 "nbformat": 4,
 "nbformat_minor": 5
}
