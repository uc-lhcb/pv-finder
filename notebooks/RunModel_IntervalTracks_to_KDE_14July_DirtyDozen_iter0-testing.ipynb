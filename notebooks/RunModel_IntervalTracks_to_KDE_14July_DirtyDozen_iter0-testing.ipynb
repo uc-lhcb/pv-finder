{
 "cells": [
  {
   "cell_type": "code",
   "execution_count": 1,
   "metadata": {},
   "outputs": [],
   "source": [
    "##%matplotlib widget\n",
    "## with %matplotlib notebook: seems to require ipympl as part of environment, either\n",
    "## part of the conda environment or \"pip install ipympl\"\n",
    "## otherwise, does not show ANY plots in note\"book, plt.savefig() works\n",
    "%matplotlib notebook  \n",
    "##%matplotlib inline    ## --plt.savefig()  works, but re-sizing does NOT\n"
   ]
  },
  {
   "cell_type": "code",
   "execution_count": 2,
   "metadata": {
    "scrolled": true
   },
   "outputs": [
    {
     "name": "stdout",
     "output_type": "stream",
     "text": [
      "np.version.version =  1.21.2\n",
      "a =  [-1.7 -1.5 -0.2  0.2  1.5  1.7  2. ]\n",
      "a.shape =  (7,)\n",
      "aFloor =  [-2. -2. -1.  0.  1.  1.  2.]\n",
      "aFloor.shape =  (7,)\n",
      "aFloorInt =  [-2 -2 -1  0  1  1  2]\n"
     ]
    }
   ],
   "source": [
    "import numpy as np\n",
    "##  testing the np.floor and np.int_ methods as they seem to fail in a method used below\n",
    "##  from model.collectdata_kde_Ellipsoids_29Aug2021 import collect_t2kde_data\n",
    "print(\"np.version.version = \",np.version.version)\n",
    "a = np.array([-1.7, -1.5, -0.2, 0.2, 1.5, 1.7, 2.0])\n",
    "aFloor = np.floor(a)\n",
    "print(\"a = \",a)\n",
    "print(\"a.shape = \",a.shape)\n",
    "print(\"aFloor = \",aFloor)\n",
    "print(\"aFloor.shape = \",aFloor.shape)\n",
    "aFloorInt = np.int_(aFloor)\n",
    "print(\"aFloorInt = \",aFloorInt)"
   ]
  },
  {
   "cell_type": "markdown",
   "metadata": {},
   "source": [
    "This notebook is the second (perhaps third) attempt to read in track information and use it to predict the KDE used as input to pv-finder. This time, we are reading in poca KDEs rather than the original KDEs. \n",
    "\n",
    "collectdata_kde_Ellipsoids.py uses poca_z, poca_x, poca_y, and six parameters A, B, C, D, E, and F describing the error ellipsoids are those defined at\n",
    "\n",
    "from https://math.stackexchange.com/questions/1865188/how-to-prove-the-parallel-projection-of-an-ellipsoid-is-an-ellipse\n",
    "\n",
    "Up to translation, a general ellipsoid can be written in the form\n",
    "\n",
    "  𝐴$𝑥^2$ +𝐵$𝑦^2$+𝐶$𝑧^2$+2(𝐷𝑥𝑦+𝐸𝑥𝑧+𝐹𝑦𝑧)=1\n",
    "  \n",
    "for some positive-definite coefficient matrix \n",
    "\n",
    "$$\n",
    "\\left(\\begin{array}{ccc}\n",
    "A & D & E \\\\\n",
    "D & B & F \\\\\n",
    "E & F & C \\\\\n",
    "\\end{array}\\right)\n",
    "$$\n",
    "\n",
    "Note that other conventions use a similarly named set of parameters with D, E, and and F denoting the coefficients of different combinations of $ x y $, etc., or without the factor of 2 in front of the cross-terms.  However, this is the convention we are using for pv-finder related work, as of early November, 20020\n"
   ]
  },
  {
   "cell_type": "markdown",
   "metadata": {},
   "source": [
    "Check the current GPU usage. Please try to be nice!"
   ]
  },
  {
   "cell_type": "code",
   "execution_count": 3,
   "metadata": {},
   "outputs": [
    {
     "name": "stdout",
     "output_type": "stream",
     "text": [
      "Thu Jul 14 02:54:47 2022       \r\n",
      "+-----------------------------------------------------------------------------+\r\n",
      "| NVIDIA-SMI 460.32.03    Driver Version: 460.56       CUDA Version: 11.2     |\r\n",
      "|-------------------------------+----------------------+----------------------+\r\n",
      "| GPU  Name        Persistence-M| Bus-Id        Disp.A | Volatile Uncorr. ECC |\r\n",
      "| Fan  Temp  Perf  Pwr:Usage/Cap|         Memory-Usage | GPU-Util  Compute M. |\r\n",
      "|                               |                      |               MIG M. |\r\n",
      "|===============================+======================+======================|\r\n",
      "|   0  GeForce RTX 208...  On   | 00000000:18:00.0 Off |                  N/A |\r\n",
      "| 29%   28C    P8    21W / 250W |      3MiB / 11019MiB |      0%      Default |\r\n",
      "|                               |                      |                  N/A |\r\n",
      "+-------------------------------+----------------------+----------------------+\r\n",
      "|   1  GeForce RTX 208...  On   | 00000000:3B:00.0 Off |                  N/A |\r\n",
      "| 29%   29C    P8    20W / 250W |      3MiB / 11019MiB |      0%      Default |\r\n",
      "|                               |                      |                  N/A |\r\n",
      "+-------------------------------+----------------------+----------------------+\r\n",
      "|   2  GeForce RTX 3090    On   | 00000000:AF:00.0 Off |                  N/A |\r\n",
      "|  0%   38C    P0   127W / 350W |      3MiB / 24268MiB |      0%      Default |\r\n",
      "|                               |                      |                  N/A |\r\n",
      "+-------------------------------+----------------------+----------------------+\r\n",
      "                                                                               \r\n",
      "+-----------------------------------------------------------------------------+\r\n",
      "| Processes:                                                                  |\r\n",
      "|  GPU   GI   CI        PID   Type   Process name                  GPU Memory |\r\n",
      "|        ID   ID                                                   Usage      |\r\n",
      "|=============================================================================|\r\n",
      "|  No running processes found                                                 |\r\n",
      "+-----------------------------------------------------------------------------+\r\n"
     ]
    }
   ],
   "source": [
    "!nvidia-smi"
   ]
  },
  {
   "cell_type": "code",
   "execution_count": 4,
   "metadata": {},
   "outputs": [
    {
     "name": "stdout",
     "output_type": "stream",
     "text": [
      "1.8.2+cu111\n",
      "<module 'torch.cuda' from '/data/home/sokoloff/.local/lib/python3.7/site-packages/torch/cuda/__init__.py'>\n"
     ]
    }
   ],
   "source": [
    "import torch\n",
    "print(torch.__version__)\n",
    "print(torch.cuda)"
   ]
  },
  {
   "cell_type": "markdown",
   "metadata": {},
   "source": [
    "> **WARNING**: The card numbers here are *not* the same as in CUDA. You have been warned."
   ]
  },
  {
   "cell_type": "markdown",
   "metadata": {},
   "source": [
    "This notebook is first attempt to read in track information and use it to predict the KDE used as input to PvFinder.\n"
   ]
  },
  {
   "cell_type": "markdown",
   "metadata": {},
   "source": [
    "## Imports"
   ]
  },
  {
   "cell_type": "code",
   "execution_count": 5,
   "metadata": {},
   "outputs": [
    {
     "name": "stdout",
     "output_type": "stream",
     "text": [
      "numpy.version.version =  1.21.2\n"
     ]
    }
   ],
   "source": [
    "import matplotlib.pyplot as plt\n",
    "import numpy as np\n",
    "print(\"numpy.version.version = \",np.version.version)\n",
    "import time\n",
    "import torch\n",
    "import pandas as pd\n",
    "\n",
    "# Python 3 standard library\n",
    "from pathlib import Path\n",
    "\n",
    "##from torchsummary import summary"
   ]
  },
  {
   "cell_type": "markdown",
   "metadata": {},
   "source": [
    "### Set up local parameters"
   ]
  },
  {
   "cell_type": "code",
   "execution_count": 6,
   "metadata": {},
   "outputs": [],
   "source": [
    "n_epochs = 75\n",
    "\n",
    "# Name is the output file name\n",
    "\n",
    "\n",
    "##  201019  mds\n",
    "folder = '14July_testing_DirtyDozen_first_learning_iter0_1em6'\n",
    "name   = folder\n",
    "\n",
    "# Make an output folder named \"name\" (change if you want)\n",
    "\n",
    "## Special instructions for those working on goofy at UC\n",
    "## Please be very careful to make sure that your folder\n",
    "## does not live in a subdirectory of your home directory\n",
    "## this disk has very little capacity. Instead, use \n",
    "## a subdirectory in /share/lazy with a symbolic link to\n",
    "## it in this (the notebooks) subdirectory\n",
    "folder = 'ML/' + folder\n",
    "output = Path(folder)\n",
    "\n",
    "\n",
    "# Size of batches\n",
    "batch_size = 64\n",
    "# How fast to learn\n",
    "learning_rate = 1e-6"
   ]
  },
  {
   "cell_type": "markdown",
   "metadata": {},
   "source": [
    "Make the output directory if it does not exist:"
   ]
  },
  {
   "cell_type": "code",
   "execution_count": 7,
   "metadata": {},
   "outputs": [],
   "source": [
    "output.mkdir(exist_ok=True)"
   ]
  },
  {
   "cell_type": "markdown",
   "metadata": {},
   "source": [
    "## Get the helper functions\n",
    "\n",
    "Add the directory with the model\n",
    "definitions to the path so we can import from it:\n",
    "\n",
    "> When you type `import X`,\n",
    "Python searches `sys.path` for a python\n",
    "file named `X.py` to import. So we need to add the model directory to the path."
   ]
  },
  {
   "cell_type": "code",
   "execution_count": 8,
   "metadata": {
    "scrolled": true
   },
   "outputs": [],
   "source": [
    "## collectdata_kde_Ellipsoids_29Aug2021 adds zBin and zOffset to X[]\n",
    "## from model.collectdata_kde_Ellipsoids_29Aug2021 import collect_t2kde_data\n",
    "##from model.collectdata_kde_Ellipsoids_29Aug2021 import collect_t2kde_data\n",
    "## revert to traditional collect_t2kde_data\n",
    "##from model.collectdata_kde_Ellipsoids import collect_t2kde_data\n",
    "## use July 2022 version of collect_t2kde_data for testing stgructure\n",
    "## (and later for modifying structure of X[] and Y[])\n",
    "from model.collectdata_kde_Ellipsoids_jul2022 import collect_t2kde_data\n",
    "\n",
    "\n",
    "## 220714 mds \n",
    "## interval_kde_loss_Ba is derived from kde_loss_Ba, modified for 100-bin intervals\n",
    "## looks like it returns average loss per bin, so costs may be directly\n",
    "## comparable to original DirtyDozen\n",
    "from model.interval_kde_loss_Ba import Loss\n",
    "\n",
    "##  TracksToKDE_Ellipsoids_SevenLayerCake has 7 hidden layers producing the 4000-bin KDE historgram\n",
    "##  It takes 9 input features (pocca centers + (A,B,C,D,E,F) . \n",
    "from model.models_July2022_kde import TrackIntervalsToKDE_DirtyDozen as Model\n",
    "\n",
    "\n",
    "from model.training_kde import trainNet, select_gpu, Results\n",
    "from model.plots import dual_train_plots, replace_in_ax"
   ]
  },
  {
   "cell_type": "code",
   "execution_count": 9,
   "metadata": {},
   "outputs": [],
   "source": [
    "# This gets built up during the run - do not rerun this cell\n",
    "results = pd.DataFrame([], columns=Results._fields)"
   ]
  },
  {
   "cell_type": "markdown",
   "metadata": {},
   "source": [
    "Set up Torch device configuration. All tensors and model parameters need to know where to be put.\n",
    "This takes a BUS ID number: The BUS ID is the same as the listing at the top of this script."
   ]
  },
  {
   "cell_type": "code",
   "execution_count": 10,
   "metadata": {},
   "outputs": [
    {
     "name": "stdout",
     "output_type": "stream",
     "text": [
      "1 available GPUs (initially using device 0):\n",
      "  0 GeForce RTX 3090\n"
     ]
    }
   ],
   "source": [
    "##device = \"cuda\"\n",
    "device = select_gpu(2)\n",
    "##device = \"cpu\""
   ]
  },
  {
   "cell_type": "markdown",
   "metadata": {},
   "source": [
    "## Loading data\n",
    "\n",
    "Load the dataset, split into parts, then move to device (see `collectdata.py` in the `../model` directory)"
   ]
  },
  {
   "cell_type": "markdown",
   "metadata": {},
   "source": [
    "# Preparing the model"
   ]
  },
  {
   "cell_type": "markdown",
   "metadata": {},
   "source": [
    "Prepare a model, use multiple GPUs if they are VISIBLE, and move the model to the device."
   ]
  },
  {
   "cell_type": "code",
   "execution_count": 11,
   "metadata": {
    "scrolled": true
   },
   "outputs": [],
   "source": [
    "##print(\"Let's use\", torch.cuda.device_count(), \"GPUs!\")\n",
    "##if torch.cuda.device_count() > 1:\n",
    "##    model = torch.nn.DataParallel(model)"
   ]
  },
  {
   "cell_type": "code",
   "execution_count": 12,
   "metadata": {},
   "outputs": [
    {
     "name": "stdout",
     "output_type": "stream",
     "text": [
      "ct, child =  0    Linear(in_features=9, out_features=20, bias=True)\n",
      "ct, child =  1    Linear(in_features=20, out_features=20, bias=True)\n",
      "ct, child =  2    Linear(in_features=20, out_features=20, bias=True)\n",
      "ct, child =  3    Linear(in_features=20, out_features=20, bias=True)\n",
      "ct, child =  4    Linear(in_features=20, out_features=20, bias=True)\n",
      "ct, child =  5    Linear(in_features=20, out_features=20, bias=True)\n",
      "ct, child =  6    Linear(in_features=20, out_features=20, bias=True)\n",
      "ct, child =  7    Linear(in_features=20, out_features=20, bias=True)\n",
      "ct, child =  8    Linear(in_features=20, out_features=20, bias=True)\n",
      "ct, child =  9    Linear(in_features=20, out_features=20, bias=True)\n",
      "ct, child =  10    Linear(in_features=20, out_features=20, bias=True)\n",
      "ct, child =  11    Linear(in_features=20, out_features=100, bias=True)\n"
     ]
    }
   ],
   "source": [
    "## a comment on the web at https://pytorch.org/docs/stable/optim.html says\n",
    "\"\"\"\n",
    "If you need to move a model to GPU via .cuda(), please do so before constructing optimizers for it. \n",
    "Parameters of a model after .cuda() will be different objects with those before the call.\n",
    "\n",
    "In general, you should make sure that optimized parameters live in consistent locations when \n",
    "optimizers are constructed and used.\n",
    "\"\"\"\n",
    "## so move this here (although we are using model.to(device) not explicitly using .cuda()\n",
    "\n",
    "nOut1 = 20\n",
    "nOut2 = 20\n",
    "nOut3 = 20\n",
    "nOut4 = 20\n",
    "nOut5 = 20\n",
    "nOut6 = 20\n",
    "nOut7 = 20\n",
    "nOut8 = 20\n",
    "nOut9 = 20\n",
    "nOut10 = 20\n",
    "nOut11 = 20\n",
    "model = Model(nOut1,nOut2,nOut3,nOut4,nOut5,nOut6,nOut7,nOut8,nOut9,nOut10,nOut11)\n",
    "\n",
    "##summary(model, input_size=(4, 4000))\n",
    "##print(model.parameters)\n",
    "\n",
    "## add the following code to allow the user to freeze the some of the weights corresponding \n",
    "## to those taken from an earlier model trained with the original target histograms\n",
    "## presumably -- this leaves either the perturbative filter \"fixed\" and lets the \n",
    "## learning focus on the non-perturbative features, so get started faster, or vice versa\n",
    "ct = 0\n",
    "for child in model.children():\n",
    "  print('ct, child = ',ct, \"  \", child)\n",
    "  if ct < 0:\n",
    "    print(\"     About to set param.requires_grad=False for ct = \", ct, \"params\")\n",
    "    for param in child.parameters():\n",
    "        param.requires_grad = False \n",
    "  ct += 1\n",
    "##  mds 200121 loss = Loss(epsilon=1e-5,coefficient=1.0)\n",
    "##  loss = Loss(epsilon=1e-5,coefficient=2.5)\n",
    "##loss = Loss(epsilon=3e-6, debug=False)\n",
    "loss = Loss(epsilon=3e-6)"
   ]
  },
  {
   "cell_type": "markdown",
   "metadata": {},
   "source": [
    "Let's move the model's weight matricies to the GPU:"
   ]
  },
  {
   "cell_type": "code",
   "execution_count": 13,
   "metadata": {
    "scrolled": false
   },
   "outputs": [],
   "source": [
    "model = model.to(device)"
   ]
  },
  {
   "cell_type": "code",
   "execution_count": 14,
   "metadata": {
    "scrolled": true
   },
   "outputs": [],
   "source": [
    "optimizer = torch.optim.Adam(model.parameters(), lr=learning_rate)\n",
    "##optimizer = torch.optim.SGD(model.parameters(), lr=learning_rate)"
   ]
  },
  {
   "cell_type": "code",
   "execution_count": 15,
   "metadata": {},
   "outputs": [
    {
     "name": "stdout",
     "output_type": "stream",
     "text": [
      "output =  ML/14July_testing_DirtyDozen_first_learning_iter0_1em6\n",
      "for model_dict\n",
      "index, k =   0    layer1.weight\n",
      "index, k =   1    layer1.bias\n",
      "index, k =   2    layer2.weight\n",
      "index, k =   3    layer2.bias\n",
      "index, k =   4    layer3.weight\n",
      "index, k =   5    layer3.bias\n",
      "index, k =   6    layer4.weight\n",
      "index, k =   7    layer4.bias\n",
      "index, k =   8    layer5.weight\n",
      "index, k =   9    layer5.bias\n",
      "index, k =   10    layer6.weight\n",
      "index, k =   11    layer6.bias\n",
      "index, k =   12    layer7.weight\n",
      "index, k =   13    layer7.bias\n",
      "index, k =   14    layer8.weight\n",
      "index, k =   15    layer8.bias\n",
      "index, k =   16    layer9.weight\n",
      "index, k =   17    layer9.bias\n",
      "index, k =   18    layer10.weight\n",
      "index, k =   19    layer10.bias\n",
      "index, k =   20    layer11.weight\n",
      "index, k =   21    layer11.bias\n",
      "index, k =   22    layer12.weight\n",
      "index, k =   23    layer12.bias\n"
     ]
    }
   ],
   "source": [
    "print('output = ',output)\n",
    "##print('oldOutput = ',oldOutput)\n",
    "##  use the first four layers from a pre-existing model\n",
    "##  see example at https://discuss.pytorch.org/t/how-to-load-part-of-pre-trained-model/1113\n",
    "\n",
    "##   ML -> /share/lazy/sokoloff/ML\n",
    "model_dict = model.state_dict()\n",
    "## mds 190725 for debugging\n",
    "print(\"for model_dict\")\n",
    "index = 0\n",
    "for k,v in model_dict.items():\n",
    "    print(\"index, k =  \",index,\"  \",k)\n",
    "    index = index+1\n",
    "##    print(\"value = \", v)\n",
    " \n",
    "updated_dict = model_dict\n",
    "##print(\"updated_dict = \",updated_dict)\n",
    "## when starting \"ab initio\", reduce biases as the bias gets summed for each track\n",
    "## contributing to the predicted KDE\n",
    "updated_dict[\"layer1.bias\"] = 0.005*model_dict[\"layer1.bias\"]\n",
    "updated_dict[\"layer2.bias\"] = 0.005*model_dict[\"layer2.bias\"]\n",
    "updated_dict[\"layer3.bias\"] = 0.005*model_dict[\"layer3.bias\"]\n",
    "updated_dict[\"layer4.bias\"] = 0.005*model_dict[\"layer4.bias\"]\n",
    "updated_dict[\"layer5.bias\"] = 0.005*model_dict[\"layer5.bias\"]\n",
    "updated_dict[\"layer6.bias\"] = 0.005*model_dict[\"layer6.bias\"]\n",
    "updated_dict[\"layer7.bias\"] = 0.005*model_dict[\"layer7.bias\"]\n",
    "updated_dict[\"layer8.bias\"] = 0.005*model_dict[\"layer8.bias\"]\n",
    "updated_dict[\"layer9.bias\"] = 0.005*model_dict[\"layer9.bias\"]\n",
    "updated_dict[\"layer10.bias\"] = 0.005*model_dict[\"layer10.bias\"]\n",
    "updated_dict[\"layer11.bias\"] = 0.005*model_dict[\"layer11.bias\"]\n",
    "\n",
    "model.load_state_dict(updated_dict,strict=False)\n",
    "\n",
    "model_dict = model.state_dict()"
   ]
  },
  {
   "cell_type": "code",
   "execution_count": 16,
   "metadata": {
    "scrolled": false
   },
   "outputs": [
    {
     "data": {
      "text/plain": [
       "'\\n##print(\"updated model_dict = \",model_dict)\\n\\n## print(\" \\n\",\"  for pretrained_dict\")\\n## index = 0\\n##for k,v in pretrained_dict.items():\\n##    print(\"index, k =  \",index,\"  \",k)\\n##    index = index+1\\n## mds  \\n\\n##pretrained_dict = torch.load(\\'ML/29July2020_Trks_to_KDE_C_lossB_100epochs_b64_1m3_nOut_50x50/29July2020_Trks_to_KDE_C_lossB_100epochs_b64_1m3_nOut_50x50_final.pyt\\')\\n##print(\"model_dict instantiated\")\\n# 1. filter out unnecessary keys\\n##pretrained_dict = {k: v for k, v in pretrained_dict.items() if k in model_dict}\\n##print(\"pretrained_dict iterated\")\\n# 2. overwrite entries in the existing state dict\\n##model_dict.update(pretrained_dict) \\n##\\n#   when starting from a model with a fully connected last layer rather than a convolutional layer\\n# 3. load the new state dict\\n#   need to use strict=False as the two models state model attributes do not agree exactly\\n#   see https://pytorch.org/docs/master/_modules/torch/nn/modules/module.html#Module.load_state_dict\\n\\n##model.load_state_dict(pretrained_dict,strict=False)\\n\\n## print(\\'model_dict =    \\', model_dict)\\n\\n## pretrained_dict = torch.load(\\'ML/19October_testing_loss_C_500epochs_more_learning/19October_testing_loss_C_500epochs_more_learning_final.pyt\\')\\n## pretrained_dict = torch.load(\\'ML/24October_testing_SevenLayerCake_first_learning_50epochs/24October_testing_SevenLayerCake_first_learning_50epochs_44.pyt\\')\\n\\n##pretrained_dict = torch.load(\\'ML/24October_testing_SevenLayerCake_first_learning_next1000epochs/24October_testing_SevenLayerCake_first_learning_next1000epochs_976.pyt\\')\\n## pretrained_dict = torch.load(\\'ML/24October_testing_SevenLayerCake_first_learning_iter4_2500epochs_1em5/24October_testing_SevenLayerCake_first_learning_iter4_2500epochs_1em5_final.pyt\\')\\n## pretrained_dict = torch.load(\\'ML/25October_testing_SevenLayerCake_first_learning_iter0_1000epochs_lossE/25October_testing_SevenLayerCake_first_learning_iter0_1000epochs_lossE_503.pyt\\')\\n\\n\\n## pretrained_dict = torch.load(\\'ML/25October_testing_SevenLayerCake_first_learning_iter0_1000epochs_lossE/25October_testing_SevenLayerCake_first_learning_iter0_1000epochs_lossE_final.pyt\\')\\n\\n## pretrained_dict = torch.load(\\'ML/25October_testing_SevenLayerCake_first_learning_iter2_100epochs_lossE/25October_testing_SevenLayerCake_first_learning_iter2_100epochs_lossE_final.pyt\\')\\n\\n## pretrained_dict = torch.load(\\'ML/25October_testing_SevenLayerCake_first_learning_iter2_2nd_100epochs_lossE_Adam/25October_testing_SevenLayerCake_first_learning_iter2_2nd_100epochs_lossE_Adam_final.pyt\\')\\n\\n## pretrained_dict = torch.load(\\'ML/25October_testing_SevenLayerCake_first_learning_iter3_4000epochs_lossE_Adam/25October_testing_SevenLayerCake_first_learning_iter3_4000epochs_lossE_Adam_final.pyt\\')\\n\\n##  results from the previous model were fluctuating, so choose epoch with relatively low costs\\n\\n##pretrained_dict = torch.load(\\'ML/27October_testing_DirtyDozen_first_learning_iter0_250epochs_1em3/27October_testing_DirtyDozen_first_learning_iter0_250epochs_1em3_220.pyt\\')\\n\\n##  the next model had fluctuations near the end, but the final epoch is within striking distance of the lowest cost\\npretrained_dict = torch.load(\\'ML/06November_testing_DirtyDozen_first_learning_iterB_20epochs_1em6/06November_testing_DirtyDozen_first_learning_iterB_20epochs_1em6_final.pyt\\')\\nprint(\" \")\\nprint(\"  for pretrained_dict\")\\nindex = 0\\nfor k,v in pretrained_dict.items():\\n    print(\"index, k =  \",index,\"  \",k)\\n    index = index+1\\n \\n\\n##print(\"model_dict instantiated\")\\n# 1. filter out unnecessary keys\\npretrained_dict = {k: v for k, v in pretrained_dict.items() if k in model_dict}\\nprint(\"pretrained_dict iterated\")\\n# 2. overwrite entries in the existing state dict\\nmodel_dict.update(pretrained_dict) \\n##\\n#   when starting from a model with a fully connected last layer rather than a convolutional layer\\n# 3. load the new state dict\\n#   need to use strict=False as the two models state model attributes do not agree exactly\\n#   see https://pytorch.org/docs/master/_modules/torch/nn/modules/module.html#Module.load_state_dict\\n\\nmodel.load_state_dict(pretrained_dict,strict=False)\\n'"
      ]
     },
     "execution_count": 16,
     "metadata": {},
     "output_type": "execute_result"
    }
   ],
   "source": [
    "\"\"\"\n",
    "##print(\"updated model_dict = \",model_dict)\n",
    "\n",
    "## print(\" \\n\",\"  for pretrained_dict\")\n",
    "## index = 0\n",
    "##for k,v in pretrained_dict.items():\n",
    "##    print(\"index, k =  \",index,\"  \",k)\n",
    "##    index = index+1\n",
    "## mds  \n",
    "\n",
    "##pretrained_dict = torch.load('ML/29July2020_Trks_to_KDE_C_lossB_100epochs_b64_1m3_nOut_50x50/29July2020_Trks_to_KDE_C_lossB_100epochs_b64_1m3_nOut_50x50_final.pyt')\n",
    "##print(\"model_dict instantiated\")\n",
    "# 1. filter out unnecessary keys\n",
    "##pretrained_dict = {k: v for k, v in pretrained_dict.items() if k in model_dict}\n",
    "##print(\"pretrained_dict iterated\")\n",
    "# 2. overwrite entries in the existing state dict\n",
    "##model_dict.update(pretrained_dict) \n",
    "##\n",
    "#   when starting from a model with a fully connected last layer rather than a convolutional layer\n",
    "# 3. load the new state dict\n",
    "#   need to use strict=False as the two models state model attributes do not agree exactly\n",
    "#   see https://pytorch.org/docs/master/_modules/torch/nn/modules/module.html#Module.load_state_dict\n",
    "\n",
    "##model.load_state_dict(pretrained_dict,strict=False)\n",
    "\n",
    "## print('model_dict =    ', model_dict)\n",
    "\n",
    "## pretrained_dict = torch.load('ML/19October_testing_loss_C_500epochs_more_learning/19October_testing_loss_C_500epochs_more_learning_final.pyt')\n",
    "## pretrained_dict = torch.load('ML/24October_testing_SevenLayerCake_first_learning_50epochs/24October_testing_SevenLayerCake_first_learning_50epochs_44.pyt')\n",
    "\n",
    "##pretrained_dict = torch.load('ML/24October_testing_SevenLayerCake_first_learning_next1000epochs/24October_testing_SevenLayerCake_first_learning_next1000epochs_976.pyt')\n",
    "## pretrained_dict = torch.load('ML/24October_testing_SevenLayerCake_first_learning_iter4_2500epochs_1em5/24October_testing_SevenLayerCake_first_learning_iter4_2500epochs_1em5_final.pyt')\n",
    "## pretrained_dict = torch.load('ML/25October_testing_SevenLayerCake_first_learning_iter0_1000epochs_lossE/25October_testing_SevenLayerCake_first_learning_iter0_1000epochs_lossE_503.pyt')\n",
    "\n",
    "\n",
    "## pretrained_dict = torch.load('ML/25October_testing_SevenLayerCake_first_learning_iter0_1000epochs_lossE/25October_testing_SevenLayerCake_first_learning_iter0_1000epochs_lossE_final.pyt')\n",
    "\n",
    "## pretrained_dict = torch.load('ML/25October_testing_SevenLayerCake_first_learning_iter2_100epochs_lossE/25October_testing_SevenLayerCake_first_learning_iter2_100epochs_lossE_final.pyt')\n",
    "\n",
    "## pretrained_dict = torch.load('ML/25October_testing_SevenLayerCake_first_learning_iter2_2nd_100epochs_lossE_Adam/25October_testing_SevenLayerCake_first_learning_iter2_2nd_100epochs_lossE_Adam_final.pyt')\n",
    "\n",
    "## pretrained_dict = torch.load('ML/25October_testing_SevenLayerCake_first_learning_iter3_4000epochs_lossE_Adam/25October_testing_SevenLayerCake_first_learning_iter3_4000epochs_lossE_Adam_final.pyt')\n",
    "\n",
    "##  results from the previous model were fluctuating, so choose epoch with relatively low costs\n",
    "\n",
    "##pretrained_dict = torch.load('ML/27October_testing_DirtyDozen_first_learning_iter0_250epochs_1em3/27October_testing_DirtyDozen_first_learning_iter0_250epochs_1em3_220.pyt')\n",
    "\n",
    "##  the next model had fluctuations near the end, but the final epoch is within striking distance of the lowest cost\n",
    "pretrained_dict = torch.load('ML/06November_testing_DirtyDozen_first_learning_iterB_20epochs_1em6/06November_testing_DirtyDozen_first_learning_iterB_20epochs_1em6_final.pyt')\n",
    "print(\" \")\n",
    "print(\"  for pretrained_dict\")\n",
    "index = 0\n",
    "for k,v in pretrained_dict.items():\n",
    "    print(\"index, k =  \",index,\"  \",k)\n",
    "    index = index+1\n",
    " \n",
    "\n",
    "##print(\"model_dict instantiated\")\n",
    "# 1. filter out unnecessary keys\n",
    "pretrained_dict = {k: v for k, v in pretrained_dict.items() if k in model_dict}\n",
    "print(\"pretrained_dict iterated\")\n",
    "# 2. overwrite entries in the existing state dict\n",
    "model_dict.update(pretrained_dict) \n",
    "##\n",
    "#   when starting from a model with a fully connected last layer rather than a convolutional layer\n",
    "# 3. load the new state dict\n",
    "#   need to use strict=False as the two models state model attributes do not agree exactly\n",
    "#   see https://pytorch.org/docs/master/_modules/torch/nn/modules/module.html#Module.load_state_dict\n",
    "\n",
    "model.load_state_dict(pretrained_dict,strict=False)\n",
    "\"\"\""
   ]
  },
  {
   "cell_type": "code",
   "execution_count": 17,
   "metadata": {},
   "outputs": [],
   "source": [
    "##print('validation.dataset.tensors = ',validation.dataset.tensors)\n",
    "fig_size = plt.rcParams[\"figure.figsize\"]\n",
    "fig_size[0] = 10\n",
    "fig_size[1] = 4\n",
    "plt.rcParams[\"figure.figsize\"] = fig_size"
   ]
  },
  {
   "cell_type": "code",
   "execution_count": 18,
   "metadata": {
    "scrolled": false
   },
   "outputs": [
    {
     "name": "stdout",
     "output_type": "stream",
     "text": [
      "Loading data...\n",
      "  \n",
      "kernel.shape =  (20000, 4000)\n",
      "kernel.shape[0] =  20000\n",
      "kernel.shape[1] =  4000\n",
      "Y.shape =       (20000, 12000)\n",
      "binsPerInterval =  100\n",
      "nIntervals =        40\n",
      "intervalKernels.shape =  (800000, 100)\n",
      "pocaMx.shape =  (20000,)\n",
      "nEvts =  20000\n",
      "pocaz.shape =  (20000,)\n",
      "len(pocaMx[0]) =  211\n",
      "len(pocaMx[1]) =  21\n",
      "len(pocaMx[2]) =  20\n",
      "len(pocaMx[3]) =  198\n",
      "len(pocaMx[4]) =  233\n",
      "majorAxis.shape =  (20000, 3)\n",
      "minorAxis_1.shape =  (20000, 3)\n",
      "minorAxis_2.shape =  (20000, 3)\n",
      "have entered six_ellipsoid_parameters\n",
      "  \n",
      " \n",
      "  nEvts =  20000\n",
      " iEvt, nTrks =  0 211\n",
      " iEvt, nTrks =  1 21\n",
      " iEvt, nTrks =  2 20\n",
      " iEvt, nTrks =  3 198\n",
      " iEvt, nTrks =  4 233\n",
      " iEvt, nTrks =  5 85\n",
      " iEvt, nTrks =  6 223\n",
      " iEvt, nTrks =  7 425\n",
      " iEvt, nTrks =  8 252\n",
      " iEvt, nTrks =  9 169\n",
      "A.shape =  (20000,)\n",
      "majorAxis[iTrk][0][0] =  -0.00023452607\n",
      "majorAxis[iTrk][1][0] =  -0.00047206535\n",
      "majorAxis[iTrk][2][0] =  0.096502915\n",
      "minorAxis_1[iTrk][0][0] =  -15.822749\n",
      "minorAxis_1[iTrk][1][0] =  7.8608756\n",
      "minorAxis_1[iTrk][2][0] =  -2.6228399e-08\n",
      "minorAxis_2[iTrk][0][0] =  7.860759\n",
      "minorAxis_2[iTrk][1][0] =  15.822513\n",
      "minorAxis_2[iTrk][2][0] =  0.096502915\n",
      "  \n",
      "majorAxis[iTrk][0][0] =  -0.37655562\n",
      "majorAxis[iTrk][1][0] =  0.2768704\n",
      "majorAxis[iTrk][2][0] =  2.8546858\n",
      "minorAxis_1[iTrk][0][0] =  -10.466048\n",
      "minorAxis_1[iTrk][1][0] =  -14.234274\n",
      "minorAxis_1[iTrk][2][0] =  2.2974699e-11\n",
      "minorAxis_2[iTrk][0][0] =  -14.04724\n",
      "minorAxis_2[iTrk][1][0] =  10.328527\n",
      "minorAxis_2[iTrk][2][0] =  -2.8546853\n",
      "  \n",
      "majorAxis[iTrk][0][0] =  -0.024279848\n",
      "majorAxis[iTrk][1][0] =  0.0019689242\n",
      "majorAxis[iTrk][2][0] =  0.65580803\n",
      "minorAxis_1[iTrk][0][0] =  -1.4280497\n",
      "minorAxis_1[iTrk][1][0] =  -17.610037\n",
      "minorAxis_1[iTrk][2][0] =  -6.123401e-10\n",
      "minorAxis_2[iTrk][0][0] =  -17.597902\n",
      "minorAxis_2[iTrk][1][0] =  1.4270656\n",
      "minorAxis_2[iTrk][2][0] =  -0.6558081\n",
      "  \n",
      "majorAxis[iTrk][0][0] =  -0.007825993\n",
      "majorAxis[iTrk][1][0] =  0.004052097\n",
      "majorAxis[iTrk][2][0] =  0.3945435\n",
      "minorAxis_1[iTrk][0][0] =  8.123606\n",
      "minorAxis_1[iTrk][1][0] =  15.689478\n",
      "minorAxis_1[iTrk][2][0] =  -2.4940747e-10\n",
      "minorAxis_2[iTrk][0][0] =  15.685566\n",
      "minorAxis_2[iTrk][1][0] =  -8.12158\n",
      "minorAxis_2[iTrk][2][0] =  0.3945435\n",
      "  \n",
      "majorAxis[iTrk][0][0] =  0.0046102717\n",
      "majorAxis[iTrk][1][0] =  -0.0016007021\n",
      "majorAxis[iTrk][2][0] =  0.29361814\n",
      "minorAxis_1[iTrk][0][0] =  -5.794979\n",
      "minorAxis_1[iTrk][1][0] =  -16.690445\n",
      "minorAxis_1[iTrk][2][0] =  2.4897104e-09\n",
      "minorAxis_2[iTrk][0][0] =  -16.688139\n",
      "minorAxis_2[iTrk][1][0] =  5.794179\n",
      "minorAxis_2[iTrk][2][0] =  0.2936181\n",
      "  \n",
      "majorAxis[iTrk][0][0] =  -0.00020041714\n",
      "majorAxis[iTrk][1][0] =  0.00010468164\n",
      "majorAxis[iTrk][2][0] =  0.06320469\n",
      "minorAxis_1[iTrk][0][0] =  8.179679\n",
      "minorAxis_1[iTrk][1][0] =  15.660318\n",
      "minorAxis_1[iTrk][2][0] =  7.40176e-08\n",
      "minorAxis_2[iTrk][0][0] =  15.660218\n",
      "minorAxis_2[iTrk][1][0] =  -8.179626\n",
      "minorAxis_2[iTrk][2][0] =  0.06320469\n",
      "  \n",
      "majorAxis[iTrk][0][0] =  -0.00020603223\n",
      "majorAxis[iTrk][1][0] =  -0.0005662605\n",
      "majorAxis[iTrk][2][0] =  0.10317981\n",
      "minorAxis_1[iTrk][0][0] =  -16.603\n",
      "minorAxis_1[iTrk][1][0] =  6.040953\n",
      "minorAxis_1[iTrk][2][0] =  4.5812504e-07\n",
      "minorAxis_2[iTrk][0][0] =  6.0408506\n",
      "minorAxis_2[iTrk][1][0] =  16.602718\n",
      "minorAxis_2[iTrk][2][0] =  0.10317982\n",
      "  \n",
      "majorAxis[iTrk][0][0] =  -0.00040561036\n",
      "majorAxis[iTrk][1][0] =  0.00014461782\n",
      "majorAxis[iTrk][2][0] =  0.0872241\n",
      "minorAxis_1[iTrk][0][0] =  -5.933496\n",
      "minorAxis_1[iTrk][1][0] =  -16.641706\n",
      "minorAxis_1[iTrk][2][0] =  1.0720762e-08\n",
      "minorAxis_2[iTrk][0][0] =  -16.641502\n",
      "minorAxis_2[iTrk][1][0] =  5.9334235\n",
      "minorAxis_2[iTrk][2][0] =  -0.0872241\n",
      "  \n",
      "majorAxis[iTrk][0][0] =  0.00038461428\n",
      "majorAxis[iTrk][1][0] =  -3.4232737e-05\n",
      "majorAxis[iTrk][2][0] =  0.08259597\n",
      "minorAxis_1[iTrk][0][0] =  -1.5663412\n",
      "minorAxis_1[iTrk][1][0] =  -17.598276\n",
      "minorAxis_1[iTrk][2][0] =  3.2106848e-07\n",
      "minorAxis_2[iTrk][0][0] =  -17.598082\n",
      "minorAxis_2[iTrk][1][0] =  1.5663238\n",
      "minorAxis_2[iTrk][2][0] =  0.08259596\n",
      "  \n",
      "majorAxis[iTrk][0][0] =  -0.022277953\n",
      "majorAxis[iTrk][1][0] =  -0.0046837274\n",
      "majorAxis[iTrk][2][0] =  0.63399464\n",
      "minorAxis_1[iTrk][0][0] =  -3.6350286\n",
      "minorAxis_1[iTrk][1][0] =  17.289862\n",
      "minorAxis_1[iTrk][2][0] =  9.566169e-10\n",
      "minorAxis_2[iTrk][0][0] =  17.278727\n",
      "minorAxis_2[iTrk][1][0] =  3.6326876\n",
      "minorAxis_2[iTrk][2][0] =  0.6339946\n",
      "  \n",
      "eventIndex =  0\n",
      "len(local_pocaz) =  211\n",
      "  \n",
      "local_pocaz =  [-1.23822391e+00 -4.43958640e-01 -3.33485037e-01 -3.21600825e-01\n",
      " -2.44395837e-01 -1.55983627e-01 -1.42279729e-01 -8.60519558e-02\n",
      " -5.78091294e-02 -5.11150099e-02 -4.43069339e-02 -4.28218469e-02\n",
      " -3.76326926e-02 -3.44797559e-02 -3.33126895e-02 -3.21566537e-02\n",
      " -3.17352042e-02 -3.10061518e-02 -3.09818480e-02 -3.09294444e-02\n",
      " -3.08653861e-02 -3.06606498e-02 -3.06359790e-02 -3.04435194e-02\n",
      " -3.04254256e-02 -3.04000359e-02 -3.01665477e-02 -3.01444083e-02\n",
      " -3.01066414e-02 -3.00841182e-02 -2.99790353e-02 -2.99323536e-02\n",
      " -2.99069881e-02 -2.98943575e-02 -2.98873149e-02 -2.98739634e-02\n",
      " -2.98281163e-02 -2.98238173e-02 -2.98175514e-02 -2.97864005e-02\n",
      " -2.97791921e-02 -2.97753997e-02 -2.97153108e-02 -2.97009554e-02\n",
      " -2.96718348e-02 -2.96403021e-02 -2.95927301e-02 -2.94849817e-02\n",
      " -2.94028632e-02 -2.93101538e-02 -2.89519373e-02 -2.89046615e-02\n",
      " -2.88616922e-02 -2.88577657e-02 -2.88553312e-02 -2.75121406e-02\n",
      " -2.72576790e-02 -2.71799807e-02 -2.66432893e-02 -2.62467619e-02\n",
      " -2.48227455e-02 -2.46314406e-02 -2.25500539e-02 -1.58481617e-02\n",
      " -2.10979697e-03 -1.72000506e-03 -1.71724975e-03 -8.96518584e-04\n",
      " -8.15029198e-04 -5.81001979e-04 -5.08191355e-04 -5.01292408e-04\n",
      " -3.53640295e-04 -3.40370083e-04 -2.64390634e-04 -2.16207322e-04\n",
      " -1.93332569e-04 -1.67944512e-04 -1.31774330e-04 -1.19251803e-04\n",
      " -6.15143654e-05 -5.25222786e-05  1.06699496e-04  1.66734448e-04\n",
      "  1.81626892e-04  2.31216763e-04  8.13655497e-04  1.08331547e-03\n",
      "  1.52280298e-03  2.00598314e-03  2.52052257e-03  5.99052804e-03\n",
      "  6.03304571e-03  6.42440189e-03  8.09042994e-03  4.44174036e-02\n",
      "  5.01861498e-02  5.68113290e-02  5.91287613e-02  5.92444167e-02\n",
      "  5.92517778e-02  5.92810437e-02  5.97522259e-02  6.01143837e-02\n",
      "  6.03394769e-02  6.05848096e-02  6.06125519e-02  6.07766025e-02\n",
      "  6.08017072e-02  6.08162694e-02  6.08422495e-02  6.08880147e-02\n",
      "  6.09001182e-02  6.09123595e-02  6.09170906e-02  6.09424785e-02\n",
      "  6.09446988e-02  6.09501600e-02  6.09941892e-02  6.10036366e-02\n",
      "  6.10254258e-02  6.10578954e-02  6.11008331e-02  6.11076951e-02\n",
      "  6.11611009e-02  6.11631833e-02  6.12250604e-02  6.12415113e-02\n",
      "  6.12678528e-02  6.13250509e-02  6.13421835e-02  6.13525398e-02\n",
      "  6.13722838e-02  6.14056326e-02  6.14375845e-02  6.16845377e-02\n",
      "  6.17298484e-02  6.18694313e-02  6.20367862e-02  6.25428855e-02\n",
      "  6.27769008e-02  6.33778721e-02  6.36098012e-02  6.39338940e-02\n",
      "  6.44314364e-02  6.91550970e-02  7.08076358e-02  7.25392103e-02\n",
      "  7.26160705e-02  7.68055841e-02  7.72203282e-02  7.84709826e-02\n",
      "  7.86709338e-02  7.88299292e-02  7.89823607e-02  7.90333152e-02\n",
      "  7.90586621e-02  7.90678039e-02  7.92038217e-02  7.92089924e-02\n",
      "  7.92213604e-02  7.92312771e-02  7.93373883e-02  7.93659687e-02\n",
      "  7.94643611e-02  7.94832185e-02  7.95804709e-02  7.97348693e-02\n",
      "  7.97485933e-02  7.97766894e-02  8.03003684e-02  8.11383277e-02\n",
      "  8.12266842e-02  8.43174830e-02  8.43780339e-02  8.57019201e-02\n",
      "  9.45961624e-02  9.49262753e-02  9.55904946e-02  9.66111645e-02\n",
      "  9.66593474e-02  9.70098749e-02  9.72887650e-02  9.72934291e-02\n",
      "  9.73515958e-02  9.75128338e-02  9.77453142e-02  9.77679566e-02\n",
      "  9.78552401e-02  9.82620046e-02  9.83588994e-02  9.84510109e-02\n",
      "  9.90869254e-02  9.90925059e-02  9.92693231e-02  9.95827764e-02\n",
      "  9.99623165e-02  1.00004114e-01  1.00182794e-01  1.00373499e-01\n",
      "  1.02967605e-01  1.08647317e-01  1.10738359e-01  1.30093083e-01\n",
      "  1.31439850e-01  1.33983627e-01  1.34378597e-01  1.34470165e-01\n",
      "  1.35141432e-01  1.36323377e-01  1.47392571e-01]\n",
      "ordered_pocaz =  [-1.23822391e+00 -4.43958640e-01 -3.33485037e-01 -3.21600825e-01\n",
      " -2.44395837e-01 -1.55983627e-01 -1.42279729e-01 -8.60519558e-02\n",
      " -5.78091294e-02 -5.11150099e-02 -4.43069339e-02 -4.28218469e-02\n",
      " -3.76326926e-02 -3.44797559e-02 -3.33126895e-02 -3.21566537e-02\n",
      " -3.17352042e-02 -3.10061518e-02 -3.09818480e-02 -3.09294444e-02\n",
      " -3.08653861e-02 -3.06606498e-02 -3.06359790e-02 -3.04435194e-02\n",
      " -3.04254256e-02 -3.04000359e-02 -3.01665477e-02 -3.01444083e-02\n",
      " -3.01066414e-02 -3.00841182e-02 -2.99790353e-02 -2.99323536e-02\n",
      " -2.99069881e-02 -2.98943575e-02 -2.98873149e-02 -2.98739634e-02\n",
      " -2.98281163e-02 -2.98238173e-02 -2.98175514e-02 -2.97864005e-02\n",
      " -2.97791921e-02 -2.97753997e-02 -2.97153108e-02 -2.97009554e-02\n",
      " -2.96718348e-02 -2.96403021e-02 -2.95927301e-02 -2.94849817e-02\n",
      " -2.94028632e-02 -2.93101538e-02 -2.89519373e-02 -2.89046615e-02\n",
      " -2.88616922e-02 -2.88577657e-02 -2.88553312e-02 -2.75121406e-02\n",
      " -2.72576790e-02 -2.71799807e-02 -2.66432893e-02 -2.62467619e-02\n",
      " -2.48227455e-02 -2.46314406e-02 -2.25500539e-02 -1.58481617e-02\n",
      " -2.10979697e-03 -1.72000506e-03 -1.71724975e-03 -8.96518584e-04\n",
      " -8.15029198e-04 -5.81001979e-04 -5.08191355e-04 -5.01292408e-04\n",
      " -3.53640295e-04 -3.40370083e-04 -2.64390634e-04 -2.16207322e-04\n",
      " -1.93332569e-04 -1.67944512e-04 -1.31774330e-04 -1.19251803e-04\n",
      " -6.15143654e-05 -5.25222786e-05  1.06699496e-04  1.66734448e-04\n",
      "  1.81626892e-04  2.31216763e-04  8.13655497e-04  1.08331547e-03\n",
      "  1.52280298e-03  2.00598314e-03  2.52052257e-03  5.99052804e-03\n",
      "  6.03304571e-03  6.42440189e-03  8.09042994e-03  4.44174036e-02\n",
      "  5.01861498e-02  5.68113290e-02  5.91287613e-02  5.92444167e-02\n",
      "  5.92517778e-02  5.92810437e-02  5.97522259e-02  6.01143837e-02\n",
      "  6.03394769e-02  6.05848096e-02  6.06125519e-02  6.07766025e-02\n",
      "  6.08017072e-02  6.08162694e-02  6.08422495e-02  6.08880147e-02\n",
      "  6.09001182e-02  6.09123595e-02  6.09170906e-02  6.09424785e-02\n",
      "  6.09446988e-02  6.09501600e-02  6.09941892e-02  6.10036366e-02\n",
      "  6.10254258e-02  6.10578954e-02  6.11008331e-02  6.11076951e-02\n",
      "  6.11611009e-02  6.11631833e-02  6.12250604e-02  6.12415113e-02\n",
      "  6.12678528e-02  6.13250509e-02  6.13421835e-02  6.13525398e-02\n",
      "  6.13722838e-02  6.14056326e-02  6.14375845e-02  6.16845377e-02\n",
      "  6.17298484e-02  6.18694313e-02  6.20367862e-02  6.25428855e-02\n",
      "  6.27769008e-02  6.33778721e-02  6.36098012e-02  6.39338940e-02\n",
      "  6.44314364e-02  6.91550970e-02  7.08076358e-02  7.25392103e-02\n",
      "  7.26160705e-02  7.68055841e-02  7.72203282e-02  7.84709826e-02\n",
      "  7.86709338e-02  7.88299292e-02  7.89823607e-02  7.90333152e-02\n",
      "  7.90586621e-02  7.90678039e-02  7.92038217e-02  7.92089924e-02\n",
      "  7.92213604e-02  7.92312771e-02  7.93373883e-02  7.93659687e-02\n",
      "  7.94643611e-02  7.94832185e-02  7.95804709e-02  7.97348693e-02\n",
      "  7.97485933e-02  7.97766894e-02  8.03003684e-02  8.11383277e-02\n",
      "  8.12266842e-02  8.43174830e-02  8.43780339e-02  8.57019201e-02\n",
      "  9.45961624e-02  9.49262753e-02  9.55904946e-02  9.66111645e-02\n",
      "  9.66593474e-02  9.70098749e-02  9.72887650e-02  9.72934291e-02\n",
      "  9.73515958e-02  9.75128338e-02  9.77453142e-02  9.77679566e-02\n",
      "  9.78552401e-02  9.82620046e-02  9.83588994e-02  9.84510109e-02\n",
      "  9.90869254e-02  9.90925059e-02  9.92693231e-02  9.95827764e-02\n",
      "  9.99623165e-02  1.00004114e-01  1.00182794e-01  1.00373499e-01\n",
      "  1.02967605e-01  1.08647317e-01  1.10738359e-01  1.30093083e-01\n",
      "  1.31439850e-01  1.33983627e-01  1.34378597e-01  1.34470165e-01\n",
      "  1.35141432e-01  1.36323377e-01  1.47392571e-01]\n",
      "      -----------      \n",
      "local_pocax =  [-0.12564518  0.05206263 -0.03062759 -0.03235899  0.09763418  0.0048499\n",
      "  0.00943753  0.05516989  0.31492278  0.12163319  0.04015106 -0.02172407\n",
      " -0.00177114 -0.14081542 -0.01912842 -0.05125614 -0.00062081  0.14885484\n",
      "  0.01483655  0.05170671 -0.01707729 -0.00061385  0.00881472 -0.21753241\n",
      "  0.00605343 -0.07077286 -0.0167565  -0.00459527 -0.01600695 -0.01677939\n",
      "  0.0118908  -0.01762416  0.00435679  0.01462892  0.00253085 -0.04859198\n",
      "  0.02631253 -0.00935868 -0.01795375 -0.02515749  0.00725456 -0.05981446\n",
      " -0.03460036 -0.03687518  0.16210654  0.07979918  0.0079322  -0.03207037\n",
      "  0.03996011 -0.09564117 -0.03536231 -0.17327581  0.0346862   0.09674329\n",
      "  0.22787358 -0.00259696  0.01409541 -0.01223536  0.32812136  0.08642837\n",
      " -0.04823636 -0.12990084 -0.13456105  0.06290641  0.00759618  0.01218839\n",
      "  0.00123247  0.04466092  0.00611177 -0.00070899 -0.03710658  0.04524364\n",
      "  0.07460894  0.06935555  0.05660795 -0.04045226 -0.00639004  0.08061168\n",
      "  0.01804429  0.0022031   0.02782362 -0.03081498  0.00083262 -0.15262756\n",
      "  0.01391983  0.01577597  0.01479018 -0.2998547   0.05607008 -0.0592328\n",
      "  0.2868236   0.35189405  0.04597934 -0.23782757 -0.0222602  -0.02689268\n",
      " -0.18937762  0.08067524  0.12080713  0.01067393  0.13868931  0.01779817\n",
      "  0.0320772   0.01244222  0.05454691  0.00552833  0.0653168   0.00124253\n",
      "  0.00255716  0.0050332   0.07317971  0.00085498 -0.04339629 -0.01131052\n",
      "  0.00926857  0.03009852  0.00401286  0.0226302   0.04329113  0.0019631\n",
      "  0.00525049  0.305941    0.00693353  0.03443407  0.03116727  0.13596304\n",
      "  0.02660353  0.00581463 -0.01692358  0.01484644 -0.01729076 -0.00118962\n",
      "  0.00461809  0.03938045  0.04206297  0.05636727  0.01120443 -0.0101408\n",
      " -0.00472407 -0.01845525 -0.00274096  0.00504194 -0.02382473  0.03708906\n",
      "  0.01763952 -0.00162936  0.00991266  0.00545246 -0.00244212 -0.02179445\n",
      "  0.00862779 -0.03101769  0.01337135 -0.05252787 -0.01752301 -0.07212412\n",
      "  0.04218627  0.01835897 -0.03841999 -0.03380709 -0.02865586  0.00289253\n",
      " -0.00503832  0.06380809  0.0231844   0.04371573  0.01818898  0.01144092\n",
      " -0.05715381  0.01327179 -0.05416953  0.01055767 -0.01377359 -0.00697023\n",
      "  0.00534507  0.19495408 -0.00382809 -0.01153739  0.05261749 -0.15305598\n",
      " -0.05780239 -0.00722723 -0.10334502 -0.02891188  0.04872941 -0.06369349\n",
      " -0.06087724 -0.01461384 -0.06479985  0.01923    -0.0022962   0.04742396\n",
      "  0.10417484  0.0236708  -0.07264555 -0.04379908 -0.09639246 -0.05758272\n",
      "  0.02172072 -0.01892907 -0.03184969 -0.06358586 -0.08816814 -0.06739305\n",
      " -0.04407161 -0.04014831 -0.04984743  0.02286243 -0.01402193 -0.03166869\n",
      "  0.04575175]\n",
      "ordered_pocax =  [-0.12564518  0.05206263 -0.03062759 -0.03235899  0.09763418  0.0048499\n",
      "  0.00943753  0.05516989  0.31492278  0.12163319  0.04015106 -0.02172407\n",
      " -0.00177114 -0.14081542 -0.01912842 -0.05125614 -0.00062081  0.14885484\n",
      "  0.01483655  0.05170671 -0.01707729 -0.00061385  0.00881472 -0.21753241\n",
      "  0.00605343 -0.07077286 -0.0167565  -0.00459527 -0.01600695 -0.01677939\n",
      "  0.0118908  -0.01762416  0.00435679  0.01462892  0.00253085 -0.04859198\n",
      "  0.02631253 -0.00935868 -0.01795375 -0.02515749  0.00725456 -0.05981446\n",
      " -0.03460036 -0.03687518  0.16210654  0.07979918  0.0079322  -0.03207037\n",
      "  0.03996011 -0.09564117 -0.03536231 -0.17327581  0.0346862   0.09674329\n",
      "  0.22787358 -0.00259696  0.01409541 -0.01223536  0.32812136  0.08642837\n",
      " -0.04823636 -0.12990084 -0.13456105  0.06290641  0.00759618  0.01218839\n",
      "  0.00123247  0.04466092  0.00611177 -0.00070899 -0.03710658  0.04524364\n",
      "  0.07460894  0.06935555  0.05660795 -0.04045226 -0.00639004  0.08061168\n",
      "  0.01804429  0.0022031   0.02782362 -0.03081498  0.00083262 -0.15262756\n",
      "  0.01391983  0.01577597  0.01479018 -0.2998547   0.05607008 -0.0592328\n",
      "  0.2868236   0.35189405  0.04597934 -0.23782757 -0.0222602  -0.02689268\n",
      " -0.18937762  0.08067524  0.12080713  0.01067393  0.13868931  0.01779817\n",
      "  0.0320772   0.01244222  0.05454691  0.00552833  0.0653168   0.00124253\n",
      "  0.00255716  0.0050332   0.07317971  0.00085498 -0.04339629 -0.01131052\n",
      "  0.00926857  0.03009852  0.00401286  0.0226302   0.04329113  0.0019631\n",
      "  0.00525049  0.305941    0.00693353  0.03443407  0.03116727  0.13596304\n",
      "  0.02660353  0.00581463 -0.01692358  0.01484644 -0.01729076 -0.00118962\n",
      "  0.00461809  0.03938045  0.04206297  0.05636727  0.01120443 -0.0101408\n",
      " -0.00472407 -0.01845525 -0.00274096  0.00504194 -0.02382473  0.03708906\n",
      "  0.01763952 -0.00162936  0.00991266  0.00545246 -0.00244212 -0.02179445\n",
      "  0.00862779 -0.03101769  0.01337135 -0.05252787 -0.01752301 -0.07212412\n",
      "  0.04218627  0.01835897 -0.03841999 -0.03380709 -0.02865586  0.00289253\n",
      " -0.00503832  0.06380809  0.0231844   0.04371573  0.01818898  0.01144092\n",
      " -0.05715381  0.01327179 -0.05416953  0.01055767 -0.01377359 -0.00697023\n",
      "  0.00534507  0.19495408 -0.00382809 -0.01153739  0.05261749 -0.15305598\n",
      " -0.05780239 -0.00722723 -0.10334502 -0.02891188  0.04872941 -0.06369349\n",
      " -0.06087724 -0.01461384 -0.06479985  0.01923    -0.0022962   0.04742396\n",
      "  0.10417484  0.0236708  -0.07264555 -0.04379908 -0.09639246 -0.05758272\n",
      "  0.02172072 -0.01892907 -0.03184969 -0.06358586 -0.08816814 -0.06739305\n",
      " -0.04407161 -0.04014831 -0.04984743  0.02286243 -0.01402193 -0.03166869\n",
      "  0.04575175]\n",
      "  ---------------------- \n",
      "\n",
      "  \n",
      "eventIndex, interval =  0 0\n",
      "interval_pocaz =  []\n",
      "             ----          \n",
      "interval_pocaz =  []\n",
      "  \n",
      "eventIndex, interval =  0 1\n",
      "interval_pocaz =  []\n",
      "             ----          \n",
      "interval_pocaz =  []\n",
      "  \n",
      "eventIndex, interval =  0 2\n",
      "interval_pocaz =  []\n",
      "             ----          \n",
      "interval_pocaz =  []\n",
      "  \n",
      "eventIndex, interval =  0 3\n",
      "interval_pocaz =  []\n",
      "             ----          \n",
      "interval_pocaz =  []\n",
      "  \n",
      "eventIndex, interval =  0 4\n",
      "interval_pocaz =  []\n",
      "             ----          \n",
      "interval_pocaz =  []\n",
      "  \n",
      "interval_pocaz =  []\n",
      "  \n",
      "interval_pocaz =  []\n",
      "  \n",
      "interval_pocaz =  []\n",
      "  \n",
      "interval_pocaz =  []\n",
      "  \n",
      "interval_pocaz =  [0.7507851  0.80373615 0.8111011  0.81189334 0.8170403  0.82293445\n",
      " 0.82384807 0.8275966  0.82947946 0.8299257  0.8303796  0.8304786\n",
      " 0.8308245  0.8310347  0.8311125  0.8311896  0.8312177  0.83126634\n",
      " 0.8312679  0.8312714  0.83127564 0.83128935 0.83129096 0.83130383\n",
      " 0.831305   0.8313067  0.83132225 0.83132374 0.83132625 0.8313278\n",
      " 0.83133477 0.8313379  0.83133954 0.8313404  0.8313409  0.8313418\n",
      " 0.83134484 0.8313451  0.83134556 0.83134764 0.83134806 0.83134836\n",
      " 0.83135235 0.8313533  0.8313553  0.83135736 0.8313605  0.83136773\n",
      " 0.8313732  0.83137935 0.83140326 0.83140635 0.8314092  0.8314095\n",
      " 0.8314097  0.8314992  0.8315162  0.8315214  0.83155715 0.83158356\n",
      " 0.8316785  0.83169127 0.8318301  0.8322768  0.83319277 0.8332187\n",
      " 0.8332189  0.8332736  0.833279   0.83329463 0.8332995  0.83329993\n",
      " 0.83330977 0.83331066 0.8333158  0.83331895 0.8333205  0.83332217\n",
      " 0.8333246  0.83332545 0.83332926 0.83332986 0.8333405  0.8333445\n",
      " 0.8333455  0.83334875 0.8333876  0.8334056  0.83343494 0.83346707\n",
      " 0.8335014  0.8337328  0.8337356  0.83376163 0.83387274 0.83629453\n",
      " 0.8366791  0.8371208  0.83727527 0.837283   0.8372835  0.83728546\n",
      " 0.8373169  0.83734095 0.83735603 0.83737236 0.8373742  0.8373852\n",
      " 0.8373868  0.83738774 0.8373895  0.83739257 0.83739334 0.8373942\n",
      " 0.8373945  0.8373962  0.8373963  0.83739674 0.83739966 0.8374003\n",
      " 0.83740175 0.8374039  0.83740675 0.83740723 0.8374108  0.8374109\n",
      " 0.83741504 0.8374161  0.8374179  0.8374217  0.83742285 0.83742356\n",
      " 0.8374249  0.8374271  0.8374292  0.8374457  0.83744866 0.837458\n",
      " 0.83746916 0.8375029  0.83751845 0.8375586  0.83757406 0.83759564\n",
      " 0.8376288  0.8379437  0.8380539  0.83816934 0.8381744  0.8384537\n",
      " 0.83848137 0.8385648  0.8385781  0.8385887  0.83859885 0.83860224\n",
      " 0.838604   0.83860457 0.8386136  0.838614   0.8386148  0.8386155\n",
      " 0.8386225  0.8386244  0.838631   0.8386322  0.8386387  0.83864903\n",
      " 0.8386499  0.83865184 0.8386867  0.8387426  0.83874846 0.8389545\n",
      " 0.8389586  0.83904684 0.8396398  0.8396618  0.83970606 0.83977413\n",
      " 0.83977735 0.8398007  0.8398193  0.8398196  0.8398235  0.8398343\n",
      " 0.8398497  0.83985126 0.8398571  0.83988416 0.83989066 0.83989674\n",
      " 0.8399392  0.83993953 0.8399513  0.8399722  0.83999753 0.84000033\n",
      " 0.8400122  0.84002495 0.84019786 0.8405765  0.84071594 0.8420062\n",
      " 0.84209603 0.8422656  0.84229195 0.84229803 0.8423428  0.8424216\n",
      " 0.84315956]\n",
      "  \n",
      "interval_pocaz =  [0.08411841 0.13706942 0.14443433 0.14522661 0.15037362 0.15626776\n",
      " 0.15718137 0.16092987 0.16281274 0.163259   0.16371287 0.16381188\n",
      " 0.16415782 0.16436802 0.16444582 0.1645229  0.16455099 0.1645996\n",
      " 0.16460122 0.16460472 0.16460899 0.16462263 0.16462427 0.16463712\n",
      " 0.16463833 0.16464001 0.16465557 0.16465704 0.16465957 0.16466106\n",
      " 0.16466808 0.1646712  0.16467288 0.16467372 0.1646742  0.16467509\n",
      " 0.16467814 0.16467842 0.16467884 0.16468091 0.16468139 0.16468164\n",
      " 0.16468565 0.1646866  0.16468854 0.16469066 0.16469383 0.16470101\n",
      " 0.16470648 0.16471267 0.16473655 0.1647397  0.16474256 0.16474283\n",
      " 0.16474299 0.16483253 0.16484949 0.16485468 0.16489045 0.16491689\n",
      " 0.16501182 0.16502458 0.16516334 0.16561013 0.16652602 0.166552\n",
      " 0.16655219 0.16660692 0.16661234 0.16662794 0.16663279 0.16663325\n",
      " 0.1666431  0.16664398 0.16664904 0.16665226 0.16665378 0.16665548\n",
      " 0.16665788 0.16665873 0.16666257 0.16666318 0.1666738  0.16667779\n",
      " 0.16667879 0.1666821  0.16672093 0.1667389  0.1667682  0.16680041\n",
      " 0.16683471 0.16706604 0.16706887 0.16709498 0.16720605 0.16962783\n",
      " 0.17001241 0.1704541  0.1706086  0.1706163  0.17061679 0.17061874\n",
      " 0.17065015 0.1706743  0.1706893  0.17070566 0.17070751 0.17071846\n",
      " 0.17072013 0.1707211  0.17072283 0.17072588 0.17072669 0.1707275\n",
      " 0.17072782 0.1707295  0.17072967 0.17073002 0.17073295 0.17073359\n",
      " 0.17073503 0.17073719 0.17074005 0.17074051 0.17074408 0.17074423\n",
      " 0.17074835 0.17074946 0.1707512  0.17075501 0.17075616 0.17075685\n",
      " 0.17075816 0.1707604  0.17076251 0.17077899 0.170782   0.1707913\n",
      " 0.17080246 0.17083621 0.1708518  0.17089187 0.17090733 0.17092893\n",
      " 0.17096211 0.17127702 0.1713872  0.17150263 0.17150775 0.17178705\n",
      " 0.17181471 0.17189807 0.1719114  0.17192201 0.17193216 0.17193557\n",
      " 0.17193726 0.17193785 0.17194693 0.17194729 0.17194809 0.17194876\n",
      " 0.17195584 0.17195775 0.1719643  0.17196555 0.17197205 0.17198233\n",
      " 0.17198326 0.17198512 0.17202003 0.1720759  0.17208178 0.17228784\n",
      " 0.17229187 0.17238013 0.17297308 0.1729951  0.17303938 0.17310743\n",
      " 0.17311063 0.173134   0.1731526  0.1731529  0.17315678 0.17316753\n",
      " 0.17318304 0.17318454 0.17319037 0.17321748 0.17322393 0.17323007\n",
      " 0.17327248 0.17327285 0.17328463 0.17330553 0.17333083 0.17333362\n",
      " 0.17334552 0.17335825 0.17353117 0.17390983 0.17404923 0.17533955\n",
      " 0.17542934 0.17559892 0.17562525 0.17563136 0.1756761  0.1757549\n",
      " 0.17649284]\n",
      "  \n",
      "interval_pocaz =  []\n",
      "  \n",
      "interval_pocaz =  []\n",
      "  \n",
      "interval_pocaz =  []\n",
      "  \n",
      "interval_pocaz =  []\n",
      "  \n",
      "interval_pocaz =  []\n",
      "  \n",
      "interval_pocaz =  []\n",
      "  \n",
      "interval_pocaz =  []\n",
      "  \n",
      "interval_pocaz =  []\n",
      "  \n",
      "interval_pocaz =  []\n",
      "  \n",
      "interval_pocaz =  []\n",
      "  \n",
      "interval_pocaz =  []\n",
      "  \n",
      "interval_pocaz =  []\n",
      "  \n",
      "interval_pocaz =  []\n",
      "  \n",
      "interval_pocaz =  []\n",
      "  \n",
      "interval_pocaz =  []\n",
      "  \n",
      "interval_pocaz =  []\n",
      "  \n",
      "interval_pocaz =  []\n",
      "  \n",
      "interval_pocaz =  []\n",
      "  \n",
      "interval_pocaz =  []\n",
      "  \n",
      "interval_pocaz =  []\n",
      "  \n",
      "interval_pocaz =  []\n",
      "  \n",
      "interval_pocaz =  []\n",
      "  \n",
      "interval_pocaz =  []\n",
      "  \n",
      "interval_pocaz =  []\n",
      "  \n",
      "interval_pocaz =  []\n",
      "  \n",
      "interval_pocaz =  []\n",
      "  \n",
      "interval_pocaz =  []\n",
      "  \n",
      "interval_pocaz =  []\n",
      "  \n",
      "interval_pocaz =  []\n"
     ]
    },
    {
     "name": "stdout",
     "output_type": "stream",
     "text": [
      "len(X) =  20000\n",
      "len(X_ints) = 800000\n",
      "len(Xlist) =  1\n",
      "len(Xlist_ints) =  1\n",
      "Loaded dataAA/20K_POCA_kernel_evts_200926.h5 in 86.61 s\n",
      "outer loop X.shape =  (20000, 9, 600)\n",
      "Constructing 20000 event dataset took 4.318 s\n",
      "x_t.shape =  torch.Size([20000, 9, 600])\n",
      "x_t.shape[0] =  20000\n",
      "x_t.shape[1] =  9\n",
      "x_t_intervals.shape =  torch.Size([700000, 9, 300])\n",
      "x_t_intervals.shape[0] =  700000\n",
      "x_t_intervals.shape[1] =  9\n",
      "y_t.shape =  torch.Size([20000, 12000])\n",
      "y_t_intervals.shape =  torch.Size([700000, 300])\n",
      "y_t_intervals.shape[0] =  700000\n",
      "y_t_intervals.shape[1] =  300\n",
      "Loading data...\n",
      "  \n",
      "kernel.shape =  (20000, 4000)\n",
      "kernel.shape[0] =  20000\n",
      "kernel.shape[1] =  4000\n",
      "Y.shape =       (20000, 12000)\n",
      "binsPerInterval =  100\n",
      "nIntervals =        40\n",
      "intervalKernels.shape =  (800000, 100)\n",
      "pocaMx.shape =  (20000,)\n",
      "nEvts =  20000\n",
      "pocaz.shape =  (20000,)\n",
      "len(pocaMx[0]) =  211\n",
      "len(pocaMx[1]) =  21\n",
      "len(pocaMx[2]) =  20\n",
      "len(pocaMx[3]) =  198\n",
      "len(pocaMx[4]) =  233\n",
      "majorAxis.shape =  (20000, 3)\n",
      "minorAxis_1.shape =  (20000, 3)\n",
      "minorAxis_2.shape =  (20000, 3)\n",
      "have entered six_ellipsoid_parameters\n",
      "  \n",
      " \n",
      "  nEvts =  20000\n",
      " iEvt, nTrks =  0 211\n",
      " iEvt, nTrks =  1 21\n",
      " iEvt, nTrks =  2 20\n",
      " iEvt, nTrks =  3 198\n",
      " iEvt, nTrks =  4 233\n",
      " iEvt, nTrks =  5 85\n",
      " iEvt, nTrks =  6 223\n",
      " iEvt, nTrks =  7 425\n",
      " iEvt, nTrks =  8 252\n",
      " iEvt, nTrks =  9 169\n",
      "A.shape =  (20000,)\n",
      "majorAxis[iTrk][0][0] =  -0.00023452607\n",
      "majorAxis[iTrk][1][0] =  -0.00047206535\n",
      "majorAxis[iTrk][2][0] =  0.096502915\n",
      "minorAxis_1[iTrk][0][0] =  -15.822749\n",
      "minorAxis_1[iTrk][1][0] =  7.8608756\n",
      "minorAxis_1[iTrk][2][0] =  -2.6228399e-08\n",
      "minorAxis_2[iTrk][0][0] =  7.860759\n",
      "minorAxis_2[iTrk][1][0] =  15.822513\n",
      "minorAxis_2[iTrk][2][0] =  0.096502915\n",
      "  \n",
      "majorAxis[iTrk][0][0] =  -0.37655562\n",
      "majorAxis[iTrk][1][0] =  0.2768704\n",
      "majorAxis[iTrk][2][0] =  2.8546858\n",
      "minorAxis_1[iTrk][0][0] =  -10.466048\n",
      "minorAxis_1[iTrk][1][0] =  -14.234274\n",
      "minorAxis_1[iTrk][2][0] =  2.2974699e-11\n",
      "minorAxis_2[iTrk][0][0] =  -14.04724\n",
      "minorAxis_2[iTrk][1][0] =  10.328527\n",
      "minorAxis_2[iTrk][2][0] =  -2.8546853\n",
      "  \n",
      "majorAxis[iTrk][0][0] =  -0.024279848\n",
      "majorAxis[iTrk][1][0] =  0.0019689242\n",
      "majorAxis[iTrk][2][0] =  0.65580803\n",
      "minorAxis_1[iTrk][0][0] =  -1.4280497\n",
      "minorAxis_1[iTrk][1][0] =  -17.610037\n",
      "minorAxis_1[iTrk][2][0] =  -6.123401e-10\n",
      "minorAxis_2[iTrk][0][0] =  -17.597902\n",
      "minorAxis_2[iTrk][1][0] =  1.4270656\n",
      "minorAxis_2[iTrk][2][0] =  -0.6558081\n",
      "  \n",
      "majorAxis[iTrk][0][0] =  -0.007825993\n",
      "majorAxis[iTrk][1][0] =  0.004052097\n",
      "majorAxis[iTrk][2][0] =  0.3945435\n",
      "minorAxis_1[iTrk][0][0] =  8.123606\n",
      "minorAxis_1[iTrk][1][0] =  15.689478\n",
      "minorAxis_1[iTrk][2][0] =  -2.4940747e-10\n",
      "minorAxis_2[iTrk][0][0] =  15.685566\n",
      "minorAxis_2[iTrk][1][0] =  -8.12158\n",
      "minorAxis_2[iTrk][2][0] =  0.3945435\n",
      "  \n",
      "majorAxis[iTrk][0][0] =  0.0046102717\n",
      "majorAxis[iTrk][1][0] =  -0.0016007021\n",
      "majorAxis[iTrk][2][0] =  0.29361814\n",
      "minorAxis_1[iTrk][0][0] =  -5.794979\n",
      "minorAxis_1[iTrk][1][0] =  -16.690445\n",
      "minorAxis_1[iTrk][2][0] =  2.4897104e-09\n",
      "minorAxis_2[iTrk][0][0] =  -16.688139\n",
      "minorAxis_2[iTrk][1][0] =  5.794179\n",
      "minorAxis_2[iTrk][2][0] =  0.2936181\n",
      "  \n",
      "majorAxis[iTrk][0][0] =  -0.00020041714\n",
      "majorAxis[iTrk][1][0] =  0.00010468164\n",
      "majorAxis[iTrk][2][0] =  0.06320469\n",
      "minorAxis_1[iTrk][0][0] =  8.179679\n",
      "minorAxis_1[iTrk][1][0] =  15.660318\n",
      "minorAxis_1[iTrk][2][0] =  7.40176e-08\n",
      "minorAxis_2[iTrk][0][0] =  15.660218\n",
      "minorAxis_2[iTrk][1][0] =  -8.179626\n",
      "minorAxis_2[iTrk][2][0] =  0.06320469\n",
      "  \n",
      "majorAxis[iTrk][0][0] =  -0.00020603223\n",
      "majorAxis[iTrk][1][0] =  -0.0005662605\n",
      "majorAxis[iTrk][2][0] =  0.10317981\n",
      "minorAxis_1[iTrk][0][0] =  -16.603\n",
      "minorAxis_1[iTrk][1][0] =  6.040953\n",
      "minorAxis_1[iTrk][2][0] =  4.5812504e-07\n",
      "minorAxis_2[iTrk][0][0] =  6.0408506\n",
      "minorAxis_2[iTrk][1][0] =  16.602718\n",
      "minorAxis_2[iTrk][2][0] =  0.10317982\n",
      "  \n",
      "majorAxis[iTrk][0][0] =  -0.00040561036\n",
      "majorAxis[iTrk][1][0] =  0.00014461782\n",
      "majorAxis[iTrk][2][0] =  0.0872241\n",
      "minorAxis_1[iTrk][0][0] =  -5.933496\n",
      "minorAxis_1[iTrk][1][0] =  -16.641706\n",
      "minorAxis_1[iTrk][2][0] =  1.0720762e-08\n",
      "minorAxis_2[iTrk][0][0] =  -16.641502\n",
      "minorAxis_2[iTrk][1][0] =  5.9334235\n",
      "minorAxis_2[iTrk][2][0] =  -0.0872241\n",
      "  \n",
      "majorAxis[iTrk][0][0] =  0.00038461428\n",
      "majorAxis[iTrk][1][0] =  -3.4232737e-05\n",
      "majorAxis[iTrk][2][0] =  0.08259597\n",
      "minorAxis_1[iTrk][0][0] =  -1.5663412\n",
      "minorAxis_1[iTrk][1][0] =  -17.598276\n",
      "minorAxis_1[iTrk][2][0] =  3.2106848e-07\n",
      "minorAxis_2[iTrk][0][0] =  -17.598082\n",
      "minorAxis_2[iTrk][1][0] =  1.5663238\n",
      "minorAxis_2[iTrk][2][0] =  0.08259596\n",
      "  \n",
      "majorAxis[iTrk][0][0] =  -0.022277953\n",
      "majorAxis[iTrk][1][0] =  -0.0046837274\n",
      "majorAxis[iTrk][2][0] =  0.63399464\n",
      "minorAxis_1[iTrk][0][0] =  -3.6350286\n",
      "minorAxis_1[iTrk][1][0] =  17.289862\n",
      "minorAxis_1[iTrk][2][0] =  9.566169e-10\n",
      "minorAxis_2[iTrk][0][0] =  17.278727\n",
      "minorAxis_2[iTrk][1][0] =  3.6326876\n",
      "minorAxis_2[iTrk][2][0] =  0.6339946\n",
      "  \n",
      "eventIndex =  0\n",
      "len(local_pocaz) =  211\n",
      "  \n",
      "local_pocaz =  [-1.23822391e+00 -4.43958640e-01 -3.33485037e-01 -3.21600825e-01\n",
      " -2.44395837e-01 -1.55983627e-01 -1.42279729e-01 -8.60519558e-02\n",
      " -5.78091294e-02 -5.11150099e-02 -4.43069339e-02 -4.28218469e-02\n",
      " -3.76326926e-02 -3.44797559e-02 -3.33126895e-02 -3.21566537e-02\n",
      " -3.17352042e-02 -3.10061518e-02 -3.09818480e-02 -3.09294444e-02\n",
      " -3.08653861e-02 -3.06606498e-02 -3.06359790e-02 -3.04435194e-02\n",
      " -3.04254256e-02 -3.04000359e-02 -3.01665477e-02 -3.01444083e-02\n",
      " -3.01066414e-02 -3.00841182e-02 -2.99790353e-02 -2.99323536e-02\n",
      " -2.99069881e-02 -2.98943575e-02 -2.98873149e-02 -2.98739634e-02\n",
      " -2.98281163e-02 -2.98238173e-02 -2.98175514e-02 -2.97864005e-02\n",
      " -2.97791921e-02 -2.97753997e-02 -2.97153108e-02 -2.97009554e-02\n",
      " -2.96718348e-02 -2.96403021e-02 -2.95927301e-02 -2.94849817e-02\n",
      " -2.94028632e-02 -2.93101538e-02 -2.89519373e-02 -2.89046615e-02\n",
      " -2.88616922e-02 -2.88577657e-02 -2.88553312e-02 -2.75121406e-02\n",
      " -2.72576790e-02 -2.71799807e-02 -2.66432893e-02 -2.62467619e-02\n",
      " -2.48227455e-02 -2.46314406e-02 -2.25500539e-02 -1.58481617e-02\n",
      " -2.10979697e-03 -1.72000506e-03 -1.71724975e-03 -8.96518584e-04\n",
      " -8.15029198e-04 -5.81001979e-04 -5.08191355e-04 -5.01292408e-04\n",
      " -3.53640295e-04 -3.40370083e-04 -2.64390634e-04 -2.16207322e-04\n",
      " -1.93332569e-04 -1.67944512e-04 -1.31774330e-04 -1.19251803e-04\n",
      " -6.15143654e-05 -5.25222786e-05  1.06699496e-04  1.66734448e-04\n",
      "  1.81626892e-04  2.31216763e-04  8.13655497e-04  1.08331547e-03\n",
      "  1.52280298e-03  2.00598314e-03  2.52052257e-03  5.99052804e-03\n",
      "  6.03304571e-03  6.42440189e-03  8.09042994e-03  4.44174036e-02\n",
      "  5.01861498e-02  5.68113290e-02  5.91287613e-02  5.92444167e-02\n",
      "  5.92517778e-02  5.92810437e-02  5.97522259e-02  6.01143837e-02\n",
      "  6.03394769e-02  6.05848096e-02  6.06125519e-02  6.07766025e-02\n",
      "  6.08017072e-02  6.08162694e-02  6.08422495e-02  6.08880147e-02\n",
      "  6.09001182e-02  6.09123595e-02  6.09170906e-02  6.09424785e-02\n",
      "  6.09446988e-02  6.09501600e-02  6.09941892e-02  6.10036366e-02\n",
      "  6.10254258e-02  6.10578954e-02  6.11008331e-02  6.11076951e-02\n",
      "  6.11611009e-02  6.11631833e-02  6.12250604e-02  6.12415113e-02\n",
      "  6.12678528e-02  6.13250509e-02  6.13421835e-02  6.13525398e-02\n",
      "  6.13722838e-02  6.14056326e-02  6.14375845e-02  6.16845377e-02\n",
      "  6.17298484e-02  6.18694313e-02  6.20367862e-02  6.25428855e-02\n",
      "  6.27769008e-02  6.33778721e-02  6.36098012e-02  6.39338940e-02\n",
      "  6.44314364e-02  6.91550970e-02  7.08076358e-02  7.25392103e-02\n",
      "  7.26160705e-02  7.68055841e-02  7.72203282e-02  7.84709826e-02\n",
      "  7.86709338e-02  7.88299292e-02  7.89823607e-02  7.90333152e-02\n",
      "  7.90586621e-02  7.90678039e-02  7.92038217e-02  7.92089924e-02\n",
      "  7.92213604e-02  7.92312771e-02  7.93373883e-02  7.93659687e-02\n",
      "  7.94643611e-02  7.94832185e-02  7.95804709e-02  7.97348693e-02\n",
      "  7.97485933e-02  7.97766894e-02  8.03003684e-02  8.11383277e-02\n",
      "  8.12266842e-02  8.43174830e-02  8.43780339e-02  8.57019201e-02\n",
      "  9.45961624e-02  9.49262753e-02  9.55904946e-02  9.66111645e-02\n",
      "  9.66593474e-02  9.70098749e-02  9.72887650e-02  9.72934291e-02\n",
      "  9.73515958e-02  9.75128338e-02  9.77453142e-02  9.77679566e-02\n",
      "  9.78552401e-02  9.82620046e-02  9.83588994e-02  9.84510109e-02\n",
      "  9.90869254e-02  9.90925059e-02  9.92693231e-02  9.95827764e-02\n",
      "  9.99623165e-02  1.00004114e-01  1.00182794e-01  1.00373499e-01\n",
      "  1.02967605e-01  1.08647317e-01  1.10738359e-01  1.30093083e-01\n",
      "  1.31439850e-01  1.33983627e-01  1.34378597e-01  1.34470165e-01\n",
      "  1.35141432e-01  1.36323377e-01  1.47392571e-01]\n",
      "ordered_pocaz =  [-1.23822391e+00 -4.43958640e-01 -3.33485037e-01 -3.21600825e-01\n",
      " -2.44395837e-01 -1.55983627e-01 -1.42279729e-01 -8.60519558e-02\n",
      " -5.78091294e-02 -5.11150099e-02 -4.43069339e-02 -4.28218469e-02\n",
      " -3.76326926e-02 -3.44797559e-02 -3.33126895e-02 -3.21566537e-02\n",
      " -3.17352042e-02 -3.10061518e-02 -3.09818480e-02 -3.09294444e-02\n",
      " -3.08653861e-02 -3.06606498e-02 -3.06359790e-02 -3.04435194e-02\n",
      " -3.04254256e-02 -3.04000359e-02 -3.01665477e-02 -3.01444083e-02\n",
      " -3.01066414e-02 -3.00841182e-02 -2.99790353e-02 -2.99323536e-02\n",
      " -2.99069881e-02 -2.98943575e-02 -2.98873149e-02 -2.98739634e-02\n",
      " -2.98281163e-02 -2.98238173e-02 -2.98175514e-02 -2.97864005e-02\n",
      " -2.97791921e-02 -2.97753997e-02 -2.97153108e-02 -2.97009554e-02\n",
      " -2.96718348e-02 -2.96403021e-02 -2.95927301e-02 -2.94849817e-02\n",
      " -2.94028632e-02 -2.93101538e-02 -2.89519373e-02 -2.89046615e-02\n",
      " -2.88616922e-02 -2.88577657e-02 -2.88553312e-02 -2.75121406e-02\n",
      " -2.72576790e-02 -2.71799807e-02 -2.66432893e-02 -2.62467619e-02\n",
      " -2.48227455e-02 -2.46314406e-02 -2.25500539e-02 -1.58481617e-02\n",
      " -2.10979697e-03 -1.72000506e-03 -1.71724975e-03 -8.96518584e-04\n",
      " -8.15029198e-04 -5.81001979e-04 -5.08191355e-04 -5.01292408e-04\n",
      " -3.53640295e-04 -3.40370083e-04 -2.64390634e-04 -2.16207322e-04\n",
      " -1.93332569e-04 -1.67944512e-04 -1.31774330e-04 -1.19251803e-04\n",
      " -6.15143654e-05 -5.25222786e-05  1.06699496e-04  1.66734448e-04\n",
      "  1.81626892e-04  2.31216763e-04  8.13655497e-04  1.08331547e-03\n",
      "  1.52280298e-03  2.00598314e-03  2.52052257e-03  5.99052804e-03\n",
      "  6.03304571e-03  6.42440189e-03  8.09042994e-03  4.44174036e-02\n",
      "  5.01861498e-02  5.68113290e-02  5.91287613e-02  5.92444167e-02\n",
      "  5.92517778e-02  5.92810437e-02  5.97522259e-02  6.01143837e-02\n",
      "  6.03394769e-02  6.05848096e-02  6.06125519e-02  6.07766025e-02\n",
      "  6.08017072e-02  6.08162694e-02  6.08422495e-02  6.08880147e-02\n",
      "  6.09001182e-02  6.09123595e-02  6.09170906e-02  6.09424785e-02\n",
      "  6.09446988e-02  6.09501600e-02  6.09941892e-02  6.10036366e-02\n",
      "  6.10254258e-02  6.10578954e-02  6.11008331e-02  6.11076951e-02\n",
      "  6.11611009e-02  6.11631833e-02  6.12250604e-02  6.12415113e-02\n",
      "  6.12678528e-02  6.13250509e-02  6.13421835e-02  6.13525398e-02\n",
      "  6.13722838e-02  6.14056326e-02  6.14375845e-02  6.16845377e-02\n",
      "  6.17298484e-02  6.18694313e-02  6.20367862e-02  6.25428855e-02\n",
      "  6.27769008e-02  6.33778721e-02  6.36098012e-02  6.39338940e-02\n",
      "  6.44314364e-02  6.91550970e-02  7.08076358e-02  7.25392103e-02\n",
      "  7.26160705e-02  7.68055841e-02  7.72203282e-02  7.84709826e-02\n",
      "  7.86709338e-02  7.88299292e-02  7.89823607e-02  7.90333152e-02\n",
      "  7.90586621e-02  7.90678039e-02  7.92038217e-02  7.92089924e-02\n",
      "  7.92213604e-02  7.92312771e-02  7.93373883e-02  7.93659687e-02\n",
      "  7.94643611e-02  7.94832185e-02  7.95804709e-02  7.97348693e-02\n",
      "  7.97485933e-02  7.97766894e-02  8.03003684e-02  8.11383277e-02\n",
      "  8.12266842e-02  8.43174830e-02  8.43780339e-02  8.57019201e-02\n",
      "  9.45961624e-02  9.49262753e-02  9.55904946e-02  9.66111645e-02\n",
      "  9.66593474e-02  9.70098749e-02  9.72887650e-02  9.72934291e-02\n",
      "  9.73515958e-02  9.75128338e-02  9.77453142e-02  9.77679566e-02\n",
      "  9.78552401e-02  9.82620046e-02  9.83588994e-02  9.84510109e-02\n",
      "  9.90869254e-02  9.90925059e-02  9.92693231e-02  9.95827764e-02\n",
      "  9.99623165e-02  1.00004114e-01  1.00182794e-01  1.00373499e-01\n",
      "  1.02967605e-01  1.08647317e-01  1.10738359e-01  1.30093083e-01\n",
      "  1.31439850e-01  1.33983627e-01  1.34378597e-01  1.34470165e-01\n",
      "  1.35141432e-01  1.36323377e-01  1.47392571e-01]\n",
      "      -----------      \n",
      "local_pocax =  [-0.12564518  0.05206263 -0.03062759 -0.03235899  0.09763418  0.0048499\n",
      "  0.00943753  0.05516989  0.31492278  0.12163319  0.04015106 -0.02172407\n",
      " -0.00177114 -0.14081542 -0.01912842 -0.05125614 -0.00062081  0.14885484\n",
      "  0.01483655  0.05170671 -0.01707729 -0.00061385  0.00881472 -0.21753241\n",
      "  0.00605343 -0.07077286 -0.0167565  -0.00459527 -0.01600695 -0.01677939\n",
      "  0.0118908  -0.01762416  0.00435679  0.01462892  0.00253085 -0.04859198\n",
      "  0.02631253 -0.00935868 -0.01795375 -0.02515749  0.00725456 -0.05981446\n",
      " -0.03460036 -0.03687518  0.16210654  0.07979918  0.0079322  -0.03207037\n",
      "  0.03996011 -0.09564117 -0.03536231 -0.17327581  0.0346862   0.09674329\n",
      "  0.22787358 -0.00259696  0.01409541 -0.01223536  0.32812136  0.08642837\n",
      " -0.04823636 -0.12990084 -0.13456105  0.06290641  0.00759618  0.01218839\n",
      "  0.00123247  0.04466092  0.00611177 -0.00070899 -0.03710658  0.04524364\n",
      "  0.07460894  0.06935555  0.05660795 -0.04045226 -0.00639004  0.08061168\n",
      "  0.01804429  0.0022031   0.02782362 -0.03081498  0.00083262 -0.15262756\n",
      "  0.01391983  0.01577597  0.01479018 -0.2998547   0.05607008 -0.0592328\n",
      "  0.2868236   0.35189405  0.04597934 -0.23782757 -0.0222602  -0.02689268\n",
      " -0.18937762  0.08067524  0.12080713  0.01067393  0.13868931  0.01779817\n",
      "  0.0320772   0.01244222  0.05454691  0.00552833  0.0653168   0.00124253\n",
      "  0.00255716  0.0050332   0.07317971  0.00085498 -0.04339629 -0.01131052\n",
      "  0.00926857  0.03009852  0.00401286  0.0226302   0.04329113  0.0019631\n",
      "  0.00525049  0.305941    0.00693353  0.03443407  0.03116727  0.13596304\n",
      "  0.02660353  0.00581463 -0.01692358  0.01484644 -0.01729076 -0.00118962\n",
      "  0.00461809  0.03938045  0.04206297  0.05636727  0.01120443 -0.0101408\n",
      " -0.00472407 -0.01845525 -0.00274096  0.00504194 -0.02382473  0.03708906\n",
      "  0.01763952 -0.00162936  0.00991266  0.00545246 -0.00244212 -0.02179445\n",
      "  0.00862779 -0.03101769  0.01337135 -0.05252787 -0.01752301 -0.07212412\n",
      "  0.04218627  0.01835897 -0.03841999 -0.03380709 -0.02865586  0.00289253\n",
      " -0.00503832  0.06380809  0.0231844   0.04371573  0.01818898  0.01144092\n",
      " -0.05715381  0.01327179 -0.05416953  0.01055767 -0.01377359 -0.00697023\n",
      "  0.00534507  0.19495408 -0.00382809 -0.01153739  0.05261749 -0.15305598\n",
      " -0.05780239 -0.00722723 -0.10334502 -0.02891188  0.04872941 -0.06369349\n",
      " -0.06087724 -0.01461384 -0.06479985  0.01923    -0.0022962   0.04742396\n",
      "  0.10417484  0.0236708  -0.07264555 -0.04379908 -0.09639246 -0.05758272\n",
      "  0.02172072 -0.01892907 -0.03184969 -0.06358586 -0.08816814 -0.06739305\n",
      " -0.04407161 -0.04014831 -0.04984743  0.02286243 -0.01402193 -0.03166869\n",
      "  0.04575175]\n",
      "ordered_pocax =  [-0.12564518  0.05206263 -0.03062759 -0.03235899  0.09763418  0.0048499\n",
      "  0.00943753  0.05516989  0.31492278  0.12163319  0.04015106 -0.02172407\n",
      " -0.00177114 -0.14081542 -0.01912842 -0.05125614 -0.00062081  0.14885484\n",
      "  0.01483655  0.05170671 -0.01707729 -0.00061385  0.00881472 -0.21753241\n",
      "  0.00605343 -0.07077286 -0.0167565  -0.00459527 -0.01600695 -0.01677939\n",
      "  0.0118908  -0.01762416  0.00435679  0.01462892  0.00253085 -0.04859198\n",
      "  0.02631253 -0.00935868 -0.01795375 -0.02515749  0.00725456 -0.05981446\n",
      " -0.03460036 -0.03687518  0.16210654  0.07979918  0.0079322  -0.03207037\n",
      "  0.03996011 -0.09564117 -0.03536231 -0.17327581  0.0346862   0.09674329\n",
      "  0.22787358 -0.00259696  0.01409541 -0.01223536  0.32812136  0.08642837\n",
      " -0.04823636 -0.12990084 -0.13456105  0.06290641  0.00759618  0.01218839\n",
      "  0.00123247  0.04466092  0.00611177 -0.00070899 -0.03710658  0.04524364\n",
      "  0.07460894  0.06935555  0.05660795 -0.04045226 -0.00639004  0.08061168\n",
      "  0.01804429  0.0022031   0.02782362 -0.03081498  0.00083262 -0.15262756\n",
      "  0.01391983  0.01577597  0.01479018 -0.2998547   0.05607008 -0.0592328\n",
      "  0.2868236   0.35189405  0.04597934 -0.23782757 -0.0222602  -0.02689268\n",
      " -0.18937762  0.08067524  0.12080713  0.01067393  0.13868931  0.01779817\n",
      "  0.0320772   0.01244222  0.05454691  0.00552833  0.0653168   0.00124253\n",
      "  0.00255716  0.0050332   0.07317971  0.00085498 -0.04339629 -0.01131052\n",
      "  0.00926857  0.03009852  0.00401286  0.0226302   0.04329113  0.0019631\n",
      "  0.00525049  0.305941    0.00693353  0.03443407  0.03116727  0.13596304\n",
      "  0.02660353  0.00581463 -0.01692358  0.01484644 -0.01729076 -0.00118962\n",
      "  0.00461809  0.03938045  0.04206297  0.05636727  0.01120443 -0.0101408\n",
      " -0.00472407 -0.01845525 -0.00274096  0.00504194 -0.02382473  0.03708906\n",
      "  0.01763952 -0.00162936  0.00991266  0.00545246 -0.00244212 -0.02179445\n",
      "  0.00862779 -0.03101769  0.01337135 -0.05252787 -0.01752301 -0.07212412\n",
      "  0.04218627  0.01835897 -0.03841999 -0.03380709 -0.02865586  0.00289253\n",
      " -0.00503832  0.06380809  0.0231844   0.04371573  0.01818898  0.01144092\n",
      " -0.05715381  0.01327179 -0.05416953  0.01055767 -0.01377359 -0.00697023\n",
      "  0.00534507  0.19495408 -0.00382809 -0.01153739  0.05261749 -0.15305598\n",
      " -0.05780239 -0.00722723 -0.10334502 -0.02891188  0.04872941 -0.06369349\n",
      " -0.06087724 -0.01461384 -0.06479985  0.01923    -0.0022962   0.04742396\n",
      "  0.10417484  0.0236708  -0.07264555 -0.04379908 -0.09639246 -0.05758272\n",
      "  0.02172072 -0.01892907 -0.03184969 -0.06358586 -0.08816814 -0.06739305\n",
      " -0.04407161 -0.04014831 -0.04984743  0.02286243 -0.01402193 -0.03166869\n",
      "  0.04575175]\n",
      "  ---------------------- \n",
      "\n",
      "  \n",
      "eventIndex, interval =  0 0\n",
      "interval_pocaz =  []\n",
      "             ----          \n",
      "interval_pocaz =  []\n",
      "  \n",
      "eventIndex, interval =  0 1\n",
      "interval_pocaz =  []\n",
      "             ----          \n",
      "interval_pocaz =  []\n",
      "  \n",
      "eventIndex, interval =  0 2\n",
      "interval_pocaz =  []\n",
      "             ----          \n",
      "interval_pocaz =  []\n",
      "  \n",
      "eventIndex, interval =  0 3\n",
      "interval_pocaz =  []\n",
      "             ----          \n",
      "interval_pocaz =  []\n",
      "  \n",
      "eventIndex, interval =  0 4\n",
      "interval_pocaz =  []\n",
      "             ----          \n",
      "interval_pocaz =  []\n",
      "  \n",
      "interval_pocaz =  []\n",
      "  \n",
      "interval_pocaz =  []\n",
      "  \n",
      "interval_pocaz =  []\n",
      "  \n",
      "interval_pocaz =  []\n",
      "  \n",
      "interval_pocaz =  [0.7507851  0.80373615 0.8111011  0.81189334 0.8170403  0.82293445\n",
      " 0.82384807 0.8275966  0.82947946 0.8299257  0.8303796  0.8304786\n",
      " 0.8308245  0.8310347  0.8311125  0.8311896  0.8312177  0.83126634\n",
      " 0.8312679  0.8312714  0.83127564 0.83128935 0.83129096 0.83130383\n",
      " 0.831305   0.8313067  0.83132225 0.83132374 0.83132625 0.8313278\n",
      " 0.83133477 0.8313379  0.83133954 0.8313404  0.8313409  0.8313418\n",
      " 0.83134484 0.8313451  0.83134556 0.83134764 0.83134806 0.83134836\n",
      " 0.83135235 0.8313533  0.8313553  0.83135736 0.8313605  0.83136773\n",
      " 0.8313732  0.83137935 0.83140326 0.83140635 0.8314092  0.8314095\n",
      " 0.8314097  0.8314992  0.8315162  0.8315214  0.83155715 0.83158356\n",
      " 0.8316785  0.83169127 0.8318301  0.8322768  0.83319277 0.8332187\n",
      " 0.8332189  0.8332736  0.833279   0.83329463 0.8332995  0.83329993\n",
      " 0.83330977 0.83331066 0.8333158  0.83331895 0.8333205  0.83332217\n",
      " 0.8333246  0.83332545 0.83332926 0.83332986 0.8333405  0.8333445\n",
      " 0.8333455  0.83334875 0.8333876  0.8334056  0.83343494 0.83346707\n",
      " 0.8335014  0.8337328  0.8337356  0.83376163 0.83387274 0.83629453\n",
      " 0.8366791  0.8371208  0.83727527 0.837283   0.8372835  0.83728546\n",
      " 0.8373169  0.83734095 0.83735603 0.83737236 0.8373742  0.8373852\n",
      " 0.8373868  0.83738774 0.8373895  0.83739257 0.83739334 0.8373942\n",
      " 0.8373945  0.8373962  0.8373963  0.83739674 0.83739966 0.8374003\n",
      " 0.83740175 0.8374039  0.83740675 0.83740723 0.8374108  0.8374109\n",
      " 0.83741504 0.8374161  0.8374179  0.8374217  0.83742285 0.83742356\n",
      " 0.8374249  0.8374271  0.8374292  0.8374457  0.83744866 0.837458\n",
      " 0.83746916 0.8375029  0.83751845 0.8375586  0.83757406 0.83759564\n",
      " 0.8376288  0.8379437  0.8380539  0.83816934 0.8381744  0.8384537\n",
      " 0.83848137 0.8385648  0.8385781  0.8385887  0.83859885 0.83860224\n",
      " 0.838604   0.83860457 0.8386136  0.838614   0.8386148  0.8386155\n",
      " 0.8386225  0.8386244  0.838631   0.8386322  0.8386387  0.83864903\n",
      " 0.8386499  0.83865184 0.8386867  0.8387426  0.83874846 0.8389545\n",
      " 0.8389586  0.83904684 0.8396398  0.8396618  0.83970606 0.83977413\n",
      " 0.83977735 0.8398007  0.8398193  0.8398196  0.8398235  0.8398343\n",
      " 0.8398497  0.83985126 0.8398571  0.83988416 0.83989066 0.83989674\n",
      " 0.8399392  0.83993953 0.8399513  0.8399722  0.83999753 0.84000033\n",
      " 0.8400122  0.84002495 0.84019786 0.8405765  0.84071594 0.8420062\n",
      " 0.84209603 0.8422656  0.84229195 0.84229803 0.8423428  0.8424216\n",
      " 0.84315956]\n",
      "  \n",
      "interval_pocaz =  [0.08411841 0.13706942 0.14443433 0.14522661 0.15037362 0.15626776\n",
      " 0.15718137 0.16092987 0.16281274 0.163259   0.16371287 0.16381188\n",
      " 0.16415782 0.16436802 0.16444582 0.1645229  0.16455099 0.1645996\n",
      " 0.16460122 0.16460472 0.16460899 0.16462263 0.16462427 0.16463712\n",
      " 0.16463833 0.16464001 0.16465557 0.16465704 0.16465957 0.16466106\n",
      " 0.16466808 0.1646712  0.16467288 0.16467372 0.1646742  0.16467509\n",
      " 0.16467814 0.16467842 0.16467884 0.16468091 0.16468139 0.16468164\n",
      " 0.16468565 0.1646866  0.16468854 0.16469066 0.16469383 0.16470101\n",
      " 0.16470648 0.16471267 0.16473655 0.1647397  0.16474256 0.16474283\n",
      " 0.16474299 0.16483253 0.16484949 0.16485468 0.16489045 0.16491689\n",
      " 0.16501182 0.16502458 0.16516334 0.16561013 0.16652602 0.166552\n",
      " 0.16655219 0.16660692 0.16661234 0.16662794 0.16663279 0.16663325\n",
      " 0.1666431  0.16664398 0.16664904 0.16665226 0.16665378 0.16665548\n",
      " 0.16665788 0.16665873 0.16666257 0.16666318 0.1666738  0.16667779\n",
      " 0.16667879 0.1666821  0.16672093 0.1667389  0.1667682  0.16680041\n",
      " 0.16683471 0.16706604 0.16706887 0.16709498 0.16720605 0.16962783\n",
      " 0.17001241 0.1704541  0.1706086  0.1706163  0.17061679 0.17061874\n",
      " 0.17065015 0.1706743  0.1706893  0.17070566 0.17070751 0.17071846\n",
      " 0.17072013 0.1707211  0.17072283 0.17072588 0.17072669 0.1707275\n",
      " 0.17072782 0.1707295  0.17072967 0.17073002 0.17073295 0.17073359\n",
      " 0.17073503 0.17073719 0.17074005 0.17074051 0.17074408 0.17074423\n",
      " 0.17074835 0.17074946 0.1707512  0.17075501 0.17075616 0.17075685\n",
      " 0.17075816 0.1707604  0.17076251 0.17077899 0.170782   0.1707913\n",
      " 0.17080246 0.17083621 0.1708518  0.17089187 0.17090733 0.17092893\n",
      " 0.17096211 0.17127702 0.1713872  0.17150263 0.17150775 0.17178705\n",
      " 0.17181471 0.17189807 0.1719114  0.17192201 0.17193216 0.17193557\n",
      " 0.17193726 0.17193785 0.17194693 0.17194729 0.17194809 0.17194876\n",
      " 0.17195584 0.17195775 0.1719643  0.17196555 0.17197205 0.17198233\n",
      " 0.17198326 0.17198512 0.17202003 0.1720759  0.17208178 0.17228784\n",
      " 0.17229187 0.17238013 0.17297308 0.1729951  0.17303938 0.17310743\n",
      " 0.17311063 0.173134   0.1731526  0.1731529  0.17315678 0.17316753\n",
      " 0.17318304 0.17318454 0.17319037 0.17321748 0.17322393 0.17323007\n",
      " 0.17327248 0.17327285 0.17328463 0.17330553 0.17333083 0.17333362\n",
      " 0.17334552 0.17335825 0.17353117 0.17390983 0.17404923 0.17533955\n",
      " 0.17542934 0.17559892 0.17562525 0.17563136 0.1756761  0.1757549\n",
      " 0.17649284]\n",
      "  \n",
      "interval_pocaz =  []\n",
      "  \n",
      "interval_pocaz =  []\n",
      "  \n",
      "interval_pocaz =  []\n",
      "  \n",
      "interval_pocaz =  []\n",
      "  \n",
      "interval_pocaz =  []\n",
      "  \n",
      "interval_pocaz =  []\n",
      "  \n",
      "interval_pocaz =  []\n",
      "  \n",
      "interval_pocaz =  []\n",
      "  \n",
      "interval_pocaz =  []\n",
      "  \n",
      "interval_pocaz =  []\n",
      "  \n",
      "interval_pocaz =  []\n",
      "  \n",
      "interval_pocaz =  []\n",
      "  \n",
      "interval_pocaz =  []\n",
      "  \n",
      "interval_pocaz =  []\n",
      "  \n",
      "interval_pocaz =  []\n",
      "  \n",
      "interval_pocaz =  []\n",
      "  \n",
      "interval_pocaz =  []\n",
      "  \n",
      "interval_pocaz =  []\n",
      "  \n",
      "interval_pocaz =  []\n",
      "  \n",
      "interval_pocaz =  []\n",
      "  \n",
      "interval_pocaz =  []\n",
      "  \n",
      "interval_pocaz =  []\n",
      "  \n",
      "interval_pocaz =  []\n",
      "  \n",
      "interval_pocaz =  []\n",
      "  \n",
      "interval_pocaz =  []\n",
      "  \n",
      "interval_pocaz =  []\n",
      "  \n",
      "interval_pocaz =  []\n",
      "  \n",
      "interval_pocaz =  []\n",
      "  \n",
      "interval_pocaz =  []\n"
     ]
    },
    {
     "name": "stdout",
     "output_type": "stream",
     "text": [
      "len(X) =  20000\n",
      "len(X_ints) = 800000\n",
      "len(Xlist) =  1\n",
      "len(Xlist_ints) =  1\n",
      "Loaded dataAA/20K_POCA_kernel_evts_200926.h5 in 89.53 s\n",
      "outer loop X.shape =  (20000, 9, 600)\n",
      "Constructing 20000 event dataset took 4.983 s\n",
      "x_t.shape =  torch.Size([20000, 9, 600])\n",
      "x_t.shape[0] =  20000\n",
      "x_t.shape[1] =  9\n",
      "x_t_intervals.shape =  torch.Size([800000, 9, 300])\n",
      "x_t_intervals.shape[0] =  800000\n",
      "x_t_intervals.shape[1] =  9\n",
      "y_t.shape =  torch.Size([20000, 12000])\n",
      "y_t_intervals.shape =  torch.Size([800000, 300])\n",
      "y_t_intervals.shape[0] =  800000\n",
      "y_t_intervals.shape[1] =  300\n"
     ]
    }
   ],
   "source": [
    "\n",
    "## Training dataset. You can put as many files here as desired.\n",
    "\n",
    "##train_loader = collect_t2kde_data('/share/lazy/pv-finder/20k_evts_for_KDE_learning_200716.h5',\n",
    "train_loader = collect_t2kde_data('dataAA/20K_POCA_kernel_evts_200926.h5',\n",
    "##train_loader = collect_t2kde_data('/share/lazy/sokoloff/ML-data_AA/100_POCA_kernel_evts_210829.h5',                                  \n",
    "##train_loader = collect_t2kde_data('/share/lazy/pv-finder/test_data_for_KDE_learning_BastilleDay20.h5',\n",
    "                            batch_size=batch_size,\n",
    "## if we are using a larger dataset (240K events, with the datasets above, and 11 GB  of GPU memory),\n",
    "## the dataset will overflow the GPU memory; device=device will allow the data to move back\n",
    "## and forth between the CPU and GPU memory. While this allows use of a larger dataset, it slows\n",
    "## down performance by about 10%.  So comment out when not needed.\n",
    "                           device=device,\n",
    "##  slice is used as index in feature set defined in terms of intervals\n",
    "##  and there are 800K intervals in a file with 20K events\n",
    "                           slice = slice(None,700000)\n",
    "                           )\n",
    "                            \n",
    "# Validation dataset. You can slice to reduce the size.\n",
    "## mds no separate validation set yet,\n",
    "val_loader = collect_t2kde_data('dataAA/20K_POCA_kernel_evts_200926.h5',\n",
    "                            batch_size=batch_size,\n",
    "                            device=device,\n",
    "##                            slice = slice(700000,None)\n",
    "                           )\n"
   ]
  },
  {
   "cell_type": "markdown",
   "metadata": {},
   "source": [
    "with torch.no_grad():\n",
    "    counter = 0\n",
    "    event = 0\n",
    "    print(\"train_loader = \",train_loader)\n",
    "    for inputs, labels in train_loader:\n",
    "##        print(\"counter = \",counter)\n",
    "##        print(\"inputs = \",inputs)\n",
    "        print(\"inputs.shape = \",inputs.shape)\n",
    "        if inputs.device != device:\n",
    "            inputs, labels = inputs.to(device), labels.to(device)\n",
    "            \n",
    "        outputs = model(inputs)\n",
    "##        print(\"outputs.shape = \",outputs.shape)\n",
    "        nEvts = outputs.shape[0]\n",
    "        for iEvt in range(nEvts):\n",
    "            y_pred = outputs[iEvt,:]\n",
    "            y_pred = y_pred.cpu().numpy()\n",
    "            \n",
    "            event = event +1\n",
    "##            print(\"event = \",event)\n",
    "            if (event<5):\n",
    "                plt.figure()\n",
    "                plt.plot(y_pred[0:50])\n",
    "                plt.show()\n",
    "                \n",
    "##                print(\"  point AA \")\n",
    "                features = inputs[iEvt,:]\n",
    "                features = features[np.newaxis,:,:]\n",
    "                \n",
    "                \n",
    "                print(\"features.shape = \",features.shape)\n",
    "                \n",
    "                output_A = model(features)\n",
    "                y_prime = output_A[0,:]\n",
    "                y_prime = y_prime.cpu().numpy()\n",
    "                plt.figure()\n",
    "                plt.plot(y_prime[0:50], color=\"r\")\n",
    "                plt.show()\n",
    "                \n",
    "            \n",
    "\n",
    "##        print(\"nEvts = \",nEvts)\n",
    "        \n",
    "        counter = counter+1\n",
    "        \n",
    "        \n",
    "        "
   ]
  },
  {
   "cell_type": "code",
   "execution_count": 19,
   "metadata": {},
   "outputs": [
    {
     "data": {
      "application/javascript": [
       "/* Put everything inside the global mpl namespace */\n",
       "window.mpl = {};\n",
       "\n",
       "\n",
       "mpl.get_websocket_type = function() {\n",
       "    if (typeof(WebSocket) !== 'undefined') {\n",
       "        return WebSocket;\n",
       "    } else if (typeof(MozWebSocket) !== 'undefined') {\n",
       "        return MozWebSocket;\n",
       "    } else {\n",
       "        alert('Your browser does not have WebSocket support. ' +\n",
       "              'Please try Chrome, Safari or Firefox ≥ 6. ' +\n",
       "              'Firefox 4 and 5 are also supported but you ' +\n",
       "              'have to enable WebSockets in about:config.');\n",
       "    };\n",
       "}\n",
       "\n",
       "mpl.figure = function(figure_id, websocket, ondownload, parent_element) {\n",
       "    this.id = figure_id;\n",
       "\n",
       "    this.ws = websocket;\n",
       "\n",
       "    this.supports_binary = (this.ws.binaryType != undefined);\n",
       "\n",
       "    if (!this.supports_binary) {\n",
       "        var warnings = document.getElementById(\"mpl-warnings\");\n",
       "        if (warnings) {\n",
       "            warnings.style.display = 'block';\n",
       "            warnings.textContent = (\n",
       "                \"This browser does not support binary websocket messages. \" +\n",
       "                    \"Performance may be slow.\");\n",
       "        }\n",
       "    }\n",
       "\n",
       "    this.imageObj = new Image();\n",
       "\n",
       "    this.context = undefined;\n",
       "    this.message = undefined;\n",
       "    this.canvas = undefined;\n",
       "    this.rubberband_canvas = undefined;\n",
       "    this.rubberband_context = undefined;\n",
       "    this.format_dropdown = undefined;\n",
       "\n",
       "    this.image_mode = 'full';\n",
       "\n",
       "    this.root = $('<div/>');\n",
       "    this._root_extra_style(this.root)\n",
       "    this.root.attr('style', 'display: inline-block');\n",
       "\n",
       "    $(parent_element).append(this.root);\n",
       "\n",
       "    this._init_header(this);\n",
       "    this._init_canvas(this);\n",
       "    this._init_toolbar(this);\n",
       "\n",
       "    var fig = this;\n",
       "\n",
       "    this.waiting = false;\n",
       "\n",
       "    this.ws.onopen =  function () {\n",
       "            fig.send_message(\"supports_binary\", {value: fig.supports_binary});\n",
       "            fig.send_message(\"send_image_mode\", {});\n",
       "            if (mpl.ratio != 1) {\n",
       "                fig.send_message(\"set_dpi_ratio\", {'dpi_ratio': mpl.ratio});\n",
       "            }\n",
       "            fig.send_message(\"refresh\", {});\n",
       "        }\n",
       "\n",
       "    this.imageObj.onload = function() {\n",
       "            if (fig.image_mode == 'full') {\n",
       "                // Full images could contain transparency (where diff images\n",
       "                // almost always do), so we need to clear the canvas so that\n",
       "                // there is no ghosting.\n",
       "                fig.context.clearRect(0, 0, fig.canvas.width, fig.canvas.height);\n",
       "            }\n",
       "            fig.context.drawImage(fig.imageObj, 0, 0);\n",
       "        };\n",
       "\n",
       "    this.imageObj.onunload = function() {\n",
       "        fig.ws.close();\n",
       "    }\n",
       "\n",
       "    this.ws.onmessage = this._make_on_message_function(this);\n",
       "\n",
       "    this.ondownload = ondownload;\n",
       "}\n",
       "\n",
       "mpl.figure.prototype._init_header = function() {\n",
       "    var titlebar = $(\n",
       "        '<div class=\"ui-dialog-titlebar ui-widget-header ui-corner-all ' +\n",
       "        'ui-helper-clearfix\"/>');\n",
       "    var titletext = $(\n",
       "        '<div class=\"ui-dialog-title\" style=\"width: 100%; ' +\n",
       "        'text-align: center; padding: 3px;\"/>');\n",
       "    titlebar.append(titletext)\n",
       "    this.root.append(titlebar);\n",
       "    this.header = titletext[0];\n",
       "}\n",
       "\n",
       "\n",
       "\n",
       "mpl.figure.prototype._canvas_extra_style = function(canvas_div) {\n",
       "\n",
       "}\n",
       "\n",
       "\n",
       "mpl.figure.prototype._root_extra_style = function(canvas_div) {\n",
       "\n",
       "}\n",
       "\n",
       "mpl.figure.prototype._init_canvas = function() {\n",
       "    var fig = this;\n",
       "\n",
       "    var canvas_div = $('<div/>');\n",
       "\n",
       "    canvas_div.attr('style', 'position: relative; clear: both; outline: 0');\n",
       "\n",
       "    function canvas_keyboard_event(event) {\n",
       "        return fig.key_event(event, event['data']);\n",
       "    }\n",
       "\n",
       "    canvas_div.keydown('key_press', canvas_keyboard_event);\n",
       "    canvas_div.keyup('key_release', canvas_keyboard_event);\n",
       "    this.canvas_div = canvas_div\n",
       "    this._canvas_extra_style(canvas_div)\n",
       "    this.root.append(canvas_div);\n",
       "\n",
       "    var canvas = $('<canvas/>');\n",
       "    canvas.addClass('mpl-canvas');\n",
       "    canvas.attr('style', \"left: 0; top: 0; z-index: 0; outline: 0\")\n",
       "\n",
       "    this.canvas = canvas[0];\n",
       "    this.context = canvas[0].getContext(\"2d\");\n",
       "\n",
       "    var backingStore = this.context.backingStorePixelRatio ||\n",
       "\tthis.context.webkitBackingStorePixelRatio ||\n",
       "\tthis.context.mozBackingStorePixelRatio ||\n",
       "\tthis.context.msBackingStorePixelRatio ||\n",
       "\tthis.context.oBackingStorePixelRatio ||\n",
       "\tthis.context.backingStorePixelRatio || 1;\n",
       "\n",
       "    mpl.ratio = (window.devicePixelRatio || 1) / backingStore;\n",
       "\n",
       "    var rubberband = $('<canvas/>');\n",
       "    rubberband.attr('style', \"position: absolute; left: 0; top: 0; z-index: 1;\")\n",
       "\n",
       "    var pass_mouse_events = true;\n",
       "\n",
       "    canvas_div.resizable({\n",
       "        start: function(event, ui) {\n",
       "            pass_mouse_events = false;\n",
       "        },\n",
       "        resize: function(event, ui) {\n",
       "            fig.request_resize(ui.size.width, ui.size.height);\n",
       "        },\n",
       "        stop: function(event, ui) {\n",
       "            pass_mouse_events = true;\n",
       "            fig.request_resize(ui.size.width, ui.size.height);\n",
       "        },\n",
       "    });\n",
       "\n",
       "    function mouse_event_fn(event) {\n",
       "        if (pass_mouse_events)\n",
       "            return fig.mouse_event(event, event['data']);\n",
       "    }\n",
       "\n",
       "    rubberband.mousedown('button_press', mouse_event_fn);\n",
       "    rubberband.mouseup('button_release', mouse_event_fn);\n",
       "    // Throttle sequential mouse events to 1 every 20ms.\n",
       "    rubberband.mousemove('motion_notify', mouse_event_fn);\n",
       "\n",
       "    rubberband.mouseenter('figure_enter', mouse_event_fn);\n",
       "    rubberband.mouseleave('figure_leave', mouse_event_fn);\n",
       "\n",
       "    canvas_div.on(\"wheel\", function (event) {\n",
       "        event = event.originalEvent;\n",
       "        event['data'] = 'scroll'\n",
       "        if (event.deltaY < 0) {\n",
       "            event.step = 1;\n",
       "        } else {\n",
       "            event.step = -1;\n",
       "        }\n",
       "        mouse_event_fn(event);\n",
       "    });\n",
       "\n",
       "    canvas_div.append(canvas);\n",
       "    canvas_div.append(rubberband);\n",
       "\n",
       "    this.rubberband = rubberband;\n",
       "    this.rubberband_canvas = rubberband[0];\n",
       "    this.rubberband_context = rubberband[0].getContext(\"2d\");\n",
       "    this.rubberband_context.strokeStyle = \"#000000\";\n",
       "\n",
       "    this._resize_canvas = function(width, height) {\n",
       "        // Keep the size of the canvas, canvas container, and rubber band\n",
       "        // canvas in synch.\n",
       "        canvas_div.css('width', width)\n",
       "        canvas_div.css('height', height)\n",
       "\n",
       "        canvas.attr('width', width * mpl.ratio);\n",
       "        canvas.attr('height', height * mpl.ratio);\n",
       "        canvas.attr('style', 'width: ' + width + 'px; height: ' + height + 'px;');\n",
       "\n",
       "        rubberband.attr('width', width);\n",
       "        rubberband.attr('height', height);\n",
       "    }\n",
       "\n",
       "    // Set the figure to an initial 600x600px, this will subsequently be updated\n",
       "    // upon first draw.\n",
       "    this._resize_canvas(600, 600);\n",
       "\n",
       "    // Disable right mouse context menu.\n",
       "    $(this.rubberband_canvas).bind(\"contextmenu\",function(e){\n",
       "        return false;\n",
       "    });\n",
       "\n",
       "    function set_focus () {\n",
       "        canvas.focus();\n",
       "        canvas_div.focus();\n",
       "    }\n",
       "\n",
       "    window.setTimeout(set_focus, 100);\n",
       "}\n",
       "\n",
       "mpl.figure.prototype._init_toolbar = function() {\n",
       "    var fig = this;\n",
       "\n",
       "    var nav_element = $('<div/>');\n",
       "    nav_element.attr('style', 'width: 100%');\n",
       "    this.root.append(nav_element);\n",
       "\n",
       "    // Define a callback function for later on.\n",
       "    function toolbar_event(event) {\n",
       "        return fig.toolbar_button_onclick(event['data']);\n",
       "    }\n",
       "    function toolbar_mouse_event(event) {\n",
       "        return fig.toolbar_button_onmouseover(event['data']);\n",
       "    }\n",
       "\n",
       "    for(var toolbar_ind in mpl.toolbar_items) {\n",
       "        var name = mpl.toolbar_items[toolbar_ind][0];\n",
       "        var tooltip = mpl.toolbar_items[toolbar_ind][1];\n",
       "        var image = mpl.toolbar_items[toolbar_ind][2];\n",
       "        var method_name = mpl.toolbar_items[toolbar_ind][3];\n",
       "\n",
       "        if (!name) {\n",
       "            // put a spacer in here.\n",
       "            continue;\n",
       "        }\n",
       "        var button = $('<button/>');\n",
       "        button.addClass('ui-button ui-widget ui-state-default ui-corner-all ' +\n",
       "                        'ui-button-icon-only');\n",
       "        button.attr('role', 'button');\n",
       "        button.attr('aria-disabled', 'false');\n",
       "        button.click(method_name, toolbar_event);\n",
       "        button.mouseover(tooltip, toolbar_mouse_event);\n",
       "\n",
       "        var icon_img = $('<span/>');\n",
       "        icon_img.addClass('ui-button-icon-primary ui-icon');\n",
       "        icon_img.addClass(image);\n",
       "        icon_img.addClass('ui-corner-all');\n",
       "\n",
       "        var tooltip_span = $('<span/>');\n",
       "        tooltip_span.addClass('ui-button-text');\n",
       "        tooltip_span.html(tooltip);\n",
       "\n",
       "        button.append(icon_img);\n",
       "        button.append(tooltip_span);\n",
       "\n",
       "        nav_element.append(button);\n",
       "    }\n",
       "\n",
       "    var fmt_picker_span = $('<span/>');\n",
       "\n",
       "    var fmt_picker = $('<select/>');\n",
       "    fmt_picker.addClass('mpl-toolbar-option ui-widget ui-widget-content');\n",
       "    fmt_picker_span.append(fmt_picker);\n",
       "    nav_element.append(fmt_picker_span);\n",
       "    this.format_dropdown = fmt_picker[0];\n",
       "\n",
       "    for (var ind in mpl.extensions) {\n",
       "        var fmt = mpl.extensions[ind];\n",
       "        var option = $(\n",
       "            '<option/>', {selected: fmt === mpl.default_extension}).html(fmt);\n",
       "        fmt_picker.append(option);\n",
       "    }\n",
       "\n",
       "    // Add hover states to the ui-buttons\n",
       "    $( \".ui-button\" ).hover(\n",
       "        function() { $(this).addClass(\"ui-state-hover\");},\n",
       "        function() { $(this).removeClass(\"ui-state-hover\");}\n",
       "    );\n",
       "\n",
       "    var status_bar = $('<span class=\"mpl-message\"/>');\n",
       "    nav_element.append(status_bar);\n",
       "    this.message = status_bar[0];\n",
       "}\n",
       "\n",
       "mpl.figure.prototype.request_resize = function(x_pixels, y_pixels) {\n",
       "    // Request matplotlib to resize the figure. Matplotlib will then trigger a resize in the client,\n",
       "    // which will in turn request a refresh of the image.\n",
       "    this.send_message('resize', {'width': x_pixels, 'height': y_pixels});\n",
       "}\n",
       "\n",
       "mpl.figure.prototype.send_message = function(type, properties) {\n",
       "    properties['type'] = type;\n",
       "    properties['figure_id'] = this.id;\n",
       "    this.ws.send(JSON.stringify(properties));\n",
       "}\n",
       "\n",
       "mpl.figure.prototype.send_draw_message = function() {\n",
       "    if (!this.waiting) {\n",
       "        this.waiting = true;\n",
       "        this.ws.send(JSON.stringify({type: \"draw\", figure_id: this.id}));\n",
       "    }\n",
       "}\n",
       "\n",
       "\n",
       "mpl.figure.prototype.handle_save = function(fig, msg) {\n",
       "    var format_dropdown = fig.format_dropdown;\n",
       "    var format = format_dropdown.options[format_dropdown.selectedIndex].value;\n",
       "    fig.ondownload(fig, format);\n",
       "}\n",
       "\n",
       "\n",
       "mpl.figure.prototype.handle_resize = function(fig, msg) {\n",
       "    var size = msg['size'];\n",
       "    if (size[0] != fig.canvas.width || size[1] != fig.canvas.height) {\n",
       "        fig._resize_canvas(size[0], size[1]);\n",
       "        fig.send_message(\"refresh\", {});\n",
       "    };\n",
       "}\n",
       "\n",
       "mpl.figure.prototype.handle_rubberband = function(fig, msg) {\n",
       "    var x0 = msg['x0'] / mpl.ratio;\n",
       "    var y0 = (fig.canvas.height - msg['y0']) / mpl.ratio;\n",
       "    var x1 = msg['x1'] / mpl.ratio;\n",
       "    var y1 = (fig.canvas.height - msg['y1']) / mpl.ratio;\n",
       "    x0 = Math.floor(x0) + 0.5;\n",
       "    y0 = Math.floor(y0) + 0.5;\n",
       "    x1 = Math.floor(x1) + 0.5;\n",
       "    y1 = Math.floor(y1) + 0.5;\n",
       "    var min_x = Math.min(x0, x1);\n",
       "    var min_y = Math.min(y0, y1);\n",
       "    var width = Math.abs(x1 - x0);\n",
       "    var height = Math.abs(y1 - y0);\n",
       "\n",
       "    fig.rubberband_context.clearRect(\n",
       "        0, 0, fig.canvas.width / mpl.ratio, fig.canvas.height / mpl.ratio);\n",
       "\n",
       "    fig.rubberband_context.strokeRect(min_x, min_y, width, height);\n",
       "}\n",
       "\n",
       "mpl.figure.prototype.handle_figure_label = function(fig, msg) {\n",
       "    // Updates the figure title.\n",
       "    fig.header.textContent = msg['label'];\n",
       "}\n",
       "\n",
       "mpl.figure.prototype.handle_cursor = function(fig, msg) {\n",
       "    var cursor = msg['cursor'];\n",
       "    switch(cursor)\n",
       "    {\n",
       "    case 0:\n",
       "        cursor = 'pointer';\n",
       "        break;\n",
       "    case 1:\n",
       "        cursor = 'default';\n",
       "        break;\n",
       "    case 2:\n",
       "        cursor = 'crosshair';\n",
       "        break;\n",
       "    case 3:\n",
       "        cursor = 'move';\n",
       "        break;\n",
       "    }\n",
       "    fig.rubberband_canvas.style.cursor = cursor;\n",
       "}\n",
       "\n",
       "mpl.figure.prototype.handle_message = function(fig, msg) {\n",
       "    fig.message.textContent = msg['message'];\n",
       "}\n",
       "\n",
       "mpl.figure.prototype.handle_draw = function(fig, msg) {\n",
       "    // Request the server to send over a new figure.\n",
       "    fig.send_draw_message();\n",
       "}\n",
       "\n",
       "mpl.figure.prototype.handle_image_mode = function(fig, msg) {\n",
       "    fig.image_mode = msg['mode'];\n",
       "}\n",
       "\n",
       "mpl.figure.prototype.updated_canvas_event = function() {\n",
       "    // Called whenever the canvas gets updated.\n",
       "    this.send_message(\"ack\", {});\n",
       "}\n",
       "\n",
       "// A function to construct a web socket function for onmessage handling.\n",
       "// Called in the figure constructor.\n",
       "mpl.figure.prototype._make_on_message_function = function(fig) {\n",
       "    return function socket_on_message(evt) {\n",
       "        if (evt.data instanceof Blob) {\n",
       "            /* FIXME: We get \"Resource interpreted as Image but\n",
       "             * transferred with MIME type text/plain:\" errors on\n",
       "             * Chrome.  But how to set the MIME type?  It doesn't seem\n",
       "             * to be part of the websocket stream */\n",
       "            evt.data.type = \"image/png\";\n",
       "\n",
       "            /* Free the memory for the previous frames */\n",
       "            if (fig.imageObj.src) {\n",
       "                (window.URL || window.webkitURL).revokeObjectURL(\n",
       "                    fig.imageObj.src);\n",
       "            }\n",
       "\n",
       "            fig.imageObj.src = (window.URL || window.webkitURL).createObjectURL(\n",
       "                evt.data);\n",
       "            fig.updated_canvas_event();\n",
       "            fig.waiting = false;\n",
       "            return;\n",
       "        }\n",
       "        else if (typeof evt.data === 'string' && evt.data.slice(0, 21) == \"data:image/png;base64\") {\n",
       "            fig.imageObj.src = evt.data;\n",
       "            fig.updated_canvas_event();\n",
       "            fig.waiting = false;\n",
       "            return;\n",
       "        }\n",
       "\n",
       "        var msg = JSON.parse(evt.data);\n",
       "        var msg_type = msg['type'];\n",
       "\n",
       "        // Call the  \"handle_{type}\" callback, which takes\n",
       "        // the figure and JSON message as its only arguments.\n",
       "        try {\n",
       "            var callback = fig[\"handle_\" + msg_type];\n",
       "        } catch (e) {\n",
       "            console.log(\"No handler for the '\" + msg_type + \"' message type: \", msg);\n",
       "            return;\n",
       "        }\n",
       "\n",
       "        if (callback) {\n",
       "            try {\n",
       "                // console.log(\"Handling '\" + msg_type + \"' message: \", msg);\n",
       "                callback(fig, msg);\n",
       "            } catch (e) {\n",
       "                console.log(\"Exception inside the 'handler_\" + msg_type + \"' callback:\", e, e.stack, msg);\n",
       "            }\n",
       "        }\n",
       "    };\n",
       "}\n",
       "\n",
       "// from http://stackoverflow.com/questions/1114465/getting-mouse-location-in-canvas\n",
       "mpl.findpos = function(e) {\n",
       "    //this section is from http://www.quirksmode.org/js/events_properties.html\n",
       "    var targ;\n",
       "    if (!e)\n",
       "        e = window.event;\n",
       "    if (e.target)\n",
       "        targ = e.target;\n",
       "    else if (e.srcElement)\n",
       "        targ = e.srcElement;\n",
       "    if (targ.nodeType == 3) // defeat Safari bug\n",
       "        targ = targ.parentNode;\n",
       "\n",
       "    // jQuery normalizes the pageX and pageY\n",
       "    // pageX,Y are the mouse positions relative to the document\n",
       "    // offset() returns the position of the element relative to the document\n",
       "    var x = e.pageX - $(targ).offset().left;\n",
       "    var y = e.pageY - $(targ).offset().top;\n",
       "\n",
       "    return {\"x\": x, \"y\": y};\n",
       "};\n",
       "\n",
       "/*\n",
       " * return a copy of an object with only non-object keys\n",
       " * we need this to avoid circular references\n",
       " * http://stackoverflow.com/a/24161582/3208463\n",
       " */\n",
       "function simpleKeys (original) {\n",
       "  return Object.keys(original).reduce(function (obj, key) {\n",
       "    if (typeof original[key] !== 'object')\n",
       "        obj[key] = original[key]\n",
       "    return obj;\n",
       "  }, {});\n",
       "}\n",
       "\n",
       "mpl.figure.prototype.mouse_event = function(event, name) {\n",
       "    var canvas_pos = mpl.findpos(event)\n",
       "\n",
       "    if (name === 'button_press')\n",
       "    {\n",
       "        this.canvas.focus();\n",
       "        this.canvas_div.focus();\n",
       "    }\n",
       "\n",
       "    var x = canvas_pos.x * mpl.ratio;\n",
       "    var y = canvas_pos.y * mpl.ratio;\n",
       "\n",
       "    this.send_message(name, {x: x, y: y, button: event.button,\n",
       "                             step: event.step,\n",
       "                             guiEvent: simpleKeys(event)});\n",
       "\n",
       "    /* This prevents the web browser from automatically changing to\n",
       "     * the text insertion cursor when the button is pressed.  We want\n",
       "     * to control all of the cursor setting manually through the\n",
       "     * 'cursor' event from matplotlib */\n",
       "    event.preventDefault();\n",
       "    return false;\n",
       "}\n",
       "\n",
       "mpl.figure.prototype._key_event_extra = function(event, name) {\n",
       "    // Handle any extra behaviour associated with a key event\n",
       "}\n",
       "\n",
       "mpl.figure.prototype.key_event = function(event, name) {\n",
       "\n",
       "    // Prevent repeat events\n",
       "    if (name == 'key_press')\n",
       "    {\n",
       "        if (event.which === this._key)\n",
       "            return;\n",
       "        else\n",
       "            this._key = event.which;\n",
       "    }\n",
       "    if (name == 'key_release')\n",
       "        this._key = null;\n",
       "\n",
       "    var value = '';\n",
       "    if (event.ctrlKey && event.which != 17)\n",
       "        value += \"ctrl+\";\n",
       "    if (event.altKey && event.which != 18)\n",
       "        value += \"alt+\";\n",
       "    if (event.shiftKey && event.which != 16)\n",
       "        value += \"shift+\";\n",
       "\n",
       "    value += 'k';\n",
       "    value += event.which.toString();\n",
       "\n",
       "    this._key_event_extra(event, name);\n",
       "\n",
       "    this.send_message(name, {key: value,\n",
       "                             guiEvent: simpleKeys(event)});\n",
       "    return false;\n",
       "}\n",
       "\n",
       "mpl.figure.prototype.toolbar_button_onclick = function(name) {\n",
       "    if (name == 'download') {\n",
       "        this.handle_save(this, null);\n",
       "    } else {\n",
       "        this.send_message(\"toolbar_button\", {name: name});\n",
       "    }\n",
       "};\n",
       "\n",
       "mpl.figure.prototype.toolbar_button_onmouseover = function(tooltip) {\n",
       "    this.message.textContent = tooltip;\n",
       "};\n",
       "mpl.toolbar_items = [[\"Home\", \"Reset original view\", \"fa fa-home icon-home\", \"home\"], [\"Back\", \"Back to previous view\", \"fa fa-arrow-left icon-arrow-left\", \"back\"], [\"Forward\", \"Forward to next view\", \"fa fa-arrow-right icon-arrow-right\", \"forward\"], [\"\", \"\", \"\", \"\"], [\"Pan\", \"Pan axes with left mouse, zoom with right\", \"fa fa-arrows icon-move\", \"pan\"], [\"Zoom\", \"Zoom to rectangle\", \"fa fa-square-o icon-check-empty\", \"zoom\"], [\"\", \"\", \"\", \"\"], [\"Download\", \"Download plot\", \"fa fa-floppy-o icon-save\", \"download\"]];\n",
       "\n",
       "mpl.extensions = [\"eps\", \"jpeg\", \"pdf\", \"png\", \"ps\", \"raw\", \"svg\", \"tif\"];\n",
       "\n",
       "mpl.default_extension = \"png\";var comm_websocket_adapter = function(comm) {\n",
       "    // Create a \"websocket\"-like object which calls the given IPython comm\n",
       "    // object with the appropriate methods. Currently this is a non binary\n",
       "    // socket, so there is still some room for performance tuning.\n",
       "    var ws = {};\n",
       "\n",
       "    ws.close = function() {\n",
       "        comm.close()\n",
       "    };\n",
       "    ws.send = function(m) {\n",
       "        //console.log('sending', m);\n",
       "        comm.send(m);\n",
       "    };\n",
       "    // Register the callback with on_msg.\n",
       "    comm.on_msg(function(msg) {\n",
       "        //console.log('receiving', msg['content']['data'], msg);\n",
       "        // Pass the mpl event to the overridden (by mpl) onmessage function.\n",
       "        ws.onmessage(msg['content']['data'])\n",
       "    });\n",
       "    return ws;\n",
       "}\n",
       "\n",
       "mpl.mpl_figure_comm = function(comm, msg) {\n",
       "    // This is the function which gets called when the mpl process\n",
       "    // starts-up an IPython Comm through the \"matplotlib\" channel.\n",
       "\n",
       "    var id = msg.content.data.id;\n",
       "    // Get hold of the div created by the display call when the Comm\n",
       "    // socket was opened in Python.\n",
       "    var element = $(\"#\" + id);\n",
       "    var ws_proxy = comm_websocket_adapter(comm)\n",
       "\n",
       "    function ondownload(figure, format) {\n",
       "        window.open(figure.imageObj.src);\n",
       "    }\n",
       "\n",
       "    var fig = new mpl.figure(id, ws_proxy,\n",
       "                           ondownload,\n",
       "                           element.get(0));\n",
       "\n",
       "    // Call onopen now - mpl needs it, as it is assuming we've passed it a real\n",
       "    // web socket which is closed, not our websocket->open comm proxy.\n",
       "    ws_proxy.onopen();\n",
       "\n",
       "    fig.parent_element = element.get(0);\n",
       "    fig.cell_info = mpl.find_output_cell(\"<div id='\" + id + \"'></div>\");\n",
       "    if (!fig.cell_info) {\n",
       "        console.error(\"Failed to find cell for figure\", id, fig);\n",
       "        return;\n",
       "    }\n",
       "\n",
       "    var output_index = fig.cell_info[2]\n",
       "    var cell = fig.cell_info[0];\n",
       "\n",
       "};\n",
       "\n",
       "mpl.figure.prototype.handle_close = function(fig, msg) {\n",
       "    var width = fig.canvas.width/mpl.ratio\n",
       "    fig.root.unbind('remove')\n",
       "\n",
       "    // Update the output cell to use the data from the current canvas.\n",
       "    fig.push_to_output();\n",
       "    var dataURL = fig.canvas.toDataURL();\n",
       "    // Re-enable the keyboard manager in IPython - without this line, in FF,\n",
       "    // the notebook keyboard shortcuts fail.\n",
       "    IPython.keyboard_manager.enable()\n",
       "    $(fig.parent_element).html('<img src=\"' + dataURL + '\" width=\"' + width + '\">');\n",
       "    fig.close_ws(fig, msg);\n",
       "}\n",
       "\n",
       "mpl.figure.prototype.close_ws = function(fig, msg){\n",
       "    fig.send_message('closing', msg);\n",
       "    // fig.ws.close()\n",
       "}\n",
       "\n",
       "mpl.figure.prototype.push_to_output = function(remove_interactive) {\n",
       "    // Turn the data on the canvas into data in the output cell.\n",
       "    var width = this.canvas.width/mpl.ratio\n",
       "    var dataURL = this.canvas.toDataURL();\n",
       "    this.cell_info[1]['text/html'] = '<img src=\"' + dataURL + '\" width=\"' + width + '\">';\n",
       "}\n",
       "\n",
       "mpl.figure.prototype.updated_canvas_event = function() {\n",
       "    // Tell IPython that the notebook contents must change.\n",
       "    IPython.notebook.set_dirty(true);\n",
       "    this.send_message(\"ack\", {});\n",
       "    var fig = this;\n",
       "    // Wait a second, then push the new image to the DOM so\n",
       "    // that it is saved nicely (might be nice to debounce this).\n",
       "    setTimeout(function () { fig.push_to_output() }, 1000);\n",
       "}\n",
       "\n",
       "mpl.figure.prototype._init_toolbar = function() {\n",
       "    var fig = this;\n",
       "\n",
       "    var nav_element = $('<div/>');\n",
       "    nav_element.attr('style', 'width: 100%');\n",
       "    this.root.append(nav_element);\n",
       "\n",
       "    // Define a callback function for later on.\n",
       "    function toolbar_event(event) {\n",
       "        return fig.toolbar_button_onclick(event['data']);\n",
       "    }\n",
       "    function toolbar_mouse_event(event) {\n",
       "        return fig.toolbar_button_onmouseover(event['data']);\n",
       "    }\n",
       "\n",
       "    for(var toolbar_ind in mpl.toolbar_items){\n",
       "        var name = mpl.toolbar_items[toolbar_ind][0];\n",
       "        var tooltip = mpl.toolbar_items[toolbar_ind][1];\n",
       "        var image = mpl.toolbar_items[toolbar_ind][2];\n",
       "        var method_name = mpl.toolbar_items[toolbar_ind][3];\n",
       "\n",
       "        if (!name) { continue; };\n",
       "\n",
       "        var button = $('<button class=\"btn btn-default\" href=\"#\" title=\"' + name + '\"><i class=\"fa ' + image + ' fa-lg\"></i></button>');\n",
       "        button.click(method_name, toolbar_event);\n",
       "        button.mouseover(tooltip, toolbar_mouse_event);\n",
       "        nav_element.append(button);\n",
       "    }\n",
       "\n",
       "    // Add the status bar.\n",
       "    var status_bar = $('<span class=\"mpl-message\" style=\"text-align:right; float: right;\"/>');\n",
       "    nav_element.append(status_bar);\n",
       "    this.message = status_bar[0];\n",
       "\n",
       "    // Add the close button to the window.\n",
       "    var buttongrp = $('<div class=\"btn-group inline pull-right\"></div>');\n",
       "    var button = $('<button class=\"btn btn-mini btn-primary\" href=\"#\" title=\"Stop Interaction\"><i class=\"fa fa-power-off icon-remove icon-large\"></i></button>');\n",
       "    button.click(function (evt) { fig.handle_close(fig, {}); } );\n",
       "    button.mouseover('Stop Interaction', toolbar_mouse_event);\n",
       "    buttongrp.append(button);\n",
       "    var titlebar = this.root.find($('.ui-dialog-titlebar'));\n",
       "    titlebar.prepend(buttongrp);\n",
       "}\n",
       "\n",
       "mpl.figure.prototype._root_extra_style = function(el){\n",
       "    var fig = this\n",
       "    el.on(\"remove\", function(){\n",
       "\tfig.close_ws(fig, {});\n",
       "    });\n",
       "}\n",
       "\n",
       "mpl.figure.prototype._canvas_extra_style = function(el){\n",
       "    // this is important to make the div 'focusable\n",
       "    el.attr('tabindex', 0)\n",
       "    // reach out to IPython and tell the keyboard manager to turn it's self\n",
       "    // off when our div gets focus\n",
       "\n",
       "    // location in version 3\n",
       "    if (IPython.notebook.keyboard_manager) {\n",
       "        IPython.notebook.keyboard_manager.register_events(el);\n",
       "    }\n",
       "    else {\n",
       "        // location in version 2\n",
       "        IPython.keyboard_manager.register_events(el);\n",
       "    }\n",
       "\n",
       "}\n",
       "\n",
       "mpl.figure.prototype._key_event_extra = function(event, name) {\n",
       "    var manager = IPython.notebook.keyboard_manager;\n",
       "    if (!manager)\n",
       "        manager = IPython.keyboard_manager;\n",
       "\n",
       "    // Check for shift+enter\n",
       "    if (event.shiftKey && event.which == 13) {\n",
       "        this.canvas_div.blur();\n",
       "        // select the cell after this one\n",
       "        var index = IPython.notebook.find_cell_index(this.cell_info[0]);\n",
       "        IPython.notebook.select(index + 1);\n",
       "    }\n",
       "}\n",
       "\n",
       "mpl.figure.prototype.handle_save = function(fig, msg) {\n",
       "    fig.ondownload(fig, null);\n",
       "}\n",
       "\n",
       "\n",
       "mpl.find_output_cell = function(html_output) {\n",
       "    // Return the cell and output element which can be found *uniquely* in the notebook.\n",
       "    // Note - this is a bit hacky, but it is done because the \"notebook_saving.Notebook\"\n",
       "    // IPython event is triggered only after the cells have been serialised, which for\n",
       "    // our purposes (turning an active figure into a static one), is too late.\n",
       "    var cells = IPython.notebook.get_cells();\n",
       "    var ncells = cells.length;\n",
       "    for (var i=0; i<ncells; i++) {\n",
       "        var cell = cells[i];\n",
       "        if (cell.cell_type === 'code'){\n",
       "            for (var j=0; j<cell.output_area.outputs.length; j++) {\n",
       "                var data = cell.output_area.outputs[j];\n",
       "                if (data.data) {\n",
       "                    // IPython >= 3 moved mimebundle to data attribute of output\n",
       "                    data = data.data;\n",
       "                }\n",
       "                if (data['text/html'] == html_output) {\n",
       "                    return [cell, data, j];\n",
       "                }\n",
       "            }\n",
       "        }\n",
       "    }\n",
       "}\n",
       "\n",
       "// Register the function which deals with the matplotlib target/channel.\n",
       "// The kernel may be null if the page has been refreshed.\n",
       "if (IPython.notebook.kernel != null) {\n",
       "    IPython.notebook.kernel.comm_manager.register_target('matplotlib', mpl.mpl_figure_comm);\n",
       "}\n"
      ],
      "text/plain": [
       "<IPython.core.display.Javascript object>"
      ]
     },
     "metadata": {},
     "output_type": "display_data"
    },
    {
     "data": {
      "text/html": [
       "<img src=\"data:image/png;base64,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\" width=\"999.7333333333333\">"
      ],
      "text/plain": [
       "<IPython.core.display.HTML object>"
      ]
     },
     "metadata": {},
     "output_type": "display_data"
    }
   ],
   "source": [
    "ax, tax, lax, lines = dual_train_plots()\n",
    "fig = ax.figure\n",
    "plt.tight_layout()"
   ]
  },
  {
   "cell_type": "code",
   "execution_count": 20,
   "metadata": {
    "scrolled": false
   },
   "outputs": [
    {
     "name": "stdout",
     "output_type": "stream",
     "text": [
      "Number of batches: train = 10938, val = 12500\n"
     ]
    },
    {
     "data": {
      "application/vnd.jupyter.widget-view+json": {
       "model_id": "afec3daffb6b4461952813d091bb6a2a",
       "version_major": 2,
       "version_minor": 0
      },
      "text/plain": [
       "HBox(children=(FloatProgress(value=0.0, description='Epochs', layout=Layout(flex='2'), max=75.0, style=Progres…"
      ]
     },
     "metadata": {},
     "output_type": "display_data"
    },
    {
     "name": "stdout",
     "output_type": "stream",
     "text": [
      "Number of batches: train = 10938, val = 12500\n"
     ]
    },
    {
     "data": {
      "application/vnd.jupyter.widget-view+json": {
       "model_id": "",
       "version_major": 2,
       "version_minor": 0
      },
      "text/plain": [
       "HBox(children=(FloatProgress(value=0.0, description='Training', layout=Layout(flex='2'), max=10938.0, style=Pr…"
      ]
     },
     "metadata": {},
     "output_type": "display_data"
    },
    {
     "name": "stdout",
     "output_type": "stream",
     "text": [
      "Epoch 0: train=20.4813, val=20.3635, took 165.62 s\n"
     ]
    },
    {
     "data": {
      "application/vnd.jupyter.widget-view+json": {
       "model_id": "",
       "version_major": 2,
       "version_minor": 0
      },
      "text/plain": [
       "HBox(children=(FloatProgress(value=0.0, description='Training', layout=Layout(flex='2'), max=10938.0, style=Pr…"
      ]
     },
     "metadata": {},
     "output_type": "display_data"
    },
    {
     "name": "stdout",
     "output_type": "stream",
     "text": [
      "Epoch 1: train=20.0458, val=19.5733, took 165.9 s\n"
     ]
    },
    {
     "data": {
      "application/vnd.jupyter.widget-view+json": {
       "model_id": "",
       "version_major": 2,
       "version_minor": 0
      },
      "text/plain": [
       "HBox(children=(FloatProgress(value=0.0, description='Training', layout=Layout(flex='2'), max=10938.0, style=Pr…"
      ]
     },
     "metadata": {},
     "output_type": "display_data"
    },
    {
     "name": "stdout",
     "output_type": "stream",
     "text": [
      "Epoch 2: train=18.8644, val=18.1772, took 162.8 s\n"
     ]
    },
    {
     "data": {
      "application/vnd.jupyter.widget-view+json": {
       "model_id": "",
       "version_major": 2,
       "version_minor": 0
      },
      "text/plain": [
       "HBox(children=(FloatProgress(value=0.0, description='Training', layout=Layout(flex='2'), max=10938.0, style=Pr…"
      ]
     },
     "metadata": {},
     "output_type": "display_data"
    },
    {
     "name": "stdout",
     "output_type": "stream",
     "text": [
      "Epoch 3: train=17.5561, val=16.9703, took 160.57 s\n"
     ]
    },
    {
     "data": {
      "application/vnd.jupyter.widget-view+json": {
       "model_id": "",
       "version_major": 2,
       "version_minor": 0
      },
      "text/plain": [
       "HBox(children=(FloatProgress(value=0.0, description='Training', layout=Layout(flex='2'), max=10938.0, style=Pr…"
      ]
     },
     "metadata": {},
     "output_type": "display_data"
    },
    {
     "name": "stdout",
     "output_type": "stream",
     "text": [
      "Epoch 4: train=16.4642, val=16.0051, took 159.94 s\n"
     ]
    },
    {
     "data": {
      "application/vnd.jupyter.widget-view+json": {
       "model_id": "",
       "version_major": 2,
       "version_minor": 0
      },
      "text/plain": [
       "HBox(children=(FloatProgress(value=0.0, description='Training', layout=Layout(flex='2'), max=10938.0, style=Pr…"
      ]
     },
     "metadata": {},
     "output_type": "display_data"
    },
    {
     "name": "stdout",
     "output_type": "stream",
     "text": [
      "Epoch 5: train=15.6065, val=15.2442, took 161.24 s\n"
     ]
    },
    {
     "data": {
      "application/vnd.jupyter.widget-view+json": {
       "model_id": "",
       "version_major": 2,
       "version_minor": 0
      },
      "text/plain": [
       "HBox(children=(FloatProgress(value=0.0, description='Training', layout=Layout(flex='2'), max=10938.0, style=Pr…"
      ]
     },
     "metadata": {},
     "output_type": "display_data"
    },
    {
     "name": "stdout",
     "output_type": "stream",
     "text": [
      "Epoch 6: train=14.9254, val=14.6397, took 162.99 s\n"
     ]
    },
    {
     "data": {
      "application/vnd.jupyter.widget-view+json": {
       "model_id": "",
       "version_major": 2,
       "version_minor": 0
      },
      "text/plain": [
       "HBox(children=(FloatProgress(value=0.0, description='Training', layout=Layout(flex='2'), max=10938.0, style=Pr…"
      ]
     },
     "metadata": {},
     "output_type": "display_data"
    },
    {
     "name": "stdout",
     "output_type": "stream",
     "text": [
      "Epoch 7: train=14.3912, val=14.1719, took 161.06 s\n"
     ]
    },
    {
     "data": {
      "application/vnd.jupyter.widget-view+json": {
       "model_id": "",
       "version_major": 2,
       "version_minor": 0
      },
      "text/plain": [
       "HBox(children=(FloatProgress(value=0.0, description='Training', layout=Layout(flex='2'), max=10938.0, style=Pr…"
      ]
     },
     "metadata": {},
     "output_type": "display_data"
    },
    {
     "name": "stdout",
     "output_type": "stream",
     "text": [
      "Epoch 8: train=13.9793, val=13.8108, took 163.35 s\n"
     ]
    },
    {
     "data": {
      "application/vnd.jupyter.widget-view+json": {
       "model_id": "",
       "version_major": 2,
       "version_minor": 0
      },
      "text/plain": [
       "HBox(children=(FloatProgress(value=0.0, description='Training', layout=Layout(flex='2'), max=10938.0, style=Pr…"
      ]
     },
     "metadata": {},
     "output_type": "display_data"
    },
    {
     "name": "stdout",
     "output_type": "stream",
     "text": [
      "Epoch 9: train=13.657, val=13.5309, took 158.24 s\n"
     ]
    },
    {
     "data": {
      "application/vnd.jupyter.widget-view+json": {
       "model_id": "",
       "version_major": 2,
       "version_minor": 0
      },
      "text/plain": [
       "HBox(children=(FloatProgress(value=0.0, description='Training', layout=Layout(flex='2'), max=10938.0, style=Pr…"
      ]
     },
     "metadata": {},
     "output_type": "display_data"
    },
    {
     "name": "stdout",
     "output_type": "stream",
     "text": [
      "Epoch 10: train=13.4668, val=13.447, took 162.34 s\n"
     ]
    },
    {
     "data": {
      "application/vnd.jupyter.widget-view+json": {
       "model_id": "",
       "version_major": 2,
       "version_minor": 0
      },
      "text/plain": [
       "HBox(children=(FloatProgress(value=0.0, description='Training', layout=Layout(flex='2'), max=10938.0, style=Pr…"
      ]
     },
     "metadata": {},
     "output_type": "display_data"
    },
    {
     "name": "stdout",
     "output_type": "stream",
     "text": [
      "Epoch 11: train=13.4386, val=13.4422, took 158.87 s\n"
     ]
    },
    {
     "data": {
      "application/vnd.jupyter.widget-view+json": {
       "model_id": "",
       "version_major": 2,
       "version_minor": 0
      },
      "text/plain": [
       "HBox(children=(FloatProgress(value=0.0, description='Training', layout=Layout(flex='2'), max=10938.0, style=Pr…"
      ]
     },
     "metadata": {},
     "output_type": "display_data"
    },
    {
     "name": "stdout",
     "output_type": "stream",
     "text": [
      "Epoch 12: train=13.4351, val=13.4386, took 163.61 s\n"
     ]
    },
    {
     "data": {
      "application/vnd.jupyter.widget-view+json": {
       "model_id": "",
       "version_major": 2,
       "version_minor": 0
      },
      "text/plain": [
       "HBox(children=(FloatProgress(value=0.0, description='Training', layout=Layout(flex='2'), max=10938.0, style=Pr…"
      ]
     },
     "metadata": {},
     "output_type": "display_data"
    },
    {
     "name": "stdout",
     "output_type": "stream",
     "text": [
      "Epoch 13: train=13.431, val=13.4341, took 158.47 s\n"
     ]
    },
    {
     "data": {
      "application/vnd.jupyter.widget-view+json": {
       "model_id": "",
       "version_major": 2,
       "version_minor": 0
      },
      "text/plain": [
       "HBox(children=(FloatProgress(value=0.0, description='Training', layout=Layout(flex='2'), max=10938.0, style=Pr…"
      ]
     },
     "metadata": {},
     "output_type": "display_data"
    },
    {
     "name": "stdout",
     "output_type": "stream",
     "text": [
      "Epoch 14: train=13.4265, val=13.4297, took 163.94 s\n"
     ]
    },
    {
     "data": {
      "application/vnd.jupyter.widget-view+json": {
       "model_id": "",
       "version_major": 2,
       "version_minor": 0
      },
      "text/plain": [
       "HBox(children=(FloatProgress(value=0.0, description='Training', layout=Layout(flex='2'), max=10938.0, style=Pr…"
      ]
     },
     "metadata": {},
     "output_type": "display_data"
    },
    {
     "name": "stdout",
     "output_type": "stream",
     "text": [
      "Epoch 15: train=13.4224, val=13.4257, took 160.34 s\n"
     ]
    },
    {
     "data": {
      "application/vnd.jupyter.widget-view+json": {
       "model_id": "",
       "version_major": 2,
       "version_minor": 0
      },
      "text/plain": [
       "HBox(children=(FloatProgress(value=0.0, description='Training', layout=Layout(flex='2'), max=10938.0, style=Pr…"
      ]
     },
     "metadata": {},
     "output_type": "display_data"
    },
    {
     "name": "stdout",
     "output_type": "stream",
     "text": [
      "Epoch 16: train=13.4185, val=13.4219, took 159.05 s\n"
     ]
    },
    {
     "data": {
      "application/vnd.jupyter.widget-view+json": {
       "model_id": "",
       "version_major": 2,
       "version_minor": 0
      },
      "text/plain": [
       "HBox(children=(FloatProgress(value=0.0, description='Training', layout=Layout(flex='2'), max=10938.0, style=Pr…"
      ]
     },
     "metadata": {},
     "output_type": "display_data"
    },
    {
     "name": "stdout",
     "output_type": "stream",
     "text": [
      "Epoch 17: train=13.4149, val=13.4186, took 160.09 s\n"
     ]
    },
    {
     "data": {
      "application/vnd.jupyter.widget-view+json": {
       "model_id": "",
       "version_major": 2,
       "version_minor": 0
      },
      "text/plain": [
       "HBox(children=(FloatProgress(value=0.0, description='Training', layout=Layout(flex='2'), max=10938.0, style=Pr…"
      ]
     },
     "metadata": {},
     "output_type": "display_data"
    },
    {
     "name": "stdout",
     "output_type": "stream",
     "text": [
      "Epoch 18: train=13.412, val=13.416, took 161.64 s\n"
     ]
    },
    {
     "data": {
      "application/vnd.jupyter.widget-view+json": {
       "model_id": "",
       "version_major": 2,
       "version_minor": 0
      },
      "text/plain": [
       "HBox(children=(FloatProgress(value=0.0, description='Training', layout=Layout(flex='2'), max=10938.0, style=Pr…"
      ]
     },
     "metadata": {},
     "output_type": "display_data"
    },
    {
     "name": "stdout",
     "output_type": "stream",
     "text": [
      "Epoch 19: train=13.4097, val=13.4141, took 161.14 s\n"
     ]
    },
    {
     "data": {
      "application/vnd.jupyter.widget-view+json": {
       "model_id": "",
       "version_major": 2,
       "version_minor": 0
      },
      "text/plain": [
       "HBox(children=(FloatProgress(value=0.0, description='Training', layout=Layout(flex='2'), max=10938.0, style=Pr…"
      ]
     },
     "metadata": {},
     "output_type": "display_data"
    },
    {
     "name": "stdout",
     "output_type": "stream",
     "text": [
      "Epoch 20: train=13.4081, val=13.4126, took 163.41 s\n"
     ]
    },
    {
     "data": {
      "application/vnd.jupyter.widget-view+json": {
       "model_id": "",
       "version_major": 2,
       "version_minor": 0
      },
      "text/plain": [
       "HBox(children=(FloatProgress(value=0.0, description='Training', layout=Layout(flex='2'), max=10938.0, style=Pr…"
      ]
     },
     "metadata": {},
     "output_type": "display_data"
    },
    {
     "name": "stdout",
     "output_type": "stream",
     "text": [
      "Epoch 21: train=13.4068, val=13.4115, took 162.49 s\n"
     ]
    },
    {
     "data": {
      "application/vnd.jupyter.widget-view+json": {
       "model_id": "",
       "version_major": 2,
       "version_minor": 0
      },
      "text/plain": [
       "HBox(children=(FloatProgress(value=0.0, description='Training', layout=Layout(flex='2'), max=10938.0, style=Pr…"
      ]
     },
     "metadata": {},
     "output_type": "display_data"
    },
    {
     "name": "stdout",
     "output_type": "stream",
     "text": [
      "Epoch 22: train=13.4059, val=13.4107, took 163.28 s\n"
     ]
    },
    {
     "data": {
      "application/vnd.jupyter.widget-view+json": {
       "model_id": "",
       "version_major": 2,
       "version_minor": 0
      },
      "text/plain": [
       "HBox(children=(FloatProgress(value=0.0, description='Training', layout=Layout(flex='2'), max=10938.0, style=Pr…"
      ]
     },
     "metadata": {},
     "output_type": "display_data"
    },
    {
     "name": "stdout",
     "output_type": "stream",
     "text": [
      "Epoch 23: train=13.4051, val=13.41, took 161.26 s\n"
     ]
    },
    {
     "data": {
      "application/vnd.jupyter.widget-view+json": {
       "model_id": "",
       "version_major": 2,
       "version_minor": 0
      },
      "text/plain": [
       "HBox(children=(FloatProgress(value=0.0, description='Training', layout=Layout(flex='2'), max=10938.0, style=Pr…"
      ]
     },
     "metadata": {},
     "output_type": "display_data"
    },
    {
     "name": "stdout",
     "output_type": "stream",
     "text": [
      "Epoch 24: train=13.4046, val=13.4095, took 163.5 s\n"
     ]
    },
    {
     "data": {
      "application/vnd.jupyter.widget-view+json": {
       "model_id": "",
       "version_major": 2,
       "version_minor": 0
      },
      "text/plain": [
       "HBox(children=(FloatProgress(value=0.0, description='Training', layout=Layout(flex='2'), max=10938.0, style=Pr…"
      ]
     },
     "metadata": {},
     "output_type": "display_data"
    },
    {
     "name": "stdout",
     "output_type": "stream",
     "text": [
      "Epoch 25: train=13.4041, val=13.4092, took 159.5 s\n"
     ]
    },
    {
     "data": {
      "application/vnd.jupyter.widget-view+json": {
       "model_id": "",
       "version_major": 2,
       "version_minor": 0
      },
      "text/plain": [
       "HBox(children=(FloatProgress(value=0.0, description='Training', layout=Layout(flex='2'), max=10938.0, style=Pr…"
      ]
     },
     "metadata": {},
     "output_type": "display_data"
    },
    {
     "name": "stdout",
     "output_type": "stream",
     "text": [
      "Epoch 26: train=13.4038, val=13.4089, took 160.35 s\n"
     ]
    },
    {
     "data": {
      "application/vnd.jupyter.widget-view+json": {
       "model_id": "",
       "version_major": 2,
       "version_minor": 0
      },
      "text/plain": [
       "HBox(children=(FloatProgress(value=0.0, description='Training', layout=Layout(flex='2'), max=10938.0, style=Pr…"
      ]
     },
     "metadata": {},
     "output_type": "display_data"
    },
    {
     "name": "stdout",
     "output_type": "stream",
     "text": [
      "Epoch 27: train=13.4035, val=13.4086, took 160.44 s\n"
     ]
    },
    {
     "data": {
      "application/vnd.jupyter.widget-view+json": {
       "model_id": "",
       "version_major": 2,
       "version_minor": 0
      },
      "text/plain": [
       "HBox(children=(FloatProgress(value=0.0, description='Training', layout=Layout(flex='2'), max=10938.0, style=Pr…"
      ]
     },
     "metadata": {},
     "output_type": "display_data"
    },
    {
     "name": "stdout",
     "output_type": "stream",
     "text": [
      "Epoch 28: train=13.4033, val=13.4085, took 159.93 s\n"
     ]
    },
    {
     "data": {
      "application/vnd.jupyter.widget-view+json": {
       "model_id": "",
       "version_major": 2,
       "version_minor": 0
      },
      "text/plain": [
       "HBox(children=(FloatProgress(value=0.0, description='Training', layout=Layout(flex='2'), max=10938.0, style=Pr…"
      ]
     },
     "metadata": {},
     "output_type": "display_data"
    },
    {
     "name": "stdout",
     "output_type": "stream",
     "text": [
      "Epoch 29: train=13.4032, val=13.4084, took 162.36 s\n"
     ]
    },
    {
     "data": {
      "application/vnd.jupyter.widget-view+json": {
       "model_id": "",
       "version_major": 2,
       "version_minor": 0
      },
      "text/plain": [
       "HBox(children=(FloatProgress(value=0.0, description='Training', layout=Layout(flex='2'), max=10938.0, style=Pr…"
      ]
     },
     "metadata": {},
     "output_type": "display_data"
    },
    {
     "name": "stdout",
     "output_type": "stream",
     "text": [
      "Epoch 30: train=13.4031, val=13.4083, took 161.65 s\n"
     ]
    },
    {
     "data": {
      "application/vnd.jupyter.widget-view+json": {
       "model_id": "",
       "version_major": 2,
       "version_minor": 0
      },
      "text/plain": [
       "HBox(children=(FloatProgress(value=0.0, description='Training', layout=Layout(flex='2'), max=10938.0, style=Pr…"
      ]
     },
     "metadata": {},
     "output_type": "display_data"
    },
    {
     "name": "stdout",
     "output_type": "stream",
     "text": [
      "Epoch 31: train=13.403, val=13.4082, took 159.67 s\n"
     ]
    },
    {
     "data": {
      "application/vnd.jupyter.widget-view+json": {
       "model_id": "",
       "version_major": 2,
       "version_minor": 0
      },
      "text/plain": [
       "HBox(children=(FloatProgress(value=0.0, description='Training', layout=Layout(flex='2'), max=10938.0, style=Pr…"
      ]
     },
     "metadata": {},
     "output_type": "display_data"
    },
    {
     "name": "stdout",
     "output_type": "stream",
     "text": [
      "Epoch 32: train=13.403, val=13.4081, took 162.31 s\n"
     ]
    },
    {
     "data": {
      "application/vnd.jupyter.widget-view+json": {
       "model_id": "",
       "version_major": 2,
       "version_minor": 0
      },
      "text/plain": [
       "HBox(children=(FloatProgress(value=0.0, description='Training', layout=Layout(flex='2'), max=10938.0, style=Pr…"
      ]
     },
     "metadata": {},
     "output_type": "display_data"
    },
    {
     "name": "stdout",
     "output_type": "stream",
     "text": [
      "Epoch 33: train=13.4029, val=13.4081, took 162.08 s\n"
     ]
    },
    {
     "data": {
      "application/vnd.jupyter.widget-view+json": {
       "model_id": "",
       "version_major": 2,
       "version_minor": 0
      },
      "text/plain": [
       "HBox(children=(FloatProgress(value=0.0, description='Training', layout=Layout(flex='2'), max=10938.0, style=Pr…"
      ]
     },
     "metadata": {},
     "output_type": "display_data"
    },
    {
     "name": "stdout",
     "output_type": "stream",
     "text": [
      "Epoch 34: train=13.4028, val=13.408, took 162.72 s\n"
     ]
    },
    {
     "data": {
      "application/vnd.jupyter.widget-view+json": {
       "model_id": "",
       "version_major": 2,
       "version_minor": 0
      },
      "text/plain": [
       "HBox(children=(FloatProgress(value=0.0, description='Training', layout=Layout(flex='2'), max=10938.0, style=Pr…"
      ]
     },
     "metadata": {},
     "output_type": "display_data"
    },
    {
     "name": "stdout",
     "output_type": "stream",
     "text": [
      "Epoch 35: train=13.4027, val=13.4079, took 163.36 s\n"
     ]
    },
    {
     "data": {
      "application/vnd.jupyter.widget-view+json": {
       "model_id": "",
       "version_major": 2,
       "version_minor": 0
      },
      "text/plain": [
       "HBox(children=(FloatProgress(value=0.0, description='Training', layout=Layout(flex='2'), max=10938.0, style=Pr…"
      ]
     },
     "metadata": {},
     "output_type": "display_data"
    },
    {
     "name": "stdout",
     "output_type": "stream",
     "text": [
      "Epoch 36: train=13.4027, val=13.4078, took 160.9 s\n"
     ]
    },
    {
     "data": {
      "application/vnd.jupyter.widget-view+json": {
       "model_id": "",
       "version_major": 2,
       "version_minor": 0
      },
      "text/plain": [
       "HBox(children=(FloatProgress(value=0.0, description='Training', layout=Layout(flex='2'), max=10938.0, style=Pr…"
      ]
     },
     "metadata": {},
     "output_type": "display_data"
    },
    {
     "name": "stdout",
     "output_type": "stream",
     "text": [
      "Epoch 37: train=13.4026, val=13.4078, took 164.24 s\n"
     ]
    },
    {
     "data": {
      "application/vnd.jupyter.widget-view+json": {
       "model_id": "",
       "version_major": 2,
       "version_minor": 0
      },
      "text/plain": [
       "HBox(children=(FloatProgress(value=0.0, description='Training', layout=Layout(flex='2'), max=10938.0, style=Pr…"
      ]
     },
     "metadata": {},
     "output_type": "display_data"
    },
    {
     "name": "stdout",
     "output_type": "stream",
     "text": [
      "Epoch 38: train=13.4026, val=13.4077, took 160.67 s\n"
     ]
    },
    {
     "data": {
      "application/vnd.jupyter.widget-view+json": {
       "model_id": "",
       "version_major": 2,
       "version_minor": 0
      },
      "text/plain": [
       "HBox(children=(FloatProgress(value=0.0, description='Training', layout=Layout(flex='2'), max=10938.0, style=Pr…"
      ]
     },
     "metadata": {},
     "output_type": "display_data"
    },
    {
     "name": "stdout",
     "output_type": "stream",
     "text": [
      "Epoch 39: train=13.4025, val=13.4077, took 162.85 s\n"
     ]
    },
    {
     "data": {
      "application/vnd.jupyter.widget-view+json": {
       "model_id": "",
       "version_major": 2,
       "version_minor": 0
      },
      "text/plain": [
       "HBox(children=(FloatProgress(value=0.0, description='Training', layout=Layout(flex='2'), max=10938.0, style=Pr…"
      ]
     },
     "metadata": {},
     "output_type": "display_data"
    },
    {
     "name": "stdout",
     "output_type": "stream",
     "text": [
      "Epoch 40: train=13.4025, val=13.4077, took 159.46 s\n"
     ]
    },
    {
     "data": {
      "application/vnd.jupyter.widget-view+json": {
       "model_id": "",
       "version_major": 2,
       "version_minor": 0
      },
      "text/plain": [
       "HBox(children=(FloatProgress(value=0.0, description='Training', layout=Layout(flex='2'), max=10938.0, style=Pr…"
      ]
     },
     "metadata": {},
     "output_type": "display_data"
    },
    {
     "name": "stdout",
     "output_type": "stream",
     "text": [
      "Epoch 41: train=13.4025, val=13.4077, took 161.78 s\n"
     ]
    },
    {
     "data": {
      "application/vnd.jupyter.widget-view+json": {
       "model_id": "",
       "version_major": 2,
       "version_minor": 0
      },
      "text/plain": [
       "HBox(children=(FloatProgress(value=0.0, description='Training', layout=Layout(flex='2'), max=10938.0, style=Pr…"
      ]
     },
     "metadata": {},
     "output_type": "display_data"
    },
    {
     "name": "stdout",
     "output_type": "stream",
     "text": [
      "Epoch 42: train=13.4025, val=13.4076, took 160.55 s\n"
     ]
    },
    {
     "data": {
      "application/vnd.jupyter.widget-view+json": {
       "model_id": "",
       "version_major": 2,
       "version_minor": 0
      },
      "text/plain": [
       "HBox(children=(FloatProgress(value=0.0, description='Training', layout=Layout(flex='2'), max=10938.0, style=Pr…"
      ]
     },
     "metadata": {},
     "output_type": "display_data"
    },
    {
     "name": "stdout",
     "output_type": "stream",
     "text": [
      "Epoch 43: train=13.4024, val=13.4076, took 162.19 s\n"
     ]
    },
    {
     "data": {
      "application/vnd.jupyter.widget-view+json": {
       "model_id": "",
       "version_major": 2,
       "version_minor": 0
      },
      "text/plain": [
       "HBox(children=(FloatProgress(value=0.0, description='Training', layout=Layout(flex='2'), max=10938.0, style=Pr…"
      ]
     },
     "metadata": {},
     "output_type": "display_data"
    },
    {
     "name": "stdout",
     "output_type": "stream",
     "text": [
      "Epoch 44: train=13.4024, val=13.4076, took 159.74 s\n"
     ]
    },
    {
     "data": {
      "application/vnd.jupyter.widget-view+json": {
       "model_id": "",
       "version_major": 2,
       "version_minor": 0
      },
      "text/plain": [
       "HBox(children=(FloatProgress(value=0.0, description='Training', layout=Layout(flex='2'), max=10938.0, style=Pr…"
      ]
     },
     "metadata": {},
     "output_type": "display_data"
    },
    {
     "name": "stdout",
     "output_type": "stream",
     "text": [
      "Epoch 45: train=13.4024, val=13.4076, took 164.17 s\n"
     ]
    },
    {
     "data": {
      "application/vnd.jupyter.widget-view+json": {
       "model_id": "",
       "version_major": 2,
       "version_minor": 0
      },
      "text/plain": [
       "HBox(children=(FloatProgress(value=0.0, description='Training', layout=Layout(flex='2'), max=10938.0, style=Pr…"
      ]
     },
     "metadata": {},
     "output_type": "display_data"
    },
    {
     "name": "stdout",
     "output_type": "stream",
     "text": [
      "Epoch 46: train=13.4024, val=13.4076, took 162.96 s\n"
     ]
    },
    {
     "data": {
      "application/vnd.jupyter.widget-view+json": {
       "model_id": "",
       "version_major": 2,
       "version_minor": 0
      },
      "text/plain": [
       "HBox(children=(FloatProgress(value=0.0, description='Training', layout=Layout(flex='2'), max=10938.0, style=Pr…"
      ]
     },
     "metadata": {},
     "output_type": "display_data"
    },
    {
     "name": "stdout",
     "output_type": "stream",
     "text": [
      "Epoch 47: train=13.4024, val=13.4076, took 162.0 s\n"
     ]
    },
    {
     "data": {
      "application/vnd.jupyter.widget-view+json": {
       "model_id": "",
       "version_major": 2,
       "version_minor": 0
      },
      "text/plain": [
       "HBox(children=(FloatProgress(value=0.0, description='Training', layout=Layout(flex='2'), max=10938.0, style=Pr…"
      ]
     },
     "metadata": {},
     "output_type": "display_data"
    },
    {
     "name": "stdout",
     "output_type": "stream",
     "text": [
      "Epoch 48: train=13.4024, val=13.4076, took 158.84 s\n"
     ]
    },
    {
     "data": {
      "application/vnd.jupyter.widget-view+json": {
       "model_id": "",
       "version_major": 2,
       "version_minor": 0
      },
      "text/plain": [
       "HBox(children=(FloatProgress(value=0.0, description='Training', layout=Layout(flex='2'), max=10938.0, style=Pr…"
      ]
     },
     "metadata": {},
     "output_type": "display_data"
    },
    {
     "name": "stdout",
     "output_type": "stream",
     "text": [
      "Epoch 49: train=13.4024, val=13.4076, took 162.56 s\n"
     ]
    },
    {
     "data": {
      "application/vnd.jupyter.widget-view+json": {
       "model_id": "",
       "version_major": 2,
       "version_minor": 0
      },
      "text/plain": [
       "HBox(children=(FloatProgress(value=0.0, description='Training', layout=Layout(flex='2'), max=10938.0, style=Pr…"
      ]
     },
     "metadata": {},
     "output_type": "display_data"
    },
    {
     "name": "stdout",
     "output_type": "stream",
     "text": [
      "Epoch 50: train=13.4024, val=13.4076, took 160.89 s\n"
     ]
    },
    {
     "data": {
      "application/vnd.jupyter.widget-view+json": {
       "model_id": "",
       "version_major": 2,
       "version_minor": 0
      },
      "text/plain": [
       "HBox(children=(FloatProgress(value=0.0, description='Training', layout=Layout(flex='2'), max=10938.0, style=Pr…"
      ]
     },
     "metadata": {},
     "output_type": "display_data"
    },
    {
     "name": "stdout",
     "output_type": "stream",
     "text": [
      "Epoch 51: train=13.4024, val=13.4076, took 165.09 s\n"
     ]
    },
    {
     "data": {
      "application/vnd.jupyter.widget-view+json": {
       "model_id": "",
       "version_major": 2,
       "version_minor": 0
      },
      "text/plain": [
       "HBox(children=(FloatProgress(value=0.0, description='Training', layout=Layout(flex='2'), max=10938.0, style=Pr…"
      ]
     },
     "metadata": {},
     "output_type": "display_data"
    },
    {
     "name": "stdout",
     "output_type": "stream",
     "text": [
      "Epoch 52: train=13.4024, val=13.4076, took 161.52 s\n"
     ]
    },
    {
     "data": {
      "application/vnd.jupyter.widget-view+json": {
       "model_id": "",
       "version_major": 2,
       "version_minor": 0
      },
      "text/plain": [
       "HBox(children=(FloatProgress(value=0.0, description='Training', layout=Layout(flex='2'), max=10938.0, style=Pr…"
      ]
     },
     "metadata": {},
     "output_type": "display_data"
    },
    {
     "name": "stdout",
     "output_type": "stream",
     "text": [
      "Epoch 53: train=13.4024, val=13.4076, took 161.15 s\n"
     ]
    },
    {
     "data": {
      "application/vnd.jupyter.widget-view+json": {
       "model_id": "",
       "version_major": 2,
       "version_minor": 0
      },
      "text/plain": [
       "HBox(children=(FloatProgress(value=0.0, description='Training', layout=Layout(flex='2'), max=10938.0, style=Pr…"
      ]
     },
     "metadata": {},
     "output_type": "display_data"
    },
    {
     "name": "stdout",
     "output_type": "stream",
     "text": [
      "Epoch 54: train=13.4024, val=13.4076, took 159.47 s\n"
     ]
    },
    {
     "data": {
      "application/vnd.jupyter.widget-view+json": {
       "model_id": "",
       "version_major": 2,
       "version_minor": 0
      },
      "text/plain": [
       "HBox(children=(FloatProgress(value=0.0, description='Training', layout=Layout(flex='2'), max=10938.0, style=Pr…"
      ]
     },
     "metadata": {},
     "output_type": "display_data"
    },
    {
     "name": "stdout",
     "output_type": "stream",
     "text": [
      "Epoch 55: train=13.4024, val=13.4076, took 162.57 s\n"
     ]
    },
    {
     "data": {
      "application/vnd.jupyter.widget-view+json": {
       "model_id": "",
       "version_major": 2,
       "version_minor": 0
      },
      "text/plain": [
       "HBox(children=(FloatProgress(value=0.0, description='Training', layout=Layout(flex='2'), max=10938.0, style=Pr…"
      ]
     },
     "metadata": {},
     "output_type": "display_data"
    },
    {
     "name": "stdout",
     "output_type": "stream",
     "text": [
      "Epoch 56: train=13.4024, val=13.4076, took 161.58 s\n"
     ]
    },
    {
     "data": {
      "application/vnd.jupyter.widget-view+json": {
       "model_id": "",
       "version_major": 2,
       "version_minor": 0
      },
      "text/plain": [
       "HBox(children=(FloatProgress(value=0.0, description='Training', layout=Layout(flex='2'), max=10938.0, style=Pr…"
      ]
     },
     "metadata": {},
     "output_type": "display_data"
    },
    {
     "name": "stdout",
     "output_type": "stream",
     "text": [
      "Epoch 57: train=13.4024, val=13.4076, took 164.07 s\n"
     ]
    },
    {
     "data": {
      "application/vnd.jupyter.widget-view+json": {
       "model_id": "",
       "version_major": 2,
       "version_minor": 0
      },
      "text/plain": [
       "HBox(children=(FloatProgress(value=0.0, description='Training', layout=Layout(flex='2'), max=10938.0, style=Pr…"
      ]
     },
     "metadata": {},
     "output_type": "display_data"
    },
    {
     "name": "stdout",
     "output_type": "stream",
     "text": [
      "Epoch 58: train=13.4024, val=13.4076, took 158.85 s\n"
     ]
    },
    {
     "data": {
      "application/vnd.jupyter.widget-view+json": {
       "model_id": "",
       "version_major": 2,
       "version_minor": 0
      },
      "text/plain": [
       "HBox(children=(FloatProgress(value=0.0, description='Training', layout=Layout(flex='2'), max=10938.0, style=Pr…"
      ]
     },
     "metadata": {},
     "output_type": "display_data"
    },
    {
     "name": "stdout",
     "output_type": "stream",
     "text": [
      "Epoch 59: train=13.4024, val=13.4076, took 163.41 s\n"
     ]
    },
    {
     "data": {
      "application/vnd.jupyter.widget-view+json": {
       "model_id": "",
       "version_major": 2,
       "version_minor": 0
      },
      "text/plain": [
       "HBox(children=(FloatProgress(value=0.0, description='Training', layout=Layout(flex='2'), max=10938.0, style=Pr…"
      ]
     },
     "metadata": {},
     "output_type": "display_data"
    },
    {
     "name": "stdout",
     "output_type": "stream",
     "text": [
      "Epoch 60: train=13.4024, val=13.4076, took 162.27 s\n"
     ]
    },
    {
     "data": {
      "application/vnd.jupyter.widget-view+json": {
       "model_id": "",
       "version_major": 2,
       "version_minor": 0
      },
      "text/plain": [
       "HBox(children=(FloatProgress(value=0.0, description='Training', layout=Layout(flex='2'), max=10938.0, style=Pr…"
      ]
     },
     "metadata": {},
     "output_type": "display_data"
    },
    {
     "name": "stdout",
     "output_type": "stream",
     "text": [
      "Epoch 61: train=13.4024, val=13.4076, took 164.68 s\n"
     ]
    },
    {
     "data": {
      "application/vnd.jupyter.widget-view+json": {
       "model_id": "",
       "version_major": 2,
       "version_minor": 0
      },
      "text/plain": [
       "HBox(children=(FloatProgress(value=0.0, description='Training', layout=Layout(flex='2'), max=10938.0, style=Pr…"
      ]
     },
     "metadata": {},
     "output_type": "display_data"
    },
    {
     "name": "stdout",
     "output_type": "stream",
     "text": [
      "Epoch 62: train=13.4024, val=13.4076, took 160.94 s\n"
     ]
    },
    {
     "data": {
      "application/vnd.jupyter.widget-view+json": {
       "model_id": "",
       "version_major": 2,
       "version_minor": 0
      },
      "text/plain": [
       "HBox(children=(FloatProgress(value=0.0, description='Training', layout=Layout(flex='2'), max=10938.0, style=Pr…"
      ]
     },
     "metadata": {},
     "output_type": "display_data"
    },
    {
     "name": "stdout",
     "output_type": "stream",
     "text": [
      "Epoch 63: train=13.4024, val=13.4076, took 162.73 s\n"
     ]
    },
    {
     "data": {
      "application/vnd.jupyter.widget-view+json": {
       "model_id": "",
       "version_major": 2,
       "version_minor": 0
      },
      "text/plain": [
       "HBox(children=(FloatProgress(value=0.0, description='Training', layout=Layout(flex='2'), max=10938.0, style=Pr…"
      ]
     },
     "metadata": {},
     "output_type": "display_data"
    },
    {
     "name": "stdout",
     "output_type": "stream",
     "text": [
      "Epoch 64: train=13.4024, val=13.4076, took 161.87 s\n"
     ]
    },
    {
     "data": {
      "application/vnd.jupyter.widget-view+json": {
       "model_id": "",
       "version_major": 2,
       "version_minor": 0
      },
      "text/plain": [
       "HBox(children=(FloatProgress(value=0.0, description='Training', layout=Layout(flex='2'), max=10938.0, style=Pr…"
      ]
     },
     "metadata": {},
     "output_type": "display_data"
    },
    {
     "name": "stdout",
     "output_type": "stream",
     "text": [
      "Epoch 65: train=13.4024, val=13.4076, took 162.13 s\n"
     ]
    },
    {
     "data": {
      "application/vnd.jupyter.widget-view+json": {
       "model_id": "",
       "version_major": 2,
       "version_minor": 0
      },
      "text/plain": [
       "HBox(children=(FloatProgress(value=0.0, description='Training', layout=Layout(flex='2'), max=10938.0, style=Pr…"
      ]
     },
     "metadata": {},
     "output_type": "display_data"
    },
    {
     "name": "stdout",
     "output_type": "stream",
     "text": [
      "Epoch 66: train=13.4024, val=13.4076, took 160.69 s\n"
     ]
    },
    {
     "data": {
      "application/vnd.jupyter.widget-view+json": {
       "model_id": "",
       "version_major": 2,
       "version_minor": 0
      },
      "text/plain": [
       "HBox(children=(FloatProgress(value=0.0, description='Training', layout=Layout(flex='2'), max=10938.0, style=Pr…"
      ]
     },
     "metadata": {},
     "output_type": "display_data"
    },
    {
     "name": "stdout",
     "output_type": "stream",
     "text": [
      "Epoch 67: train=13.4024, val=13.4076, took 163.94 s\n"
     ]
    },
    {
     "data": {
      "application/vnd.jupyter.widget-view+json": {
       "model_id": "",
       "version_major": 2,
       "version_minor": 0
      },
      "text/plain": [
       "HBox(children=(FloatProgress(value=0.0, description='Training', layout=Layout(flex='2'), max=10938.0, style=Pr…"
      ]
     },
     "metadata": {},
     "output_type": "display_data"
    },
    {
     "name": "stdout",
     "output_type": "stream",
     "text": [
      "Epoch 68: train=13.4024, val=13.4076, took 161.64 s\n"
     ]
    },
    {
     "data": {
      "application/vnd.jupyter.widget-view+json": {
       "model_id": "",
       "version_major": 2,
       "version_minor": 0
      },
      "text/plain": [
       "HBox(children=(FloatProgress(value=0.0, description='Training', layout=Layout(flex='2'), max=10938.0, style=Pr…"
      ]
     },
     "metadata": {},
     "output_type": "display_data"
    },
    {
     "name": "stdout",
     "output_type": "stream",
     "text": [
      "Epoch 69: train=13.4024, val=13.4076, took 164.24 s\n"
     ]
    },
    {
     "data": {
      "application/vnd.jupyter.widget-view+json": {
       "model_id": "",
       "version_major": 2,
       "version_minor": 0
      },
      "text/plain": [
       "HBox(children=(FloatProgress(value=0.0, description='Training', layout=Layout(flex='2'), max=10938.0, style=Pr…"
      ]
     },
     "metadata": {},
     "output_type": "display_data"
    },
    {
     "name": "stdout",
     "output_type": "stream",
     "text": [
      "Epoch 70: train=13.4024, val=13.4076, took 162.12 s\n"
     ]
    },
    {
     "data": {
      "application/vnd.jupyter.widget-view+json": {
       "model_id": "",
       "version_major": 2,
       "version_minor": 0
      },
      "text/plain": [
       "HBox(children=(FloatProgress(value=0.0, description='Training', layout=Layout(flex='2'), max=10938.0, style=Pr…"
      ]
     },
     "metadata": {},
     "output_type": "display_data"
    },
    {
     "name": "stdout",
     "output_type": "stream",
     "text": [
      "Epoch 71: train=13.4024, val=13.4076, took 165.01 s\n"
     ]
    },
    {
     "data": {
      "application/vnd.jupyter.widget-view+json": {
       "model_id": "",
       "version_major": 2,
       "version_minor": 0
      },
      "text/plain": [
       "HBox(children=(FloatProgress(value=0.0, description='Training', layout=Layout(flex='2'), max=10938.0, style=Pr…"
      ]
     },
     "metadata": {},
     "output_type": "display_data"
    },
    {
     "name": "stdout",
     "output_type": "stream",
     "text": [
      "Epoch 72: train=13.4024, val=13.4076, took 160.71 s\n"
     ]
    },
    {
     "data": {
      "application/vnd.jupyter.widget-view+json": {
       "model_id": "",
       "version_major": 2,
       "version_minor": 0
      },
      "text/plain": [
       "HBox(children=(FloatProgress(value=0.0, description='Training', layout=Layout(flex='2'), max=10938.0, style=Pr…"
      ]
     },
     "metadata": {},
     "output_type": "display_data"
    },
    {
     "name": "stdout",
     "output_type": "stream",
     "text": [
      "Epoch 73: train=13.4024, val=13.4076, took 161.21 s\n"
     ]
    },
    {
     "data": {
      "application/vnd.jupyter.widget-view+json": {
       "model_id": "",
       "version_major": 2,
       "version_minor": 0
      },
      "text/plain": [
       "HBox(children=(FloatProgress(value=0.0, description='Training', layout=Layout(flex='2'), max=10938.0, style=Pr…"
      ]
     },
     "metadata": {},
     "output_type": "display_data"
    },
    {
     "name": "stdout",
     "output_type": "stream",
     "text": [
      "Epoch 74: train=13.4024, val=13.4076, took 160.57 s\n",
      "\n"
     ]
    }
   ],
   "source": [
    "for result in trainNet(model, optimizer, loss,\n",
    "                        train_loader, val_loader,\n",
    "                        n_epochs, epoch_start=len(results),\n",
    "                        notebook=True):\n",
    "    \n",
    "    results = results.append(pd.Series(result._asdict()), ignore_index=True)\n",
    "    xs = results.index\n",
    "    \n",
    "    # Update the plot above\n",
    "    lines['train'].set_data(results.index,results.cost)\n",
    "    lines['val'].set_data(results.index,results.val)\n",
    "    \n",
    "    #filter first cost epoch (can be really large)\n",
    "    max_cost = max(max(results.cost if len(results.cost)<2 else results.cost[1:]), max(results.val))\n",
    "    min_cost = min(min(results.cost), min(results.val))\n",
    "    \n",
    "    # The plot limits need updating too\n",
    "    \n",
    "    \n",
    "    \n",
    "    ax.set_ylim(min_cost*.9, max_cost*1.1)  \n",
    "    ax.set_xlim(-.5, len(results.cost) - .5)\n",
    "\n",
    "    \n",
    "    # Redraw the figure\n",
    "    fig.canvas.draw()\n",
    "\n",
    "    # Save each model state dictionary\n",
    "    torch.save(model.state_dict(), output / f'{name}_{result.epoch}.pyt')"
   ]
  },
  {
   "cell_type": "markdown",
   "metadata": {},
   "source": [
    "Go ahead and save the final model (even though it was also saved above):"
   ]
  },
  {
   "cell_type": "code",
   "execution_count": 22,
   "metadata": {},
   "outputs": [],
   "source": [
    "torch.save(model.state_dict(), output / f'{name}_final.pyt')"
   ]
  },
  {
   "cell_type": "markdown",
   "metadata": {},
   "source": [
    "Save the output results:"
   ]
  },
  {
   "cell_type": "code",
   "execution_count": 23,
   "metadata": {},
   "outputs": [],
   "source": [
    "results.to_hdf(f'{name}_stats.hdf5', 'results')"
   ]
  },
  {
   "cell_type": "markdown",
   "metadata": {},
   "source": [
    "Save the plot above:"
   ]
  },
  {
   "cell_type": "code",
   "execution_count": 24,
   "metadata": {
    "scrolled": false
   },
   "outputs": [
    {
     "data": {
      "application/javascript": [
       "/* Put everything inside the global mpl namespace */\n",
       "window.mpl = {};\n",
       "\n",
       "\n",
       "mpl.get_websocket_type = function() {\n",
       "    if (typeof(WebSocket) !== 'undefined') {\n",
       "        return WebSocket;\n",
       "    } else if (typeof(MozWebSocket) !== 'undefined') {\n",
       "        return MozWebSocket;\n",
       "    } else {\n",
       "        alert('Your browser does not have WebSocket support. ' +\n",
       "              'Please try Chrome, Safari or Firefox ≥ 6. ' +\n",
       "              'Firefox 4 and 5 are also supported but you ' +\n",
       "              'have to enable WebSockets in about:config.');\n",
       "    };\n",
       "}\n",
       "\n",
       "mpl.figure = function(figure_id, websocket, ondownload, parent_element) {\n",
       "    this.id = figure_id;\n",
       "\n",
       "    this.ws = websocket;\n",
       "\n",
       "    this.supports_binary = (this.ws.binaryType != undefined);\n",
       "\n",
       "    if (!this.supports_binary) {\n",
       "        var warnings = document.getElementById(\"mpl-warnings\");\n",
       "        if (warnings) {\n",
       "            warnings.style.display = 'block';\n",
       "            warnings.textContent = (\n",
       "                \"This browser does not support binary websocket messages. \" +\n",
       "                    \"Performance may be slow.\");\n",
       "        }\n",
       "    }\n",
       "\n",
       "    this.imageObj = new Image();\n",
       "\n",
       "    this.context = undefined;\n",
       "    this.message = undefined;\n",
       "    this.canvas = undefined;\n",
       "    this.rubberband_canvas = undefined;\n",
       "    this.rubberband_context = undefined;\n",
       "    this.format_dropdown = undefined;\n",
       "\n",
       "    this.image_mode = 'full';\n",
       "\n",
       "    this.root = $('<div/>');\n",
       "    this._root_extra_style(this.root)\n",
       "    this.root.attr('style', 'display: inline-block');\n",
       "\n",
       "    $(parent_element).append(this.root);\n",
       "\n",
       "    this._init_header(this);\n",
       "    this._init_canvas(this);\n",
       "    this._init_toolbar(this);\n",
       "\n",
       "    var fig = this;\n",
       "\n",
       "    this.waiting = false;\n",
       "\n",
       "    this.ws.onopen =  function () {\n",
       "            fig.send_message(\"supports_binary\", {value: fig.supports_binary});\n",
       "            fig.send_message(\"send_image_mode\", {});\n",
       "            if (mpl.ratio != 1) {\n",
       "                fig.send_message(\"set_dpi_ratio\", {'dpi_ratio': mpl.ratio});\n",
       "            }\n",
       "            fig.send_message(\"refresh\", {});\n",
       "        }\n",
       "\n",
       "    this.imageObj.onload = function() {\n",
       "            if (fig.image_mode == 'full') {\n",
       "                // Full images could contain transparency (where diff images\n",
       "                // almost always do), so we need to clear the canvas so that\n",
       "                // there is no ghosting.\n",
       "                fig.context.clearRect(0, 0, fig.canvas.width, fig.canvas.height);\n",
       "            }\n",
       "            fig.context.drawImage(fig.imageObj, 0, 0);\n",
       "        };\n",
       "\n",
       "    this.imageObj.onunload = function() {\n",
       "        fig.ws.close();\n",
       "    }\n",
       "\n",
       "    this.ws.onmessage = this._make_on_message_function(this);\n",
       "\n",
       "    this.ondownload = ondownload;\n",
       "}\n",
       "\n",
       "mpl.figure.prototype._init_header = function() {\n",
       "    var titlebar = $(\n",
       "        '<div class=\"ui-dialog-titlebar ui-widget-header ui-corner-all ' +\n",
       "        'ui-helper-clearfix\"/>');\n",
       "    var titletext = $(\n",
       "        '<div class=\"ui-dialog-title\" style=\"width: 100%; ' +\n",
       "        'text-align: center; padding: 3px;\"/>');\n",
       "    titlebar.append(titletext)\n",
       "    this.root.append(titlebar);\n",
       "    this.header = titletext[0];\n",
       "}\n",
       "\n",
       "\n",
       "\n",
       "mpl.figure.prototype._canvas_extra_style = function(canvas_div) {\n",
       "\n",
       "}\n",
       "\n",
       "\n",
       "mpl.figure.prototype._root_extra_style = function(canvas_div) {\n",
       "\n",
       "}\n",
       "\n",
       "mpl.figure.prototype._init_canvas = function() {\n",
       "    var fig = this;\n",
       "\n",
       "    var canvas_div = $('<div/>');\n",
       "\n",
       "    canvas_div.attr('style', 'position: relative; clear: both; outline: 0');\n",
       "\n",
       "    function canvas_keyboard_event(event) {\n",
       "        return fig.key_event(event, event['data']);\n",
       "    }\n",
       "\n",
       "    canvas_div.keydown('key_press', canvas_keyboard_event);\n",
       "    canvas_div.keyup('key_release', canvas_keyboard_event);\n",
       "    this.canvas_div = canvas_div\n",
       "    this._canvas_extra_style(canvas_div)\n",
       "    this.root.append(canvas_div);\n",
       "\n",
       "    var canvas = $('<canvas/>');\n",
       "    canvas.addClass('mpl-canvas');\n",
       "    canvas.attr('style', \"left: 0; top: 0; z-index: 0; outline: 0\")\n",
       "\n",
       "    this.canvas = canvas[0];\n",
       "    this.context = canvas[0].getContext(\"2d\");\n",
       "\n",
       "    var backingStore = this.context.backingStorePixelRatio ||\n",
       "\tthis.context.webkitBackingStorePixelRatio ||\n",
       "\tthis.context.mozBackingStorePixelRatio ||\n",
       "\tthis.context.msBackingStorePixelRatio ||\n",
       "\tthis.context.oBackingStorePixelRatio ||\n",
       "\tthis.context.backingStorePixelRatio || 1;\n",
       "\n",
       "    mpl.ratio = (window.devicePixelRatio || 1) / backingStore;\n",
       "\n",
       "    var rubberband = $('<canvas/>');\n",
       "    rubberband.attr('style', \"position: absolute; left: 0; top: 0; z-index: 1;\")\n",
       "\n",
       "    var pass_mouse_events = true;\n",
       "\n",
       "    canvas_div.resizable({\n",
       "        start: function(event, ui) {\n",
       "            pass_mouse_events = false;\n",
       "        },\n",
       "        resize: function(event, ui) {\n",
       "            fig.request_resize(ui.size.width, ui.size.height);\n",
       "        },\n",
       "        stop: function(event, ui) {\n",
       "            pass_mouse_events = true;\n",
       "            fig.request_resize(ui.size.width, ui.size.height);\n",
       "        },\n",
       "    });\n",
       "\n",
       "    function mouse_event_fn(event) {\n",
       "        if (pass_mouse_events)\n",
       "            return fig.mouse_event(event, event['data']);\n",
       "    }\n",
       "\n",
       "    rubberband.mousedown('button_press', mouse_event_fn);\n",
       "    rubberband.mouseup('button_release', mouse_event_fn);\n",
       "    // Throttle sequential mouse events to 1 every 20ms.\n",
       "    rubberband.mousemove('motion_notify', mouse_event_fn);\n",
       "\n",
       "    rubberband.mouseenter('figure_enter', mouse_event_fn);\n",
       "    rubberband.mouseleave('figure_leave', mouse_event_fn);\n",
       "\n",
       "    canvas_div.on(\"wheel\", function (event) {\n",
       "        event = event.originalEvent;\n",
       "        event['data'] = 'scroll'\n",
       "        if (event.deltaY < 0) {\n",
       "            event.step = 1;\n",
       "        } else {\n",
       "            event.step = -1;\n",
       "        }\n",
       "        mouse_event_fn(event);\n",
       "    });\n",
       "\n",
       "    canvas_div.append(canvas);\n",
       "    canvas_div.append(rubberband);\n",
       "\n",
       "    this.rubberband = rubberband;\n",
       "    this.rubberband_canvas = rubberband[0];\n",
       "    this.rubberband_context = rubberband[0].getContext(\"2d\");\n",
       "    this.rubberband_context.strokeStyle = \"#000000\";\n",
       "\n",
       "    this._resize_canvas = function(width, height) {\n",
       "        // Keep the size of the canvas, canvas container, and rubber band\n",
       "        // canvas in synch.\n",
       "        canvas_div.css('width', width)\n",
       "        canvas_div.css('height', height)\n",
       "\n",
       "        canvas.attr('width', width * mpl.ratio);\n",
       "        canvas.attr('height', height * mpl.ratio);\n",
       "        canvas.attr('style', 'width: ' + width + 'px; height: ' + height + 'px;');\n",
       "\n",
       "        rubberband.attr('width', width);\n",
       "        rubberband.attr('height', height);\n",
       "    }\n",
       "\n",
       "    // Set the figure to an initial 600x600px, this will subsequently be updated\n",
       "    // upon first draw.\n",
       "    this._resize_canvas(600, 600);\n",
       "\n",
       "    // Disable right mouse context menu.\n",
       "    $(this.rubberband_canvas).bind(\"contextmenu\",function(e){\n",
       "        return false;\n",
       "    });\n",
       "\n",
       "    function set_focus () {\n",
       "        canvas.focus();\n",
       "        canvas_div.focus();\n",
       "    }\n",
       "\n",
       "    window.setTimeout(set_focus, 100);\n",
       "}\n",
       "\n",
       "mpl.figure.prototype._init_toolbar = function() {\n",
       "    var fig = this;\n",
       "\n",
       "    var nav_element = $('<div/>');\n",
       "    nav_element.attr('style', 'width: 100%');\n",
       "    this.root.append(nav_element);\n",
       "\n",
       "    // Define a callback function for later on.\n",
       "    function toolbar_event(event) {\n",
       "        return fig.toolbar_button_onclick(event['data']);\n",
       "    }\n",
       "    function toolbar_mouse_event(event) {\n",
       "        return fig.toolbar_button_onmouseover(event['data']);\n",
       "    }\n",
       "\n",
       "    for(var toolbar_ind in mpl.toolbar_items) {\n",
       "        var name = mpl.toolbar_items[toolbar_ind][0];\n",
       "        var tooltip = mpl.toolbar_items[toolbar_ind][1];\n",
       "        var image = mpl.toolbar_items[toolbar_ind][2];\n",
       "        var method_name = mpl.toolbar_items[toolbar_ind][3];\n",
       "\n",
       "        if (!name) {\n",
       "            // put a spacer in here.\n",
       "            continue;\n",
       "        }\n",
       "        var button = $('<button/>');\n",
       "        button.addClass('ui-button ui-widget ui-state-default ui-corner-all ' +\n",
       "                        'ui-button-icon-only');\n",
       "        button.attr('role', 'button');\n",
       "        button.attr('aria-disabled', 'false');\n",
       "        button.click(method_name, toolbar_event);\n",
       "        button.mouseover(tooltip, toolbar_mouse_event);\n",
       "\n",
       "        var icon_img = $('<span/>');\n",
       "        icon_img.addClass('ui-button-icon-primary ui-icon');\n",
       "        icon_img.addClass(image);\n",
       "        icon_img.addClass('ui-corner-all');\n",
       "\n",
       "        var tooltip_span = $('<span/>');\n",
       "        tooltip_span.addClass('ui-button-text');\n",
       "        tooltip_span.html(tooltip);\n",
       "\n",
       "        button.append(icon_img);\n",
       "        button.append(tooltip_span);\n",
       "\n",
       "        nav_element.append(button);\n",
       "    }\n",
       "\n",
       "    var fmt_picker_span = $('<span/>');\n",
       "\n",
       "    var fmt_picker = $('<select/>');\n",
       "    fmt_picker.addClass('mpl-toolbar-option ui-widget ui-widget-content');\n",
       "    fmt_picker_span.append(fmt_picker);\n",
       "    nav_element.append(fmt_picker_span);\n",
       "    this.format_dropdown = fmt_picker[0];\n",
       "\n",
       "    for (var ind in mpl.extensions) {\n",
       "        var fmt = mpl.extensions[ind];\n",
       "        var option = $(\n",
       "            '<option/>', {selected: fmt === mpl.default_extension}).html(fmt);\n",
       "        fmt_picker.append(option);\n",
       "    }\n",
       "\n",
       "    // Add hover states to the ui-buttons\n",
       "    $( \".ui-button\" ).hover(\n",
       "        function() { $(this).addClass(\"ui-state-hover\");},\n",
       "        function() { $(this).removeClass(\"ui-state-hover\");}\n",
       "    );\n",
       "\n",
       "    var status_bar = $('<span class=\"mpl-message\"/>');\n",
       "    nav_element.append(status_bar);\n",
       "    this.message = status_bar[0];\n",
       "}\n",
       "\n",
       "mpl.figure.prototype.request_resize = function(x_pixels, y_pixels) {\n",
       "    // Request matplotlib to resize the figure. Matplotlib will then trigger a resize in the client,\n",
       "    // which will in turn request a refresh of the image.\n",
       "    this.send_message('resize', {'width': x_pixels, 'height': y_pixels});\n",
       "}\n",
       "\n",
       "mpl.figure.prototype.send_message = function(type, properties) {\n",
       "    properties['type'] = type;\n",
       "    properties['figure_id'] = this.id;\n",
       "    this.ws.send(JSON.stringify(properties));\n",
       "}\n",
       "\n",
       "mpl.figure.prototype.send_draw_message = function() {\n",
       "    if (!this.waiting) {\n",
       "        this.waiting = true;\n",
       "        this.ws.send(JSON.stringify({type: \"draw\", figure_id: this.id}));\n",
       "    }\n",
       "}\n",
       "\n",
       "\n",
       "mpl.figure.prototype.handle_save = function(fig, msg) {\n",
       "    var format_dropdown = fig.format_dropdown;\n",
       "    var format = format_dropdown.options[format_dropdown.selectedIndex].value;\n",
       "    fig.ondownload(fig, format);\n",
       "}\n",
       "\n",
       "\n",
       "mpl.figure.prototype.handle_resize = function(fig, msg) {\n",
       "    var size = msg['size'];\n",
       "    if (size[0] != fig.canvas.width || size[1] != fig.canvas.height) {\n",
       "        fig._resize_canvas(size[0], size[1]);\n",
       "        fig.send_message(\"refresh\", {});\n",
       "    };\n",
       "}\n",
       "\n",
       "mpl.figure.prototype.handle_rubberband = function(fig, msg) {\n",
       "    var x0 = msg['x0'] / mpl.ratio;\n",
       "    var y0 = (fig.canvas.height - msg['y0']) / mpl.ratio;\n",
       "    var x1 = msg['x1'] / mpl.ratio;\n",
       "    var y1 = (fig.canvas.height - msg['y1']) / mpl.ratio;\n",
       "    x0 = Math.floor(x0) + 0.5;\n",
       "    y0 = Math.floor(y0) + 0.5;\n",
       "    x1 = Math.floor(x1) + 0.5;\n",
       "    y1 = Math.floor(y1) + 0.5;\n",
       "    var min_x = Math.min(x0, x1);\n",
       "    var min_y = Math.min(y0, y1);\n",
       "    var width = Math.abs(x1 - x0);\n",
       "    var height = Math.abs(y1 - y0);\n",
       "\n",
       "    fig.rubberband_context.clearRect(\n",
       "        0, 0, fig.canvas.width / mpl.ratio, fig.canvas.height / mpl.ratio);\n",
       "\n",
       "    fig.rubberband_context.strokeRect(min_x, min_y, width, height);\n",
       "}\n",
       "\n",
       "mpl.figure.prototype.handle_figure_label = function(fig, msg) {\n",
       "    // Updates the figure title.\n",
       "    fig.header.textContent = msg['label'];\n",
       "}\n",
       "\n",
       "mpl.figure.prototype.handle_cursor = function(fig, msg) {\n",
       "    var cursor = msg['cursor'];\n",
       "    switch(cursor)\n",
       "    {\n",
       "    case 0:\n",
       "        cursor = 'pointer';\n",
       "        break;\n",
       "    case 1:\n",
       "        cursor = 'default';\n",
       "        break;\n",
       "    case 2:\n",
       "        cursor = 'crosshair';\n",
       "        break;\n",
       "    case 3:\n",
       "        cursor = 'move';\n",
       "        break;\n",
       "    }\n",
       "    fig.rubberband_canvas.style.cursor = cursor;\n",
       "}\n",
       "\n",
       "mpl.figure.prototype.handle_message = function(fig, msg) {\n",
       "    fig.message.textContent = msg['message'];\n",
       "}\n",
       "\n",
       "mpl.figure.prototype.handle_draw = function(fig, msg) {\n",
       "    // Request the server to send over a new figure.\n",
       "    fig.send_draw_message();\n",
       "}\n",
       "\n",
       "mpl.figure.prototype.handle_image_mode = function(fig, msg) {\n",
       "    fig.image_mode = msg['mode'];\n",
       "}\n",
       "\n",
       "mpl.figure.prototype.updated_canvas_event = function() {\n",
       "    // Called whenever the canvas gets updated.\n",
       "    this.send_message(\"ack\", {});\n",
       "}\n",
       "\n",
       "// A function to construct a web socket function for onmessage handling.\n",
       "// Called in the figure constructor.\n",
       "mpl.figure.prototype._make_on_message_function = function(fig) {\n",
       "    return function socket_on_message(evt) {\n",
       "        if (evt.data instanceof Blob) {\n",
       "            /* FIXME: We get \"Resource interpreted as Image but\n",
       "             * transferred with MIME type text/plain:\" errors on\n",
       "             * Chrome.  But how to set the MIME type?  It doesn't seem\n",
       "             * to be part of the websocket stream */\n",
       "            evt.data.type = \"image/png\";\n",
       "\n",
       "            /* Free the memory for the previous frames */\n",
       "            if (fig.imageObj.src) {\n",
       "                (window.URL || window.webkitURL).revokeObjectURL(\n",
       "                    fig.imageObj.src);\n",
       "            }\n",
       "\n",
       "            fig.imageObj.src = (window.URL || window.webkitURL).createObjectURL(\n",
       "                evt.data);\n",
       "            fig.updated_canvas_event();\n",
       "            fig.waiting = false;\n",
       "            return;\n",
       "        }\n",
       "        else if (typeof evt.data === 'string' && evt.data.slice(0, 21) == \"data:image/png;base64\") {\n",
       "            fig.imageObj.src = evt.data;\n",
       "            fig.updated_canvas_event();\n",
       "            fig.waiting = false;\n",
       "            return;\n",
       "        }\n",
       "\n",
       "        var msg = JSON.parse(evt.data);\n",
       "        var msg_type = msg['type'];\n",
       "\n",
       "        // Call the  \"handle_{type}\" callback, which takes\n",
       "        // the figure and JSON message as its only arguments.\n",
       "        try {\n",
       "            var callback = fig[\"handle_\" + msg_type];\n",
       "        } catch (e) {\n",
       "            console.log(\"No handler for the '\" + msg_type + \"' message type: \", msg);\n",
       "            return;\n",
       "        }\n",
       "\n",
       "        if (callback) {\n",
       "            try {\n",
       "                // console.log(\"Handling '\" + msg_type + \"' message: \", msg);\n",
       "                callback(fig, msg);\n",
       "            } catch (e) {\n",
       "                console.log(\"Exception inside the 'handler_\" + msg_type + \"' callback:\", e, e.stack, msg);\n",
       "            }\n",
       "        }\n",
       "    };\n",
       "}\n",
       "\n",
       "// from http://stackoverflow.com/questions/1114465/getting-mouse-location-in-canvas\n",
       "mpl.findpos = function(e) {\n",
       "    //this section is from http://www.quirksmode.org/js/events_properties.html\n",
       "    var targ;\n",
       "    if (!e)\n",
       "        e = window.event;\n",
       "    if (e.target)\n",
       "        targ = e.target;\n",
       "    else if (e.srcElement)\n",
       "        targ = e.srcElement;\n",
       "    if (targ.nodeType == 3) // defeat Safari bug\n",
       "        targ = targ.parentNode;\n",
       "\n",
       "    // jQuery normalizes the pageX and pageY\n",
       "    // pageX,Y are the mouse positions relative to the document\n",
       "    // offset() returns the position of the element relative to the document\n",
       "    var x = e.pageX - $(targ).offset().left;\n",
       "    var y = e.pageY - $(targ).offset().top;\n",
       "\n",
       "    return {\"x\": x, \"y\": y};\n",
       "};\n",
       "\n",
       "/*\n",
       " * return a copy of an object with only non-object keys\n",
       " * we need this to avoid circular references\n",
       " * http://stackoverflow.com/a/24161582/3208463\n",
       " */\n",
       "function simpleKeys (original) {\n",
       "  return Object.keys(original).reduce(function (obj, key) {\n",
       "    if (typeof original[key] !== 'object')\n",
       "        obj[key] = original[key]\n",
       "    return obj;\n",
       "  }, {});\n",
       "}\n",
       "\n",
       "mpl.figure.prototype.mouse_event = function(event, name) {\n",
       "    var canvas_pos = mpl.findpos(event)\n",
       "\n",
       "    if (name === 'button_press')\n",
       "    {\n",
       "        this.canvas.focus();\n",
       "        this.canvas_div.focus();\n",
       "    }\n",
       "\n",
       "    var x = canvas_pos.x * mpl.ratio;\n",
       "    var y = canvas_pos.y * mpl.ratio;\n",
       "\n",
       "    this.send_message(name, {x: x, y: y, button: event.button,\n",
       "                             step: event.step,\n",
       "                             guiEvent: simpleKeys(event)});\n",
       "\n",
       "    /* This prevents the web browser from automatically changing to\n",
       "     * the text insertion cursor when the button is pressed.  We want\n",
       "     * to control all of the cursor setting manually through the\n",
       "     * 'cursor' event from matplotlib */\n",
       "    event.preventDefault();\n",
       "    return false;\n",
       "}\n",
       "\n",
       "mpl.figure.prototype._key_event_extra = function(event, name) {\n",
       "    // Handle any extra behaviour associated with a key event\n",
       "}\n",
       "\n",
       "mpl.figure.prototype.key_event = function(event, name) {\n",
       "\n",
       "    // Prevent repeat events\n",
       "    if (name == 'key_press')\n",
       "    {\n",
       "        if (event.which === this._key)\n",
       "            return;\n",
       "        else\n",
       "            this._key = event.which;\n",
       "    }\n",
       "    if (name == 'key_release')\n",
       "        this._key = null;\n",
       "\n",
       "    var value = '';\n",
       "    if (event.ctrlKey && event.which != 17)\n",
       "        value += \"ctrl+\";\n",
       "    if (event.altKey && event.which != 18)\n",
       "        value += \"alt+\";\n",
       "    if (event.shiftKey && event.which != 16)\n",
       "        value += \"shift+\";\n",
       "\n",
       "    value += 'k';\n",
       "    value += event.which.toString();\n",
       "\n",
       "    this._key_event_extra(event, name);\n",
       "\n",
       "    this.send_message(name, {key: value,\n",
       "                             guiEvent: simpleKeys(event)});\n",
       "    return false;\n",
       "}\n",
       "\n",
       "mpl.figure.prototype.toolbar_button_onclick = function(name) {\n",
       "    if (name == 'download') {\n",
       "        this.handle_save(this, null);\n",
       "    } else {\n",
       "        this.send_message(\"toolbar_button\", {name: name});\n",
       "    }\n",
       "};\n",
       "\n",
       "mpl.figure.prototype.toolbar_button_onmouseover = function(tooltip) {\n",
       "    this.message.textContent = tooltip;\n",
       "};\n",
       "mpl.toolbar_items = [[\"Home\", \"Reset original view\", \"fa fa-home icon-home\", \"home\"], [\"Back\", \"Back to previous view\", \"fa fa-arrow-left icon-arrow-left\", \"back\"], [\"Forward\", \"Forward to next view\", \"fa fa-arrow-right icon-arrow-right\", \"forward\"], [\"\", \"\", \"\", \"\"], [\"Pan\", \"Pan axes with left mouse, zoom with right\", \"fa fa-arrows icon-move\", \"pan\"], [\"Zoom\", \"Zoom to rectangle\", \"fa fa-square-o icon-check-empty\", \"zoom\"], [\"\", \"\", \"\", \"\"], [\"Download\", \"Download plot\", \"fa fa-floppy-o icon-save\", \"download\"]];\n",
       "\n",
       "mpl.extensions = [\"eps\", \"jpeg\", \"pdf\", \"png\", \"ps\", \"raw\", \"svg\", \"tif\"];\n",
       "\n",
       "mpl.default_extension = \"png\";var comm_websocket_adapter = function(comm) {\n",
       "    // Create a \"websocket\"-like object which calls the given IPython comm\n",
       "    // object with the appropriate methods. Currently this is a non binary\n",
       "    // socket, so there is still some room for performance tuning.\n",
       "    var ws = {};\n",
       "\n",
       "    ws.close = function() {\n",
       "        comm.close()\n",
       "    };\n",
       "    ws.send = function(m) {\n",
       "        //console.log('sending', m);\n",
       "        comm.send(m);\n",
       "    };\n",
       "    // Register the callback with on_msg.\n",
       "    comm.on_msg(function(msg) {\n",
       "        //console.log('receiving', msg['content']['data'], msg);\n",
       "        // Pass the mpl event to the overridden (by mpl) onmessage function.\n",
       "        ws.onmessage(msg['content']['data'])\n",
       "    });\n",
       "    return ws;\n",
       "}\n",
       "\n",
       "mpl.mpl_figure_comm = function(comm, msg) {\n",
       "    // This is the function which gets called when the mpl process\n",
       "    // starts-up an IPython Comm through the \"matplotlib\" channel.\n",
       "\n",
       "    var id = msg.content.data.id;\n",
       "    // Get hold of the div created by the display call when the Comm\n",
       "    // socket was opened in Python.\n",
       "    var element = $(\"#\" + id);\n",
       "    var ws_proxy = comm_websocket_adapter(comm)\n",
       "\n",
       "    function ondownload(figure, format) {\n",
       "        window.open(figure.imageObj.src);\n",
       "    }\n",
       "\n",
       "    var fig = new mpl.figure(id, ws_proxy,\n",
       "                           ondownload,\n",
       "                           element.get(0));\n",
       "\n",
       "    // Call onopen now - mpl needs it, as it is assuming we've passed it a real\n",
       "    // web socket which is closed, not our websocket->open comm proxy.\n",
       "    ws_proxy.onopen();\n",
       "\n",
       "    fig.parent_element = element.get(0);\n",
       "    fig.cell_info = mpl.find_output_cell(\"<div id='\" + id + \"'></div>\");\n",
       "    if (!fig.cell_info) {\n",
       "        console.error(\"Failed to find cell for figure\", id, fig);\n",
       "        return;\n",
       "    }\n",
       "\n",
       "    var output_index = fig.cell_info[2]\n",
       "    var cell = fig.cell_info[0];\n",
       "\n",
       "};\n",
       "\n",
       "mpl.figure.prototype.handle_close = function(fig, msg) {\n",
       "    var width = fig.canvas.width/mpl.ratio\n",
       "    fig.root.unbind('remove')\n",
       "\n",
       "    // Update the output cell to use the data from the current canvas.\n",
       "    fig.push_to_output();\n",
       "    var dataURL = fig.canvas.toDataURL();\n",
       "    // Re-enable the keyboard manager in IPython - without this line, in FF,\n",
       "    // the notebook keyboard shortcuts fail.\n",
       "    IPython.keyboard_manager.enable()\n",
       "    $(fig.parent_element).html('<img src=\"' + dataURL + '\" width=\"' + width + '\">');\n",
       "    fig.close_ws(fig, msg);\n",
       "}\n",
       "\n",
       "mpl.figure.prototype.close_ws = function(fig, msg){\n",
       "    fig.send_message('closing', msg);\n",
       "    // fig.ws.close()\n",
       "}\n",
       "\n",
       "mpl.figure.prototype.push_to_output = function(remove_interactive) {\n",
       "    // Turn the data on the canvas into data in the output cell.\n",
       "    var width = this.canvas.width/mpl.ratio\n",
       "    var dataURL = this.canvas.toDataURL();\n",
       "    this.cell_info[1]['text/html'] = '<img src=\"' + dataURL + '\" width=\"' + width + '\">';\n",
       "}\n",
       "\n",
       "mpl.figure.prototype.updated_canvas_event = function() {\n",
       "    // Tell IPython that the notebook contents must change.\n",
       "    IPython.notebook.set_dirty(true);\n",
       "    this.send_message(\"ack\", {});\n",
       "    var fig = this;\n",
       "    // Wait a second, then push the new image to the DOM so\n",
       "    // that it is saved nicely (might be nice to debounce this).\n",
       "    setTimeout(function () { fig.push_to_output() }, 1000);\n",
       "}\n",
       "\n",
       "mpl.figure.prototype._init_toolbar = function() {\n",
       "    var fig = this;\n",
       "\n",
       "    var nav_element = $('<div/>');\n",
       "    nav_element.attr('style', 'width: 100%');\n",
       "    this.root.append(nav_element);\n",
       "\n",
       "    // Define a callback function for later on.\n",
       "    function toolbar_event(event) {\n",
       "        return fig.toolbar_button_onclick(event['data']);\n",
       "    }\n",
       "    function toolbar_mouse_event(event) {\n",
       "        return fig.toolbar_button_onmouseover(event['data']);\n",
       "    }\n",
       "\n",
       "    for(var toolbar_ind in mpl.toolbar_items){\n",
       "        var name = mpl.toolbar_items[toolbar_ind][0];\n",
       "        var tooltip = mpl.toolbar_items[toolbar_ind][1];\n",
       "        var image = mpl.toolbar_items[toolbar_ind][2];\n",
       "        var method_name = mpl.toolbar_items[toolbar_ind][3];\n",
       "\n",
       "        if (!name) { continue; };\n",
       "\n",
       "        var button = $('<button class=\"btn btn-default\" href=\"#\" title=\"' + name + '\"><i class=\"fa ' + image + ' fa-lg\"></i></button>');\n",
       "        button.click(method_name, toolbar_event);\n",
       "        button.mouseover(tooltip, toolbar_mouse_event);\n",
       "        nav_element.append(button);\n",
       "    }\n",
       "\n",
       "    // Add the status bar.\n",
       "    var status_bar = $('<span class=\"mpl-message\" style=\"text-align:right; float: right;\"/>');\n",
       "    nav_element.append(status_bar);\n",
       "    this.message = status_bar[0];\n",
       "\n",
       "    // Add the close button to the window.\n",
       "    var buttongrp = $('<div class=\"btn-group inline pull-right\"></div>');\n",
       "    var button = $('<button class=\"btn btn-mini btn-primary\" href=\"#\" title=\"Stop Interaction\"><i class=\"fa fa-power-off icon-remove icon-large\"></i></button>');\n",
       "    button.click(function (evt) { fig.handle_close(fig, {}); } );\n",
       "    button.mouseover('Stop Interaction', toolbar_mouse_event);\n",
       "    buttongrp.append(button);\n",
       "    var titlebar = this.root.find($('.ui-dialog-titlebar'));\n",
       "    titlebar.prepend(buttongrp);\n",
       "}\n",
       "\n",
       "mpl.figure.prototype._root_extra_style = function(el){\n",
       "    var fig = this\n",
       "    el.on(\"remove\", function(){\n",
       "\tfig.close_ws(fig, {});\n",
       "    });\n",
       "}\n",
       "\n",
       "mpl.figure.prototype._canvas_extra_style = function(el){\n",
       "    // this is important to make the div 'focusable\n",
       "    el.attr('tabindex', 0)\n",
       "    // reach out to IPython and tell the keyboard manager to turn it's self\n",
       "    // off when our div gets focus\n",
       "\n",
       "    // location in version 3\n",
       "    if (IPython.notebook.keyboard_manager) {\n",
       "        IPython.notebook.keyboard_manager.register_events(el);\n",
       "    }\n",
       "    else {\n",
       "        // location in version 2\n",
       "        IPython.keyboard_manager.register_events(el);\n",
       "    }\n",
       "\n",
       "}\n",
       "\n",
       "mpl.figure.prototype._key_event_extra = function(event, name) {\n",
       "    var manager = IPython.notebook.keyboard_manager;\n",
       "    if (!manager)\n",
       "        manager = IPython.keyboard_manager;\n",
       "\n",
       "    // Check for shift+enter\n",
       "    if (event.shiftKey && event.which == 13) {\n",
       "        this.canvas_div.blur();\n",
       "        // select the cell after this one\n",
       "        var index = IPython.notebook.find_cell_index(this.cell_info[0]);\n",
       "        IPython.notebook.select(index + 1);\n",
       "    }\n",
       "}\n",
       "\n",
       "mpl.figure.prototype.handle_save = function(fig, msg) {\n",
       "    fig.ondownload(fig, null);\n",
       "}\n",
       "\n",
       "\n",
       "mpl.find_output_cell = function(html_output) {\n",
       "    // Return the cell and output element which can be found *uniquely* in the notebook.\n",
       "    // Note - this is a bit hacky, but it is done because the \"notebook_saving.Notebook\"\n",
       "    // IPython event is triggered only after the cells have been serialised, which for\n",
       "    // our purposes (turning an active figure into a static one), is too late.\n",
       "    var cells = IPython.notebook.get_cells();\n",
       "    var ncells = cells.length;\n",
       "    for (var i=0; i<ncells; i++) {\n",
       "        var cell = cells[i];\n",
       "        if (cell.cell_type === 'code'){\n",
       "            for (var j=0; j<cell.output_area.outputs.length; j++) {\n",
       "                var data = cell.output_area.outputs[j];\n",
       "                if (data.data) {\n",
       "                    // IPython >= 3 moved mimebundle to data attribute of output\n",
       "                    data = data.data;\n",
       "                }\n",
       "                if (data['text/html'] == html_output) {\n",
       "                    return [cell, data, j];\n",
       "                }\n",
       "            }\n",
       "        }\n",
       "    }\n",
       "}\n",
       "\n",
       "// Register the function which deals with the matplotlib target/channel.\n",
       "// The kernel may be null if the page has been refreshed.\n",
       "if (IPython.notebook.kernel != null) {\n",
       "    IPython.notebook.kernel.comm_manager.register_target('matplotlib', mpl.mpl_figure_comm);\n",
       "}\n"
      ],
      "text/plain": [
       "<IPython.core.display.Javascript object>"
      ]
     },
     "metadata": {},
     "output_type": "display_data"
    },
    {
     "data": {
      "text/html": [
       "<img src=\"data:image/png;base64,iVBORw0KGgoAAAANSUhEUgAACjAAAAUYCAYAAAAMagn/AAAgAElEQVR4XuzdB5gURdrA8XcXWJbggkqSJEERCSqKWQkqqIhiRkxgOBUV+IyICfQ8zwAmFNMpip6KigFUMJLMSjAQDEhQkqgICLKE3a/f5maY2TQ9MzUz1dP/usfHc7e6uupXbWNVvV2VU+wkISGAAAIIIIAAAggggAACCCCAAAIIIIAAAggggAACCCCAAAIIIIAAAggggAACCCCAAAJpFMghgDGN2twKAQQQQAABBBBAAAEEEEAAAQQQQAABBBBAAAEEEEAAAQQQQAABBBBAAAEEEEAAAQRcAQIYeRAQQAABBBBAAAEEEEAAAQQQQAABBBBAAAEEEEAAAQQQQAABBBBAAAEEEEAAAQQQQCDtAgQwpp2cGyKAAAIIIIAAAggggAACCCCAAAIIIIAAAggggAACCCCAAAIIIIAAAggggAACCCCAAAGMPAMIIIAAAggggAACCCCAAAIIIIAAAggggAACCCCAAAIIIIAAAggggAACCCCAAAIIIJB2AQIY007ODRFAAAEEEEAAAQQQQAABBBBAAAEEEEAAAQQQQAABBBBAAAEEEEAAAQQQQAABBBBAgABGngEEEEAAAQQQQAABBBBAAAEEEEAAAQQQQAABBBBAAAEEEEAAAQQQQAABBBBAAAEEEEi7AAGMaSfnhggggAACCCCAAAIIIIAAAggggAACCCCAAAIIIIAAAggggAACCCCAAAIIIIAAAgggQAAjzwACCCCAAAIIIIAAAggggAACCCCAAAIIIIAAAggggAACCCCAAAIIIIAAAggggAACCKRdgADGtJNzQwQQQAABBBBAAAEEEEAAAQQQQAABBBBAAAEEEEAAAQQQQAABBBBAAAEEEEAAAQQQIICRZwABBBBAAAEEEEAAAQQQQAABBBBAAAEEEEAAAQQQQAABBBBAAAEEEEAAAQQQQAABBNIuQABj2sm5IQIIIIAAAggggAACCCCAAAIIIIAAAggggAACCCCAAAIIIIAAAggggAACCCCAAAIIEMDIM4AAAggggAACCCCAAAIIIIAAAggggAACCCCAAAIIIIAAAggggAACCCCAAAIIIIAAAmkXIIAx7eTcEAEEEEAAAQQQQAABBBBAAAEEEEAAAQQQQAABBBBAAAEEEEAAAQQQQAABBBBAAAEECGDkGUAAAQQQQAABBBBAAAEEEEAAAQQQQAABBBBAAAEEEEAAAQQQQAABBBBAAAEEEEAAgbQLEMCYdnJuiAACCCCAAAIIIIAAAggggAACCCCAAAIIIIAAAggggAACCCCAAAIIIIAAAggggAACBDDyDCCAAAIIIIAAAggggAACCCCAAAIIIIAAAggggAACCCCAAAIIIIAAAggggAACCCCAQNoFCGBMOzk3RAABBBBAAAEEEEAAAQQQQAABBBBAAAEEEEAAAQQQQAABBBBAAAEEEEAAAQQQQAABAhh5BhBAAAEEEEAAAQQQQAABBBBAAAEEEEAAAQQQQAABBBBAAAEEEEAAAQQQQAABBBBAIO0CBDCmnZwbIoAAAggggAACCCCAAAIIIIAAAggggAACCCCAAAIIIIAAAggggAACCCCAAAIIIIAAAYw8AwgggAACCCCAAAIIIIAAAggggAACCCCAAAIIIIAAAggggAACCCCAAAIIIIAAAgggkHYBAhjTTs4NEUAAAQQQQAABBBBAAAEEEEAAAQQQQAABBBBAAAEEEEAAAQQQQAABBBBAAAEEEECAAEaeAQQQQAABBBBAAAEEEEAAAQQQQAABBBBAAAEEEEAAAQQQQAABBBBAAAEEEEAAAQQQSLsAAYxpJ+eGCCCAAAIIIIAAAggggAACCCCAAAIIIIAAAggggAACCCCAAAIIIIAAAggggAACCCBAACPPAAIIIIAAAggggAACCCCAAAIIIIAAAggggAACCCCAAAIIIIAAAggggAACCCCAAAIIpF2AAMa0k3NDBBBAAAEEEEAAAQQQQAABBBBAAAEEEEAAAQQQQAABBBBAAAEEEEAAAQQQQAABBBAggJFnAAEEEEAAAQQQQAABBBBAAAEEEEAAAQQQQAABBBBAAAEEEEAAAQQQQAABBBBAAAEE0i5AAGPaybkhAggggAACCCCAAAIIIIAAAggggAACCCCAAAIIIIAAAggggAACCCCAAAIIIIAAAggQwMgzgAACCCCAAAIIIIAAAggggAACCCCAAAIIIIAAAggggAACCCCAAAIIIIAAAggggAACaRcggDHt5NwQAQQQQAABBBBAAAEEEEAAAQQQQAABBBBAAAEEEEAAAQQQQAABBBBAAAEEEEAAAQQIYOQZQAABBBBAAAEEEEAAAQQQQAABBBBAAAEEEEAAAQQQQAABBBBAAAEEEEAAAQQQQACBtAsQwJh2cm6IAAIIIIAAAggggAACCCCAAAIIIIAAAggggAACCCCAAAIIIIAAAggggAACCCCAAAIEMPIMIIAAAggggAACCCCAAAIIIIAAAggggAACCCCAAAIIIIAAAggggAACCCCAAAIIIIBA2gUIYEw7OTdEAAEEEEAAAQQQQAABBBBAAAEEEEAAAQQQQAABBBBAAAEEEEAAAQQQQAABBBBAAAECGHkGEEAAAQQQQAABBBBAAAEEEEAAAQQQQAABBBBAAAEEEEAAAQQQQAABBBBAAAEEEEAg7QIEMKadnBsigAACCCCAAAIIIIAAAggggAACCCCAAAIIIIAAAggggAACCCCAAAIIIIAAAggggAABjDwDCCCAAAIIIIAAAggggAACCCCAAAIIIIAAAggggAACCCCAAAIIIIAAAggggAACCCCQdgECGNNOzg0RQAABBBBAAAEEEEAAAQQQQAABBBBAAAEEEEAAAQQQQAABBBBAAAEEEEAAAQQQQIAARp4BBBAwJlCpUiUpKiqSnJwcqVGjhrFyKQgBBBBAAAEEEEAAAQQQQAABBBIXWL9+vRQXF0tubq5s3bo18YK4EoEkBHS+iIQAAggggAACCCCAAAIIIIAAAvYK6PwRCYFMCBDAmAl17olAlgowEZ2lHUuzEEAAAQQQQAABBBBAAAEEskaAieis6UrfNYR5I991GRVGAAEEEEAAAQQQQAABBBAImADzRgHrcIuaSwCjRZ1BVRDwu4Du5BD6A61mzZp+bw71RwABBBBAAAEEEEAAAQQQQCArBP766y+3HRpApicnkBDIhAABjJlQ554IIIAAAggggAACCCCAAAIIeBcggNG7FTnNChDAaNaT0hAItMAOO+wguiiiwYvr1q0LtAWNRwABBBBAAAEEEEAAAQQQQMAWAcbrtvREsOsRGcDIgkiwnwVajwACCCCAAAIIIIAAAgggYI8A43V7+iLINSGAMci9T9sRMCzAgohhUIpDAAEEEEAAAQQQQAABBBBAwIAA43UDiBSRtAALIkkTUgACCCCAAAIIIIAAAggggAACxgUYrxsnpcAEBAhgTACNSxBAoGwBFkR4MhBAAAEEEEAAAQQQQAABBBCwT4Dxun19EsQasSASxF6nzQgggAACCCCAAAIIIIAAArYLMF63vYeCUT8CGIPRz7QSgbQIsCCSFmZuggACCCCAAAIIIIAAAggggEBcAozX4+Iic4oEWBBJESzFIoAAAggggAACCCCAAAIIIJCEAOP1JPC41JgAAYzGKCkIAQRYEOEZQAABBBBAAAEEEEAAAQQQQMA+Acbr9vVJEGvEgkgQe502I4AAAggggAACCCCAAAII2C7AeN32HgpG/QhgDEY/00oE0iLAgkhamLkJAggggAACCCCAAAIIIIAAAnEJMF6Pi4vMKRJgQSRFsBSLAAIIIIAAAggggAACCCCAQBICjNeTwONSYwIEMBqjpCAEEGBBhGcAAQQQQAABBBBAAAEEEEAAAfsEGK/b1ydBrBELIkHsddqMAAIIIIAAAggggAACCCBguwDjddt7KBj1I4AxGP1MKxFIiwALImlh5iYIIIAAAggggAACCCCAAAIIxCXAeD0uLjKnSIAFkRTBUiwCCCCAAAIIIIAAAggggAACSQgwXk8Cj0uNCRDAaIySghBAgAURngEEEEAAAQQQQAABBBBAAAEE7BNgvG5fnwSxRiyIBLHXaTMCCCCAAAIIIIAAAggggIDtAozXbe+hYNSPAMZg9DOtRCAtAiyIpIWZmyCAAAIIIIAAAggggAACCCAQlwDj9bi4yJwiARZEUgRLsQgggAACCCCAAAIIIIAAAggkIcB4PQk8LjUmQACjMUoKQgABFkR4BhBAAAEEEEAAAQQQQAABBBCwT4Dxun19EsQasSASxF6nzQgggAACCCCAAAIIIIAAArYLMF63vYeCUT8CGIPRz7QSgbQIsCCSFmZuggACCCCAAAIIIIAAAggggEBcAozX4+Iic4oEWBBJESzFIoAAAggggAACCCCAAAIIIJCEAOP1JPC41JgAAYzGKCkIAQRYEOEZQAABBBBAAAEEEEAAAQQQQMA+Acbr9vVJEGvEgkgQe502I4AAAggggAACCCCAAAII2C7AeN32HgpG/QhgDEY/00oE0iLAgkhamLkJAggggAACCCCAAAIIIIAAAnEJMF6Pi4vMKRJgQSRFsBSLAAIIIIAAAggggAACCCCAQBICjNeTwONSYwIEMBqjpCAEEGBBhGcAAQQQQAABBBBAwCaB4uJiKSwslLVr18rGjRtl69atoj8jIYAAArYJ6ERxpUqVJD8/XwoKCqRq1aoSOXmcbH0ZrycryPUmBFgQMaFIGQgggAACCCCAAAIIIGBSgPlDk5qUlSqBVM8bMV5PVc9RbjwCBDDGo0VeBBCoUIAFER4QBBBAAAEEEEAAAVsENGhx1apVsmnTJluqRD0QQAABzwJ5eXlSt25dN5jRRGK8bkKRMpIVYEEkWUGuRwABBBBAAAEEEEAAAZMCzB+a1KSsdAqYnjdivJ7O3uNe5QkQwMizgQACxgRYEDFGSUEIIIAAAggggAACSQisWbNGli1blkQJXIoAAgjYIdCwYUOpVatW0pVhvJ40IQUYEGBBxAAiRSCAAAIIIIAAAggggIARAeYPjTBSSIYFTM0bMV7PcEdye1eAAEYeBAQQMCbAgogxSgpCAAEEEEAAAQQQSFBAv5xeunRpqat1EqZKlSpGj2RNsIpchgACCJQS0COrNm/eXOYx940aNUp6J0bG6zx0NgiwIGJDL1AHBBBAAAEEEEAAAQQQYP6QZ8BvAqmeN2K87rcnIjvrSwBjdvYrrUIgIwIsiGSEnZsigAACCCCAAAII/E9AJ3J++umnqGOjq1WrJjvvvLPUqFFDcnNzsUIAAQSsFSgqKpL169fL77//Ln///Xe4nnosUIsWLZIKwGa8bm23B6piLIgEqrtpLAIIIIAAAggggAACVgowf2hlt1ApDwKpnDdivO6hA8iScgECGFNOzA0QCI4ACyLB6WtaigACCCCAAAII2CiwceNGWbhwYbhqGrzYtGlTAhdt7CzqhAAC5QrohPSSJUuighibN28u+fn5CasxXk+YjgsNCrAgYhCTohBAAAEEEEAAAQQQQCAhAeYPE2LjIosEUjFvxHjdog4OcFUIYAxw59N0BEwLsCBiWpTyEEAAAQQQQAABBOIR+PXXX92dy0KpcePGov+NSkIAAQT8JrBu3Tr55ZdfwtWuU6eO1K1bN+FmMF5PmI4LDQqwIGIQk6IQQAABBBBAAAEEEEAgIQHmDxNi4yLLBEzPGzFet6yDA1odAhgD2vE0G4FUCLAgkgpVykQAAQQQQAABBBDwKqA7lunxq5p00qVVq1bsvugVj3wIIGCVgH5N//3334sebaWpRo0a7o6yiSbG64nKcZ1JARZETGpSFgIIIIAAAggggAACCCQiwPxhImpcY5uA6Xkjxuu29XAw60MAYzD7nVYjkBIBFkRSwkqhCCCAAAIIIIAAAh4F9PhoPQZGU15enrRs2dLjlWRDAAEE7BNYsGCBbNq0ya1YtWrVpFmzZglXkvF6wnRcaFCABRGDmBSFAAIIIIAAAggggAACCQkwf5gQGxdZKGBy3ojxuoUdHMAqEcAYwE6nyQikSoAFkVTJUi4CCCCAAAIIIICAF4GffvpJCgsL3axVq1aVFi1aeLmMPAgggICVAibfaYzXreziwFWKBZHAdTkNRgABBBBAAAEEEEDAOgGTY23rGkeFAiVg8llmvB6oR8faxhLAaG3XUDEE/CfAgoj/+owaI4AAAggggAAC2SRgctImm1xoCwII+FPA5DuN8bo/n4FsqzULItnWo7QHAQQQQAABBBBAAAH/CZgca/uv9dQ4mwRMPsuM17PpyfBvWwhg9G/fUXMErBNgQcS6LqFCCCCAAAIIIIBAoARMTtoECo7GIoCAlQIm32mM163s4sBVigWRwHU5DUYAAQQQQAABBBBAwDoBk2Nt6xpHhQIlYPJZZrweqEfH2sYSwGht11AxBPwnwIKI//qMGiOAAAIIIIAAAtkkYHLSJptcaAsCCPhTwOQ7jfG6P5+BbKs1CyLZ1qO0BwEEEEAAAQQQQAAB/wmYHGv7r/XUOJsETD7LjNez6cnwb1sIYPRv31FzBKwTYEHEui6hQggggAACCCCAQKAETE7aBAqOxiKAgJUCJt9pjNet7OLAVYoFkcB1OQ1GAAEEEEAAAQQQQMA6AZNjbesaR4UCJWDyWWa8HqhHx9rGEsBobddQMQT8J8CCiP/6jBojgAACCCCAAALZJGBy0iabXGgLAgj4U8DkO43xuj+fgWyrNQsi2dajtAcBBBBAAAEEEEAAAf8JmBxr+6/11DibBEw+y4zXs+nJ8G9bCGD0b99RcwSsE2BBxLouoUIIIIAAAggggECgBExO2gQKjsYigICVAibfaYzXreziwFWKBZHAdTkNRgABBBBAAAEEEEDAOgGTY23rGkeFAiVg8llmvB6oR8faxhLAaG3XUDEE/CfAgoj/+owaI4AAAggggAAC2SRgctImm1xoCwII+FPA5DuN8bo/n4FsqzULItnWo7QHAQQQQAABBBBAAAH/CZgca/uv9dTYlMCbb74pzzzzjHz55ZeyYsUKWb9+fbjo0aNHS79+/aJuVVRUJGPHjnX/mjVrlqxatUr+/vvvcJ7JkydLly5d4qqeyWeZ8Xpc9GROkQABjCmCpVgEgijAgkgQe502I4AAAggggAAC9giYnLSxp1XUJAgCzZo1k8WLF7tNLWuSMwgGtLG0gMl3GuN1njAbBFgQsaEXqAMCCCCAAAIIIIAAAsEWMDnWDrakva0fNmyY3HLLLUlVUIMM99lnn1JlaCDiOeecI88991y55Zec29NAxeOOO040SLG8RABjUt3FxVkiQABjlnQkzUDABgEWRGzoBeqAAAIIIIAAAggEVyCbJiALt2yVZX9uFP171cqVpGHtfPfvQUyLFi2S5s2bp6TpiUwOpqIiBDCmQtX/ZZp8pzFe9//zkA0tIIAxG3qRNiCAAAIIIIAAAggg4G8Bk2PtTEoUFoosWSKycaNIfr5I06YiVatmskb23DuVAYwPPvigDBgwINzYgoICad++vdSsWTP8s6uuukq6desW/uerr75aRowYEf7nOnXqSJs2baRatWrhn911112y1157xYVo8llmvB4XPZlTJEAAY4pgKRaBIAqwIBLEXqfNCCCAAAIIIICAPQImJ20y0aqf/9ggz32+RKb/sEq+W7FONm8tDlejSqUc2aPBDnL47nXlzAOaSpOdqmeiihm5JwGMGWHnphYImHynMV63oEOpgrAgwkOAAAIIIIAAAggggAACmRYwOdZOd1sWLhR57DGRd94R+eYbkc2bt9egShVxAulEuncXuegicT4GTnft7LlfyQDGTp06RQULeqnpqFGjpEWLFqWyapDhN4rvpO4O9muvvVZh2bpj48477yx//vmne815550njz/+uFSqlPyH6iafZcbrXp4K8qRagADGVAtTPgIBEmBBJECdTVMRQAABBBBAAAELBUxO2qSzeSvWbJRbJsyRSXNWSPH2mMVyq5CTI3JsuwYy9Pi2Ur/A+cQ6y9PKlSulb9++MVv5+eefy+rVq918+c6n5507d455TSJfN8csNIEM7MCYAFoALjH5TmO8HoAHxgdNZEHEB51EFRFAAAEEEEAAAQQQyHIBk2PtdFEtXSoyaJDIK6+I57nDU04Ruf9+kYYN01VLe+5TMoBxoRP5qXNvySY9CrpGjRpOH2ybwH3//ffliCOOqLDY+fPny5577hnOs2DBgjIDIxOpm8lnmfF6Ij3ANaYFCGA0LUp5CARYwI8LIhzNF+AHlqYjgAACCCCAQNYJmJy0SRfOhK+WyQ2vfiNrN26J+5YF+ZXlXye1l+P3DuBMZBlaXbp0kalTp7q/2XXXXUV3biQh4GcBk+80P47X/dx31L1sAT8uiBSuLZTlny2RTWs3Sp7z0cAuBzaVqgWcy8YzjgACCCCAAAIIIICAXwVMjrXTYTB2rMgll4izg1/8d6tdW+SRR0R6947/Wj9fkaoAxqVOJGnjxo3DND/88IPstttuFVJ99NFHcthhh4XzbHa2zaxcubIRXpPPsh/H60YQKcQqAQIYreoOKoOAvwX8siDC0Xz+fs6oPQIIIIAAAgggUJ6AyUmbdCiP/mihs/Pi3KRvNez4NtLv0ACfC/M/QQIYk36UKMAyAZPvNL+M1y3rAqpjWMAvCyI/T1soCwY/JvW/ekda/v2N5Mn2c9k2SRVZUK29rNy7u7S88yJp0ok/fw0/JhSHAAIIIIAAAggggEBKBUyOtVNaUafwBx7YtvNisknLGTAg2VL8c32qAhj1Y+nmEWdze9nZccqUKdK1a9cwXmj3RhOaJp9lv4zXTbhRhr0CBDDa2zfUDAHfCdi+IMLRfL57pKgwAggggAACCCAQl4DJSZu4bpxAZt15ccDzsxK4suxLRvbpEPidGAlgNPY4UZAlAibfabaP1y0hpxopFrB9QWT5l0tl0YmD5MClr0iubDsSrKJUJDnyWaNTpPn4+6XBvuyGHMuL3yOAAAIIIIAAAgggYIOAybF2KtujOy+ecYa5O7zwQnB2YjQZwFgyADFWjwwdOtQ9rvq8886LlTX8+9GjR0u/fv085w9lNPks2z5ejxuHC3wpQACjL7uNSiNgp4DNCyIczWfnM0OtEEAAAQQQQAABkwImJ21M1qtkWfphTfd7pyZ0bHR59dLjpN+9srPUd463DGryGsAYOSE3efJk0ev+/vtveemll9y/5s6dKytWrJANGzY4X7kPkvvuuy+KdOXKlfL222/L9OnT5ZtvvhF97tasWSOVKlWSnXbaSfbcc0/p3LmznH/++dKwobeAFp3YXLx4sXufiiYty6r71q1b5fXXX5cxY8bI119/LcuWLZPq1atLixYt5JhjjpGBAwdKvXr1gvpY+LrdJt9pNo/Xfd1JVD4uAZsXRD4eNFbajLxEahfHfy7bnzm1Ze6AR+SQ+wN2LltcvU9mBBBAAAEEEEAAAQTsEDA51k5Vi5yTiqVdu8SOjS6vTnqc9Jw54sxVparW9pRLAGP8fWHzeD3+1nCFXwUIYPRrz1FvBCwUsHVBhKP5LHxYqBICCCCAAAIIIJACAT9MQGqz+z87QyZ+u8K4QI/2DWTUWfsZL9cvBSYawLjjjjtKnz59ZN68eaWaWjKAUYMSn376aSkqKorJkpeXJzfeeKP7V+QkYFkXJhrA2LJlSznrrLPcYMryUkFBgRuY2b1795h1JoNdAibfabaO1+0SpzapFrB1QWTqKQ9I51eSP5fNLeflAJ3LluoHhvIRQAABBBBAAAEEEEiBgMmxdgqq5xZ56qki48aZL13LdaaIsj6ZDGDUj4WvvfZa10w/gJ42bVrYr1OnTlKtWrUoz7PPPlvq168vI0aMcH/+xx9/yBdffBHOc/TRR5fyv+qqq6Rbt25x94vJZ9nW8XrcKFzgawECGH3dfVQeAbsEbFwQ4Wg+u54RaoMAAggggAACCKRSwOSkTarq+fMfG6TT3ZOlOPbJlHFXISdHZNo1XaXJTtXjvjYbLkgkgPHJJ5+Uq6++2p1M1NS4cWNp3ry5bNq0SX788UfRScfIHRg7duwoM2bMCHNp/kaNGomOhXTHxgULFoju0BiZ+vfvL6NGjaqQOJEAxrHOWUKDBw+WRYsWRdVdgyvnOJ/U//nn9l3EqlatKjNnzpQ2bdpkQ1cHpg0m32k2jtcD05E0NCxg44KI7rx4yAPmzmX7eOAL7MTIM48AAggggAACCCCAgMUCJsfaqWjmwoUizveqKZs7dKaunLmvVNTcnjJNBjBGtkrn4HTeMJQWOp2lc3oVpZJHUBcbnBQ2+SzbOF6354miJukSIIAxXdLcB4EACNi2IMLRfAF46GgiAggggAACCCAQIWBy0iZVsHdOmi8PT3FmClOU+ndpKYOPaZ2i0u0uNpEARt2dcO3atXLIIYe4gYr7779/uJFbtmyRX375JWoiUvPpxOTJJ58sRx55pOjujSXTV199JUOHDnWPdQ6lCRMmSM+ePcsFTCSAsU6dOvLbb7/JYYcdJvfcc0+puo8cOdINzgztFqlfeE+aNMnuTqR2UQIm32m2jdfp6mAK2LYgsvzLpVLtgHYJHRtdXg/qcdIbv5wjDfYNwLlswXyMaTUCCCCAAAIIIICAzwVMjrVTQTFkiMgdd6Si5G1lXnedyL//nbrybSiZAMb4e8G28Xr8LeCKbBAggDEbepE2IGCJgG0LIhzNZ8mDQTUQQAABBBBAAIE0CSQyAflX4Rb5fuW6NNVQ5OqXvpKfVq1P2f1a1q0hd5+2d8rKjyy4Vf0dpGbVymm5l5ebJBLAqOUeccQR8tZbb4nuUhgr/fXXX1KzZs1Y2dzfX3zxxfLYY4+5///QQw+VDz/8sNzrEglg1MJ69Oghr732mlSpUqXMsm+55RbRSVtNOhGpX4o3bdrUU/3JlHmBRN5p5dXattkxh/AAACAASURBVPF65nWpQSYEbFsQ+aTxqXLwUvPnsn3SyCn3lwCcy5aJh4h7IoAAAggggAACCCCQpEAiY+11ztShc9hFWlK/fiLffZe6W7V2vnsePTp15ZcsuW1bcU4uSd/99E4lAxjjvXvfvn3lqaeeKnUZOzDGK0l+BOITIIAxPi9yI4BABQI2LYhwNB+PKgIIIIAAAgggEDyBRCYgZy5ZLSeP+jh4WAZa/Mqlh8i+TUvvQGig6ISKSCSAUQP/9KjoVAT16c6O9evXl40bN7rt0aOl69WrV2bbEglg1EBKPapGd2IsL61Zs8atQ2FhoZvlueeekz59+iTky0XpF0jknVZeLW0ar6dfkjvaImBTAOPP0xZKo84tJVeKjfMUSY4snbpAmnTK8nPZjMtRIAIIIIAAAggggAACqRdIZKz96aciBx+c+rpl4x0++UTkoIPS2zICGOP3tmm8Hn/tuSJbBAhgzJaepB0IWCBg04IIR/NZ8EBQBQQQQAABBBBAIM0CiUxAEsCYeCdlQwDjCSecEHXUc+IaZV/ZsWNHmTFjhvvL8ePHy/HHH19mxkQCGC+88EJ5/PHHY1b5IGeW+LPPPnPz3XDDDXLbbbfFvIYMdggk8k4rr+Y2jdft0KUWmRCwaUFkysFDpMunqTuXbcpB10mXT7L8XLZMPETcEwEEEEAAAQQQQACBJAUSGWsTwJg4ug0BjJ06dZJq1ap5bkS3bt3kqquuKpWfHRg9E5IRgYQECGBMiI2LEECgLAGbFkR6jpwu3y5dm7KOat+olkwYcFjKyqdgBBBAAAEEEEAAgfgFEpmAJIAxfufQFdkQwDh8+PAyJyS9qHz99dfy0UcfOUcIzZHff/9d1jnnCW3ZsiXq0s8//1xWr17t/mzUqFHSv3//MotOJIBRj7LRI21ipdNOO01efvllN9tll10mDz74YKxL+L0lAom808qruk3jdUt4qUYGBGwKYJxXfT/Z8++ZKVOY65TfZv2XKSufghFAAAEEEEAAAQQQQCAxgUTG2gQwJmatV9kQwKgnmOjcW7KJAMZkBbkegYoFCGDkCUEAAWMCtiyIFG7ZKu2Gvi2bt5o/BiiElVcpV7695WjJq5xrzI+CEEAAAQQQQAABBJITSGQCkgDGxM2zIYDx1VdflRNPPDEuhDfffFOGDBki33zzTVzX3X777e51ZaVEAhgnTZokRx99dMw69OvXT55++mk3n/7/0aNHx7yGDHYIJPJOK6/mtozX7ZClFpkSsCWAsXBtoeTU2kHyZHPKKAqd0nOcwPa8mnkpuwcFI4AAAggggAACCCCAQPwCiYy1CWCM3zl0BQGMU6Rr165hwOJic/ELiTzL5fWkLeP1xJ80rswGAQIYs6EXaQMClgjYsiCy8Lf10nX4lJSrTL66izSvUyPl9+EGCCCAAAIIIIAAAt4EEpm0IYDRm21ZubIhgPH999+XI444wjPC0KFD5dZbb/WcPzKjXjts2LAyr00kgHHy5MnSpUuXmHWJDGDUHRt150aSPwQSeaeV1zJbxuv+kKeWqRKwZUFk0bs/SLPurVLVzHC5i975Xpp12z3l9+EGCCCAAAIIIIAAAggg4F0gkbE2AYzefUvmJICRAMbEnx6uDJoAAYxB63Hai0AKBWxZEJm/Yq0cc9/0FLZ0W9GT/u9wad2gIOX34QYIIIAAAggggAAC3gQSmYD8q3CLfL9ynbcbGMh19UtfyU+r1hsoqewiWtatIXeftnfKyo8suFX9HaRm1cppuZeXm2gw39SpU92su+66q+ixLmWlyAAar0GAWs748eOlV69e4SJ32WUXueCCC6RTp07SsmVLqVevnuTn50vlyttNIutEAKOXXiRPpEAi77TyBG0Zr9PDwRawJYDx+3HfSKtT90p5Z3z/8tfS6pT2Kb8PN0AAAQQQQAABBBBAAAHvAomMtZ3N1WXOHO/3SCanc3iGfPddMiVUfG3r1uKczpG68kuW3LatyA47pO9+eif9gPiWW24J35QjpGP72zJej11TcmSzAAGM2dy7tA2BNAvYsiASzw6MelxQw5zfpKrz90KpIsuK68gm5+9eEjswelEiDwIIIIAAAgggkD6BRCYg01e7bXe6c9J8eXjKgpTdtn+XljL4GGcmMoAp1QGM+++/v3z55ZeubMeOHeW9996TWrVqVSi97777yqxZs9w8BDAG8KFMsskm32m2jNeTJOFynwvYsiDCDow+f5CoPgIIIIAAAggggAACSQiYHGsnUY1yLx0yROSOO1JR8rYyr7tO5N//Tl35NpRMAGP8vWDLeD3+mnNFNgkQwJhNvUlbEMiwgC0LIoVbtkq7oW/L5q3FZYo0zvlVzqz0gRye+7XskfOz5OVsDefbVFxJvituItOL9pLnth4hvxTXK7OMvEq58u0tR0te5dwMq3N7BBBAAAEEEEAAgZCA7ROQWs+f/9ggne6eLMVl/6dqUp2ZkyMy7Zqu0mSn6kmV49eLUxnAuGrVKneHxVD64IMPpGvXrjGp9Bq9VhMBjDG5yFBCwOQ7zZbxOp0cbAFbFkQK1xZKTq0dRD9qTVUqdErPcbZpyauZl6pbUC4CCCCAAAIIIIAAAggkIGByrJ3A7WNesnChOCd9SMrmDhc431U3bx6zGr7OQABj/N1ny3g9/ppzRTYJEMCYTb1JWxDIsIBNCyI9R06Xb5eujRKpL3/I0Cpj5JjcLyQ3J/aKcVFxjkws2l9u2dxXfpUdo8pq36iWTBhwWIbFuT0CCCCAAAIIIIBApIDtE5ChuvZ/doZM/HaF8c7r0b6BjDprP+Pl+qXAVAYwzpgxw911MZT++usvqVGjRoU03znn/bTWc3n+lwhg9MuTZE89Tb7TbBqv2yNMTdItYNOCyLzq+8mef89MGcFcp/w267ft2ktCAAEEEEAAAQQQQAABewRMjrVT1apTTxUZN8586VruSy+ZL9e2EglgjL9HbBqvx197rsgWAQIYs6UnaQcCFgjYtCBS8mi+nrmfyL+qPCG1cjbELbWmuLrcsPkCeaPo4PC1QT6aL25ALkAAAQQQQAABBNIk4IcJSKVYsWajdL93qqzduMWYTEF+ZXn3ys5SvyDfWJl+KyiVAYyffvqpHHzw9vGAlwDGq6++WkaMGBFmJIDRb09U5utr8p1m03g987LUIFMCNi2ITDl4iHT5NHXnsk056Drp8kmWn8uWqQeJ+yKAAAIIIIAAAgggkISAybF2EtWo8NKlS0XatRP5809zd6hdW2TOHJGGDc2VaWtJBDDG3zM2jdfjrz1XZIsAAYzZ0pO0AwELBGxaEIk8mq9fpUkyzNl5Mdk01NmJ8emtR0vQj+ZL1pHrEUAAAQQQQACBVAn4YQIy1PYJXy2TAc/PMkYxsk8HOX7vAMxAViCWygDGJUuWyK677hq++5tvvik9evQotzbffPON7L///lJYWBjOQwCjscc9MAWZfKfZNF4PTAfS0FICNi2I/DxtoTTq3FJyJfYJHfF2ZZHkyNKpC6RJpyw/ly1eGPIjgAACCCCAAAIIIGCBgMmxdiqbM3asyBlnmLvDCy+I9O5trjybSyKAMf7esWm8Hn/tuSJbBAhgzJaepB0IWCBg24KIHs1Xae6r8mDeSGM6l28aIEVtTwr00XzGMCkIAQQQQAABBBAwLOCXCchQs5/6aKEMmzA3aYVhx7eRfocSJJHKAEbtpN13311+/PFHt7/0aOjp06dLnTp1SvXfzJkzpWfPnrJ8+fKo3xHAmPSjHrgCTL7TbBuvB64zabArYNuCyCeNT5WDl5o/l+2TRk65vwTgXDaeawQQQAABBBBAAAEEfChgcqyd6uaPdJa4Bw5M/i4PPCAyYEDy5filhJIBjJ06dZJq1arFVf2zzz5b9K/ItGjRImnefPsc7MKFC6VZs2YVljtlyhTp2rVrOE9xsbmP6Ew+y7aN1+PqLDJnjQABjFnTlTQEgcwL2LYg8uvShZL/+KFSIOuN4ayVGlJ40cdSt2HF/zFi7IYUhAACCCCAAAIIIOBZwOSkjeebJplRd2K84dVvEjpOWo+N/tdJ7QO/82KoC1IdwPjoo4/KJZdcEu7xBg0aSP/+/eWggw6S/Px8+eWXX0R3ZhzrfCK/detW6dChg1SpUkU+//xz9xoCGJP8lyWAl5t8p9k2Xg9gd9JkR8C2BZHlXy6Vage0k9rF5s5l+zOntmz8co402DfYuyLzwCOAAAIIIIAAAgggYKuAybF2OtqoOzHqdFQix0nrsdGPPBKcnRdD/VEygDGRfiprHo8AxkQkuQYB7wIEMHq3IicCCMQQsG5BZOw5IvPGm++3Nr1ETk/+SGrzFaNEBBBAAAEEEEAg2AJ+m4AM9dbKtRvllglzZOK3K8TLR7g5OSLHtmsgQ49vK/UL8oPd6RGtT3UAo34h3adPHzdAMVZq0aKFfPDBB9K3b1+ZOnWqm50Axlhq/L6kgMl3mnXjdbo7kAK2BTBqJ3w8aKwc8oC5c9k+HviCHHJ/QM5lC+RTTKMRQAABBBBAAAEE/C5gcqydLotly0QGDRIZ52wg73Xu8JRTRO6/X6RhAL+tIoAx/ifTxvF6/K3gCr8LEMDo9x6k/ghYJGDVgsjqRc5/le3j6Jjbhnk7tbNiPGi2yI7NLNKnKggggAACCCCAAAJ+nICM7LWf/9ggz32+RD784Tf5bsU62bS1KPzrvEq5skeDHeTw3etInwOaSpOdqtPhJQRSHcCotysqKpI777zT/WvNmjWl+qBmzZru8TJ33XWX6Pgosk4EMPLIxitg8p1m1Xg9XgjyZ42ArQsiU08dKZ3HJX8u29RTHpDOLwfoXLaseTJpCAIIIIAAAggggECQBEyOtdPt5pxYLI89JvLuuyLffCOyadP2GuTlibRvL9K9u8g//iHOUcfprh33S7eAyWfZ1vF6uk25X2YFCGDMrD93RyCrBKxaEHlvmMiH96bO97ArRI5y7kFCAAEEEEAAAQQQsEbA5KRNphu1aUuRLP3zbyncslWqVq4kjWpXk7zKuZmuFvf/n8CGDRtk2rRpMn/+fNH/X7duXWnSpIl07txZqlWrhhMCRgRMvtOsGq8b0aEQPwrYvCCiOzG2GXlJQsdJ67HRcwc8ws6LfnwoqTMCCCCAAAIIIIBA4ARMjrUziafBi4sXi2zcKJLvHNCy664iGsRICo6AyWfZ5vF6cHqUlhLAyDOAAALGBKxaEHm0k8jyr4y1rVRBuzi7O1687Sg4EgIIIIAAAggggIAdAiYnbexoEbVAAIEgC5h8p1k1Xg9ypwa87bYviKyYuUwWnjBIDlw6TnI9nOhRJDnyWaNTpPn4+6XBvgE8ly3gzzPNRwABBBBAAAEEEPCngMmxtj8FqHW2CJh8lm0fr2dLn9GOigUIYOQJQQABYwLWLIhsKRS5vZFzvttmY20rVVAl5xOWIUtFKvMpS+qQKRkBBBBAAAEEEIhPwOSkTXx3JjcCCCBgXsDkO82a8bp5Jkr0kYBfFkR+nrZQFgx+TOp9/a7suWGGE6YYnX6VuvJSrQvlhPH/kCadOJfNR48gVUUAAQQQQAABBBBAQEyOteFEIJMCJp9lv4zXM+nNvVMvQABj6o25AwKBEbBmQeT3BSIj9029+4CZIju3TP19uAMCCCCAAAIIIICAJwGTkzaebkgmBBBAIIUCJt9p1ozXU+hF0fYL+HFBpOjAgyT388+icMfL8XL+zuNl1SqRnJLRjfZ3AzVEAAEEEEAAAQQQQCDQAibH2oGGpPEZFzD5LPtxvJ7xDqACxgUIYDROSoEIBFfAmgWRlXNEHj4k9R3R/2OR+m1Tfx/ugAACCCCAAAIIIOBJwOSkjacbkgkBBBBIoYDJd5o14/UUelG0/QK+XBA57TSRl1+Owp0pHWQ/mSmLFonsuqv97tQQAQQQQAABBBBAAAEEtguYHGvjikAmBUw+y74cr2cSn3unRIAAxpSwUigCwRSwZkGEHRiD+QDSagQQQAABBBAIvIDJSZvAYwKAAAIZFzD5TrNmvJ5xVSqQSQFfLohccYXIffdFsa2UetJAVsq4cSInn5xJUe6NAAIIIIAAAggggAAC8QqYHGvHe2/yI2BSwOSz7MvxuklMyrJCgABGK7qBSiCQHQLWLIhsKRS5vZFI0ebUwVbKExmyVKSy83cSAggggAACCCCAgBUCJidtrGgQlUAAgUALmHynWTNeD3SP0nhfLogMHy5yzTWlOq+qbJRrbqgqt91GvyKAAAIIIIAAAggggICfBEyOtf3UbuqafQImn2Vfjtezr0sD3yICGAP/CACAgDkBqxZEHu0ksvwrc40rWdIu+4hcPDV15VMyAggggAACCCCAQNwCJidt4r45FyCAAAKGBUy+06warxt2ojj/CPhyQeSFF0T69CmF3EwWyp7HNJOJE/3jT00RQAABBBBAAAEEEEBAxORYG08EMilg8ln25Xg9k/jcOyUCBDCmhJVCEQimgFULIu8NE/nw3tR1xGHOEUJHOfcgIYAAAggggAACCFgjYHLSxppGUREEEAisgMl3mlXj9cD2KA335YLI9OkinZyPZEukQ+VD+aHuobJypUhODn2LAAIIIIAAAggggAACfhEwOdb2S5upZ3YKmHyWfTlez85uDXSrCGAMdPfTeATMCli1ILJ6kcj9zi6JUmy2kW5pzsz0oNkiOzZLQdkUiQACCCCAAAIIIJCogMlJm0TrwHUIIICAKQGT7zSrxuumgCjHdwK+XBBZuFCkRYtS1r3lBXlResuSJSJNmviuK6gwAggggAACCCCAAAKBFTA51g4sIg23QsDks+zL8boVvUAlTAoQwGhSk7IQCLiAdQsiY88RmTfefK+06SVy+hjz5VIiAggggAACCCCAQFICJidtkqoIFyOAAAIGBEy+06wbrxvwoQj/CfhyQaSwUCQ/vxT2lTJC7pUr5bXXRHo500QkBBBAAAEEEEAAAQQQ8IeAybG2P1pMLbNVwOSz7MvxerZ2bIDbRQBjgDufpiNgWsC6BZG1y0RGHSSycY25pubXErn0M5GCXcyVSUkIIIAAAggggAACRgRMTtoYqRCFIIAAAkkImHynWTdeT8KFS/0r4NsFkbp1RX77LQr+HrlCrpJ75KabRG691b99Qs0RQAABBBBAAAEEEAiagMmxdtDsaK9dAiafZd+O1+3qEmqTpAABjEkCcjkCCGwXsHJB5NtxIi+fb66bTn1SpN0p5sqjJAQQQAABBBBAAAFjAiYnbYxVioIQQACBBAVMvtOsHK8n6MJl/hXw7YJIhw4is2dHwY+V0+UMGSs9eoi8+aZ/+4SaI4AAAggggAACCCAQNAGTY+2g2dFeuwRMPsu+Ha/b1SXUJkkBAhiTBORyBBDYLmDtgshnj4pMvDb5rjr2LpEDL06+HEpAAAEEEEAAAQQQSImAyUmblFSQQhFAAIE4BEy+06wdr8fhQVb/C/h2QaRnz1JRih/JIXKYfCQNGogsX+7/vqEFCCCAAAIIIIAAAggERcDkWDsoZrTTTgGTz7Jvx+t2dg21SlCAAMYE4bgMAQRKC1i9IKI7Mb5xRULHSa8pri5z97tFDj7hIrodAQQQQAABBBBAwGIBk5M2FjeTqiGAQEAETL7TrB6vB6Q/aaaIbxdELrlE5FHn49iItEh2leayyP3J0qUiDRvSwwgggAACCCCAAAIIIOAHgYULF8rGjRvdqubl5UnLli39UG3qiEApgQULFsimTZvcn1erVk2aNWuWsJJvx+sJt5gLbRQggNHGXqFOCPhUwPoFkbXOJ/GTBovMHe8IF8dULirOkYlF+8stm/tKl47t5a5T9455DRkQQAABBBBAAAEEMidgMtgnc63gzggggMA2AZPvNOvH63R6IAR8uyDyz3+K3HxzVB9tlspSVQqd2aVcGe9MMx1/fCC6kEYigAACCCCAAAIIIOB7gSVLlsj69evddugYpVWrVpKbm+v7dtGAYAkUFRXJ999/L8XF22IeatSoIU2bNk0Ywbfj9YRbzIU2ChDAaGOvUCcEfCrgmwWR1YtEZjwlsmCyyMpvRYq2lBJ/ZstR8ujWnvJLcT33d812ri5Trunq056h2ggggAACCCCAQDAETAb7BEOMViKAgM0CJt9pvhmv29wh1C1pAd8uiIweLXL++aXaX19WyK9SX4YOFRk2LGkeCkAAAQQQQAABBBBAAIE0CPz666/y+++/h+/UuHFj0TEzCQE/Caxbt05++eWXcJXr1KkjdevWTbgJvh2vJ9xiLrRRgABGG3uFOiHgUwFfLogs+ljkqWNLiZ+56Xr5uKhd1M8/v/5IqVeQ79PeodoIIIAAAggggED2C5gM9sl+LVqIAAK2C5h8p/lyvG57B1G/uAV8uyDyzjsiRx9dqr37yZcyU/Zzd1/UXRhJCCCAAAIIIIAAAgggYL+AHh+tx0iHkh69qzvXsQuj/X1HDbcJ6O6LupPo33//HSZp3ry55OcnHsfg2/E6D0VWCRDAmFXdSWMQyKyALxdE/lolMny3UnDXbb5QXth6RNTPHzyzg/Tcq2Fmkbk7AggggAACCCCAQLkCJoN9YEYAAQQyLWDynebL8XqmO4D7Gxfw7YLI3LkibduW8jhBXpcJcoI0dKaKli41zkWBCCCAAAIIIIAAAgggkAIBPXJXx9ubNm0Kl65BjDvvvLN7DC+BjClAp0gjAhq4qMef6w6ikcGLeXl50qJFC/dI9ESTb8friTaY66wUIIDRym6hUgj4U8CXCyLOf6TK7c5M8+YNUegPb+0ld27uHfWzcw/eVW7tFb0roz97ilojgAACCCCAAALZKWAy2Cc7hWgVAgj4ScDkO82X43U/dRZ19STg2wWRNWtEatcu1cZL5SF5WC51f758uUiDBp4YyIQAAggggAACCCCAAAIZFli7dq3zEVLpr5B0zFKlSpWkAsEy3DRun6UCGni7efNm0b+XTI0aNZKCgoKkWu7b8XpSreZi2wQIYLStR6gPAj4W8O2CyEMHiayaFyX/YdVOcvaaS6J+1rrBDjLp/zr5uIeoOgIIIIAAAgggkN0CJoN9sluK1iGAgB8ETL7TfDte90NHUUfPAr5dENEFIl0M+uuvqLb+S66XG+Vf7s/eeEPkuOM8U5ARAQQQQAABBBBAAAEEMiywxvlQadmyZRmuBbdHIDmBhs6RALVq1UquEOdq347Xk245BdgkQACjTb1BXRDwuYBvF0SeO0Pk+4lR+stqtJVDfr8h6me66/Lsm7pLrepVfN5TVB8BBBBAAAEEEMhOAZPBPtkpRKsQQMBPAibfab4dr/upw6hrTAFfL4i0bi3y3XdRbXxK+sp58pT7s1tvFbnpppgEZEAAAQQQQAABBBBAAAGLBHQnxlWrVkUdJ21R9agKAuUK6LHRdevWTXrnxdANfD1e5znJGgECGLOmK2kIApkX8O2CyMTBIp89EgW4qeqO0mrNQ6VQn+jbUY7cs37msakBAggggAACCCCAQCkBk8E+8CKAAAKZFjD5TvPteD3TncD9jQr4ekHkqKNE3n8/yuM9OVK6yXvuz3r1EnntNaNcFIYAAggggAACCCCAAAJpENAjeQsLC0WDGTdu3ChFRUXuXyQEbBLIzc0V/atatWqiczxVq1Y1etS5r8frNnUUdUlKgADGpPi4GAEEIgV8uyDy6cMik64r1ZltC5+U9cX5UT+/uFMLGdJjTzoeAQQQQAABBBBAwEIBk8E+FjaPKiGAQMAETL7TfDteD1ifZ3tzfb0g0revyJgxUV00T1pLG5nn/qxxY5Gff872HqR9CCCAAAIIIIAAAggggAAC2Sjg6/F6NnZIQNtEAGNAO55mI5AKAd8uiMx/S+SFPqVILi14UN76daeon+/TpLa8dtmhqeCjTAQQQAABBBBAAIEkBUwG+yRZFS5HAAEEkhYw+U7z7Xg9aUUKsEnA1wsiN9wgcvvtUZzrpKYUyLrwz1auFKlXzyZx6oIAAggggAACCCCAAAIIIIBAbAFfj9djN48cPhEggNEnHUU1EfCDgG8XRFbOFXn44FLEz7e4Q4bMbRr188q5OfL1sO5SPa+yH7qEOiKAAAIIIIAAAoESMBnsEyg4GpsSgWHDhsktt9zilt25c2eZMmVKmffxmi+RSj711FNy3nnnuZfuuuuusmjRokSKSfs1Ws/mzZuH77tw4UJp1qxZ2uuR6RuafKf5drye6U7g/kYFfL0gMmqUyGWXlfIokDVOCGOB+/OJE0WOOcYoGYUhgAACCCCAAAIIIIAAAgggkHIBX4/XU67DDdIlQABjuqS5DwIBEPDtgkjhXyL/blSqh+buNUR6fN6+1M//e+GBcuhudQLQozQRAQQQQAABBBDwl4DJYJ+Mt3xLociaX0S2bBSpnC9SyzmbsnLVjFcrExUYMmSI3HHHHeFbf/HFF9KxY8eEq/LAAw/IoEGDwte/88470q1bt4TLK+9Cr4GJXvMlUkECGBNRs+cak+80347X7ekOamJAwNcLIq+/LnLiiaUU2sgc5xDpNu7Pb7tNRDdqJCGAAAIIIIAAAggggAACCCDgJwFfj9f9BE1dKxQggJEHBAEEjAn4ekHkrpYiG36LstjQ4UJp88kRpXwGHbm7XNGtlTE3CkIAAQQQQAABBBAwI2Ay2MdMjeIsZfUikRlPiSz4QER3CS/avL2A3Coi9Z0AiZbOf5/u109kx2ZxFu7f7D/++KO0atVKiouL3Ub0799fRulOWAmmDh06yOzZs92rdVdCfW5yc3MTLK38y7wGJnrNl0gFMx3AmOj92YFxW2+bfKf5eryeyMPPNVYK+HpBZMYMcaLnS7l2k3fkPdkWBH/SSSKvvGIlPZVCAAEEEEAAAQQQQAABBBBAoFwBX4/X6desESCAMWu6koYgkHkBXy+IPH6kyNIvoxFbHSNHLOsvP/22PurnB7fYWZ6/6KDMg1MDBBBAAAEEEEAAgSgBj2ef5wAAIABJREFUk8E+aaVdu8w5d3KwyLwJzm23BelVnHJE2pzgnFN5p0jBLrEyZ8Xvu3TpIlOnTnXbUrt2bVm+fLnk5zs7U8aZZs6cKfvtt1/4Kg0eHDp0aJyleMvuNTDRaz5vd43OlWgAYSL3KuuaRO9PAOM2TZPvNF+P1009kJSTcQFfL4isWCGyS+k/c8+TJ+UpOc+1dWLiZdGijDNTAQQQQAABBBBAAAEEEEAAAQTiEvD1eD2ulpLZZgECGG3uHeqGQJwCGzZskGnTpsmsWbPcv3RxThc8dKeS3r17ywsvvBBnifFl9/WCyMvni3w7LrrBdVvL4PqPy9gvf476eZVKOfJK/0OlZn5laVg7X6pWrhQfFLkRQAABBBBAAAEEUiJgMtgnJRUsq1D9b9A3rhDZuCb+W+bXEul5r0i7U+K/1mdXPPPMM3LuueeGa/3f//5XzjzzzLhbcfnll8tDDz3kXqe7Luozo7swpiKlMjDRa30TDSD0Wn6sfJm+f6z62f57k+80X4/Xbe8o6udZwNcLIkVFIlWrimzZEtXeG+Wf8i+5Mfyz35zDPXbe2TMJGRFAAAEEEEAAAQQQQAABBBDIuICvx+sZ16MCpgQIYDQlSTkIWCAwZcoU6dq1a5k1IYAxRge9f6vI9BHRmapUl3FHfy5Xvfx1uRdrMOMeDXaQw3evK2ce0FSa7FTdgieBKiCAAAIIIIAAAsEUMBnskxbBTx8RmeTsvJhsOvYukQMvTrYUq6//+++/nY2vdpE1a7YFeh511FHy7rvvxlXnwsJCt4zVq1e713Xv3l3efvvtuMqIJzMBjCIEMMbzxJTOa/KdRgBjcn3B1WYEfL8gogHvS5ZEYTwiF0t/cf48/1/SP1acP15ICCCAAAIIIIAAAggggAACCPhGwPfjdd9IU9GKBAhg5PlAIIsENIDx5JNPlr333ls6dOjg/nXPPffI7Nmz2YExVj/PeFpkwsBSuQY0elEmLIj+ur68onKck/yObddAhh7fVuoXxH+cXawq8nsEEEAAAQQQQACBigVMBvuk3Fp3XtRdwE2lU5/M+p0YL730Unn44YddMZ1UW7hwYVy7J+qO9H369AmLjx07Vk4//XRTPVCqHAIYCWBM9uEy+U4jgDHZ3uB6EwK+XxA59FCRjz+OopggPeUEmRD+2e23iwwZYkKLMhBAAAEEEEAAAQQQQAABBBBIj0Amx+v60flHH30kGuuiJ4zOnTtXVq1aJfrzWrVqSePGjeXAAw+Uk046yf0gPbKuXnWWLl0qzz77rIwfP14WLVokvznHJ9SpU0eaNWsmJ5xwgpx99tnSqFEjr8WRL0UCBDCmCJZiEciEwNatW6VSpejjjLt06SJTp04lgDFWh/w0VWTMCaVynVw4TGYWt4p1ddTvC5yjpf91Uns5fu+GcV1HZgQQQAABBBBAAIHkBEwG+yRXkxhXr10mMuqgxI6NLq9oPU760s9ECnZJadUzWfiMGTOkY8eO4SpogODQoUM9V0knuEK7Nu7snO+pE1dV9ThQJ23evNmdJNO/vvzyS/nuu+/ciaxNmzZJ7dq13QmsQw45RE477TTRMZaX5DWA0Wu+yHv+8ccf8vjjj8urr74qCxYskL/++ksaNmwo7dq1cyfc9MM2HRvGswNikXM86sdOYM7kyZPls88+cw1WrlwpuvtlQUGBNGjQQA466CDp1auXHH/88RVOFobGoV6cNE/fvn3duoaSTiQ2b948/M8arKoTirHSnDlz5LnnnpP33ntPFi9eLOqkddf+69y5sxuwethhh8Uqxp3ILOv+GzdulBdffFH0CPN58+a5Plp+q1atpGfPnqJHlGugoKlk8p1GAKOpXqGcZAQyuSCSTL3D12rQ+0svRRU1S/aRfWVW+Gennloqi5FbUwgCCCCAAAIIIIAAAggggAACqRLIxHhd59WuuOIKeeONN2TdunWemta2bVt54okn3IBGr+mRRx6Rq6++WtavX1/uJTVr1pThw4fLxRdn9ylHXs0ylY8AxkzJc18E0iRAAKNH6NWLRO7fu1TmgZsuk/FFzhf2CaRhx7eRfoduX3RLoAguQQABBBBAAAEEEIhDwGSwTxy3jT/r2HNE5o2P/7pYV7TpJXL6mFi5fP37ffbZR7766iu3DRrQpn3u5avbJc6RnxqQpkF6mgYNGiT33Xef+/91kuzcc88NHy0dC0jHWBokp8dRV5S8BiZ6zRe611tvvSXnn3++GzxXXtIgveeff94N5DvvvPPcbLs6R59qYF5ZSYM29Wvj5cuXx2q++/u99trLDeTbY489ysyf7gBGDbIcOHCgPPnkk+E+Lq8hxx13nPznP/9xAzLLS2UFMGqQqO7g+e2335Z7nT4Tb775pnsagolk8p1GAKOJHqGMZAUysSCSbJ2jrr/ySpF774360a9SV+rLr+Gfaey180cTCQEEEEAAAQQQQAABBBBAAAHfCGRivK7zkfvvv38pI51f010XdS5rxYoVMn/+/Kj5vsqVK4uerKMfcMdKt956a6kP4HfbbTf3Y2f9uP3HH3+MKuKf//yn3HjjjbGK5fcpEiCAMUWwFIuALQIEMHrsia3OMdG31RMp3hp1wfDNp8mDW0/yWEjpbCP7dGAnxoT1uBABBBBAAAEEEIhPwGSwT3x3jiO3++HMPs4FxXFc5DVrjhOZN1tkx2ZeL/BdvpEjR7qBaqH0/vvvyxFHHBGzHSUnq77++mtp3769e92DDz4oAwYMCJehk2MtW7Z0d14sLi52AwV/+OEH0R3vQ6lp06aiO0LqUSPlJa+BiV7z6X0mTJggp5xyirtjZCjpUSqtW7eWKlWquLsm6hErmvbcc0+57LLL3F0BNVUUwKhBnLqrYihVq1ZNdt99d9dAJwW1TJ0sLHnfzz//3N19sGS69tprRY11IjAU8Jefn+/uglhW6tatm1x11VXhX8WzA+PatWvlmGOOkU8++SSqaK2XTkb+/vvvojszRvafBrNqcGeLFi3KrE/J+7/99ttyxhlnhINc9bomTZq4R9loOzds2BAuR3f31KNu6tVzxpdJJpPvNAIYk+wMLjcikIkFESMVDxUyYoQ42zaUKrKqbJRNsm1HX03Oa0d22snonSkMAQQQQAABBBBAAAEEEEAAgZQJZGK8HhnAqDsq9uvXz53jK3kKiwYx/utf/5KHHnrInavVlJeX587JlfdxtebR46L1JJlQatOmjYwZM0b222+/8M90flc/bNe5vFB6/fXX3Q+9SekXIIAx/ebW3zEdZ8xbjxBRQd2udvbs2e7i1MyZM92/66JQaPGjokUgr+3URZ1nn33WfYnqQokeVaYLYfpy1pejHgGmCy+JJAIYvattuae9VF67JOqCsVu6yOAtF3kvpEROPU763Ss7S/2C/ITL4EIEEEAAAQQQQAABbwImg3283TGBXO8NE/kwevemBEop/5LDrhA5yrlHlqbVq1e7RyXrUb6azjrrLHcsVVHSiS0NSNRjiDXpl70aeBdKGsCoO/fpMcbHHnusG7hXcldHDYLTI5v1K9xQsJoGEr788svl3tprYKLXfDpu1GNS1qxZ496zRo0acvfdd7u7MYaOwtYdJl977TU3aFF3U6xbt244oDFWAOOVzs5iultjjx493ODO3NzcqLbpDoR6dPINN9zgBgVq0iO9v/jii3IN4jnCOrKQeAIY9RnQHTFD6eijj5YHHnggKrBSg1D162ndeTGUdLJSgx418LNkKnl/HZ/rOF3H53feeacbMBpKuvuj9uFdd90V/pkeN6PH0ySbTL7TCGBMtje43oRAJhZETNQ7XIazw4MTzVyqyObykzgHz4d/7sRHy5FHGr0zhSGAAAIIIIAAAggggAACCCCQMoFMjNc19kY/Or/55ptl3333jdm2kh+2VzQ3qx9ha8BiaIdF3dFRT/XZqYyvDf/44w/3tBmde9Wkc8Ma0KgfdZPSK0AAY3q9rb5bus6YtxqhROU0Ylt32ghFcpdV92QDGHVR42rn6+3169eXS1OzZk0ZPny46CJIvIkARu9i8+/sIq3/nhV1wSdb20ifzcltE9yjfQMZddb2SH7vNSInAggggAACCCCAQDwCCQX7FK4T+XV+PLdJLu9r/Z2tmX5IroyKrq7j7IbXa1Tqyo8suZ4TxFV1h/TcK+IuZ555pns8sibdKVAD9XQXwvKS7tJ41FFHhX+tY7DIsZUG5umYy0uaPn26dO3a1f2gTSf2dFfCsnYg1LK8BiZ6zRfZ7kqVKsk777xT7u6T33//vRx88MGiE3ChVNHYVYMy1dLLcdz6QZ8GgerHfprefffdKN9Ix1QHMOouirp7Yyjp0TEvvfRSqeDL0O+vv/56+fe//x3Of88998gVVzhBvyVSyQBG/fVFF13kBiWWZ6TBn9peTfo8/frrr65pMimhd1o5NySAMZme4FpTAplYEDFVd7ecDz8UOfzwUkUeJtPlIzks/HMnzlmcjWhJCCCAAAIIIIAAAggggAACCPhCwC/jdd2pMfRhup72oh9ZV69evZTxM8884+6sGEovvviinHbaaeX2hf6+d+/e4d/r9brJGCm9AgQwptfb6rul44x5qwHKqJyXxZtkAhhLHmOmVdhtt93c3RY1wjsUER6qmu72obtGxJMIYPSm9fMfG+Sje8+UMypNjrrgl+I6cljhA94KKSeXs64p067pKk12Kv2HZ1IFczECCCCAAAIIIIBAlEBCwT4/O7vHPbE9uA3SOAQucLaYarJ/HBeYyVoyIPHhhx+WSy65pNzCI3fo0wktDXgsKChIuDKRgYS6G58el1xW8hqY6CWffnCoRxaHjnDWHRb1q+OK0qOPPhrlkszYteR9IgMB+/fvL6NGlR00m+oARj32Wo+/1qRHN2vgZllfUofqr4Gn+kW3HjGjSY+S1nF3yd0mSwYwqp0GboZ2uizLXX8fuTPjxx9/7AaRJpMSeqeVc0MCGJPpCa41JeCXBZFy2+ucmuK8OEr9+gx5XsbK9p0ZTz9dRDdrJCGAAAIIIIAAAggggAACCCDgBwG/jNf1KOnIeJk5c+a4Oy2WTJFzhnqaz+LFiyvcUXHLli2i83/Lli1zi9JTWPQoaVJ6BQhgTK+31XdL9RnzVje+nMqFXtR6NNfee+/tLnToMVNjnVnISZMmuVclugikx0X36tUrfGd9sY4ZM8YtP5T0uGqNDNctakNJX5T6wvSaCGD0JnXnpPmSM32EXFvlxagLthbnyB6FT8sWSW6L4P5dWsrgY7YfM+atVuRCAAEEEEAAAQQQiEcgoWAfAhjjIY7Om6EAxpJHQh9wwAHy2WefldkOPW55l112ET3mV5OOr55++unE2+xcqUdODxgwwC1Dd/wbN25cmeV5CUzUC73k0+OrdQfAUNJAPT3OpKJUWFgoDRo0kD///NPNlujYtax7aNCgTgRq0nGyjl3LSqkMYNQ+1UBUnWDUpCcb6JHasVJknTSvzoVEjsP1ZyUDGG+77Tb36OxYSb012FST9tmFF14Y65IKf5/QO62cEglgTKoruNiQgF8WRMpt7qZNzs7DVUv9+ioZLvfIVeGft2wpTnC0ITSKQQABBBBAAAEEEEAAAQQQQCDFAn4Zr+vpKPoxdSh98sknctBBB0Xp6JzhjjvuKDo3qun888+XJ554Iqag5hs9erSbT3d3XL16tft3UvoECGBMn7X1d0rlGfPxNH6TMxmoL5WKjgCLVZ4e1VSvXr1Y2WL+/r///a+7GKNHSUfuyNCvX7/wolcii0C6a4YGLIZ2WGzcuLF89dVXZe4UoUd+7bXXXu6OjJp0kUoDGitX9hZQRwBjzG52M/QcOV2aL58kI/MeLHVBp8J7ZUlxfW8FlZOrfaNaMmHA9uOEkiqMixFAAAEEEEAAAQTKFEgo2IcAxsSfpgwFMGqFdXf6m2++OVz3b7/9Vtq2bVuqLbo746WXXhr++bRp05zTP0sf/xnKoOMvPRJZx2e//PKLrF271p3s0qDJUNKxmd5PU0XBk14CE7UML/kuuOACefLJJ9176phQAxi9pFNPPTUcYOl17KpHauvRzLNnz5aFCxe6R0XrGD3SQJ2++MLZvdRJOvYOBe2VrFMqAxi1Lzt37hy+5dSpU6VTp04xWXTyMXKXxgceeCAckBq6uGQA45QpU6LuVd5N9GhtDYjUpMGUGlSZTEronVbODQlgTKYnuNaUgF8WRCpsr843rloVleVe+T+5Uu6N+pnzqpHatU3JUQ4CCCCAAAIIIIAAAggggAACqRPwy3j9uuuuEz0RJ5QWLFggLVq0iILRuKfIj5U1eFGDE2MlzRf5MbKW06FDh1iX8XuDAgQwGsQMYlFez5j3aqPBi6eccop7pJcuGmlkdLzppptuEj0qa/LkyWUuYMVbXln5kw1gfOaZZ9ydP0LpxRdflNNOO63cqunve/fuHf69Xn/22Wd7agoBjLGZCrdslXZD35a2RT/Ia1W3L4KGrjxr0xD5qKh97IIqyJFXKVe+veVoyaucm1Q5XIwAAggggAACCCBQvkBCwT4EMCb+SGUwgFGDCzUgr6ioyK3/lVdeKSNGjCjVlsiAsooC/37++WcZPHiwvPzyy+Fjmr3AtGrVyj1auKzkJTBRr/OST4MuP/zwQ/c2Fe36WLIet956qwwdOtT9cawARg1K1PG0Bh1u2LDBS/PdPHl5eeEvmktelMoAxpKTirrTpNcPIdViyZIlbnUHDhwo999/f1TVSwYwzp8/3/2wMVYKjb9D/Rqyj3Vdeb9P6J1WTmEEMCbaC1xnUsAvCyIVttn50FlmzYrK4szqSW+JPtHjP/8RJ6hapGnTMjdtNMlKWQgggAACCCCAAAIIIIAAAggkJeCH8bp+XK3zuxq0qElP3dEPzSPrrj8vGYsT64P2EFzJj6WfffZZOeuss5Jy5eL4BAhgjM+L3CUEvJ4x7xXupJNOktdee83NrtHMGsS48847e71chgwZInfccYebX3eB+PTTT6V58+aer/eaMdkARj1qS4/c0tSwYUNZvHhxhTsq6pFYusCybNky9xo9QlqPkvaSCGCMrbTwt/XSdfgU2VnWyIz87VsOh64csvkCeX7rkbELipFj8tVdpHmdGkmXQwEIIIAAAggggAACZQskFOxDAGPij1MGAxi10j169JCJEyeGx38a1FilSpVwe3SXxPbtt3+IpGNFDVIsmfT4427durnHgsSbKgoK9BKYqPfzkq9du3YyZ84ct3r/+Mc/5LHHHvNU1Yceekguv/xyN29FddWdFrt27eqOTRNJkbszRl6fygDG4cOHyzXXXOPeTvtdP4j0mjp27Bg+9vqcc86RMWPGRF1aMoBRfZo1axaz+MgARg1e1L5NJiX0TivnhgQwJtMTXGtKwA8LIjHb6szpOZN6Udk+loPlUPm4zEv1jyX9o6h7d5GLLhJnnjLmHciAAAIIIIAAAggggAACCCCAQFoF/DBe19NTIzf50pNP9ASUkqnkyT06z6fzorGSzotGzv9pOTfeeGOsy/i9QQECGA1iBrEoL2fMx+Py3HPPuTsTbt261b1Mj05+//33pU6dOjGLufbaa6NeULorxQsvvBC1gBWzEI8Zkglg1KO3dGdJPYZMk25XqztHxEqab/To0W62/Px8d3FN/x4rEcAYS0hk/oq1csx9052MxTKn6vlSI2db34TSqC0nyF1bzohdUIwck/7vcGndoCDpcigAAQQQQAABBBBAoGyBhIJ9CteJ/Do/faSvOR/M/P5D6u5Xp5VIr1GpKz+y5HqtnW2ldkjPvcq4y7hx40SPSA6lV199VU488cTwP19xxRVy3333uf9cuXJld8c9/TI3MulOg61btxbdgTGU7/TTT5fjjjvOHY/qB2fVq1ePGnt5DcrzEpio9/SST78u/vHHH906XnbZZfLggw96cv+PswWYBjxqKi+AUXex1NMVQkcf64Rlz549RT8w3GeffaRx48ZSs2ZN1yA0malHKmvAYyhlIoAx8oPKGjVqiB597TUdeqgTavTxtmAjPQ1BTz2ITAQwepUkHwLxCfhhQSRmi/o7f44/8khUtsXSVJpJ7ABw5/XqnDwjzq6v+kFzzDuRAQEEEEAAAQQQQAABBBBAAIG0CESO13Ue0GvSDcauv/56r9kTzqcfrus85e+//+6WUbt2bXcnxp122qlUmfrBs374HEpeT23RfJEnxGr8UeRx1QlXngs9CxDA6JmKjGUJeDljPl65559/XnQHhFAQo+6YoUGMdevWLbcoPS7s3nvvDf9eF7G0HF2kSkVKJoBx5syZst9++4WrpcGLGpwYK5U8HkvL0V0qYyUCGGMJiYR2YNSck/IGS+vcbYuXofTG1oPk8s0DYxcUIwc7MCZNSAEIIIAAAggggECFAgkFMKbb9L1hIh9uH7sYv/1hV4gc5dwjAGnz5s3SqFEjWbVqldta3el+/Pjx7v/X3fj0d7/99pv7z+XtYh+5Q6GOH/UUAB1DVZQeeOABGTRokJslXTswRu4YqB/9Pf300556+J577pGrrrqqwrq++eabbsBiKOkxK5FfM5d1I3Xu1atX+FeZCGCM7DudZNXnoVKlSp5cdJ5Bd+jUVNaOlgQwemIkEwJxC2RFAONtt4ncdFNU2zdLZakqhc5nsbmeTJx1FjcGsndvT9nJhAACCCCAAAIIIIAAAggggEBKBUoew+z1ZiZOIIl1L/0AXedrv/jii3DWsWPHin6EXlbq73x4qBuxhZJuLJaXlxfrNu4GZJEbiGk5o0alaaOAmLULRgYCGIPRzylppdcz5hO5ue6cqAsmoSDGNm3ayAcffCD169cvVdzAgQNl5MiR4Z/r7gm6k2Oqghf1RskEMOpikC44hdK0adPk8MMPj8mk+Tp37hzO9+yzz8pZZ51V6jrdmTHkpr/URSXdWUJ3z4g8ZkyP2KpVq1bM+8aTwa9HUhVu2Srthr4tm7cWy+NVRki3SjOimj27qIWcuMmZoE4i5VXKlW9vOVryKnubzE7iVlyKAAIIIIAAAggEVsAXAYyrFzlbL+3j9FFxCvrJ2dpp0GyRHZuloGw7i9SjQkaMGOFWTseAupNigwYN5OWXX3Z31gul119/3Q1iLJk0cE8D+DR5DQyM/Io3XQGMuiPkW2+95dZTx486PvSS9PhoDfTTVF5dI/N06tRJpk6dGrPoyOBBzZyJAMaXXnopaqLy+++/F92pMlbSHScLCgpk/fr1btYbbrhBbtOApIhEAGMsRX6PQGICWRHA+NRTIuedVwqggSyXldIgLhgnHl4GDIjrEjIjgAACCCCAAAIIIIAAAgggYFzA1h0Yt2zZInry6oQJE8JtjnU6zYUXXhh1AqrGzuTmxo7R0DnDyI+jtZzHH3/cuDUFli9AACNPR8ICXs+YT/QGGjWtQYz6UtK05557ukGMuhilSRdIdKElMuq5t/Ppsgb2pTJ4Ue+dTADjP//5T7n55pvDLLowogtJsdLixYulWbNm4Wxazo033ljqMs2jeWMlDYbUY78SSb/++muZl7Vo0cJdBNJthdetc47i81HqOXK6fLt0rdxceYycX3lSVM3/KK4p+xY+llRr2jeqJRMGHJZUGVyMAAIIIIAAAgggULGALwIYtQljzxGZt22nQKOpjbMj3uljjBZpe2Hz5s0T/eAtlPRYDz3eo0ePHjJx4kT3xzqG1MDGssaJkTvx6bHMOgEWKx188MHy6aefutnSFcCoY0gdA2rS8ZbuLFm1atVYVZXInRvLq6vuXPnGG2+4ZWlA6N133x2z3D59+oh+eBhK5QUwjhkzRvr27etma9q0qaexqub1EkCo/763bNkyXAc92jt0r4oaMGvWLNl3333DWUoePe71/mXdI3QCgv7OxBfoJt9pfv3gMObDSAZfCWRDAOOUG5ydem/vXsq9o3whM6Rj3P2hr1J2YoybjQsQQAABBBBAAAEEEEAAAQQMCtg4XteAQt3QK3IOUndd1M3MKjqFRU/O0RN0QknjV6pXrx5TKxTnEsqo5dx3330xryODOQECGM1ZBqqkeM6YTwZGd1Q488wzw0GMe+yxhxvEuMsuu8gll1wStaOgLqDo7oZej4xKpl7JBDBG7tahdfjzzz897YSo+XbcccdwtXVRThfnSqZ0BDDG2kLYjwGMd06aLw9PWSD9Kk2SYVVKL/q23fiErJdqCT82/bu0lMHHtE74ei5EAAEEEEAAAQQQiC1gMtgn9t2SyLF2mciog0Q2rkmikBKX5ju7q1/6mUjBLubK9ElJhxxyiHzyySdubVu3bi3vvfeeG1gY2pl+8ODBcscdd5TZGs3/3Xffub/zEsCoxw5r0GMopSuAUcfBRx55ZPi+OlY+9dRTK+yh+fPnux8CxqrrMcccI2+//babzUsAowZPNmnSRDZu3Bguu7wAxldeeUVOOeUUN1/dunWlvI/hSjbESwCjXqNBkRqcqumII46Q999/P+ZTGzmJqUGty5Ytc+sWmbzev+TNCGCMyU+GgAvYuCAST5csXSpy8p7z5LN12wPnQ9f3ktdkvDgfEsSZ9DjpOXNEGjaM80KyI4AAAggggAACCCCAAAIIIGBIwLbxugYvakyOxv+Eks4xajBjrM3M9LSV22+/PXzdqlWrpE6dOjGlNF+9evXC+XQzsdAH5TEvJoMRAQIYjTAGq5B4z5hPVkeP/tLgxNBOjHok1AEHHCC6A2QoaZCj7uyQjuBFvWcyAYz9+/eXRx55JFz3wsJCycvLi8mk+fLz88P5tJzI3SdjFmAwQzYGMP78xwbpdPdkOSJnhjyRt+0Iush0TOEdMr+4aUKKOc5JftOu6SpNdood2Z/QDbgIAQQQQAABBBBAwBXwTQCjVvbbcSIvn2+u5059UqTdtkCxoKUnnnhC9EiPUNIdBSOPFdEAxVatWpXJokFvkydPdn+nR06/+OKL5fJpQGTXrl1l+vTp4TzpCmDLEqOJAAAgAElEQVTUAMHddtvNfcY1aeDl7NmzK9yFMXJnRb2mvLqef/75Mnr0aLfc/fffXz7//PMKHyEdfz///PNRecoLYNTAUg0wDaXVq1dLbY3WiZG8BhDq0c833XRTuLTx48eLtru8pEGde++9t2zatMnNol9t6+kPJZPX+5e8jgDGWD0b3N/rnM5HH33knoQxc+ZMmTt3rujEuP68Vq1a0rhxYznwwAPlpJNOku7du0useZeyJJc60XV6Kon+e6DPsAYb6wS9fuh6wgknuKecNGrUKKOdYNuCSLwYGjf+zri1slacjwZKpEvlIXlYLo23SDe/luvEpZMQQAABBBBAAAEEEEAAAQQQyIiATeN1DV684IILRE9bCSWdL9E5vCpVqsT00V0Tr7jiinC+r7/+OuqD9PIK0Hw6bxhKWo5+CE1KnwABjOmzzoo7JXLGvImGjxs3Ts4444xwEGNkmToBqy+vdAUv6r2TCWDUhTVdYAslXQTLzc2NyaQv6sg2ajmPP/54zOtSkSEbj5BWp/7PzpAFc76Qd6oOLsV20aYr5J2i/RPi7NG+gYw6a7+EruUiBBBAAAEEEEAAAe8Cvgpg1GZ99qjIxGu9N7C8nMfeJXLgxcmX49MS/vrrL3eXfv17yXT44YfLtGnTym1ZZACcjsv0OGEN9CmZtOzzzjtP9AO7yJSuAEa9pwYZarBhKOnEnQYrlTwCRceYuuvkiBHRH2aVV1ct45xznGPN/5dGjhwpl19+eSkDDfrTHRr19yVTeQGMevSKniSwefNm95Lrr79e1DxWcJbXAMLff//dPUI8NEYtKCiQt956Sw499NBSdVywYIF069ZNFi5c6P5OJzy/+OKLqInJ0EVe71/yJgQw+vQlksJqr1y50p0012Pa161b5+lObdu2deeNNKDRa9IPZfXfT/13rrykp2UMHz5cLr44c39e2LQg4tU2lE9fHXpqvRNPLmukwPlfdH/eLkPE2eMh3mLd/Prhq/OKkubNE7qcixBAAAEEEEAAAQQQQAABBBBISsCW8brGxGgcTOhja23UiSee6H507iV4UfNPmjRJjj322LCHfujes2fPmD6aL3JeWE+s0Y9MSekTIIAxfda+v1OiZ8ybargekaW7I0Qm/Wfd+cFLAKCpemg5yQQwRh5XpWXp5HLJBaey6qr5dLI5lLQcjfq2Ke2www7uoqEfj5BWxxVrNkqve9+Wz+TcUqz/3Hy2PLG1R9zcBfmV5d0rO0v9gu27Z8ZdCBcggAACCCCAAAIIeBLwXQCjtkp3YnzD+SI0keOk9djonvcGdufFyIei5Idiod/px259+/Yt9/nRHdBaOhEpocAiHVueddZZ7mRVgwYN5M8//5RPP/1UnnzySVm+fLk7UXbuueeGP0pLZwCjNqJHjx4yceLEcHuaO9EuF110kXTo0ME9PmXevHluXWfNmuWOk3v37h3eLbG8uuoOcHvssYcsXrw4XK62X8fbekSzjvG0PJ04/PHHH908l1xySdTJAuUFMGpe/RgxcpfDhs45qRqgFTkO1p0wBw4cGL5/PAGEGrCouy7qnIUmbbee4qA/08DWP/74wz1aWl30RIlQuvvuu92Ar7JSPPePvP7/2bsTeJuq/o/jX2OmzENImTMmw1MaDCkiqcySolBUmhN/Mg9JsxIiUxmSnoSnUgqpHhWJSpKxSIaEZHb/e52ee9zt4Jxzz7j3/uxez8u/fddew/t33P5rr99ZiwTGkH5Ve6rQ119/7dvZ9NTLfDbNrovmPcr27dtldgdN/Qybsubvs/l706JFi6BegwYNUv/+/W3lzI6tZrdFsytj6t/b1ALm+CNzDFIirmRZEEnP2Hv3lp588p8nf1BF658fbdVMtt4lddLk9FTte6ZXL2n48HQ/zoMIIIAAAggggAACCCCAAAIIpFsgGebr0UheNAC//PKL751m6jVw4ED169cvqI0pN2DAAH85U495d8MVPwESGONn7eiWIjljPhoDNztImKRBszNE2sss1pjjvsxCTDyvSBIY+/Sxvo897OQ3ss2CmTnSJ9hlyhUuXNhfzLxsNi+dk+lyegKjsZz77TbVfvsyFcqwz0Y76VgjDTjWKWzuUbdUV7NqxcJ+jgcQQAABBBBAAAEEwhdwZAKjGea+36yvhlq7gP/wrvUv1tZOQS9rq6ZK1i6BjUdIuYsGLe2FAqceVWzGbHbjM0mHwb4wNmfOHOv4zlan3fE/rZ1JXjS7nJkEObMbo7nincBokglNEmPaY6xPF1/z0vFJK9PGzCFD6as5Nvqaa6457S6Waes39ZoXeXXr1vUdp516nS2Bcdu2bTI7YaYef326/pok07THwoSbQGhObTCJpyYZM9hlxmDm5L1MttAZrnDbT62GBMZg+t77edoERrOjonmf1LhxY9+xzmkvk8Q4dOhQvfzyy9YOf//8dyBr1qwyxxeZBOMzXea46Jtuusn/Y7Mj6ZQpU1Sz5slTIJYvX+5LvDbHVqde5vfe6XabjXWEkmFBJL1jNKTW6d++a4EaWv98ZKtqoRroWi1Mb/VWzCQr35ULAQQQQAABBBBAAAEEEEAAgbgLJHq+Hq3kxVQ488VOcxqLucwXp82Xm4NdppzJPTKXeX7dunXBHuHnURYggTHKoG6sLtIz5iM1McmL5kXrtGnT/FWZo5TNfXOZBSPzi8QkM8briiSB0eyaaI4PSr3My+iqVasG7bopV61aNX85U4/ZhTGZLjckMBrPHc/VUeG9q2y0C49XV+ejj4XFPaBZJXW6Mn6fy7A6R2EEEEAAAQQQQMCFAo5NYEyNxZ5N0vJJ1jmS1ouSHVaiyfEjJ6OUKatUuJJ1fmUDqaa1o2C+ki6MYGRDMrv6pU3QMTsTjh1rHdMdwrV06VL16NFDK1euDChtXuBdfvnlvh3wzU5qJtEulKRAk+hnvrlrrnr16mnRokWn7Umo5VIfNscxjxgxQmYHwX377F+8MmVMspM5Prpp06Yh99U8Z+y6d+9+xiO3L774Yj311FO67rrrfGMJNYHR1G12uDQ7IM6fP9/XjtkV8eDBg36PSBMYTUVmlznzRT9zDLg57vrUyySemgRDk7wY7GheEhhD+EtDkZAEVlgZb2aHRPNN/xo1agR9xhzRnnY30pYtWwYcXZ/2d4FJWEzdYdHsCvDtt98qf/78Ae2Yv3Pm77DZkdFc5cqV8/1dNDs9xvNK9IJIesdqcqOtzTJl/fr1XROtvRZP3W3xR10UsCtjOO1Z+arW70qTuBrOU5RFAAEEEEAAAQQQQAABBBBAIHKBRM7XzRc5O3fubDs2unnz5r6TKUI9NvpUgZ49e/renZrLvBPcuHGjbVfGU8tv2bLFl2+UejqGed68f+WKrwAJjPH1dlxr0c50Dhfg2LFj6tChg+24qYcffth3Rr35X+rxT2YL2I8//th39Fc8rkgSGN9//301adLE3825c+f6xhLsMuXSfjv+gw8+UKNGjYI9FtefuyWBUW91to7ye8tmt+5EcTU88s9/5IJd5tjooc2rsvNiMCh+jgACCCCAAAIIRFnA8QmMaT2OWQlYe3+Rjh2yzhLNJuUpYf1JVkOUPzIB1Znkn2XLlmnXrl3KmTOn7wji2rVrn/UFV6z7dKb6zW6DZh5skpcOHDjg62uVKlVsO6+lp28//fSTPvvsM/3+++++HeBMvSbx6my7wKWnnVg9Y3apXLx4scyLxz179viO6DXHVptdIwsVKhSrZmNSbzR/p7lmvh4T6eSq1CTYml1RzZUtWzbt3r37tDvJTp061feF39TrzTffVOvWrc84GPNzc6x86mWeN+/c4nklckEkknGaTRfKlz9Zg3UIt/XPUFuVfymnzpWVgShrl+R0XtavXyu5NJ0P8xgCCCCAAAIIIIAAAggggAAC6RRI1HzdJC927dpVEyZM8Pe8RYsWmjFjRrqTF01Fa9as8W0ilropWpcuXfTqq6+eUcf8PLUPZjO11atXq2LFiunU5LH0CpDAmF45DzyXDMmL7du316xZs/zajz32mG/HB3MtWbLEt6OEWZwwl/mmudmJ0WznGusrkgTGX375xbb4ZXbkMN/ED3aZcmZnjtTL1GPGnEyXaxZEFlpHc3/6tI32UEoWVTg8ybp35hfR1sYsalLlPPVvVllFcluLzFwIIIAAAggggAACcRWIZrJPXDtOYwgggMBpBKL5O80183UPfFLMUdJmN9HU6/vvv5fZafHUq1mzZpo3b57vtknS3bx581l3VDRfEjanmJhj3c1lviRrjpKO55WoBZFIx2itW1g7WJ6spZtesf65J6DaPPpT+5Qn3c1Zh69YCyzpfpwHEUAAAQQQQAABBBBAAAEEEEiXQCLm6yZ5sVu3bho3bpy/z+YkCpO8GI0TI8yujuZEmNTLtGOSJU+9zP27777bf9s8N378+HQ58lBkAiQwRubn2qcTnbxojsS65ZZbNHv2bL9xr169NHz4cJu5OebL7GaYmsRoXtiaJMbyab8WHYMoRZLAaLpjkizXr1/v61mDBg20cOHCoL005czYUp9fZ77+nWSXaxZEVkyR3u0RoHt7vqlauj2TTqTYf5TJyly8u15p3XLpBSqRP0eSRYXuIIAAAggggAAC3hGIZrKPd9QYKQIIJKtANH+nuWa+nqzBimK/xowZ4zvOPfX64osvfDvBpr3MEez58uWT2YnVXHfeeadtt4IzdceUmzhxou/HZndHs0up+TNeVyIWRKIxtlN3YGymd61/bgqourK+0w+qnO4m2YEx3XQ8iAACCCCAAAIIIIAAAgggEIFAIubrp54UYfpgcmLCSV585JFH1LBhw9OO3JywY96npOblmELmy6Dt2rXzfRHUfMHTJEuak1BTL5PHY97DFCxYMAJNHk2vAAmM6ZVz8XOxOGM+HC6TvNimTRu98847/sf69OmjIUOGnLaazz//3JfEuG/fPt/PzfFW5hitChUqhNNsWGUjTWDs2bOnRo785zjijBkzauPGjWc9kswcfVWqVCmZxFJzmedHjBgRVp/jUdg1CyIbFktTbgwku3OBxm0qpGH/WRPws5+GNFHWzBnjwUwbCCCAAAIIIIAAAmcQiGayD8gIIIBAogWi+TvNNfP1RAclDu2bL/CmfedjXrSXLl3a1vKKFStsx8WbY45McmKwy5QzxyKlXqae6tWrB3ssaj9PxIJINDpv8kSt0+hlvbL0XdW1wvqnZkDVjfSBPlSjdDWZNau03zqB2vzJhQACCCCAAAIIIIAAAggggEA8BRIxX580aZLuuOOOiIZpvqRpcnfOdJlNwa677jpfPk6wy+TjLFiwIC4nvgbri1d/TgKjVyN/hnHH6oz5UJmPHDmi1q1b69133/U/8sQTT2jQoEFnrWLZsmW+Xzx79+71lStSpIgvifF0R+yE2pezlYs0gXHNmjXWkTBVdfz4cV8z5uXxq6++esYmzc/NS2ZzZcqUSauts2sqVqwYjaFEtQ7XLIjs2Sy9kOZsoFSlFq9qzokr9cCMlQFuy/7vGo6NjuqnicoQQAABBBBAAIHwBaKZ7BN+6zyBAAIIRFcgmr/TXDNfjy5x0tVm3suVK1fOvzuA+ZLu1q1blXYhwXR66tSpuv322/39X7JkierUqRN0PKZcvXr1/OVef/113XrrrUGfi1aBRCyIRKvvNa18RSvf03cV1u/WP+cFVG3tg6mJCp5Iero+mfq//jpavaUeBBBAAAEEEEAAAQQQQAABBEIXSMR8PR4JjEbAnOZqNkybPHmyP58orUyePHnUsWNHDR06VLly5QodjZJRFyCBMeqkzq0w1mfMhyJz8803a86cOf6iAwYMUP/+/UN5VF999ZUaNWqkP//885+XiYUL+7Z3PfVb6iFVFqRQpAmMpvrOnTvrtdde87c0btw4de3aNaBlc//uu+/23zfPjR8/PhrDiHodrlkQOX5MGlJYSvknwdR/Xd1HS4vdqQ4TlgXYzb//KlUulifqplSIAAIIIIAAAgggELpANJN9Qm+VkggggEBsBKL5O8018/XYUCdNrW+88YY6dOjg78+jjz7qP8EjbScHDx6sfv36+W9t2rRJF154YdBxbN68WSVLlvSXM/X07ds36HPRKpCIBZFo9b13b+nJJ/+pLYNO6JCyKav+tyXj/xqxvoKtIXoiXU1aG29q+PB0PcpDCCCAAAIIIIAAAggggAACCEQk4OT5eqgDP3TokBYvXizzDmX37t0qUKCA7x1J/fr1dc4554RaDeViKEACYwxxnVZ1rM+YD8Vj+vTpuu2223w7E6bnJery5ct9Z9zv2bNHLVu29J1Znzlz5lCaPm0Zc2z16Y6uNsdcpx7nbB483S+0unXr+raYPdO1a9cu1a5d2/+telOuWbNmateunYoVK6Zt27b5+j937lx/FWXLlvUlZRYsWDDdY4rlg65aEHmhmrRnk53rkg5ac9lwNXnh0wDGqZ0vVZ1yhWLJS90IIIAAAggggAACQQSimewDNgIIIJBogWj+TnPVfD3RgYlR+7/++qsuueQS30t0c+XNm9f3zih//vwBLT722GN6+umn/ffNl3nNjgHBLlMuX758/mI9e/a0HVcd7PlTfz5s2DAr6S70rDuz60HqZb5I7aTLnDZVpoz1Xdf/dXujSlr/WCd4pLnG6i5109iwh5Uhg6xYS9ZpVVwIIIAAAggggAACCCCAAAIIxF3ACwmMcUelwbAFSGAMm8y9D8Rri9ZggtOmTdOWLVvUy3z1OB3XN998o5deekljx46NKHnRNG12gBw4cGA6eiHfkTyLFi0667Pr1q3zHX290bwFDXKVst5imoRIk8SYrJerFkQm3yhtXGynvvAq7Wg5W5cOWxgQgufbXqKbqxdP1tDQLwQQQAABBBBAwBMC0Uz28QQYg0QAgaQWiObvNFfN15M6aunr3N9//+37xr85XST1mjlzptq0aXPaCrt3764xY8b4f3b48GFlzZo1aOOmXLZs2fzlTD2jR48O+tyZCkTy3sxpCYzGoFUrafbsfzQ+1VXWP5/ZaOapqZppXtiept5Zs8J+jAcQQAABBBBAAAEEEEAAAQQQiIoACYxRYaSSCAVIYIwQ0E2PJ0sCYzKZRvIiNpQERjNW8+3zPn36aPLkydq7d2/A8M036Dt27KihQ4cqV65cycQT0BdXLYi8e7+0YrJ9jHlK6Oj9q1Suz3sBY+/btKK61Cmd1PGhcwgggAACCCCAgNsFopns43YrxocAAskvEM3faa6aryd/6MLq4bFjx9SiRQvbCRz33nuv78u5Z7q6dOmiCRMm+H9sTjLJmDFj0HbNaSKZMmXylzP1vPrqq0GfO1MBL+3AaAy2bpWqVJGsjSw1Q22tf9600XyjS1RD34TlaW20qe+/l3UaS1iPURgBBBBAAAEEEEAAAQQQQACBqAmQwBg1SiqKQIAExgjweBSBaAocOnRIixcv1qZNm3zHBRUoUEAlS5b0fQP/dEdUR7PtaNXlqgWRT5+RFg46hcY606fvDl0ybJH+/Puo7Wfd65fR440rRIuSehBAAAEEEEAAAQTSIRDNZJ90NM8jCCCAQFQFovk7zVXz9agqJ7Yyk1B46623asaMGf6OmF0XzekkaRMNT+3lAw88oBdffNF/+8CBA8qRI0fQwZhyab8ca+p5/vnngz4XrQJuWBCxNsZUu3bS03rE+udZG81OFVRh7QyLy4S+bduwHqEwAggggAACCCCAAAIIIIAAAlEVcMN8PaogVJYQARIYE8JOowi4U8BVCyLfWWcCvXVnYKB6rNA1k37R+p0HbD9rW6uERrS62J2BZVQIIIAAAggggIBDBKKZ7OOQIdNNBBBwsUA0f6e5ar7ukpib5MVOnTpp6tSp/hG1bNnSl8yYOXPms47SnORhdj9MvXbutFLnChYMKmPKFS5c2F+ub9++Gjx4cNDnolXALQsio0ZJG+9/1kpffCSAJpsOyjqoOyQyk4Pao0dIRSmEAAIIIIAAAggggAACCCCAQMwE3DJfjxkQFcdFgATGuDDTCALeEHDVgsivy6XxDQIDd9u/1ebD7Ppy0x+2n11bsbDGd/yXNwLNKBFAAAEEEEAAgSQViGayT5IOkW4hgICHBKL5O81V83UXfAZM8mLnzp01adIk/2iaN2+umdb2flmyZAk6QrNr4kMPPeQvt2rVKlWtWjXoc6ZctWrV/OVMPWYXxnhdbloQ+fzBN3XFC4FbJ5bWem1U6bOSmmOjx4xh58V4fe5oBwEEEEAAAQQQQAABBBBA4OwCbpqvE2vnCpDA6NzY0XMEkk7AVQsiB3ZJI8sEGt/wnLr/WE3vfbfd9rNLSuTVO/demXQxoUMIIIAAAggggICXBKKZ7OMlN8aKAALJKRDN32mumq8nZ7hC7pVJXuzSpYsmTpzof+bmm2/Wm2++GVLyonno/fffV5MmTfzPz507VzfccEPQPphyN954o7/cBx98oEaNGgV9LloFXLUg8tln0lVXBdDU0RItVZ3TkmXIIFmbbOqFF6RixaKlSj0IIIAAAggggAACCCCAAAIIRCbgqvl6ZBQ8nUABEhgTiE/TCLhNwFULIikp0vDzpSN/2cN05YPqe6CVXv/vFtv9Evmz69Oep9mx0W1BZjwIIIAAAggggEASC0Qz2SeJh0nXEEDAIwLR/J3mqvm6g+MfjeRFM/xffvlFF1xwgV9i4MCB6tevX1AZU27AgAH+cqae88+33n3E6XLVgsjmzVLJkgFyt2iaZugW2/0iRaQ775S6dpVKlYoTNs0ggAACCCCAAAIIIIAAAgggEKKAq+brIY6ZYsknQAJj8sWEHiHgWAHXLYiMvkLa8b09HpVu1nP5+uiFhets93NkzaQfBjV2bOzoOAIIIIAAAggg4AaBjRs36tChQ76hZM2aVWXKnGZHbTcMlDEggIAnBNavX68jR474xpo9e3YrV6pkusftuvl6uiUS92C0khdTR1C2bFmZz4i5GjRooIULFwYdnCn3ySef+MqZ59ets7/bCFpBhAVctSBi/m6ec06AyMjCI9Vzx6O2+x07yjouPEI8HkcAAQQQQAABBBBAAAEEEEAgRgKumq/HyIhqYy9AAmPsjWkBAc8IuG5BZHp7ae18e/yKVdfUqpP0xJxTEhutUmusBMbsViIjFwIIIIAAAggggEBiBLZs2aIDBw74GjcvXcqXL6+MGTMmpjO0igACCEQgYJLdfvrpJ6WY0wGsK2fOnLYd98Kt2nXz9XABElzexLFz5862Y6ObN2+umTNnhnxs9KlD6Nmzp0aOHOm7bf5bZ5L40+7KeGp589/IUtb2f+azZS7z/IgRI+Iq47oFEbO14o4dNsNZxR9Qm63P2+41aya9+25cqWkMAQQQQAABBBBAAAEEEEAAgZAFXDdfD3nkFEwmARIYkyka9AUBhwu4bkHk/d7Sf0fbo5I9n+Y3+UL3TlsREK2lj1+t8/PlcHgU6T4CCCCAAAIIIOBcgR1WEsHu3bv9AzDHYpr/H5ULAQQQcJrA/v379euvv/q7XbBgQRUqVCjdw3DdfD3dEvF/0CQvdrXODp4wYYK/8RYtWmjGjBnpTl40Fa1Zs0ZVq1bV8ePHffV26dJFr7766hkHaH6e2odMmTJp9erVqlixYlxBXLcgUrOmtML+fujzYq105bZZNtcrrAM+PvssrtQ0hgACCCCAAAIIIIAAAggggEDIAq6br4c8cgomkwAJjMkUDfqCgMMFXLcgsmys9F7PgKh81W6lWk/6IeD+nHuvVLUSeR0eRbqPAAIIIIAAAgg4V8AcH212oEq9zJGrZjcqdmF0bkzpOQJeFDA75Jnd8g4ePOgfvtk5L1u2bOnmcN18Pd0S8X3QJC9269ZN48aN8zfcsmVLX/Ji5syZI+6M2dXxtdde89dj2jHJkqde5v7dd9/tv22eGz9+fMTth1uB6xZEbrxRmjvXxrC+cG2V3fGF7d5FF0k//hiuFuURQAABBBBAAAEEEEAAAQQQiI+A6+br8WGjlSgLkMAYZVCqQ8DLAq5bEFn7vjS9bUBIt7T5QHWnnNzZJ7XAa51qqUEF6/ggLgQQQAABBBBAAIGECJhEkQ0bNujIkSP+9k0SY4ECBXzHr5LImJCw0CgCCIQoYBIXDxw44NtJNm3yYtasWVW6dGmlfZkcYpX+Yq6br4cLkKDyb775ptq2PflewcSwQYMGYSUvPvLII2rYsOFpR7Br1y7Vrl1b69ev9/+8mXVecbt27VSsWDFt27bNlyw5N02SXdmyZfXFF1/I7OoZ78t1CyL33CO98oqN8c9zSyjf/i22e4Z65854a9MeAggggAACCCCAAAIIIIAAAqEJuG6+HtqwKZVkAiQwJllA6A4CThZw3YLIjjXS6NoBIfnrpkmqMjNrwP2RrS5W61olnBxC+o4AAggggAACCDheYN++fdq6dWvAOMxLmCxZskSUAOR4HAaAAAJJK2ASsI8ePSrz56lX8eLFlTt37oj67rr5ekQa8Xt40qRJuuOOOyJqcOLEierUqdMZ61i3bp2uu+462w7EZypsdvJcsGCBTBJjIi7XLYgMHSr17WujPJ4xs7KeOKQTyuS/nzGjrL/fsr5IkQh12kQAAQQQQAABBBBAAAEEEEDg7AKum68TcEcKkMDoyLDRaQSSU8B1CyJH/paGFQ3APtFwiMrNL6PjJ+wLS72aVFC3emWSMzj0CgEEEEAAAQQQ8JDA3r17fbtOcSGAAAJOFzC76OXJkyfiYbhuvh6xSHwqiEcCoxnJX3/9pT59+mjy5Mky/w089TKfoY4dO2qolXCXK1eu+Az+NK24bkHE8raySwNGWlTbtF3290l79kh58yaMnoYRQAABBBBAAAEEEEAAAQQQOKOA6+brxNqRAiQwOjJsdBqB5BRw5YLIyHLSgR128H91Va1vGmvXX4dt97vWKaU+TSslZ3DoFQIIIIAAAggg4DEBs0heqH8AACAASURBVBPjTuu8xrTHSXuMgOEigICDBcyx0YUKFYp458VUAlfO1x0c31h1/dChQ1q8eLE2bdrkO4q8QIECKlmypOrXr69zzjknVs2GXK/rFkQ++kjW+d4B46+lr7RctWz3f/5ZKsN3XkP+rFAQAQQQQAABBBBAAAEEEEAgfgKum6/Hj46WoihAAmMUMakKAa8LuHJBZLz1IvrXL+2hLddIjXf20I/b99vut6heXM+2vcTrHwPGjwACCCCAAAIIJI2AOYr18OHDMsmMJqnjxIkTvv9xIYAAAskmkNE6W9b8L3v27DJza5NslvblcaT9deV8PVIUno+7gOsWRH78UapYMcDxZv1bc3Sz7f6X1qulf/0r7uQ0iAACCCCAAAIIIIAAAggggEBQAdfN14OOmALJKEACYzJGhT4h4FABVy6IzO4irZ5lj0jB8ro12yh99vNu2/265Qtpyp2XOjR6dBsBBBBAAAEEEEAAAQQQQMCtAq6cr7s1WC4el+sWRPZbX2zNnTsgYvfqJY3Wvbb7770nNW7s4uAyNAQQQAABBBBAAAEEEEAAAccKuG6+7thIeLvjJDB6O/6MHoGoCrhyQeTjIdKSkXanzNn0QOn/aM6q7bb7VYrn1rwedaJqSmUIIIAAAggggAACCCCAAAIIRCrgyvl6pCg8H3cBVy6I5Mkja6tnm+Vw9dL/abjt3uuvS7feGndyGkQAAQQQQAABBBBAAAEEEEAgqIAr5+tBR02BZBMggTHZIkJ/EHCwgCsXRFZMld69LyAqz1SZo1FfH7DdL5onm77ofY2DI0jXEUAAAQQQQAABBBBAAAEE3Cjgyvm6GwPl8jG5ckGkUiVpzRpb5KboNnXUFNu9F1+UevRweYAZHgIIIIAAAggggAACCCCAgCMFXDlfd2QkvN1pEhi9HX9Gj0BUBVy5ILJxiTS5WYDTW9XG69FlOWz3s2bKqLVDGivtf+CjCkxlCCCAAAIIIIAAAggggAACCKRDwJXz9XQ48EhiBVy5INKokfThhzbYxZmuVv3jH9vu9e8vDRiQWH9aRwABBBBAAAEEEEAAAQQQQOB0Aq6crxNqxwmQwOi4kNFhBJJXwJULIn9ukZ6vGoD+RbVhumVZyYD7qwY0Uu5sWZI3SPQMAQQQQAABBBBAAAEEEEDAcwKunK97LorOH7ArF0TuuEOaNMkWnPWZy6vssbW2e/dZh3uMGuX8GDICBBBAAAEEEEAAAQQQQAAB9wm4cr7uvjC5fkQkMLo+xAwQgfgJuHJB5MRxaUhh6cQxG+TPlXvo2uWXB+B+8mh9lSqYM37otIQAAggggAACCCCAAAIIIIBAEAFXzteJuuMEXLkg0revNHSoLRYHM+ZQjhN/Wfcy+O+3by+98YbjQkaHEUAAAQQQQAABBBBAAAEEPCDgyvm6B+LmtiGSwOi2iDIeBBIo4NoFkRcukfZstMnuKttKtb5rEaA9u/vlqnlh/gRGgaYRQAABBBBAAAEEEEAAAQQQsAu4dr5OoB0l4MoFkTFjpO7dA+KQV3u0V3n996+7Tnr/fUeFi84igAACCCCAAAIIIIAAAgh4RMCV83WPxM5NwySB0U3RZCwIJFjAtQsiU26SNiyy6R4qVlsVNtwfID72tpq6rvJ5CY4EzSOAAAIIIIAAAggggAACCCBwUsC183WC7CgBVy6IzJ0r3XhjQByqaLW+VxX//Vq1pK++clS46CwCCCCAAAIIIIAAAggggIBHBFw5X/dI7Nw0TBIY3RRNxoJAggVcuyAy9wFp+SSb7oncxVV6x8gA8WHNq6r9ZRckOBI0jwACCCCAAAIIIIAAAggggMBJAdfO1wmyowRcuSDyzTdSjRoBcbhO72uBrG0X/3eVKmV9N3aDo8JFZxFAAAEEEEAAAQQQQAABBDwi4Mr5ukdi56ZhksDopmgyFgQSLODaBZFPn5UWDrTppiiDqhybogPHMtnuP9KwvHpcUy7BkaB5BBBAAAEEEEAAAQQQQAABBE4KuHa+TpAdJeDKBZEdO6QiRQLicKcmaKLu9N/Pk0f6809HhYvOIoAAAggggAACCCCAAAIIeETAlfN1j8TOTcMkgdFN0WQsCCRYwLULIt/Nlt46+dI5lblNlpf05f78NvVOV5TUgBsrJzgSNI8AAggggAACCCCAAAIIIIDASQHXztcJsqMEXLkgcuKElD27dOSILRb9NFCD1c927+hRKXNmR4WMziKAAAIIIIAAAggggAACCHhAwJXzdQ/EzW1DJIHRbRFlPAgkUMC1CyJbl0uvNgiQfT7n/Rq9u6aOKIv/Z82qFdOoW6onMAo0jQACCCCAAAIIIIAAAggggIBdwLXzdQLtKAHXLoiY86E3bbLFYqzuUjeNtd37/XepcGFHhYzOIoAAAggggAACCCCAAAIIeEDAtfN1D8TOTUMkgdFN0WQsCCRYwLULIltXWgmM9U6reyQlk9amlNCnJy7WtOMNdEHpiprWtXaCI0HzCCCAAAIIIIAAAggggAACCJwUcO18nSA7SsC1CyJ16khLl9piMV/X6wbNt91bs0aqUMFRIaOzCCCAAAIIIIAAAggggAACHhBw7XzdA7Fz0xBJYHRTNBkLAgkWcN2CyL5t0nuPS2vmWrIpQXVPpGTQ0ixXqO79E6TcRYOWpwACCCCAAAIIIIAAAggggAAC8RBw3Xw9Hmi0EXUB1y6ItGsnzZxp81qpaqou6wuxaS6T43jllVFnpUIEEEAAAQQQQAABBBBAAAEEIhJw7Xw9IhUejrcACYzxFqc9BFws4KoFke9mS/Mekg7tDT9i2fJINzwnVWkZ/rM8gQACCCCAAAIIIIAAAggggECUBVw1X4+yDdXFT8C1CyKPPio984wNcpcKqJB22e7NmSPdeGP8vGkJAQQQQAABBBBAAAEEEEAAgVAEXDtfD2XwlEkaARIYkyYUdAQB5wu4ZkHkv2Ok962dFyO9mjwlXXZ3pLXwPAIIIIAAAggggAACCCCAAAIRCbhmvh6RAg8nWsC1CyLPWV9iffjhAN5sOqjDyua/P3Gi1KlToqNA+wgggAACCCCAAAIIIIAAAgjYBVw7XyfQjhIggdFR4aKzCCS3gCsWRMzOi2/dGT3oVq+xE2P0NKkJAQQQQAABBBBAAAEEEEAgHQKumK+nY9w8klwCrl0QmTVLatMmALuMftYGlfHff/pp6ZFHkism9AYBBBBAAAEEEEAAAQQQQAAB187XCa2jBEhgdFS46CwCyS3g+AWRfduk0bXTd2z0mUJjjpO+Z5mUu2hyB4/eIYAAAggggAACCCCAAAIIuFbA8fN110bGWwNz7YLI559LV14ZEMz2ekOz1VJHdI7vZ717S8OGeSvmjBYBBBBAAAEEEEAAAQQQQCD5BVw7X09+enqYRoAERj4OCCAQNQHHL4jMvE1a827UPPwVVbrJ+ib+lOjXS40IIIAAAggggAACCCCAAAIIhCDg+Pl6CGOkSPILuHZBZOlSqU6d0wbgiLJotapqgRppf7u7NGx6qeQPFD1EAAEEEEAAAQQQQAABBBDwlIBr5+ueiqLzB0sCo/NjyAgQSBoBRy+I7NkkvXCJZZkSA88M0gMrpXwlY1A3VSKAAAIIIIAAAggggAACCCBwdgFHz9cJrmsEXLcgsnWr9b7nAentt63XScHfJ51QBmVs1dJ6//SCVKyYa+LKQBBAAAEEEEAAAQQQQAABBJwt4Lr5urPD4dnek8Do2dAzcASiL+DoBZGPBkhLn4s+SmqNVz0kXWu1wYUAAggggAACCCCAAAIIIIBAnAUcPV+PsxXNxU7AVQsiM2dK3bpJf/4ZPljevNKYMVLbtuE/yxMIIIAAAggggAACCCCAAAIIRFnAVfP1KNtQXfwESGCMnzUtIeB6AUcviIytK/32bexiVNTa3fHuxbGrn5oRQAABBBBAAAEEEEAAAQQQOIOAo+frRNU1Aq5ZEHnxxX92Xoz0MvX06BFpLTyPAAIIIIAAAggggAACCCCAQEQCrpmvR6TAw4kWIIEx0RGgfQRcJODYBZFjh6VhxaUTR2MXjUxZpd7W0UKZrT+5EEAAAQQQQAABBBBAAAEEEIijgGPn63E0oqnYC7hiQcTsvNiuXfSwZsxgJ8boaVITAggggAACCCCAAAIIIIBAOgRcMV9Px7h5JLkESGBMrnjQGwQcLeDYBZHd66VRNWJv32OFVKBM7NuhBQQQQAABBBBAAAEEEEAAAQTSCDh2vk4UXSXg+AWRrdYXU6tUSd+x0WeKpDlO+vvvpWLFXBVrBoMAAggggAACCCCAAAIIIOAcAcfP151DTU/PIkACIx8PBBCImoBjF0R+t14Uv3JF1BzOWFH3z6UilWPfDi0ggAACCCCAAAIIIIAAAgggkEbAsfN1ougqAccviLRqJc2eHf2YmHpnzYp+vdSIAAIIIIAAAggggAACCCCAQAgCjp+vhzBGiiS/AAmMyR8jeoiAYwQcuyDCDoyO+YzRUQQQQAABBBBAAAEEEEAAgfAFHDtfD3+oPJHEAo5eENm4USpjnaqRkhJ94QwZpPXW6SClSkW/bmpEAAEEEEAAAQQQQAABBBBAIIiAo+frRNc1AiQwuiaUDASBxAs4dkHk2GFpWHHpxNHYIWbKKvW2jhrKbP3JhQACCCCAAAIIIIAAAggggEAcBRw7X4+jEU3FXsDRCyK9e0tPPhk7pF69pOHDY1c/NSOAAAIIIIAAAggggAACCCBwBgFHz9eJqmsESGB0TSgZCAKJF3D0gsjYutJv38YOsegl0t2LY1c/NSOAAAIIIIAAAggggAACCCBwBgFHz9eJqmsEHL0gUrOmtGJF7GJh6v/669jVT80IIIAAAggggAACCCCAAAIInEHA0fN1ouoaARIYXRNKBoJA4gUcvSDy0QBp6XOxQ7zqIelaqw0uBBBAAAEEEEAAAQQQQAABBOIs4Oj5epytaC52Ao5dEDlsndxx7rnS0Rie3JHVOrFj/37J/MmFAAIIIIAAAggggAACCCCAQBwFHDtfj6MRTcVegATG2BvTAgKeEXD0gsieTdIL1i6JSolBvDJID6yU8pWMQd1UiQACCCCAAAIIIIAAAggggMDZBRw9Xye4rhFw7ILIunVS+fKxj8NPP0nlysW+HVpAAAEEEEAAAQQQQAABBBBAII2AY+frRNFVAiQwuiqcDAaBxAo4fkFk5m3Smnejj1jpJqnNlOjXS40IIIAAAggggAACCCCAAAIIhCDg+Pl6CGOkSPILOHZBZPVq6eKLYw+8apVUtWrs26EFBBBAAAEEEEAAAQQQQAABBNIIOHa+ThRdJUACo6vCyWAQSKyA4xdE9m2TRteWDu2NHmS2PNI9y6TcRaNXJzUhgAACCCCAAAIIIIAAAgggEIaA4+frYYyVoskr4NgFEXZgTN4PFT1DAAEEEEAAAQQQQAABBBCIWMCx8/WIR04FySRAAmMyRYO+IOBwAVcsiHw3W3rrzuhFotVrUpWW0auPmhBAAAEEEEAAAQQQQAABBBAIU8AV8/Uwx0zx5BNw7ILI4cPSuedKR4/GDjVrVmn/fsn8yYUAAggggAACCCCAAAIIIIBAHAUcO1+PoxFNxV6ABMbYG9MCAp4RcM2CyLKx0ns9I49bk6eky+6OvB5qQAABBBBAAAEEEEAAAQQQQCACAdfM1yMw4NHECzh6QaRmTWnFitghmvq//jp29VMzAggggAACCCCAAAIIIIAAAmcQcPR8nai6RoAERteEkoEgkHgBVy2ImJ0Y5z2UruOk96bk0LwLeurWztbzXAgggAACCCCAAAIIIIAAAggkWMBV8/UEW9J8+gUcvSDSu7f05JPpH3ywJ3v1koYPD1aKnyOAAAIIIIAAAggggAACCCAQdQFHz9ejrkGFiRIggTFR8rSLgAsFXLcgsu836f3HpR/etaKVEjRiJ1Iy6L0T/9LAox11ccWLNL7jv4I+QwEEEEAAAQQQQAABBBBAAAEEYi3guvl6rMGoPyYCjl4Q2bhRKlPGej0U/P1Q2HgZMkjr10ulSoX9KA8ggAACCCCAAAIIIIAAAgggEKmAo+frkQ6e55NGgATGpAkFHUHA+QKuXRDZs0laPsl6mfyJ9Nu3VqDsL6sPZsiu14421PTjDfRrSmFfIC8pkVfv3Hul84PKCBBAAAEEEEAAAQQQQAABBBwv4Nr5uuMj460BOH5BpFUrabZ1Yke0L1PvrFnRrpX6EEAAAQQQQAABBBBAAAEEEAhJwPHz9ZBGSaFkFyCBMdkjRP8QcJCAJxZEZt0pfW9/Wb0tezldsWegLVIl8mfXpz0bOCh6dBUBBBBAAAEEEEAAAQQQQMCtAp6Yr7s1eC4al+MXRLZulapUkf78M3pRyZvXes/0vVSsWPTqpCYEEEAAAQQQQAABBBBAAAEEwhBw/Hw9jLFSNHkFSGBM3tjQMwQcJ+CJBZH/9JS+HGuLzb5zztPFe5+13cuZNZO+H9TYcTGkwwgggAACCCCAAAIIIIAAAu4T8MR83X1hc92IXLEgMnOm1K5d9GIzY4bUtm306qMmBBBAAAEEEEAAAQQQQAABBMIUcMV8PcwxUzz5BEhgTL6Y0CMEHCvgiQWRT4ZLi5+0xehophwqd2B8QNzWWAmM2a1ERi4EEEAAAQQQQAABBBBAAAEEEingifl6IoFpOyQB1yyIjBol3X9/SGM+a6EXX5R69Ii8HmpAAAEEEEAAAQQQQAABBBBAIAIB18zXIzDg0cQLkMCY+BjQAwRcI+CJBZH/jpHefzwgZuUOTdFRZbbdX/r41To/Xw7XxJeBIIAAAggggAACCCCAAAIIOFPAE/N1Z4bGU7121YKI2YmxW7d0HSd97Ny8yvyq9X6JnRc99flnsAgggAACCCCAAAIIIIBAsgq4ar6erMj0K6gACYxBiSiAAAKhCnhiQeRb6wX1v+8KIKl16BXtUh7b/Tn3XqlqJfKGykc5BBBAAAEEEEAAAQQQQAABBGIi4In5ekzkqDSaAq5bENm2TXrgAWn2bCklJSjVCWXQbLVUoTdeUP32xYKWpwACCCCAAAIIIIAAAggggAAC8RBw3Xw9Hmi0EXUBEhijTkqFCHhXwBMLIj8tkKa1DgjyNYdHan1Kcdv91zrVUoMKRbz7gWDkCCCAAAIIIIAAAggggAACSSHgifl6UkjTibMJuHZBZONGadw46T//kVatCiDYoFKaoXZ6VV21yfq/p02TbrmFzwoCCCCAAAIIIIAAAggggAACySHg2vl6cvDSixAFSGAMEYpiCCAQXMATCyK/fCVNuDYAo8XhAVqRUt52f2Sri9W6VongcJRAAAEEEEAAAQQQQAABBBBAIIYCnpivx9CPqqMj4PoFkb//lnLmDMDqrtEao+7++6NGSffdFx1TakEAAQQQQAABBBBAAAEEEEAgUgHXz9cjBeL5uAiQwBgXZhpBwBsCnlgQ2bVOeqlWQEC7HH1UHx2vYbvfq0kFdatXxhvBZ5QIIIAAAggggAACCCCAAAJJK+CJ+XrS6tOxVAHXL4iYY6TPOUc6etT+fkjDNUK9/PcGDJD69+dzgQACCCCAAAIIIIAAAggggEByCLh+vp4czPQiiAAJjHxEEEAgagKeWBA5sEsaGZiU2D9jD03++3KbZdc6pdSnaaWo+VIRAggggAACCCCAAAIIIIAAAukR8MR8PT0wPBNXAU8siBQqJO2y3h2luZ7U4+qtJ/137r9feuGFuNLTGAIIIIAAAggggAACCCCAAAJnFPDEfJ34J70ACYxJHyI6iIBzBDyxIHL8mDS4QEBQxmTroif/bGC736J6cT3b9hLnBJCeIoAAAggggAACCCCAAAIIuFLAE/N1V0bOXYPyxIJIuXLSzz/bAveKuukeveK/d+ut0uuvuyu2jAYBBBBAAAEEEEAAAQQQQMC5Ap6Yrzs3PJ7pOQmMngk1A0Ug9gKeWRAZXkI6vM8G+va57fXwzhts9+qVL6TJd14ae3haQAABBBBAAAEEEEAAAQQQQOAsAp6Zr/MpSGoBTyyI1KolLV9ui8N0tVN7Tfffa9xYeu+9pA4VnUMAAQQQQAABBBBAAAEEEPCQgCfm6x6Kp1OHSgKjUyNHvxFIQgHPLIg8X1X6c4stAkvy3qzbt7ex3atSPLfm9aiThJGiSwgggAACCCCAAAIIIIAAAl4S8Mx83UtBdeBYPbEgcu210sKFtuj8R03UVP/x37vU+q7rsmUODCBdRgABBBBAAAEEEEAAAQQQcKWAJ+brroycuwZFAqO74sloEEiogGcWRMbWlX771ma9Ol9DNfvtDtu9onmy6Yve1yQ0JjSOAAIIIIAAAggggAACCCCAgGfm64Q6qQU8sSDSsqX09tu2OHyuy3WlPvffK1Mm4JTppI4bnUMAAQQQQAABBBBAAAEEEHC3gCfm6+4OoStGRwKjK8LIIBBIDgHPLIhMuUnasMiGvjnfFar32322e1kzZdTaIY2V9j/4yREpeoEAAggggAACCCCAAAIIIOAlAc/M170UVAeO1RMLIp07S6+9ZovO96qkKvrefy9vXmnPHgcGkC4jgAACCCCAAAIIIIAAAgi4UsAT83VXRs5dgyKB0V3xZDQIJFTAMwsiszpJ3//bZr0rT1XV+r13gP+qAY2UO1uWhMaFxhFAAAEEEEAAAQQQQAABBLwt4Jn5urfDnPSj98SCyCOPSM8+a4vFVhXT+dpqu3f0qJQ5c9KHjA4igAACCCCAAAIIIIAAAgh4QMAT83UPxNHpQySB0ekRpP8IJJGAZxZE5j4oLZ9okz+Q60JV3jU8IBqLHq2vkgVzJlGU6AoCCCCAAAIIIIAAAggggIDXBDwzX/daYB02Xk8siAwaJPXvb39npBzKpQO2ezt3SgULOiyAdBcBBBBAAAEEEEAAAQQQQMCVAp6Yr7sycu4aFAmM7oono0EgoQKeWRD5aKC01P5t+mPn5FXZvaMD/Gd3v1w1L8yf0LjQOAIIIIAAAggggAACCCCAgLcFPDNf93aYk370nlgQefFF6YEHAmKRRUd0TCdP6PjxR+mii5I+ZHQQAQQQQAABBBBAAAEEEEDAAwKemK97II5OHyIJjE6PIP1HIIkEPLMg8pn1MvrDJ2zyKcqg0oemKkUZbffH3lZT11U+L4miRFcQQAABBBBAAAEEEEAAAQS8JuCZ+brXAuuw8XpiQWTyZKlTp4DIFNRO7dbJLRc/+0y64gqHBZDuIoAAAggggAACCCCAAAIIuFLAE/N1V0bOXYMigdFd8WQ0CCRUwDMLIiumSu/eF2B98aFx2mcdCpT2Gta8qtpfdkFC40LjCCCAAAIIIIAAAggggAAC3hbwzHzd22FO+tF7YkFkzhzp5psDYlFGP2uDyvjvz50r3XBD0oeMDiKAAAIIIIAAAggggAACCHhAwBPzdQ/E0elDJIHR6RGk/wgkkYBnFkTWzJNm3hogf83R57X+eGHb/Ucbldd9DcolUZToCgIIIIAAAggggAACCCCAgNcEPDNf91pgHTZeTyyILFokXX11QGRq6mutUE3//UmTpI4dHRZAuosAAggggAACCCCAAAIIIOBKAU/M110ZOXcNigRGd8WT0SCQUAHPLIhsss75mXR9gPWdWUbo4/0lbPc7XVFSA26snNC40DgCCCCAAAIIIIAAAggggIC3BTwzX/d2mJN+9J5YEFm5UqpePSAWDbRQn6iB//4zz0gPP5z0IaODCCCAAAIIIIAAAggggAACHhDwxHzdA3F0+hBJYHR6BOk/Akkk4JkFkd9/kF65PED+iXMHaerOsrb7zaoV06hbAl9cJ1HY6AoCCCCAAAIIIIAAAggggIDLBTwzX3d5HJ0+PE8siGzcKJUuHRCqFpqtf6uF/36fPtKQIU6PKP1HAAEEEEAAAQQQQAABBBBwg4An5utuCJTLx0ACo8sDzPAQiKeAZxZE9v0mPVshgHZ0gf/TU1ur2O5fUaaApnWtHc8w0BYCCCCAAAIIIIAAAggggAACNgHPzNeJe1ILeGJBZM8eKX/+gDjcodc0SXf473frZn039pWkDhedQwABBBBAAAEEEEAAAQQQ8IiAJ+brHomlk4dJAqOTo0ffEUgyAc8siBw9KA09L0D/rSIP6tHNl9ruX1TkXH3wUN0kixTdQQABBBBAAAEEEEAAAQQQ8JKAZ+brXgqqA8fqiQWR48elzJkDovOQntXzesh/v3Vr6c03HRhEuowAAggggAACCCCAAAIIIOA6AU/M110XNfcNiARG98WUESGQMAFPLYgMKSIdO2SzXlT8LnVaX992r2Cuc/R132sTFhMaRgABBBBAAAEEEEAAAQQQQMBT83XCnbQCnlkQyZ1b2r/fFocB6q+BGuC/16CBtHBh0oaKjiGAAAIIIIAAAggggAACCHhIwDPzdQ/F1IlDJYHRiVGjzwgkqYCnFkSesY6Q3m8dJZ3m+vb8W3XTz01t9zJmkH4eer0ymv+DCwEEEEAAAQQQQAABBBBAAIEECHhqvp4AX5oMTcAzCyIXXCD98osN5Xk9YO2/+Lz/3iWXSN98E5obpRBAAAEEEEAAAQQQQAABBBCIpYBn5uuxRKTuiAVIYIyYkAoQQCBVwFMLIqMvl3b8YAv+pvNvUv2f2wZ8IFY80VD5c2blg4IAAggggAACCCCAAAIIIIBAQgQ8NV9PiDCNhiLgmQWRqlWl776zkUxSR92hSf57JUpIW7aEokYZBBBAAAEEEEAAAQQQQAABBGIr4Jn5emwZqT1CARIYIwTkcQQQOCngqQWRiddLmz+zhX9XsQaqtaFLwEfiw4fqqlyRc/moIIAAAggggAACCCCAAAIIIJAQAU/N1xMiTKOhCHhmQaROHWnpUhvJv3WzWujf/ns5ckgHDoSiRhkEEEAAAQQQQAABBBBAAAEEYivgmfl6bBmpPUIBEhgjBORxBBA4KeCpBZEZt0o/zrOF/0CRWqq8oDD8YQAAIABJREFU+eGAj8T0rrV1eZkCfFQQQAABBBBAAAEEEEAAAQQQSIiAp+brCRGm0VAEPLMgcsMN0vz5NpJPVF8N9Int3sGDUrZsochRBgEEEEAAAQQQQAABBBBAAIHYCXhmvh47QmqOggAJjFFApAoEEPhHwFMLInPulb553Rb6o/nLq9y2AQEfh5fb11DTi4vyMUEAAQQQQAABBBBAAAEEEEAgIQKemq8nRJhGQxHwzIJIhw7SG2/YSFaoumpqhe3e1q1SsWKhyFEGAQQQQAABBBBAAAEEEEAAgdgJeGa+HjtCao6CAAmMUUCkCgQQ+EfAUwsiC/pKn4+yhT4lZxGV2v1cwMdh0E2VdfvlJfmYIIAAAggggAACCCCAAAIIIJAQAU/N1xMiTKOhCHhmQeRe60uvo0fbSDaolMpog+3eqlVS1aqhyFEGAQQQQAABBBBAAAEEEEAAgdgJeGa+HjtCao6CAAmMUUCkCgQQ+EfAUwsinz4jLRxkD32mrKp8dIoOHDlhu3//NeX0cMPyfEwQQAABBBBAAAEEEEAAAQQQSIiAp+brCRGm0VAEPLMg0qePNGyYjWS38qugdtvuLVok1asXihxlEEAAAQQQQAABBBBAAAEEEIidgGfm67EjpOYoCJDAGAVEqkAAgX8EPLUg8tUEaf7DAaFvmH261u1Jsd2/9bILNLQ5X6nn7wkCCCCAAAIIIIAAAggggEBiBDw1X08MMa2GIOCZBZGnnpIef9wmckyZlEVHrXsZ/Pdnz5ZatAgBjiIIIIAAAggggAACCCCAAAIIxFDAM/P1GBpSdeQCJDBGbkgNCCDwPwFPLYh897b01h0Bse+Sf7I+2pbFdr9JlfP0SoeafE4QQAABBBBAAAEEEEAAAQQQSIiAp+brCRGm0VAEPLMgMm6cdPfdASS5tF8HlMt/3xTr2jUUOcoggAACCCCAAAIIIIAAAgggEDsBz8zXY0dIzVEQIIExCohUgQAC/wh4akFk/SfS1JsDQj+g2FhN2nCu7f6lJfPrzW6X8zFBAAEEEEAAAQQQQAABBBBAICECnpqvJ0SYRkMR8MyCyMyZUrt2ASTn6xdt1fn++8OHS716hSJHGQQQQAABBBBAAAEEEEAAAQRiJ+CZ+XrsCKk5CgIkMEYBkSoQQOAfAU8tiGxbKY2rFxD6sSVf0PAfC9nuly6UUx8/Up+PCQIIIIAAAggggAACCCCAAAIJEfDUfD0hwjQaioBnFkQ++EBq3DiApLK+0w+q7L//2GOSOW2aCwEEEEAAAQQQQAABBBBAAIFECnhmvp5IZNoOKkACY1AiCiCAQKgCnloQ2bNZeuHiAJp3yg3Xg6svtN3Pkz2Lvu3fKFRGyiGAAAIIIIAAAggggAACCCAQVQFPzdejKkdl0RTwzILIsmVS7doBdFdqqT7Xlf77d94pTZgQTWHqQgABBBBAAAEEEEAAAQQQQCB8Ac/M18On4Yk4CpDAGEdsmkLA7QKeWhA5tE96skRASD+t8IRuW1kx4P66oU2UJVNGt38EGB8CCCCAAAIIIIAAAggggEASCnhqvp6E/nTpHwHPLIj8+KNUMfDdUFPN03/U1P9xuOkm6Z13+HQggAACCCCAAAIIIIAAAgggkFgBz8zXE8tM60EESGDkI4IAAlET8NSCSEqKNKiAlHLc5vddpUd0w4qaAaZf/t81Kpw7W9SsqQgBBBBAAAEEEEAAAQQQQACBUAU8NV8PFYVycRfwzILI9u1S0aIBvu31hqarvf9+nTrSkiVxDwMNIoAAAggggAACCCCAAAIIIGAT8Mx8nbgntQAJjEkdHjqHgLMEPLcg8lQZ6e9dtiD9Uuku1VlRPyBw/7m/jioVy+2sgNJbBBBAAAEEEEAAAQQQQAABVwh4br7uiqi5bxCeWRA5eFDKkSMggPfoZb2ie/z3K1WSvv/efXFmRAgggAACCCCAAAIIIIAAAs4S8Mx83Vlh8VxvSWD0XMgZsJsF/v77b+ub20v0zTff+P63YsUKbdiwQSnWboFt27bVjBkzYjp8zy2IjLJ2Wtz9s810T4X2qr7yhgDnqZ0vVZ1yhWLqT+UIIIAAAggggAACCCCAAAIInE7Ac/N1PgZJKeCZBRFzakc26xSOI0dsceitYXpSvf33ihSRzGaNXAgggAACCCCAAAIIIIAAAggkUsAz8/VEItN2UAESGIMSUQAB5wgsWrRIV1999Wk7TAJjDOI4/lrp169sFR8qd4MqrD55HFDqD59ve4lurl48Bp2gSgQQQAABBBBAAAEEEEAAAQTOLkACI5+QZBDw1IJI4cLSzp029hHqqV4a4b+XJYt0+LCUIUMyRIc+IIAAAggggAACCCCAAAIIeFXAU/N1rwbZAeMmgdEBQaKLCIQqYBIYW7RooWrVqql69eq+/z377LNauXIlOzCGihhOuTdaS+sW2J44cWEdlV7bPaCWJ26opM5XlQqndsoigAACCCCAAAIIIIAAAgggEBUBEhijwkglEQp4akGkfHnrndE6m9gY3a3uGmO7t2+fdO65EcLyOAIIIIAAAggggAACCCCAAAIRCHhqvh6BE4/GVoAExtj6UjsCcRU4fvy4MmXKZGuzfv36Wrx4MQmMsYjE23dJq2baay5SVdV29NPeg0dt9++pX0Y9G1eIRS+oEwEEEEAAAQQQQAABBBBAAIGzCpDAyAckGQQ8tSDyr39JX39tY5+htrpFM2z3Nm6USpZMhujQBwQQQAABBBBAAAEEEEAAAa8KeGq+7tUgO2DcJDA6IEh0EYFIBEhgjEQvyLPvPS4ts39zXrnPV4OUl7Vh5wHbw21rldCIVhfHsDNUjQACCCCAAAIIIIAAAggggMDpBUhg5JORDAKeWhBp2FD66CMb+3tqrOv1nu3e8uVSjRrJEB36gAACCCCAAAIIIIAAAggg4FUBT83XvRpkB4ybBEYHBIkuIhCJAAmMkegFeXbRk9Ki4fZCWXOpTf639OWmP2z3r61YWOM7Wt++50IAAQQQQAABBBBAAAEEEEAgzgIkMMYZnOZOK+CpBZFWraTZs20OX6i2rtAXtnsLFkgm15ELAQQQQAABBBBAAAEEEEAAgUQJeGq+nihk2g0qQAJjUKL4Fdi/f79Wrlyp5dZXb1esWOH7c+3atTLHApvrwgsv1KZNm+LSoYMHD2rq1Kl6//33fX3ZuXOnzC+tYsWKqWrVqmrdurWaN2+uc845Jy79SWQj8YjL1q1b9frrr+vdd9/1xXjXrl0qWLCgdYRMSd14443q0KGDihcvni4GEhjTxRbaQ8vGSu/1DCh7b+kPNP+H3bb7l5TIq3fuvTK0eimFAAIIIIAAAggggAACCCCAQBQFSGCMIiZVpVvAUwsiXbpIEybYrH5QRVXWD7Z706dL7dqlm5QHEUAAAQQQQAABBBBAAAEEEIhYwFPz9Yi1qCBWAiQwxko2zHovuugirVu3TikpKWd8Ml4JjLOtbwffe++9+v333886iooVK2rixIm67LLLwhytc4rHIy5jxozRo48+qgMH7EcOp1XKlSuXnn76ad19991h45HAGDZZ6A+selN6u2tA+WGV3tW4FX/Z7l+QP4eW9Lw69LopiQACCCCAAAIIIIAAAggggECUBEhgjBIk1UQk4KkFEetdn555xua1TUVVXNts9156SdZ72IhYeRgBBBBAAAEEEEAAAQQQQACBiAQ8NV+PSIqHYylAAmMsdcOoO+0vhDM9Fo8ExmesF2smmS7tlT9/flWoUEGZM2fWTz/9pO3bt/t/bHZgXGCddVK3bt0wRuucorGOy6BBg9S/f38bSNmyZX27LZpdGX/++WfbzwYPHqy+ffuGBUgCY1hc4RX+yTrnZ1rrgGcmVX9TA744ZrufM2smfT+ocXj1UxoBBBBAAAEEEEAAAQQQQACBKAiQwBgFRKqIWMBTCyLWOzz162cz+1vZlVN/2+5Zrwb1xBMR01IBAggggAACCCCAAAIIIIAAAukW8NR8Pd1KPBhrARIYYy0cYv2pvxBy5sypatWqqUaNGqpZs6ZmzpzpO8bZXLFOYJw/f76aNWvm3wXSHGH88ssvq2XLlsqUKZOvD2aHSJOw2K1bN/9x1nnz5tWqVatUokSJEEfrnGKxjIs5Lvqmm27yY1SqVElTpkzxxT31MseI33777frhh5PHy8yZM8d3rHSoFwmMoUqlo9wvX1nHAV0b8OB7l05S9yVZA+6vsRIYs1uJjFwIIIAAAggggAACCCCAAAIIxFOABMZ4atPWmQQ8tSAyapR0//0BFFl1WEd18p3RAw9Izz/PZwYBBBBAAAEEEEAAAQQQQACBxAl4ar6eOGZaDiJAAmOSfETeeOMNX9KiObI4Y8aM/l516tRJkydP9v17LBMYjx8/LpNAZ3ZYNJdJpPzyyy999053bdu2zdff1GOmO3TooKlTp0aseeTIER08eFB58uRJd107duxQ4cKF0/182gdjFZejR4/6bFN3WDz//PP17bffyux2eer1xx9/6OKLL/btyGiucuXK+RIazY6YoVwkMIailM4yu6wdMl86mXCaWsuXl49Wm0/yBlS69PGrdX6+HOlsjMcQQAABBBBAAAEEEEAAAQQQSJ8ACYzpc+Op6Ap4akHE+pKyOnYMACykHdqlQv771itV651qdJ2pDQEEEEAAAQQQQAABBBBAAIFwBDw1Xw8HhrJxFSCBMa7c4TcWrwRGs6vidddd5+/gwIEDrVNO7MecnNr7SZMm6Y477vDdNr/Q1q5d60uuS+9lkhfNbo+//fabPvzwQ+XLly/sqp6wzlwZO3asPvnkE1WuXDns50N9INK4mGRPs7Ni6vXmm2+qdevAo4jT/rxt27b+8uZ5kzQaykUCYyhK6SxzYLc0snTAwz9fMVLXflw84P6ce69UtRKBiY3pbJ3HEEAAAQQQQAABBBBAAAEEEAhJgATGkJgoFGMBTy2IWCevWEevBIiW1TqtV1n//euvl6xDcbgQQAABBBBAAAEEEEAAAQQQSJiAp+brCVOm4WACJDAGE0rwzyNNlAu1+z179tTIkSP9xTds2KBSpUqd9XGzU6I5PtokHppryJAh6tOnT6hNBpRr3ry53nnnHd/96tWr+5IYCxQoEHJ9vXv31pNPPukrb3Zg/O9//xt0DCFXfkrBSONijuqeN2+er9ZixYpp8+bNZ91R8dixY74dOM3Ol+YyR0ibo6RDuUhgDEUpnWWOH5MGB35Gd17RX//6+KKASid2+peurhCd3UHT2WMeQwABBBBAAAEEEEAAAQQQ8KAACYweDHoSDtlTCyKLF0v16wdEoZa+0nLV8t+/7DJZ7zCTMFh0CQEEEEAAAQQQQAABBBBAwDMCnpqveyaqzhsoCYxJHrNIE+VCHZ7Z/e+tt97yFTcvtfft2xfSo1WrVtV3333nK1uzZk19/fXXIT13ukLTpk3z7UpojrM2lzk2eeHChSpYsGDQOk9NwGzRooVmzJihLFmyBH02PQUiiYtJ/DS7Sx4+fNjX9J133qkJEyYE7YYpN3HiRF+5bNmyac+ePb4/g10kMAYTivDnwy+QDu+1VXLw8kdU8ZPAo6VHtrpYrWuViLBBHkcAAQQQQAABBBBAAAEEEEAgPAESGMPzonRsBDy1IPLtt9IllwRAXqOP9LGu8d8va23GuG5dbLypFQEEEEAAAQQQQAABBBBAAIFQBDw1Xw8FhDIJESCBMSHsoTcaSaJc6K1IDRs21EcffeR7pHjx4vr1119DevzKK6/U559/7iubNWtWHThw4Kw7CQardPr06brtttv8SYwmQdIkMRYqVOiMjz788MN67rnn/D9v1aqVTD2ZM2cO1ly6fx5JXFasWOFL9ky9TPKiSU4MdplyXbp08Rcz9ZidKoNdJDAGE4rw589fLP252VZJyr+6qszSq3UixV53ryYV1K1emQgb5HEEEEAAAQQQQAABBBBAAAEEwhMggTE8L0rHRsBTCyKbNsk6GiYAsqXe0ttq6b+fP7+0e3dsvKkVAQQQQAABBBBAAAEEEEAAgVAEPDVfDwWEMgkRIIExIeyhNxpJolzorUgtW7bU22+/7Xskd+7c2rvXvqPcmepKuwOjKfPDDz+oYsWK4TQdUNbsnNihQwd/EmOlSpX08ccfq0iRIgFl77//fo0aNcp/3+wkaXZyjGXyomkskrhMnTrVt9Nk6rVkyRLVqVMnqJkpV69ePX+5119/XbfeemvAc2ZnxtRdLM0Pb7rpJl+SqTmie9y4cf7yZnfKPHnyBG03nAKeXBAZa8Xkt5V2piqtVOvHdtr11z/Hq6deXeuUUp+mlcIhpSwCCCCAAAIIIIAAAggggAACEQt4cr4esRoVRFvAUwsif/4p6wiWAELrHBZN1MkvMmfIIB09KmXKFG1t6kMAAQQQQAABBBBAAAEEEEAgNAFPzddDI6FUAgRIYEwAejhNRpIoF047Dz74oF544QX/Ixs2bLC+JBz4LeG0dR46dMiXAHfkyMkkrXnz5qlp06bhNH3asjNnzvQlMR47dsz3c5MUaZIYzzvvPN+/p6Sk6L777tPo0aP9z7dt21YmqS/WyYumwUjiMnjwYPXr18/f703WN7IvvPDCoGabN29WyZIl/eVMPX379g14zpQxZYNdJhly0aJFwYqd9uc7duw47f3SpUv7duHMlSuX9u/fn666HffQlJulDZ/Yu13mGl2360Gt/d1u0KJGcT3bJvD4IMeNmQ4jgAACCCCAAAIIIIAAAgg4SoAERkeFy7Wd9dSCyPHjsl5SBsTyYT2j5/Sw7f6uXVKBAq4NOwNDAAEEEEAAAQQQQAABBBBIcgFPzdeTPBZe7h4JjEke/UgS5cIZmtl90ezCmHqdKTkubZ2TJ0/2JfKlvczuh7fccks4TZ+x7KxZs9S+fXt/EuNFF13kS2IsWrSounXrZttN0LRpdjbMFKevK0cSl8cee0xPP/20f9x/Wt/IDmUnRFMuX5pvbvfs2VMjRowI8ItHAmPa/4CdLoCeSmCcZf0d+P7fdoZiNdQ+w3B9vt5+BlC98oU0+c5Lo/L3g0oQQAABBBBAAAEEEEAAAQQQCFWABMZQpSgXSwHPLYiYk0/27bORDlQ/DdBA2721a6Xy5WMpT90IIIAAAggggAACCCCAAAIInFnAc/N1PgxJKUACY1KG5WSnIkmUC2dof//9t2/HxdSd9UwC2ldffaUKFSqctprffvtNNWrU0Pbt220/N0cUd+3aNZymz1r2rbfe8iVEpu7EWK5cOV166aV64403/M+ZJMcpU6bELXnRNBxJXLp3764xY8b4+3/48GFlzZo1qJkply1bNn85U0/aHSiDVhDFAiQwpsGc95D09Wt23Xyl1KPwRM39dpvtfpXiuTWvR/DjwqMYKqpCAAEEEEAAAQQQQAABBBBAQCQw8iFIBgHPLYiYE1e2bLHRv6D7ZZ2DY7v3xRdS7drJECH6gAACCCCAAAIIIIAAAggg4EUBz83XvRhkB4yZBMYkD1IkiXLhDu3ll1/2HcucehUqVMiXINeiRQtlzJjRf//DDz/07YBojpk+9TJ13HPPPeE2fdbys2fPVrt27fxJjGkLm2OmJ02aFNfkRdN+JHHp0qWLJkyY4B/GcetImbS+Z8I4ceKEbZymnldffTWq1qFWxhHSaaQWDpI+fcZOly2vBlT6jyZ9vsl2v2iebPqi9zWhMlMOAQQQQAABBBBAAAEEEEAAgagIkMAYFUYqiVDAcwsiF18srV5tU5us29VJk2335s2TmjaNEJfHEUAAAQQQQAABBBBAAAEEEEingOfm6+l04rHYCpDAGFvfiGuPJFEuPY2nbS/1+QIFCqhixYq+5LmffvpJZvfF1KtHjx4aNWqU/9/NzohmR8RoX+Y46TZt2tiqNf8+ffr0kJL/ot2fSOLywAMP6MUXX/R36cCBA8qRI0fQLppyZmfM1MvU8/zzzwd9Lp4FPLkg8rn1+V/Q9xTmDBp11TI989HPtvtZM2XU2iGNFWwHy3jGjLYQQAABBBBAAAEEEEAAAQTcL+DJ+br7w+q4EXpuQaRuXetLr5/a4vSOblJzvWO7N9nKZ7z9dseFkw4jgAACCCCAAAIIIIAAAgi4RMBz83WXxM1twyCBMckjGkmiXHqGlpKSomHDhmnIkCE6dOjQGaswiXTPPfecSpYsqYYNG/rLzZ8/X9dff316mj7jM2aHQuPw+uuv28qYI68/+eQTXWiOY4nzFUlc+vTp4zNOvXbu3KmCBQsGHYEpV7hwYX+5vn37avDgwUGfi2cBTy6IfGN9LufcG8A869qlemye/ZggU2j1gEY6N1uWeIaFthBAAAEEEEAAAQQQQAABBDwu4Mn5usdjnozD99yCSLNmktleMc21SPV0tRbZ7lmvWPXgg8kYMfqEAAIIIIAAAggggAACCCDgBQHPzde9EFQHjpEExiQPWiSJcpEMbfv27Ro/frwWLlyoH3/8UX/88Ydv9z+TsHjjjTeqc+fOOv/8831HGN91113+pr7//ntVqlQpkqZtz5rkxdutryBPmzbNf9/sBGnum8skL5okRpPMGM8rkriYXRMfeughf3dXrVqlqlWrBu2+KVetWjV/OVOP2YUxmS5PLoj8OF+aEbjr6JImH+r2f+8MCM+CB+uq/HnnJlPY6AsCCCCAAAIIIIAAAggggIDLBTw5X3d5TJ04PM8tiNx2m6xvZNtCtSrjJap24hvbPes7ytaXlJ0YUfqMAAIIIIAAAggggAACCCDgBgHPzdfdEDQXjoEExiQPaiSJcvEYWteuXX2JjubKnTu39uzZE7UjnY8dO6YOHTpo5syZ/qE8/PDDuuGGG3z/+/vvv333L7jgAn388ccqU6ZMPIbsayOSuLz//vtq0qSJv69z5871jSfYZcqZ5NHU64MPPlCjRo2CPRbXn3tyQWTz59LEk/FMBX+25Bi9+GPuAP/MGTOoQtFzVadcIbW/9AKVyB/8+PC4BpHGEEAAAQQQQAABBBBAAAEEXCfgyfm666Lo/AF5bkHkvvukl1+2Be6XzCV1wbGNtnvdu0ujRzs/vowAAQQQQAABBBBAAAEEEEDAmQKem687M0yu7zUJjEke4kgS5eIxtLJly2r9+vW+psxR0gsWLIhKsyZ5sX379po1a5a/vscee0xPPfWU79+XLFmipk2b6q+//vL9u9kN0uzEaPoTjyuSuPzyyy++pMvUa+DAgerXr1/QbptyAwYM8Jcz9ZhxJ9PlyQWRHWust8y1A8Jw+5HHteTEyR0zTxenDBmkJlXOU/9mlVUkd7ZkCiV9QQABBBBAAAEEEEAAAQQQcJGAJ+frLoqfW4biuQURs7Xi0KG28O3NlE95j/9hu9e2rXW4xwy3RJlxIIAAAggggAACCCCAAAIIOE3Ac/N1pwXII/0lgTHJAx1Jolysh/bZZ5/pqquu8jczZcoU3WaORonwOnr0qG655RbNnj3bX1OvXr00fPhwW81Lly717WSYmsRYrFgxXxJj+fLlI+xB8McjjUvaxM8GDRr4juoOdplyZnzmMs+vW7cu2CNx/7knF0T2/SY9WyHA+v4j9+ndE1eEFIPc2TJraPOqalatWEjlKYQAAggggAACCCCAAAIIIIBAOAKenK+HA0TZuAh4bkFk5EipZ0+b7XFlVGYds+5Z32r933XttdKHH8YlBDSCAAIIIIAAAggggAACCCCAQIBAIufr+/fv18qVK7V8+XKtWLHC9+fatWt1/PhxXz8vvPBCbdq0Kd1RO3jwoKZOnSpzUqqpf+fOnTLjNflFVatWVevWrdW8eXOdc8456W6DB6MjQAJjdBxjVkukiXIx65hV8XXXXeffcbFAgQL69ddflS1bZLvImeTFNm3a6J133vF3vU+fPhoyZMhph/L555/7khj37dvn+3nRokV9x0lXqBCYUBZNi0jj0tN6eTnSvMS0rowZM2rjxo22XRlP7euWLVtUqlQpnThxwvcj8/yIESOiOaSo1OXJBZGjB61v058X4PfE0U6aejy8I74HNKukTleWikosqAQBBBBAAAEEEEAAAQQQQACBVAFPztcJf9IJJHJBJCEYr74q3XVXQNPnap/+0rn++9Wry1pESUgPaRQBBBBAAAEEEEAAAQQQQAABX0Jf6pWSkhI3kYsuusi3cdfZ2owkgdFsmnbvvffq999/P+uYKlasqIkTJ+qyyy6L29hpKFCABMYk/1REmigXq+GNGTNG3bt391f/yiuvqFu3bhE1d+TIEV9287vvvuuv54knntCgQYPOWu+yZct8yZR79+71lStSpIgvibFSpUoR9edsD0calzVr1viyuVOzxrt06aJXzUvNM1zm5xMmTPD9NFOmTFq9erXML9Fku7y4IDL322269u1qyp7hiC0czxxtpVHHW4QdolG3VGcnxrDVeAABBBBAAAEEEEAAAQQQQOBsAl6cr/OJSD6BRC2IJExi1ixZ39QOaL6EtuhXlfDfv+ACafPmhPWShhFAAAEEEEAAAQQQQAABBDwukKj5etp2zxSC9CYwPvPMM3r00Udt1ebPn9+3GVrmzJn1008/afv27f6fmx0YFyxYoLp163r805C44ZPAmDj7kFqONFHObKVqdu5LvTp27KhJkyadtu1jx45p+vTpatu2rbJmzXrGMs8++6x69+7t3w3w6quv9h2BHMovl7MN+uabb9acOXP8RQYMGKD+/fuH5PTVV1+pUaNG+vPPP33lCxcurC+++EKlS5cO6flwC0UaF9Ne586d9dprr/mbHjdunLp27RrQFXP/7rvv9t83z40fPz7cLselvNcWRLbvPaRGzy3WByndVDTDHzbjCceaaPCx8I9UN8dJf/hwPRXJHdlupnEJOI0ggAACCCCAAAIIIIAAAgg4QsBr83VHBMWDnUzUgkjCqK2FD+tb1wHNV9Fqfa8q/vu5cknWiVlcCCCAAAIIIIAAAgggOfzZAAAgAElEQVQggAACCCREIFHz9dR2c+bMqWrVqqlGjRqqWbOmZs6c6Tvy2VzpSWCcP3++mjVr5t/ZsWDBgnr55ZfVsmVL34Zh5jK7PpqERbNRW+oR1Xnz5tWqVatUosTJLx0mJCAebZQExiQJvDki+XTHJJsjlVOPDTZdPd256yYD2PzFOt0VTgLjoUOHlD17duXLl0/XX3+9rrjiCpUtW9Z3z5wDb86Df/PNN31buKZe1a0zTj766COZTOVIL5M8edttt/l2JRw8eLD69u0bVpXLly9Xw4YNtWfPHt8vnhkzZvgypyO5YhUX06ddu3apdu3aWr9+vb+L5pdou3btVKxYMW3bts03hrlz5/p/buJhEjPNL9hkvLy2INL99eV677vtei/r46qY8RdbSN46XlePHk3frqTXVz1Po2+tmYwhpk8IIIAAAggggAACCCCAAAIOFPDafN2BIfJElxO1IJIw3C+/lHX+VEDzV+lTfaarbPcPH5b1hfKE9ZSGEUAAAQQQQAABBBBAAAEEPCyQqPn6G2+84UtaNEdJZ8yY0R+BSDYUM/lG5rRWs8OiuUxy5JfW/PxMJ7iavBzTh9Rjpjt06KCpU6d6+NOQuKGTwJg4e1vLZrfBgQMHpqs39erV06JFi077bHoSGEPtRNOmTX1/cU3CY7SuadOmacuWLerVq1e6qvzmm2/00ksvaezYsREnL5oOxCouqYMzyaDm+OuNGzcGHa/ZSdMkqpokxmS9vLQg8ssff6vuyE+szHxpRtbBqp1xjS0sHx6voa5H7VsShxq3DBmkJY9drRL5c4T6COUQQAABBBBAAAEEEEAAAQQQOKOAl+brfAySVyBRCyIJE1m7VtbZVAHNN9U8/UdNbfet9RIVLZqwntIwAggggAACCCCAAAIIIICAhwWSbb4eSQKjyakxOTipl8nD6tev31mja06xveOOO3xljMVaaz5frlw5D38iEjN0EhgT4x7QaqwS5cJJYDRHSLdu3VpLlizRH3/Yj8NN7bDJeja7Bj722GMyRz67/YpVXNK6/fXXX+rTp48mT56svXv3BpDmyZNH5ujvoUOHKpc5UyaJLy8tiIx4/0e9suif3TPHZHlOjTN9ZYvMVyfKq/WRAemOVvf6ZfR448CX3OmukAcRQAABBBBAAAEEEEAAAQQ8K+Cl+bpng+yAgSfbgkjMyX7/XTrvvIBmbtXrmqZbbfe/+06qXDnmPaIBBBBAAAEEEEAAAQQQQAABBAIEkm2+HkkCY8+ePTVy5Ej/GDds2CCzWdjZroMHD8ocH33kyBFfMXNSq8nh4YqvAAmM8fV2RGvmrPfVq1f7joresWOH70hms8tiUetrwCZ58bzTvHhzxMCSvJPmCO/FixfLJJ3u3r1bBQoUUMmSJVW/fv3THh2ejMPx0oLIDaM+1Xdb9/nC8GTmcWqXeZEtJOtOFFfDIyf/wxhuvKoWz6O5PezHCYVbB+URQAABBP6fvTuBt6nq/zj+dc1D5plCGSISMiRDKlNFZQhFk1kpDZSoiFRSHhmSNJGp6En0JENJ0mRKyExlisqYjPc+e5843e3gnnsme5/12V69vNp7rbXXev92z/+/9vqdvRBAAAEEEEAAAQQQsAVMmq8TcfcKuG1BJOpS1rs+Zc4ccJv7NEKjdJ/jvPVKUHXqRL1H3AABBBBAAAEEEEAAAQQQQACBAAG3zdfDSWC0P9o2depU3xjt92H79/+T05HSUaFCBa20f11oHVWqVNHixYtTqsL1CAuQwBhhUJpDwGQBUxZEjhw/ofJPf6pjJ6z9o62jd7oJ6pzuY0fodyflUNUjr4b8OGRIm6CV/RsqQ7qEkNugIgIIIIAAAggggAACCCCAAAK2gCnzdaLtbgG3LYjERCtTJunIEcetntCzek5POM598IF0660x6RE3QQABBBBAAAEEEEAAAQQQQMAh4Lb5ejgJjPXr19fcuXN94ytSpIi2bt0aVLSvvvpqLVq0yFc2Q4YM+uuvv5QuXbqg6lIoMgIkMEbGkVYQQMASMGVBZPPvf6nekPn+mHdLO1290k9xPANHk9Kq9JFx1rk0IT8bnz96jUrkzRpyfSoigAACCCCAAAIIIIAAAgggYAuYMl8n2u4WcNuCSEy0ChSQtcWN41aD1VOPabDj3NixUvv2MekRN0EAAQQQQAABBBBAAAEEEEDAIeC2+Xo4CYzNmzfXB/avBK0je/bs2rdvX1DRTv4FRrvC6tWrVbZs2aDqUigyAiQwRsaRVhBAwBIwZUFkzc79avSfL/0xvz3tPA1K/0bAM1Du8Js6JOuX9iEes3rU1qUFs4dYm2oIIIAAAggggAACCCCAAAII/CNgynydeLtbwG0LIjHRKlNGWrfOcasx6qTOes1x7oUXpF69YtIjboIAAggggAACCCCAAAIIIICAQ8Bt8/VwEhh79OihYcOG+ce3adMmlShR4pwRP3z4sHLkyKGjR4/6y82cOVM33ngjT0oMBUhgjCE2t0Ig3gVMWRA5/QuMNyR8o1EZXgkIb83Dr2i78oYcdr7AGDIdFRFAAAEEEEAAAQQQQAABBJIJmDJfJ+juFnDbgkhMtKpVk77/3nGrDzPcpluPOnfysJMX7SRGDgQQQAABBBBAAAEEEEAAAQRiLZB8vp4tW7agb9+7d2898cQTQZcPtmA4CYz21xftrzCeOgYMGKC+ffue89bvvPOO7HsmPyZOnKg2bdoE22XKRUCABMYIINIEAgj8I2DKgsiR4ydU/ulPdexEkm/cNRNWamKGQQGPQeMjz+mnpGIhPR4Z0iZoZf+GypAuIaT6VEIAAQQQQAABBBBAAAEEEEDglIAp83Ui7m4BIxMYGzSQ5sxxBObLLA1V59Asxzl7+2h7G2kOBBBAAAEEEEAAAQQQQAABBGItkHy+npp7P/300+rXr19qqgRVNpwExkOHDvm+uLhr1y7fveyEzO+tHxZeeumlZ7z3jh07VLlyZe3cudNxfcyYMerYsWNQ/aVQZARIYIyMI60ggIAlYNKCyE3Dv9TKbft9cb8szRZ9nDHwlwVtjvbR14mXhfRsVCiSQzO61wqpLpUQQAABBBBAAAEEEEAAAQQQSC5g0nzdrZE/cOCAli9friVLlmjp0qW+v9euXasTJ074ulysWDFt2bIl5O7//fffGj9+vGbNmuVrf/fu3bIXIAoXLqwKFSqoZcuWuvXWW5UxY8aQ7xFuRSMTGG+7TXr/fQfdqmzVVf7gN45zVmhkfSSCAwEEEEAAAQQQQAABBBBAAIGYC8TTFxhtvJEjR+r+++/3O+bLl0+jRo1Ss2bNlJDw7wek5lg/OOzSpYvsbaZPP+w2unXrFvNYmHxDEhhNjj5jRyDCAiYtiLwwa41enb/RJ1hEu/VVpgcDNLsc7aFZidZWQSEcXa+5RI81OvOvAEJojioIIIAAAggggAACCCCAAAIGC5g0X3djmMuUKaP169crKemfnRzOdISTwDht2jTdd999+u233845/LJly+qtt95S9erVzwuTkQmM9tcaTvu04q/ZLtVFB39yxKBOHemLL85LWLgpAggggAACCCCAAAIIIICA4QJum6+H8wXGU6FM3sapc3ny5JH9biRt2rRat26d7K8vnjq6d++u4cOH+/99woQJuv322w1/MmI7fBIYY+vN3RCIawGTFkR+/fOQ6rz4ubX4IGXV31qVydrr57Tj8WMdNPnEtamOufWBBC3oWU8X5s6S6rpUQAABBBBAAAEEEEAAAQQQQOB0AZPm626MfjBbMYWawPjSSy/p0UcfdQw7d+7cvq2R0qVL53shn3wbJPsLjLNnz1YdO2MuxofbFkRiMvyePaUhQxy32pu5oHL9/e8iiX3xMmsDj5UrY9IjboIAAggggAACCCCAAAIIIICAQ8Bt8/VIJDDaPyIdNGiQBg4cqMOHD5814vYW00OHDlXx4sVVv359f7mPP/5YN9xwA09KDAVIYIwhNrdCIN4FTFsQ6fruEn2ycqcV1iRtyNhO6dIkOkL8/LHWGn2iaarDfkOFghp1R5VU16MCAggggAACCCCAAAIIIIAAAmcSMG2+7ran4NRCQNasWVWxYkVVrlxZVapU0ZQpU3xbPttHKAmM9sv0Jk2a+L/smDdvXt82Sc2bN/d9TcA+7Bf2dsKivSXSqS2qc+bMqRUrVujCCy+MKZXbFkRiMnhroURPPum41dF0mZXx+CHHuUKFpO3bY9IjboIAAggggAACCCCAAAIIIICAQ8Bt8/VIJDCeGqD9o86x1s4I8+bN05o1a/Tnn3/KTlq0ExabNm2q9u3bq2jRonr99dfVqVMnv8uqVatUrlw5npQYCpDAGENsboVAvAuYtiCyc99hNRj6hfYfPq7FGbsob5r9jhCPPt5Ezx9vk6qwZ8+UTnMerqsC2TOlqh6FEUAAAQQQQAABBBBAAAEEEDibgGnzdbc9Cfa2Q3bSor2VdEJCgr974byQP3HihO9Fuv2FRfuwkyO/++67s75c325lx9l9OLXNdNu2bTV+/PiYUrltQSQmgx8xQrK2oTr9yKjDOqqM/tMZMsj6IoRk78rBgQACCCCAAAIIIIAAAggggEAsBdw2Xw/nfUmobh07dvQlOtpH9uzZtWfPHsc7nFDbpV7wAiQwBm9FSQQQSEHAxAWRGT9sV/dJyzQvwyO6JMG5/c+k4/XU+3jHVD03w9tUUpOKhVNVh8IIIIAAAggggAACCCCAAAIInEvAxPm6F56IcF7I219VbNiwoX+Y/fv311NPPXXOYb/99tu65557fGXsxYm1a9eqVKlSMaNy24JITAZuJ4neeWfArfLrN+1Wfsf5AwdkfQUiJr3iJggggAACCCCAAAIIIIAAAgj4Bdw2Xw/nfUmoYS1ZsqQ2btzoq25vJW2/d+GIrQAJjLH15m4IxLWAqQsib3+1WRU+bakqCesd8f3kRFV1PfZQ0DHv16Sc7r66RNDlKYgAAggggAACCCCAAAIIIIBAMAKmzteDsTmfZcJ5Id+rVy+9+OKL/u5v2rRJJUqc+53C33//LXv76KNHj/rqDbS2N+7Tp0/MCNy2IBKTgc+YIWtPqoBbldI6bZAzefTnn6WLLopJr7gJAggggAACCCCAAAIIIIAAAn4Bt83Xw3lfEkpYv/rqK9WqVctfddy4cWrXrl0oTVEnDAESGMPAoyoCCDgFTF4Q+e3Vpirw2xcOkEUnyun2Y31TfEzsbaOfvbUCX15MUYoCCCCAAAIIIIAAAggggAACoQiYPF8PxStWdcJ5Id+yZUtNnTrV11U7vvv37w+q2xUqVNDKlSt9ZatUqaLFixcHVS8Shdy2IBKJMaXYxoIFUt26AcWq6jstVlXH+aVLpUqVUmyRAggggAACCCCAAAIIIIAAAghEVMBt8/Vw3peEAmPvcHHqi4t58uTR1q1blSlTplCaok4YAiQwhoFHVQQQcAoYvSDyQWdpxWQHyOrEYrrh6HNnfUys3ZrUuHxBPd3kMhXIzv8B5L8nBBBAAAEEEEAAAQQQQACB6AgYPV+PDmlEWg3nhby9ndHcuXN9/ShSpIjv5Xowx9VXX61Fixb5imbIkEF//fWX0qVLF0zVsMu4bUEk7AEF08CKFVLFigElr9cczdP1jvNz5kjXO08FcwfKIIAAAggggAACCCCAAAIIIBCWgNvm6+G8L0ktxOjRo9W1a1d/tVdffVVdunRJbTOUj4AACYwRQKQJBBD4R8DoBZFPHpe+fdXxKOxOyKcah1/RicSkgEfk7prF1L7WxbowdxYeHwQQQAABBBBAAAEEEEAAAQSiKmD0fD2qsuE1Hs4L+ebNm+uDDz7wdSB79uzat29fUJ1J/gVGu8Lq1atVtmzZoOqGW8htCyLhjieo+va+0MWLBxRtofc1TS0c56dMkW67LahWKYQAAggggAACCCCAAAIIIIBAxATcNl8P532JjXL8+HFNmjRJrVq18v1480yHXebll19W7969lZiY6CtSr149zZs3T8k9IoZMQykKkMCYIhEFEEAgWAGjF0TmvyDNH+SkSp9Vc29dqg7jlgQQzn6ojkoXuCBYWsohgAACCCCAAAIIIIAAAgggELKA0fP1kNWiXzGcF/I9evTQsGHD/J3ctGmTSpQocc5OHz58WDly5NDRo0f95WbOnKkbb7wx+oO17uC2BZGYDNpOLM2ZM+BW7TVWb6q94/yoUbK++hCTXnETBBBAAAEEEEAAAQQQQAABBPwC52u+PnDgQNn/nH4cO3bMn1RoX8uYMWNAmTp16vi3fT79ov3+I3PmzMqVK5duuOEG1axZUyVLlvSd2717t5YuXar33ntP69ev91etVKmSb6eL3Llz82ScJwESGM8TPLdFIB4FjF4Q+XaM9EnPgLD+cPc63Tx6ccD5KZ1qqPrFeeLxMWBMCCCAAAIIIIAAAggggAACLhMwer7uslgk7044CYz21xftrzCeOgYMGKC+ffuec7TvvPOO7HsmPyZOnKg2bdqEpDRo0CA999xzQdc9ePCgv2xSUuBuFUE35KWC9lcc7C26TxvvY2mHaPCJRxwjsUJoxdBLg6OvCCCAAAIIIIAAAggggAAC8SBwvhIY+/Xrp/79+4dEWLduXc2fP/+MdU8lMAbbsP3DzvHjx/sSHjnOnwAJjOfPnjsjEHcCRi+IrHhP+qBjQEx/vXe5ao9aHXD+tXZV1PCygnH3DDAgBBBAAAEEEEAAAQQQQAAB9wkYPV93Xzj8PQongfHQoUO+Ly7u2rXL1162bNn0/fff69JLLz3jiHfs2KHKlStr586djutjxoxRx46B7zOCYQtnocGYBEYb0v4C42lbfA/N9qQePviMg9n6qKaGDg1GnjIIIIAAAggggAACCCCAAAIIRE4g3hIY7e2hW7ZsqQULFujPP/88I1RCQoJq1Kihnj176pZbbokcJi2FLEACY8h0VEQAgdMFjF4QWT9HmtAi4KE4cO9XqjDq54Dzg5tfrtuqXshDhAACCCCAAAIIIIAAAggggEDUBYyer0ddN/QbhJPAaN915MiRuv/++/0dyJcvn0ZZ+xA3a9ZM9ov4U8ecOXPUpUsX2dtMn37YbXTr1i2kQfAFxiDZiheXfna+G5qQp7va/vGKo4E775Ssj2RyIIAAAggggAACCCCAAAIIIBBTgfOVwBjtQdo/nvzxxx99W0XbPwDds2eP7yuLhQoV8iUvFizIB6eiHYPUtE8CY2q0KIsAAucUMHpBZKu1TfTY6wJ8Eu/+RCVf26PE03ZG6t34UnWuewlPFAIIIIAAAggggAACCCCAAAJRFzB6vh513dBvEG4Co33n5G2c6kmePHlUtmxZpU2bVuvWrZP99cVTR/fu3TV8+HD/v0+YMEG333576INIRc14XRBJkaBiRWnFCkexWQXuVOPfnNmK1o5VmjkzxdYogAACCCCAAAIIIIAAAggggEBEBYydr0dUkcbCFSCBMVxB6iOAgF/A6AWRPzZKwysHPg1tJqvSlLTac+iY41rXay7RY43OvK0TjxQCCCCAAAIIIIAAAggggAACkRQwer4eScgItxWJBEb7awL2lxAHDhyow4cPn7WH9hbTQ639iYtbXwOsX7++v9zHH3+sG264IcIjO3Nzxi6I1K0ra98qB8p3hZqq+o7pjnPWxx/09dcxCQU3QQABBBBAAAEEEEAAAQQQQMAvYOx8nWfAVQIkMLoqHHQGAW8LGL0gcuhPaXCJwADe8qrqzS2szb//5bjWptqFeq7Z5d4OOL1HAAEEEEAAAQQQQAABBBDwhIDR83UXRygSCYynhrdz506NHTtW8+bN05o1a/Tnn3/KTlq0ExabNm2q9u3bq2jRonr99dfVqVMnv8qqVatUrly5mCgZuyBi+WvGDIfxuoJ1VGbnF45zpUtLa9fGJBTcBAEEEEAAAQQQQAABBBBAAAG/gLHzdZ4BVwmQwOiqcNAZBLwtYPSCSOIJ6ZncgQFsOEi3LrtCy37Z67jWuHxBvdq2ircDTu8RQAABBBBAAAEEEEAAAQQ8IWD0fN3FEYpkAmOww+zYsaMv0dE+smfPrj179ighISHY6mGVM3ZB5M47pfHjHXbb81dUkV3LHeesnb/1++9hEVMZAQQQQAABBBBAAAEEEEAAgVQLGDtfT7UUFaIpQAJjNHVpGwHDBIxfEHn+IunwPmfU6/TUPT830OdrdzvOX3VxHk3qZO0NxIEAAggggAACCCCAAAIIIIBAlAWMn69H2TfU5s9HAmPJkiW1ceNGX5ftraRnz54davdTXc/YBZHu3aURIxxe+3IVU849Wxzn7DzSY8dkJZSmmpYKCCCAAAIIIIAAAggggAACCIQsYOx8PWQxKkZDgATGaKjSJgKGChi/IDKsonTay2dV7aCHDrbTf5dtczwVlxa8QLN61DH0SWHYCCCAAAIIIIAAAggggAACsRQwfr4eS+xU3CvWCYxfffWVatWq5e/huHHj1K5du1T0OLyixi6IPPmkNHCgA+9IlpzKdGhPAOiOHVLBguE5UxsBBBBAAAEEEEAAAQQQQACB1AgYO19PDRJloy5AAmPUibkBAuYIGL8g8lpdaYdz+x+Vb67+GR/RW19tcTwIhXJk0te9rzPn4WCkCCCAAAIIIIAAAggggAAC503A+Pn6eZM/941jncDYsGFD/xcX81j7FW/dulWZMmWKmY6xCyJDhkg9ezqcE5VG6XRcSXJ+bjF9eqlCBalBA6lTJ6lEiZiFhxshgAACCCCAAAIIIIAAAggYKmDsfN3QeLt12CQwujUy9AsBDwoYvyAy7hZp0+fOyF1yrYYVGqyhc9c5zmdKn6A1Axp7MMp0GQEEEEAAAQQQQAABBBBAwGsCxs/XXRqwWCYwjh49Wl27dvVLvPrqq+rSpUtMZYxdEBk7VurYMcA6u/bpgLKfNQZp0kjNm0vDhkmFC8c0VNwMAQQQQAABBBBAAAEEEEDAIAFj5+sGxdgLQyWB0QtRoo8IeETA+AWR9++RVn3gjFbhShpX4W09NX1VQBTXDGikTOnTeiS6dBMBBBBAAAEEEEAAAQQQQMCrAsbP110auHATGI8fP65JkyapVatWypAhwxlHaZd5+eWX1bt3byUmJvrK1KtXT/PmzVPyBYpYEBm7IDJ1qtSyZQDxRfpZv+qiFOlz5pSs/FMrzikWpQACCCCAAAIIIIAAAggggAACqRYwdr6eaikqRFOABMZo6tI2AoYJGL8gMvNhafEbzqjnKqHpdT/Wg5NP21raKvXtE9epQPbYbdVk2OPIcBFAAAEEEEAAAQQQQAABBE4KGD9fP89PwsCBA2X/c/px7Ngxf1KhfS1jxowBZerUqePf9vn0i4cPH1bmzJmVK1cu3XDDDapZs6ZKlizpO7d7924tXbpU7733ntavX++vWqlSJc2dO1e5c+eOuYqpCyL/7TZHt75q7Ql92lFBK7RS1n7RQR6vvCJ17x5kYYohgAACCCCAAAIIIIAAAgggEKSAqfP1IHkoFiMBEhhjBM1tEDBBwPgFkXkDpC+HOEOdKae+aLZYd735XcAjMKtHbV1a8OxbBZnwzDBGBBBAAAEEEEAAAQQQQACB6AsYP1+PPvE579CvXz/1798/pF7UrVtX8+fPP2PdUwmMwTZ84403avz48b6Ex/NxmLggMmWKNKT19/pe1QLIa2uBFqp2qkIxeTJfYkwVGIURQAABBBBAAAEEEEAAAQRSFDBxvp4iCgViLkACY8zJuSEC8Stg/ILIohHS7D6nBTiNVty7UU1HfRMQ+MmdaqjGxXni94FgZAgggAACCCCAAAIIIIAAAq4QMH6+fp6jEK0ERnt76JbW1sQLFizQn3/+ecZRJiQkqEaNGurZs6duueWW8yph2oLItm1S+fJSvr3rtE5lAuxv0gx9rJtSFRN7O+lVq6TChVNVjcIIIIAAAggggAACCCCAAAIInFXAtPk6j4I7BUhgdGdc6BUCnhQwfkFk2QRpereA2G3tuFq1hgduIT26bWU1Kl/Ik7Gm0wgggAACCCCAAAIIIIAAAt4RMH6+7p1QhdTTpKQk/fjjj76tonft2qU9e/b4vrJYqFAhX/JiwYIFQ2o30pVMWxBp0UKaNs1KYNQu60+BAM62Gq8JaptqZrvd999PdTUqIIAAAggggAACCCCAAAIIIHBGAdPm6zwG7hQggdGdcaFXCHhSwPgFkTX/kya3CYjdgc7fqcKwDQHnn29WQa2rXeTJWNNpBBBAAAEEEEAAAQQQQAAB7wgYP1/3TqjiuqcmLYhs3ixdcolk5ZYqg45YfzIFxPZ+DddI3Z/qmKdJI23cKJUokeqqVEAAAQQQQAABBBBAAAEEEEAgQMCk+Trhd68ACYzujQ09Q8BzAsYviPy8SHqrcUDckjrMU8lRu3Qi0Xprnex4rNGl6nqN9TabAwEEEEAAAQQQQAABBBBAAIEoChg/X4+iLU0HL2DSgkjv3tLzz/9rc0iZrT+HHVh9NFCD1Cd4wGQlH39ceu65kKpSCQEEEEAAAQQQQAABBBBAAAGHgEnzdULvXgESGN0bG3qGgOcEjF8Q2fWTNKpGYNzumKYqk5P0x19HHdc6171YvRuX9Vyc6TACCCCAAAIIIIAAAggggIC3BIyfr3srXHHbW5MWRKpUkZYu/TeUO1TQ+vObI7Yv6lH10oshxdtuf/HikKpSCQEEEEAAAQQQQAABBBBAAAGHgEnzdULvXgESGN0bG3qGgOcEjF8QObBTeqlMYNyajdW1c/Jp0+6/HNdaV71Qzze/3HNxpsMIIIAAAggggAACCCCAAALeEjB+vu6tcMVtb01ZEDlyRLrgAunYsX9D+ZMutf6sdcR2jDqqs8aEFO8MGaQDB6ztqa2/ORBAAAEEEEAAAQQQQAABBBAIR8CU+Xo4RtSNvgAJjNE35g4IGCNg/ILIMWsroGcLBMb7hiFqtriclv6y13Gt4WUF9Fq7K/hCJegAACAASURBVI15PhgoAggggAACCCCAAAIIIIDA+REwfr5+fti562kCpiyIrF8vlS7tHPw3qm79+c5x8j21VCu9F/Jzsm6dVKpUyNWpiAACCCCAAAIIIIAAAggggIBPwJT5OuF2twAJjO6OD71DwFMCLIhY4Xq2kPUT+0POuNXro/ab62neml2O89VL5NaUzld5KsZ0FgEEEEAAAQQQQAABBBBAwHsCzNe9F7N47LEpCyI//ihdftqGG7PU0Poz2xHWT9VAjfRpyKFesUKqUCHk6lREAAEEEEAAAQQQQAABBBBAwCdgynydcLtbgARGd8eH3iHgKQEWRKxwvVxO2r/NGbca3fTw/lb6YKnzfJkCF+jTh+p4KsZ0FgEEEEAAAQQQQAABBBBAwHsCzNe9F7N47LEpCyJn+gLjZOtbi6d/bfFbVVMNfRtyqPkCY8h0VEQAAQQQQAABBBBAAAEEEEgmYMp8naC7W4AERnfHh94h4CkBFkSscL16tfTbSmfcKrbRgPQP6I2Fmx3nC2TPqG+fuN5TMaazCCCAAAIIIIAAAggggAAC3hNgvu69mMVjj01ZEDlyRLrgAmuDjmP/RvE1dbL+vO4I6xqVUVmtCSnUGTJIBw5I9t8cCCCAAAIIIIAAAggggAACCIQjYMp8PRwj6kZfgATG6BtzBwSMEWBBxAr12zdJW750xrx0Iw0vMFAvzVnnOJ8xXYLWDmxszPPBQBFAAAEEEEAAAQQQQAABBM6PAPP18+POXZ0CJi2IVKkiLV367/hfUC/rz4sOkJ0qoELaGdJjYre/eHFIVamEAAIIIIAAAggggAACCCCAgEPApPk6oXevAAmM7o0NPUPAcwIsiFghm9JW+mmGM3YXVtf4cmP05PRVATH96ZlGypwhrediTYcRQAABBBBAAAEEEEAAAQS8I8B83TuxiueemrQg0ru39Pzz/0bzCT1r/enrCO/fyqQs+jukkD/+uPTccyFVpRICCCCAAAIIIIAAAggggAACDgGT5uuE3r0CJDC6Nzb0DAHPCbAgYoVs+v3SsvHO2OUtrRm1p6v7pGUBMf2697UqlCOz52JNhxFAAAEEEEAAAQQQQAABBLwjwHzdO7GK556atCCyebN0ySVSUtI/Ee2mkdYf653RaUcmK4HxiJXImJojTRpp40apRInU1KIsAggggAACCCCAAAIIIIAAAmcWMGm+zjPgXgESGN0bG3qGgOcEWBCxQjb7SWnRK87YZc2nL2/5Wu3e+C4gpv97oLbKFc7uuVjTYQQQQAABBBBAAAEEEEAAAe8IMF/3TqziuaemLYi0aCFNm/ZPRO/Qu9afdgHhLWBtIb3L2ko6NYfd7vvvp6YGZRFAAAEEEEAAAQQQQAABBBA4u4Bp83WeBXcKkMDozrjQKwQ8KcCCiBW2L1+W5vV3xi8hvVbeu0E3jfgqIK4TO1ZXzUvyejLedBoBBBBAAAEEEEAAAQQQQMAbAszXvRGneO+laQsi27ZJ5ctLe/dKN2qm9adJQIhLa63Wq3TQoc+ZU1q1SipcOOgqFEQAAQQQQAABBBBAAAEEEEDgnAKmzdd5HNwpQAKjO+NCrxDwpAALIlbYFr8lzewREL+tXTao1n8Cv8D46h2V1bhCIU/Gm04jgAACCCCAAAIIIIAAAgh4Q4D5ujfiFO+9NHFBZMoUqXVrqZa+tP7UCQhxNX2r71Ut6NBPniy1ahV0cQoigAACCCCAAAIIIIAAAgggkKKAifP1FFEoEHMBEhhjTs4NEYhfARZErNiu+tDax+eugCAf7Lpc5YeuDjg/6NYKur36RfH7UDAyBBBAAAEEEEAAAQQQQACB8y7AfP28h4AOWAKmLogMHy6NeeBH/ajLA56D+pqtuaof1PPxyitS9+5BFaUQAggggAACCCCAAAIIIIAAAkELmDpfDxqIgjERIIExJszcBAEzBFgQseK86QtpXNOAgCd1XqBSw7fpeGKS41qvRmXU7ZqSZjwgjBIBBBBAAAEEEEAAAQQQQOC8CDBfPy/s3PQ0AZMXRGaM/EVN7i8W8Ey01HuaqpbnfFbsbaNHj+bLi/wHhQACCCCAAAIIIIAAAgggEB0Bk+fr0RGl1VAESGAMRY06CCBwRgEWRCyWHSuk12oH+tz5ka6ceFS/HzzquNapzsV64oayPFEIIIAAAggggAACCCCAAAIIRE2A+XrUaGk4FQJGL4js3y/lyBGg1UGv6w11OKNimjRS8+bSsGFS4cKpgKYoAggggAACCCCAAAIIIIAAAqkQMHq+ngonikZXgATG6PrSOgJGCbAgYoV776/Sf8oHxr3lO7r+01zasOug49ptVxbV4BYVjXpOGCwCCCCAAAIIIIAAAggggEBsBZivx9abu51ZwOgFkcREKX16yf472dEzzYsakvSo41yWLNKDD0odO0olSvA0IYAAAggggAACCCCAAAIIIBBdAaPn69GlpfVUCJDAmAosiiKAwLkFWBCxfI4ckJ4rGgh103/U4vsyWvzzHse1+uUK6PU7r+TRQgABBBBAAAEEEEAAAQQQQCBqAszXo0ZLw6kQMH5BJFcu64evex1iH1fuq5uWDnCcs5MWN21KBSxFEUAAAQQQQAABBBBAAAEEEAhDwPj5ehh2VI2cAAmMkbOkJQSMF2BBxHoEkpKkAXmtX9Qfdz4P1z2tDptqa+5PuxznqxXPrfe6XGX8swMAAggggAACCCCAAAIIIIBA9ASYr0fPlpaDFzB+QcTOTNyyxQH29ZX3q+bi4Y5zOXNKe5y/fw0emZIIIIAAAggggAACCCCAAAIIpFLA+Pl6Kr0oHh0BEhij40qrCBgpwILIybC/WFL6a7fzGaj5gB7d10JTl2x1nC9dIJtmP1TXyOeFQSOAAAIIIIAAAggggAACCMRGgPl6bJy5y7kFjF8QueIK6YcfHEirqrRT+SXjHOfSpJGOW7+LTUjgiUIAAQQQQAABBBBAAAEEEEAg+gLGz9ejT8wdghAggTEIJIoggEBwAiyInHQaUVX6fZ0TrfKdGpjQVWMXbnacz3dBRn3f5/rggCmFAAIIIIAAAggggAACCCCAQAgCzNdDQKNKxAWMXxC55hrpiy8crj9XbKLiP3wUYP3nn5K94zQHAggggAACCCCAAAIIIIAAAtEWMH6+Hm1g2g9KgATGoJgohAACwQiwIHJS6Y0G0q/fOsnKNtHI/P304qdrHeczpE3Q2oGNlPz/KQjGmjIIIIAAAggggAACCCCAAAIIBCvAfD1YKcpFU8D4BZGbb5Y+ciYr7i5XR/lXO5Ma7Rhs2iTZO05zIIAAAggggAACCCCAAAIIIBBtAePn69EGpv2gBEhgDIqJQgggEIwACyInlSa2ktbNcpIVr613Lx2pvh+uDKBc1b+hsmZMFwwxZRBAAAEEEEAAAQQQQAABBBBItQDz9VSTUSEKAsYviNx1lzTOuV30wYsv1wWbnNtK2/RLlkiVK0chCDSJAAIIIIAAAggggAACCCCAwGkCxs/XeSJcIUACoyvCQCcQiA8BFkROxvG/XaQfJjmDWqC8Zl79vu6fuCwg2F89fq2K5MwcHw8Bo0AAAQQQQAABBBBAAAEEEHCdAPN114XEyA4ZvyDywAPS8OGO2B8teJEy7vw54HmYO1e67jojHxMGjQACCCCAAAIIIIAAAgggEGMB4+frMfbmdmcWIIGRJwMBBCImwILIScpZvaVvRjldsxfRV00X6I6xp20tbZX6+IFauqxwjojFgYYQQAABBBBAAAEEEEAAAQQQSC7AfJ3nwQ0Cxi+IPPWUNGCAIxSJF+RQ2gN7A8Lz/vtSixZuiBp9QAABBBBAAAEEEEAAAQQQiHcB4+fr8R5gj4yPBEaPBIpuIuAFARZETkZp/gvS/EHOkKXPopV3r9FNwxcGhHJCh+q6umReL4SYPiKAAAIIIIAAAggggAACCHhQgPm6B4MWh102fkHkpZekRx91RDYpTRqlTTquJCU4zo8ZI3XsGIcPAUNCAAEEEEAAAQQQQAABBBBwnYDx83XXRcTMDpHAaGbcGTUCURFgQeQk67fWW+ZPegYYb7t/i64esijg/MjbK+vGywtFJSY0igACCCCAAAIIIIAAAggggADzdZ4BNwgYvyDyxhtShw4BocidsFd7Ep07c7xg/Ta2Vy83RI0+IIAAAggggAACCCCAAAIIxLuA8fP1eA+wR8ZHAqNHAkU3EfCCAAsiJ6O0wtrn54PAF9KHuq9SuRd/CAjlwFvKq22NYl4IMX1EAAEEEEAAAQQQQAABBBDwoADzdQ8GLQ67bPyCyLRpZ9wX+oqcW/TDXud7occfl557Lg4fAoaEAAIIIIAAAggggAACCCDgOgHj5+uui4iZHSKB0cy4M2oEoiLAgshJ1vVzpQnNA4yTun2jMsO26OiJRMe1ng3L6L56JaMSExpFAAEEEEAAAQQQQAABBBBAgPk6z4AbBIxfEJlrvS+qXz8gFDcW/UH/23q543znztLo0W6IGn1AAAEEEEAAAQQQQAABBBCIdwHj5+vxHmCPjI8ERo8Eim4i4AUBFkRORmnrEmnstYEhu2eWqr77l3YfOOK41rF2CfW5sZwXQkwfEUAAAQQQQAABBBBAAAEEPCjAfN2DQYvDLhu/ILJ4sVS1akBkO5X5Qq+vreM4f9tt0pQpcfgQMCQEEEAAAQQQQAABBBBAAAHXCRg/X3ddRMzsEAmMZsadUSMQFQEWRE6y/rFRGl450Lj1JNX/X1at33XQca1FlaIa0rJiVGJCowgggAACCCCAAAIIIIAAAggwX+cZcIOA8Qsi69dLpUsHhOKpKz7SgOVNHOcbNJA+/dQNUaMPCCCAAAIIIIAAAggggAAC8S5g/Hw93gPskfGRwOiRQNFNBLwgwILIySgd+lMaXCIwZDeP0m3fXqzvtljXkx3Xly2gsXdd6YUQ00cEEEAAAQQQQAABBBBAAAEPCjBf92DQ4rDLxi+I7N4t5c8fENkR1cap+3ftHOftDzV+910cPgQMCQEEEEAAAQQQQAABBBBAwHUCxs/XXRcRMztEAqOZcWfUCERFgAWRk6yJJ6Rn8lj/kuR0bvCsOm6ooTmrf3Ocv7JYLk3tWjMqMaFRBBBAAAEEEEAAAQQQQAABBJiv8wy4QcD4BZGjR6WMGQNCMfnq4Wrz1f2O8yVLSvYHGzkQQAABBBBAAAEEEEAAAQQQiLaA8fP1aAPTflACJDAGxUQhBBAIRoAFkWRKz18kHd7nZKv9qHrtaar3Fm91vpTOn01zH64bDDFlEEAAAQQQQAABBBBAAAEEEEi1APP1VJNRIQoCLIhYqFmySH//7dCdXXuAGn7Z13Euj/W72N9/j0IQaBIBBBBAAAEEEEAAAQQQQACB0wSYr/NIuEGABEY3RIE+IBAnAiyIJAvksIrSni3OyF7ZXoMSOmrMgk2O83mzZdTivtfHyVPAMBBAAAEEEEAAAQQQQAABBNwmwHzdbRExsz8siFhxL1RI2rnT8QB8V/sRVf9yiONc2rTSsWNSmjRmPiuMGgEEEEAAAQQQQAABBBBAIHYCzNdjZ82dzi5AAiNPBwIIREyABZFklGOukbYvc9pe1kwj8/bRi5+udZxPl5BG659tbL2U5q10xB5GGkIAAQQQQAABBBBAAAEEEPALMF/nYXCDAAsiVhTKlpXWrHGEY02tDiq78PWAEO2zNvbInt0NkaMPCCCAAAIIIIAAAggggAAC8SzAfD2eo+udsZHA6J1Y0VMEXC/AgkiyEI2/Vdr4mTNml1yriaWH6Yn//hgQy5X9GypbxnSujzEdRAABBBBAAAEEEEAAAQQQ8J4A83XvxSwee8yCiBXVq66SvvnGEd6tNVrowm/eDwj5li1SsWLx+CQwJgQQQAABBBBAAAEEEEAAATcJMF93UzTM7QsJjObGnpEjEHEBFkSSkU69V1o5zWlcuJL+d9UkdZuwNMD+y171dGHuLBGPCQ0igAACCCCAAAIIIIAAAgggwHydZ8ANAiyIWFFo1Ej69FNHOP6oXF95l84OCNEya2OPK65wQ+ToAwIIIIAAAggggAACCCCAQDwLMF+P5+h6Z2wkMHonVvQUAdcLsCCSLEQfPyJ9P9YZs1zFteimebr99W8DYjmzey2VL5LD9TGmgwgggAACCCCAAAIIIIAAAt4TYL7uvZjFY49ZELGi2rq1NGWKI7x/lauqbKu/Cwj5559L11wTj08CY0IAAQQQQAABBBBAAAEEEHCTAPN1N0XD3L6QwGhu7Bk5AhEXYEEkGelnA6UFLzqNM+XQ6jtX6oZXvgywH9++mmqXyhfxmNAgAggggAACCCCAAAIIIIAAAszXeQbcIMCCiBWFzp2lMWMc4ThaorQybl4bEKIPPpBuvdUNkaMPCCCAAAIIIIAAAggggAAC8SzAfD2eo+udsZHA6J1Y0VMEXC/AgkiyEH090toS6ImAmG1/YJtqDv4i4PzwNpXUpGJh18eYDiKAAAIIIIAAAggggAACCHhPgPm692IWjz1mQcSK6mOPSYMHO8KbmC+/0u7+LSDkb7wh3XtvPD4JjAkBBBBAAAEEEEAAAQQQQMBNAszX3RQNc/tCAqO5sWfkCERcgAWRZKTLJ0ofdg0w/rvHBpV9PnBboAG3lFe7GsUiHhMaRAABBBBAAAEEEEAAAQQQQID5Os+AGwRYELGiMGiQ1KePIxxJGTMq7dHDSkpyRmnIEOmRR9wQOfqAAAIIIIAAAggggAACCCAQzwLM1+M5ut4ZGwmM3okVPUXA9QIsiCQL0Zr/SZPbBMQs6f4lKvOf9Tp6PNFx7ZH6pdX9ulKujzEdRAABBBBAAAEEEEAAAQQQ8J4A83XvxSwee8yCiBXVUaOk++4LCG/BHH/rt32ZHOftPMeBA+PxSWBMCCCAAAIIIIAAAggggAACbhJgvu6maJjbFxIYzY09I0cg4gIsiCQj/flr6a1GgcYd5qn6uL36bf8Rx7X2tUroyZvKRTwmNIgAAggggAACCCCAAAIIIIAA83WeATcIsCBiRWHCBKlt24BwVLtop77/pYDjfLdu0siRbogcfUAAAQQQQAABBBBAAAEEEIhnAebr8Rxd74yNBEbvxIqeIuB6ARZEkoVo1xrrV/XVA2PWerIafpJVa3874LjWrHIRvXzbFa6PMR1EAAEEEEAAAQQQQAABBBDwngDzde/FLB57zIKIFdWPP5ZuuikgvM3KrdF/V5dxnG9jbewxcWI8PgmMCQEEEEAAAQQQQAABBBBAwE0CzNfdFA1z+0ICo7mxZ+QIRFyABZGTpHu2SF9bP5H/bkygcZq02pS2hGYdLqeJJ67V1qT8vjLXXZpfb9xdNeIxoUEEEEAAAQQQQAABBBBAAAEEmK/zDLhBgAURKwoLF0q1aweE474q32jUEucPYRtZG3t88okbIkcfEEAAAQQQQAABBBBAAAEE4lmA+Xo8R9c7YyOB0TuxoqcIuF7A+AWR/dutN8uPST/NsGKVlGK8EpPS6JPEqup/7C5dWOxiTetaM8U6FEAAAQQQQAABBBBAAAEEEEAgtQLGz9dTC0b5qAiwIGKxrlwpVagQ4Dug1qd6amEDx/kaNazfx34dlVDQKAIIIIAAAggggAACCCCAAAJ+AebrPAxuECCB0Q1RoA8IxImA0QsiK6dJMx+SDu9LdTT3JWXRsMzd9NTjT6a6LhUQQAABBBBAAAEEEEAAAQQQSEnA6Pl6Sjhcj5kACyIW9dat0oUXBpi/du0UdfnsNsf5MtaO0mvWxCw83AgBBBBAAAEEEEAAAQQQQMBQAebrhgbeZcMmgdFlAaE7CHhZwNgFkW9GS7OsLy+GezQeLFXvHG4r1EcAAQQQQAABBBBAAAEEEEDAIWDsfJ3nwFUCLIhY4ThwQMqePSAuUxuMUcvZHR3n8+eXfvvNVSGkMwgggAACCCCAAAIIIIAAAnEowHw9DoPqwSGRwOjBoNFlBNwqYOSCiP3lxan3Ri4kLd6UyjePXHu0hAACCCCAAAIIIIAAAgggYLyAkfN146PuPgAWRKyYJCVJ6dJJiYmOAH3WaLCum9XTcS59eunIESlNGvfFkh4hgAACCCCAAAIIIIAAAgjEjwDz9fiJpZdHQgKjl6NH3xFwmYBxCyL7t0ujaoS0bfRZQ5cph9TtW+vX+IVcFl26gwACCCCAAAIIIIAAAggg4FUB4+brXg1UnPebBZGTAc6dW9qzxxHtJY366MpZAwOegIMHpaxZ4/zBYHgIIIAAAggggAACCCCAAALnVYD5+nnl5+YnBUhg5FFAAIGICRi3IDKlnfTTRxHz8zdU7mbptnGRb5cWEUAAAQQQQAABBBBAAAEEjBQwbr5uZJTdP2gWRE7G6OKLpc2bHQFb3+A+lZ49IiCIv/4qFS3q/tjSQwQQQAABBBBAAAEEEEAAAe8KMF/3buziqeckMMZTNBkLAudZwKgFkT1bpGFXWOLW1j8RP6y9gR5cLuUqHvGWaRABBBBAAAEEEEAAAQQQQMA8AaPm6+aF1zMjZkHkZKgqVZKWW+99kh3br2urIvPGB8RyxQqpQgXPhJiOIoAAAggggAACCCCAAAIIeFCA+boHgxaHXSaBMQ6DypAQOF8CRi2IzO0nLRwaPepaD0nXW/fgQAABBBBAAAEEEEAAAQQQQCBMAaPm62FaUT16AiyInLStV0+aP98BvbfWTcq1cEYA/hdfSHXqRC8mtIwAAggggAACCCCAAAIIIIAA83WeATcIkMDohijQBwTiRMCoBZHXrLfHO36IXuQKWV937Gy9peZAAAEEEEAAAQQQQAABBBBAIEwBo+brYVpRPXoCLIictL3lFmn6dAf031fWVpbFCwLw7WJNm0YvJrSMAAIIIIAAAggggAACCCCAAPN1ngE3CJDA6IYo0AcE4kTAmAWR40ekQUWkxGPRi1zaDFLvbVI6628OBBBAAAEEEEAAAQQQQAABBMIQMGa+HoYRVaMvwILISeO775beeccBfrxcBaVfbe0Xfdrx9tvSXXdFPzbcAQEEEEAAAQQQQAABBBBAwFwB5uvmxt5NIyeB0U3RoC8IeFzAmAWRPzZKwytHP1rdl0p5Lon+fbgDAggggAACCCCAAAIIIIBAXAsYM1+P6yh6f3AsiJyM4YMPSq+84gho0oUXKuHXXwKCPHSo1KOH92PPCBBAAAEEEEAAAQQQQAABBNwrwHzdvbExqWckMJoUbcaKQJQFjFkQ+W2V9GrNKGtazXddJBW4LPr34Q4IIIAAAggggAACCCCAAAJxLWDMfD2uo+j9wbEgcjKGTz8tPfOMM6DZsyt70j4dOOA8/dRTUv/+3o89I0AAAQQQQAABBBBAAAEEEHCvAPN198bGpJ6RwGhStBkrAlEWMGZBhC8wRvlJonkEEEAAAQQQQAABBBBAAIFIChgzX48kGm1FXIAFkZOk9mcVH344wLfEhce15de0jvPduwd8rDHicaFBBBBAAAEEEEAAAQQQQAABswWYr5sdf7eMngRGt0SCfiAQBwLGLIgcPyINKiIlHote1NJmkHpvk9JZf3MggAACCCCAAAIIIIAAAgggEIaAMfP1MIyoGn0BFkROGr/5ptS+fQB47fJ7tHBlTsf5tm2l8eOjHxvugAACCCCAAAIIIIAAAgggYK4A83VzY++mkZPA6KZo0BcEPC5g1ILIa3WkHT9EL2KFrpA6fxG99mkZAQQQQAABBBBAAAEEEEDAGAGj5uvGRNV7A2VB5GTMPvhAat48IICtq2/WlG+LO87feKM0c6b3Yk2PEUAAAQQQQAABBBBAAAEEvCPAfN07sYrnnpLAGM/RZWwIxFjAqAWRuf2khdaWP9E6aj0kXW/dgwMBBBBAAAEEEEAAAQQQQACBMAWMmq+HaUX16AmwIHLSdt48653P9QHQD1+7XEM/q+g4X7Om9NVX0YsJLSOAAAIIIIAAAggggAACCCDAfJ1nwA0CJDC6IQr0AYE4ETBqQWTPFmmY9ZVEJUUhemmkB5dLuYpHoW2aRAABBBBAAAEEEEAAAQQQME3AqPm6acH10HhZEDkZrCVLpCuvDIjcC43n6/FP6jrOly0rrV7toSDTVQQQQAABBBBAAAEEEEAAAc8JMF/3XMjissMkMMZlWBmUqQKHDh3SggULtGzZMt8/S5cu1aZNm5SUlKRWrVpp8uTJUaUxbkFkSjvpp48ib1ruZum2cZFvlxYRQAABBBBAAAEEEEAAAQSMFDBuvm5klN0/aBZETsZowwapVKmAgL1583S1n97Ucb5QIWn7dvfHlh4igAACCCCAAAIIIIAAAgh4V4D5undjF089J4ExnqLJWIwXmD9/vurVq3dGBxIYo/B47LfeII+qIR3eF7HGkzLmUJr7vpWyW2+oORBAAAEEEEAAAQQQQAABBBCIgAAJjBFApImwBVgQOUn4++9SvnwBntObvaNbPrjTcT5TJunvv8OmpwEEEEAAAQQQQAABBBBAAAEEzirAfJ2Hww0CJDC6IQr0AYEICdgJjM2aNVPFihVVqVIl3z8vv/yyli9fzhcYI2Qc0MzKadLUeyPW+u6GryrfVbdHrD0aQgABBBBAAAEEEEAAAQQQQIAERp4BNwiwIHIyCseOSRkyBIRkQYtXVHdq94DzdgKjncjIgQACCCCAAAIIIIAAAggggEA0BJivR0OVNlMrQAJjasUoj4CLBU6cOKG0adM6enjNNdfoiy++IIExmnH79jXpk15h3+HpY3fp1i7P6IoLc4bdFg0ggAACCCCAAAIIIIAAAgggcEqABEaeBTcIsCCSLApZs0qHDjnCsqLFM6o49cmAUNlbSNtbSXMggAACCCCAAAIIIIAAAgggEA0B5uvRUKXN1AqQwJhaMcoj4DEBEhhjFDD7S4wzHwppO+l9SVnU51h7zUy8Sm/fU1XXlMkfo05zGwQQQAABBBBAAAEEEEAAARMESGA0IcruHyMLIsliuwht3QAAIABJREFUVLiwtGOHI2ibmj2iSz4YEhDIVaukcuXcH196iAACCCCAAAIIIIAAAggg4E0B5uvejFu89ZoExniLKONB4DQBEhhj+Ejst148z3pMWv2RddOkFG+cmJRGnyRWVX/ry4u7lMtXfljrK3TzFUVSrEsBBBBAAAEEEEAAAQQQQAABBIIVIIExWCnKRVOABZFkunZG4k8/Obh3NWmvAjPGBoRg4ULp6qujGRnaRgABBBBAAAEEEEAAAQQQMFmA+brJ0XfP2ElgdE8sfD05cOCAli9friVLlmjp0qW+v9euXSt7a2D7KFasmLZs2RL1Xh89elTTp0/XRx995OvDDusXwQcPHlSWLFmUP39+XXHFFWrQoIFat24t+yV4PB+xiMm2bdv07rvv+rzt+P7+++/KmzevihcvrqZNm6pt27YqUiS0pDYSGM/D07nH+m90ydvSxs+l31ZKiccDOnH8yo665qvLtDXJ+bXFfk3K6e6rS5yHTnNLBBBAAAEEEEAAAQQQQACBeBUggTFeI+utcbEgkixeNWtKX3/tCOCBBs2VffbUgKDOmCHddJO3Yk1vEUAAAQQQQAABBBBAAAEEvCPAfN07sYrnnpLA6KLolilTRuvXr1dS0tm/3BaLBMY5c+aoU6dOQSVK5s6dW0OGDNE999zjIsnIdSUWMRk9erQeffRR/fXXX2fteLZs2XzOnTt3TvXgSGBMNVlkK6z9RJrUOrDNrl+r3MhfdOjoP8nJp44e15dSj+tLR7YPtIYAAggggAACCCCAAAIIIGC0AAmMRoffNYNnQSRZKBo3tnbxmOWIzdE61yvjgjkB8Ro3TmrXzjVhpCMIIIAAAggggAACCCCAAAJxJsB8Pc4C6tHhkMDoosAl/x+Fs3Ur2gmMU6ZM0R133OH/4qPdj0yZMumyyy5Tzpw5tX//fq1evTog2W7AgAHq27evizQj05Vox+SZZ57R008/7ehsyZIlfV9btL/KuGHDBse1UJxJYIzMsxByK9uWSq/XC6x+98eqOemItu877Lh2d83i6tf0spBvR0UEEEAAAQQQQAABBBBAAAEEThcggZFnwg0CLIgki0KbNtLkyY6wJFa5UmmXfB8Qqldekbp3d0ME6QMCCCCAAAIIIIAAAggggEA8CjBfj8eoem9MJDC6KGan/kcha9asqlixoipXrqwqVarITiqcdfIXudFMYNy6davKli3r2yraPuzExUGDBvm++mdvHX3qsLeXHj9+vO+rgXv37vWdtvv+1Vdf6aqrrnKRaPhdiWZM7O2ib775Zn8ny5Urp3HWT6rtmJ867O2777zzTl/S6KnD3trb3lY62IMExmClolTO3k56WMXAxm8bp8ZzcuunHfsd1265orD+07pSlDpDswgggAACCCCAAAIIIIAAAiYKkMBoYtTdN2YWRJLFpEsX6bXXnEEqVUpZt63ToUPO0/37S0895b540iMEEEAAAQQQQAABBBBAAIH4EGC+Hh9x9PooSGB0UQQnTJjgS1q0ty1OSEjw9+zuu+/WO++84/v3aCYwPvnkkxo4cKD/vu+9955atmx5ViE7YbFOnTpKTEz0lWndurUmTZoUlqidHPn3338rR44cIbeza9cu5c+fP+T6yStGKybHjh2TnbB46guLRYsW1Q8//CB7S+7Tjz///FOXX36574uM9lHKeplpJzSmS5cuqDGSwBgUU/QKHTkgPVc0sP2b/qPbl5XVoo1/OK7VLZ1P79xbLXr9oWUEEEAAAQQQQAABBBBAAAHjBEhgNC7krhwwCyLJwvL449ILLzjjlC+fimbYZb0DdJ7u0UMaOtSVIaVTCCCAAAIIIIAAAggggAACcSDAfD0OghgHQyCB0QNBjFUCY+3atbVw4UKfiP0lxuRf/TsbU+PGjf1fhyxcuLA/yS4UVjt5sXnz5tqxY4fmzJmjXLlypboZOwnzNevXy59//rlv2+toHeHGxP6Cpf1lxVNHSsmi9vVWrVr5y9v127ZtG9TwSGAMiil6hZKSpAH5pMRjzntc95S6/XKN/vfjTsf5ihfm1PT7ro5ef2gZAQQQQAABBBBAAAEEEEDAOAESGI0LuSsHzIJIsrA895z0xBPOOGXIoAqlDmvlqjSO83fdJb39titDSqcQQAABBBBAAAEEEEAAAQTiQID5ehwEMQ6GQAKjB4IYbrJcsEMsXbq01q9f7yse7NcUH7d+LfzCyV8LZ7Besh05ciTY2wWUu/XWW/Xhhx/6zleqVMmXxJgnT56g2+vdu7eef/55X3n7C4zffPONSpQoEXT91BQMNyZNmjTRzJkzfbe0Ez9//vnnc35R8fjx476vb27fvt1Xx95C2t5KOpiDBMZglKJcZkhp6eBvzptcdb+eONRaE7/9xXG+eJ4smt+zXpQ7RPMIIIAAAggggAACCCCAAAImCZDAaFK03TtWFkSSxebVV6Vu3QKCdX3NQ5q3KLPjvPUa0HoP6N640jMEEEAAAQQQQAABBBBAAAFvCzBf93b84qX3JDB6IJLhJssFO8QqVapo6dKlvuK33HKL/vvf/6ZYtYe1h8mwYcN85QoUKKCdO51fk0uxgWQFJk6c6Psq4YkTJ3xn7W2T582bp7x586bYTK9evfTiiy/6yzVr1kyTJ09W+vTpU6wbSoFwYmJvkW1/XfJUsue9996rN954I8Vu2OXeeustX7lMmTJpz549vr9TOkhgTEkoBtdH1pB2/+S8UcXbNTjzgxo1f6PjfI7M6fXD0w1i0ClugQACCCCAAAIIIIAAAgggYIoACYymRNrd42RBJFl8rPeguuOOgIDd1WCHxs0u6DhvbZqjBQvcHVt6hwACCCCAAAIIIIAAAggg4F0B5uvejV089ZwERg9EM5xkudQM7/7779fIkSN9VewvGP7yyy/KmDHjOZuoWLGiVqxY4SvTsmVL2Vsdh3NMmjRJ7dq18ycxVqhQwZfEmC+ftQXvWY6HH35YQ4cO9V9t0aKF7HbSpUsXTlfOWTecmNhJonay6KnDTl60kxNTOuxyHTp08Bez27G/VJnSQQJjSkIxuP7WjdLP/2zP7j9KN9KYooM06H9rHKfTWLsEbXj2BqVNcG4XFINecgsEEEAAAQQQQAABBBBAAIE4FSCBMU4D67FhsSCSLGD/+590o/W+6LSjb5Mf9OyMyx1ny5eXfvzRY8GmuwgggAACCCCAAAIIIIAAAp4RYL7umVDFdUdJYPRAeMNJlkvN8FavXi07IdHertg+7MTAl1566axN2EmDdhn7SJs2rb7++mtVrVo1Nbc8Y1n7y4lt27b1JzGWK1dOn332me8Lj6cfDzzwgIYPH+4/bSdR2l9yjGbyon2zcGIyfvx435cmTx0LrJ9Q17Z/Sp3CYZerW7euv9S7775r/VA78Jfa9pcZT33F0i588803a9GiRbK36B4zZoy/vv11yhw5cqR021RdZ0HkLFxT2ko/zXBeLFpN713xpnpN/ScBOPmx7Mn6ypU1Q6rsKYwAAggggAACCCCAAAIIIIDA2QSYr/NsuEGABZGTUdi8WXrqKcl6t3f6cSIhnZYnXq7ZaqAx6qQtKqEiRaStW90QQfqAAAIIIIAAAggggAACCCAQjwLM1+Mxqt4bEwmMHohZOMlyqR3eiBEj1L17d3+1hg0byk4SrF69unLmzKn9+/dr2bJlGj16tN5//31fOft/zOx63bp1S+3tzlp+ypQpviTGU8mUZcuW9SUxFiz4zxYqSUlJsr8YOWrUKH8brVq1st77vRv15EX7huHEZMCAAdY7Susl5cljy5YtKlasWIp2P//8s4oXL+4vZ7fTt2/fgHp2GbtsSoedDDl//vyUip3x+q5du854/uKLL9Zff/2lbNmy6cCBAyG1HZeVPnpAWvqOc2i5L9Hs6/6nTuOXBAz580evUYm8WeOSgkEhgAACCCCAAAIIIIAAAgjEXoAExtibc8dAAeMXRLZtkx58UPrgA/vlZoqPSKLSaJqaq3fmYdpwqHCK5SmAAAIIIIAAAggggAACCCCAQCgCxs/XQ0GjTsQFSGCMOGnkGwwnWS6U3nz44Yd66KGHZCfWpXRceeWVGjx4sOrVq5dS0VRftxMkb7/9dn8SY5kyZXxJjIUKFVKXLl0cXxNs06aN7C8b2l+CjMURTkx69uypIUOG+Lu5d+/eoL6EaJfLlSuXv16vXr30wgsvBAw3FgmMyf8P2Jm8SWA8TWVuP2nhv9uc+65mzqXvWy1Vy9FfBxD+t1tNVbro31jH4pnmHggggAACCCCAAAIIIIAAAvErQAJj/MbWSyMzekHE+rG29UJTst7vpfbYo5y64N3RSndHq9RWpTwCCCCAAAIIIIAAAggggAACKQoYPV9PUYcCsRIggTFW0mHcJ5xkuVBvaycv2l84/Pjjj8/aRLVq1dS7d281bdpUCQkJod7qnPWmTp0qOznx1JcYS5UqJfu+EyZM8NezkxzHjRsXs+RF+8bhxKRr166+L1ieOo4cOaIMGVLeLtgulylTJn89u53kX6CMSgDO0igJjKnUXmRtcz779K9lptH6zltUf9hXAY29dXdV1bs0fypvQnEEEEAAAQQQQAABBBBAAAEEzixAAiNPhhsEjF0QeeWVf768GO5ht5Ns55xwm6M+AggggAACCCCAAAIIIIAAAraAsfN1wu8qARIYXRWOM3cmnGS51A7P3v73scce833d8NixY77qdnLdZZdd5vv6n70t8KpVq3To0CF/0xUrVvQlFNplonFMmzZNrVu39icxJr+Hvc3022+/HdPkRfv+4cSkQ4cOeuONN/zDOHHiRFAJoImJiY5x2u28/vrr0SBPsU22kE6RyFlgmZVwOz1wi/Xd3X5S1ZeXBTQ2tFVF3VqpaCpvQnEEEEAAAQQQQAABBBBAAAEEzixAAiNPhhsEjFwQsb+8aL3XjNgxebLUii8xRsyThhBAAAEEEEAAAQQQQAABBEhg5BlwhQAJjK4Iw7k7EU6yXGqGZycvXn/99frmm2981bJkyaJnn31WHTt2VNasWf1N2YmNkyZN0iOPPKLff//ddz537tz68ssvVa5cudTcMuiy9nbSt912m6O8/e92P6L19cdzdS6cmDxo/eL6FfsX0ycP2922Tumwy9lbM5867Hb+85//pFQtptdZEDkL99pPpEmBL6uPdv1OpYduCKj01E3ldG+tEjGNHTdDAAEEEEAAAQQQQAABBBCIXwHm6/EbWy+NzLgExm3bpPLlQ9o2+qxxzZlT1q/LpcKFvRR6+ooAAggggAACCCCAAAIIIOBiAePm6y6OhcldI4HRA9EPJ1kuNcPr0qWLXnvtNV8V+6uLn332ma6++uqzNrFu3TpVr15de/fu9ZWpXLmylixZkppbBlXW/kKhbfDuu+86ypcoUUKff/65ihUrFlQ7kSwUTkz69OmjQYMG+buze/du5c2bN8Xu2eXy5/93W+G+fftqwIABKdaLZQEWRM6i/cu30psNAi/eO1uXjd2jv46ecFx74LpSerh+6ViGjnshgAACCCCAAAIIIIAAAgjEsQDz9TgOroeGZtyCSIsWkrWzTMQPu13rx94cCCCAAAIIIIAAAggggAACCERCwLj5eiTQaCPiAiQwRpw08g2GkywXbG927Nihiy66yL9Nc7du3TRy5MgUqw8ePNi35fSpw056rFevXor1gi1gJy/eeeedmjhxor9K2rRpZZ+3Dzt50U5itJMZY3mEExP7q4kPPfSQv7srVqxQhQoVUuy+Xc7ervvUYbdjf4XRTQcLImeJxu/WVxZHVAm82Gayrv5vRm3b+7fj2l1XFVP/m61f6HMggAACCCCAAAIIIIAAAgggEAEB5usRQKSJsAWMWhDZvFm65BIpKSlst4AG0qSRNm6U9UI08m3TIgIIIIAAAggggAACCCCAgHECRs3XjYuudwZMAqMHYhVOslyww7O/btiuXTt/8blz5+q6665Lsfr69etVuvS/X4p76qmn1L9//xTrBVPg+PHjatu2raZMmeIv/vDDD+umm27y/XPo0CHfeTvx0k6cvMR+KRijI5yYzJo1S40bN/b3dMaMGb7xpHTY5Zo2beov9umnn6pBgzN81S+lhqJ4nQWRs+Ae+lMafIaXyjeP0o1fXqRV2/c7KjatWFivtKkUxUjRNAIIIIAAAggggAACCCCAgEkCzNdNirZ7x2rUgkjv3tLzz0cvGI8/Lj33XPTap2UEEEAAAQQQQAABBBBAAAFjBIyarxsTVe8NlARGD8QsnGS5YIf3nPXC64knnvAXX7t2rSMx8WztHDlyRJkyZfJf7tSpk38b6mDvfaZydvLi7bffbu2G8u92KD179pT9xUf7WLBggW688UYdPHjQ9+9Fixb1fYmxZMmS4dw26LrhxOTXX3/1JV2eOuyETzvxM6XDLtevXz9/Mbsde9xuOlgQOUs0Eq0vhj6Tx7p42q/u6w/QHT9V01cb/nBUrFM6n8bdW81NoaUvCCCAAAIIIIAAAggggAACHhZgvu7h4MVR141aEKli7cSxdGn0ome3v3hx9NqnZQQQQAABBBBAAAEEEEAAAWMEjJqvGxNV7w2UBEYPxCycZLlgh/fyyy/rkUce8Rdfvny5Y7vis7WzZ88e5c6d23+5R48eGjp0aLC3PWO5Y8eOqU2bNpo2bZr/+uPWr4rtJMvkx8KFC31fMjyVxFi4cGFfEmPyL0KG1ZFzVA43Jnai5UZ7qxfruPbaazVv3rwUu2qXs8dnH3Z9++uXbjtYEDlHRF6wvsD4t/UlxuRHrYd0366m+njFDsfpy4vm0Ef313JbeOkPAggggAACCCCAAAIIIICARwWYr3s0cHHWbWMWRKwffOuCCyTrHWfUjgwZpAMHJPtvDgQQQAABBBBAAAEEEEAAAQTCEDBmvh6GEVWjL0ACY/SNw75DuMlywXRg8uTJvqTBU8frr7+uDh06pFjV3sa4UaNG/nJDhgxxJEKm2MBpBezkxdtuu00ffvih/0qfPn00cODAMza1aNEiXxLj/v3/bMFbqFAh33bSl156aWpvnary4cakV69eevHFF333TEhI0ObNmx1fZTy9M7/88otKlCihxMRE3yW7/gsvvJCqPseiMAsi51Aebv0y/o8NzgKV71KfEx014dtfHOcvyp1FC3rVi0XIuAcCCCCAAAIIIIAAAggggIABAszXDQiyB4ZozIKI/aPj0qWjH5F166RSpaJ/H+6AAAIIIIAAAggggAACCCAQ1wLGzNfjOoreHxwJjB6IYbjJcsEMcefOnbK/YJiU9M8Wt+XLl7d2OVmq9OnTn7W6XbZBgwaaO3euv4xdp1KlSsHcMqDM0aNH1bJlS3300Uf+a08++aSeeeaZc7b37bffqmHDhtq3b5+vXIECBXxJjOXKlQupH8FUCjcmP/30kypUqKATJ6ytha3DTha1k0bPdtjX33jjDd/ltGnT6scff1TZsmWD6WpMy7Agcg7usfWlrd85C5RtoiE5n9SIz52JjRdkSqcf+zWMaey4GQIIIIAAAggggAACCCCAQPwKMF+P39h6aWTGLIhY7+10+eXRD82KFbJeMEb/PtwBAQQQQAABBBBAAAEEEEAgrgWMma/HdRS9PzgSGD0Qw3CT5bZs2eL7et+p46677tLbb78dMPKbb77ZkTxoJxPa5bJkyRJQ9vjx47K3ix45cqT/WrVq1WQnE4Z63HLLLZo+fbq/er9+/fT0008H1dz333/vS6bcu3evr3z+/Pn19ddf6+KLLw6qfmoLhRsT+37t27fXm2++6b/1mDFj1LFjx4Cu2Oc7d+7sP2/XGzt2bGq7HJPyLIicg3liK2ndLGeBYldrbMkRGvjxTwEVNzzbWOnSJsQkbtwEAQQQQAABBBBAAAEEEEAgvgWYr8d3fL0yOmMWRPgCo1ceSfqJAAIIIIAAAggggAACCCBgCRgzXyfarhYggdFF4bG3ST7TVsn2tsqntg62u5sxY8aAXtepU0ezZ88+42iCTWDcsGGD7CTEPXv2+NspUqSI7GS96tWrK1euXDpw4IDvy4zvvPOO1tsv404emTNn1hdffKGqVauGLDpp0iS1a9fO91XCAQMGqG/fvqlqa8mSJapfv76v/82bN5e9LXa6dOlS1cbphaMVE/s+v//+u2rUqKGNGzf6b9ukSRO1bt3a9zXM7du3+8YwY8YM//WSJUv6EjPz5s0b1riiVZkFkXPIfthNWj7BWSBfWU2tMVWPvv9DQMWlT9ZX7qwZohUq2kUAAQQQQAABBBBAAAEEEDBIgPm6QcF28VCNWRA5ckS64ALJeqcbtSOD9c7Iek8r+28OBBBAAAEEEEAAAQQQQAABBMIQMGa+HoYRVaMvQAJj9I2DvoP9xcH+/fsHXT55wbp162r+/PlnrBtsAqNd+bvvvlOzZs20bdu2oPuRO3duTZgwQY0aNQq6ztkKTpw4Ub/88osef/zxkNpatmyZRowYoddeey3s5EW7A9GKyanB2Umg9vbXmzdvTnG89lc07SRVO4nRrQcLIueIzKd9pK9HOAtkK6C5N3ypDuMWB1Sc90hdXZIvm1tDTb8QQAABBBBAAAEEEEAAAQQ8JMB83UPBiuOuGrUgUqWKrF+BRy+advuLA98nRe+GtIwAAggggAACCCCAAAIIIBCvAkbN1+M1iHEwLhIYXRTEaCXLpSaB0eawt2F+4YUX9NZbb+m33347q1DOnDl15513qnfv3ipYsKCLJCPXlWjFJHkPDx48qD59+vi+arlv376AzufIkUP2tt/PPvussmVzd0IbCyLnePa+fEma94yzQEJ6LW63Vi1e+yag4rSuNVWlWK7IPcy0hAACCCCAAAIIIIAAAgggYKwA83VjQ++qgRu1IGK9L9Xzz0fP3/7x93PPRa99WkYAAQQQQAABBBBAAAEEEDBGwKj5ujFR9d5ASWD0Xsxi1mN72+rVq1dr+fLlvu2O7US7LFmyKE+ePLr88stVoUKFiHzlMGYDcvmNDh8+7NuG2044/eOPP3zOxYsX1zXXXHPGbcPdOBwWRM4RlcVvSTN7BBTY2GGNrhsR+Iv8N+66UteVLeDGMNMnBBBAAAEEEEAAAQQQQAABjwkwX/dYwOK0u0YtiNi7rVxyiZSUFPlopkkjbdwoWbu1cCCAAAIIIIAAAggggAACCCAQroBR8/VwsagfNQESGKNGS8MImCfAgsg5Yr76I+m9dgEF/uzwvSqPWB9w/qWWFdW8SlHzHiJGjAACCCCAAAIIIIAAAgggEHEB5usRJ6XBEASMWxBp0UKaNi0EqRSq2O2+/37k26VFBBBAAAEEEEAAAQQQQAABIwWMm68bGWX3D5oERvfHiB4i4BkBFkTOEaotC6W3bwwocLz9Zyo5cmfA+SdvKqf2tfglvWcefjqKAAIIIIAAAggggAACCLhYgPm6i4NjUNeMWxDZtk0qX17auzdyUc6ZU1q1SipcOHJt0hICCCCAAAIIIIAAAggggIDRAsbN142OtnsHTwKje2NDzxDwnAALIucI2W+rpVevCizQdpoqjD+hA0eOO651v7akHmlQxnPPAB1GAAEEEEAAAQQQQAABBBBwnwDzdffFxMQeGbkgMmWK1Lp15MI9ebLUqlXk2qMlBBBAAAEEEEAAAQQQQAAB4wWMnK8bH3X3AZDA6L6Y0CMEPCvAgsg5QnfA+sriS2dISGz2ump9kldb9/ztqNyuRjENuMX6lT4HAggggAACCCCAAAIIIIAAAmEKMF8PE5DqEREwdkFk+HDpgQfCNvyp2ysqO7J72O3QAAIIIIAAAggggAACCCCAAALJBYydr/MYuEqABEZXhYPOIOBtARZEzhG/40elgfkCCzR6QU2+L68ft+1zXLvp8kIacXtlbz8Q9B4BBBBAAAEEEEAAAQQQQMAVAszXXREG4zth9IKI/SXGLl1C2k56j3Kqi0ar2eRWfHzR+P+KAEAAAQQQQAABBBBAAAEEIi9g9Hw98py0GKIACYwhwlENAQQCBVgQSeGpGFRUOnrAWajuY2q36Tp9uf53x/napfJqfPvqPGYIIIAAAggggAACCCCAAAIIhC3AfD1sQhqIgIDxCyLbt0sPPihNmyYlJaUomqg0mqbmelDDtEOF9eqr/+RAciCAAAIIIIAAAggggAACCCAQSQHj5+uRxKStkAVIYAyZjooIIHC6AAsiKTwT/6lg/dL+F2ehqh3Vff8dmvGD9RI72VGhSA7N6F6LhwwBBBBAAAEEEEAAAQQQQACBsAWYr4dNSAMREGBB5CTi5s3SmDHSnDnSsmVSYqJDNylLFg0+/KBGJ3bUFpXwXxs0SOrdOwKBoAkEEEAAAQQQQAABBBBAAAEEkgkwX+dxcIMACYxuiAJ9QCBOBFgQSSGQr9WVdix3FrqsmZ5M/4jGf/Oz43zRXJm18LFr4+TJYBgIIIAAAggggAACCCCAAALnU4D5+vnU596nBFgQOcOz0LnzP8mMyY9LLlGBAxu0a5fzdM+e0uDBPE8IIIAAAggggAACCCCAAAIIRFaA+XpkPWktNAESGENzoxYCCJxBgAWRFB6L8c2kjfOchS6+Ri8VHKzhn21wnL8gYzr92L8hzxkCCCCAAAIIIIAAAggggAACYQswXw+bkAYiIMCCyBkQ+/aVnn3WeSFXLl2a/0+tXes83bFjYK5jBMJCEwgggAACCCCAAAIIIIAAAoYLnM/5+oEDB7R8+XItWbJES5cu9f291poQnzhxwheVYsWKacuWLSFH6OjRo5o+fbo++ugjX9s7duzQwYMHlcXa/SB//vy64oor1KBBA7Vu3Vr2+zOO8ydAAuP5s+fOCMSdAAsiKYR0Wgfpx/edhQperjfKj9OAmasDKq9/trHSp02Iu+eEASGAAAIIIIAAAggggAACCMRWgPl6bL2525kFzueCiGtj8vLL0iOPOLuXJo2urnZMi75N6zjfooX0/ml6piFmAAAgAElEQVSvlVw7LjqGAAIIIIAAAggggAACCCDgGYHzNV8vU6aM1q9fr6SkpLNahZPAOGfOHHXq1CmoBMjcuXNryJAhuueeezwTt3jrKAmM8RZRxoPAeRT4P3t3Am9D/f9x/G0Xypp9LVG2G7JV9rK0UJYi0SaqH4U2SiFbpKRSREXIlopUlOyyZBdZUgqhlF2u7f5mzs3NGPeeOcu9d86Z13j8Hv1+c77r8zN//b/n+znzZUPED/6Xz0grRloLXVZY02rP1pNT19kqr+x5k/Jky5SKEaVrBBBAAAEEEEAAAQQQQACBaBBgvR4NUYz8OaTWhoir5caMkbE7Yhtiy3p/6eO5uSz369eX5sxx9WwYHAIIIIAAAggggAACCCCAQAQKpNZ6/fx+E2MLNoFx8uTJatOmTcKbHM32M2fOrLJlyypHjhw6fPiwNm3apGPHjlm67tu3r3qapyVwpbgACYwpTk6HCESvABsifmI7/2Vp/kBroQxZNLf5Wj04ZqWt8pxutVUyb7bofWCYGQIIIIAAAggggAACCCCAQIoIsF5PEWY68SOQWhsirg6McYSVmja1DbHrbdv0+sySlvuVKsk47srVs2FwCCCAAAIIIIAAAggggAACESiQWuv1c/1mzZpVMTExqmQsfCtXriwz+XDWrFk+yWASGHft2qVrrrnGd1S0eZmJiwMGDFDHjh19R0efu8zjpceNG6ennnpKBw8e9N02x7RkyRLVqFEjAiMZ2UMmgTGy48foEXCVABsifsKxYpT05VO2QqvbblazUatt9z9+pIauK279tb2rAs5gEEAAAQQQQAABBBBAAAEEIkKA9XpEhCnqB5laGyKuhl28WKpZ0zbEwc2X69lpVS33S5SQfv7Z1bNhcAgggAACCCCAAAIIIIAAAhEokFrr9QkTJviSFs2jpNOmTZsgd//992vs2LG+/x1MAuMLL7ygfv36JbQ3ZcoUtWzZMtHImAmLtWrV0tmzZ31lWrVqpYkTJ0ZgJCN7yCQwRnb8GD0CrhJgQ8RPODZ8LE17yFZox30rVWfkVtv90e2u001l8rkqxgwGAQQQQAABBBBAAAEEEEAg8gRYr0dezKJxxKm1IeJqS+O4KuP8KtsQx7b6SvdPamS5b5xwpQMHXD0bBocAAggggAACCCCAAAIIIBCBAm5br4eawFjT+KHgYvMHg8ZlvonRPCra39W4ceOEtz4WLFhQu3fv9leFz8MsQAJjmEFpDgEvC7Ah4if62+dK4+60FTp03zzFjNxju/9KiwpqeV0RLz9SzB0BBBBAAAEEEEAAAQQQQCAMAqzXw4BIEyELuG1DJOQJhaOBvXulAgVsLX1xzwTd9tE9lvvGKVY6fVrGWynC0TFtIIAAAggggAACCCCAAAIIIBAv4Lb1eqgJjKVKldK2bdt8c3P6NsXu3btr0KBBvjoZM2ZUbGwsj0cKC5DAmMLgdIdANAuwIeInunvWSSNr2QqduXe6rhx9zHa/563XqH3NK6L5kWFuCCCAAAIIIIAAAggggAACKSDAej0FkOnCr4DbNkT8DjglCpgbIpkz23paes+buv6jTrb7f/8t5cyZEgOjDwQQQAABBBBAAAEEEEAAAa8IuG29HmoCY+XKlbV69Wpf+O644w59+umnfkPZpUsXDRs2zFcuX7582mv+4JArRQVIYExRbjpDILoF2BDxE9+DO6XXy9kLtRyjClOz6PAJ42f0513/q3ulnm54dXQ/NMwOAQQQQAABBBBAAAEEEEAg2QVYryc7MR04EHDbhoiDIadMkWzZpGPWH7ZuatVHZSe9aOt/+3bpCn7rmjJxoRcEEEAAAQQQQAABBBBAwCMCbluvh5rA2KlTJw0fPtwXvbx58+q3335TpkyZkoxmTEyM1q9f7yvTsmVLTZkyxSPRd880SWB0TywYCQIRL8CGiJ8QnjS+jB5Q0F7o1tdUa94V+u3v45bP2lQrqv53lo/454IJIIAAAggggAACCCCAAAIIpK4A6/XU9af3eAG3bYi4Ji5Fiki7dlmGs6v5Eyoy7XXbEFetkipVcs3IGQgCCCCAAAIIIIAAAggggEAUCLhtvR5qAuOmTZtkJiSePh3/Aqlu3brp1VdfTTRSQ4cO9ZUxr3Tp0mnp0qWqUqVKFEQ2sqZAAmNkxYvRIuBqATZE/IQnLk7ql086YxwPdP5Vt6eabKih9bsOWW7fWqGAht/Dt9KufugZHAIIIIAAAggggAACCCAQAQKs1yMgSB4Yots2RFxDbmyqGK95sAzn71vbKvcXH9qGOGeOVL++a0bOQBBAAAEEEEAAAQQQQAABBKJAwG3r9VATGM2QvPXWW+rcuXNCdBo2bKjHH39c1apVU44cOXT48GGtWbNGI0aM0NSpU33lTAez3mOPPRYFUY28KZDAGHkxY8QIuFaADREHoXn1GunI79aC1R9Tu9/v1MKtf1ru31Aytya0r+6gUYoggAACCCCAAAIIIIAAAgggkLgA6/XUfzqOHDmitWvXapXxCr3Vq1f7/rllyxadOXPGN7hixYppx44dQQ/05MmTmj59umbMmOFre8+ePTp69KiyZMniOy7p2muvVYMGDdSqVSuZz0NqXG7bEEkNg4v2WbeuNH++5aPj9W5V1rkzbcXNPZUWLVwzcgaCAAIIIIAAAggggAACCCAQBQLnr9ezZcvmeEY9evTQc88957i804LhSGA0+/rss8/UtWtXR9+3XHfddRo8eLDqmmt0rlQRIIExVdjpFIHoFGBDxEFc37lB2veDtWCFVno89hHNWGdNbCxb8DJ98XhNB41SBAEEEEAAAQQQQAABBBBAAIHEBVivp+7TUbp0aW3btk1x5skMiVyhJDB+88036tChg6Mv5HPlyqUhQ4bogQceSHEUEhgTIW/eXPrkE8uHp6vWUIYV39kqvPuu9PDDKR46OkQAAQQQQAABBBBAAAEEEIhigfPX64FMs1evXurdu3cgVRyVDVcCo9mZ+WPRTp066Ysvvki076pVq8pMxmzSpInSpk3raIwUCr8ACYzhN6VFBDwrwIaIg9CPuc34t+Qia8GrGqhXtl4au/RXy/1COS7Rku71HDRKEQQQQAABBBBAAAEEEEAAAQQSF2C9nrpPh5ONgGATGCdPnqw2bdokvMnRnGnmzJlVtmzZhCORNm3apGPHjlkQ+vbtq549e6YoDAmMiXCbGYmjR1s+jDOSXjP8tNmIq7XOoEHSM8+kaNjoDAEEEEAAAQQQQAABBBBAIMoFovENjOb3IM8++6zeNX4JeOrUKV8EM2bM6Pu+JGfOnDJPyti4caOOHz+eEN2YmBhNmDDBV4Yr5QVIYEx5c3pEIGoF2BBxENop7aRN060FC1XWa8VH6I1vt1nuZ82YThtfauSgUYoggAACCCCAAAIIIIAAAgggkLgA6/XUfTrObQRkzZpV5pfhlSpVUuXKlWUmH86aNcs3uGASGHft2qVrrrnGd1S0eZmJiwMGDFDHjh19R0efu8zjpceNG6ennnpKBw8e9N02x7RkyRLVqFEjxXBIYEyE2thQMc6psn54+eXKc/YP/fWX9Xb37tLAgSkWMjpCAAEEEEAAAQQQQAABBBDwgIDb1uuhvoHRTF686aabtGzZMl/0zO9I+vfvb5xo8LDM72bOXWZi48SJE/Xkk09q//79vtvmyRWLFi1SmTJlPBB5d02RBEZ3xYPRIBDRAmyIOAjfzK7SyvetBXOW0PuVP9VLMzfZGtjar7Eypuc1xQ5kKYIAAggggAACCCCAAAIIIJCIAOv11H00zF/vm0mL5lHS5x9FFOoX8i+88IL69euXMLkpU6aoZcuWiU7WTFisVauWzp496yvTqlUr3xf1KXW5bUMkpebttx/ztYpmZuL5V7p0uqr4Kf20PY3ltpGbqhEj/LZIAQQQQAABBBBAAAEEEEAAAQQcC7htvR7q9yWPPPKIRo4c6Zu/+dbFuXPn6oYbbkjUY+vWrapWrVrCjz7N73BWrVrl2I+C4REggTE8jrSCAAKGABsiDh6Db/tKi4ZYC2bOrk8bfqeuk9fZGljxfH3lvTSzg4YpggACCCCAAAIIIIAAAggggMDFBVivu/PJCPUL+Zo1a2rx4sW+yZlvYjSPivZ3NW7cOOGtjwULFtTu3bv9VQnb527bEAnbxEJtaNQoqUMHWyt1Kx3S/NWXWe7fdZeMN3eG2iH1EUAAAQQQQAABBBBAAAEEEPhPwG3r9VC+L9mzZ4+KFi2q06dP+yb42GOPafjw4X7DPdg4GcE8cvrcZSY91q1b1289CoRPgATG8FnSEgKeF2BDxMEjsNT4l+Ps52wF59/1o+7/cI3t/jdda+mqfJc6aJgiCCCAAAIIIIAAAggggAACCFxcgPW6O5+MUL6QN2dUqlQpbdu2zTc5p29T7G686W+Q+cY/4zLfQhAbG5tiOG7bEEmxifvraNo0qUULW6l2NX/RuEXFLfcbNDC+Vprtr0E+RwABBBBAAAEEEEAAAQQQQMC5gNvW66F8XzJ+/Hi1bds2YfJz5sxR/fr1/WKY36+Y37Ocu1588UX16dPHbz0KhE+ABMbwWdISAp4XYEPEwSOw1jia6bNHbAU3tF6p2z/Yars/pWMNVS2Ry0HDFEEAAQQQQAABBBBAAAEEEEDg4gKs1935ZITyhbw5o8qVK2v16tW+yd1xxx369NNP/U60S5cuGjZsmK9cvnz5tHfvXr91wlXAbRsi4ZpXyO3MmyfVq2drpvvNqzTom0qW+1WqSCtWhNwjDSCAAAIIIIAAAggggAACCCCQIOC29Xoo35cMHDhQzz333wultmzZYklMTCzs5g88M2f+72TMDsZJCeeOoeZRSRkBEhhTxpleEPCEABsiDsK89Wvpo5a2grvuWaAb37cf2/Ru28pqUDa/g4YpggACCCCAAAIIIIAAAggggMDFBVivu/PJCOULeXNGnTp1SjgGKW/evPrtt9+UKVOmJCcbExOj9evX+8q0bNlSU6ZMSTEct22IpNjE/XW0bp107bW2Uq/f+o26fnGT5X7JkjLeuumvQT5HAAEEEEAAAQQQQAABBBBAwLmA29broXxf8tprr+nJJ59MmPzatWtlfhfi7zpw4IBy5frvxVLmD0CHDh3qrxqfh1GABMYwYtIUAl4XYEPEwROwa6U02v6K4iP3fK7y7x+xNTC4RQXddV0RBw1TBAEEEEAAAQQQQAABBBBAAIGLC7Bed+eTEcoX8uaMNm3a5PsS/vTp074JduvWTa+++mqikzW/eDfLmFe6dOm0dOlSVTFf6ZdCl9s2RFJo2v672blTKlrUVu6jppPVZvpdlvu5c0v79/tvkhIIIIAAAggggAACCCCAAAIIOBVw23o9lO9LJk2apNatWydMfdSoUWrfvr1fitmzZ6tRo0YJ5YYMGWJJhPTbAAVCFiCBMWRCGkAAgXMCbIg4eBb+2i69aT3+x6x15u4JKvlhGsXFWdt47par1aHWlQ4apggCCCCAAAIIIIAAAggggAACFxdgve7OJyOUL+TPzeitt95S586dEybYsGFDPf7446pWrZpy5Mihw4cPa82aNRoxYoSmTp3qK2duTJj1HnvssRSFcduGSIpOPqnOjh2TsmWzlfj6znfU8NNHLPeNvFOdOmXG0DWjZyAIIIAAAggggAACCCCAAAIRLuC29Xoo35fs3btXBQsWNPIu4hMvypUrp9WrVytDhgyJRsks26BBA82ZMyehjFmnYsWKER7ZyBo+CYyRFS9Gi4CrBdgQcRCefw5Ig4rbCzZ5UzGf59ehf4xvoc+7HqtzpZ5pdLWDhimCAAIIIIAAAggggAACCCCAwMUFWK+788kI5Qv582f02WefqWvXrtqxY4ffiV533XUaPHiw6tat67esvwIDBgzQwIED/RVL+Pzo0aMJ//3cRoLjytFc0NxUyZxZOnnSMsvv7+ivqp89Z5v5oUPSZZdFMwhzQwABBBBAAAEEEEAAAQQQSEmBaEpgNN2aNm2qGTNmJBC2bNlSY8aMUZYsWWys5qkW5nHRw4cPT/isatWqWr58eUqGgL4MARIYeQwQQCBsAmyIOKA8e1bqm0eKO2MtfFMf1Vkaox1/Hbfcv61CAb16V4wypTd+Ys+FAAIIIIAAAggggAACCCCAQBACrNeDQEuBKuFKYDSHaiYvdurUSV988UWiIze/gO/Ro4eaNGmitGnThjzD3r17q0+fPkG1QwLjBWwFCkjGWyLOv7be/qRKfz7E5mvmqRYrFhQ7lRBAAAEEEEAAAQQQQAABBBCwCaRWAmO/fv1k/ufC65Rx9MBZM6/i3ytTpky2MrVq1dLXX3990Wj+9NNPMr8DOXDAeLnUv1ehQoVkfg9jnliRM2dOHTlyxPdmxrFjx2rbtm0J5S655BItWLBAVapU4UlJYQESGFMYnO4QiGYBNkQcRnewcST08f2Wwocr/083ra+nP47E2hrJkC6NSue/VDWvulz3VC2qIrnsvwxw2DPFEEAAAQQQQAABBBBAAAEEPCjAet2dQQ9HAuMx4/jhZ599Vu+++65xtHD8qQ4ZM2ZU2bJlE76Q37hxo44f/+8HkzExMZowYYKvTCgXb2AMRe+CumYsNm2y3Py94QMqNPt9WyfGieC69tow9k1TCCCAAAIIIIAAAggggAACnhZIrQTGUH4YWbt2bc2fPz/RuK1YsULNmjXT7t27Hcc2V65cvu9LGjVq5LgOBcMnQAJj+CxpCQHPC7Ah4vAReMvI1t+/1VJ48pk6evZUB78NpEkjNS6XX71uL6t8lxnHC3EhgAACCCCAAAIIIIAAAggg4EeA9bo7H5FQExjN5MWbbrpJy5Yt803QPAqpf//+evjhh5U1a9aESZuJjRMnTtSTTz6p/fvjf1Bpfim/aNEilSlTJsVwUmtDJMUmGEpHNWtKixdbWjhYu6lyLvjM1uq8eVKdOqF0Rl0EEEAAAQQQQAABBBBAAAEE/hNIrfV6ciYwmrM7ePCgBg0apA8++ED79u1LNOQ5cuRQu3btfKdW5M+fn0cjlQRIYEwleLpFIBoF2BBxGNX3Gko74zcXzl1fn6msDqeedNiAdFnm9Op/Z3ndHlPQcR0KIoAAAggggAACCCCAAAIIeFOA9bo74x5qAuMjjzyikSNH+iZnvnVx7ty5uuGGGxKd7NatW31HJZlf4JtXpUqVtGrVqhTDSa0NkRSbYCgdNW0qzZhhaeFElZq65PuFtlY/+US6885QOqMuAggggAACCCCAAAIIIIAAAv8JRPt63TyOepNx6sHatWt9P+w8evSo70eguXPnVoUKFVS+fHmlT5+eRyKVBUhgTOUA0D0C0STAhojDaE68R9ryhaXwirOlddfJXg4b+K9Y79vL6P4bSgRcjwoIIIAAAggggAACCCCAAALeEWC97s5Yh5LAuGfPHhUtWlSnT5/2Te6xxx7T8OHD/U508ODBviOnz11m0mPdunX91gtHgWjfEAnJ6IEHpDFjLE2cubqs0m/+wdbse+9JDz4YUm9URgABBBBAAAEEEEAAAQQQQCBBgPU6D4MbBEhgdEMUGAMCUSLAhoizQP72wQMq+qvxc/nzrm1nC+nmk684a+CCUm+2rsibGIOSoxICCCCAAAIIIIAAAggg4A0B1uvujHMoCYzjx49X27ZtEyY2Z84c1a9f3+9Et23bplKlSiWUe/HFF9WnTx+/9cJRgA2RJBSN47312muWAnEFCijd3t8VF2etN2SIjOPAwxER2kAAAQQQQAABBBBAAAEEEEBAYr3OU+AGARIY3RAFxoBAlAiwIeI/kHsPndBXQx/WA7IeC7Q/7jJdFzvCfwMXKWEeJ/1Nt9rKd1nmoOpTCQEEEEAAAQQQQAABBBBAILoFWK+7M76hJDAOHDhQzz33XMLEtmzZYklMTGzGsbGxypz5v+8POnTokHAMdXIrsSGShHD//lLPntYCmTIpZ+Z/dPBQGsv955+X+vVL7mjRPgIIIIAAAggggAACCCCAgFcEWK97JdLunicJjO6OD6NDIKIE2BDxH65Hx69SsR/fVfcMkyyFT8elVcnYccY965fS/luML3FL+fx6u01lp8UphwACCCCAAAIIIIAAAggg4CEB1uvuDHYoCYyvGW/re/K81/CtXbtWMTExfid64MAB5cqVK6Fcly5dNHToUL/1wlGADZEkFN95xzwH3FagTLFj+vHXLJb7ZjEHp4WHI2S0gQACCCCAAAIIIIAAAggg4AEB1useCHIETJEExggIEkNEIFIE2BBJOlI7/z6uWq/MU8u08zQ4wyhb4QonRumwsgYV7jRG3uPCp+uqSC7rl9pBNUYlBBBAAAEEEEAAAQQQQACBqBJgve7OcIaSwDhp0iS1bt06YWKjRo1S+/bt/U509uzZatSoUUK5IcZ5xOcnQvptIIQCbIgkgTd5stSqla1A43I7NeuHwpb7Ztg/+iiEQFAVAQQQQAABBBBAAAEEEEAAgfMEWK/zOLhBgARGN0SBMSAQJQJsiCQdyEGzNuud+dvVIO33ejej/e0GtWKH6re4fEE/DY/WuVLPNro66PpURAABBBBAAAEEEEAAAQQQiE4B1uvujGsoCYx79+5VwYIFFRcX55tcuXLltHr1amXIkCHRyZplGzRooDlz5iSUMetUrFgxRYDYEEmC+ZtvZATHVuDhqus0ekUFy30z//Srr1IkZHSCAAIIIIAAAggggAACCCDgAQHW6x4IcgRMkQTGCAgSQ0QgUgTYEEk6Ure9uUg/7D6sKmk2a2qml2yF74h9SWvjSgYd7vKFsuvzzjcGXZ+KCCCAAAIIIIAAAggggAAC0SnAet2dcQ0lgdGcUdOmTTVjxoyEybVs2VJjxoxRliz20xlOnz4t87jo4eedPVy1alUtX748xXDYEEmCetUq6brrbAV61ZqnlxbWsdyvVk1atizFwkZHCCCAAAIIIIAAAggggAACUS7Aej3KAxwh0yOBMUICxTARiAQBNkQSj1Ls6TMq12u2Tp2J05VpduvbTE/bCt9/8mnNPxv8Ww8ypkurH/o0VMb0aSPhcWGMCCCAAAIIIIAAAggggAACKSTAej2FoBPppl+/fjL/c+F16tQpnT17NuF2pkyZbGVq1aqlr7/++qIt//TTTzKTEA8cOJDweaFChWQmRlYzstxy5sypI0eO+N7MOHbsWG3bti2h3CWXXKIFCxaoSpUqKYbDhkgS1L/8Il1xha3AOzdN02Nzmlnuly4tbd6cYmGjIwQQQAABBBBAAAEEEEAAgSgXYL0e5QGOkOmRwBghgWKYCESCABsiiUfpl/3HVHfIfF+B3DqkVZkftRXuevJRfXq2ZkihnvdUHZXIkzWkNqiMAAIIIIAAAggggAACCCAQXQKs11M3nr1791afPn2CGkTt2rU1f3789wkXu1asWKFmzZpp9+7djtvPlSuXJkyYoEbmWcQpeLEhkgT2oUNSjhy2Ah83HKWWs9tb7ufNK+3bl4KBoysEEEAAAQQQQAABBBBAAIGoFmC9HtXhjZjJkcAYMaFioAi4X4ANkcRjtHnvYTV6fZGvQDqd0fbMbW2FXzrVVu+faRxSoGd1qamr818WUhtURgABBBBAAAEEEEAAAQQQiC4B1uupG8/kTGA0Z3bw4EENGjRIH3zwgZHYlnhmWw4jQa5du3bq0aOH8ufPn+IobIgkQR4XJ2XIIJ05Yyk0t9Eg1Z/1jOWeWSw2VkqTJsVDSIcIIIAAAggggAACCCCAAAJRKMB6PQqDGoFTIoExAoPGkBFwqwAbIolH5vw3MJql1mdqr8vSHLdUePP0HXr19F0hhZc3MIbER2UEEEAAAQQQQAABBBBAICoFWK9HZVhtkzKPo960aZPWrl2r/fv36+jRo8qSJYty586tChUqqHz58kqfPn2qYbAh4of+8stlBM5SaHXD7qo8e6CtohFaZeUAjlR7lukYAQQQQAABBBBAAAEEEIgmAdbr0RTNyJ0LCYyRGztGjoDrBNgQSTwksafPqFyv2Tp1xvhFvXHNz9hVxdNa34ow/nR99Tz9UNBxzZgurX7o01AZ06cNug0qIoAAAggggAACCCCAAAIIRJ8A6/Xoi2kkzogNET9RK11a2rrVUmh7/Q4q+e1IW8WdO6XChSPxKWDMCCCAAAIIIIAAAggggAACbhNgve62iHhzPCQwejPuzBqBZBFgQyRp1tveXKQfdh/2Ffos4wu6Nu12S4WZZ6qp06kngo5N+ULZ9XnnG4OuT0UEEEAAAQQQQAABBBBAAIHoFGC9Hp1xjbRZsSHiJ2I1akjLllkK7a3ZQgUWTbVVXL9exhs1I+0JYLwIIIAAAggggAACCCCAAAJuFGC97saoeG9MJDB6L+bMGIFkE2BDJGnaQbM265358UmLH2QYpLrp1lkqLDlTVm1OPR90fB6tc6WebXR10PWpiAACCCCAAAIIIIAAAgggEJ0CrNejM66RNis2RPxE7NZbpS+/tBQ6fF09ZV/5ra3iggVSrVqR9gQwXgQQQAABBBBAAAEEEEAAATcKsF53Y1S8NyYSGL0Xc2aMQLIJsCGSNO3Ov4+r1ivzFGecIv1ahrfVLN1iS4UfzxZV45MvBxWfNGmkhU/XVZFcWYKqTyUEEEAAAQQQQAABBBBAAIHoFWC9Hr2xjaSZsSHiJ1pt20rjx1sKxV5zrTL/uMZW8bPPpKZNIyn6jBUBBBBAAAEEEEAAAQQQQMCtAqzX3RoZb42LBEZvxZvZIpCsAmyI+Od9dPwqffXDXr2QfpweSv+VpcKeuFyqEfuW/0YuUuKW8vn1dpvKQdWlEgIIIIAAAggggAACCCCAQHQLsF6P7vhGyuzYEPETqSeekN54w1LoTOGiSr/rV1vFMWOk++6LlMgzTgQQQAABBBBAAAEEEEAAATcLsF53c3S8MzYSGL0Ta2aKQLILsCHin3jvoRNqMHSB2p2aqqcyTLVUOPkVTZEAACAASURBVBGXQVfHjvXfyAUlLsucXt90q618l2UOuC4VEEAAAQQQQAABBBBAAAEEol+A9Xr0xzgSZsiGiJ8o9ekj9e5tKRSXLZvSHj1iqzh0qNSlSyREnTEigAACCCCAAAIIIIAAAgi4XYD1utsj5I3xkcDojTgzSwRSRIANEWfMn6/7XcunDFa/DB/YKlx94gOdUCZnDf1b6s3WFXV7TMGA6lAYAQQQQAABBBBAAAEEEEDAOwKs170TazfPlA0RP9F5803p8cdthfJcGqu/jmS03H/xRcnMd+RCAAEEEEAAAQQQQAABBBBAIFQB1uuhClI/HAIkMIZDkTYQQMAnwIaI8wdh/rQRqrPhWVuF60+8od+Vx3FDvW8vo/tvKOG4PAURQAABBBBAAAEEEEAAAQS8J8B63Xsxd+OM2RDxE5UJE6R777UVqlxor1bvzme537mz7bRpN4acMSGAAAIIIIAAAggggAACCESAAOv1CAiSB4ZIAqMHgswUEUgpATZEApD+eYH0YRNbhVtjB2hjXHG/DZnHRve/szxvXvQrRQEEEEAAAQQQQAABBBBAAAHW6zwDbhBgQ8RPFL76SrrlFluhO0tv0mdbrrHcN/Mcx41zQ1QZAwIIIIAAAggggAACCCCAQKQLsF6P9AhGx/hJYIyOODILBFwhwIZIAGHYu0EacaOtQpuTPbTkbPlEG0qTRmpcLr963V5W+S7LHECHFEUAAQQQQAABBBBAAAEEEPCqAOt1r0beXfNmQ8RPPJYvl6pXtxXqXHGx3lpzg+X+rbdKM2e6K76MBgEEEEAAAQQQQAABBBBAIDIFWK9HZtyibdQkMEZbRJkPAqkowIZIAPiHdktDy9gqDMr2rN7ZH2O7n/fSTGpRubBaVy2qIrmyBNARRRFAAAEEEEAAAQQQQAABBLwuwHrd60+AO+bPhoifOGzbJpUqZSs0oPoMPb/sdsv966+XlixxR1wZBQIIIIAAAggggAACCCCAQGQLsF6P7PhFy+hJYIyWSDIPBFwgwIZIAEE49Y/UP7+9wi1DdP23V+j3Qycsn7WtXkx97ygXQAcURQABBBBAAAEEEEAAAQQQQCBegPU6T4IbBNgQ8ROFv/6S8uSxFXqv5hi1X3Sf5f41xonSmza5IaqMAQEEEEAAAQQQQAABBBBAINIFWK9HegSjY/wkMEZHHJkFAq4QYEMkwDD0LyCdOm6tVOc5NfnhBq3fdchy/9byBTS8TaUAO6A4AggggAACCCCAAAIIIIAAAiQw8gy4Q4ANET9xOHNGSp/eVmh6ndd0x/yulvsFjK+Ufv/dHXFlFAgggAACCCCAAAIIIIAAApEtwHo9suMXLaMngTFaIsk8EHCBAAmMAQbhtbLS4V3WStUe0X17mmvB1j8t92tckVsTO1QPsAOKI4AAAggggAACCCCAAAIIIEACI8+AOwTYEHEQh5w5pYMHLQUX1+mpmvP7Wu5lziz9YxzuwYUAAggggAACCCCAAAIIIIBAqAKs10MVpH44BEhgDIcibSCAgE+ABMYAH4QRN0p7N1grlW+pbqc76ZM1uy33S+e7VLO71gqwA4ojgAACCCCAAAIIIIAAAgggwHqdZ8AdAmyIOIjDlVdKP/9sKbih1mOqsHC4rbKZwGgmMnIhgAACCCCAAAIIIIAAAgggEIoA6/VQ9KgbLgESGMMlSTsIIEACY6DPwNgm0i8LrLWurK9+Oftp9OJfLPfzZMuklT1vCrQHyiOAAAIIIIAAAggggAACCCDAep1nwBUCbIg4CEOVKtLKlZaCO2q0UomlE22VzSOkzaOkuRBAAAEEEEAAAQQQQAABBBAIRYD1eih61A2XAAmM4ZKkHQQQYEMk0Gdg6gPSxk+stQpW1PCrRuuV2Vss99OlTaOf+jfW+f/PQ6DdUR4BBBBAAAEEEEAAAQQQQMCbApyY4M24u23WbIg4iEjDhtLXX1sK/lmpgfKunm2rvHGjVKaMgzYpggACCCCAAAIIIIAAAggggEASAqzXeTzcIEACoxuiwBgQiBIBNkQCDOQXT0rfj7ZWylFMk66fqe6fXHC0tFFq3YsNlD1LhgA7oTgCCCCAAAIIIIAAAggggIDXBVive/0JcMf82RBxEIfWraVJkywFj15znS798Xtb5cWLpRtucNAmRRBAAAEEEEAAAQQQQAABBBBIQoD1Oo+HGwRIYHRDFBgDAlEiwIZIgIGc219aONhaKeOlmt10pTqOW2VrbN5TdVQiT9YAO6E4AggggAACCCCAAAIIIICA1wVYr3v9CXDH/NkQcRCH//1PevttS8GTRa5Qpp3bbZU//1y67TYHbVIEAQQQQAABBBBAAAEEEEAAgSQEWK/zeLhBgARGN0SBMSAQJQJsiAQYyGUjpFnP2iqtartFzUfZExinPVpDlYvlCrATiiOAAAIIIIAAAggggAACCHhdgPW6158Ad8yfDREHcXjhBalfP0vBs9lzKN2hA7bKH34otW3roE2KIIAAAggggAACCCCAAAIIIJCEAOt1Hg83CJDA6IYoMAYEokSADZEAA7l+ivTJw7ZKv96/RrVH/Gi7/27bympQNn+AnVAcAQQQQAABBBBAAAEEEEDA6wKs173+BLhj/myIOIjD0KFSt262gul0WmeVznL/jTekzp0dtEkRBBBAAAEEEEAAAQQQQAABBJIQYL3O4+EGARIY3RAFxoBAlAiwIRJgILfNkSY0t1U6/OAiVXh7p+3+oObldXeVogF2QnEEEEAAAQQQQAABBBBAAAGvC7Be9/oT4I75syHiIA5jx0r3328rWDTLfu08nttyv08f6cUXHbRJEQQQQAABBBBAAAEEEEAAAQSSEGC9zuPhBgESGN0QBcaAQJQIsCESYCB3G8dEj6pnq3S23UxdNfqIzpyNs3z2TKPSeqxOyQA7oTgCCCCAAAIIIIAAAggggIDXBVive/0JcMf82RBxEIfPP5eaNLEVrJlvqxbvu8pyv0sXyXxhIxcCCCCAAAIIIIAAAggggAACoQiwXg9Fj7rhEiCBMVyStIMAAmJDJMCH4MAOaViMvdJd43TdJ1m0/2is5bOHa5bQ87eWCbATiiOAAAIIIIAAAggggAACCHhdgPW6158Ad8yfDREHcViyRLrxRlvBNlcu00fbq1nu33efNGaMgzYpggACCCCAAAIIIIAAAggggEASAqzXeTzcIEACoxuiwBgQiBIBNkQCDOSJw9LLReyVbh+mBgtLaOu+o5bPmlUqpNfuujbATiiOAAIIIIAAAggggAACCCDgdQHW615/AtwxfzZEHMThxx+lMvYfrz5d9ksN2djY0oD5osbp0x20SREEEEAAAQQQQAABBBBAAAEEkhBgvc7j4QYBEhjdEAXGgECUCLAhEmAg44wjovvmkc6etlas30utfqyhZT//bblfp/TlGvNA1QA7oTgCCCCAAAIIIIAAAggggIDXBVive/0JcMf82RBxEId9+6T8+W0FX6s0Xk+ubmO5X7OmtHChgzYpggACCCCAAAIIIIAAAggggEASAqzXeTzcIEACoxuiwBgQiBIBNkSCCOQrV0nH/rBWrNFJj+1vpi837LXcjymcXdM72Y8RCqJXqiCAAAIIIIAAAggggAACCHhIgPW6h4Lt4qmyIeIgOCdPSpky2QqOr/qG2q7obLlfrpy0YYODNimCAAIIIIAAAggggAACCCCAQBICrNd5PNwgQAKjG6LAGBCIEgE2RIII5PDq0p/G8UDnX9e2UU89qvHLfrPcLpzzEi1+tl4QnVAFAQQQQAABBBBAAAEEEEDAywKs170cfffMnQ0Rh7HIls34sesxS+FZ1Xur8bJelnuFCkm7djlsk2IIIIAAAggggAACCCCAAAIIJCLAep1Hww0CJDC6IQqMAYEoEWBDJIhAfnCL9OsSa8VSjfXa5S/pjW+3We5nzZhOG19qFEQnVEEAAQQQQAABBBBAAAEEEPCyAOt1L0ffPXNnQ8RhLIoWlXbutBReXu1xVV8+zHIvSxZbnqPDDiiGAAIIIIAAAggggAACCCCAwH8CrNd5GtwgQAKjG6LAGBCIEgE2RIII5KQ20uaZ1opFqmnM1SPV+/NNtgY3922kzBnSBdERVRBAAAEEEEAAAQQQQAABBLwqwHrdq5F317zZEHEYj2uvldatsxTefN29umblOFsDsbFSxowO26UYAggggAACCCCAAAIIIIAAAhcRYL3OY+EGARIY3RAFxoBAlAiwIRJEIGd0llZ/aK2Yu6Rm1Ppcj09cY2vwu+71VDDHJUF0RBUEEEAAAQQQQAABBBBAAAGvCrBe92rk3TVvNkQcxqNePWnePEvh3TG3qPC6L2wN7Nsn5c3rsF2KIYAAAggggAACCCCAAAIIIHARAdbrPBZuECCB0Q1RYAwIRIkAGyJBBHJOb2nxUGvFS3JpcbPvde97y20Nzux8o8oVyh5ER1RBAAEEEEAAAQQQQAABBBDwqgDrda9G3l3zZkPEYTxatJCmTbMUPlC6unJtWWprYPNmqXRph+1SDAEEEEAAAQQQQAABBBBAAIGLCLBe57FwgwAJjG6IAmNAIEoE2BAJIpBL3pC+ecFaMU1abWr/i255c4mtwQ8frKpapS4PoiOqIIAAAggggAACCCCAAAIIeFWA9bpXI++uebMh4jAeHTpIo0ZZCv9TpJSy7Nxia2CpkdNYvbrDdimGAAIIIIAAAggggAACCCCAwEUEWK/zWLhBgARGN0SBMSAQJQJsiAQRyDXjpen/s1X849HNqjp0te3+sFbXqum1hYLoiCoIIIAAAggggAACCCCAAAJeFWC97tXIu2vebIg4jEf37tKgQZbCp3PmUYYDf9oa+PJLqXFjh+1SDAEEEEAAAQQQQAABBBBAAIGLCLBe57FwgwAJjG6IAmNAIEoE2BAJIpCbjW+aJ7W2VTz56AqVGvqT7f6Lt5XRgzeWCKIjqiCAAAIIIIAAAggggAACCHhVgPW6VyPvrnmzIeIwHoMHS88+aykclzat0p09pTiltdyfMEG65x6H7VIMAQQQQAABBBBAAAEEEEAAgYsIsF7nsXCDAAmMbogCY0AgSgTYEAkikL8tl95vYK/40DcqP/qAjsSetnzWqW5JPdWwdBAdUQUBBBBAAAEEEEAAAQQQQMCrAqzXvRp5d82bDRGH8Rg9Wnr4YVvh7Dqow8puuf/WW9L/7Ad7OOyIYggggAACCCCAAAIIIIAAAghIrNd5CtwgQAKjG6LAGBCIEgE2RIII5P5t0lvX2Su2nqxa0zPpt7+PWz67p1pRDbizfBAdUQUBBBBAAAEEEEAAAQQQQMCrAqzXvRp5d82bDRGH8fjkE6l5c1vhqzP+rC0nradydOkivfyylCmTw7YphgACCCCAAAIIIIAAAggggMAFAqzXeSTcIEACoxuiwBgQiBIBNkSCCOSxv6RXrrBXvOMd3bGkmNbuPGj5rFHZ/BrRtnIQHVEFAQQQQAABBBBAAAEEEEDAqwKs170aeXfNmw0Rh/GYP1+qW9dW+MbMK7XkhP07oQwZpPLGb10bGAd8dOgglbDmODrslGIIIIAAAggggAACCCCAAAJeFWC97tXIu2veJDC6Kx6MBoGIFmBDJIjwnT0jvZTbqBhnrdygnx7aWl3fbv7Dcr9qiVya0rFGEB1RBQEEEEAAAQQQQAABBBBAwKsCrNe9Gnl3zZsNEYfxWL9eiomxFb5ZX2uObk6ykTRp4l/eOGyYVLCgw/4ohgACCCCAAAIIIIAAAggg4GkB1uueDr9rJk8Co2tCwUAQiHwBNkSCjOGg4tI/B6yVb+ympw7coY9X7bLcL5k3m+Z0qx1kR1RDAAEEEEAAAQQQQAABBBDwogDrdS9G3X1zZkPEYUx2Gd8FFSliK3y3JmmK7nbUSI4c0ogR0t3Oijtqk0IIIIAAAggggAACCCCAAALRKcB6PTrjGmmzIoEx0iLGeBFwsQAbIkEG541K0t/brZUr36+B6R7RyIU/W+7nyppRq19I+tf2QY6CaggggAACCCCAAAIIIIAAAlEqwHo9SgMbYdNiQ8RhwI4fl7JmtRV+VG9rhB512Eh8sTfekDp3DqgKhRFAAAEEEEAAAQQQQAABBDwmwHrdYwF36XRJYHRpYBgWApEowIZIkFEbfZO063tr5Wtu18j8fTTwq82W+2mNo4C29b9F6cz/woUAAggggAACCCCAAAIIIICAAwHW6w6QKJLsAmyIOCOePClOTVtfosyKtVR4Xv00QM87a+S8UpMm8SbGgNGogAACCCCAAAIIIIAAAgh4SID1uoeC7eKpksDo4uAwNAQiTYANkSAj9pFxns/WWdbKxW7UlPIj9MzH622Nmm9gNN/EyIUAAggggAACCCCAAAIIIICAEwHW606UKJPcAmyI+BfevVsqV07aeLCgCmqPpcKr6qan9Kr/Ri4oYR4nvXGjVLBgwFWpgAACCCCAAAIIIIAAAggg4AEB1useCHIETJEExggIEkNEIFIE2BAJMlKfGsf/rPvIWjlvGX1b9zM9NHalrdE53WqrZN5sQXZGNQQQQAABBBBAAAEEEEAAAa8JsF73WsTdOV82RPzHpUULado0aYPKGX+MrMPzrg90vx7UB/4buUgJs92pU4OqSiUEEEAAAQQQQAABBBBAAIEoF2C9HuUBjpDpkcAYIYFimAhEggAbIkFGabZx/M/St6yVs+XX6ruWqdnb39kandKxhqqWyBVkZ1RDAAEEEEAAAQQQQAABBBDwmgDrda9F3J3zZUMk6bj88ot05ZVSXJy0QLWMP4ssFaarie7Q9KCCmyaNtH27VKJEUNWphAACCCCAAAIIIIAAAgggEMUCrNejOLgRNDUSGCMoWAwVAbcLsCESZIQWDpHm9rVWTptBvz62Q7WHLLA1OuLeSmpUrkCQnVENAQQQQAABBBBAAAEEEEDAawKs170WcXfOlw2RpOPSo4f08svxZT41UhUvTFZcpBttSY2BRLp7d2ngwEBqUBYBBBBAAAEEEEAAAQQQQMALAqzXvRBl98+RBEb3x4gRIhAxAmyIBBmqlcbxPzO72Cof6fqLyg9cars/4M7yuqda0SA7oxoCCCCAAAIIIIAAAggggIDXBFivey3i7pwvGyJJx6VyZWn16vgy7xmHRV94XPRGlbEdKx1IpM32V64MpAZlEUAAAQQQQAABBBBAAAEEvCDAet0LUXb/HElgdH+MGCECESPAhkiQodpkHP8zpZ2tctwT61RqyCadOmOcHXTe9VSDUupU76ogO6MaAggggAACCCCAAAIIIICA1wRYr3st4u6cLxsiicclNla69FLp1Kn4Mq/oKePPq5YKe5RfBbUn6OBmzCgdOSKZ/+RCAAEEEEAAAQQQQAABBBBA4JwA63WeBTcIkMDohigwBgSiRIANkSAD+csiaext9sod5qvamL+077DxLfZ514M3lNCLt5cJsjOqIYAAAggggAACCCCAAAIIeE2A9brXIu7O+bIhknhctm2TSpX67/MeGmD8ed5SIVYZlVknjHtpgg7w1q3SVfwmNmg/KiKAAAIIIIAAAggggAAC0SjAej0aoxp5cyKBMfJixogRcK0AGyJBhmbfRumd6+2V752mRjMzavNe4+fx5113XFtQr7eqGGRnVEMAAQQQQAABBBBAAAEEEPCaAOt1r0XcnfNlQyTxuGzYIFWo8N/nHTXC+POorUJWHdVxZQ06wOvXS+XLB12diggggAACCCCAAAIIIIAAAlEowHo9CoMagVMigTECg8aQEXCrABsiQUbmyF7p1dL2ys1Gq82KIlry01+Wz2pelUfjHqoWZGdUQwABBBBAAAEEEEAAAQQQ8JoA63WvRdyd82VDJPG4XPgGxpaaYvy521ahiH7TLhUJOsC8gTFoOioigAACCCCAAAIIIIAAAlErwHo9akMbURMjgTGiwsVgEXC3ABsiQcbn9Emp3+X2yo0Hq/PPVfX5ut8tn5UrdJlmdq4ZZGdUQwABBBBAAAEEEEAAAQQQ8JoA63WvRdyd82VDJPG4xMZKl14qnToVX6a+5hh/brZViNFarVdMUAHOmFE6YhzyYf6TCwEEEEAAAQQQQAABBBBAAIFzAqzXeRbcIEACoxuiwBgQiBIBNkRCCOSAQtLJo9YGandXr8O3a+zSXy33C2bPrO961A+hM6oigAACCCCAAAIIIIAAAgh4SYD1upei7d65siGSdGwqV5ZWr44vU1GrjT/GjQuuupqr+aobVJDN9leuDKoqlRBAAAEEEEAAAQQQQAABBKJYgPV6FAc3gqZGAmMEBYuhIuB2ATZEQojQ0PLSod+sDVR5WMMyddTQOVst9zNnSKvNfRuH0BlVEUAAAQQQQAABBBBAAAEEvCTAet1L0XbvXNkQSTo2PXpIL78cX6aYdhh/StgqNNfH+kTNgwpy9+7SwIFBVaUSAggggAACCCCAAAIIIIBAFAuwXo/i4EbQ1EhgjKBgMVQE3C7AhkgIERpZW9qz1tpAueYaV+hFvTB9o63hTS81VJaM6UPokKoIIIAAAggggAACCCCAAAJeEWC97pVIu3uebIgkHZ9ffpGuvFKKizOOk9Zh4092W4WH9a5G6+GAA50mjbR9u1TCnhMZcFtUQAABBBBAAAEEEEAAAQQQiC4B1uvRFc9InQ0JjJEaOcaNgAsF2BAJISjj7jS+SZ5rbeCKuvri2nf0v4/+PT/ovE8XPVNXRXJlCaFDqiKAAAIIIIAAAggggAACCHhFgPW6VyLt7nmyIeI/Pi1aSNOmmeXidEoZlF5nLJWe1csarGf9N3RBCbPdqVMDrkYFBBBAAAEEEEAAAQQQQAABDwiwXvdAkCNgiiQwRkCQGCICkSLAhkgIkfr4IemHj60NFIjR0ps+VetRy2wNz+h0gyoUzhFCh1RFAAEEEEAAAQQQQAABBBDwigDrda9E2t3zZEPEf3x275bKlZMOHpT2Ka/x509LpUF6Rt01yH9D55XIYXx9tNE43KNgwYCqURgBBBBAAAEEEEAAAQQQQMAjAqzXPRJol0+TBEaXB4jhIRCIwPHjx7Vw4UKtWbPG95/Vq1fr559/No6eidPdd9+tSZMmBdJcwGXZEAmY7L8KXz4trXjX2kD2ItrSeqkavr7Q1vAHD1RR3dJ5Q+iQqggggAACCCCAAAIIIIAAAl4RYL3ulUi7e55siDiLz+TJUqtW0o+62vizxVJplNqrg0Y5a+jfUubXgcbXglwIIIAAAggggAACCCCAAAIIXFSA9ToPhhsESGB0QxQYAwJhEpg/f77q1q170dZIYAwTcnI1M/9laf5Aa+sZsurPx39Rlf5zbL2+dleMmlUqnFyjoV0EEEAAAQQQQAABBBBAAIEoEiCBMYqCGcFTYUPEefDefFOq/Pj1ul5LLZWmqZlayHfGtKPrjTekzp0dFaUQAggggAACCCCAAAIIIICARwVYr3s08C6bNgmMLgsIw0EgFAEzgbFZs2aKiYlRxYoVff957bXXtHbtWt7AGApsStRdbrx98SvjLYwXXKd77FXJXnNt93veeo3a17wiJUZGHwgggAACCCCAAAIIIIAAAhEuQAJjhAcwSobPhkhggfy90m0quOYLS6V5qqN6mue3IfPY6BEjePOiXygKIIAAAggggAACCCCAAAIIiPU6D4EbBEhgdEMUGAMCYRI4c+aM0qVLZ2mtTp06WrBgAQmMYTJOtmY2fCxNe8jefLfNihm6QYf+OWX57NE6V+rZRlcn23BoGAEEEEAAAQQQQAABBBBAIHoESGCMnlhG8kzYEAkweu3aSePGWSqtUwVdq3WJNpQmjdS8uTRsmFSwYID9URwBBBBAAAEEEEAAAQQQQMCTAqzXPRl2102aBEbXhYQBIRBeARIYw+uZbK399K00vpm9+UeWqN74/fp5/zHLZ62qFNHLzSsk23BoGAEEEEAAAQQQQAABBBBAIHoESGCMnlhG8kzYEAkwel26xGcinnftTV9YBU7vtDVUsqTUsqX08MNSiRIB9kNxBBBAAAEEEEAAAQQQQAABTwuwXvd0+F0zeRIYXRMKBoJA8giQwJg8rmFv9fe10ru17c3e97maz0qvVb8esHx2c5l8GtXuurAPgwYRQAABBBBAAAEEEEAAAQSiT4AExuiLaSTOiA2RAKP20ktSr16WSnFZsijtceuPXM0C778vPfBAgO1THAEEEEAAAQQQQAABBBBAAAFDgPU6j4EbBEhgdEMULjKGI0eOaO3atVq1apVWr17t++eWLVtkHhFsXsWKFdOOHTvCOvrz/1IKtuG4uLhgq7q2XkrEYvfu3Ro/frxmzJjhi+v+/fuVJ08eFS9eXE2aNNG9996rQoUKBWVEAmNQbClf6eBv0uvl7f22HKuHVxXWN5v2WT67rlhOffzo9Sk/TnpEAAEEEEAAAQQQQAABBBCIOAESGCMuZFE5YDZEAgzrW29JnTvbKmVJe0L/nM1kuT9okPTMMwG2T3EEEEAAAQQQQAABBBBAAAEEDAHW6zwGbhAggdENUbhgDKVLl9a2bduUVDKgGxMYc+fO7Uu8i6YrJWIxYsQIPfXUUzp2zP7r6XOW2bJl05AhQ9SxY8eAeUlgDJgsdSrEHpUGXiRJ9bah6v7rdZr0vfV4oCvyZNXcp+qkzljpFQEEEEAAAQQQQAABBBBAIKIESGCMqHBF7WDZEAkwtB99JLVpY6tULvcebfwrv+X+009LgwcH2D7FEUAAAQQQQAABBBBAAAEEEDAEWK/zGLhBgARGN0ThgjE4eRNiciQwNmrUKCCNPXv2aP369Ql1unTpoqFDhwbUhtsLJ3csXjKOgul1wVEwJUuW9L1t0Xwr408//WQh6tu3r3r27BkQGwmMAXGlXmHz7aX98kpnTlrHUK+nBh2/Xe/M3265n/2SDFrXq0HqjZeeEUAAAQQQQAABBBBAAAEEIkaABMaICVVUD5QNMG3d0gAAIABJREFUkQDDO2uW1LixrVKTKzfq8+1lLPfN46PNY6S5EEAAAQQQQAABBBBAAAEEEAhUgPV6oGKUTw4BEhiTQzXENs/95ZA1a1bFxMSoUqVKqly5siZPnqxZ5hdXxpUcCYyBDrtDhw4aNWpUQrUffvhBZcuWDbQZV5dPzliYx0U3bdo0Yf5lypTRhx9+6Iv1ucs8Orxdu3batGlTwr3p06f7jpV2epHA6FTKBeVevVo6ssc6kJg2ej/X43rpK2sCo1nop/6NlT5dWhcMnCEggAACCCCAAAIIIIAAAgi4WYAERjdHxztjY0MkwFivWCFVq2ar1ClmkYavu9Fy//bbJeOrRi4EEEAAAQQQQAABBBBAAAEEAhZgvR4wGRWSQYAExmRADbXJCRMm+JIWzeOL06b9Lznp/vvv19ixY33Np3YC4/Hjx5U/f34dOXLEN55qxpdpy5YtC3XqOnnypP755x9lz5496Lb++OMP5c1rvMkuDFdyxeLUqVMyExbPvWGxcOHCWrdunXLlymUb9d9//60KFSr43shoXldddZUvoTF9+vSOZkgCoyOm1C90YIc0qr503H4M+9k06bXxTGEtOltBH52pp11x8c/398/fpMsvzZT6Y2cECCCAAAIIIIAAAggggAACrhYggdHV4fHM4NgQCTDU5sksxveAF14Dq0/Xc8usP26uXl1aujTA9imOAAIIIIAAAggggAACCCCAgCHAep3HwA0CJDC6IQoOx+CmBMYxY8boAfNskn8v802M7du3dziTixczkxebN28u82jqb775Rjlz5gy4vRdeeEEjR47UvHnzkvVtkKHGYty4cb43K567pkyZopYtWyY6X/Pzu+++O+Fzs/69997ryIcERkdMqVfo8O/SV89KP35ujME4RtrPdTYujb46W0V9Tt2n8V2bqlS+S/1V4XMEEEAAAQQQQAABBBBAAAGPC5DA6PEHwCXTZ0MkwEAYP2pW7ty2SmPrfKD7599vuV+ypLRtW4DtUxwBBBBAAAEEEEAAAQQQQAABQ4D1Oo+BGwRIYHRDFByOIdSkOYfdOCp24403asmSJb6y2bJl8yUdmv8M5brzzjv12Wef+ZqoWLGiL4kx90W+pEusjx49eujll1/2fWy+gdF8I2SJEiVCGVKidUONxe3GuS4zZ870tV+wYEH9+uuvSb5R8fTp0763bv7+u5HsZlzmEdLmUdJOLhIYnSilUpkfpkkzu0onDgU8gENxWbSv1ssqVf++gOtSAQEEEEAAAQQQQAABBBBAwFsCJDB6K95unS0bIgFG5swZKUMG4/eu1h+8fnnTq7p1TjdLYzlySAcOBNg+xRFAAAEEEEAAAQQQQAABBBAwBFiv8xi4QYAERjdEweEYQk2ac9iN32JbtmzR1VdfnVDuoYce0ujRo/3W81fgo48+8r2V8Iz55Zxxmccmf/vtt8qTJ4+/qnrmmWf0yiuvJJRr1qyZJk2aZHzHZ3zJlwxXKLEwj8g23y4ZGxvrG9mDDz6o9957z+8ozXIffPCBr1zmzJmNLyUP+P7p7yKB0Z9QKn2+bIQ0y3jzYqhX48HGGe4dQ22F+ggggAACCCCAAAIIIIAAAlEsQAJjFAc3gqbGhkgQwcqVy5aZuPzm51X9m362xozDbXz5jlwIIIAAAggggAACCCCAAAIIBCLAej0QLcomlwAJjMklmwzthpI0F87hXJgs+N1336lGjRph6WLixIlq27ZtQhJj+fLlfUmMl19+eaLtd+vWTUOHDk34vEWLFjLbSZ8+fVjGdLFGQonF6tWrVbly5YRmzeRFMznR32WWO/+YbrMd802V/i4SGP0JpcLn5psXP/Yfc8cja/G+VK654+IURAABBBBAAAEEEEAAAQQQ8JYACYzeirdbZ8uGSBCRMc+G3r7dUnFL/Ud19bdv2xozDshR/vxB9EEVBBBAAAEEEEAAAQQQQAABTwuwXvd0+F0zeRIYXRMK/wMJJWnOf+vOSpw6dUpFihTRvn37fBXKlCmjjRs3OqvssJT55sR77703IYnR7GPu3LnKly+frYXHH39cb775ZsL9li1bynyTY3ImL5qdhRKLcePG+d40ee5auHChatas6VfHLFe7du2EcuPHj1ebNm1s9cw3M557i6X5YdOmTWUmmZpHdL/77rsJ5c23U2bPnt1vv4EUYEPEgdZh4xjwt6sHdWx0oq1nNuL42HLpsgIOBkARBBBAAAEEEEAAAQQQQAABrwmwXvdaxN05XzZEgohL1arS999bKu6pdbcKLpxka2zDBuP3reWC6IMqCCCAAAIIIIAAAggggAACnhZgve7p8Ltm8iQwuiYU/gcSStKc/9adlfj0009lHs987nrttdfUtWtXZ5UDKDV58mRfEuPp06d9ta655hpfEmP+f39GHBcXp06dOuntt//7tfHdd98tM6kvuZMXzfGEEou+ffvqxRdfTNDYsWOHihUr5lfn119/VfHixRPKme307NnTVs8sY5b1d5nJkPPnz/dX7KKf//HHHxe9f8UVV+jYsWPKli2bjhw5ElTbUV9pclvpxxnhn2aZptJdH4a/XVpEAAEEEEAAAQQQQAABBBCIeAESGCM+hFExATZEgghjo0bS7NmWioer3azsy7+2NTZvnlSnThB9UAUBBBBAAAEEEEAAAQQQQMDTAqzXPR1+10yeBEbXhML/QEJJmvPfurMSt912m7744gtf4YwZM2r37t3KkyePs8oBlpo6daruueeehCTG0qVL+5IYCxQooEceecTyNsHWrVvLfLNhunTpAuwluOKhxOLpp5/WkCFDEjo+ePCgozchmuVy5syZUM88ynvQoEG2CaREAuP5/wK7mCAJjIk8Vwd2SMOuNT6MC+7BS7JWGumJtVLO4snQNk0igAACCCCAAAIIIIAAAghEsgAJjJEcvegZOxsiQcTS+G5UEydaKsaWr6zMG1baGjO+SlWLFkH0QRUEEEAAAQQQQAABBBBAAAFPC7Be93T4XTN5EhhdEwr/Awklac5/6/5LmMmK5psCzx1PbB7XPGXKFP8VQyjx8ccfy0xOPPcmxquuukpVjaNTJkyYkNCqmeT44YcfpljyotlxKLF49NFHNWLEiITxx8bG+pJB/V1mucyZMycUM9s5/w2U/uqH83MSGIPUnNNbWjw0yMoOqt1ovA31JqMPLgQQQAABBBBAAAEEEEAAAQTOEyCBkcfBDQJsiAQRBeMEGg0fbql4tngJpdvxs62xd96R8aPvIPqgCgIIIIAAAggggAACCCCAgKcFWK+7KPzbt0srjR8t/vmnZLzkTGfPyjji1UUDTL6hkMCYfLZhbzmUpLlwDKZ///6WI4tnG8eXNGjQIBxNJ9nGtGnT1KpVq4QkxvMLm8dMjxkzJkWTF83+Q4lF+/bt9d577yVMw0wITZs2rV/Hs8ZfTOe/YdJsZ9SoUX7rJUcBjpAOUnVkLWnPuiArO6hWwHi7Y8cFDgpSBAEEEEAAAQQQQAABBBBAwEsCJDB6KdrunSsbIkHExtyk6NvXUjEue3ZliT2oEyes7b30kvTCC0H0QRUEEEAAAQQQQAABBBBAAAFPC7BeT+XwGy8zk/mrxDfekH791T4YI6fIdrVtK+PIXCmNcVKn+QK4/PlTeRKhd08CY+iGKdZCKElzoQ4yLi5O5tsPt5vZvsZlvonx559/dpR4F2rfZn3zOOm77rrL0pT5vycaR6g4Sf4LxxjObyOUWDzxxBPG3zvGXzz/XseOHVOWLFn8DtEsZx7NfO4y23n99df91kvJAmyIJKF92viXzoBCRob8qeQLSTrjTZ49jH9Jpff/Rs/kGwQtI4AAAggggAACCCCAAAIIuE2A9brbIuLN8bAhEkTcze/+uhonblxwlSh8Sjt2pbfcffxxadiwIPqgCgIIIIAAAggggAACCCCAgKcFWK+nYvg3b5aM02+1aVP8IIzcLMtlJiheLIFx8GCpe/f4BEbzvz/5ZCpOIjxdk8AYHscUaSWUpLlQBzhv3jzVq1cvoZnevXurV69eoTbrqL75hkJz7uPHj7eUL1GihMxxmcmUKX2FEovnn39eAwYMSBjyn8arX/PkyeN3Cma5vHnzJpTr2bOn8QNs6y+w/TaSzAXYEEkC+C8j+ffNSskcAaP5zqul3Fcmfz/0gAACCCCAAAIIIIAAAgggEDECrNcjJlRRPVA2RIII74cfSvfdZ6tYr/yfmrfB+n3iPffEv3SBCwEEEEAAAQQQQAABBBBAAIFABFivB6IVxrK//CLVqBF/XPS5xMVLLpFKl45/E+OBA/EJihdLYDTrFCwYf8S02cbixWEcWOo0RQJj6rgH1WsoSXNBdXhepTZt2uijjz7y3THfeLhjxw4VKVIk1Gb91jeTF9u1a5fQt1nBPEbZvG9eZvKimcRoJjOm5BVKLMy3JnY975fT69evV/ny5f0O3ywXExOTUM5sx3wLo5suNkSSiMa+jcZrf69P/nA9+p2Ur2zy90MPCCCAAAIIIIAAAggggAACESPAej1iQhXVA2VDJIjwzpwp3X67reID12/RmO9KWe43aCDNnh1EH1RBAAEEEEAAAQQQQAABBBDwtADr9VQKv5l4uHx5fJKi+TKzV16RcTStlNE4cbNx4/hFfmIJjOaQ69SRFi6UMmSQ/v5bypo1lSYSnm5JYAyPY4q0EkrSXCgDPHjwoAoUKKATJ074mmnUqJG++uqrUJp0VPf06dO69957NXny5ITy3bp102233eb7z/Hjx333ixYtqrlz5+rKK1PurXOhxGLWrFnG3zXGXzb/Xp9//rlvPv4us1yTJk0Sis02/rJqYH4z6aKLDZEkgsEbGF30pDIUBBBAAAEEEEAAAQQQQMBbAqzXvRVvt86WDZEgIvOd8UPVG26wVXzx5qXq+011y/2KFaXVxsEcXAgggAACCCCAAAIIIIAAAggEIsB6PRCtMJU18n/UtGl8gqL5JsWlS6XChf9r3EkCo3H6qwYOjG9jyRKpuvV7gjCNNMWaIYExxahD7yiUpLlQeh8+fLg6deqU0MTHH3+s5s2bh9Kk37pm8uI9xrknU6dOTSj79NNPG0e3G2e3G9dCI4v41ltv1dGjR33/u7Dxf8jmmxhLlizpt+1wFAglFjt37vQlXZ67+vTpoxdffNHvsMxy5tHd5y6zHXPebrrYEEkiGqdjpQGFjFf4nkq+kKUzMvF77JbSG//kQgABBBBAAAEEEEAAAQQQQOBfAdbrPApuEGBDJIgobN4sXXONreLIJl/okRm3WO6bh+X89lsQfVAFAQQQQAABBBBAAAEEEEDA0wKs11Mh/PffL334YXzy4aefynibmXUQThIYJ02SkVgV38aYMVLbtqkwkfB1SQJj+CyTvaVQkuZCGVylSpW0Zs0aXxOXX365du/ebbyB1HgFaTJdp06dUuvWrTVt2rSEHrp3724kDhuZw+ddi40z3M03GZ5LYixoZCWbSYylSlmPT0mOYYYaCzPRcvv27b6h1atXT99++63fYZrlzPmZl1l/27ZtfuukdAE2RPyIj6wl7VmXfGEpcK3UcUHytU/LCCCAAAIIIIAAAggggAACESnAej0iwxZ1g2ZDJIiQ/vGHlC+freJnzcfpzmn3Wu5fcomME2uC6IMqCCCAAAIIIIAAAggggAACnhZgvZ4K4S9dWkbSj5Q7t/Tnn/YBOElgnDNHxrGt8QmMQ4ZIXbumwkTC1yUJjOGzTPaWQk2aC2aAq41zRypXrpxQ9cknnzSee+PBT6bLTF68yzjT/bPPPkvo4Xnjtaf9+vW7aI/fGceomEmMhw8f9n1uHnVtHid99dVXJ9MI45sNNRbPPPOMcXy9cX69caVNm1a//PKL5a2MFw7+N+Pn0yVKlNDZs2d9H5n1Bw0alKxzDKZxNkT8qM3pLS0eGgytszo3Gv9CusnogwsBBBBAAAEEEEAAAQQQQACB8wRYr/M4uEGADZEgomB8V6qM9pM2FrccpppTH7c1eOyYlCVLEP1QBQEEEEAAAQQQQAABBBBAwLMCrNdTIfTZs8t4W5t0/fXSokX2AThJYDSPja5ZMz6BsW9f6bnnUmEi4euSBMbwWSZ7S6EmzQUzwP/97396++23E6r++OOPyZYcePLkSbVs2VIzZsxI6O+FF17QSy+9lOTQly9froYNG+rQoUO+cvmMXyWbSYxlypQJZsqO6oQaC9OxfPnyOnPmjK+/9u3ba9SoUYn2bX7+3nvv+T5Ply6dNmzYYJweYz8+xtHgk7EQGyJ+cA/skIYZb0lUXDJEwfiX0hNrpZzFk6FtmkQAAQQQQAABBBBAAAEEEIhkAdbrkRy96Bk7GyJBxvLSS+M3Nc67NrbopXIf97Y1uMP46qlYsSD7oRoCCCCAAAIIIIAAAggggIAnBVivp0LYzV8fxsZKtWvLSHCyD8BJAuMXX0i33x6fwDhsmNSpUypMJHxdksAYPstkbynUpLkdxjdY5lv8zl333XefcQz6mETH/c8//8g8lvngwYO+MjfccIPMY5uT67rjjjs0ffr0hOZ79+6tXr16Oeru+++/N96M2iBhrHnz5tXSpUt1xRVXOKofaKFQY2H299BDD+n9999P6Prdd9/Vww8/bBuKeb9jx44J9816o0ePDnTIKVKeDREHzJPbSj/+l6TroIazImWaSnd96KwspRBAAAEEEEAAAQQQQAABBDwlwHrdU+F27WTZEAkyNGZGonE6y/nXrjs7q8inb9gaXLlSxmk6QfZDNQQQQAABBBBAAAEEEEAAAU8KsF5PhbCba/2dO6WrrpK2bLEPwEkCo3lqa48e8QmMEyZIrVqlwkTC1yUJjOGzDFtL5nHJFzsy2Txe+dwRwmZnmTJlsvVZq1Ytff311xcdS6AJjOPHj1fbtkay1b+XmWz3wAMPhG2eFzY0ceJEX3/mWwn7Gq837dmzZ0B9rVq1SjfffLMOHDig5s2ba9KkSUqfPn1AbVxYOLliYfazf/9+Va9eXdu3b0/o9nYjO7qV8ZeKmTj6+++/++bw+eefJ3xesmRJX2Jmnjx5QppXclVmQ8SB7OHfpberSyfi3xgaliuz8Xrhx5ZLlxUIS3M0ggACCCCAAAIIIIAAAgggEF0CrNejK56ROhs2RIKMXMWK0lrj1I3zroO3tlHOL8bbGpw1S8ZJNUH2QzUEEEAAAQQQQAABBBBAAAFPCrBeT4Ww168vzZsXn3y4a5dU4IJcDycJjObx08uWxbexeXN8MmQEXyQwujB45psH+/TpE9TIahuvF50/f/5F6waawFi3bt2Etswvuvfs2aOsWbMGNS6nlT766CPjB8W/qXv37k6rWMqtWbNGb731lkaOHBly8qLZcHLF4tygt23b5jv++pdffvE7X/PtmWZyqpnE6NaLDRGHkflhmvTxgw4LOyjWwniTZ7nmDgpSBAEEEEAAAQQQQAABBBBAwIsCrNe9GHX3zZkNkSBjYm5qXHCcVGy9xso890tbg8bv0dWmTZD9UA0BBBBAAAEEEEAAAQQQQMCTAqzXUyHs57898cknpcGDrYPwl8A4e7ZkljGTFwsXln79NRUmEd4uSWAMr2dYWkuupLlAEhjNtwJeZWTnxsXF+ebUoUMHX1Kg167kisX5jkePHtXzzz+vsWPH6tAh+1v5smfPLvO47/79+ytbtmyuDgEbIgGEZ7nxf09fPRNAhYsXHZXtET38lPFqYC4EEEAAAQQQQAABBBBAAAEEEhFgvc6j4QYBNkSCjELLlsYPYT+2VD5btZrSrTDesnDB9frr0hNPBNkP1RBAAAEEEEAAAQQQQAABBDwpwHo9FcJuvNhNpUpJxkm8SptWmj5duuWW/waSVALjhg3STTdJf/4Zn8BonPLrO0o6wi8SGCM8gAw/egROnDihBQsWyEw0/euvv5Q7d24VL15cderUuehx4W6cORsiAUbFfBPjzK5BHSd9KC6Lnj/1kDbkrK8FT9cNsGOKI4AAAggggAACCCCAAAIIeEmA9bqXou3eubIhEmRsOnaU3n3XWtn44XmOP7YaP4a23jZ+I+3bt+BCAAEEEEAAAQQQQAABBBBAwKkA63WnUmEu162bZP4S0bwyZJDMNzF26SLlzRv/dkXzLYtmguKZM/Fl/v5beucdyXx747Fj8ffy55e2bJHxNrQwDy7lmyOBMeXN6RGBqBVgQySI0B7eI816Vto0w6gc/8bTpK6zcWn01dkq6nPqPv2hnLo0U3pt6NPQXzU+RwABBBBAAAEEEEAAAQQQ8LAA63UPB99FU2dDJMhgmG9RePlla2Xjh89X5dyvn36y3jZzHUeMCLIfqiGAAAIIIIAAAggggAACCHhSgPV6KoX95Empfn1pyZL4REXzMt/GWK6c9Pvv/71hsU0baetWafXq+GTGf0/SVcaM0ty50vXXp9IEwtstCYzh9aQ1BDwtwIZICOE/sENaNUbaPk/as9beUJbcWpe3qf63pYJ2xRkZ9+ddW/s1Vsb0xr/IuBBAAAEEEEAAAQQQQAABBBC4iADrdR4LNwiwIRJkFF55RXrmGWtlY0Pj+iqntHS59fug5s1tp00H2SnVEEAAAQQQQAABBBBAAAEEvCLAej0VI33woHTPPcZLr2b9N4hzyYwXDstMXDQ/M/952WXSxInxb2qMkosExigJJNNAwA0CbIiEKQqjb5J2fW9trPStmn7NK3pikj25cflz9ZXvssxh6pxmEEAAAQQQQAABBBBAAAEEok2A9Xq0RTQy58OGSJBxe+89qX17W+VWDQ9o8uwclvu1a0vz5wfZD9UQQAABBBBAAAEEEEAAAQQ8KcB63QVhHzlSMn/A+PPPSQ/GTGBs0UIaMEC68koXDDx8QyCBMXyWtISA5wXYEAnTIzDJeAXw5pnWxgpX0cJaE9Xu/RW2Tr56oqauKWBk2HMhgAACCCCAAAIIIIAAAgggcBEB1us8Fm4QYEMkyCh8+qnUrJmt8jPNt+uVaVdY7pcpI23cGGQ/VEMAAQQQQAABBBBAAAEEEPCkAOt1l4T97Flp0SJpwQJp/Xrpr7+kY8ekHMaPF/Pnjz8qulEjqXhxlww4vMMggTG8nrSGgKcF2BAJU/hndpVWvm9tLGdx/dBioW57c7Gtkwntq+mGknnC1DnNIIAAAggggAACCCCAAAIIRJsA6/Voi2hkzocNkSDjZm5c1Kljqzzs3u/VZfx1lvt580r79gXZD9UQQAABBBBAAAEEEEAAAQQ8KcB63ZNhd92kSWB0XUgYEAKRK8CGSJhiN8943e+CQdbGMmTVnk7bVWPgXFsnb7SuqCYxBcPUOc0ggAACCCCAAAIIIIAAAghEmwDr9WiLaGTOhw2RIOO2YYNUoYKt8pSHZuvu9xpY7qdLJ508KaVNG2RfVEMAAQQQQAABBBBAAAEEEPCcAOt1z4XclRMmgdGVYWFQCESmABsiYYrbilHSl0/ZGjvx9E5d3dd4ZfAFV58mZXXf9cXD1DnNIIAAAggggAACCCCAAAIIRJsA6/Voi2hkzocNkSDjtnu3VLiwrfK8DhNV791Wtvt//y3lzBlkX1RDAAEEEEAAAQQQQAABBBDwnADr9VQI+YcfxndaqJBUv35wA5g/X/rtt/i67doF14aLapHA6KJgMBQEIl2ADZEwRXDjZ9LU++yNPbFOZYdu1rGTZyyfPV7/KnW7uVSYOqcZBBBAAAEEEEAAAQQQQACBaBNgvR5tEY3M+bAhEmTc/vlHypLFVnl9x+GKGfmY7f6WLVIpvib6P3t3Am9T1f9x/Gsei0TmmchY/EORMUOhMpTmQmmiUcrToAHpSYaUSMkcikqFlLkkTyShhFCZokxlvvz3Orerux3cc849+5y99/ksr16e59y111r7/Tv36Vl7/fZaEWJzGQIIIIAAAggggAACCCCQeALM1+MQc3N0QoYMUvPm1uZW0yMbQJs20rRpye0cPRpZGy66igRGFwWDoSDgdQEWRKIUwU2LpLevCG6s8+eqN2GffttlPbhOVW6pU1LPX1MlSp3TDAIIIIAAAggggAACCCCAgN8EmK/7LaLevB8WRNIRtxw5pIMHbQ38cufzKjniyaBGv/xSuvTSdPTFpQgggAACCCCAAAIIIIAAAgklwHw9DuGOVgLjhx8mJzAm2TfBisMdpbtLEhjTTUgDCCCQIsCCSJS+CzvXSa/WDG7s+nd09edn67vf9th+1rJqYb12U40odU4zCCCAAAIIIIAAAggggAACfhNgvu63iHrzflgQSUfczJFSW7bYGth1+0PKN2pAUKNm7eKqq9LRF5cigAACCCCAAAIIIIAAAggklADz9TiEmwTGIHRfJjB26tQpcKNVq1bVQw89FNE37dVXX9WyZcusRNUMeuuttyJqg4sQSDQBFkSiFPEDu6UXSwY31nqwOq6opLlrdth+VqdMPk3sckmUOqcZBBBAAAEEEEAAAQQQQAABvwkwX/dbRL15PyyIpCNu1nNurVxpa+DQDbcp+zujgho1j7L/eTyejg65FAEEEEAAAQQQQAABBBBAIFEEmK/HIdLRSGBs2VKaMUPKmjXo1IY43FG6u/RlAmNGK9DmF6y5dVb49AjPCm9jnRX+ofW6qmknyQdbbab7m0IDCIQgwIJICEihVDl+XOp9nrXN72F77cZP6uFtTTV12Wbb5xUKnqVPH6ofSsvUQQABBBBAAAEEEEAAAQQQSEAB5usJGHQX3jILIukISoMG0oIFtgaOt2qtLDOmBZ0S9eKLUo8e6eiLSxFAAAEEEEAAAQQQQAABBBJKgPl6HMIdjQTGypWlH36QChSQtm+Pw01Et0sSGE/jSQJjdL9otJYYAiyIRDHOAypJe+2Jiqp1l/ocv10jFm6wdZQ/dzZ98+TlUeycphBAAAEEEEAAAQQQQAABBPwkwHzdT9H07r2wIJKO2Fkv2+uDD+wN1K2rgmu/0O+/2z/u3l166aV09MUHfABVAAAgAElEQVSlCCCAAAIIIIAAAggggAACCSXAfD0O4U5vAuOsWVKLFrJ25ZMusU7r/OKLONxEdLskgfE0niQwRveLRmuJIcCCSBTjPNx6s37rcnuDldtoaIEn9d+Za2yfZ8qYQev6XBHYMZaCAAIIIIAAAggggAACCCCAwMkCzNf5TrhBgAWRdEShc2dp5Eh7AxdcoMoZVmv1avvHt98uvf12OvriUgQQQAABBBBAAAEEEEAAgYQSYL7ucLg7dQruYNSo5OTDIkWkpk1DG4A5yfPAAemnn6QVK6Rjx5Lb6NnTOuGzd2htuLgWCYynCY45fvqzzz5Tzpw59ddff7k4hAwNAfcIsCASxViMv1Zaa2XNpy6lLtOkykP12JTvgzr67ulmypMzSxQHQFMIIIAAAggggAACCCCAAAJ+EWC+7pdIevs+WBBJR/wefVTq39/eQMGCalhxm+bPt3/cqpX00Ufp6ItLEUAAAQQQQAABBBBAAAEEEkqA+brD4U7ZbTF1NyYZ0ZRIN6lKuT53bmnlSqlECYdvwvnmSWA8jXGxYsW0ZcsWmb9/+eUX5yNBDwj4QIAFkSgG8YN7peXj7Q3mr6DPGn+kO8d8E9TRnEcaqEwB619OFAQQQAABBBBAAAEEEEAAAQROEmC+zlfCDQIsiKQjCi+8IP3nP/YGsmRR+9aHNGWq/USOOnWkr75KR19cigACCCCAAAIIIIAAAgggkFACzNcdDrdJYHSiFC0qjR4tNW7sROsxb5MExpPI9+7dq5deekl9+vQJHMfa1Nqqc+bMmTEPDB0i4EUBFkSiGLXPeklfDrI3mCOfll6/VO1eD34KPeWeS1SzZL4oDoCmEEAAAQQQQAABBBBAAAEE/CLAfN0vkfT2fbAgko74DR8u3X13UAMPdNqnV0baX2gtW1Zaty4dfXEpAggggAACCCCAAAIIIIBAQgkwX3c43B07BndgEg9TjpC+/PLQBmASIc2Oi4ULSzVrJicuZsoU2rUeqOX5BMYyZcoEMW/cuDGQfJg9e3YVtI7SCKUct7bXPGCdFb5jx45AdfPfTRuDBg1St27dQmmCOggkvAALIlH8Cix6VZr1RFCDG+7ZpEYDvwz6/I1baqpZ5UJRHABNIYAAAggggAACCCCAAAII+EWA+bpfIunt+2BBJB3xe/dd6brrghp4qesm9XjVfkxUnjzS7t3p6ItLEUAAAQQQQAABBBBAAAEEEkognvP1ffv2afny5Vq6dKmWLVsW+HvNmjVKSkoKxKBkyZIyOWDhlNT3E851qeuanDFHS8qx0s2bS9OnO9qVVxr3fAJjRiuoJ3/5Un+RwvliplxnrjH/uaz1uqr5RcmVK5dX4sk4EYirAAsiUeRfMVmaemdQg3vv+V7VBn4f9PmL7aqqw8X2B9ZRHA1NIYAAAggggAACCCCAAAIIeFiA+bqHg+ejocdzQcTzjLNnS6fYkWF89291c/8Lg27v8GHJOmGaggACCCCAAAIIIIAAAggggECaAvGar1eoUEFr164N5GedrsQjgfHcc8/Vzp0703RLV4WUY6VbtCCB8R9IXyQwputLcYqLs1hPd9q2basBAwZYO29aW29SEEAgJAEWREJiCq3S+jnS2DZBdY/ftUDlh2zW0WP2f4n3aFFB9zYsF1rb1EIAAQQQQAABBBBAAAEEEEgoAebrCRVu195svBZEXAsSzsC+/VaqUSPois97zlbTF6wjo04qW7dKhTioIxxh6iKAAAIIIIAAAggggAACCSsQr/l6KBvSRZLA2MIkBYZRtlqT6BUrVpy44sEHH9TAgQPDaIGq0RDwfALjaHMueKpiMnM7deoU2JWxSpUqevjhh0NyMjs55rbOCjcJi9WqVVPOnDlDuo5KCCDwrwALIlH8NmxbKQ2rG9zgzVN08SRpx75Dtp/dUa+0nmxVKYoDoCkEEEAAAQQQQAABBBBAAAG/CDBf90skvX0f8VoQ8bbaP6PftEkqVSroVpY/8a4u6tM+6HOz7lK1qi/unJtAAAEEEEAAAQQQQAABBBBwWCBe8/WUfs2puNWrV7fe26uhmjVratKkSZo5c2bgriNJYAyXq0uXLhoxYsSJy1auXKnKlSuH2wz10yng+QTGU91/yrHSza2zwqdzVng6vyJcjkDoAiyIhG6VZs2/fpf6lw+u1ma4ms8pojXb99l+1rZGUQ24LvjIoDT7oQICCCCAAAIIIIAAAggggIDvBZiv+z7EnrjBeC2IeAInrUHus54DnX12UK3Ndz+nMsN66LCy2X42xzrYo1GjtBrl5wgggAACCCCAAAIIIIAAAggosEFcSjnTcc7Rtho/fnwgadEcJW3yvFLK7bffrpTN7JxOYNy/f791gkEh7TPzbqvUrl1bixcvjvat0l4IAr5MYGzYsGHgF8x8sfr16xcCA1UQQCAaAiyIREPxnzaSjkrP57f+i/2oaDV9XjesqqWvfv7D1lnDCgU0qmOtKA6AphBAAAEEEEAAAQQQQAABBPwiwHzdL5H09n3Ea0HE22r/jP7nn6Vy5azHRCc9J7J+fFhZ9L2qapaa6Q110UaV1uTJ0rXX+uLOuQkEEEAAAQQQQAABBBBAAAGHBdw2X49lAuOoUaPUsWPHE8JmJ8Y77rjDYXGaP5WALxMYCTUCCMRHgAWRKLv/t6y0f6e90Uu76b6dbfXJiq22z6sXy6MPu9aL8gBoDgEEEEAAAQQQQAABBBBAwA8CzNf9EEXv34PbFkQ8Ibp5s/TAA9LUqadMXjz5Ho4pg6aonfb3HazbehbxxC0ySAQQQAABBBBAAAEEEEAAgfgKuG2+HssExnr16unLL78MBCB37tzaunVr4O+Yl717pVmzpK+/ln77Tdq9Wzp0KLRhmB00Z88Ora6La5HA6OLgMDQEvCbAgkiUI/ZaHWnHD/ZGq9+gpzJ01djFm2yfFzsnh754rHGUB0BzCCCAAAIIIIAAAggggAACfhBgvu6HKHr/Hty2IOJ60UmTpLvvTl60CLMcyJ5XOUYNkzp0CPNKqiOAAAIIIIAAAggggAACCCSagNvm67FKYFyzZo0qVqx4ItydO3fWm2++GdvwHz4sPfmkNMyaw//9d/h9m5MaTAJjUlL417rsChIYrYBstt5k/fzzz7Vt2zbly5dPjRo1sk7ksI7koCCAQFgCLIiExZV25dGtpQ0L7PXKNtHAQv00ePZa2+c5s2bS6udapN0mNRBAAAEEEEAAAQQQQAABBBJOgPl6woXclTfstgURVyKlDOqVV5J3XkxvMe1065beVrgeAQQQQAABBBBAAAEEEEDAxwJum6/HKoGxR48eeumll05EdtGiRbrkkktiF+l9+6TG1iZVy5aFdOpCIFHRFJO0mLqQwBi7mIXb03ErWK+99pqOHTumjBkz6r777rPi+E8gT2rsiSeeUP/+/XX06FHbT2666SYrwXWYcubMGW731EcgYQVYEIly6N/rLK18z95ooWoaXW2sek1bFdTZj8+3UPYsmaI8CJpDAAEEEEAAAQQQQAABBBDwuoBX5+sL/nmnz3rfWFWqeDsK+6yH0suXL9fSpUut59LLAn+bN/2T/nlDvmTJktq4cWNYN3m6553hNGKeo8aquG1BJFb3HXY/ZufF668P+7LTXjBxIjsxRk+TlhBAAAEEEEAAAQQQQAAB3wm4bb4eiwTGI0eOqHjx4tq+fXsgnpUqVdKqVcE5GI4G25ya8O67/3ZhkicvvVT64ANp/frknRWffloyx0v/+qtkJVhqy5bk+uZnN9wglS+f/N979XJ0qLFo3Jc7MM6fPz+wi6L5JWvZsqWmTZt2Ssu+fftaO3FaW3H+U1J+Kc2DO/OfmzVrphkzZsQiDvSBgC8EvLog4lr8GY9LX79uH95ZhfXR5XPU7Z1vg4a96PHGKpI3h2tvh4EhgAACCCCAAAIIIIAAAgjER8Cr83XrveTA89jmzaXp0+12Y8Yk//eiRaUmTeLjGmqvFSpU0Nq1a60X5E+fLBiPBMZzzz1XO3fuDPU20l3PbQsi6b4hJxqwTgoKZOtGcGz0aYeTN6+sVRipSBEnRkybCCCAAAIIIIAAAggggAACHhdw23w9FgmM77//vtq2bXsicgMGDNBDDz0Uu0haL7mqRo3kB1+ZrE2qRo9OTkg05YorpE8/PfXR0B9/LD3yiKwHTZKZ77/zTvKDMx8UXyYwmqREk5xofsnesYJ13XXXBYXKHBddpkwZHTp0KPAz8wAxT548Mlm2+/fvD3xmrjfnm3fs2NEHoeYWEHBewKsLIs7LRNjDwpel2c/ZL86YWYtu+EE3vvW/oEY/7lZPVYrmibAzLkMAAQQQQAABBBBAAAEEEPCrgFfn62dKYDzTz9wWx1B2SowkgbFFixZh3erWrVu1YsWKE9c8+OCDGjhwYFhtpKey2xZE0nMvjl3bvr00ZUr0mzftpt7VIfo90CICCCCAAAIIIIAAAggggIBHBdw2X49FAmOrVq30ySefBCKWNWtWbbZeKMyfP3/sImiSEM0zGZPAaB1lrRde+LfvMyUwmlomp808E/riC+nss5OPoLby37xefJnAeIUVzE+tbFTzS/bnn38GEhNPLim7L5o655xzjiZZR3M0sV7XPnz4sMyx0i+/bCUOWaVy5cr6/vvvvR5nxo9ATAS8uiASE5xIOllmbScxrVvQlWtuW6Hmw1cGfT6mUy3VP79AJD1xDQIIIIAAAggggAACCCCAgI8FvDpf91sCY65cuVS9enXrBfsaqlmzZuB55MyZMwPfvEgSGMP9ynbp0kUjRow4cdnKlSsDzz5jVdy2IBKr+w65nw0bpLJlzZv2IV8SckWzIGKOnypdOuRLqIgAAggggAACCCCAAAIIIJAYAqnn67lz5w75pnv27Kn//Oc/IdcPtaLTCYwmWdE8h0lKSgoM6dprr9XkyZNDHV506tWpIy1ZIpmHX+Z46MKF/203rQRGU3PHDsk68UN79iTv2Gh2ZvR48WUCY8qxLOYLt8E8+DlFMQ8Jv/3220CS46BBg9Stmz1JqFatWvrmm28CPzdHvJjdGikIIHBmAa8uiLg2rmusRYx3OgQN74/bFqrmcOtfYieVQR0u1DUXWWdnURBAAAEEEEAAAQQQQAABBBBIJeDV+bqV76eDB6X69aW5c+0h9dIOjOPHjw8kLZpnlhnNwP8pTj+QTy1mTpwpVKiQ9u3bF/i4du3aWrx4cUx/T0hgTIPbWvhRv37OxeTxx+07OjjXEy0jgAACCCCAAAIIIIAAAgh4SCCUkyNOdTu9evXSM888E/U7dfp5SZ8+fWRO9k0pZoO8Zs2aRf0+ztigSVjcvl0qV0766Sd71dQJjObBWJYsp24qZRfHzJmlLVtkbSEZ23uIcm++TGA0Oy7+9ddfqmNlrH755ZdBZLt37w5s/Xns2DFltgL5+++/W0eDW2eDpyrmfPPu3bsHEhhNpm27du2iTE9zCPhPwKsLIq6NxOal0ojGQcM7csvHKj9ib9DnT7eqpE71eJPetfFkYAgggAACCCCAAAIIIIBAnAS8Ol8vVUr65RepgHXYwLZtyafqpBQvJTCeLuxOP5BP3e+oUaPUsWPHEx+ZnRjvuOOOmH4jSWBMg9t64T5w7JNTxbRvvbBPQQABBBBAAAEEEEAAAQQQQCC1QCLtwHjcOvWgfPny1iEF1ikFVjEb4/3888+2F05j8u3Inl06ckS67DJp3jx7l9dcY53UOS35QdiuXcnHRJ+qfPih1KZNcr0pUyRznYeLLxMYzfnkZqvPyy+/PHCU9MllxowZatmyZSA58dJLL9XChQuD6pjrzFHUps5A69zx+++/38NhZugIxEbAqwsisdGJoJfd1irNoKrBF7Z/W1Xfy6V9B4/afta1UTl1b25tE0xBAAEEEEAAAQQQQAABBBBAIJWAV+fr5hmseRZrnsN26iQ98YRUokTy6TokMIb3Fa9Xr96JF73NcVBbt25VOMdChdfbqWuTwHgGxUOHpLPOSl68cKpYz8ytLTgl8zcFAQQQQAABBBBAAAEEEEAAgX8E3DZfd/KFz7nWER+NG/+7iZTZQdLsJBnzknLsiBnLZ5/Zu7/lFsk6zSPwQGz16uSjok9VzIZ+JgHS1Hv1Vemee2J+G9Hs0JcJjDlz5tQh66FP3bp1tWDBgiAvsxVo3759A8mJj1tHZ5jtQU8uixYtknmwZ+o8//zzjpzbHs1A0hYCbhDw6oKIG+xOOYYjB6Q+hYJ/dMV/1XDB+dr4x37bz26sXUJ925wi4dG1N8jAEEAAAQQQQAABBBBAAAEEYiHg1fn6O+9IN91k33kxxct6YT5QUu/KGKmlaeOo/R3BSJsK6zonH8inHsiaNWtUsWLFEx917txZb775ZlhjjUZlty2IROOeotbG2rXS+edHrbnTNmSOpbJ2mqAggAACCCCAAAIIIIAAAgggkCLgtvm6k89LbrIeNE2YMCFw6xmtt2M3btyo4sWLx/7LYPo0xz6b0xKWLLH336OH1L9/2jsrml0aza6L5sFW795Sz56xv48o9ujLBMYiRYpYx8psU7FixaxjZqwdzE4ql1xyib7++utAcuI0K6BmN8aTy2dWhmvz5s0Ddfr166dHH300iuw0hYA/Bby6IOLqaPQtJh223o5PXeo/qjY/NtK3v+y2fdyiciENu8X6FxwFAQQQQAABBBBAAAEEEEAAgVQCXp2vmyTFJk2ST9Ixz2JTkhajHVzTtnWYS8yLkw/kU99MD+vB90svvXTiI/Pitnk+GuvitgWRWN//Gfv7/nupWjXnh7RihVSVl1+dh6YHBBBAAAEEEEAAAQQQQMA7Am6brzv1vGT37t0qXLiwDh48GAhOixYtZE7wjUsxD7ys3SB17rnSjh32IYwdK912W/LDsC5dpNdfP/UQu3aVhg5Nrvfaa9Ldd8flVqLVqS8TGJtYgTbbfppfsh9++MF6efXft1dNQmPp0qWtB57HlSlTJv3xxx/WceHB54WPtb4Qt1lfCNPGG2+8IfNmMgUBBM4s4NUFEVfH9ZWLpD9/tg+xxm26Y9ct+vyH322f1yqVT5Pvjv0ChKv9GBwCCCCAAAIIIIAAAggggIB1Mu1Z+uuvvwJHBu8zR8h6qJhnytZhKho5UrKeMztS/JzAeMQ6ktjsJLB9+/aAXaVKlbRq1SpHHNNq1G0LImmNN6Y/ZwfGmHLTGQIIIIAAAggggAACCCCAwL8CbpuvO5XA+JqV5NfVJP39U9577z21a9cuPl+F7t2lAQOSkw83bZK1Q9+/49i6VdbDnOQ3ea0TiPW//8k6WsM+TvNZ/fqyjidObuOrr6RateJzL1Hq1ZcJjL2trTGffvrpQPKh2V1x6tSpypw5cyBp8cYbb9SkSZMCPzNHRM+fP/+UlI888ogGDhwYqDdr1izrbW8r+5WCAAJnFPDygohrQ/tWc+nXxfbhVWipRzM/pneX/mb7vNx5ufX5ww1ceysMDAEEEEAAAQQQQAABBBBAID4Cfpivm2e25vRb611kHT4sNW6c/Hz24oulF19Mv2uDOEynnXogn1rj/fffV9u2bU98NMB6OP7QQw+lHyyCFty2IBLBLTh3iVlwsBKNZSWcOlayZpWVwSyZvykIIIAAAggggAACCCCAAAII/CPgtvm6U89LatSooW+//TZw1wUKFNDmzZuVJUuW+HwPPvpIuvrq5Idb1qZ61q569nFceaU0c2byZ3nzSg8+mPwQzBST52Z2XPz77+Try5aV1qxJ/s8eLr5MYDS7LFaoUMF6mGk9zbSK2XGxlpVpusI6IsPsyGgSGc0voNll0SQ0nqrUtM4ZN19cU2+rld163nnneTjMDB2B2Aj4YUEkNlJh9DLxJunHj+0XFLtYLxQdouHz7Tsz5suVVcueahpG41RFAAEEEEAAAQQQQAABBBBIBAE/ztczZkx+Ltvceu9v+nRvRtGpB/KpNVq1aqVPPvkk8FFWK3HNPJzPnz9/VMD69u2rF154IeS2zC6gKcU8n6WcJGA9j9ayZc6xmPa/+ca59mkZAQQQQAABBBBAAAEEEEDAkwKJkMC4zJpvmzywlGI2tevfv3/84nXggKxEtOQkxIYNpTlz7GOxctusASfvsGieoZycnJjyXMV8/sEHUuvW8buXKPXsywRGY2MeoD1pnS+T+hct9QOyOnXqaNGiRadkXL9+vcqXLx+41iQ/rlu3LkrcNIOAvwX8uCAS94h9bO2K8I11Tlbqkrek3qjxvvpO/9H2cUbr301r+1ypTOY/UBBAAAEEEEAAAQQQQAABBBD4R8CP83WTwGhKixYkMJ7ui26SFUuWLKmkpKRAlWuvvVaTJ0+O2u/FM888o2effTai9khgPAVbz55Sv34ReYZ00eOPy8o4DakqlRBAAAEEEEAAAQQQQAABBBJHIBESGO+77z4NHTr0RFDN5ncVTz6WOdYhHzEi+bgRk4RoPWMJHBedusyYIXXoIKV6IdT280yZpMGDpXvvjfXIHenPtwmMRqtPnz56/vnnT+zEmCJojo42Z5mfblfF7tZZ4+Y4FfNL2qVLF73++uuO4NMoAn4T8OOCSNxjNLevtQXwSWdhZcmld5t/rUffWxE0PLMDo9mJkYIAAggggAACCCCAAAIIIIBAioBX5+tjxiTfQdGiUpMm9niOHv3vzy6/3JuxdnoHRvNs1LzgnVI+/fRTNWvWLGpY7MAYNcrkhjZsSD72yYndKc1iiPXSvvW2fpQHTXMIIIAAAggggAACCCCAAAJeF/B7AuMBa7fDIkWKaPfu3YFQ1a1bV1988YU3wmadGGwlsCUfJ71pk3TkiKybkRo3lh6yNsOqVMkb9xHCKH2dwGjuf+fOnTIP53799VflyJFDtWvXltl98UzlgQce0N69ewNV7r777sA1FAQQSFvAqwsiad9ZHGsssbLup3cPGsC89st1+7jVQZ9//nB9lTvvrDgOmK4RQAABBBBAAAEEEEAAAQTcJuDV+fqZjol+7rlk5XLlpBtvdJt4aONxMoHR7HBoTpgxJ82YYnZi/Pnnn5UxZevK0IYY1VpuWxCJ6s1Fq7H27aUpU6LV2r/tmHbffTf67dIiAggggAACCCCAAAIIIICA5wXiNV/v3bu3zD8nlyNWkt6xY8dOfJwtW7agOvXr19esWbNCsh83bpxuueWWE3VHjhypjh07hnQtlWIn4PsExthR0hMCCHh1QcTVkVv9oTT51qAhrr5uoa4c82vQ55PvukS1Sudz9S0xOAQQQAABBBBAAAEEEEAAgdgKeHW+fqYExjP9LLa6kffmZALj3LlzrZfxrbfx/ynmuOdevXpFPtgoXBmvBZEoDD12TVjHfqtKFVnbQkSvz7x5pVWrkndooCCAAAIIIIAAAggggAACCCBwkkC85uvmWcWzzz4bUTwaNGigefPmhXRto0aNTtQ1z8i2Wrsa5sqVK6RrqRQ7ARIYY2dNTwj4XsCrCyKuDsymRdLbVwQNcdu1H6vO2OSdYlOXYTfXUIsqhV19SwwOAQQQQAABBBBAAAEEEEAgtgJena+TwBj59+Smm27ShAkTAg2YXRc3btyo4sWLR95gFK6M14JIFIYe2yYmTZKuvz56fU6cKHXoEL32aAkBBBBAAAEEEEAAAQQQQMBXAvGar8cigdGcTGFOqDAnVZjSpUsXDR8+PP7xq1Hj3zG8955Upkz8xxTnEZDAGOcA0D0CfhLw6oKIq2Owc530as2gIR5oN1YXjM8U9HnfNlV1Y+0Srr4lBocAAggggAACCCCAAAIIIBBbAa/O162X4rV/v1S3rrRggd2MHRhP/x3abe3eV7hwYR08eDBQqUWLFpoxY0Zsv3Sn6C1eCyJxv/FIBjBkiHT//ZFcabvm2OBXlPH+buluhwYQQAABBBBAAAEEEEAAAQT8K8B8PQ6xTXmwVcLK7diwIQ4DcF+XCZfAuMo6LmPdunXatWtX4CFeXusIjfPOO081a9ZUnjx53BchRoSAhwS8uiDiauID1pFBL5YMGuLxVoNV4f2COpx0zPaz7s3OV9fG5V19SwwOAQQQQAABBBBAAAEEEEAgtgJena9bL8jLelHeemYnbdsmZcv2rxsJjKf/Dr322mvq2rXriQrvWW/yt2vXLrZfulP0xoJImCEwOzHefXdEx0nvUl7drWF6/Y8OypcvzH6pjgACCCCAAAIIIIAAAgggkFACzNfjEG4zWd+zR6pfX5o7Nw4DcF+XCZHAuHz5cg0ePFgffPCB9u4NPnLVhMX8QlarVs16JnS3br31VmXPnt190WJECLhcwKsLIq5mNVsZ9z5PSjpsH2ajJ1Xnyxratjd5N4WU0rFuKfVqXdnVt8TgEEAAAQQQQAABBBBAAAEEYivg1fn6DTdIJofLemyn5s2lHj0k82J65sxSqVLJn5vnvKNHp9/TtBvrcvvtt1tjTx58yZIlA8c8R6PUsI4h+vbbbwNNFShQQJs3b1aWLFmi0XS62mBBJAK+LVukBx6QpkyRdd5Vmg0cUwZNUTs9oMHaqiJas0Y6//w0L6MCAggggAACCCCAAAIIIIBAAgswX49D8CtVUmDSXru2tGhRHAbgvi59ncB4+PBhPfbYYxpiHblhzjNPOdM89S+fCUnK5+Y/m5+Vsc4WHzdunPU9sb4oFAQQCFnAqwsiId9gvCoOsP7ltXezvfdad+nKta21eqs9KfuaC4to0PUXxWuk9IsAAggggAACCCCAAAIIIOBCAa/O1z/5RGrdOjlR8eSSkst1qp+FGwLTxtGj4V6V/vpOJDAuW7YscNJMSnnkkUfUv3//9A82Ci2wIJIORHOc1BtvyDoLXPruu6CGDhYqqQHbbtQI3amNKn3i5198kXwEOwUBBBBAAAEEEEAAAQQQQACB0wkwX4/Dd6NTJ2nUKOmcc6QdOyRz1EiCF98mMB61njpeddVV+vTTTwMJiuYXLnWi4pl+MU29rFmzWt/mi04AACAASURBVM+DZqhRo0YJ/hXh9hEIXcCrCyKh32Gcag5vIG1dbu+8chvdvOcefbFup+3zy8rn19jOJF/HKVJ0iwACCCCAAAIIIIAAAgi4UsDL8/WbbpLeeSc5iTGEDegi8jdtJyVFdGm6LnIigfG+++7T0KFDT4zrhx9+UMWKFdM1zmhdzIJIFCSPHUvegvSkX4ad3fupQP/HgjqwDiTS1VdHoV+aQAABBBBAAAEEEEAAAQQQ8K0A8/U4hHbWLKlFi+QHXubUhWuuicMg3NWlbxMYu3fvrgEDBpxIXMyRI4euu+46K+bXqHr16oHjU8wx0XusM8XXrVtn7ci5KHBky3fWG6wpyY5nn322Vq9erSJFirgraowGAZcKeHlBxKWkycMaf6201voXWOpSsp7uz95b076zjhJKVcoXzKWPu12mbJkzufqWGBwCCCCAAAIIIIAAAggggEDsBLw8Xzd5Wq+9Jo0YIa1c6UwSo18SGA8cOBB4jrl79+7Al6uutfXeF2YLPpcUFkSiFIhChaTt222NHbznIeV4fUBQB2++KXXuHKV+aQYBBBBAAAEEEEAAAQQQQMCXAszX4xRWa1M+ffyxVLx48jHSRYvGaSDu6NaXCYw///yzLrjgAuvol+SzXxo0aGDtvDlKJUqUSFP97bfflnlT+dChQ4G6naxtO0eYJ6QUBBBIU8DLCyJp3lw8K3xwr7R8vG0ER84pr7YZB+n7zXuCRpYlUwZVKHSWLitfQDfWKqHi+XLGc/T0jQACCCCAAAIIIIAAAgggEGcBv8zXDx6U/vxTOnxYKlMm+SX1+vWTT9xJbylZMr0tnP763r17y/xzcjly5IiOmR31/inZsmULqlPfusFZ5q38EMq4ceN0yy23nKg5cuRIdezYMYQrY1OFBZEoOVsv52vFCltjx62tSrNMHBe0k2i/ftJjwRszRmkgNIMAAggggAACCCCAAAIIIOAHAebrcYriH39IrVpJX38t641UWbv0Se3aSZkSc7MqXyYwPvfcc3rmmWcCOymaN41nz56tLFmyhPyNmz59uvUdsb4kVjE7N/5pPRk91QPEkBukIgIJIuCXBRHXheuzXtKXg2zD2nU8ty469EaaQzWLOVdUKaRerSur4NnZ06xPBQQQQAABBBBAAAEEEEAAAf8J+HG+njFjcgJj8+aS9SjP1cU8p3z22WcjGqN5MXvevHkhXduoUaMTdU3Mt27dqly5coV0bSwqsSASJeWmTaXPP7c3Zn1WaMWskzdmlHVIkV56KUr90gwCCCCAAAIIIIAAAggggIAvBZivxyGsVl5boJjN9czRI3v3Jj/oOvdc6ZJLpLJlJevUYJkHYKGUp58OpZar6/gygbFevXqBI6HNL5k5ErpKlSphB6F9+/aaOnVqoI2ZM2eqqXkwREEAgTMK+HFBxBUhX/SqNOuJoKGUOzhGR5U5pCGenT2z+rSpqtbVrcx9CgIIIIAAAggggAACCCCAQEIJ+HG+nvL8tkULEhjNl3n9+vUqX768jpszt63SpUsXDR8+3FXfcxZEohSOm2+WxttP6lC1aqqS9J1WrbL3cdtt0dmhNEojpxkEEEAAAQQQQAABBBBAAAEXCjBfj0NQUt7MTd31P890AomM4ZakpHCvcF19XyYwFrXOBTdvGJcrV04//fRTROgTJkzQzdbDIPOLOmzYMN15550RtcNFCCSSgB8XRFwRvxWTpanB/xtU6+Br+l3nhDXEZ1pX0u11S4d1DZURQAABBBBAAAEEEEAAAQS8LeDH+fr8+ckxyZdPqlrV2/FJlNGzIBKlSD/8sDRwoL2xQoXUsMJWpfxepPywZUvp44+j1C/NIIAAAggggAACCCCAAAII+FKA+XocwhrqzoqhDM0kPJLAGIpU7Otkz55dR44cUcOGDQPHR0dSFi5cKHNEi/lF7dOnjx5//PFImuEaBBJKwI8LIm4I4FefvadLvuwcNJSWh/pq1fFSYQ9xyA0XsRNj2GpcgAACCCCAAAIIIIAAAgh4V4D5undj56eRsyASpWi++KKsh9X2xjJl0rVXH9Z7U+1HS9WuLS1eHKV+aQYBBBBAAAEEEEAAAQQQQMCXAszX4xBWK58top0WTzfUuXPjcBPR7dKXOzDmz59fu3bt0oUXXqilS5dGJPax9WrqVVddFUhgHDx4sLp27RpRO1yEQCIJsCAS/Whv23NQ9w0coyl6NKjxWw8/pgXHqofdqTlO+rOHG6jg2dnDvpYLEEAAAQQQQAABBBBAAAEEvCfg5fn6ihXJ3mefLZUqFV176wAWrVuX3ObTT0e3bVoLFmBBJErfirffljp1Cmqs+2079PLo/LbPy5b99zsepd5pBgEEEEAAAQQQQAABBBBAwGcCzNd9FlCP3o4vExirWufGrFq1SlmyZNH27duVN2/esMPz6KOP6uWXXw4kME6aNEnt27cPuw0uQCDRBLy8IOLWWN0zbqn+t3KNvsl+T9AQHz58t6Yeqx/R0K+sWkhDb6oZ0bVchAACCCCAAAIIIIAAAggg4C0BL8/XzYk65iSc5s2l6dPP7J6S02WOlH7oobRjdMUV0qefJrfvg5N20r7hONdgQSRKATC/COZs6JPKkLtW6v7hlW2fmsTfPXui1C/NIIAAAggggAACCCCAAAII+FKA+bovw+q5m/JlAuO9996rYcOGBZIPH3nkEf33v/8NKzBbt25VpUqVrIc7ewJtbNmyRQULFgyrDSojkIgCXl4QcWO8fv1zv+q/NFcZjydpbbZblTHDcdsw+xy5USOSWkU0dLM4s+DRRiqeL2dE13MRAggggAACCCCAAAIIIICAdwS8PF8PJ4ExnLomeiQwxvY7zIJIlLy/+Ua6+OKgxqbcN0ftX2sU9PmhQ1LWrFHqm2YQQAABBBBAAAEEEEAAAQR8J8B83Xch9eQN+TKB8fPPP1ezZs0CyYfmn0GDBoV8BLRJXrzCenq5wjqfxlx76aWXauHChZ4MLoNGINYCXl4QibVVKP29OPNHvT5vfaDqN9nuVv4Me22XDT/aUi8cvSmUpk5Z556GZfVYi4oRX8+FCCCAAAIIIIAAAggggAAC3hDw8nw9nKTEcOqayJHAGNvvLwsiUfL+9VepRImgxr647x1d9tr1QZ9b7+arcOEo9U0zCCCAAAIIIIAAAggggAACvhNgvu67kHryhnyZwGgi0bBhQy1YsCAQFPPL1rhx48BujE2bNlWmTJmCgvWr9eBnzJgx6t+/v/bu3avjx48HrpszZ44aNGjgyeAyaARiLeDlBZFYW4XSX6shC7Vyc3LS4sysj6liRusBdaoyJameHjlybyhNnbJO1aJ59FG3ehFfz4UIIIAAAggggAACCCCAAALeEPDyfD2cpMRw6prIkcAY2+8vCyJR8j54UMqRI6ixH+8ZrAtevz/oc+s9fZlj1SkIIIAAAggggAACCCCAAAIInEqA+TrfCzcI+DaBcePGjYHdE7dv334iGdGAZ8uWTRdccIEKFChgHZ2RVfv27dO6desCx0SbkpK4aP7u0aOH+vXr54Y4MQYEPCHg5QURtwEfOpqkKr0+1ZGk5GOjx2fpo7qZVtmGOT+pmm478njEQ8+aKaNWPttcWTNnjLgNLkQAAQQQQAABBBBAAAEEEHC/gJfn6+EkJYZT10SNBMbYfndZEImid9680p49tga3dfqPCo/sE9TJ7NmyXu6PYt80hQACCCCAAAIIIIAAAggg4CsB5uu+Cqdnb8a3CYwmIt9//73atWsXSFA0v3AmKdGU1L985r+n/tz854zW085HH31UL7zwgmcDy8ARiIeAlxdE4uF1pj437PxbjfrPO1FlcJZXdXWmRbZLVh0rqZaH0/e/U3O7N1Tp/LncdvuMBwEEEEAAAQQQQAABBBBAIIoCXp6vh5OUGE5dw0sCYxS/ZCE0xYJICEihVjn/fGntWlvtv66/Q2dNHBHUwqRJ0nXXhdow9RBAAAEEEEAAAQQQQAABBBJNgPl6okXcnffr6wRGQ75//3717dtXb7zxhnbu3JlmFJo0aaKnn35al112WZp1qYAAAnYBLy+IuC2WP27bqxaDFp4Y1tOZx6hT5pm2YW47fo7qHHotXUOf+eBlqljo7HS1wcUIIIAAAggggAACCCCAAALuFvDyfD2cpMRw6pqIkcAY2+8tCyJR9DbPrr/4wtbg0StbK8v0aUGdvGY9Orr33ij2TVMIIIAAAggggAACCCCAAAK+EmC+7qtwevZmfJ/AmBKZQ4cOaeHChfrqq6+sl1PXateuXTKf5bWO2zjvvPNUs2ZNNWjQQGXKlPFsMBk4AvEW8PKCSLztTu7/5B0Y7830oXpksV6ZT1WOHM+k8w+NlrVvbMTDZwfGiOm4EAEEEEAAAQQQQAABBBDwjICX5+vhJCWGU9cEjwTG2H6FWRCJord16pCmTrU3WLu2cq5YrAMH7B8/+6ysF/aj2DdNIYAAAggggAACCCCAAAII+EqA+bqvwunZm0mYBEbPRoiBI+AhAS8viLiN+dDRJFXp9amOJB0PDO3aTPP0UpY3goZ54cHh2q2zIhp+1kwZtfLZ5sqaOfIEyIg65iIEEEAAAQQQQAABBBBAAIGYCnh5vh5OUmI4dU0ASGCM6ddQLIhE0dtsqfj66/YGS5VSyWMb9Msv9o+7dZNeeSWKfdMUAggggAACCCCAAAIIIICArwSYr/sqnJ69GRIYPRs6Bo6A+wS8vCDiPk2p1ZCFWrl5b2BojTMu08is/YOG2eTQS1p/vGhEw69aNI8+6lYvomu5CAEEEEAAAQQQQAABBBBAwDsCXp6vh5OUGE5dEz0SGGP7HWZBJIrezzwjma0VU5ecOVWz4t9atsz+8fXXS++8E8W+aQoBBBBAAAEEEEAAAQQQQMBXAszXfRVOz94MCYyeDR0DR8B9Al5eEHGfpvTizB/1+rz1gaFVy7Be07I9FTTM6w8/qcXHKkU0/HsaltVjLSpGdC0XIYAAAggggAACCCCAAAIIeEfAy/P1cJISw6lrokcCY2y/wyyIRNHb7L5odmE8qVzdeJ+mzclt+/Tyy6XPPoti3zSFAAIIIIAAAggggAACCCDgKwHm674Kp2dvxhcJjIsWLdLOnTsDQciVK5eaNGkSUUB+++036w3Vf19RbdCggfLkyRNRW1yEQCIKeHlBxI3x+vXP/ar/0lwdt06RLqod+jL7A0HDvO/w/frkWJ2wh58hg7Tg0UYqni9n2NdyAQIIIIAAAggggAACCCCAgLcEvDxfDycpMZy6JoIkMMb2e8yCSBS9p0yR2rcPavDBq9Zr8LQyts8vvFD69tso9k1TCCCAAAIIIIAAAggggAACvhJgvu6rcHr2ZjyfwLhp0yZVqFBBR44cCQRh7NixuvHGGyMKyMGDB1W7dm2tXLkycH23bt00aNCgiNriIgQSUcDLCyJujdc945ZqxsptyqbDWpP99qBh9jpym0YnNQ97+FdWLaShN9UM+zouQAABBBBAAAEEEEAAAQQQ8J6Al+frKUmJ9etLo0ef2b5UKcm8sBdKXdPSrbdaL/ctSL4mKcl7cfXaiFkQiWLEvvhCuuyyoAYHXbdID02+xPZ5sWLSr79GsW+aQgABBBBAAAEEEEAAAQQQ8JUA83VfhdOzN+P5BMbOnTvr7bffth40ZtBtt92mkSNHpisYP/30k6pXr65Dhw4pW7ZsWrdunYoWLZquNrkYgUQR8PKCiFtjtG3PQTUbOF97Dx7V99k666wMB2xDHXL0Gr189Lqwhn929sz67OEGKnh29rCuozICCCCAAAIIIIAAAggggIA3Bbw8X09JYAxF3pxgYIpJSAy1mGtIYAxVK331WBBJn5/tausZtvVWf1CDk2/8QB0mXG373HrErQPW46Rwfi+iOFKaQgABBBBAAAEEEEAAAQQQcLkA83WXByhBhufpBMa///5bBQsW1P79+5UjRw6tX79ehQoVSnfoHnjgAQ0ZMiSQFNm7d2/17Nkz3W3SAAKJIODlBRE3x+ej77ao2zvfam7Wh1Q643bbUCccbaT/HL0zrOEPueEita5eJKxrqIwAAggggAACCCCAAAIIIOBdAS/P11MnMKYkKJ4uEqkTtNKqa9ow9UlgjN33mgWRKFrv2SPlzRvU4Pwbh6vhhC5Bn+/bJ+XOHcX+aQoBBBBAAAEEEEAAAQQQQMA3AszXYxzKY8ekjRulnTulrFllJb5JhQvHeBDu687TCYwTJ04MHBdtfpnuu+8+vfLKK1ER3r59u4oXL24dHZOkCy644MSR0lFpnEYQ8LGAlxdE3B6WUV9uUOVPr9PFGa037FOVz5Jq6s4jj4Q8/GdaV9LtdUuHXJ+KCCCAAAIIIIAAAggggAAC3hfw8nzdJDA6XdiB0Wnh5PZZEImis8m8zW6drHH4sK3Rldc/r6oTnwzqaMMGyRyxTkEAAQQQQAABBBBAAAEEEEDgZAHm6zH6TqxcKWsXPenTT6W9e+2dWjlqus46efOxx6Rzz43RgNzVjacTGLt27aqhQ4cGHn7Nnj1bDRs2jJquaWvBggWBtnfs2KF8+fJFrW0aQsCvAl5eEPFCTLYOb6fCWz+3DXXZsXJqe/i5NIdvjo3u06YqOy+mKUUFBBBAAAEEEEAAAQQQQMB/Al6erz/7bGzi0atXbPpJ5F5YEIly9EuUkH791dbo5jZdVez9IUEd/e9/0v/9X5T7pzkEEEAAAQQQQAABBBBAAAFfCDBfj0EYrdw2WacBy+y+eLpjQ8wbtiZ58aOPpNq1YzAod3Xh6QTGOnXqaMmSJcqVK5d2796tTJkyRU33hRde0BNPPBFIYJwxY4aaNWsWtbZpCAG/Cnh5QcQTMfn4Iembkbah/nKsgOofHnza4Zt/x11RpZB6ta6sgmdbb+ZTEEAAAQQQQAABBBBAAAEEEk6A+XrChdyVN8yCSJTDYjISly61Nbqn+XXK++mkoI6mT7eeD10R5f5pDgEEEEAAAQQQQAABBBBAwBcCzNcdDuN77yXvrmiKSeAw5eQkRvN5ymd58kgrVsg6OtjhgbmreU8nMBYrVkxbtmxRhQoV9MMPP0RVdvLkybr++usDCYxvvPGGOnfuHNX2aQwBPwqwIOJwVOf2lea/aOvkoLKp8uFRSjpmHR10UrmrfhndXKekiufL6fDAaB4BBBBAAAEEEEAAAQQQQMDNAszX3RydxBkbCyJRjnXLlpLJTExVDl/SQNm+mhfU0Zgx0i23RLl/mkMAAQQQQAABBBBAAAEEEPCFAPN1B8N46JBkTlCwTv4NJC+aJMWCBaXLL09OUDxyRFbCmzRnjnTw4L8Jjm3aSCbxMYGKpxMYc+fOrQMHDqh+/fqaO3duVMM2b948NW7cOJDA+OKLL6p79+5RbZ/GEPCjAAsiDkd1yQjrwXTw/xZ9cMUSPfj+uqDOv+rZWIXz5HB4UDSPAAIIIIAAAggggAACCCDgdgHm626PUGKMjwWRKMe5Y0dp1Chbo8crXqCMP64O6mjAAOkh62APCgIIIIAAAggggAACCCCAAAInCzBfd/A7MW6cdOut/yYmWicB68knpaxZ7Z1u2yaZef6nnyZ/njmztGmTVLiwg4NzV9OeTmDMmTOnDlnZqpdeeqkWLlwYVdnZs2eradOmgQRGc5x0jx49oto+jSHgRwEWRByO6uoPpcnWv9xOKkuvmat2E7cGff7hfXVVvXhehwdF8wgggAACCCCAAAIIIIAAAm4XYL7u9gglxvhYEIlynB9/XNab9/ZG8+XTOcf+0O7d9o//8x+pT58o909zCCCAAAIIIIAAAggggAACvhBgvu5gGE3yokliNLsv3nuvNGTI6Ts7fFi6+GLp+++T648eLd18s4ODc1fTnk5gLGFts/nbb785coT0pEmTdMMNN3CEtLu+r4zG5QIsiDgcoE2LpLevCOrk17bTdNmEv4I+H3Hr/6lpJWv7YQoCCCCAAAIIIIAAAggggEBCCzBfT+jwu+bmWRCJcijMtoqPPBLUaKVyh/XDuiy2z7t0kYYPj3L/NIcAAggggAACCCCAAAIIIOALAebrDoaxcuXkI6IzZZK2WptS5c9/5s4mTEhOWjQJjA88IJm5f4IUTycw1qhRQ8uXL1e2bNm0a9cuZc+ePWphe/rpp9W7d+9AAuP777+vq666Kmpt0xACfhVgQcThyO60jol+tWZQJ/vbjlGlCdYWwieVPm2q6KbaJR0eFM0jgAACCCCAAAIIIIAAAgi4XYD5utsjlBjjY0EkynEeP/6UOzFcVXOzPlpaxNZZmzbS1KlR7p/mEEAAAQQQQAABBBBAAAEEfCHAfN3BMJqERSufTVWqSN99l3ZHJsmxaNHkBEZr073A7o0JUjydwNjROv97tLVlpvllmj59upo3bx61sNWpU0dLliwJtL1+/XqVKlUqam3TEAJ+FWBBxOHIHrDO/3kxOCHxeKtBuuDDQjp45JhtAA9eXl4PXn6+w4OieQQQQAABBBBAAAEEEEAAAbcLMF93e4QSY3wsiEQ5zp99JjVrFtToA/W/1SsLLrR9ftll0oIFUe6f5hBAAAEEEEAAAQQQQAABBHwhwHzdwTBmsU5IOGblcTRpIs2alXZHSUmSucYkMLZsKU2blvY1Pqnh6QTG8dZbprfccksgyfDKK6/URx99FJWwfPPNN6pVq1ag3dKlS2vdOmvXMwoCCKQpwIJImkTpq3D8uNT7PCnpsL2dRk/qsq9r6tc/D9g+v7F2CfVtUzV9fXI1AggggAACCCCAAAIIIICA5wWYr3s+hL64ARZEohzGFSuk6tWDGn252afqPsue2HjBBdLq1VHun+YQQAABBBBAAAEEEEAAAQR8IcB83cEwZsyYnIxoNuSzNuYLqURyTUgNu7uSpxMYd+zYoeLFi+vw4cOBZMOZM2eqadOm6RJPsrJZGzdurIULFwbavP/++zVw4MB0tcnFCCSKAAsiMYj0gMrS3t/sHdXqonab2mjpJmvr4VTl8gsK6s3b/i8Gg6ILBBBAAAEEEEAAAQQQQAABNwswX3dzdBJnbCyIRDnW27ZJhQsHNTqx5Rjd8Mktts8LFJB+/z3K/dMcAggggAACCCCAAAIIIICALwSYrzsYxkiSESO5xsFbiFXTnk5gNEhdu3bV0KFDA1558+a1jsJYYB0dbp0dHmG54447NHLkyMDV2bJl09q1a1WsWLEIW+MyBBJLgAWRGMR7eANp63J7R5Xb6J5D3TRjpfXgOlWpXiyPPuxaLwaDogsEEEAAAQQQQAABBBBAAAE3CzBfd3N0EmdsLIhEOdZHj0pZs0rmxI5UZW7L/mr8ySO2z8zax5EjkvmbggACCCCAAAIIIIAAAggggEBqAebrDn4fIklGjOQaB28hVk17PoFxy5Ytqlixov7++2/rWc1x5c6dO7BjYufOncMy3Lx5s26//XbNmTMn0I75Be3WrZsGDRoUVjtURiCRBVgQiUH0x18rrZ1l76hkPfXK96JGf7XJ9nmRPNm1qGeTGAyKLhBAAAEEEEAAAQQQQAABBNwswHzdzdFJnLGxIOJArM3Wijt32hr+vsWjqjbzv0GdmWrnnuvAGGgSAQQQQAABBBBAAAEEEEDA0wLM1x0MXyTJiJFc4+AtxKppzycwGqgPP/xQbdu2DZilJB+WK1dOd911V+BIabMjY+pfuBTcP//8U4sXL9b48eM1derUwFHUKdfXqlVL8+fPt15itd5ipSCAQEgCLIiExJS+Sh/cKy0fb28j//l6tdIE9Z/1k+3zLJky6KfeV5zyf//SNwiuRgABBBBAAAEEEEAAAQQQ8JIA83UvRcu/Y2VBxIHYVq4srV5ta/jXxrepxJxRQZ39+KNUoYIDY6BJBBBAAAEEEEAAAQQQQAABTwswX3cwfCnJiNmzSwULhtbRxo2ykjykUK8xddevD61tF9fyRQKj8R08eLAeeeSRQAKi+ceUlF+ynDlzqkiRIoEjps2x0Hv27JFJXjS7N6aUlMRF83cF60nOvHnzrO9OiF8eFweYoSEQSwEWRGKg/Vkv6cuTdobNcY4mN16oHlNWBA1g2VNNlS8XidgxiAxdIIAAAggggAACCCCAAAKuFWC+7trQJNTAWBBxINyNG0tz59oa3lWnhfItnhHU2RdfSHXrOjAGmkQAAQQQQAABBBBAAAEEEPC0APN1B8OXksBouvgnly3N3kxCYkoJ5RpTPykpzWbdXsE3CYwGesaMGbr55pu1a9euE8mLKcmM5ucpv3SpP0v5POWzNm3aaNSoUTIPdikIIBCeAAsi4XlFVPur16RP/xN06bwOq3X76OVBn8988DJVLHR2RF1xEQIIIIAAAggggAACCCCAgD8EmK/7I45evwsWRByI4PXXS5Mm2Ro+WLmGcqxaGtTZ++9L11zjwBhoEgEEEEAAAQQQQAABBBBAwNMCzNcdDF9KAmMoiYiRDoMExkjlnL3u999/V//+/TV8+HDt27fvRGenOkI6dSJj7dq11bNnT1111VXODpDWEfCxAAsiMQjuisnS1DuDOvrxxiVqMXJd0OdjO9fSZeULxGBgdIEAAggggAACCCCAAAIIIOBWAebrbo1MYo2LBREH4v3AA9Irr9gaPlakqDJt+S2osxEjpDvucGAMNIkAAggggAACCCCAAAIIIOBpAebrDoavYcPk46CdLiedzuB0d06076sdGFMD7d27V59//nngKOglS5bIJDb+8ccfOnjwoM455xyde+65Klu2rBo0aKAmTZrowgsvdMKXNhFIKAEWRGIQ7vXWsUBjg1+X//Pmz1Xjzd+DBvDytdXVrmaxGAyMLhBAAAEEEEAAAQQQQAABBNwqwHzdrZFJrHGxIOJAvPv0kZ580tbw8SxZlCXpkJKO2RdIXnhBevxxB8ZAkwgggAACCCCAAAIIIIAAAp4WYL7u6fD5ZvC+TWD0TYS4EQQ8JMCCSAyCtW2lNKxugFU6WAAAIABJREFUUEdJN76n8m8f1rHj9h891qKi7mlYNgYDowsEEEAAAQQQQAABBBBAAAG3CjBfd2tkEmtcLIg4EO8335TuDD6po0KBP/XTjnNsHT7yiKyTixwYA00igAACCCCAAAIIIIAAAgh4WoD5uqfD55vBk8Dom1ByIwjEX4AFkRjE4C9rl8X+5YM7umaYan1SQL/vO2T7Wae6pfV060oxGBhdIIAAAggggAACCCCAAAIIuFWA+bpbI5NY42JBxIF4T5smXX11UMOty/+oj9dWsH1+223SqFEOjIEmEUAAAQQQQAABBBBAAAEEPC3AfN3T4fPN4Elg9E0ouREE4i/AgkgMYnAsSXruXKujk7ZabPqcWi6toVVb9toG0apaYb16Y40YDIwuEEAAAQQQQAABBBBAAAEE3CrAfN2tkUmscbEg4kC8v/5aqlMnqOEHLpyvV5bXt31+5ZXSJ584MAaaRAABBBBAAAEEEEAAAQQQ8LQA83VPh883gyeB0Teh5EYQiL8ACyIxisF/rSOh9++0d3ZpN3XcfJXmrtlh+7xW6XyafNclMRoY3SCAAAIIIIAAAggggAACCLhRgPm6G6OSeGNiQcSBmG/YIJUpE9Twy3XeVffF7e3PiGpJJt+RggACCCCAAAIIIIAAAggggEBqAebrfB/cIEACoxuiwBgQ8IkACyIxCuRQKyHx99X2zqpdr8eO3adJ3/xq+7x0/lya271hjAZGNwgggAACCCCAAAIIIIAAAm4UYL7uxqgk3phYEHEg5n//LeXOHdTwxHqv6oYv7rN9bvIc1693YAw0iQACCCCAAAIIIIAAAggg4GkB5usOhq9t2+TGa1inZj75pIMdeb9pEhi9H0PuAAHXCLAgEqNQjG4tbVhg76xsY71csJ+GzFln+zx3tsxa+WzzGA2MbhBAAAEEEEAAAQQQQAABBNwowHzdjVFJvDGxIOJQzE0Co0lkTFXmXva0Gi981vbZ2WdLe/Y4NAaaRQABBBBAAAEEEEAAAQQQ8KwA83UHQ5cxo5Qhg9TcytmYPv3MHT38cPLPL7hAuvNOBwflzqZJYHRnXBgVAp4UYEEkRmF7r7O08j17Z4Wqakz1cXr6w1VBg1j9XHPlzJo5RoOjGwQQQAABBBBAAAEEEEAAAbcJMF93W0QSczwsiDgU97JlpZ9/tjX+/aV3qdqiYUEdHjwoZcvm0DhoFgEEEEAAAQQQQAABBBBAwJMCzNcdDFs4CYzh1HVwyPFqmgTGeMnTLwI+FGBBJEZBnfG49PXr9s5yF9LMFvN097hlQYOYZx0hXco6SpqCAAIIIIAAAggggAACCCCQmALM1xMz7m67axZEHIrIJZdIixfbGv/1/9qoxDdTgzrcvFkqUsShcdAsAggggAACCCCAAAIIIICAJwWYrzsYtnCSEsOp6+CQ49U0CYzxkqdfBHwowIJIjIK68GVp9nP2zjJm1tJbf1K7YfYH1qbS5LsuUa3S+WI0OLpBAAEEEEAAAQQQQAABBBBwmwDzdbdFJDHHw4KIQ3G/5hrpww9tje+qdKnyrf4yqMPvvpOqVXNoHDSLAAIIIIAAAggggAACCCDgSQHm6w6GLZykxHDqOjjkeDVNAmO85OkXAR8KsCASo6AuGytN6xrU2eY7V6nuEOtJ9EnltRtrqGW1wjEaHN0ggAACCCCAAAIIIIAAAgi4TYD5utsikpjjYUHEobh36SKNGGFr/GDxcsrx69qgDmfPlho3dmgcNIsAAggggAACCCCAAAIIIOBJAebrDoYtnKTEcOo6OOR4NU0CY7zk6RcBHwqwIBKjoK6ZKb3TIaizQ10WqcIrG4M+79W6kjrWLR2jwdENAggggAACCCCAAAIIIICA2wSYr7stIok5HhZEHIr7U09JvXvbGj+W+yxl+mtvUIcTJ0odgh8pOTQwmkUAAQQQQAABBBBAAAEEEPCCAPN1B6MUTlJiOHUdHHK8miaBMV7y9IuADwVYEIlRUDcvtd6sP8Xr8rd9rGqj92vvwaO2gdzTsKwea1ExRoOjGwQQQAABBBBAAAEEEEAAAbcJMF93W0QSczwsiDgU9yFDpPvvD2o8h/broHLYPn/1Vem++xwaB80igAACCCCAAAIIIIAAAgh4UoD5uoNhCycpMZy6Dg45Xk2TwBgvefpFwIcCLIjEKKi7f5EGVQ3urP1IXT4rv9b9/pftZ+1qFNPL11WP0eDoBgEEEEAAAQQQQAABBBBAwG0CzNfdFpHEHA8LIg7FffLkU26rWDH7Rq05WNLW6TPPSL16OTQOmkUAAQQQQAABBBBAAAEEEPCkAPN1B8MWTlJiOHUdHHK8miaBMV7y9IuADwVYEIlRUI8clPoUDO7siv/qhu+q66uf/7D9rP75BTSmU60YDY5uEEAAAQQQQAABBBBAAAEE3CbAfN1tEUnM8bAg4lDc582TGjUKarx1wSX6ePvFts+7dpXMho0UBBBAAAEEEEAAAQQQQAABBFIEmK87+F0IJykxnLoODjleTZPAGC95+kXAhwIsiMQwqC8Ulw7ttXd4WXc9sKOVPly+xfZ5xUJnaeaD9WM4OLpCAAEEEEAAAQQQQAABBBBwkwDzdTdFI3HHwoKIQ7H/4QepUqWgxh8s+5EGr29l+7xlS2nKFClbNofGQrMIIIAAAggggAACCCCAAAKeE2C+7mDIwklKDKeug0OOV9MkMMZLnn4R8KEACyIxDOorF0l//mzvsMat6pPpHo1YuMH2+bm5smrpU01jODi6QgABBBBAAAEEEEAAAQQQcJMA83U3RSNxx8KCiEOx/8M6iSN//qDGH8v/lv67s1PQ51mySFWrSs2aSV26SKVLOzQumkUAAQQQQAABBBBAAAEEEPCEAPN1B8OUkpRY39pwavToM3dUqpSUIYMUSt2TWypRwsGbiE3TJDDGxpleEEgIARZEYhjmt5pLvy62d1jhSr1RtLf6Tv8xaCBr+1yhLJkyxnCAdIUAAggggAACCCCAAAIIIOAWAebrbolEYo+DBRGH4n/sWPKWikeP2jroqb7qp55n7NSsi7RrJw0eLBUp4tD4aBYBBBBAAAEEEEAAAQQQQMDVAszXHQxPSgJjKF0cP55cy0zWwymm/knPBMK53C11SWB0SyQYBwI+EGBBJIZBnHiT9OPH9g6L/p8++L8xenDS8qCBLO7ZRIXyZI/hAOkKAQQQQAABBBBAAAEEEEDALQLM190SicQeBwsiDsbfZB9u3WrrYKAe1MMaGFKnefNKw4ZJHTqEVJ1KCCCAAAIIIIAAAggggAACPhJgvu5gMFMnMKYkKJ6uu9SJi2nVTd2GuS4pycGbiE3TJDDGxpleEEgIARZEYhjmjx+Svhlp7zBvSS1qNUc3vvl10ECmda2rasWsp9EUBBBAAAEEEEAAAQQQQACBhBNgvp5wIXflDbMg4lxYdhS7SAU2219onaAbdJMmhNXpK69I3bqFdQmVEUAAAQQQQAABBBBAAAEEPC7AfN3BAJoERqcLCYxOC9M+Agh4TYAFkRhGbO4L0vx+9g6z5NS6O3/S5QMWBA3kzVv/T5dXKhjDAdIVAggggAACCCCAAAIIIICAWwSYr7slEok9DhZEnIn/pElS3uubq7lm2Tr4XE3UVJ+H3enEiezEGDYaFyCAAAIIIIAAAggggAACHhZgvu5g8J591sHGUzXdq1ds+nGwF3ZgdBCXphFINAEWRGIY8SUjpOndgzrc8+BGVe+3KOjzvm2q6sbaJWI4QLpCAAEEEEAAAQQQQAABBBBwiwDzdbdEIrHHwYJI9OO/ebNUpYo0ePetulVjbR2sUFVV14qwOzXHSa9aJZlTqSkIIIAAAggggAACCCCAAAL+F2C+7v8Ye+EOSWD0QpQYIwIeEWBBJIaBWv2hNPnWoA6P379cFQb8qMNHj9l+9tDl5+uBy8vHcIB0hQACCCCAAAIIIIAAAggg4BYB5utuiURij4MFkejHv317acoU6SV1t/68bOtgu85TIW2PqFPT7rvvRnQpFyGAAAIIIIAAAggggAACCHhMgPm6xwLm0+GSwOjTwHJbCMRDgAWRGKpvsnZZfPuK4A47f6Z6E/7Sb7sO2H52k7X7Yh9rF0YKAggggAACCCCAAAIIIIBA4gkwX0+8mLvxjlkQiW5UNmyQypaVjh+Xlbz4kvWnh62DJGVUVh3WMWUKu+MMGaT166XSpcO+lAsQQAABBBBAAAEEEEAAAQQ8JsB83WMB8+lwSWD0aWC5LQTiIcCCSAzVd66TXq0Z3OH1E9R2Tl4t+2W37WdNKxXUiFv/L4YDpCsEEEAAAQQQQAABBBBAAAG3CDBfd0skEnscLIhEN/49e0r9+iW3eatGW39uD+rgPGsHxh3WToyRlMcfl154IZIruQYBBBBAAAEEEEAAAQQQQMBLAszXvRQt/46VBEb/xpY7S0CB/fv3a8GCBfr2228D/yxbtkw///yz9Sb2cXXo0EETJ050VIUFEUd57Y0f3GM9pS4R3GGrQbrrh6r6dJX9iKALi+fVB/fVjeEA6QoBBBBAAAEEEEAAAQQQQMAtAszX3RKJxB4HCyLRjX9N671W69FfoDTXTOtP8EkdVfS9VqlKRB2b9r/5JqJLuQgBBBBAAAEEEEAAAQQQQMBDAszXPRQsHw+VBEYfB5dbSzyBefPmqVGjRqe8cRIYffZ9MOcD9bbeoE86bL+xRk/oqV1XauziTbbPi+bNoS8fb+wzBG4HAQQQQAABBBBAAAEEEEAgFAESGENRoo7TAiyIRE/40CHprLOkI0eS27xIy6w/wSd1NNHnmqMmEXWcNau0b59k/qYggAACCCCAAAIIIIAAAgj4V4D5un9j66U7I4HRS9FirAikIWASGNu2bavq1avroosuCvwzYMAALV++nB0Y/fjtGVBZ2vub/c5qddGQbF308mc/2T7Pmimj1vRuodT/58OPJNwTAggggAACCCCAAAIIIIBAsAAJjHwr3CDAgkj0orB2rXT++f+2V0SbrT/Fgjq4QRM0UTdE3PFP1uOl8uUjvpwLEUAAAQQQQAABBBBAAAEEPCDAfN0DQUqAIZLAmABB5hYTRyApKUmZMmWy3XDDhg01f/58Ehj9+DUY3kDautx+Z5Wu0cRSz+vxqd8H3fG3TzXVObl4bd6PXwXuCQEEEEAAAQQQQAABBBA4kwAJjHw/3CDAgkj0ovC99dinWrV/28uiw9afbEEdPKiBGqwHI+54xQqpatWIL+dCBBBAAAEEEEAAAQQQQAABDwgwX/dAkBJgiCQwJkCQucXEFiCB0cfxH3+ttHaW/QaL1NTcuqPVcaz1hPmkMuuh+jq/oHW+EAUBBBBAAAEEEEAAAQQQQCChBEhgTKhwu/ZmWRCJXmhO3oHRtPyH8ll/dtk66aueekJ9I+6YHRgjpuNCBBBAAAEEEEAAAQQQQMAzAszXPRMqXw+UBEZfh5ebQ0AigdGn34JdG6V3rCOAfl8ddIPHMmbRqqNFtfBYNU1Iaqzfjp8XqDOuc23VK5/fpyDcFgIIIIAAAggggAACCCCAwOkESGDku+EGARZEoheFQ4eks6x3VI8c+bfNH1TR+rPG1slb6qQ79FZEHWe1DvHYt08yf1MQQAABBBBAAAEEEEAAAQT8K8B83b+x9dKdkcDoomjts54ILV++XEuXLtWyZcsCf69Zs0bmWGBTSpYsqY0bN8Z0xKbvOXPmaOrUqfrqq6+0bds27dq1S/ny5VOhQoV0/vnnq0GDBoF/KleuHNOxxaqzWMRl8+bNGjdunKZNmxaI8c6dO5U/f36VKlVKV111lW6++WYVLVo0olsmgTEiNvdetHeLNOMx6YePrDEeT3Ocx45n0IxjF+vZI7fp8esaqm2NYmleQwUEEEAAAQQQQAABBBBAAAF/CZDA6K94evVuWBCJbuRq1pT1DPnfNuervvVnoa2Tj9RKV8k8Qwq/mPa/+Sb867gCAQQQQAABBBBAAAEEEEDAWwLM170VL7+OlgRGl0S2QoUKWmud/XH8+OkTkmKdwLho0SLde++9+u6770JSOmK98ps5c+aQ6nqlUiziMmzYMHXv3l1///33aVly586t/v3766677gqbjgTGsMnce8HKKdLHD0kH94Q9xj3Hc2pJ5afU9Lp7w76WCxBAAAEEEEAAAQQQQAABBLwtQAKjt+Pnl9GzIBLdSPbsKfXr92+bk3Wt9ec9WydLdLFqa0lEHT/+uPTCCxFdykUIIIAAAggggAACCCCAAAIeEmC+7qFg+XioJDC6JLip/wfhdEOKZQLj8OHDdc8999gSKnPmzKly5coFdgY8cOCANmzYENiRMaX4MYHR6bg899xz6tWrly3kxtjstmh2ZVy3bp3tZ88//7yefPLJsL61JDCGxeXeyouHSTOtnRfTW674r1Q7/ETY9HbL9QgggAACCCCAAAIIIIAAAvETIIExfvb0/K8ACyLR/TZYj2ZVtqx1Psc/78O/qvusP0NtnWxUSZXWxrA7zpBBWr9eKl067Eu5AAEEEEAAAQQQQAABBBBAwGMCzNc9FjCfDpcERpcENuV/EHLlyqXq1aurRo0aqmmd0zFp0iTNnDkzMMpYJTCOGDEisNNfym6QFStWVJ8+fXTllVcqe/bsNrHffvtNH3/8sd566y0tXrxYmTJlcolodIbhZFzMcdFXX331iYFWqlRJY8aMCcQ9pZhjxG+99VatXr36xGcffvhh4FjpUAsJjKFKubie2XnxvU7RG2D7kVKVdtFrj5YQQAABBBBAAAEEEEAAAQRcLUACo6vDkzCDY0Ek+qFu316aYj02MuUpPWf9sb8ofUDZlVP7rZ9aGYlhFNPuu++GcQFVEUAAAQQQQAABBBBAAAEEPCvAfN2zofPVwElgdEk4x48fH0haNEcWZ8yY8cSobr/9do0ePTrw32ORwPjjjz/qoosu0sGDBwN9tmrVSu+9956yZcsWE6nDhw8HdnfMkydPxP39/vvvOu+88yK+PvWFTsXF7FZpEhZTdlgsVqxY4KjufPnyBY37zz//VLVq1QI7MppSvnz5QEJjqMd1k8AYla9C/BrZu0UaWieiY6NPO+js1u/XvV9LZxeO333RMwIIIIAAAggggAACCCCAQMwESGCMGTUdnUGABZHofz3M48IqVaTdu6W7NMz6c09QJ2dpr/7SWSF3njevtGqVVKRIyJdQEQEEEEAAAQQQQAABBBBAwMMCzNc9HDwfDZ0ERpcHM9YJjPXq1dOXX34ZUDn//PMDSXUn77roFJlJXmzXrp22bt2qzz77TOecc07YXT311FMyx1/PnTtXlStXDvv6UC9Ib1zGjh0b2FkxpUyePFnXXnvtabs3P+/QocOJn5vrb7755pCGSwJjSEzurTTpFumHadEfXyVr98/rxkS/XVpEAAEEEEAAAQQQQAABBBBwnQAJjK4LSUIOiAURZ8JuHeCj66+XrtH71p+2QZ2U01qtV7mQO584UdZzyJCrUxEBBBBAAAEEEEAAAQQQQMDjAszXPR5AnwyfBEaXBzK9iXLh3J45AvqSSy45cclHH30U2IExVqVNmzb64IMPAt2ZXSBNEuO5554bcvc9e/ZUv379AvXNDozmfkqXLh3y9eFUTG9cWrduHTh625Qi1uvMmzZtOuOOikePHg3swLlli7Ubn1XMEdLmKOlQCgmMoSi5tM6ujdLgC63BHXdggNbRQQ8sl84p5UDbNIkAAggggAACCCCAAAIIIOAmARIY3RSNxB0LCyLOxX7IEGni/V/qS9UL6uRS69OvdGlInb/yitStW0hVqYQAAggggAACCCCAAAIIIOATAebrPgmkx2+DBEaXBzC9iXLh3F7qvkqUKKENGzbYjrMOp61I6k6YMCGwK2FSUlLgcnNs8uzZs5U/f/40m+vRo4deeumlE/Xatm2ridbrwlmyZEnz2kgqpCcu5ohss7vkoUOHAl136tRJb731VprDMPXefvvtQD2zK+auXbtC2h2TBMY0ad1b4fNnpC8GOje+eg9Jl1t9UBBAAAEEEEAAAQQQQAABBHwtQAKjr8PrmZtjQcTZUH0yeJ1aPlg+qJM2mqoP1OaMnZtjo4cNY+dFZyNE6wgggAACCCCAAAIIIICAOwWYr7szLok2KhIYXR7x9CTKhXtrhQoV0vbt2wOX3XPPPRo6dGi4TaS7/jvvvKNbbrnlRBJj1apVA0mMBQoUOG3bDz/8sAYO/DfJq3379jLtZM6cOd3jOV0D6YnLsmXLVLNmzRNNm+RFk5yYVjH17rjjjhPVTDtmp8q0CgmMaQm5+OfD60tbv3NugIWt3R3vmu9c+7SMAAIIIIAAAggggAACCCDgCgESGF0RhoQfBAsiDn8F9u6V8uQJ6uQuDdMbuuuUnWewDuho1846AGSwOSXG4fHRPAIIIIAAAggggAACCCCAgCsFmK+7MiwJNygSGF0e8vQkyoVzaxs3brQdtzx27FjdfPPN+uWXXzRy5EiZ46RNnf379weOda5cubKaNm2qzp07B3YTjGYxOyeavlN2YqxUqZLmzJmjggULBnVz//33a4g5I+Wfcu2118rs5Ohk8qLpKj1xMbZmp8mUsmDBAl122WVpEpp6DRo0OFFv3Lhxuummm4KuMzszptiZH1599dVatGiRzBHdb7zxxon6ZnfKPKd4qJnmQM5QgQWR9OiddO1Ra4fOvkWlY0ei2OhJTWXKKvXcLGW2/qYggAACCCCAAAIIIIAAAgj4VoD5um9D66kbY0HE4XAdPy7lzCkdPGjr6JkMz+rZ40/bPjPvfT/6qHTnnbKeCTs8LppHAAEEEEAAAQQQQAABBBBwtQDzdVeHJ2EGRwKjy0OdnkS5cG7tgw+sg0SsBLeUsmTJEv3vf/+TOZr577//Pm1TZ599duDo5i5duoTTXZp1J02aFEhiPHr0aKDuBRdcEEhiNLtEmnLceiDXtWtX2y6RHTp0kEnqczp50fSfnrg8//zzevrpfx8amsTQkiVLpmmyadMmlSpV6kQ9086TTz4ZdJ2pY+qmVUwy5Lx589Kqdsqf//7776f8vEyZMoHvS+7cubVv376I2uaifwT+WC8NqeE8R7dl0rllne+HHhBAAAEEEEAAAQQQQAABBOImQALj/7N3J/A2lfsfx78cU6aMCSHJkDFcpTKWTKk0mRKVhG5yyyWSIoqkq1SiRIoQKlHGSpKSOXMSKdJkzHgc57/W7u90lnU4e1h7rbXP/iyvXm5rP8/v+a33b917X89+nr2WZ/QMnEqABREXbgfzO0bjB+mpj5W1/61/ff2ybfATJyTj980cCCCAAAIIIIAAAggggAACcS7AfD3ObwCfXD4bGH1SiLOlEclGuVAubezYscYvbo2f3P7/0bNnTz3//PMp/25uHCxbtmzgyX4bN27U/v37LeH79eunwYMHhzJkum2nTZumdu3apWxiLF++fGATY9GiRdW1a1fL0wTbtm0r88mGCQkJ6cZ1okEkdell/Lx5+PDhKWmYlsE8CdFsl/ppl+bm0meffdZ2OW5sYEz9f2BpebKB0YG77NcN0qtXOxAonRDdlkpFKkV/HEZAAAEEEEAAAQQQQAABBBDwTIANjJ7RM3AqARZEXLgdrrhCxq/SLQPtvOJ2lfpmmm1wc59jiRIu5MQQCCCAAAIIIIAAAggggAACvhZgvu7r8sRNcmxg9HmpI9koF8qlmRvqzI11Zx7mkwFHjx6tJk2a6PT/aJlPRZw0aZLM1zcfPHgwpct7771neYpjKOOfre306dNlbk48/SRGcxPlFcYXceb4pw9zk+Nbb73l2uZFc9xI6tKtW7eA6enj+PHjypYt/Vf4mu1y5MiR0s+MM2rUKCeYQ47BBsaQyULvwBMYQzejBwIIIIAAAggggAACCCCAQJoCbGDkxvCDAAsiLlShRQvpo48sA+2vWk/5v/3cNvjXX0tXXulCTgyBAAIIIIAAAggggAACCCDgawHm674uT9wkxwZGn5c6ko1yoVya+fTE/v37W7pccMEFWrVqlYoXL55mqGXLlqlu3bpKTEwMfG5uLty0aZPjGwlnzJihNm3apGxiTJ2M+ZrpN9980/Ex07OLpC733Xef3njjjZQhzKdaZs6cOb0hderUKct1mnFef/31dPtFowGvkI6G6hkxTx6XnjH+u3fq7/9+ReVIMDbO9t0lZUl/A21UxicoAggggAACCCCAAAIIIICAKwJsYHSFmUHSEWBBxIVbpFMnadw4y0AnSpdX9u2bbYO//77UsqULOTEEAggggAACCCCAAAIIIICArwWYr/u6PHGTHBsYfV7qSDbKhXJpI0aM0COPPGLpMs74suuee+45Zxizj9n39LFw4UJdd911oQwdVFvzddKtWrWytDX/ffLkyUFt/gtqkBAaRVKXHj16aOTIkSmjHT58WDlz5kx3dLOd+Wrm04cZ54UXXki3n5sNWBBxWHtMPemXtQ4HTRWu6OVSF/sv8KM3IJERQAABBBBAAAEEEEAAAQS8EGC+7oU6Y54pwIKIC/dE377S0KGWgZLz5Vfm/Xttg7/yivTAAy7kxBAIIIAAAggggAACCCCAAAK+FmC+7uvyxE1ybGD0eakj2SgXyqWNHTtWnTt3TumSPXt27d+/3/LK4rTirVu3TlWrVk35qF+/fjKf5ujkYT6h0HSYOHGiJWzp0qX12WefyXzNtdtHJHUxjZ555pmUlH///XcVKlQo3Usw25lPxTx9PP744xo0aFC6/dxswIKIw9oLB0hL/tkg7HB0qc7DUiNjDA4EEEAAAQQQQAABBBBAAIEMLcB8PUOXN2YujgURF0pl/tj5YeP7njOOArmOa99h6xs4jK8oje9xXciJIRBAAAEEEEAAAQQQQAABBHwtwHzd1+WJm+TYwOjzUkeyUS6US5s5c6bxypB/3hlSs2ZNrVixIt0Q5muNc+XKpWPHjgXamq96Np+K6NRhbl535nDpAAAgAElEQVTs0KGD3nnnnZSQCQkJMs+bh7l50dzEaG5mdPOIpC7mUxMfTvVF4rfffqsqVaqkm77Zrlq1aintzDjmUxj9dLAg4nA19u2QXjSekqhkhwOb4TJJPdZI+S+OQmxCIoAAAggggAACCCCAAAII+EmA+bqfqhG/ubAg4kLtze9Q77zTNlDd0j9ryfbilvPmi3fOeNu0CwkyBAIIIIAAAggggAACCCCAgN8EmK/7rSLxmQ8bGH1e90g2yoVyaVu3blW5cuVSujRu3Fjz5s0LKkTx4sW1e/fuQNtQ+qUX/OTJk2rfvr2mTp2a0tR8ZXWLFi0C/xw5ciRwvmTJkvr0009VpkyZ9EI69nkkdZk7d66aNWuWksusWbMC15PeYba76aabUpqZ9TG9/XSwIBKFaky9S9r0ofOBK94stXrL+bhERAABBBBAAAEEEEAAAQQQ8J0A83XflSQuE2JBxIWyf/KJ8baNRraB7q+5Uq+vrGE537SpNGeOCzkxBAIIIIAAAggggAACCCCAgK8FmK/7ujxxkxwbGH1e6kg2yoVyaeaTFHPnzq2jR48GutWvX1+LFi0KKkTBggW1d+/eQNubb75ZH3zwQVD9ztXI3LzYrl07TZs2LaVZr169NGzYsMC/L168WDfccIP++uuvwL9fdNFFgScxXnrppRGPHUyASOry008/BTZdnj4GDhyoJ554It1hzXYDBgxIaWfGMa/bTwcLIlGoxkFjc/Co2tKxA44FP5X9fGX+9zIpb1HHYhIIAQQQQAABBBBAAAEEEEDAvwLM1/1bm3jKjAURF6q9bp1UtaptoKH156jv58aOxVSH2WztWhdyYggEEEAAAQQQQAABBBBAAAFfCzBf93V54iY5NjD6vNSRbJQL9dKaN29u/Or275/dlihRQjt37kw3xL59+2RuYExO/vsVt126dNHo0aPT7XeuBomJiWrbtq1mzJiR0qxPnz4aMmSIpduSJUsCTzI8vYmxWLFigU2MqZ8kGVEi5+gcaV3MjZbbtm0LjHDttdfqE/PX0ekcZjvz+szD7G8+NdNvBwsiUarIeuO/C9PvdSz4zoYvq2R948mOHAgggAACCCCAAAIIIIAAAnEhwHw9Lsrs+4tkQcSFEv32m1SkiG2gyU0nqN3cDpbzhQpJv//uQk4MgQACCCCAAAIIIIAAAggg4GsB5uu+Lk/cJMcGRp+XOtKNcqFc3vjx43Xvvf9sklq/fr0qVap0zhBTpkwJbDY8fUyYMEEdOli/DAslB3PzYqtWrSxPcezXr58GDx6cZpilS5cGNjEePHgw8HnRokUDr5OuUKFCKMOG3DbSuvTu3VvPPfdcYNzMmTNr+/btlqcynpmQuZm0dOnSMp+UaR5m/2effTbkvKPdgQWRKAovG2O816d3xAM8mdhR9dr303WX2b/Mjjg4ARBAAAEEEEAAAQQQQAABBHwpwHzdl2WJu6RYEHGh5ElJUrZsMr5EtAy2uMUw1Z/dy5bA8eN/N+dAAAEEEEAAAQQQQAABBBCIXwHm6/Fbez9dORsY/VSNNHKJdKNcKJdnbgIsU6aM/vjjj0A3cyPh1KlTzxrC3GxYq1Yt41Ujf79r5LzzztOPP/6owoULhzJsStsTJ07ojjvu0Icffphyrn///nrqqafOGW/ZsmVq0qSJDhz4+xW7RYxfGZubGCtWrBhWHsF0irQumzZtUpUqVZRkfqloHPfdd59ef/31sw5tfv7GG28EPk9ISNA643Uwl112WTCputqGBZEoc5tPYpz9cFivkz6QnFP9Ejtp9qmrNPTWKmpzxT+vMY9y1oRHAAEEEEAAAQQQQAABBBDwWID5uscFYPiAAAsiLt0I5hMYzScxpjo2tfivKs7++8fUqQ/jq1zjR9Uu5cUwCCCAAAIIIIAAAggggAACvhRgvu7LssRdUmxg9HnJI90ot2PHjsCT+04fHTt21JtvvnnWq3755ZfVvXv3lM8HDRqkxx9/3Nbe3LxoPq1x4sSJKZ/17NlTw4cPD1u0ZcuWmjlzZkr/AQMG6Mknnwwq3vLly9W4cWPt378/0P6CCy7QV199pUsuuSSo/qE2irQu5nidOnXSuHHjUoZ+7bXX1LlzZ1sq5nnz1dynD7Pf2LFjQ03ZlfYsiLjAfPAXae6j0kZzo+/fr24/13EqOZPmnKqlgcaTF39T/kDTR64vp4euK5teVz5HAAEEEEAAAQQQQAABBBDIIALM1zNIIWP8MlgQcamAxo+mZbxZJ/Wxp/FdKjr/LVsCxtenql3bpbwYBgEEEEAAAQQQQAABBBBAwJcCzNd9WZa4S4oNjD4pufmK5LRek2xuFDz92mAz1ezZs9syrlevnubPn5/mlYS6gdF8IuBNN92kjz/+OCVebeNbLHPjY/ny5QNPDDSfuDhmzBht3bo1pU2NGjW0ZMmSwFMYwz0mT56su+66KzDG2TZOniv2ypUrdf3112vfvn267bbbZL7eOkuWLOGmE+gXrbqYsc0nXZq227ZtS8nxxhtvVJs2bVSsWDHt3r07cA2zZs1K+fzSSy8NbMwsVKhQRNcVrc4siERLNo24+3ZIK9+Utn0m/Wp8KX3qpL3R5e11+8Y6WnEwr+Wz9rVLanBL48tsDgQQQAABBBBAAAEEEEAAgbgQYL4eF2X2/UWyIOJSiRo1kj75xDLY4bpNlPuLubYEZhgv+7j1VpfyYhgEEEAAAQQQQAABBBBAAAFfCjBf92VZ4i4pNjD6pOTm0wYHDhwYVjb169fXokWL0uwb6gZGM8iRI0dkPg1xwYIFQeVTp04dTZ8+PfDq5kiPd955Rzt37lSfPn3CCrV69WqZT5E0N1hGunnRTCBadTl9ceYmUPP119u3b0/3es0naZobVc1NjH49WBDxqDK710iv1bcP3u5dtVyQW2t++vvJpKePxhWL6LUO//IoWYZFAAEEEEAAAQQQQAABBBBwW4D5utvijJeWAAsiLt0X7dpJxg/FUx9JVS9Xlm9X2xJ46SXpwQddyothEEAAAQQQQAABBBBAAAEEfCnAfN2XZYm7pNjA6JOSR2ujXDgbGE2S5OTkwGuKhw0bpu+//z5NpRIlSqhXr17q2rWrsmbN6hNJZ9OIVl1SZ/nXX3+pX79+mjBhgg4cOGC7gPPPPz/wBMynn35auXPndvYCHY7GgojDoMGGO7JXGvbPq+JTurUYofs3VtX8jb9aIlUvmU/vP3BNsNFphwACCCCAAAIIIIAAAgggEOMCzNdjvIAZJH0WRFwq5MMPSy+8YB3MeNvL+X/t0sGD1tOPPSbjO0eX8mIYBBBAAAEEEEAAAQQQQAABXwowX/dlWeIuKTYwxl3JQ79g86mGGzZs0C+//BLoXLhwYdWsWVOVK1dW6v8hCz0yPVILHDt2TJ9//rnMTad//vmnChYsqIsvvlgNGjRI89XhftRjQcSjqhgbjvV0UenkUWsC9Xrr8YM3aeLXOy3ni+c7T1/2udajZBkWAQQQQAABBBBAAAEEEEDAbQHm626LM15aAiyIuHRfDBkimTsTUx9ZsuiyS45r83eZLafvvlsaP96lvBgGAQQQQAABBBBAAAEEEEDAlwLM131ZlrhLig2McVdyLhiB6AmwIBI923Qjj6wu7f3B2qx6e72Y6z8asfA7y/lsCZm1ZXBTNiCni0oDBBBAAAEEEEAAAQQQQCBjCDBfzxh1jPWrYEHEpQqOGyd16mQb7OY6f+rDJQUs5xs3lubNcykvhkEAAQQQQAABBBBAAAEEEPClAPN1X5Yl7pJiA2PclZwLRiB6AiyIRM823cjjb5B+XGJtVuY6TS7/gvq+t87Wfc0T1ytfzmzphqUBAggggAACCCCAAAIIIIBA7AswX4/9GmaEK2BBxKUqzp4t3XijbbDeLTbqudmXWc4bL9jROvvXRi4lyjAIIIAAAggggAACCCCAAAJ+EGC+7ocqkAMbGLkHEEDAMQEWRByjDD3QjPuMb5ynWftdUFGfNPxAnSassMVb8HA9lS2SJ/Rx6IEAAggggAACCCCAAAIIIBBzAszXY65kGTJhFkRcKuvy5dIVV9gGG91mkbpNqW85X7Cg9McfLuXFMAgggAACCCCAAAIIIIAAAr4UYL7uy7LEXVJsYIy7knPBCERPgAWR6NmmG3l+f2npSGuzHPn0bfu1uunlL23dJ913pa65tFC6YWmAAAIIIIAAAggggAACCCAQ+wLM12O/hhnhClgQcamKP/4oXXyxbbCPOkxVi7da2c4fOyZlz+5SbgyDAAIIIIAAAggggAACCCDgOwHm674rSVwmxAbGuCw7F41AdARYEImOa1BRv35VmtvH1nTPg9tVe/hXtvMjWlfTLdUvCio0jRBAAAEEEEAAAQQQQAABBGJbgPl6bNcvo2TPgohLlTx6VMqZ0zbYyrtf0r/efNB2fvv2NPc7upQswyCAAAIIIIAAAggggAACCHgtwHzd6wowvinABkbuAwQQcEyABRHHKEMPtHGm9G4HW7+TD6xQ2RHfKTnZ+tFjzSvo/nplQh+HHggggAACCCCAAAIIIIAAAjEnwHw95kqWIRNmQcTFsubNKx06ZBlwZ4fHVeqtQbYkvjRe3HH11S7mxlAIIIAAAggggAACCCCAAAK+EmC+7qtyxG0ybGCM29Jz4Qg4L8CCiPOmQUf8abn0RiN7846z9a9Jx/THXycsn91Xp7Qeb1Ex6PA0RAABBBBAAAEEEEAAAQQQiF0B5uuxW7uMlDkLIi5Ws2xZ6fvvLQMeaHO/8k0ZY0ti2jTp9ttdzI2hEEAAAQQQQAABBBBAAAEEfCXAfN1X5YjbZNjAGLel58IRcF6ABRHnTYOOeOBnaUQle/NbX1fTTy/U5j3WX93fVK2YRratHnR4GiKAAAIIIIAAAggggAACCMSuAPP12K1dRsqcBREXq3nNNdLSpZYBT7a4WVlnf2BLYuRIqXt3F3NjKAQQQAABBBBAAAEEEEAAAV8JMF/3VTniNhk2MMZt6blwBJwXYEHEedOgIyYlSoMKG83PeFd0o4Hq8N3VWvzd75ZQtS8poCn3XxV0eBoigAACCCCAAAIIIIAAAgjErgDz9ditXUbKnAURF6t5663S++9bB7zqKuXbuFQHDlhP9+kjDRniYm4MhQACCCCAAAIIIIAAAggg4CsB5uu+KkfcJsMGxrgtPReOgPMCLIg4bxpSxOHlpL9+tXa5sqv++1c7TV9pPKEx1VGmcC590rNBSOFpjAACCCCAAAIIIIAAAgggEJsCzNdjs24ZLWsWRFysaNeu0pgzXhd9ySWqmH2bNm2y5tGhgzRhgou5MRQCCCCAAAIIIIAAAggggICvBJiv+6occZsMGxjjtvRcOALOC7Ag4rxpSBHH1Jd+WWPtctmNGnb+4xq1aJvlfJ4cWbRuQJOQwtMYAQQQQAABBBBAAAEEEEAgNgWYr8dm3TJa1iyIuFjRJ54w3tQxyDpg7txqdOUhffKJ9XSjRtKCBS7mxlAIIIAAAggggAACCCCAAAK+EmC+7qtyxG0ybGCM29Jz4Qg4L8CCiPOmIUWc3E7a8pG1S/F/aXzFsRo4a6Mt1OZBTZUja0JIQ9AYAQQQQAABBBBAAAEEEEAg9gSYr8dezTJixiyIuFjVV16RHnzQNmCnNoc1bkpOy/lKlaT1613MjaEQQAABBBBAAAEEEEAAAQR8JcB83VfliNtk2MAYt6XnwhFwXoAFEedNQ4r4UU9p+Vhrl7zF9VGjT/Tvd1bZQi3u1VAlC1q/tA5pPBojgAACCCCAAAIIIIAAAgjEhADz9ZgoU4ZPkgURF0s8bZrUqpVtwKFdtqvvmIst5/Pnl/budTE3hkIAAQQQQAABBBBAAAEEEPCVAPN1X5UjbpNhA2Pclp4LR8B5ARZEnDcNKeLi4dKnZ7weKFOClt+1RXe89o0t1IxuV6lmqQIhDUFjBBBAAAEEEEAAAQQQQACB2BNgvh57NcuIGbMg4mJVFy+W6te3DTjlP1+r7QtX2s4fOSKdd56L+TEUAggggAACCCCAAAIIIICAbwSYr/umFHGdCBsY47r8XDwCzgqwIOKsZ8jR1rwjfdDN1u2ne1ar7qubbOdfvbOGmlUpGvIwdEAAAQQQQAABBBBAAAEEEIgtAebrsVWvjJotCyIuVnbzZumyy2wDLun9oeoOu9F2fts26ZJLXMyPoRBAAAEEEEAAAQQQQAABBHwjwHzdN6WI60TYwBjX5efiEXBWgAURZz1DjrbtM+ntlrZux+5ZqAqv/mY7P/CmSup49cUhD0MHBBBAAAEEEEAAAQQQQACB2BJgvh5b9cqo2bIg4mJl9+2TCtjfurG19+sqN+w+WyJLlkjXXONifgyFAAIIIIAAAggggAACCCDgGwHm674pRVwnwgbGuC4/F4+AswIsiDjrGXK037dIr1xh79Z6kipPyaq/jp+0fPbvhmXUq0mFkIehAwIIIIAAAggggAACCCCAQGwJMF+PrXpl1GxZEHGxssnJUvbsUmKiZdD99z6sIuOG6ISMz1Id774r3XGHi/kxFAIIIIAAAggggAACCCCAgG8EmK/7phRxnQgbGOO6/Fw8As4KsCDirGfI0Y4fkoZcZO/WfLiuXVxWP/xx2PJZq39dpGG3Vwt5GDoggAACCCCAAAIIIIAAAgjElgDz9diqV0bNlgURFyu7fbtUtar011+2QU8oq9apiuarsV7T/dqh0nrhBalHDxfzYygEEEAAAQQQQAABBBBAAAHfCDBf900p4joRNjDGdfm5eAScFWBBxFnPsKI9Y2xgPGFsZEx91HlErbY11jfb91pONyhfWG/ek8YTG8MamE4IIIAAAggggAACCCCAAAJ+FWC+7tfKxFdeLIi4UO9du/7eifjee5L5FMZ0jlPKpBm6TVu6vajHRxVLrzmfI4AAAggggAACCCCAAAIIZEABL+frhw4d0po1a7Ry5UqtWrUq8PeWLVuUlJQUkC5VqpR27NgRsboZ79NPPzWmy+/pq6++0p49e7Rv3z4VKFBAF154ocqVK6f69esH/qlUqVLE4xEgdAE2MIZuRg8EEDiLAAsiPrg1Xq4l/fGdNZFqbfXg0fs1+9tfLOcrFs2rj3vU9UHSpIAAAggggAACCCCAAAIIIBBNAebr0dQldrACXi6IBJtjTLebOlXq2lXavz/kyzicLZ9yvTVaat065L50QAABBBBAAAEEEEAAAQQQiG0Br+br5cuX19atW43f3539B3hObGBcunSpHnjgAa1duzaoQiUmJipLlixBtaWRcwJsYHTOkkgIxL0ACyI+uAUm3CRt/9yaSOn6eqrAUI370nh9UKqjUO7sWvF4Ix8kTQoIIIAAAggggAACCCCAAALRFGC+Hk1dYgcr4NWCSLD5xXS7kSOdeQe0Gad795imIHkEEEAAAQQQQAABBBBAAIHQBLyar6ce92wZR7qBccyYMerWrZtlk2TOnDl16aWXqlChQjp69Ki2b98eeCLj6YMNjKHdP061ZgOjU5LEQQABsSDig5vgfeOX9msnWxMpVE6jq0zR0DmbLeczZ5K2Pt1cCeZ/4EAAAQQQQAABBBBAAAEEEMiwAszXM2xpY+rCvFoQiSmkcJI1n7zYpk04PdPuM2UKT2J0TpNICCCAAAIIIIAAAggggIDvBbyar58eN1euXKpWrZpq1KihmjVraqoxz507d27ALZINjK+//rq6dOmSsnmxQoUKevrpp9W8eXPlyJHDUpeff/5Zs2fP1htvvKGvv/5aCQkJvq9bRkuQDYwZraJcDwIeCrAg4iH+6aEXDpSW/M+aSLbcmtFkmXpOsz8S+ZvHrtMFea3/5+yDqyAFBBBAAAEEEEAAAQQQQAABBwWYrzuISaiwBbxaEAk74VjouGuXVLlyWK+NPuvl5csnbdggFSsWCwLkiAACCCCAAAIIIIAAAgggEKGAV/P1SZMmBTYtmq+Szpw5c8pV3H333ZowYULg38PdwLh582ZVr15dx44dC8Rp0aKFpk+fruzZs0eoRfdoCbCBMVqyxEUgDgVYEPFB0b95Xfr4v7ZElrZarXZvbbKdn929jioXP98HiZMCAggggAACCCCAAAIIIIBAtASYr0dLlrihCHi1IBJKjjHX9vbbpRkznE/bjDttmvNxiYgAAggggAACCCCAAAIIIOA7Ab/N153YwFinTh19+eWXAety5cpp7dq1tqcu+q4QcZ4QGxjj/Abg8hFwUoAFESc1w4y1+SNpSjtb5+2tP1PDCb/Yzo+/u5YaVrggzMHohgACCCCAAAIIIIAAAgggEAsCzNe9r9KhQ4e0Zs0arVy5UqtWrQr8vWXLFiUlJQWSC/eJAmdemRnv008/1XvvvaevvvpKe/bs0b59+1SgQAFdeOGFgS/t69evH/inUqVKrsL4bUHE1YuPxmDbt0tlysh4F5bz0TNlkrZtk0qXdj42ERFAAAEEEEAAAQQQQAABBHwl4Lf5eqQbGM1XQF911VUpxrNmzQo8gZHD3wJsYPR3fcgOgZgSYEHEB+XatUp6vaEtkYN3TFfVt0/Yzj97WxW1rlXSB4mTAgIIIIAAAggggAACCCCAQLQEmK9HSza4uOarkLZu3WrsMzv7RjMnNjAuXbpUDzzwQOCpAsEciYmJypIlSzBNHWnjtwURRy7KyyB9+0pDh0Yvgz59pCFDohefyAgggAACCCCAAAIIIIAAAr4Q8Nt8PdINjKn7lyxZUtuNHwCmfkW1L9BJwibABkZuCgQQcEyABRHHKMMPdGiP9Hx5W//km0ep3PT8SkyyLpb0vL6cul9XNvzx6IkAAggggAACCCCAAAIIIOB7Aebr3pYo9ULA2TKJdAPjmDFj1K1bN8smyZw5c+rSSy9VoUKFdPTo0cAX9uYTGU8fbGD09r6IePSaNWU8zjPiMGcNYMZfsSJ68YmMAAIIIIAAAggggAACCCDgC4GMtoHRfAPFr7/+GrA1vysZNWqUL5xJ4twCbGDkDkEAAccEWBBxjDL8QKeMV08NKmy8PujvV1ClHNf219VfVtfuA8csp++qXUqDWlYOfzx6IoAAAggggAACCCCAAAII+F6A+bq3JTq9EJArVy5Vq1ZNNWrUUE1jc9jUqVM1d+7cQHKRbGB8/fXX1aVLl5TNixUqVNDTTz+t5s2bK0eOHJaL//nnnzV79my98cYbMl+plJCQ4BqO3xZEXLvwaAx0/LiUJ49kPEUzake2bJLx6nOZf3MggAACCCCAAAIIIIAAAghkWAG/zdcjeQLjjh07VLp06ZRavf3222rfvr127typcePGyXydtNnmyJEjKliwoCpVqqTrr79enTp1Uv78+TNsjWPhwtjAGAtVIkcEYkSABRGfFOp/FaWDu6zJ1LpPN++4VWt/2m8537TShRp9l/GLeg4EEEAAAQQQQAABBBBAAIEMK8B83dvSTpo0KbBp0XyVdOpXFkXyhfzpK9q8ebOqV6+uY8f+/sFiixYtNH36dGXPnt3bi05jdL8tiPgOKJSEjFeSq1y5UHqE1/a776SyvLkjPDx6IYAAAggggAACCCCAAAKxIeC3+Xok35d88MEHuuWWW1Lgv/nmGy1fvly9e/fW4cOHz1qQvHnz6rnnntP9998fG0XLgFmygTEDFpVLQsArARZEvJI/Y9yxjaSfl1tPlm+u+0701MJNfz8q+fRRo2Q+vffANT5JnDQQQAABBBBAAAEEEEAAAQSiIcB8PRqqkceM5Av506PXqVNHX375ZeBfyxkb2tauXWt76mLkmToTwW8LIs5clUdR1q2TqlaN/uDffitVqRL9cRgBAQQQQAABBBBAAAEEEEDAM4HU8/XcuXMHnUffvn312GOPBd0+2IaRfF8yduxYde7cOWWonj176vnnn0/5d/P10mWNH+olJSVp48aN2r/f+gCofv36afDgwcGmSjsHBdjA6CAmoRCIdwEWRHxyB0y9S9r0oTWZopfrsQte1jvLdlrOX5T/PC159FqfJE4aCCCAAAIIIIAAAggggAAC0RBgvh4N1chjRvKFvDm6+Qroq666KiUR8zVI5hMY/XqwgdHByvAERgcxCYUAAggggAACCCCAAAIIxLdA6vl6KBJPPvmkBgwYEEqXoNpG8n3J8OHD1atXL9s4pUqV0ujRo9WkSROdvt6TJ0/KfGvGQw89pIMHD6b0ee+99yxPcQwqaRpFLMAGxogJCYAAAqcFWBDxyb0w51Fp2WhrMrmL6IXLZ+uFhcYrhlIdWRMyad2AxsqRNYtPkicNBBBAAAEEEEAAAQQQQAABpwWYrzst6ky8SL6QNzNI3b9kyZLavn275RXVzmTpXBQ2MDpnqePHpTx5pMREB4OeESpbNunQIcn8mwMBBBBAAAEEEEAAAQQQQCDDCmSkJzCaT0/s37+/pVYXXHCBVq1apeLFi6dZw2XLlqlu3brGFPvvObb5hMZNmzYpISEhw9bcjxfGBkY/VoWcEIhRARZEfFK4JS9IC5+0JJOsTOpU4mN9unWfLcksmTOpQtE8qlu2sNpdUVIlCuT0yYWQBgIIIIAAAggggAACCCCAgBMCzNedUHQ+RqQbGM3XHv3666+BxLp166ZRo0Y5n6SDEdnA6CCmGapmTRkrMA4HTRXOjL9iRfTiExkBBBBAAAEEEEAAAQQQQMAXAn6br0fyfcmIESP0yCOPWFzHjRune+6555zWZh+z7+lj4cKFuu6663xRn3hJgg2M8VJprhMBFwRYEHEBOZghvn1Xeq+zreVVx17SLyp4zgiZMknNKl+oJ2+spCJ5cwQzGm0QQAABBBBAAAEEEEAAAQR8LsB83Z8FiuQL+R07dqh06dIpF/b222+rffv22rlzp8wv5s3XSZttjhw5ooIFC6pSpUq6/vrr1alTJ+XPn98TEL8tiHiC4OSgfftKQ4c6GdEaq08faciQ6MUnMgIIIIAAAggggAACCCCAgC8E/DZfj+T7kkmsTNoAACAASURBVLFjx6pz53/2SmTPnl379+9Xjhzn3vuwbt06Va1aNaUe/fr1k/k0Rw73BNjA6J41IyGQ4QVYEPFJibd/IU1oYUvmluMDtTq5bFBJ5s2RRU/fUkU3VisWVHsaIYAAAggggAACCCCAAAII+FeA+bo/axPJF/IffPCBbrnllpQL++abb7R8+XL17t1bhw8fPusF582bV88995zuv/9+11H8tiDiOoDTAxqvDFeZMlJystORJfMXrtu2ydgl63xsIiKAAAIIIIAAAggggAACCPhKwG/z9Ui+L5k5c6ZatmyZ4lvTeLvAiiDeLnDq1CnlypVLx44dC/Rt06aNJk+e7Ks6ZfRk2MCY0SvM9SHgogALIi5in2uoP40vmF+qYWvR7UQPzTl1ZUhJDrixou6+hi+rQ0KjMQIIIIAAAggggAACCCDgMwHm6z4ryP+nE8kX8mc+UaBnz556/vnnUy7UfL102bJllZSUpI0bNwaeNpD6cOJJAs8884zxgL7gn9D3119/paSQHI1Nd/4sc3Szuv12acYM58cw406b5nxcIiKAAAIIIIAAAggggAACCPhOICNtYNy6davKlSuXYty4cWPNmzcvKPPixYtr9+7dgbah9AsqOI3SFWADY7pENEAAgWAFWBAJViq67T5a9YNu+LC6bZCBiXdpfFKzkAd/qW11nsQYshodEEAAAQQQQAABBBBAAAH/CDBf908tUmcSyQbG4cOHq1evXrYLK1WqlEaPHq0mTZoYD9EznqJnHCdPntSkSZP00EMP6eDBgyl93nvvPctTHENVGjBggAYOHBhqt0B7NjCGxWbvtGuXVLmyjB2qDgU0wuTLJ23YIBXjrRzOoRIJAQQQQAABBBBAAAEEEPCvQEbawGg+STF37tw6evRoALx+/fpatGhRUPgFCxbU3r17A21vvvlmmW+/4HBPgA2M7lkzEgIZXoAFEe9LvOfAMTUe8bkWJ9+jfJmsr4wafbKFhp5sF3KS5uukFzxSX0Xy5gi5Lx0QQAABBBBAAAEEEEAAAQS8F2C+7n0N0sogkg2MgwcPVv/+/S1hL7jgAq1atUrmEwPSOpYtW6a6desqMTEx8LH5hMZNmzYpISEhLCCewBgWm/Odpk41323lXNwpU6TWrZ2LRyQEEEAAAQQQQAABBBBAAAFfC2SkDYwmdPPmzTVnzpyAeYkSJbRz5850/fft2ydzA+PpH1x26dIl8ANRDvcE2MDonjUjIZDhBVgQ8b7E3Sau1Jz1ezQ326OqkPknS0IfJF2t/yQ+GFaSzatcqFF31gyrL50QQAABBBBAAAEEEEAAAQS8FWC+7q3/2UaPZAPjiBEj9Mgjj1hCjxs3Tvfcc885L9bsY/Y9fSxcuFDXXXedK0B+WxBx5aLdGuSll2Q8YjPi0d5vOFK3fNo94jgEQAABBBBAAAEEEEAAAQQQiB0Bv83XI/m+xFQfP3687r333pQCrF+/XpUqVTpnQaYYP+Zr27ZtSpsJEyaoQ4cOsVPEDJApGxgzQBG5BAT8IsCCiLeV+GnvEdV77jPjVwHShKxDVT/hW0tCX5+6TG1OWJ/OEGzG5lunFvdqqBIFcgbbhXYIIIAAAggggAACCCCAAAI+EWC+7pNCnJFGJF/Ijx07Vp07d06JmD17duMtwvuVI8e5356wbt06Va1aNaVfv379ZD7N0Y3Dbwsiblyzq2OYT2Ls2jWs10nvUz511WhladfaeN24q1kzGAIIIIAAAggggAACCCCAgMcCfpuvR/J9iUl58OBBlSlTRn/88UdAtlWrVppqzpnPcphvqqhVq5bWrl0baHHeeefpxx9/VOHChT2uTHwNzwbG+Ko3V4tAVAVYEIkqb7rBn527Wa8u2hZo92yW19Q6yyJLn+2niqjhiX+espBuwDMadGtQRo82rRBqN9ojgAACCCCAAAIIIIAAAgh4LMB83eMCnGX4SL6Qnzlzplq2bJkSuWbNmlqxYkW6F3rq1CnlypVLx44dC7RtY7x6ePLkyen2c6KB3xZEnLgm38XYvVvq0UOaMUOBX7imc5xSJs3QbeqhF/WLiqlBA+mzz9LrxecIIIAAAggggAACCCCAAAIZScBv8/VIvi85XZeXX35Z3bv/84aBQYMG6fHHH7eVzdy8aD6tceLEiSmf9ezZU8OHD89IJY6Ja2EDY0yUiSQRiA0BFkS8rVOLl77Q+l0HA0k8nGW6emR5z5LQseSsqnD8TeOc8TjFMI4qxc/XrO51wuhJFwQQQAABBBBAAAEEEEAAAS8FmK97qX/2sSP5Qn7r1q0qV65cSvDGjRtr3rx5QV1o8eLFtdvc6GYcofQLKvg5GvltQSTS6/F1/+3bpddekxYskNaskZKSrOkar9qYXflRdV93v3aodMpn5i21ZYuvr4zkEEAAAQQQQAABBBBAAAEEHBbwar5uvhEirbdCmJsKzR9gnj7Mt06cedSrV0/z588/q0SSMQ++6aab9PHHH6e0qV27tjp27Kjy5csb0+SkwBMXx4wZI/M7ltNHjRo1tGTJksBTGDncFWADo7vejIZAhhZgQcS78h4/maTKT85TYtLfv65vm/CJhmR9w5ZQtWOv6YByh5VotoTMWj+wibJlyRxWfzohgAACCCCAAAIIIIAAAgh4I8B83Rv39EaNZAOj+UV+7ty5dfTo0cAw9evX16JFi9IbMvB5wYIFtXfv3sB/vvnmm/XBBx8E1S/SRl4tiESad8z3f/VV6YEHbJfx9MN/6PERBS3njVtKhw7F/BVzAQgggAACCCCAAAIIIIAAAiEIeDVfHzBggAYOHBhCpv80DeZ7kCNHjgTeXrHA/HFfEEedOnU0ffp0FSlSJIjWNHFagA2MTosSD4E4FmBBxLvib//jsBoOX5SSQMPMqzU+23O2hJocH6otySXDTvSz/zZQ6UK5wu5PRwQQQAABBBBAAAEEEEAAAfcFmK+7bx7MiJFsYDTjN2/eXHPmzAkMVaJECe3cuTPdYfft2xfYwJj8/68X7tKli0aPHp1uPycaeLUg4kTuMR3DvEeMe+XMY0qfNWo7tJrt/EHj5R558sT0FZM8AggggAACCCCAAAIIIIBACAJezdejvYHRJDC//xg7dqyGDRum77//Pk0V8zuVXr16qWvXrsqaNWsIcjR1UoANjE5qEguBOBdgQcS7G2DznoNq+sIXKQlUzLRDH2d/zJZQxxOP6vNT9i+ng8187n/qqsKFeYNtTjsEEEAAAQQQQAABBBBAAAEfCDBf90ER0kgh0g2M48eP17333psSef369apUqdI5L3bKlClq27ZtSpsJEyaoQ4cOrgB5tSDiysX5eRDjvlCVKrYMv3pslq5+poXtvPkK6VRvJ/fzlZEbAggggAACCCCAAAIIIICAAwLxMl9fvXq1NmzYoF9++SWgVrhwYdWsWVOVK1dWagMHSAkRhgAbGMNAowsCCKQtwIKId3fGmU9gLKCDWpWjqy2h3omd9W5Sw7AT5QmMYdPREQEEEEAAAQQQQAABBBDwTID5umf05xw40g2MB41H5ZUpU0Z//PFHYJxWrVpp6tSpZx0zMTFRtWrV0tq1awNtzjvvPP3444+BL+zdOOJlQcQNy5DGOHBAypfP1mV7r1G65LlutvOffSY1aBDSCDRGAAEEEEAAAQQQQAABBBCIYQHm6zFcvAyUOhsYM1AxuRQEvBZgQcS7Chw/maTKT85TYlLy/yeRrC3ZOyp7ppOWpP6XeLtGJt0aVqLZEjJr/cAmypYlc1j96YQAAggggAACCCCAAAIIIOCNAPN1b9zTGzXSDYxm/Jdfflndu3dPGWrQoEF6/PHHbUObmxfNpzVOnDgx5bOePXtq+PDh6aXp2OcsiDhGGVog83XheY23afz1l6XfwQcf0/kvP22LNWmS1K5daEPQGgEEEEAAAQQQQAABBBBAIHYFmK/Hbu0yUuZsYMxI1eRaEPBYgAURbwvQ4qUvtH7XwZQkFmfroZKZf7ck9c7JhnrsZOewEq1S/HzN6l4nrL50QgABBBBAAAEEEEAAAQQQ8E6A+bp39ubIgwcPDvxz5mFuKjx16lTK6ezZs9va1KtXT/Pnzz/rBSQlJemmm27Sxx9/nNKmdu3a6tixo8qXLy/zc/OJi2PGjNHWrVtT2tSoUUNLliwJPIXRrYMFEbek0xinYkVp0ybLB0l33qUsk96yNTb3tBp7WzkQQAABBBBAAAEEEEAAAQTiRID5epwU2ueXyQZGnxeI9BCIJQEWRLyt1rNzN+vVRdtSkng320BdkXmLJalPky7XvYm9w0q0W4MyerRphbD60gkBBBBAAAEEEEAAAQQQQMA7Aebr3tmbIw8YMEADBw4MK4n69etr0aJF5+x75MgRtWzZUgsWLAhqjDp16mj69OkqUqRIUO2dasSCiFOSYcRp3FjGDWLt2LChLlj/qX63/vZVjzwiPf98GGPQBQEEEEAAAQQQQAABBBBAICYFmK/HZNkyXNJsYMxwJeWCEPBOgAUR7+zNkX/ae0T1nvtM5puBzOOlrCN1Y8LXlqQ2niql5ieGhJxopkzS4l4NVaJAzpD70gEBBBBAAAEEEEAAAQQQQMBbAebr3vpHewOjeXXJxpcBY8eO1bBhw/T999+necElSpRQr1691LVrV2XNmtV1FBZEXCf/Z8BOnaRx46wJXHqpLs+11XhCp/V0mzbS5Mke5srQCCCAAAIIIIAAAggggAACrgowX3eVm8HOIsAGRm4NBBBwTIAFEccoww7UbeJKzVm/J9C/X5aJ6pzln1dImef+TM6jmsfHhBy/eZULNerOmiH3owMCCCCAAAIIIIAAAggggID3AszXva+BmxmsXr1aGzZs0C+//BIYtnDhwqpZs6YqV66s1IsSbuZkjsWCiNviqcZ78knpqaesCeTIoeYNjmjOXONXq6kO463l+vxzD3NlaAQQQAABBBBAAAEEEEAAAVcFmK+7ys1gZxFgAyO3BgIIOCbAgohjlGEH2nPgmBqP+FwHj51Up4SP1D/rJFuscscm6ISCf9JC3hxZtOCR+iqSN0fYedERAQQQQAABBBBAAAEEEEDAOwHm697ZM/I/AiyIeHg3GE/nVOfOtgR6tPtdI98pZDlftqz03Xce5srQCCCAAAIIIIAAAggggAACrgowX3eVm8HOIsAGRm4NBBBwTIAFEccoIwo0a+1udZ+8Wi0yf6WXs71ki1Xn+Av6OfmCoMd4qW113VitWNDtaYgAAggggAACCCCAAAIIIOAvAebr/qpHvGbDgoiHlZ87V2rWzJbAK/et1oNjL7ecz5VLOnTIfGKmh/kyNAIIIIAAAggggAACCCCAgGsCzNddo2agcwiwgZHbAwEEHBNgQcQxyogDvfnlds2e/Z6mZz/j9UBG5DuOP6HlyRWCGmPAjRV19zWlg2pLIwQQQAABBBBAAAEEEEAAAX8KMF/3Z13iLSsWRDysuPFKceMd4rYEPu76oW4YfaPt/IEDUt68HubL0AgggAACCCCAAAIIIIAAAq4JMF93jZqBziHABkZuDwQQcEyABRHHKB0JtHDpcjWa38gWq/uJBzXr1NXnHMN8bfTTt1ThyYuOVIIgCCCAAAIIIIAAAggggIC3AszXvfVn9L8FWBDx8E4wdyTmy2dLYG2XUbp8TDfb+U2bpArB/fbVw4tiaAQQQAABBBBAAAEEEEAAAScEmK87oUiMSAXYwBipIP0RQCBFgAURn90MJ09IgwvbkhqceKfGJt2QZrLm64GaVb5QT95YSUXy5vDZBZEOAggggAACCCCAAAIIIIBAOALM18NRo4/TAiyIOC0aYjzzkYrmu6FTHbs79lXxCc/YAn36qdSwYYjxaY4AAggggAACCCCAAAIIIBCTAszXY7JsGS5pNjBmuJJyQQh4J8CCiHf2Zx15WBnpyB+Wj8cnNdfAxPa2LuWL5NHYjv9SiQI5fXghpIQAAggggAACCCCAAAIIIBCuAPP1cOXo56QACyJOaoYRq2JFyXy0Yqrj8G13KfeMt2zBJk6U7rwzjDHoggACCCCAAAIIIIAAAgggEHMCzNdjrmQZMmE2MGbIsnJRCHgjwIKIN+7nHHV0HWnPOkuTpIq3qNUf92vlzn2W81ddUlCT76/tw4sgJQQQQAABBBBAAAEEEEAAgUgEmK9HokdfpwRYEHFKMsw4TZpI8+dbOp+q30BZFn+m5GRrzGHDpF69whyHbggggAACCCCAAAIIIIAAAjElwHw9psqVYZNlA2OGLS0XhoD7AiyIuG+e7oiTWklb51mblaitXnmHadrKny3nSxXMqc978X6gdE1pgAACCCCAAAIIIIAAAgjEmADz9RgrWAZNlwURjwvbqZM0bpw1iUsv1YWHturXX62n//MfacQIj/NleAQQQAABBBBAAAEEEEAAAVcEmK+7wswg6QiwgZFbBAEEHBNgQcQxSucCzeohrXzTGu/8khpReYZe/GSr5Xy2LJm1+ammypw5k3PjEwkBBBBAAAEEEEAAAQQQQMBzAebrnpeABAwBFkQ8vg0GDJAGDrQmkSOHqpc/ojVrrd8FtW4tTZnicb4MjwACCCCAAAIIIIAAAggg4IoA83VXmBkkHQE2MHKLIICAYwIsiDhG6Vygz413/nz2tDVe5qx6t+lK9X5vvW2c5f0aqXCe7M6NTyQEEEAAAQQQQAABBBBAAAHPBZive14CEjAEWBDx+DYYO1bq3NmWRNtGv2vKwkKW83XrSosXe5wvwyOAAAIIIIAAAggggAACCLgiwHzdFWYGSUeADYzcIggg4JgACyKOUToXaNXb0ocP2uJ9fdsytZm0zXZ+5r+vUbUS+Zwbn0gIIIAAAggggAACCCCAAAKeCzBf97wEJGAIsCDi8W0wb57UtKktiadartKTH1S3nC9TRvr+e4/zZXgEEEAAAQQQQAABBBBAAAFXBJivu8LMIOkIsIGRWwQBBBwTYEHEMUrnAn2/UJp4my3eT63mqe5bf9rOj25fQ00rF3VufCIhgAACCCCAAAIIIIAAAgh4LsB83fMSkIAhwIKIx7fBhg1S5cq2JN5pPVN3Tr3Jcv6886TDh82aeZwzwyOAAAIIIIAAAggggAACCERdgPl61IkZIAgBNjAGgUQTBBAIToAFkeCcXG3160bp1atsQx6/Y7LKv51sO9+/RUV1qlPa1RQZDAEEEEAAAQQQQAABBBBAILoCzNej60v04ARYEAnOKWqtDh6Uzj/fFv6LNq+o3pQHbOf370+zedTSIzACCCCAAAIIIIAAAggggIA3AszXvXFnVKsAGxi5IxBAwDEBFkQco3Qu0NF90rMX2+O1GKHqH1+kfUcSLZ+ZmxfNTYwcCCCAAAIIIIAAAggggAACGUeA+XrGqWUsXwkLIj6oXt680qFDlkS23tZH5WYMsSW30fhN7GWX+SBnUkAAAQQQQAABBBBAAAEEEIiqAPP1qPISPEgBNjAGCUUzBBBIX4AFkfSNXG+RbDxl8WnjldAnj1qHrtdLN6yvrw27jV/fpzqaV7lQo+6s6XqaDIgAAggggAACCCCAAAIIIBA9Aebr0bMlcvACLIgEbxW1lpUqSebOxFTHn83aq9Cct21DLlwoXXdd1DIhMAIIIIAAAggggAACCCCAgE8EmK/7pBBxngYbGOP8BuDyEXBSgAURJzUdjDWyhrR3mzXg5e3V+eA9WrDxV8v5aiXyaea/r3FwcEIhgAACCCCAAAIIIIAAAgh4LcB83esKML4pwIKID+6DJk2k+fMtiRy/qr5yfLXIltxbb0l33eWDnEkBAQQQQAABBBBAAAEEEEAgqgLM16PKS/AgBdjAGCQUzRBAIH0BFkTSN/KkxZstpB1fWIcuc62ezDtIE7760XK+cJ7sWt6vkSdpMigCCCCAAAIIIIAAAggggEB0BJivR8eVqKEJsCASmldUWt93n/TGG5bQyWXKKOGH72W+xCP18eyzUu/eUcmCoAgggAACCCCAAAIIIIAAAj4SYL7uo2LEcSpsYIzj4nPpCDgtwIKI06IOxZvRWVr3rjVY4cs0pvIkDZmz2TbIlsFNlT1LgkODEwYBBBBAAAEEEEAAAQQQQMBrAebrXleA8U0BFkR8cB8MGCANHGhNJHt2Fc13VHt+zWQ536OH9MILPsiZFBBAAAEEEEAAAQQQQAABBKIqwHw9qrwED1KADYxBQtEMAQTSF2BBJH0jT1oseEL68kXr0DnO16xmX6v75NW2lBb3aqiSBXN6kiqDIoAAAggggAACCCCAAAIIOC/AfN15UyKGLsCCSOhmjvcwn75oPoXxjOO6Kr/p03WFLWfvuEN694zfwzqeDwERQAABBBBAAAEEEEAAAQQ8F2C+7nkJSMAQYAMjtwECCDgmwIKIY5TOBvp6tDT3UVvM1e036Jaxa23np9xfW7UvKehsDkRDAAEEEEAAAQQQQAABBBDwTID5umf0DJxKgAURH9wO8+ZJTZvaEvlP3ZV68YsalvPXXCMtWeKDnEkBAQQQQAABBBBAAAEEEEAgqgLM16PKS/AgBdjAGCQUzRBAIH0BFkTSN/KkxcaZxk/mO9iG/u3uL3XF6B9t5//XqppurXGRJ6kyKAIIIIAAAggggAACCCCAgPMCzNedNyVi6AIsiIRu5niPjRulSpVsYV9pPFMPzr/Jcv6SS6Rt2xzPgIAIIIAAAggggAACCCCAAAI+E2C+7rOCxGk6bGCM08Jz2QhEQ4AFkWioOhDz5xXS2OtsgZLu+lDl3jispFPJls/+27icHry2rAMDEwIBBBBAAAEEEEAAAQQQQMAPAszX/VAFcmBBxAf3wMGD0vnn2xL5qNnLajHn35bzOXJIR44Yr3DK5IO8SQEBBBBAAAEEEEAAAQQQQCBqAszXo0ZL4BAE2MAYAhZNEUDg3AIsiPj0DjmwSxpR0Z7cLa/pmjmFtWv/Uctn7a4sqWduqeLTiyEtBBBAAAEEEEAAAQQQQACBUAWYr4cqRvtoCLAgEg3VMGKaGxjNjYypjtVN+6jG3CG2YHv3SvnzhzEGXRBAAAEEEEAAAQQQQAABBGJGgPl6zJQqQyfKBsYMXV4uDgF3BVgQcdc76NGSTkqDC0vJp6xdGg3QHeuv1PId+yznG5QvrDfvuSLo8DREAAEEEEAAAQQQQAABBBDwtwDzdX/XJ16yY0HEJ5WuXFnasMGSzM8N7lSJRRNtCa5fn+Ybp31yIaSBAAIIIIAAAggggAACCCDghADzdScUiRGpABsYIxWkPwIIpAiwIOLjm2F4eemvPdYEr+iihw601Ydrd1vOlyuSW/Mfru/jiyE1BBBAAAEEEEAAAQQQQACBUASYr4eiRdtoCbAgEi3ZEOM2bSrNm2fpdKhGfeVdtcgWaMECqVGjEOPTHAEEEEAAAQQQQAABBBBAIKYEmK/HVLkybLJsYMywpeXCEHBfgAUR982DHvG1BtLu1dbml92ooXkf1+jPt1nO58meResGNgk6NA0RQAABBBBAAAEEEEAAAQT8LcB83d/1iZfsWBDxSaU7d5bGjrUkc7LUJcr6o/X7IbPBhAlShw4+yZs0EEAAAQQQQAABBBBAAAEEoiLAfD0qrAQNUYANjCGC0RwBBM4uwIKIj++Oye2kLR9ZEyz+L71d+Q31n2l9bZDZ6NsBjZU3R1YfXxCpIYAAAggggAACCCCAAAIIBCvAfD1YKdpFU4AFkWjqhhB74EBpwABLh+Rs2ZQl8ZhOJWeynB8yROrTJ4TYNEUAAQQQQAABBBBAAAEEEIg5AebrMVeyDJkwGxgzZFm5KAS8EWBBxBv3oEb96L/S8tetTfMU08Jmi3TfWytsIeb+p64qXJg3qNA0QgABBBBAAAEEEEAAAQQQ8LcA83V/1ydesmNBxCeVHjdO6tTJlkzVIr9q3a8XWM537y6NHOmTvEkDAQQQQAABBBBAAAEEEEAgKgLM16PCStAQBdjAGCIYzRFA4OwCLIj4+O744nnpk6esCWZK0MZO29T85aW2xMffXUsNK1i/tPbx1ZEaAggggAACCCCAAAIIIIDAOQSYr3N7+EGABRE/VMHIYf58qUkTWzLtL1upSZtqWM43bix9+KGUPbtPcicNBBBAAAEEEEAAAQQQQAABxwWYrztOSsAwBNjAGAYaXRBAIG0BFkR8fGesmSx90NWW4MFu61R1xDrb+cEtK6t97VI+viBSQwABBBBAAAEEEEAAAQQQCFaA+XqwUrSLpgALItHUDSH2pk1SxYq2Dl0v/EBj9txsO581q1SlimRuZrz/fql06RDGoikCCCCAAAIIIIAAAggggIDvBZiv+75EcZEgGxjjosxcJALuCLAg4o5zWKP8sEh6y/4ldPJ9n6rSa7/ryIkkS9gHGpRR76YVwhqKTggggAACCCCAAAIIIIAAAv4SYL7ur3rEazYsiPik8ocOSXnz2pJ5UC/pFT14ziQzZZJuu0168UWpWDGfXA9pIIAAAggggAACCCCAAAIIRCTAfD0iPjo7JMAGRocgCYMAAhILIj6+C37/Tnqllj3B1pPUaE4eff/bX5bPbqleXCNaX+7jCyI1BBBAAAEEEEAAAQQQQACBYAWYrwcrRbtoCrAgEk3dEGPnyycdOGDpNFSPqq+GBhXI7D56tNS6dVDNaYQAAggggAACCCCAAAIIIOBjAebrPi5OHKXGBsY4KjaXikC0BVgQibZwBPGPG7+uH3KRPUDz4eqwvpoWf/e75bMrShfQu12uimBAuiKAAAIIIIAAAggggAACCPhFgPm6XyoR33mwIOKf+v9ZtLIK7tlgSWiS2qm9JoWU5MiRUvfuIXWhMQIIIIAAAggggAACCCCAgM8EmK/7rCBxmg4bGOO08Fw2AtEQYEEkGqoOxhxSQjp+0BqwzsPqc+BWTVn+k+X8RfnP05JHr3VwcEIhgAACCCCAAAIIIIAAAgh4JcB83St5xk0twIKIP+6HqVONZ2WFOAAAIABJREFUN0i3aaZmmmtJ6HPVUwN9HnKSU6bwJMaQ0eiAAAIIIIAAAggggAACCPhIgPm6j4oRx6mwgTGOi8+lI+C0AAsiTos6HO/lK6Q/tliDVm2jkef/V/9bYLxiOtWRNSGTNg9qpoTMmRxOgnAIIIAAAggggAACCCCAAAJuCzBfd1uc8dISYEHE+/ti1y6pcmVp2P7O6qyxloR+UGmV0Q8hJ2m+TnqD8TDHYsVC7koHBBBAAAEEEEAAAQQQQAABHwgwX/dBEUhBbGDkJkAAAccEWBBxjDI6gd66WfphkTV26XqaXvlV/XfaWtuYyx67TkXy5ohOLkRFAAEEEEAAAQQQQAABBBBwTYD5umvUDHQOARZEvL89br9dmjFD6q+njD9PWhI6rmw6T0eVrMwhJ2rGnTYt5G50QAABBBBAAAEEEEAAAQQQ8IEA83UfFIEU2MDIPYAAAs4JsCDinGVUIr3fTVr7jjV0vlL6qtkctR2/xjbk+w9creol80clFYIigAACCCCAAAIIIIAAAgi4J8B83T1rRjq7AAsi3t4d27dLZcpIycnSPRpn/OlkS6iI9ug3FQk50UzGCzy2bZNKlw65Kx0QQAABBBBAAAEEEEAAAQQ8FmC+7nEBGD4gwBMYuREQQMAxARZEHKN0PtC+HcZP7DtLP39ji52cOavWnyyuL05V1TtJ1+rn5AsCbV5pV0M3VC3qfC5ERAABBBBAAAEEEEAAAQQQcFWA+bqr3Ax2FgEWRLy9Nfr2lYYO/TuHRlpg/GlsS6imVmiVaoaVaJ8+0pAhYXWlEwIIIIAAAggggAACCCCAgIcCzNc9xGfoFAE2MHIzIICAYwIsiDhG6Vygg7ulOY9Km2YZMY2f2KdznErOpDmnamlgYkd1bn61Ote7JL0ufI4AAggggAACCCCAAAIIIOBzAebrPi9QnKTHgoi3ha5p7EtctervHCpok/Gnoi2hlnpfM9UyrETN+CtWhNWVTggggAACCCCAAAIIIIAAAh4KMF/3EJ+hUwTYwMjNgAACjgmwIOIYpTOB1s+QZj8sHTsQcrwDyTm14JI+ur1jj5D70gEBBBBAAAEEEEAAAQQQQMBfAszX/VWPeM2GBRHvKn/8uJQnj5SY+HcOuXXI+JPXltCDekmv6MGwEs2WTTp0SDL/5kAAAQQQQAABBBBAAAEEEIgdAebrsVOrjJwpGxgzcnW5NgRcFmBBxGXwcw339WhprvHkxUiPZsOkK7tEGoX+CCCAAAIIIIAAAggggAACHgowX/cQn6FTBFgQ8e5m2LpVKlfOOv4+5TP+WH/0+qx6q4+eDTvR776TypYNuzsdEUAAAQQQQAABBBBAAAEEPBBgvu4BOkPaBNjAyE2BAAKOCbAg4hhlZIHMJy9OvzeyGKl73z5Oqnybc/GIhAACCCCAAAIIIIAAAggg4KoA83VXuRnsLAIsiHh3a6xbJ1Wtah3/W1Ux/qy3nJykdmqvSWEn+u23UpUqYXenIwIIIIAAAggggAACCCCAgAcCzNc9QGdImwAbGLkpEEDAMQEWRByjDD/Qwd3SqNphvTb6rIPmOF96YJmUt2j4edETAQQQQAABBBBAAAEEEEDAMwHm657RM3AqARZEvLsd0noC48dqZvyZa0lqseqqvhaHnShPYAybjo4IIIAAAggggAACCCCAgGcCzNc9o2fg1N8bJRsHIggggIATAiyIOKEYYYypd0mbPowwSBrdK94stXrL+bhERAABBBBAAAEEEEAAAQQQiLoA8/WoEzNAEAIsiASBFKUmx49LefJIiYn/DDBG9xt/XreM+INKq4x+CCuLbNmkQ4ck828OBBBAAAEEEEAAAQQQQACB2BFgvh47tcrImfIExoxcXa4NAZcFWBBxGfzM4fbtkF683DgbjX3pmaQea6T8F3t8kQyPAAIIIIAAAggggAACCCAQqgDz9VDFaB8NARZEoqEafMyaNaVVq/5p319PGX+etAQ4oazKoWPGN0uZgw/8/y3N+CtWhNyNDggggAACCCCAAAIIIIAAAh4LMF/3uAAMHxBgAyM3AgIIOCbAgohjlOEFWjhAWjIivL7B9KrzsNTIGIMDAQQQQAABBBBAAAEEEEAgpgSYr8dUuTJssiyIeFvavn2loUP/yeFujTf+3GtLqoj26DcVCTnZPn2kIUNC7kYHBBBAAAEEEEAAAQQQQAABjwWYr3tcAIYPCLCBkRsBAQQcE2BBxDHK8AKNqSf9sja8vsH0Kmo83bHL58G0pA0CCCCAAAIIIIAAAggggICPBJiv+6gYcZwKCyLeFn/7dqlMGeO9Hf//4o5GWmD8aWxL6l9arpX6V0jJZjJe3LFtm1S6dEjdaIwAAggggAACCCCAAAIIIOADAebrPigCKbCBkXsAAQScE2BBxDnLkCOdPC49U1w6lRhy16A7JGST+u6Sshh/cyCAAAIIIIAAAggggAACCMSMAPP1mClVhk6UBRHvy3v77dKMGX/nUV6bjT+X2ZJqqfc1Uy1DStaMO21aSF1ojAACCCCAAAIIIIAAAggg4BMB5us+KUScp8ETGOP8BuDyEXBSgAURJzVDjPWn8TP3l2qE2CmM5t1XSQWNn+tzIIAAAggggAACCCCAAAIIxIwA8/WYKVWGTpQFEe/Lu8v4XWrlytL+/VIu/WX8yWNLqrtG6mV1DzrZfPmkDRukYsWC7kJDBBBAAAEEEEAAAQQQQAABHwkwX/dRMeI4FTYwxnHxuXQEnBZgQcRp0RDi/Wp8U/zq1SF0CLNpt6VSkUphdqYbAggggAACCCCAAAIIIICAFwLM171QZ8wzBVgQ8cc9MXWq1KbN37nsVX7jj7GbMdUxTL30qIYFneyUKVLr1kE3pyECCCCAAAIIIIAAAggggIDPBJiv+6wgcZoOGxjjtPBcNgLREGBBJBqqQcbkCYxBQtEMAQQQQAABBBBAAAEEEIg/Aebr8VdzP14xCyL+qcpLL0kPPSR9qyrGn/WWxN5RW92pd4JKduRIqXvwD2sMKiaNEEAAAQQQQAABBBBAAAEE3BVgvu6uN6OlLcAGRu4MBBBwTIAFEccoQw908rj0THHpVGLofYPtkZBN6mu8ayiL8TcHAggggAACCCCAAAIIIIBAzAgwX4+ZUmXoRFkQ8Vd5zScxFmjfXNefnGNJ7AvVUT19cc5kzddGjx7Nkxf9VVGyQQABBBBAAAEEEEAAAQTCE2C+Hp4bvZwVYAOjs55EQyCuBVgQ8bj8Y+pJv6yNXhJFL5e6fB69+ERGAAEEEEAAAQQQQAABBBCIigDz9aiwEjREARZEQgRzofnh9l2Ua9JrlpG262Jdou1pjp4pk3TbbdKLL0rFirmQIEMggAACCCCAAAIIIIAAAghEXYD5etSJGSAIATYwBoFEEwQQCE6ABZHgnKLWauEAacmIqIVXnYelRsYYHAgggAACCCCAAAIIIIAAAjElwHw9psqVYZNlQcSHpR00SHriCUtiJ5RVOXRMycpsOX/11dLEiVLp0j68DlJCAAEEEEAAAQQQQAABBBAIW4D5eth0dHRQgA2MDmISCoF4F2BBxOM7YN8O4yfwxlMSja+YnT+Mn9j3WCPlv9j50EREAAEEEEAAAQQQQAABBBCIqgDz9ajyEjxIARZEgoRys9mbb0r33GMb8YoSv2j5TxdazrdvL739tpvJMRYCCCCAAAIIIIAAAggggIAbAszX3VBmjPQE2MCYnhCfI4BA0AIsiARNFb2GU++SNn3ofPyKN0ut3nI+LhERQAABBBBAAAEEEEAAAQSiLsB8PerEDBCEAAsiQSC53WThQun6622j9rjqG438qpbl/DXXGC/+WOJ2goyHAAIIIIAAAggggAACCCAQbQHm69EWJn4wAmxgDEaJNgggEJQACyJBMUW30cHd0qja0rEDjo1zLCGPcvRYLuUt6lhMAiGAAAIIIIAAAggggAACCLgnwHzdPWtGOrsACyI+vDu2bJEqVLAlNrrJe+o27xbL+eLFpZ9/9uE1kBICCCCAAAIIIIAAAggggEBEAszXI+Kjs0MCbGB0CJIwCCAgsSDik7tg/Qxp+r2OJTO+6BO6p0tPx+IRCAEEEEAAAQQQQAABBBBAwF0B5uvuejNa2gIsiPjwzjh8WMqd25bYwhtf1PWzHrKcz5RJOnpUyp7dh9dBSggggAACCCCAAAIIIIAAAmELMF8Pm46ODgqwgdFBTEIhEO8CLIj46A5YNkaa0zvihJ5M7KgNF7XR9G5XRxyLAAgggAACCCCAAAIIIIAAAt4IMF/3xp1RrQIsiPj0jihQQNq3z5Lc5ht76bJZw2wJf/edVLasT6+DtBBAAAEEEEAAAQQQQAABBMISYL4eFhudHBZgA6PDoIRDIJ4FWBDxWfXNJzHOfjis10kfSM6pfomdNPvUVSqe7zx92edan10c6SCAAAIIIIAAAggggAACCAQrwHw9WCnaRVOABZFo6kYQu2pVad06S4A/r2+jQgsm24LOny9df30EY9EVAQQQQAABBBBAAAEEEEDAdwLM131XkrhMiA2McVl2LhqB6AiwIBId14iiHvxFmvuotPFDI0xyuqGSlUkfJ9XSQOPJi78pf6B9QuZM2jKoqbIkZE63Pw0QQAABBBBAAAEEEEAAAQT8J8B83X81iceMWBDxadVvuEH6+GNLcolX1lG2ZV/YEh5jvPDj/vt9eh2khQACCCCAAAIIIIAAAgggEJYA8/Ww2OjksAAbGB0GJRwC8SzAgoiPq79vh7TyTWnbZ9JvG6WkE/Zk8xTTvCvHq8vsP22fLTWewFjMeBIjBwIIIIAAAggggAACCCCAQOwJMF+PvZplxIxZEPFpVbt0kV57zZJccqlSyv37Dh05Ys25b1/pmWd8eh2khQACCCCAAAIIIIAAAgggEJYA8/Ww2OjksAAbGB0GJRwC8SzAgkiMVP+ksXlx5gPG64GmWRPOfaG+vnWp2rz2te1CZnS7SjVLFYiRCyRNBBBAAAEEEEAAAQQQQACB1ALM17kf/CDAgogfqpBGDoMHS/37Wz/IkkVVyh3X+o3Wt3G0aSNNtr9Z2qcXRloIIIAAAggggAACCCCAAALBCDBfD0aJNtEWYANjtIWJj0AcCbAgEkPF/nKktOCML6eN9H9+4AfV+Z99A+PIttV1U7ViMXSBpIoAAggggAACCCCAAAIIIHBagPk694IfBFgQ8UMV0sjhzTele+6xfXDXdbs18ZOilvO1a0tffeXT6yAtBBBAAAEEEEAAAQQQQACBsASYr4fFRieHBdjA6DAo4RCIZwEWRGKo+hs+kKZ1tCV8ousylX9xm5KTrR/1aVZBXeuXiaELJFUEEEAAAQQQQAABBBBAAIHTAszXuRf8IMCCiB+qkEYOn3wiNWpk+2DY7d/o0em1LOeLFJH27PHpdZAWAggggAACCCCAAAIIIIBAWALM18Nio5PDAmxgdBiUcAjEswALIjFU/d2rpdca2BO+c4aueFf67dBxy2cdryqlgTdXjqELJFUEEEAAAQQQQAABBBBAAIHTAszXuRf8IMCCiB+qkEYOW7ZIFSrYPpjZcYZaTrjVdv7IEem883x6LaSFAAIIIIAAAggggAACCCAQsgDz9ZDJ6BAFATYwRgGVkAjEqwALIjFU+SN7pWGl7Qnf8LxafnOZ1vy03/JZo8uKaGzHf8XQBZIqAggggAACCCCAAAIIIIDAaQHm69wLfhBgQcQPVUgjh8OHpdy5bR+suedFVR//kO38pk1p7nf06cWRFgIIIIAAAggggAACCCCAQHoCzNfTE+JzNwTYwOiGMmMgECcCLIjEUKHNd0QPKSGdOGRN+uqH9MDvLfXxOuv7gCoVy6uPHqobQxdIqggggAACCCCAAAIIIIAAAqcFmK9zL/hBgAURP1ThLDkUKCDt22f58Ne7/qsL337O1uHjj6VmzXx8LaSGAAIIIIAAAggggAACCCAQkgDz9ZC4aBwlATYwRgmWsAjEowALIjFW9VevkX5db026YksNzvmoxi7ZbjmfP2dWrX6icYxdIOkigAACCCCAAAIIIIAAAgiYAszXuQ/8IMCCiB+qcJYcqlWTvv3W8uHxW1orx/tTbB1GjZK6dfPxtZAaAggggAACCCCAAAIIIIBASALM10PionGUBNjAGCVYwiIQjwIsiMRY1Se3k7Z8ZE26WHWNqzheT83eaLuYTU811XnZEmLsIkkXAQQQQAABBBBAAAEEEECA+Tr3gB8EWBDxQxXOksMNN0jmoxVTHcnXXKN865bo4EFrn169pGHDfHwtpIYAAggggAACCCCAAAIIIBCSAPP1kLhoHCUBNjBGCZawCHghcOTIES1evFirV68O/LNq1Sr98MMPSjZeF9y6dWtNmWL/1bSTebIg4qSmC7Hm9pW+Nn42n/o4r4Dm3rBUXSeusiXwSc/6KlM4twuJMQQCCCCAAAIIIIAAAggggICTAszXndQkVrgCLIiEK+dCv65dpTFjrAOVLKlq+X4888GMuuMO6d13XciJIRBAAAEEEEAAAQQQQAABBFwRYL7uCjODpCPABkZuEQQykMCiRYvUsGHDNK+IDYwZqNBOXcrXr0pz+9iire+wQS1eW2s7/3anK1S3bGGnRicOAggggAACCCCAAAIIIICASwJsYHQJmmHOKcCCiI9vkMGDpf79rQlmyaJbmh3TB7Osb+OoVUv65hsfXwupIYAAAggggAACCCCAAAIIhCTAfD0kLhpHSYANjFGCJSwCXgiYGxhvvfVWVatWTdWrVw/887///U9r1qzhCYxeFMTvY242Xg00pa0ty30dF6n6mN2288/eVkWta5X0+1WRHwIIIIAAAggggAACCCCAwBkCbGDklvCDAAsifqjCWXKYMEG6+27bh0902qVBbxSznC9USPr9dx9fC6khgAACCCCAAAIIIIAAAgiEJMB8PSQuGkdJgA2MUYIlLAJeCCQlJSkhwfqr6AYNGujzzz9nA6MXBfH7mL9ukF692pZlcpt3VH5iZp04ecryWY/ryurh68v5/arIDwEEEEAAAQQQQAABBBBA4AwBNjByS/hBgAURP1ThLDl88onUqJHtw8n/WaZ2L1xhO3/okJQ7t4+vh9QQQAABBBBAAAEEEEAAAQSCFmC+HjQVDaMowAbGKOISGgE/CLCB0Q9V8GkOx41vm4dcZE+u6VA1+KKCdvx5xPLZHTUv0nN3VPPpxZAWAggggAACCCCAAAIIIIDA2QTYwMi94QcBFkT8UIWz5PDdd1L58rYPv+k9XVcOu812ft06qXJlH18PqSGAAAIIIIAAAggggAACCAQtwHw9aCoaRlGADYxRxCU0An4QYAOjH6rg4xyeLS0d3WtNsPYDavfTzVq67U/L+WsuLahJ99X28cWQGgIIIIAAAggggAACCCCAQFoCbGDkvvCDAAsifqjCWXI4YvyINVcu24e7er2gi57rYTs/a5bUooWPr4fUEEAAAQQQQAABBBBAAAEEghZgvh40FQ2jKMAGxijihhr6kPHujTVr1mjlypVatWpV4O8tW7bIfC2weZQqVUo7duwINWzQ7c3YpUsbm5lCPIoUKaI9e/aE2Ct2mrtRl127dmnixIn68MMPAzX+448/VKhQIV188f+xdyfwNtX7/8ff5xznoEzhl6lExzzLVVeDaDB0k4pQqVs0/8PVSBRS0XTd6CLJUMZ07q1UlFtUKt2QzCUdKhooheQ403+t7TpZ9mFPa+291tqvdR6/R7e9v9/P9/N9ftfvd3/f9f3u9a2lSy65RL1791aNGjWiQmMDY1RsyVNpUjtp+6fW/tb/i+5Mu1dZK7+1fH5q5eP1zl1GeS4EEEAAAQQQQAABBBBAAAFPCbCB0VPD5dtkWRBx+dBWqiT9bP2R64HefVR2xngdUElL8mPHSv36ubw/pIcAAggggAACCCCAAAIIIBCWAPP1sJgo5LAAGxgdBg43fH3jiI5NmzapsLDwqFXYwBiupn3l4jEuEydO1F133aXffvvtqImXKVNGTzzxhG6++eaIO8cGxojJkqvCi9dK61+x9rlKE/09c4rGvvOl5fOSJVK1cWQnHf7/wCQXFr1FAAEEEEAAAQQQQAABBLwpwAZGb46b37JmQcTFI5qdLZ1xhrRjR1CSB5SuNWqqt9RBk3STjJ/A6447pCefdHF/SA0BBBBAAAEEEEAAAQQQQCBsAebrYVNR0EEBNjA6iBtJ6HA2BMV7A2Pbtm1VunTpkN2oWLGiZs2aFbKcFws4PS4PPvighg0bZqGpU6dO4G2L5lsZv/zSuoFs5MiRGjp0aESUbGCMiCv5Cr91v/Sh8bP5w6+S5TTnvKUa9O+1QR4rhl6gSmWsv7pPPjR6jAACCCCAAAIIIIAAAgh4S4ANjN4aL79my4KIC0fWeP6oAcYR0f/6l4xf1odMsEApylI3vdn5KU1+o3rI8hRAAAEEEEAAAQQQQAABBBBwvwDzdfePUTJkyAZGl4zyof+DcPzxx6t58+Y67bTT1KpVK82dO1cLFy4MZBnvDYzZxi9vzSOMk/lyclzM46K7du1axNuoUSM9//zzgXE/dJnHiF977bVav3590WevvPJK4FjpcC82MIYrlaTlPpksvX5nUOc/6LZcV8/8Iujz1/qdrSY1yicpFt1GAAEEEEAAAQQQQAABBLwpwAZGb46b37JmQcRlI2o8d9Ytt0i//BJxYrvTKqjczIlSz54R16UCAggggAACCCCAAAIIIICAuwSYr7trPJI1GzYwumTkZ86cGdi0aB5ZnJqaWpTVddddp+nTpwf+PRk2MB44cEC///67ypePfoPUjz/+qBNPPNGWkXVqXHJzc2VuWDz0hsWTTjpJn332mcy3WR55/fzzz2rWrFngjYzmVbdu3cCGxhIlSoTVRzYwhsWUvIU2/Uea2S2o/990f0PnzAh+gP3MNa3UsXHV5PWi5wgggAACCCCAAAIIIICABwXYwOjBQfNhyiyIuGhQxxqncZhvXoz1MuP06xdrFOojgAACCCCAAAIIIIAAAggkUID5egLxabpIgA2MLr8ZkmkDo7l5sVu3bvruu++0aNEinXDCCRGPzv33369nnnlGixcvVuPGjSOuH26FWMflhRdeCLxZ8dD14osv6oorrjhq8+b3PQ/7RbNZv3fv3mGlywbGsJiSt9AO4y2L/2wd1P/9l01Vg9nBR0UP69JI159VO3m96DkCCCCAAAIIIIAAAggg4EEBNjB6cNB8mDILIi4ZVPPNi7162ZfMnDm8idE+TSIhgAACCCCAAAIIIIAAAnEXYL4ed3IaLEaADYwuvy1i3SgXSfe2bNmi2rX/2JgU7yOkL7vsMr388suBlFu2bBnYxFipUqWwuzB48GCNHj06UN58A+OyZcss/Qk7UBgFYx2XLl266LXXXgu0VL16dW3duvWYb1TMy8sLvIFz+/btgTrmEdLmUdLhXGxgDEcpicvk7pcerhIMcOFINf9PA/36e67lu5vanqr7LmqYxGB0HQEEEEAAAQQQQAABBBDwngAbGL03Zn7MmAURF4yqecJLkyZRHRt91OwrVJDWrTMfcrqgg6SAAAIIIIAAAggggAACCCAQqQDz9UjFKO+EABsYnVC1MWasG+UiSSXRGxhnzZoVeCthfn5+IG3z2OS3335blStXDtmNe+65R48//nhRucsvv1xzjF//pqenh6wbTYFYxsU8Itt8u2ROTk6g6T59+ui5554LmYZZburUqYFypUqV0q5duwL/DHWxgTGUEN/rifrS3u+tEK1vUOcvL9WG73ZbPv9Ls2r651WngYYAAggggAACCCCAAAIIIOAhATYwemiwfJwqCyIuGNzu3aWsLPsTMePOm2d/XCIigAACCCCAAAIIIIAAAgg4LsB83XFiGghDgA2MYSAlskgsG+UizTvRGxjNfGfPnq1rrrmmaBNj06ZNA5sY/+///u+o3bnjjjs0ZsyYou+7Gw/MzDglSpSIlCDs8rGMy8qVK9WqVauitszNi+bmxFCXWe6GG24oKmbGMd9UGepiA2MoIb7X5Aulb/9rhahzofrm3au3N/5o+fy0mhX0r9vOAg0BBBBAAAEEEEAAAQQQQMBDAmxg9NBg+ThVFkQSPLjZ2VJmplRYaH8iKSnS5s0yjsOxPzYREUAAAQQQQAABBBBAAAEEHBVgvu4oL8HDFGADY5hQiSoWy0a5SHM+cgNjjx49tGHDBn399dcy3xpYwTgOpEaNGjrzzDNlHoHcoUMHHf5/yCJt72jlzTcn9u7du2gTY6NGjfTOO++oSpXgY2779++vcePGFYW64oorZL7J0cnNi2ZjsYzLCy+8EHjT5KHrvffe0znnnBOSzyx37rnnFpWbMWOGrr766qB65psZD73F0vyya9eu+vDDD2Ue0T1p0qSi8ubbKcuXLx+y3UgKsCASiZaLymYZG2PXHPEr+cr1df9JU/TCsq2WRKuWK6Vl953vouRJBQEEEEAAAQQQQAABBBBAIJQA8/VQQnwfDwEWROKhfIw2Bg+WRo92LolBg6RRo5yLT2QEEEAAAQQQQAABBBBAAAFHBJivO8JK0AgF2MAYIVi8i8eyUS7SXI/cwBiqfuPGjfXss8+qTZs2oYpG/P3cuXMDmxjz8vICdRs2bBjYxFi1atXAvxcavxS+/fbbNX78+KLYPXv2lLmpz+nNi2aDsYzLyJEj9cADDxTlbbqfcsopIY22bt2qWrVqFZUz4wwdOjSonlnGLBvqMjdDLlmyJFSxYr//8UfrW/kOFTr11FP122+/qUyZMtqzZ09UsamUAIG3R0rvP2FtuERpTThrqR5983PL5+YP6r94qLPS01ITkChNIoAAAggggAACCCCAAAIIRCPABsZo1KhjtwALInaLRhjPPBHGONHFscuMv3y5Y+EJjAACCCCAAAIIIIAAAggg4IwA83VnXIkamQAbGCPzinvpWDaUQPC8AAAgAElEQVTKRZrskRsYK1WqZJwqkqlDD7k3G8eA7Ny50xLW3Cw4ceJE9e3bN9LmQpafN2+errrqqqJNjPXr1w9sYqxWrZpuueUWy9sEr7zySplvNkxLSwsZ144CsYzL3XffrSee+GOz2C+//BLWmxDNcieccEJR+vfcc48effTRoO7EYwNjqDdvsoHRjrssjjFWTJfm9w9qcGGnd3XLy9uCPp994xk67ZQTVLJEfP73LY4SNIUAAggggAACCCCAAAII+FKADYy+HFbPdYoFkQQOWU6OjIe8Um6uc0lkZMj4RbNk/pMLAQQQQAABBBBAAAEEEEDAMwLM1z0zVL5OlA2MLh/eWDbKRdo1cwNj9+7d1adPH3Xu3Fm1a9cOCrFixQrjpJHReumll4q+MzcNvv766+rYsWOkTYYsb7Zjbk489CbGunXr6vTTT9fMmTOL6pqbHJ9//vm4bV40G45lXG699dbAps9DV47xADEjjAd7ZrlSpUoV1TPjHP4GypCYNhZgA6ONmG4I9dUS6fmuQZksbTdbvRcWFpthelqK6lctq3Pq/p+uOr2mTq54nBt6Qg4IIIAAAggggAACCCCAAALFCLCBkdvCDQIsiCRwFDZtkurVcz6BL76QjOe3XAgggAACCCCAAAIIIIAAAt4RYL7unbHyc6ZsYHT56MayUc7Jro0bN079+//xxrY6depo/fr1Sk9Pt73ZrKws9erVq2gT4+ENmMdMT5s2La6bF832YxmXG264Qc8991xRN/Lz85WaGvo43oKCAks/zTjmEd6JuDhCOhHqDrb5c7Y0tkVQA/0P3K5XC84M2bB5rHTnJlU1rEtjVSn3xybbkBUpgAACCCCAAAIIIIAAAgggEBcBNjDGhZlGQgiwIJLAW2TNGqlZM+cTWL1aatrU+XZoAQEEEEAAAQQQQAABBBBAwDYB5uu2URIoBgE2MMaAF4+qsWyUczo/89joKVOmFDVjvi2xW7dujjRrHifdo0cPS2zz32fPnh3W5j+7k4plXAYMGKCxY8cWpfTbb7/puONCv73OLGcezXzoMuP84x//sLtrMcVjQSQmvsRVzjeOD3roRKmwwJLDY7k9ND7/0rDzKleqhB6+rKm6NK8edh0KIoAAAggggAACCCCAAAIIOC/AfN15Y1oILcCCSGgjx0rwBkbHaAmMAAIIIIAAAggggAACCHhdgPm610fQH/mzgdHl4xjLRjmnu/bVV18pMzOzqBlzQ+PkyZNtb9Z8Q6HpMGPGDEts84jrxYsX65RTTrG9zVABYxmXIUOG6JFHHilqYseOHapcuXKoJmWWO/FEY5PZ/66hQ4dq5MiRIevFswALIvHUtrmtMU2kX7+xBJ2V11735d0YcUPDuzTSdWcFH0EfcSAqIIAAAggggAACCCCAAAII2CLAfN0WRoLEKMCCSIyAsVTPyZHKlpVyjR+xOnVlZEh79kjmP7kQQAABBBBAAAEEEEAAAQQ8I8B83TND5etE2cDo8uGNZaNcPLpWq1Ytbd26NdDUWWedpaVLl9rarLl58dprr9WsWbOK4qalpcn83LzMzYvmJkZzM2M8r1jGxXxr4sCBA4vSXW0crdI0jKNVzHLNmzcvqmfGMd/C6KaLBRE3jUZkuex8+gJV3vmJpdL7+U10Te59kQX6X+lxV7bkTYxRyVEJAQQQQAABBBBAAAEEELBfgPm6/aZEjFyABZHIzWyt0aqVtHKlrSEtwcz4y5c7F5/ICCCAAAIIIIAAAggggAACjggwX3eElaARCrCBMUKweBePZaNcPHJt06aNli1bFmiqfv362rhxo23N5uXlqXfv3po7d25RzDvuuEMXX3xx4H/27dsX+LxmzZp65513LG+DtC2JowSKZVwWLlyozp07F0WeP39+oD+hLrPcJZdcUlTszTffVIcOHUJVi+v3LIjEldu2xr7/db+WjempS7XEEnNLQRW1OzAmqnbM46QX3XGuqpQrFVV9KiGAAAIIIIAAAggggAACCNgnwHzdPksiRS/Agkj0drbUHDxYGj3allDFBhk0SBo1yrn4REYAAQQQQAABBBBAAAEEEHBEgPm6I6wEjVCADYwRgsW7eCwb5eKRq/lGQPPNgObVokULffrpp7Y0a25evOqqqzRv3ryieHfffbcee+yxwL+/9957+stf/qK9e/cG/v2kk04KvImxTp06trQfKkgs4/LNN98ENl0eukaMGKEHHnggVJMyyw0fPryonBnH7LebLhZE3DQa4edy64wVqrfhnxqYnmWpdKAwTQ1ypqtAqeEHO6zkRU2ravzVxq/vuRBAAAEEEEAAAQQQQAABBBIqwHw9ofw0/j8BFkQSfCtkZ8v4BbhUWGh/Iikp0ubNMo7JsT82ERFAAAEEEEAAAQQQQAABBBwVYL7uKC/BwxRgA2OYUIkqFstGOadzzsnJUcWKFYvehNipUyctWLAg5mZzc3N15ZVXKivrj81Ug4xf8I464he85nHV5psMD21irF69emATY7169WLOIVSAWMfF3Gi52XyoZ1znnXee3n777VBNBsqZ/TMvs/6mTZtC1ol3ARZE4i0ee3vf/LxPbR9frMtS3tPfMyYGBWyzf5y+U6WoGjKfXb93d3udXPG4qOpTCQEEEEAAAQQQQAABBBBAwB4B5uv2OBIlNgEWRGLzs6V29+4yHrraEsoSxIx72A/R7W+AiAgggAACCCCAAAIIIIAAAk4JMF93Spa4kQiwgTESrQSUjXWjnJMpz549O/CWxEPXQw89pCFDhsTUpLl5sUePHnr55ZeL4pgxzdjFXR9++GFgE+Pu3bsDX1erVi1wnHSDBg1iyiNU5VjH5Z577tHjjz8eaCY1NVXZxi+gD38r45Htf/3118YPmGuroKAg8JVZ/9FHHw2VZty/Z0Ek7uQxN/jowo2asGSzWqds1LySDwbF65Fzv/5b2DDqdm5tl6l7Ozn7v49RJ0dFBBBAAAEEEEAAAQQQQCBJBJivJ8lAu7ybLIi4YIC2bZOaNJF++cW2ZAorVFDKunWS8eNyLgQQQAABBBBAAAEEEEAAAe8JMF/33pj5MWM2MLp8VGPdKOdU93788Ue1bt1a5sY68zI34a1du1YNG0a/0enAgQO64oor9Oqrrxalff/99+vBB4M3VR3er48//lgdO3bUr7/+Gvi4SpUqgU2MjRo1cqr7inVcNmzYoKZNmyo/Pz+Q4w033KBnn332qPma3z/33HOB79PS0rRmzZqYrJ2CYUHEKVnn4l487n2t3bZbVfWTlpXqF9TQnQduUVZB26gTaFqjvOb3Ozvq+lREAAEEEEAAAQQQQAABBBCIXYD5euyGRIhdgAWR2A1tiTB3rtSrly2hzCC7J81RuRt72haPQAgggAACCCCAAAIIIIAAAvEVYL4eX29aK16ADYwuvzNi3Si3ZcuWwJv7Dl1//etfNW3atKBef/TRR5o+fboGDhyo+vXrH1PF3DzXy3jItX79+qJyZp5Tp06NSfPSSy/VK6+8UhRj+PDhGjZsWFgxP/nkE3Xo0MH48fDBXw+feOKJMvt06qmnhlU/0kKxjovZXt++fTVlypSipidNmqQbb7wxKBXz85tvvrnoc7Pe5MmTI005LuVZEIkLs22N5OTlq8mwN5WbX6hUFWhjyb8qI+XgptpD15jcbnoqv1vUbWakGZubR3RURonUqGNQEQEEEEAAAQQQQAABBBBAIDYB5uux+VHbHgEWROxxtCXKuHFS//4xh+qnsbrm4346/fSYQxEAAQQQQAABBBBAAAEEEEAgQQLM1xMET7MWATYwuuSGMI9ILu6YZPNI5UPHBpuplixZMijjtm3b6q233iq2J+FuYFyyZInat28fiNG8eXOdd955atasmapWrapDD7m//PJLvfnmm3r99dctObVs2VJm/XLlysWkaR5Jfc011wTeSjhy5EgNHTo0ongrVqzQhRdeqF27dqlbt26aM2eOSpQoEVGMIws7NS5mOzt37tSf//xnbd68uajZLl26BDaHVjeOXNm+fXugD/Pnzy/6vk6dOoGNmZUrV46pX05VZkHEKVln4mbv/E3tn1hSFHxxxkDVTv3B0thL+W11V+4tMSWw+K52ql35+JhiUBkBBBBAAAEEEEAAAQQQQCB6Aebr0dtR0z4BFkTss7QlkvkmxluMZz5RHCe9SxV0iybqRfWUGaZHD1syIggCCCCAAAIIIIAAAggggEACBJivJwCdJoME2MDokpvCfNvgiBEjosrm3HPPDWwgLO6KZgNjJEmYG+7MtwjataFu1qxZgWOpBw0aFEkaRWU//fRTPf3003rmmWdi3rxoBnVqXA4lvGnTpsDx19nZ2SH7a75J09yoam5idOvFgohbR6b4vDZ+v1ud/vF+0ZfPp49S27Q1lsIfFzRQzwMPxNSxhX87Rw2qxrbBOaYEqIwAAggggAACCCCAAAIIJLkA8/UkvwFc0n0WRFwyEIenYfyAWgMGSFlZUmFhyAQLlKIsddMAPaXvVD1QfvRo6d57Q1alAAIIIIAAAggggAACCCCAgEsFmK+7dGCSLC02MLpkwJ3aKBfuBsatW7cG3ni4bNkymW9aPNaVmpqq888/X7fffrsuueQSlwg6k4ZT43J4tnv37tWQIUMCR3j/+uuvQR0pX768zKO/H374YZUpU8aZjtoUlQURmyDjFObINzA+UuJZXVVisaX1bwsr6+ycsTFlxBsYY+KjMgIIIIAAAggggAACCCAQswDz9ZgJCWCDAAsiNiA6FcL8cfWkSdKiRdIa48etBw4Et2T8qLrNnre07Ifalu/MlzhOmOBUYsRFAAEEEEAAAQQQQAABBBBwWoD5utPCxA9HgA2M4SglWZmffvpJq1ev1o4dO2T+Z/NI5oyMDFWoUEGZmZlq3bq16zfSeXHI9u/fr3fffVfmplPTvVKlSqpVq5batWtX7NHhbuwjCyJuHJWj55STl68mw95Ubv7BX9jflvaK7kk3zv057MovTFH9nOnKU3THsWekpWrtiI7KKJHqLRyyRQABBBBAAAEEEEAAAQR8JMB83UeD6eGusCDikcEzNy9efrn0+uvWhBs21DmV1mvpUuvHnTpJCxZ4pG+kiQACCCCAAAIIIIAAAgggECTAfJ2bwg0CbGB0wyiQAwI+EWBBxHsDefG497V22+5A4l1SP9S4jKeDOtE2Z4y+LqwSVeea1iiv+f3OjqoulRBAAAEEEEAAAQQQQAABBOwRYL5ujyNRYhNgQSQ2v7jWNk7qMY6DsTZp/MD92u779MKsNMvn9etLGzfGNTsaQwABBBBAAAEEEEAAAQQQsFGA+bqNmISKWoANjFHTUREBBI4UYEHEe/fEows3asKSzYHEW6Zs0r9LDgvqxNUHBuuDgqZRde7Wdpm6t1ODqOpSCQEEEEAAAQQQQAABBBBAwB4B5uv2OBIlNgEWRGLzi2vtadOk668PavLJ/lt119ials9LlZL27ZNSUuKaIY0hgAACCCCAAAIIIIAAAgjYJMB83SZIwsQkwAbGmPiojAAChwuwIOK9++Gbn/ep7eOLVWicIl1Zv2p5qVuDOnFv7o2am98+4s6ZD67fu7u9Tq54XMR1qYAAAggggAACCCCAAAIIIGCfAPN1+yyJFL0ACyLR28W9pnlO9DnnBDW74K63ddET5wV9vn27VK1a3LOkQQQQQAABBBBAAAEEEEAAARsEmK/bgEiImAXYwBgzIQEQQOCQAAsi3rwXbp2xQgvWfm8kX6j1JfvouJQcS0eezuuqJ/J6Rty5i5pW1firW0VcjwoIIIAAAggggAACCCCAAAL2CjBft9eTaNEJsCASnVtCan1vPCcqZkfixoHPqOGYm4JS+vBDqU2bhGRKowgggAACCCCAAAIIIIAAAjEKMF+PEZDqtgiwgdEWRoIggIApwIKIN++D73/drw5j3tXu/Xl6K+Nu1UvdZunIK/lnakDu7RF1rlypElp0x7mqUs44R4gLAQQQQAABBBBAAAEEEEAgoQLM1xPKT+P/E2BBxEO3gnlUR9my0m+/WZL+5aZ7dMKkR4M6MnOmdNVVHuofqSKAAAIIIIAAAggggAACCBQJMF/nZnCDABsY3TAK5ICATwRYEPHuQM7/bLv6zf5UU9If03lpqywdWVFQV90OjIioc+OubKkuzatHVIfCCCCAAAIIIIAAAggggAACzggwX3fGlaiRCbAgEplXwku3aCF99pkljYJLL1f6q1kqKLBm9/DD0n33JTxjEkAAAQQQQAABBBBAAAEEEIhCgPl6FGhUsV2ADYy2kxIQgeQVYEHE22M/7YNspSy4W38tscjSkR8LK+j0nPFhd254l0a67qzaYZenIAIIIIAAAggggAACCCCAgLMCzNed9SV6eAIsiITn5JpS3btLWVnWdJo1U61fP9PWrdaPb7xRmjTJNZmTCAIIIIAAAggggAACCCCAQAQCzNcjwKKoYwJsYHSMlsAIJJ8ACyLeH/N1Lz2sxmsfC+pI/f3TlKOMY3bQPDb64cua8uZF798G9AABBBBAAAEEEEAAAQR8JsB83WcD6tHusCDisYEbNEh69Ijjoo87Tu3+tFfvvpdi6cwFF0iLrL+H9VhnSRcBBBBAAAEEEEAAAQQQSF4B5uvJO/Zu6jkbGN00GuSCgMcFWBDx+ACa6a9/RXrx2qCOnJ/zuDYX1ii2gynGM+vOTapqWJfGqlKulA8Q6AICCCCAAAIIIIAAAggg4C8B5uv+Gk+v9oYFEY+N3OTJkvlqxSOuv/XYrqderGb5tE4dadMmj/WPdBFAAAEEEEAAAQQQQAABBAICzNe5EdwgwAZGN4wCOSDgEwEWRHwwkNtXGWf+nBvUkb559+rtvOZBn5/f4EQNv6SxTq54nA86TxcQQAABBBBAAAEEEEAAAX8KMF/357h6rVcsiHhsxJYskdq3D0p66vXvqc/Ucyyfp6dLv/8upaV5rI+kiwACCCCAAAIIIIAAAgggwAZG7gFXCLCB0RXDQBII+EOABREfjOPvu4zjgWoFdeRAx8fVaH4N5RVYv+p/Xh3d0aG+DzpOFxBAAAEEEEAAAQQQQAAB/wowX/fv2HqpZ2xg9NJoGbl+841Us2ZQ0h/0naKzn7s+6HOz+EkneayPpIsAAggggAACCCCAAAIIIJDQDYx79uzRqlWrtGLFCq1cuTLwz88//1z5+fmBkTnllFO0ZcuWiEbJLF+7du2I6piFq1Spou+//z7ielSwR4ANjPY4EgUBBAwBFkR8chuMMh5O5/xq7cyZ/XTemgv01Y7fLJ9f0ry6xl7Z0icdpxsIIIAAAggggAACCCCAgD8FmK/7c1y91is2MHpsxAqMX7EeZ5y4kZNjSfzr3vfplBkPB3Xmvfekc6wvZvRYh0kXAQQQQAABBBBAAAEEEEhOgUTN1+vXr69NmzapsLDwqPBsYEyee5INjMkz1vQUAccFWBBxnDg+DUw4W/phjbWtRl3Vd18/vb3xR8vnzU8qr1duN8pzIYAAAggggAACCCCAAAIIuFaA+bprhyapEkvUgkhSIdvd2caNpfXrLVF/u7iHyrw2N6il55+XrrnG7gSIhwACCCCAAAIIIIAAAggg4LRAoubrh7d7tD7asYGxbdu2Kl26dEjGihUratasWSHLUcAZATYwOuNKVASSUoAFEZ8M+5yrpY2vWTtTrYUerD5BUz7ItnxevnS6PhvWwScdpxsIIIAAAggggAACCCCAgD8FmK8nflw5EkkJPZIq8XeARzPo2lV69VVL8oWnnaaM1SuUl2ft04MPSvff79F+kjYCCCCAAAIIIIAAAgggkMQCid7AePzxx6t58+Y6zZhvtmrVSnPnztXChQsDI2LHBsbs7GzVqlUriUfYG11nA6M3xoksEfCEAAsinhim0EkuvE9a9k9rudIn6Pm2S/TAK+uC6n96/4U64fiM0HEpgQACCCCAAAIIIIAAAgggkBAB5usJYS9qlCORDlIkakEksaPv8dbvvFP6+9+tnShfXpkVd+mr7BTL59dfL02Z4vH+kj4CCCCAAAIIIIAAAgggkIQCiZqvz5w5M7Bp0XxukpqaWiR/3XXXafr06YF/ZwNj8tyQbGBMnrGmpwg4LsCCiOPE8Wlg2URp4b1BbX1wxae6+oUNQZ//+7Yz1bLmCfHJjVYQQAABBBBAAAEEEEAAAQQiFmC+HjGZrRU4EukgZ6IWRGwdzGQLNmGCdNttQb2+/Jwd+vf7lS2ft28vvfNOsgHRXwQQQAABBBBAAAEEEEDA+wJum6+zgdH791Q0PWADYzRq1EEAgWIFWBDxyY3x+QJpdq+gznx35dtqM/WHoM//0bOFLm1ZwyedpxsIIIAAAggggAACCCCAgP8EmK8ndkwPLQQk+5FIblsQSexd4ZHWFy2SOnQISvaRLh9pyPw/Wz43T+MyTuXiQgABBBBAAAEEEEAAAQQQ8JiA2+brbGD02A1kU7psYLQJkjAIICCxIOKTu+CH9dKENkGdye8xU/VnpCqvoNDy3YDz62rghfV80nm6gQACCCCAAAIIIIAAAgj4T4D5emLHlCORDvq7bUEksXeFR1o3dySeempQsi93e0GXZfW2fJ6WJu3fL5Uo4ZG+kSYCCCCAAAIIIIAAAggggIAr5+tsYEzOG5MNjMk57vQaAUcEWBBxhDX+QXP2SqOKeaNip9Fqv7Shsnf+Zsnp0hbV9Y9eLeOfJy0igAACCCCAAAIIIIAAAgiEJcB8PSymuBdKtgfybGCM+y0We4N5edJxx0m5uZZYqy8bpub/Hh4Uf8sW6ZRTYm+WCAgggAACCCCAAAIIIIAAAvETcNt8Pdmel8RvpN3dEhsY3T0+ZIeApwRYEPHUcB072ceMX9fv+8la5oxbdf33l2vx5zssn7c4uYJe/n9n+ajzdAUBBBBAAAEEEEAAAQQQ8JcA83V3jmeyPZB324KIO+8KF2ZVv770xReWxH7scLWqvDUjKNnFi6V27VzYB1JCAAEEEEAAAQQQQAABBBA4qoDb5ut2Py/p0aOHNmzYoK+//lq///67KlSooBo1aujMM89Uly5d1KFDB8upEdwqiRFgA2Ni3GkVAV8KsCDio2Gd1F7avtLaofoXafjxQzXtwy2Wzyscl65VD3TwUefpCgIIIIAAAggggAACCCDgLwHm6+4cT7sfyGcbx/3WqlXLnZ01snLbgohrodyW2F/+Ir3xhiWrAy3PUMlPlwVlOnWqdN11busA+SCAAAIIIIAAAggggAACCBxLwG3zdbufl4Qa/caNG+vZZ59VmzZtQhXlewcF2MDoIC6hEUg2ARZEfDTi84ynzev+be3QiY01rflMDZ+/Pqijqx64UBWOy/ARAF1BAAEEEEAAAQQQQAABBPwjwHzdnWNp9wN5NjC6c5w9n1X//tK4cZZuFFaqpNJ7dyonx9q7Bx6QRozwfI/pAAIIIIAAAggggAACCCCQVAKHb2AsU6ZM2H0fPHiw7rvvvrDLh1vQ7ucllYw5bGZmpg49H9u8ebN27txpSadEiRKaOHGi+vbtG26alLNZgA2MNoMSDoFkFmBBxEejv8h44vzBU9YOZZTVkstX6Lppy4M6+opxhHRz4yhpLgQQQAABBBBAAAEEEEAAAfcJMF9335iYGdn9QN7tRyK57Y0O7rwrXJjV2LHSgAFBibXO/FnLN59g+fzaa6Xp013YB1JCAAEEEEAAAQQQQAABBBA4qsDh8/VImIYNG6bhw4dHUiWssnY8L+nevbv69Omjzp07q3bt2kHtrlixQqNHj9ZLL71U9F1aWppef/11dezYMaw8KWSvABsY7fUkGgJJLcCCiI+G/5PnpNfvCOrQ133Xqu0/Vwd9/lSvFuraooaPAOgKAggggAACCCCAAAIIIOAfAebr7hxLOx7IF/cQ/mi9TfSRSGxgdOd9GDIr8/ho8xjpI67bz/hE//z4T5ZPTztNmjNHqllTKlkyZGQKIIAAAggggAACCCCAAAIIuEDAb29gjIR0nHHiQH/z5IH/XXXq1NH69euVnp4eSRjK2iDABkYbEAmBAAIHBVgQ8dGd8OV/pBndgjqU1/cd1Z/wg/ILCi3fDbygngZcUNdHAHQFAQQQQAABBBBAAAEEEPCPAPN1d46l3RsY430k0iOPPKJRo0aFjbt3796isoWF1ucKYQehYPwFvvhCql8/qN2xbWZrwEe9is3HXOdp2lTq0EG66SYZb7uIf9q0iAACCCCAAAIIIIAAAgggEJ6A235wGOvzkvB6/Ucp89joKVOmFH1gvpWxW7fgvRKRxqV8ZAJsYIzMi9IIIHAMARZEfHR77NwkPW39FX2gd1dMV7s3ymvLT/ssnb28ZQ39vWcLHwHQFQQQQAABBBBAAAEEEEDAPwLM1905lrE+kN+yZYsSeSSSeUzUiBEjosJlA2NUbImpdOCAVLq0VFBgaX+oHtLDGhIyp5QUGQs/0lNPSdWrhyxOAQQQQAABBBBAAAEEEEAAgTgLJPsGxq+++kqZmZlF6uaGxsmTJ8d5FGiODYzcAwggYJsACyK2USY+UO5+6eEqwXlc+KD++nkbvfvFDst3p9WsoH/ddlbi8yYDBBBAAAEEEEAAAQQQQACBIAHm6+68KWLdwBhJr5w4Eok3MEYyAh4ve+qpUna2pRNTdZ36aGrYHatQQZo4UerZM+wqFEQAAQQQQAABBBBAAAEEEIiDQLJvYDSJa9Wqpa1btwa0zzrrLC1dujQO8jRxuAAbGLkfEEDANgEWRGyjdEegJxtIe76z5vKnvhqW30fTPzr4X96HrorHZ2jl/Re6I2+yQAABBBBAAAEEEEAAAQQQsAgwX3fnDRHPDYymQKKPRHLbgog77wqXZmWeBb1okSW593W22ur9iBMeO1bq1y/ialRAAAEEEEAAAQQQQAABBBBwSMBt8/V4Py8xWdu0aaNly5YFhOvXr6+NGzc6pE3YowmwgVCZY1EAACAASURBVJF7AwEEbBNgQcQ2SncEeq6j9M3B/5IuuupcqCm1HteDr60PyvGzYR1UvnS6O3InCwQQQAABBBBAAAEEEEAAgSIB5uvuvBni/UA+0UciuW1BxJ13hTuz+rLDbaqzaIIlue9UVdV1xA9fw0x/zhzexBgmFcUQQAABBBBAAAEEEEAAAccF3DZfj/fzEhO4efPmWr16dcC6RYsW+vTTTx13pwGrABsYuSMQQMA2ARZEbKN0R6CsG6U1L1pzqVxPiy94XddP+yQox/m3n62mJ5V3R+5kgQACCCCAAAIIIIAAAgggUCTAfN2dN0MiHsgn8kgkty2IuPOucF9W27ZJ4+v8XQ/vvzMouTLao99UJuKkzeOk162TqlePuCoVEEAAAQQQQAABBBBAAAEEbBZw23w93s9LcnJyVLFiRe3bty8g26lTJy1YsMBmZcKFEmADYyghvkcAgbAFWBAJm8obBd95SHrvcWuuaRn6uud/dMGUbB2Q9W2LY69sqUua8+TZG4NLlggggAACCCCAAAIIIJBMAszX3Tna8X4gbyok8kgkty2IuPOucF9W3btLB7Je1avqGpRcc63SajWPKmkz7rx5UVWlEgIIIIAAAggggAACCCCAgI0Cbpuvx/t5yezZs3XVVVcViT700EMaMmSIjcKECkeADYzhKFEGAQTCEmBBJCwm7xR6f4z09vBi8z1QmKbPC0/W+wXNNCv/PH1beKLuvLCe+p1f1zv9I1MEEEAAAQQQQAABBBBAIEkEmK+7c6Dj/UDeVEjkkUhuWxBx513hrqyys6XMTKlB4XqtV+Og5LrpJf1L3aJKOiVF2rxZql07qupUQgABBBBAAAEEEEAAAQQQsEnAbfP1eD4v+fHHH9W6dWt9/fXXAc3U1FStXbtWDRs2tEmXMOEKsIExXCnKIYBASAEWREISeaPA7u3SgnulDfONfAtD5lxQmKIFBa21vMEgDbv6/JDlKYAAAggggAACCCCAAAIIIBBfAebr8fUOt7V4PpA3c0r0kUhuWxAJd5ySudzgwdLo0VIp/W78HRdEca9G6zEZz5CivAYNkkaNirIy1RBAAAEEEEAAAQQQQAABBGwRcNt8PZbnJR999JGmT5+ugQMHqn79+sf0WbNmjXr16qX169cXlTPbnjp1qi2uBIlMgA2MkXlRGgEEjiHAgogPbo+1WdJrA6X9v0bcmb0pZVSm21ipSXS/vI+4QSoggAACCCCAAAIIIIAAAgiEJcB8PSymuBeK5YF8NMkm+kgkty2IRGOYbHVatZJWrjzY6691svH3rYXgWd2gm/Rs1Cxm/OXLo65ORQQQQAABBBBAAAEEEEAAARsEEjVfN49qNv/nyCs3N1cFBQVFH5csWTKoTNu2bfXWW28Ffb5kyRK1b98+8Ll5CsV5552nZs2aqWrVqjr0fOzLL7/Um2++qddff93STsuWLWXWL1eunA2qhIhUgA2MkYpRHgEEjirAgojHb45lE6WF0f9qvqj3nR+TzrjZ4xikjwACCCCAAAIIIIAAAgj4R4D5ujvHMp4bGN1wJFKiFkTcOfruzyonR8bijmSsGwWud9Te+FtiSXyx2uk8LY66MxkZ0p49kvlPLgQQQAABBBBAAAEEEEAAgcQIJGq+Pnz4cI0YMSKqTp977rmBzYZHXodvYIwkcJcuXTRlyhRVrlw5kmqUtVGADYw2YhIKgWQXYEHEw3eA+ebFl/rY14HuU3gTo32aREIAAQQQQAABBBBAAAEEYhJgvh4Tn2OVY9nA6MUjkRK1IOLYAPo88KZNUr16f3Rykm40/iZbem2+lfEU492MsVxffCHVrRtLBOoigAACCCCAAAIIIIAAAgjEIpCo+boTGxi3bt2qoUOHatmyZTLftHisKzU1Veeff75uv/12XXLJJbEQUtcGATYw2oBICAQQOCjAgohH74Td26Xxf47q2Oij9rhUeem2j6Vy1TyKQtoIIIAAAggggAACCCCAgH8EmK8ndiw5Eumgf6IWRBI7+t5tfc0aGcds/ZH/PXrU+BsU1KHS2qf9Kh11R1evlpo2jbo6FRFAAAEEEEAAAQQQQAABBGIU8Ot8/aefftJqY9K5Y8cOmf95165dxgkAGapQoYIyMzPVunVrlSlTJkY9qtslwAZGuySJgwACbGD06j0w9xppw6v2Z9+oq9TjefvjEhEBBBBAAAEEEEAAAQQQQCAiATYwRsRle2En3ijgxSOR/LogYvsN45KAR76B8XJlGX/dg7JrpHXaoEZRZ80bGKOmoyICCCCAAAIIIIAAAgggYIsA83VbGAkSowAbGGMEpDoCCPwhwIKIB++GXVukp1oYiRc6kHyKNGCVdEItB2ITEgEEEEAAAQQQQAABBBBAIFwB5uvhSjlTzokNjF48EokFEWfuL6ei5uSYp61IubkHW2imz4w/8xmS9bpEr2i+ojtqy3jxhfbskfEGDKd6QVwEEEAAAQQQQAABBBBAAIFQAszXQwnxfTwE2MAYD2XaQCBJBFgQ8eBA/2e4tHSMc4mfPVC6wGiDCwEEEEAAAQQQQAABBBBAIGECzNcTRh+Xhr1yJBILInG5HWxtpFUraeXKgyGP117jz9jReMR1h57UGN0RVbtm/OXLo6pKJQQQQAABBBBAAAEEEEAAAZsEmK/bBEmYmATYwBgTH5URQOBwARZEPHg/PNNW+u4z5xKvZvwy/+Z3nYtPZAQQQAABBBBAAAEEEEAAgZACzNdDElEgDgIsiMQB2eYmBg+WRo/+I+h2VTP+vre0Ml636v9pfFQtDxokjRoVVVUqIYAAAggggAACCCCAAAII2CTAfN0mSMLEJMAGxpj4qIwAAocLsCDisfshzzgL6JEaUsH/zgJyIv004wygwdukEpwF5AQvMRFAAAEEEEAAAQQQQACBcASYr4ejRBmnBVgQcVrY/vjZ2VJmplRYeDD2ezrH+FtqaegtXaiOeivixlNSpM2bpdq1I65KBQQQQAABBBBAAAEEEEAAARsFmK/biEmoqAXYwBg1HRURQOBIARZEPHZP/GQ8JR53mvNJ9zPOGqpkPO3mQgABBBBAAAEEEEAAAQQQSIgA8/WEsNPoEQIsiHjzlujeXcrKOpj7VF1n/E23dOQr1Vamvoq4c2bcefMirkYFBBBAAAEEEEAAAQQQQAABmwWYr9sMSrioBNjAGBUblRBAoDgBFkQ8dl/8sE6acKbzSd/6oVSlsfPt0AICCCCAAAIIIIAAAggggECxAszXuTHcIMCCiBtGIfIcthkHazRpIv3yizREDxl/91uC5CtVpfW7chX+6RsVKkjrjMdS1atHng81EEAAAQQQQAABBBBAAAEE7BVgvm6vJ9GiE2ADY3Ru1EIAgWIEWBDx2G3BGxg9NmCkiwACCCCAAAIIIIAAAghEJ8B8PTo3atkrwIKIvZ7xjDZ3rtSrl9RTc4y/K4OarqfPtUn1wk5pzhwjVs+wi1MQAQQQQAABBBBAAAEEEEDAQQHm6w7iEjpsATYwhk1FQQQQCCXAgkgoIZd9n5cjPVJDKsh1LrE049f3g42f6pcI/1f4ziVDZAQQQAABBBBAAAEEEEAgOQWYryfnuLut1yyIuG1EIstn3Dhpev/lWq7WQRU76w0tVOewAo4dK/XrF1ZRCiGAAAIIIIAAAggggAACCMRBgPl6HJBpIqQAGxhDElEAAQTCFWBBJFwpF5V7pq303WfOJVSthXTzu87FJzICCCCAAAIIIIAAAggggEBIAebrIYkoEAcBFkTigOxwE/96bpcuv6FiUCv9NFZP69i7Es1joydO5M2LDg8R4RFAAAEEEEAAAQQQQACBiAWYr0dMRgUHBNjA6AAqIRFIVgEWRDw48v8ZLi0d41ziZw+ULjDa4EIAAQQQQAABBBBAAAEEEEiYAPP1hNHT8GECLIj443bIr1hZabt+snTmKfXX3/RUsR1MSZG6dZOeMr6uXt0fBvQCAQQQQAABBBBAAAEEEPCTAPN1P42md/vCBkbvjh2ZI+A6ARZEXDckoRPatcV4gmy8JVGFoctGXMJ4Qj1glXRCrYhrUgEBBBBAAAEEEEAAAQQQQMA+Aebr9lkSKXoBFkSit3NVzT//Wfr4Y0tKC1Iu0kWFrweledFF0tNPS7Vru6oHJIMAAggggAACCCCAAAIIIHCYAPN1bgc3CLCB0Q2jQA4I+ESABRGPDuTca6QNr9qffKOuUo/n7Y9LRAQQQAABBBBAAAEEEEAAgYgEmK9HxEVhhwRYEHEINt5he/eWZs60tFpQt56O/+Zz7d9vTebOO6Unnoh3grSHAAIIIIAAAggggAACCCAQiQDz9Ui0KOuUABsYnZIlLgJJKMCCiEcHffd2abzx6/n9v9rWgfyM8kq73fg1frlqtsUkEAIIIIAAAggggAACCCCAQHQCzNejc6OWvQIsiNjrmbBow4dLI0ZYm09P1+lN9umTT0tYPjffwPh68IsZE5Y6DSOAAAIIIIAAAggggAACCAQLMF/nrnCDABsY3TAK5ICATwRYEPHwQK7Nkl7qY1sHVp3xd7Xo3Ne2eARCAAEEEEAAAQQQQAABBBCIXoD5evR21LRPgAUR+ywTGmnGDOka4zSPI647Lv1KY162nhVtHh391VcJzZbGEUAAAQQQQAABBBBAAAEEQggwX+cWcYMAGxjdMArkgIBPBFgQ8fhAfvyMtOCemDsxLPevqtZhgG45NzPmWARAAAEEEEAAAQQQQAABBBCIXYD5euyGRIhdgAWR2A1dEWHZMqlNm6BUZl3/lq6eeqHl85QUae9e6bjjXJE5SSCAAAIIIIAAAggggAACCBQjwHyd28INAmxgdMMokAMCPhFgQcQHA2m+ifG1gVEdJ/1r4XEakttXrxW0Ua/WJ2t0t2Y+AKELCCCAAAIIIIAAAggggID3BZive38M/dADFkT8MIpGH3bskE48Magzq24ar5aTbg36fOVKqWVLn/SdbiCAAAIIIIAAAggggAACPhRgvu7DQfVgl9jA6MFBI2UE3CrAgohbRybCvHZ/Jy28V1r/qlGxMGTlAqVoQX5rjTDevPijTgiU//OpFTXnpuBf44cMRgEEEEAAAQQQQAABBBBAAAHbBZiv205KwCgEWBCJAs2NVQqNZ0UVKki7d1uy+/m6O1Rp2pNBGc+cKV11lRs7Qk4IIIAAAggggAACCCCAAAKmAPN17gM3CLCB0Q2jQA4I+ESABRGfDOShbuzaIq2YJm1eLP24Xso/ENzBai30WPnBGr8q3/JdtfKl9NHg830GQncQQAABBBBAAAEEEEAAAW8KMF/35rj5LWsWRHw0oq1aSearFQ+7Ci7pqlILXlZurrWfQ4ZIDz3ko77TFQQQQAABBBBAAAEEEEDAZwLM1302oB7tDhsYPTpwpI2AGwVYEHHjqNiUU56xeXHyBdL3n1kD1m6ribX+odELNgY1tHFkJ5VKT7MpAcIggAACCCCAAAIIIIAAAghEK8B8PVo56tkpwIKInZoJjtWzp/Tii9YkGjdW48K1Wm/8Bvbw6/LLpaysBOdL8wgggAACCCCAAAIIIIAAAkcVYL7OzeEGATYwumEUyAEBnwiwIOKTgTxaN165Xfr0Beu3ZatpYcfFumWG9Vf3ZqE3/9ZW9auW9TkK3UMAAQQQQAABBBBAAAEE3C/AfN39Y5QMGbIg4qNRNl+r+Mgj1g6VKqUef/lN87JSLZ83bKigTY0+kqArCCCAAAIIIIAAAggggIDnBZive34IfdEBNjD6YhjpBALuEGBBxB3j4FgWH46T3hoaFP6L69epw4Qj3sxolHrmmlbq2LiqY+kQGAEEEEAAAQQQQAABBBBAIDwB5uvhOVHKWQEWRJz1jWv0qVOlPn2CmnxiwDe6+6mTLJ+XKCHt2yelp8c1QxpDAAEEEEAAAQQQQAABBBAIU4D5ephQFHNUgA2MjvISHIHkEmBBxOfj/cVb0qwrgjq5/69vqsEzPwV9ft9FDXRT20yfo9A9BBBAAAEEEEAAAQQQQMD9AszX3T9GyZAhCyI+GuX335fatg3q0NtDF+uCh9oFfW4eK22+iZELAQQQQAABBBBAAAEEEEDAfQLM1903JsmYERsYk3HU6TMCDgmwIOIQrFvC/pwtjW0RnE3X8TpjQRX9sDvH8t2Vp9fUqMubuiV78kAAAQQQQAABBBBAAAEEklaA+XrSDr2rOs6CiKuGI7ZkvvtOql49KMY3Dzyrmg/eEPR5VpZ0+eWxNUltBBBAAAEEEEAAAQQQQAABZwSYrzvjStTIBNjAGJkXpRFA4BgCLIj4/PYoyJceMR5O5+23dvSsv6nHV5303+yfLZ+fmVlJs278s89R6B4CCCCAAAIIIIAAAggg4H4B5uvuH6NkyJAFER+NcmGhVKbMwbOhD7tyr+2jxs8P0lbV1AGVLPpm5Ehp6FAf9Z+uIIAAAggggAACCCCAAAI+EmC+7qPB9HBX2MDo4cEjdQTcJsCCiNtGxIF8Jpwt/bDGGrj+Rbo3fbDmLv/G8nmNCqX1waDzHEiCkAgggAACCCCAAAIIIIAAApEIMF+PRIuyTgmwIOKUbILimmdCb9xYbOMHlK41aqq31EGTdJPOvKq2Zs5MUJ40iwACCCCAAAIIIIAAAgggcEwB5uvcIG4QYAOjG0aBHBDwiQALIj4ZyGN146U+0lrj3J/Dr4qZGt/sRT228HPLxykp0oYHO6lUeloSwNBFBBBAAAEEEEAAAQQQQMC9AszX3Ts2yZQZCyI+Ge1t26QBAyTzXOgwrgKl6O0K3XThuqeKPXY6jBAUQQABBBBAAAEEEEAAAQQQcFCA+bqDuIQOW4ANjGFTURABBEIJsCASSsgH3y8ZLS0ZZe1ISqoWdl2lW+asDergooFtVbdKWR90nC4ggAACCCCAAAIIIIAAAt4VYL7u3bHzU+YsiPhgNOfOlW65Rfrll4g7U1ihglImTpR69oy4LhUQQAABBBBAAAEEEEAAAQScE2C+7pwtkcMXYANj+FaURACBEAIsiCTBLbL2X9JL1wd1dHP3/+j8GT8Gff7stX/ShY2qJAEMXUQAAQQQQAABBBBAAAEE3CvAfN29Y5NMmbEg4vHRHjv24JsXY73MOP36xRqF+ggggAACCCCAAAIIIIAAAjYJMF+3CZIwMQmwgTEmPiojgMDhAiyIJMH98MM6acKZQR3df9lUNZhdMujzIRc11I1tT00CGLqIAAIIIIAAAggggAACCLhXgPm6e8cmmTJjQcTDo22+ebFXL/s6MGcOb2K0T5NICCCAAAIIIIAAAggggEBMAszXY+Kjsk0CbGC0CZIwCCAgsSCSBHdB7n7pkWpSYYG1s+2HqPXS07RjT47l86vPqKmHL2uaBDB0EQEEEEAAAQQQQAABBBBwrwDzdfeOTTJlxoKIR0d72zapSZOojo0+ao+N46S1zviRbPXqHkUhbQQQQAABBBBAAAEEEEDAPwLM1/0zll7uCRsYvTx65I6AywRYEHHZgDiVzlMtpF3Z1uhNuqvHzhv03y0/Wz4/u05lzbjhDKcyIS4CCCCAAAIIIIAAAggggEAYAszXw0CiiOMCLIg4TuxMA927S1lZ9sc2486bZ39cIiKAAAIIIIAAAggggAACCEQkwHw9Ii4KOyTABkaHYAmLQDIKsCCSJKM+q6f0xUJrZ6s2092Vnta8Fd9aPj/phNJaeu95SQJDNxFAAAEEEEAAAQQQQAABdwowX3fnuCRbViyIeHDEs40fsGZmGidxFNqffEqKtHmzVLu2/bGJiAACCCCAAAIIIIAAAgggELYA8/WwqSjooAAbGB3EJTQCySbAgkiSjPhb90sfjrV2tkRp/fPM9/T4W5ssn6caz6I3jOykkiXSkgSHbiKAAAIIIIAAAggggAAC7hNgvu6+MUnGjFgQ8eCoDx4sjR7tXOKDBkmjRjkXn8gIIIAAAggggAACCCCAAAIhBZivhySiQBwE2MAYB2SaQCBZBFgQSZKRXvmC9OrtQZ19p+N/1OeVH4M+n3Z9a7XJrMQmxiS5PegmAggggAACCCCAAAIIuE+A+br7xiQZM2JBxIOj3qqVtHKlc4mb8Zcvdy4+kRFAAAEEEEAAAQQQQAABBEIKMF8PSUSBOAiwgTEOyDSBQLIIsCCSJCP9zX+l5y4M6uyn5zyryxYdXyxCelqK6lctq3Pq/p+uOr2mTq54XJJg0U0EEEAAAQQQQAABBBBAIPECzNcTPwZkILEg4rG7ICdHKltWys11LvGMDGnPHsn8JxcCCCCAAAIIIIAAAggggEBCBJivJ4SdRo8QYAMjtwQCCNgmwIKIbZTuDvT7L9KjpwTlODK3t57Lvyhk7inGsdKdm1TVsC6NVaVcqZDlKYAAAggggAACCCCAAAIIIBCbAPP12PyobY8ACyL2OMYtyqZNUr16zjf3xRdS3brOt0MLCCCAAAIIIIAAAggggAACxQowX+fGcIMAGxjdMArkgIBPBFgQ8clAhtONJ4wH2Ht/sJScldde9+XdGE7tQJlypUro4cuaqkvz6mHXoSACCCCAAAIIIIAAAggggEDkAszXIzejhv0CLIjYb+poxDVrpGbNHG0iEHz1aqlpU+fboQUEEEAAAQQQQAABBBBAAIFiBZivc2O4QYANjG4YBXJAwCcCLIj4ZCDD6ca0i6Ut71tK/regvnocGBZObUuZ4V0a6bqzakdcjwoIIIAAAggggAACCCCAAALhCTBfD8+JUs4KsCDirK/t0XkDo+2kBEQAAQQQQAABBBBAAAEE3CjAfN2No5J8ObGBMfnGnB4j4JgACyKO0bou8JbpN6tW9hxLXj8XltFpOZOiynXclS15E2NUclRCAAEEEEAAAQQQQAABBEILMF8PbUQJ5wVYEHHe2NYWcnKksmWl3Fxbw1qCZWRIe/ZI5j+5EEAAAQQQQAABBBBAAAEEEiLAfD0h7DR6hAAbGLklEEDANgEWRGyjdHWg73/dr6ljBmmwpgbl2XL/RO1SuYjzN4+TXnTHuapSrlTEdamAAAIIIIAAAggggAACCCBwbAHm69whbhBgQcQNoxBhDq1aSStXRlgpguJm/OXLI6hAUQQQQAABBBBAAAEEEEAAAbsFmK/bLUq8aATYwBiNGnUQQKBYARZEkuPGuHXGCu1ev0gzM0YFdfiKnAf0SWGDqCAualpV4682HlxzIYAAAggggAACCCCAAAII2CrAfN1WToJFKcCCSJRwiaw2eLA0erRzGQwaJI0Kfr7kXINERgABBBBAAAEEEEAAAQQQOFKA+Tr3hBsE2MDohlEgBwR8IsCCiE8G8hjd+ObnfWr7+GJVKfxJy0r1Cyo5OLevZuefHxVESor03t3tdXLF46KqTyUEEEAAAQQQQAABBBBAAIHiBZivc2e4QYAFETeMQoQ5ZGdLmZlSYWGEFcMobj4I2rxZql07jMIUQQABBBBAAAEEEEAAAQQQcEqA+bpTssSNRIANjJFoURYBBI4pwIKI/2+QRxdu1IQlxsNlFWpNyRtUNuV3S6efy+uskXnXRA1xa7tM3dspujc4Rt0oFRFAAAEEEEAAAQQQQAABnwswX/f5AHukeyyIeGSgjkyze3cpK8v+5M248+bZH5eICCCAAAIIIIAAAggggAACEQkwX4+Ii8IOCbCB0SFYwiKQjAIsiPh/1C8e977Wbtsd6OjLGUPVIvUrS6eX5DfXdbn3Rg3RtEZ5ze93dtT1qYgAAggggAACCCCAAAIIIBAswHydu8INAiyIuGEUoshh2zapSRPpl1+iqHyUKhUqSOvWSdWr2xeTSAgggAACCCCAAAIIIIAAAlEJMF+Pio1KNguwgdFmUMIhkMwCLIj4e/Rz8vLVZNibys0/eGzQk+kT1C3tfUunvy2srLNzxkYNkZGWqrUjOiqjRGrUMaiIAAIIIIAAAggggAACCCBgFWC+zh3hBgEWRNwwClHmMHeu1KtXlJWLqTZnjtSzp33xiIQAAggggAACCCCAAAIIIBC1APP1qOmoaKMAGxhtxCQUAskuwIKIv++A7J2/qf0TS4o6eVvaK7on3XiAfcTVcP8U/a5SUWMsvqudalc+Pur6VEQAAQQQQAABBBBAAAEEELAKMF/njnCDAAsibhiFGHIYN07q3z+GAAer9tNYjd7bT8fz6CdmSwIggAACCCCAAAIIIIAAAnYIMF+3Q5EYsQqwgTFWQeojgECRAAsi/r4ZNn6/W53+8ccbFzukfqJJGWOCOv2XnIe1rrB21BgL/3aOGlQtF3V9KiKAAAIIIIAAAggggAACCFgFmK9zR7hBgAURN4xCjDmYb2K85ZaojpPepQq6RRP1onpq+XKpVasYc6E6AggggAACCCCAAAIIIICALQLM121hJEiMAmxgjBGQ6ggg8IcACyL+vhuOfAPjqSnb9U7Ju4I63f/A/9OrBWdFjcEbGKOmoyICCCCAAAIIIIAAAgggUKwA83VuDDcIsCDihlGwIYft26UBA6SsLKmwMGTAAqUoS900QE/pO1UPlH/hBal375BVKYAAAggggAACCCCAAAIIIBAHAebrcUCmiZACbGAMSUQBBBAIV4AFkXClvFkuJy9fTYa9qdz8gw+nSyhPG0per/SUfEuHxuZdqr/n9YiqkxlpqVo7oqMySqRGVZ9KCCCAAAIIIIAAAggggAACwQLM17kr3CDAgogbRsHGHLKzpUmTpEWLpDVrpAMHgoIXtvqTGqx+UV/kWk/quO8+6eGHbcyFUAgggAACCCCAAAIIIIAAAlELMF+Pmo6KNgqwgdFGTEIhkOwCLIj4/w64eNz7Wrttd1FHF2Xcrbqp2ywdfyP/dN2W+7eoMJrWKK/5/c6Oqi6VEEAAAQQQQAABBBBAAAEEihdgvs6d4QYBFkTcMAoO5WBuXjz9dOmzz6wNtG+vpjve0dq11o8vvVT6978dyoWwCCCAAAIIIIAAAggggAACEQkwmRWnsAAAIABJREFUX4+Ii8IOCbCB0SFYwiKQjAIsiPh/1B9duFETlmwu6uiE9DHqnPaJpeNfFNRQhwOPR4Vxa7tM3dupQVR1qYQAAggggAACCCCAAAIIIFC8APN17gw3CLAg4oZRcDCHm26Snn3W2kDFiupx3k7NeynF8nn9+tLGjQ7mQmgEEEAAAQQQQAABBBBAAIGwBZivh01FQQcF2MDoIC6hEUg2ARZE/D/i3/y8T20fX6zCg6dI684SL6pfiZctHT9QmKaGOdOUr7SIQFKMZ9nv3d1eJ1c8LqJ6FEYAAQQQQAABBBBAAAEEEDi2APN17hA3CLAg4oZRcDCHf/5Tuv32oAaeHPit7hpTw/J5mvHIaN8+KSPDwXwIjQACCCCAAAIIIIAAAgggEJYA8/WwmCjksAAbGB0GJjwCySTAgkhyjPatM1ZowdrvA529NHWp/pExPqjj7XOeVHZhtYhALmpaVeOvbhVRHQojgAACCCCAAAIIIIAAAgiEFmC+HtqIEs4LsCDivHFCW3j/falt26AU3r33DbV7tHPQ5+ax0o0bJzRjGkcAAQQQQAABBBBAAAEEEDAEmK9zG7hBgA2MbhgFckDAJwIsiPhkIEN04/tf96vDmHe1e3+emqR8pddKDg2qceOBO7So4E9hg5QrVUKL7jhXVcqVCrsOBRFAAAEEEEAAAQQQQAABBMITYL4enhOlnBVgQcRZ34RH/+UX6YQTgtL4rv8oVR87KOjzefOk7t0TnjUJIIAAAggggAACCCCAAAJJL8B8PelvAVcAsIHRFcNAEgj4Q4AFEX+MYzi9mP/ZdvWb/alKa782lOoTVOXR3F6akH9JOKECZcZd2VJdmlcPuzwFEUAAAQQQQAABBBBAAAEEwhdgvh6+FSWdE2BBxDlb10SuVUvautWSTn6PK5Xx0iwVFFizfPBB6f77XZM5iSCAAAIIIIAAAggggAACSSvAfD1ph95VHWcDo6uGg2QQ8LYACyLeHr9Is5/2QbaGz1+vpSX766SUnZbqL+W31V25t4QVcniXRrrurNphlaUQAggggAACCCCAAAIIIIBA5ALM1yM3o4b9AiyI2G/quoiXGD9mnT/fmpZxTnTdnLX68kvrx716SbNnu64HJIQAAggggAACCCCAAAIIJJ0A8/WkG3JXdpgNjK4cFpJCwJsCLIh4c9xiydp8E2PFf/fSWfrMEmZVQaYuPTDymKHNY6Mfvqwpb16MZQCoiwACCCCAAAIIIIAAAgiEIcB8PQwkijguwIKI48SJb8B8peJDD1nzSEtTt4579a83Slk+b95cWrUq8SmTAQIIIIAAAggggAACCCCQ7ALM15P9DnBH/9nA6I5xIAsEfCHAgogvhjHiTvz2yl06/tNnLfX2FJZW05zJxmcpQfFSjI86N6mqYV0aq0o568PriBunAgIIIIAAAggggAACCCCAQEgB5ushiSgQBwEWROKAnOgm5s2TevQIymLsdSs1YFpLy+eljEdCe/dKxv5GLgQQQAABBBBAAAEEEEAAgQQKMF9PID5NFwmwgZGbAQEEbBNgQcQ2Sm8FWj5Fem1gUM5n7H9aP6hi0OfP/fVPOr9hFW/1kWwRQAABBBBAAAEEEEAAAQ8LMF/38OD5KHUWRHw0mEfryuefSw0aBH27tO9UnfPcdUGfm8dKZ2YmgQtdRAABBBBAAAEEEEAAAQRcLMB83cWDk0SpsYExiQabriLgtAALIk4LuzT+lg+kaRcFJbeq/XRduiA96PMnr2iubq1OcmlnSAsBBBBAAAEEEEAAAQQQ8J8A83X/jakXe8SCiBdHLcKc8/OlsmWl33+3VPz+yoGqNvvvQcHmz5cuvjjCNiiOAAIIIIAAAggggAACCCBgqwDzdVs5CRalABsYo4SjGgIIBAuwIJKkd8XeHdITdYI6n9/pUTV87RQdyCuwfHdT21N130UNkxSLbiOAAAIIIIAAAggggAAC8Rdgvh5/c1oMFmBBJEnuitNPlz75xNLZvHbnK33Jf4IAHntMuvvuJHGhmwgggAACCCCAAAIIIICASwWYr7t0YJIsLTYwJtmA010EnBRgQcRJXRfHLiyUHqtt/Lp+lzXJ1jfo4q8u1dptuy2fn1O3sl7oe4aLO0RqCCCAAAIIIIAAAggggIC/BJiv+2s8vdobFkS8OnIR5n3jjdLkydZKlSvr5JI/6tttKZbPu3aVHn9cqllTKlkywnYojgACCCCAAAIIIIAAAgggYIsA83VbGAkSowAbGGMEpDoCCPwhwIJIEt8Nz3WUvllmBah1ju46/mG9tOJby+cnli2p/w65IImx6DoCCCCAAAIIIIAAAgggEF8B5uvx9aa14gVYEEmSO2PcOKl//6DOXnr6dr3y32rFIqSnS02bSh06SDfdJNU2fifLhQACCCCAAAIIIIAAAgggEB8B5uvxcaaVYwuwgZE7BAEEbBNgQcQ2Su8FerWftPJ5a95lqmryGQv00Osbgvqz8v4LVfH4DO/1k4wRQAABBBBAAAEEEEAAAQ8KMF/34KD5MGUWRHw4qMV16d13pXbtgr7ppAV6U51CIqQYL2ns1k166impevWQxSmAAAIIIIAAAggggAACCCAQowDz9RgBqW6LABsYbWEkCAIImAIsiCTxffCh8ev6t4YGAXx0xSpd+cL6oM9n3XiGzsysnMRgdB0BBBBAAAEEEEAAAQQQiJ8A8/X4WdPS0QVYEEmSu2PXLqlixaDO3qNH9bjuCRuhQgVp4kSpZ8+wq1AQAQQQQAABBBBAAAEEEEAgCgHm61GgUcV2ATYw2k5KQASSV4AFkeQde33xljTriiCAXVe+oZZTfwn6/IGLG6nP2ZwHlMR3DF1HAAEEEEAAAQQQQACBOAowX48jNk0dVYAFkSS6OWrWlL75xtLhGbpa12hGxAhjx0r9jIM/uBBAAAEEEEAAAQQQQAABBJwRYL7ujCtRIxNgA2NkXpRGAIFjCLAgksS3x64txtk+zYMBuv5Tf3q9inbuPWD5rsefTtJj3Yspn8SEdB0BBBBAAAEEEEAAAQQQcEqA+bpTssSNRIAFkUi0vF12W6suqrHyNUsn1qiJmmlNVB2bM4c3MUYFRyUEEEAAAQQQQAABBBBAIAwB5uthIFHEcQE2MDpOTAMIJI8ACyLJM9ZBPS3Ilx6pLuXtt3511gBdvfUiffDlT5bPm59UXq/cfnYSg9F1BBBAAAEEEEAAAQQQQCB+AszX42dNS0cXYEEkOe6ObdukOZlDdGfOI5YO56qEymivDqhkxBDmcdLr1knVjUdPXAgggAACCCCAAAIIIIAAAvYKMF+315No0QmwgTE6N2ohgEAxAiyIJPltMcHYkPjDEb+kr9dZI8s9oOeWZltwSqWnat2ITkpLTUlyNLqPAAIIIIAAAggggAACCDgvwHzdeWNaCC3AgkhoIz+U6N5dSsuaq7nqFdSd5lql1YruRA4z7rx5fhCiDwgggAACCCCAAAIIIICAuwSYr7trPJI1GzYwJuvI028EHBBgQcQBVC+FfKmPtDbLmnG5k7TgtGc0YOFO4xf26ZbvFt/VTrUrH++lHpIrAggggAACCCCAAAIIIOBJAebrnhw23yXNgojvhjSoQ9nG71czM6V6hRu1UQ2Dvr9W0/WCro0KIsX4DezmzVLt2lFVpxICCCCAAAIIIIAAAggggMBRBJivc2u4QYANjG4YBXJAwCcCLIj4ZCCj7caCwdLH44utfaAwTZ8Xnqz3C5ppVv55+rbwRE24+jR1blot2taohwACCCCAAAIIIIAAAgggEKYA8/UwoSjmqAALIo7yuiL4YOPR0OjRxhsYlac9KqvS2m/J6wndqbv1RNS5DhokjRoVdXUqIoAAAggggAACCCCAAAIIFCPAfJ3bwg0CbGB0wyiQAwI+EWBBxCcDGWk3dm+XFtwrbZhv1CwMWbugMEULClpr2xnDddPFZ4UsTwEEEEAAAQQQQAABBBBAAIHYBJivx+ZHbXsEWBCxx9HNUVq1klauPJjhJ/qT8bfCku4iXaAOWhR1F8z4y5dHXZ2KCCCAAAIIIIAAAggggAACxQgwX+e2cIMAGxjdMArkgIBPBFgQ8clARtIN88jo1wZK+3+NpFag7G+pZXT85WOlJt0irksFBBBAAAEEEEAAAQQQQACB8AWYr4dvRUnnBFgQcc7WDZFzcqSyZaXc3IPZTFZf42+KJbUfdKKq6oeo083IkPbskcx/ciGAAAIIIIAAAggggAACCNgjwHzdHkeixCbABsbY/KiNAAKHCbAgkmS3w7KJ0kLjzYuxXp0fk864OdYo1EcAAQQQQAABBBBAAAEEEDiKAPN1bg03CLAg4oZRcC6HTZukevX+iN9fTxl/fwtqsIq+14+qEnUiX3wh1a0bdXUqIoAAAggggAACCCCAAAIIHCHAfJ1bwg0CbGB0wyiQAwI+EWBBxCcDGU43zDcvvtQnnJLhlelu/CKfNzGGZ0UpBBBAAAEEEEAAAQQQQCBCAebrEYJR3BEBFkQcYXVN0DVrpGbN/kjnXC0x/toH5ddBbxqHSHeIOu/Vq6WmTaOuTkUEEEAAAQQQQAABBBBAAIEjBJivc0u4QYANjG4YBXJAwCcCLIj4ZCBDdWP3dmn8n6M6NvqooUuVl277WCpXLVTrfI8AAggggAACCCCAAAIIIBChAPP1CMEo7ogACyKOsLom6JFvYKyon4y/ykH53aXH9aTuijpv3sAYNR0VEUAAAQQQQAABBBBAAIFiBZivc2O4QYANjG4YBXJAwCcCLIj4ZCBDdWPuNdKGV0OVivz7Rl2lHs9HXo8aCCCAAAIIIIAAAggggAACxxRgvs4N4gYBFkTcMArO5ZCTI5UtK+Xm/tHGNzrJ+NtmafQF9da1eiGqRDIypD17JPOfXAgggAACCCCAAAIIIIAAAvYIMF+3x5EosQmwgTE2P2ojgMBhAiyIJMHtsGuL9FQLo6OFDnQ2RRqwSjqhlgOxCYkAAggggAACCCCAAAIIJK8A8/XkHXs39ZwFETeNhjO5tGolrVz5R+zX9Bfj7w1LY5+pmVros6gSMOMvXx5VVSohgAACCCCAAAIIIIAAAggcRYD5OreGGwTYwOiGUSAHBHwiwIKITwbyWN34z3Bp6RjnOnr2QOkCow0uBBBAAAEEEEAAAQQQQAAB2wSYr9tGSaAYBFgQiQHPI1UHD5ZGj/4j2Uc02Pg77APjqwNKVxntVa4if43ioEHSqFEewSBNBBBAAAEEEEAAAQQQQMAjAszXPTJQPk+TDYw+H2C6h0A8BVgQiad2gtp6pq30XXS/kg8r42rG2x1vfjesohRCAAEEEEAAAQQQQAABBBAIT4D5enhOlHJWgAURZ33dED07W8rMNM7t+N/BHT01x/i7Mii1ZsYbGNcYb2KM5EoxDu7YvFmqXTuSWpRFAAEEEEAAAQQQQAABBBAIJcB8PZQQ38dDgA2M8VCmDQSSRIAFEZ8PdF6O9EgNqSDXuY6mGb++H7xNKhH5r/CdS4rICCCAAAIIIIAAAggggIC3BZive3v8/JI9CyJ+Gclj96N7dykr62CZhlpv/DUOqtBbL2imekcEYsadNy+iKhRGAAEEEEAAAQQQQAABBBAIQ4D5ehhIFHFcgA2MjhPTAALJI8CCiM/H+ifjZ+7jTnO+k/1WSpWMn+tzIYAAAggggAACCCCAAAII2CLAfN0WRoLEKMCCSIyAHqm+zfhdapMm0i+/SGnKMw6LLqNSMn4Ue9j1mO7WvXos7B5VqCCtWydVrx52FQoigAACCCCAAAIIIIAAAgiEKcB8PUwoijkqwAZGR3kJjkByCbAg4vPx/sF4UjzhTOc7eeuHUpXgX+c73zAtIIAAAggggAACCCCAAAL+FGC+7s9x9VqvWBDx2ohFn+/cuVKvXgfrL1cr48/4seph15vqoE56M+wG5syRevYMuzgFEUAAAQQQQAABBBBAAAEEIhBgvh4BFkUdE2ADo2O0BEYg+QRYEPH5mPMGRp8PMN1DAAEEEEAAAQQQQAABvwowX/fryHqrXyyIeGu8Ys123Dipf39piq43/qZZwn2nqqqu78JqYuxYqV+/sIpSCAEEEEAAAQQQQAABBBBAIAoB5utRoFHFdgE2MNpOSkAEkleABRGfj32ecdzPIzWkglznOpqWIQ02zhoqYfyTCwEEEEAAAQQQQAABBBBAwBYB5uu2MBIkRgEWRGIE9GB1802Mq677h0btHxiU/Yn6QTt04lF7ZR4bPXEib1704LCTMgIIIIAAAggggAACCHhMgPm6xwbMp+mygdGnA0u3EEiEAAsiiVCPc5vPtJW++8y5Rqu1kG5+17n4REYAAQQQQOD/s3cfcFZU5//Hv9tXytLbIsiKIEFWRMQWpfhTUCM2UOz6NxY0QSJGhKg0C7ZEgaiIMXYEEY0lihXsjSrFKCJYAAtSBdl6/3MusOzlLtw2c+/M3M/wyouwO6e9n9lNzpznnoMAAggggAACaSjAfD0Ng+7CIbMg4sKgJKFLa55+S40H/F9YS8fqdb2pY8O+npEh9esnjRsnFRYmoYM0gQACCCCAAAIIIIAAAgikuQDz9TR/AFwyfBIYXRIIuoGAHwRYEPFDFCOM4Y1R0nt3OzfQo6xP5B9rtcGFAAIIIIAAAggggAACCCBgmwDzddsoqSgBARZEEsDzctE1a6QmTcJGMER/190aEvb1hx+WLrrIywOm7wgggAACCCCAAAIIIICAtwSYr3srXn7tLQmMfo0s40IgBQIsiKQAPdlNrlthfQTe2iVRAQdatj5iP3i+1KCNA3VTJQIIIIAAAggggAACCCCQvgLM19M39m4aOQsibopGkvvSsqW0alVIo2tOvEBNXn40rCNjxkg33pjk/tEcAggggAACCCCAAAIIIJDGAszX0zj4Lho6CYwuCgZdQcDrAiyIeD2CUfZ/6vnS5y9EeXMMt3U8RTrzsRgKcCsCCCCAAAIIIIAAAggggEA0AszXo1HiHqcFWBBxWtjF9Z9wgjRjRmgHDzpI7X6dp6++Cv3ySSdJL77o4rHQNQQQQAABBBBAAAEEEEDAZwLM130WUI8OhwRGjwaObiPgRgEWRNwYFQf6tNH6xPx9h0tbN9hW+ebMOqr9l9lSQQvb6qQiBBBAAAEEEEAAAQQQQACBbQLM13kS3CDAgogbopCiPgwbJt1+e2jjubm64PRf9fiUnJCvN2smrV4tZVgHdXAhgAACCCCAAAIIIIAAAgg4L8B83XljWogsQAJjZCPuQACBKAVYEIkSyg+3LZouPXOxbSO5MXuIbrphpG31URECCCCAAAIIIIAAAggggMBOAebrPA1uEGBBxA1RSFEfJk+Wzj03rPHHhy7UBXd0Cvv6N99IrVunqK80iwACCCCAAAIIIIAAAgikmQDz9TQLuEuHSwKjSwNDtxDwogALIl6MWgJ9/vgB6ZWhCVSwrejIsgv1aEUfLRjRW/VqhX7qPuHKqQABBBBAAAEEEEAAAQQQQIAdGHkGXCHAgogrwpCaTixaJBUXh7W9YuBYHTexn75Va5Uqr+r706ZJ/funpqu0igACCCCAAAIIIIAAAgikmwDz9XSLuDvHSwKjO+NCrxDwpAAJjJ4MW2KdNjsxvnR1XMdJbwjU0vVlf9RLlUcE+/D05Ufo0KKGifWH0ggggAACCCCAAAIIIIAAAmECzNd5KNwgwIKIG6KQoj6UlUm1a0vm7xquUuVooYr1mnprki7TmUOLwk6cTlHPaRYBBBBAAAEEEEAAAQQQ8L0A83Xfh9gTAySB0RNhopMIRCewZcsWvfPOO5o3b17wP3PnztXXX3+tQCCgAQMGaMqUKdFVFOddLIjECef1YhtXSzOuk5a8YI0kEHE0AWXo5YpuGm3tvPiTGlTdP+aUA3TBEW0ilucGBBBAAAEEEEAAAQQQQACB2ASYr8fmxd3OCLAg4oyr62tduVIaPFiabn0INoqr0npv9E6Tfuo5f5xUWBhFCW5BAAEEEEAAAQQQQAABBBBIRID5eiJ6lLVLgARGuySpBwEXCMyaNUu9evWqsSckMLogQH7vwroV0pxHpGUzpZ+WSBWlNY440PsWdXmjvdZvCf3U/dmHttbY08OPE/I7G+NDAAEEEEAAAQQQQAABBJwWIIHRaWHqj0aABZFolHx2z9Sp0sCB0vr1MQ8sUL++MiZOlPWp7JjLUgABBBBAAAEEEEAAAQQQQCB6Aebr0Vtxp3MCJDA6Z0vNCCRdwCQwnn766ercubO6dOkS/M8//vEPzZ8/nx0Ykx6NNG+w3EpeXPu1NPEoqXKX44EOu0IDvj1FHy9fG4J0cOv6evbK36c5HMNHAAEEEEAAAQQQQAABBOwXIIHRflNqjF2ABZHYzTxdYvz4bTsvJnqZegYNSrQWyiOAAAIIIIAAAggggAACCOxGgPk6j4YbBEhgdEMU6AMCNglUVFQoKysrpLaePXvq7bffJoHRJmOqiVHgwWOklXNCC7U+QqMa/12PfLAi5Ou1c7O0cFQfZWZmxNgItyOAAAIIIIAAAggggAACCOxJgARGng83CLAg4oYoJKkPZufFs86yr7EpU9iJ0T5NakIAAQQQQAABBBBAAAEEQgSYr/NAuEGABEY3RIE+IOCgAAmMDuJSdWSBl4ZIsx8KvS+ntqYc+76GPWcdM73L9e7QXmrVsFbkerkDAQQQQAABBBBAAAEEEEAgagESGKOm4kYHBVgQcRDXTVWvXCl16hTXsdG7HYZ1nLQWL5YKC900UvqCAAIIIIAAAggggAACCPhCgPm6L8Lo+UGQwOj5EDIABPYsQAIjT0hKBeY+Jr0QfszPktPf0ImTfwrr2qTzu6r3Ac1T2mUaRwABBBBAAAEEEEAAAQT8JkACo98i6s3xsCDizbjF3Ov+/aXp02MuFrGAqXfatIi3cQMCCCCAAAIIIIAAAggggEBsAszXY/PibmcESGB0xjWuWjdt2qT58+drzpw5mjt3bvDvL774QuZYYHPts88+WrFiRVx121Xob3/7m8aOHRtS3cyZM2WS5Px6JSMuK61PJj/xxBN64YUXgjFes2aNGjdurDZt2ujkk0/Weeedp5YtW8ZFTAJjXGwUskvgh4XSxKPCais56T51mF5fgUDot645rr0G/V87u1qnHgQQQAABBBBAAAEEEEAAAUuABEYeAzcIsCDihig43Ifly6W2bRX2wseOZjMypGXLpKIiO2qjDgQQQAABBBBAAAEEEEAAge0CzNd5FNwgQAKjG6Jg9WH//ffX0qVLrXc7u2TzVOtfqhMYTULl4YcfrvLy8hA1PycwJiMuEydO1F//+ldt3rx5t09jnTp1dNddd+nyyy+P+YklgTFmMgrYKVBRJt1qJd9WlITWetgV6rGoj775ZUvI1/9Q3EL3nnuwnT2gLgQQQAABBBBAAAEEEEAg7QVIYEz7R8AVACyIuCIMznZi+HDpttuca2PYMFmfrneufmpGAAEEEEAAAQQQQAABBNJQgPl6GgbdhUMmgdElQan+C2F3XUplAmNpaam6du2qRYsWhXXPzwmMTsdlzJgxGjlyZIjpfvvtF9xt0ezK+NVXX4V876abbtINN9wQ01NLAmNMXNzshMCDx0gr54TW3PoIXZ5zs15d/GPI1/dtUltvXdPTiV5QJwIIIIAAAggggAACCCCQtgIkMKZt6F01cBZEXBUOZzpjvT+2jhZypm5Tq6l/9mzn6qdmBBBAAAEEEEAAAQQQQCANBZivp2HQXThkEhhdEpQdvxBq166tzp076+CDDw4mDE6dOlUzZswI9jKVCYzXX3+9br311mA/evfurddee61KLh0SGJ2Iizku+pRTTqly7Nixox577LFg3HdcZtfLCy64QEuWLKn62vPPPx88VjraiwTGaKW4zzGBl4ZYL5cfCq0+p7bu7vamxr31dcjXrcOA9MpfjlZR49rKy85yrEtUjAACCCCAAAIIIIAAAgikkwAJjOkUbfeOlQUR98bGlp6VWKdv1K0rlVmncTh15eZKmzZJ5m8uBBBAAAEEEEAAAQQQQAABWwSYr9vCSCUJCpDAmCCgXcWffPLJYNKiObI4MzOzqtqLLrpIjz76aPDfqUpgnGt9avawww4LHh190EEH6c4779Rxxx1X1Uc7ExjNTo+//fab6tWrFzftTz/9pKZNm8ZdvnpBp+JSZr3IMwmLO3ZY3HvvvbVgwQI1bNgwrN9r167VgQceGNyR0Vzt2rULJjRmZ2dHNUYSGKNi4iYnBeY+Lr3w57AWXvj9s7rqza01tpyTlaH9m9fV0e2a6JxDW6tVw1pO9pC6EUAAAQQQQAABBBBAAAFfC5DA6OvwemZwLIh4JlTxdXTpUql9+/jKxlLqyy/NC9JYSnAvAggggAACCCCAAAIIIIDAHgSYr/N4uEGABEY3RGEPfUh1AqNJKDzkkEO0cOHCYMLcJ598og0bNqhXr15VvbYrgdG01a9fP61evVqvv/66GjRoEHN0brzxRj3wwAMyfTrggANiLh9tgUTj8vjjjwd3VtxxPf300zrjjDN227z5/oABA6q+b8qfd955UXWXBMaomLjJSYEfFkoTjwprYUjpFXq28uiILWdY2zKe0Km5RvY9QM0K8iPezw0IIIAAAggggAACCCCAAAKhAiQw8kS4QYAFETdEwcE+WO+PrU9hO9jA9qo/+0wqLna+HVpAAAEEEEAAAQQQQAABBNJEgPl6mgTa5cMkgdHlAUo0US7R4d1www265ZZbgtUMGzZMY8eO1axZsxxJYDzttNP0n//8J9hWly5dgkmMjRo1inoIw4cP12233Ra83+zA+NFHH6moqCjq8rHcmGhc+vbtq5deeinYZGFhob755ps97qhodr80O3CuWrUqWMYcIW2Oko7mIoExGiXucVSgwjo66NaWUoV1lFC169/lx2tM+c5E3kh9KMjP1i2nFatv58LNwl8PAAAgAElEQVRIt/J9BBBAAAEEEEAAAQQQQACBagIkMPI4uEGABRE3RMHBPrADo4O4VI0AAggggAACCCCAAAIIOCfAfN05W2qOXoAExuitUnJnoolyiXS6+tHR7a3jP8wRx/n5+Y4lME6ePDm4K2FFRUWw2+bY5DfffFONGzeOOIyhQ4cGj7becZ1++umaMmWKcnJyIpaN54ZE4mKOyDa7S5aUbEvmuvjii/XQQw9F7Ia57+GHHw7eZ+Kwbt264N+RLhIYIwnx/aQIPHiMtHJOSFOfVrbXGaWjYm5+VN+Ouuj3ziQnx9wZCiCAAAIIIIAAAggggAACHhAggdEDQUqDLrIg4vMgm3eddetKZdYHWZ26cnOlTZsk8zcXAggggAACCCCAAAIIIICALQLM121hpJIEBUhgTBDQ6eKJJMol0jdznHO3bt30mXUkh/ll9fbbb+voo7cd9erUDoym7qeeekrnn39+VRJjsXUciElibNKkyW6HM2TIEN19991V3+/fv3+wHnPktVNXInExiaFdu3at6ppJXjTJiZEuc98ll1xSdZupx+xUGekigTGSEN9PhsDyRweqaPlTIU1tCeSpU8lDqlRmzF2YcHYXdmKMWY0CCCCAAAIIIIAAAgggkK4CJDCma+TdNW4WRNwVD0d6Y955Wu8sHbtM/bNnO1Y9FSOAAAIIIIAAAggggAAC6SjAfD0do+6+MZPA6L6YhPQokUS5RIZ244036uabbw5WceWVV+ree++tqs7JBEbTiNk58bzzzqtKYuzYsaPeeustNWvWLGxIV111lSZMmFD19TPOOENmJ0cnkxdNY4nE5fHHHw/uNLnjeuedd6qSQ/cUM3Nfjx49qm554okndO6554YVMTsz7tjF0nzzlFNO0QcffCBzRPekSZOq7je7U9arVy+RxySsLAsitnL6prIfNmzVfXeP1BhNDBvTsSV36KvA3jGP1Rwn/fqQHmpWEHkX0pgrpwACCCCAAAIIIIAAAggg4DMB5us+C6hHh8OCiEcDF0u3hw+XbrstlhKx3TtsmDR2bGxluBsBBBBAAAEEEEAAAQQQQGCPAszXeUDcIEACoxuisIc+JJIoF+/Q5s2bp0MPPVTl5eVq1aqVFi9ebJ3+YR3/sf1yOoHRNDN16tRgEqPpg7l+97vfBZMYmzdvHvx3IBDQn//8Z913331V/RowYIBMUp/TyYumwUTictNNN2nEiBFV/V6xYoX22WefiOH65ptv1KZNm6r7TD033HBDWDlzj7k30mWSIU0s47l++umnGovtu+++2rx5s+rUqWOd5mId58KFgCVwxRNztGLxx3olz3qJvct1dekVeq5y2+6usV4nFjfXfefu3M001vLcjwACCCCAAAIIIIAAAgikiwAJjOkSaXePkwURd8fHlt4tXy61bWte3tpSXUgl1ilBWrZMKiqyv25qRAABBBBAAAEEEEAAAQTSWID5ehoH30VDJ4HRRcGoqSuJJMrFM7SysjIdcsghwaOjzfXyyy/rhBNOCKkqGQmMpsFp06bpnHPOqUpi3H///YNJjC1atNDAgQNDdhM8++yzZXY2zMrKimfYMZdJJC7XXnut7rrrrqo2169fH9VOiOa+Bg0aVJUbOnSobr/99rC+JyOBsfr/gNWERwJjzI+Ubwt8t3aLut85U1mBci3O+6PyMspCxvpweR+NLr8wrvGb99bvXNtLrRrWiqs8hRBAAAEEEEAAAQQQQACBdBEggTFdIu3ucbIg4u742Na7/v2l6dNtq66qIlOv9b6YCwEEEEAAAQQQQAABBBBAwF4B5uv2elJbfAIkMMbnlrRSiSTKxdNJszOg2dnPXGYHRJMUuOuVrARG0+4zzzwjk5y4YyfGdu3aBXeHfPLJJ6u6ZZIcH3vssaQlL5qGE4nLFVdcoYkTdx6lW1JSotzc3IjhMvfl5+88LtfUU30HyogV2HgDCYw2Yvq8qttn/E/3z7I+HW9dz+WOUJfMr0JG/Glle51ROipuhSt6ttV1x3eIuzwFEUAAAQQQQAABBBBAAIF0ECCBMR2i7P4xsiDi/hjZ0sOVK6VOnSTrw9h2Xb/l19deyxZLhYV2VUk9CCCAAAIIIIAAAggggAAC2wWYr/MouEGABEY3RGEPfUgkUS7Woc2fPz+YHGh2YWzatKmWLFmiRo0ahVWTzARG0/h06xO7Z511VlUSY/UOmSTLRx55JKnJi6b9ROJyySWX6KGHHqoaRkVFhTIzMyOGq7KyMmScpp4HH3wwYjknbuAIaSdU/VnnSRPe1aKVG4ODG5P9sC7Ifj1koFsCeepU8pAqFflnoCah4pb19OKgo/yJx6gQQAABBBBAAAEEEEAAAZsESGC0CZJqEhJgQSQhPm8VnjpV1gtd2/p8S/EUXf/ZANvqoyIEEEAAAQQQQAABBBBAAIGdAszXeRrcIEACoxuisIc+JJIoF8vQTNJit27dtGDBgmCxKVOmaMCAml8KJTuB0fTHHCd95plnhgzJ/Pupp56KKvkvFoto7k0kLoMHD9b48eOrmtm8ebNq1Yp8BK65zxzNvOMy9dxzzz3RdDdp97AgkjRqTzRUUl6hTiNfVVlFINjfM7Jm6c6cSWF9P7bkDn0V2DuuMeVmZWrR6D7KzY4vATKuRimEAAIIIIAAAggggAACCHhMgPm6xwLm0+6yIOLTwO5uWBMmSFddlfCgB2m8nqg/SGvXShkZCVdHBQgggAACCCCAAAIIIIAAArsIMF/nkXCDAAmMbojCHvqQSKJcLEMbOXKkxowZEyxy8skn6/nnn99t8WQnMJodCo3DE088EdKnoqIizZw5U/vss08sQ7Xl3kTicv311+vWW2+t6sfPP/+sxo0bR+yXuc/sjLnjuuGGG6qO+45YOEk3sCCSJGiPNLN8zWb1umtWVW9/l/GNXskbHtb7IaUD9Wxl97hHNfOvPVXUuHbc5SmIAAIIIIAAAggggAACCPhdgPm63yPsjfGxIOKNONnaS7MT48CBcR0nvU71NVAT9bS2fcj+yy+ldu1s7R2VIYAAAggggAACCCCAAAIIWALM13kM3CBAAqMborCHPiSSKBft0L777ju1bds2eHR0vXr1gkdHFxYW7rZ4MhMYTfLiBRdcoMmTJ1f1JysrS+br5jLJiyaJ0SQzJvNKJC5m18Srr766qrufffaZiouLI3bf3Ne5c+eq+0w9ZhdGN10siLgpGqnvy/9+2Kjj73m3qiPZKteivD8qP6MspHMPl/fR6PIL4+7wjL8crQ7NC+IuT0EEEEAAAQQQQAABBBBAwO8CzNf9HmFvjI8FEW/EyfZerlol6yWmNH26FNh2SseeroC1zeIzgX4arHFarZ3vqM1n2889N1Jpvo8AAggggAACCCCAAAIIIBCrAPP1WMW43wkBEhidULWxzkQS5aLtxvz589WlS5dob49437p11udj69ePeF+kG8rLy3Xeeedpqvmk7vZryJAhOumkk4L/2bJlS/CrrVu31ltvvRVMwkzWlUhcZsyYoRNOOKGqqy+++GJwPJEuc5/ZHXPH9eqrr6p3796RiiX1+yyIJJXb9Y3tugOj6fBzuSPUJfOrkL5/WtleZ5SOins87MAYNx0FEUAAAQQQQAABBBBAIE0EmK+nSaBdPkwWRFweIKe7t3y5NGmS9Prr0sKFUmlpjS1WnHuBaj/zqEpKQr9tTqMeN87pTlI/AggggAACCCCAAAIIIJB+AszX0y/mbhwxCYxujEq1PiWSKBft0NyYwGiSF8855xxNmzatahjXXnut7rjjjuC/33nnHf3hD3/Qr7/+Gvz33nvvHdyJcb/99ot22Andl0hczI6XJulyxzV69GiNGDEiYn/MfaNGjaq6z9Rjxu2miwURN0Uj9X0pKa9Qp5Gvqqxi56frx2Q/rAuyrRfV1a4tgTx1KnlIlcqMudO5WZlaNLqPcrNjLxtzYxRAAAEEEEAAAQQQQAABBDwqwHw99YHbtGmTzDu4OXPmaO7cucG/v/jii5BTRlasWGF7R//2t79p7NixIfWad2g9e/a0va1IFbIgEkkojb5vkhe/+Ubq31+yTp0JuQ46SEfkz9NHH4V++YgjpA8+SCMjhooAAggggAACCCCAAAIIJEkglfN13pckKcgeaIYERpcHKZFEuWiHtmjRopheWpqjpjdu3FhVfUFBgXJycqr+/fXXX8t8Ld7L1H/22Wdbp4pYx4psv4YNGxb2svW9994L7mS4I4nRHHttXsC2b98+3qajLpdoXEyi5bJly4LtHXPMMXrzzTcjtm3uM+Mzlym/dOnSiGWSfQMLIskWd397J014V4tW7vx9cUbWLN2ZY33afpfruJI7tDQQe0Jucct6enHQUe6HoIcIIIAAAggggAACCCCAQAoFmK+nEN9qev/99w++xwns4fjcffbZR3YnMJokycMPP1zmg8LVLxIYU/s80Ho1gaFDpTvvDCXJzNTQS9bqzkn1Qr6elydZecDWe2gEEUAAAQQQQAABBBBAAAEE7BRIVQIj70vsjKL36yKB0eUxTDRRzonhzZo1S7169aqq2s6XniZ58cwzz9R//vOfqvqvv/563XzzzTUO5QPrY7cmiXFHQmWLFi2Cx0l36NDBiaFX1ZloXIZaL+fu3P5yLtN6KbfcOkKl+q6Mu3b+22+/VVFRkSorK4PfMuVvv/12R8cYT+UsiMSj5u8yt8/4n+6ftS1Z11wdMr7VjLxhYYMeUjpQz1Z2jxnjip5tdd3xzv68x9wpCiCAAAIIIIAAAggggAACLhNgvp7agFRfCNhdT+xOYCy1drjr2rWrzAeXd73sfJcXi2yqFkRi6SP3JlnghRekU04Ja/TNa2fo2Dv7hH3dysnVwQcnuY80hwACCCCAAAIIIIAAAgj4XCBV83Xel/j8wYpxeCQwxgiW7NsTTZRzor9OJTCaF6tnnHGGXjAvrrZfN954o8aMGbPHYXz88cfq06ePNmzYELyvWbNmwSTGjh07OjH8YJ2JxuXzzz9XcXFx1TFBl1xyiR588MHd9td8/6GHHgp+PysrSwsXLtTvfvc7x8YXb8UsiMQr599y363dou53zrR2mdg2xixVaHHexcrPKAsZ9MPlfTS6/MKYIDIyrOPkr+2lVg1rxVSOmxFAAAEEEEAAAQQQQACBdBNgvp7aiO94IV+7dm117tzZSsA6OJhcOHXqVM2YMSPYObsTGM0Hgm+99dZg3b1799Zrr71WhUACY2qfB1qvJrBmjdSkSRjJmituUJP7bwr7uvWqWOefL+uD4JLZkZELAQQQQAABBBBAAAEEEEAgcYFUJzCm+/uSxCPojxpIYHR5HBNNlDNHz5id+3ZcF154oR555JGERu1UAuOpp56q559/vqpvo0aN0siRI6Pq66effhp8Gbt+/frg/U2bNtWHH36offfdN6rysd6UaFxMe3/84x/173//u6rpSZMm6dJLLw3rivn65ZdfXvV1U+5f//pXrF1Oyv0siCSF2XONXPHEHL2y6Ieqfj+XO0JdMr8KGcenle11RumomMZ2YnFz3Xdu15jKcDMCCCCAAAIIIIAAAgggkI4CzNdTG/Unn3wymLRojkYyJ3HsuOx4v1TTyObOnavDDjsseHT0QQcdFDwF5Ljjjqu6lQTG1D4PtL6LgPkQuvVh7+pXoGdP1ZszM3hkdE2XOUba+my49T5YuuwyWe+/UUUAAQQQQAABBBBAAAEEEIhXIFUJjLwviTdi/ixHAqNL4mqOSK7pmGRzpPKOY4NNV/Nq+Ghp9+7dQz5FXX1IXkpgfOqpp6xP0J4f3JXwpptu0g033BBTdOZYZ4iYl7Hr1q1Tv379NGXKFGVnZ8dUx643OxUX084a6xPGhx9+uJYt23m8bt++fXXWWWepsLBQq1atCo7hxRdfrOrWfvvtF0zMbNy4cULjcqowCyJOyXq73h82bFXvu9/Wxq3lwYGMyX5YF2S/HjKoLYE8dSp5SJXauZCzp1EX5Gfr9SE91Kwg39s49B4BBBBAAAEEEEAAAQQQSIIA8/UkIMfRhBMJjOaEk0MOOSR4eod5L/bJJ58ETy3p1atXVQ9JYIwjWBRxTsBkIO5yMk1J1l6qW7FeZcqN2K45ocN6Faxx42S9U414OzcggAACCCCAAAIIIIAAAgjsIpCqBMbdBSLd3pfwQG4TIIHRJU+C2W1w9OjRcfWmR48eMrsi1nR5KYHR9H/y5Mn69ttvNWzYsLgs5s2bp3/+85964IEHEk5eNB1wKi47Brd06dLg8dfLly+POF6zk6Y57sckMbr1YkHErZFJfb9eXLBKg56aF+zIGVmzdGfOpLBOHVdyh5YG9o6qsxPO7qK+nXkrHRUWNyGAAAIIIIAAAggggEDaCzBfd+cj4MQLefOB4FtuuSU4YPN+bezYscH3hiQwuvMZoFeWwGOPSdapQbteh+kjfaLDoiaqX1+aOFEaMCDqItyIAAIIIIAAAggggAACCCBgCaRDAqOb35fwEG4TIIHRJU+CU4lyXktgdEk4qrrhVFyqj/PXX3/V9ddfr0cffTT4ifhdr3r16lnv8C4MvnyuU6eO24hC+sOCiKvDk/LOPfL+co16cYk6ZHyrGXnhScpDSgfq2cruEfs5qm9HXfR7zgaKCMUNCCCAAAIIIIAAAggggMB2Aebr7nwU7E5grH50dPv27bVgwQLl5+eTwOjO8NOrHQJffy21bRvmcY3u0j90TcxO48dLgwbFXIwCCCCAAAIIIIAAAggggEDaCvg9gdHt70vS9sHbZeAkMPIkIOASga1bt+rtt9+WSTr95Zdf1KhRI7Vp00Y9e/as8ehwl3Q7pBssiLgxKu7qk9mJccRz8/Vh4ALlZ5SFdO7h8j4aXR7+ifsdN5ljo285rZidF90VUnqDAAIIIIAAAggggAACHhBgvu7OINmZwGiOju7WrZs+++yz4M4J5h3T0UcfHRw4OzC6M/70artAIKDfGrXUXutWh5D8R6foNP0nLqYpU9iJMS44CiGAAAIIIIAAAggggEBaCvg5gdEL70vS8qGrYdAkMPIkIICAbQIsiNhG6euKfty4VVvu66mirZ+HjHN2ZXv1Lx1V49hPLG6ukX0PULOCfF/bMDgEEEAAAQQQQAABBBBAwAkB5utOqCZep50JjDfeeKNuvvnmYKeuvPJK3XvvvVUdJIEx8VhRg3MCK1dKnxSdqdPKpoU0skaN1EQ/W1/LiLlxc5z04sVSYWHMRSmAAAIIIIAAAggggAACCKSdgJ8TGL3wviTtHrjdDJgERp4EBBCwTYAFEdso/V/Rf/8qffpgyDi3BPLUqeQhVSozbPyfjeqtgvwc/7swQgQQQAABBBBAAAEEEEDAAQHm6w6g2lClXQmM8+bN06GHHqry8nK1atXKStxaLBPzHRcJjDYEiyocE+jfX2oxfYIm6KqwNjroc32hDnG1beqdFpoTGVc9FEIAAQQQQAABBBBAAAEE/C7g1wRGr7wv8fvzFe34SGCMVor7EEAgogALIhGJuGGHwLwnpOf/FObx3BHP6OqZpWFff/yPh+rodk3wQwABBBBAAAEEEEAAAQQQiEOA+XocaEkoYkcCY1lZmQ455JDg0dHmevnll3XCCSeE9J4ExiQEkybiEli+XGrbVuocmKd5Ojisjkv0oB7SJXHVbZ2krmXLpKKiuIpTCAEEEEAAAQQQQAABBBBIG4HqCYx16tSJetzDhw/X3/72t6jvj/bGdHtfEq2L3+8jgdHvEWZ8CCRRgAWRJGJ7vakfFkkTfx82ik0nTFDxc43Cvj7kuPa66v/aeX3U9B8BBBBAAAEEEEAAAQQQSIkA8/WUsEds1I4X8iNGjNBNN90UbOu8887T448/HtauUwmMt956q8aOHRtxnDtu+PXXX6vuDQQCUZfjRv8KWGtduu02KUvlWquGKtCmkME+ogv1//RI3ADDhsl6RuMuTkEEEEAAAQQQQAABBBBAIC0EqicwxjLgkSNHatSoUbEUieper78viWqQ3BQmQAIjDwUCCNgmwIKIbZT+r6ii3HqD3FIq3xo61kMvV4/FJ+ibX7aEfL3n/k30yP871P8ujBABBBBAAAEEEEAAAQQQcECA+boDqDZUmegL+fnz5wePjja7MDZt2lRLlixRo0bhHwp0KoHRLFKMHj06LgkSGONi812hrl2luXO3DWuG+lh/XgsZ41dqq3b6Ku5xm/pnz467OAURQAABBBBAAAEEEEAAgbQQ8NsOjKl+X5IWD40DgySB0QFUqkQgXQVYEEnXyMc57n8dK33/aWjhZsW6pc4wPbq4XKXKqfpevb1yNO/G45SZaZ3/w4UAAggggAACCCCAAAIIIBCTAPP1mLiSdnMiCYwmabFbt25asGBBsL9TpkzRgAEDauy7UwmM7MCYtEfFlw2VlEh168pKwN02vBt0k/VnRNhYW2iVflCLuAxyc6VN1qaO5m8uBBBAAAEEEEAAAQQQQACBmgWqJzC64QOHXn9fwnMWnwAJjPG5UQoBBGoQYEGExyImgWcvkz6bWmOR0kCWvgi00ruVB2pyxTH6PtBUbwzpof2a1ompCW5GAAEEEEAAAQQQQAABBBAwSUJ1ZY7vrVOnjpXME3pEKz6pE0jkhbw5pmnMmDHBzp988sl6/vnndzsQpxIYY5Vz24JIrP3nfnsFli6V2rffWWdPzbT+HBPWSH9N03T1j7vxL7+U2rWLuzgFEUAAAQQQQAABBBBAAAHfC7htvp5u70t8/4BFOUASGKOE4jYEEIgswIJIZCPusAQ2rpJeuU76/EXrH4GIJJWBDL1S2U2VfW5T36Oss3+4EEAAAQQQQAABBBBAAAEEYhJgvh4TV9JujveF/Hfffae2bdsGj46uV69e8OjowsLC3fabBMakhZSGYhBYuFA68MCdBWpps9arvnUeR3lILfdosK7WPTHUHHrrZ59JxcVxF6cgAggggAACCCCAAAIIIOB7Ab8kMHr1fYnvH7AoB0gCY5RQ3IYAApEFWBCJbJT2dyyaLr10tbR1Q8wUv2XV0V6njZc69Yu5LAUQQAABBBBAAAEEEEAAgXQWYL7uzujHm8A4f/58denSxbZBrVu3TvXr17etvt1V5LYFEccHTAN7FNh1B0Zz80c6zPrzSUi5OTpYh2hO3JrswBg3HQURQAABBBBAAAEEEEAgTQTcNl9Pt/clafKYRRwmCYwRibgBAQSiFWBBJFqpNL3vo4nSDGvnxUSvE+6QDrs80VoojwACCCCAAAIIIIAAAgikjQDzdXeGOt1eyLttQcSdT0X69KqkxBxvL2sn0Z1jvkvXWH/+EYJQoUxrX8b1+lXWzTFeubnSpk2S+ZsLAQQQQAABBBBAAAEEEECgZgG3zdfT7X0Jz+U2ARIYeRIQQMA2ARZEbKP0X0Vm58VnLrZvXP3/zU6M9mlSEwIIIIAAAggggAACCPhcgPm6OwMc7wv5RYsWqWfPnlEPyhw1vXHjxqr7CwoKlJOTU/Xvr7/+WuZrTl9uWxBxerzUH1mga1dp7tyd952q56w/p4cVPE6v6Q0dF7nCXe4w9c+eHXMxCiCAAAIIIIAAAggggAACaSXgtvl6ur0vSauHbQ+DJYGRJwEBBGwTYEHENkp/VbRxlXTf4XEdG71biPx60pUfSwUt/GXFaBBAAAEEEEAAAQQQQAABBwSYrzuAakOV8b6Qj7XpWbNmqVevXlXFZs6cGVMCZKzt7e5+ty2I2DUu6olfYPhw6bbbdpZvop+sP83CKhytERql0TE3NGyYNHZszMUogAACCCCAAAIIIIAAAgiklYDb5uvp9r4krR62PQyWBEaeBAQQsE2ABRHbKP1V0dTzpc9fsH9MHU+RznzM/nqpEQEEEEAAAQQQQAABBBDwmQDzdXcGNN1eyLttQcSdT0V69Wr5cqltWykQ2Dnuz9XB+vNFCMSbOkbH6s2YcDIypGXLpKKimIpxMwIIIIAAAggggAACCCCQdgJum6+n2/uStHvgdjNgEhh5EhBAwDYBFkRso/RPRetWSOMOssZT7U20baOz3kQPni81aGNbjVSEAAIIIIAAAggggAACCPhRgPm6O6Oabi/k3bYg4s6nIv161b+/NH36znE/qEusPw+FQGxWLdXXepVr59HnkaRMvdOmRbqL7yOAAAIIIIAAAggggAACCLhtvp5u70t4ArcJkMDIk4AAArYJsCBiG6V/KnpjlPTe3c6N56irpWOtNrgQQAABBBBAAAEEEEAAAQR2K8B8PbUPx8033yzzn12vsrIyVVZWVn05Ly8v7J7u3bvrtddeS2gAHCGdEB+FHRZYuVLq1Elav35bQxfqEevP/wtrtZs+0Wx1i6o39etLixdLhYVR3c5NCCCAAAIIIIAAAggggEBaC6QqgZH3JWn92IUNngRGngcEELBNgAUR2yj9U9ED3aXVC5wbTwtrd8fL33aufmpGAAEEEEAAAQQQQAABBHwgwHw9tUEcNWqURo8eHVcnevToIZOAmMhFAmMiepRNhsDUqdJZZ21rqa2+sv60C2v2av1D98j6IGsU15Qp0oABUdzILQgggAACCCCAAAIIIIAAAkpVAiPvS3j4qguQwMjzgAACtgmwIGIbpT8qKi+Rbm0pVZY5N56sXGm49VH9bOtvLgQQQAABBBBAAAEEEEAAgRoFmK+n9sHghfw2/1QtiKQ2+rQercCECdJVV5m7A1qtFmquH0OKPqvT1E/PRqxu/Hhp0KCIt3EDAggggAACCCCAAAIIIIDAdoFUzdd5X8IjWF2ABEaeBwQQsE2ABRHbKP1R0S/LpAkHOz+WQXOlRm2db4cWEEAAAQQQQAABBBBAAAGPCjBf92jgfNbtVC2I+IzR18MxOzEOHCg9uL6/+mt6yFh/UhM1CyY1ZtRoYI6NnjiRnRd9/YAwOAQQQAABBBBAAAEEEHBEgPm6I6xUGqMACYwxgnE7AgjsXoAFEZ6OEMTeWb8AACAASURBVIEfF0v3H+k8yhUfSM0OcL4dWkAAAQQQQAABBBBAAAEEPCrAfN2jgfNZt1kQ8VlAHRrOqlXSqyfeo/+3IPy46JP0gr5QB32r1ipVXlUPjj9eeughqbDQoU5RLQIIIIAAAggggAACCCDgYwHm6z4OroeGRgKjh4JFVxFwuwALIm6PUJL7xw6MSQanOQQQQAABBBBAAAEEEECgZgHm6zwZbhBgQcQNUfBIH2bPlrp1221nS5WjhSrWa+qtSbpMQ+8r0hVXeGRsdBMBBBBAAAEEEEAAAQQQcJkA83WXBSRNu0MCY5oGnmEj4IQACyJOqHq4zvIS6daWUmWZc4PIypWGr5Syrb+5EEAAAQQQQAABBBBAAAEEahRgvs6D4QYBFkTcEAUP9GGl9Z7nqqukZ5+NqrOV1pHSH7XspyM/GccWjFGJcRMCCCCAAAIIIIAAAgggECrAfJ0nwg0CJDC6IQr0AQGfCLAg4pNA2jmMB7pLqxfYWWNoXS0Oki5/27n6qRkBBBBAAAEEEEAAAQQQ8IEA83UfBNEHQ2BBxAdBdHoIU6dKAwdK69fH3FKgfn1lTJwoDRgQc1kKIIAAAggggAACCCCAAALpLMB8PZ2j756xk8DonljQEwQ8L8CCiOdDaP8A3hglvXe3/fXuqPGoq6VjrTa4EEAAAQQQQAABBBBAAAEEdivAfJ2Hww0CLIi4IQou7sP48dLgwYl30NQzaFDi9VADAggggAACCCCAAAIIIJAmAszX0yTQLh8mCYwuDxDdQ8BLAiyIeClaSerruhXSOGuXRAVsbzBgHRGUMXi+1KCN7XVTIQIIIIAAAggggAACCCDgJwHm636KpnfHwoKId2PneM/NzotnnWVfM1OmsBOjfZrUhAACCCCAAAIIIIAAAj4XYL7u8wB7ZHgkMHokUHQTAS8IsCDihSiloI9Tz5c+f8H2hje3PUm1z3/S9nqpEAEEEEAAAQQQQAABBBDwmwDzdb9F1JvjYUHEm3FzvNcrV0qdOsV1bPRu+2YdJ63Fi6XCQse7TwMIIIAAAggggAACCCCAgNcFmK97PYL+6D8JjP6II6NAwBUCLIi4Igzu68TGVdJ9h0tbN9jWtw2BWnq/z3914pEH21YnFSGAAAIIIIAAAggggAACfhVgvu7XyHprXCyIeCteSett//7S9On2N2fqnTbN/nqpEQEEEEAAAQQQQAABBBDwmQDzdZ8F1KPDIYHRo4Gj2wi4UYAFETdGxSV9WmS9iH7mYts68+fSQap/6ADdfGqxbXVSEQIIIIAAAggggAACCCDgVwHm636NrLfGxYKIt+KVlN4uXy61bSsFAvY3l5EhLVsmFRXZXzc1IoAAAggggAACCCCAAAI+EmC+7qNgengoJDB6OHh0HQG3CbAg4raIuKw/Hz8gvTI04U6NLLtQj1b00QGFBfrvVUcnXB8VIIAAAggggAACCCCAAAJ+F2C+7vcIe2N8LIh4I05J7eXw4dJttznX5LBh0tixztVPzQgggAACCCCAAAIIIICADwSYr/sgiD4YAgmMPggiQ0DALQIsiLglEi7uh9mJ8aWr4zpO2hwbfX3ZH/VS5RHBAWZlZmjhqN6qlZvt4gHTNQQQQAABBBBAAAEEEEAg9QLM11MfA3ogsSDCUxAm0LWrNHeuczCm/tmznaufmhFAAAEEEEAAAQQQQAABHwgwX/dBEH0wBBIYfRBEhoCAWwRYEHFLJFzej42rpRnXSUtesDoa3RFBvzQ5TCd8d4F+UoOQwT116eE6om0jlw+Y7iGAAAIIIIAAAggggAACqRVgvp5af1rfJsCCCE9CiEBJiVS3rlRW5hxMbq60aZNk/uZCAAEEEEAAAQQQQAABBBCoUYD5Og+GGwRIYHRDFOgDAj4RYEHEJ4FM1jDWrZDmPCItmyn9tESqKN1ty5uO+puK3+gU9v1r++yvP/XaL1k9ph0EEEAAAQQQQAABBBBAwJMCzNc9GTbfdZoFEd+FNLEBLV0qtW+fWB3RlP7yS6ldu2ju5B4EEEAAAQQQQAABBBBAIC0FmK+nZdhdN2gSGF0XEjqEgHcFWBDxbuxS3vNyK3lxw3fWp+5/kx4/Xdr8Y2iX2h6j368cpJXrre9Xu460dl8c0bej8rKzVFg/P/g3FwIIIIAAAggggAACCCCAQKgA83WeCDcIsCDihii4qA8LF0oHHuh8hz77TCoudr4dWkAAAQQQQAABBBBAAAEEPCrAfN2jgfNZt0lg9FlAGQ4CqRRgQSSV+j5q+9nLpc+mhA4op5YGt/mPnl+4ZrcDzcnK0P7N6+rodk10zqGt1aphLR+hMBQEEEAAAQQQQAABBBBAIH4B5uvx21HSPgEWROyz9EVN7MDoizAyCAQQQAABBBBAAAEEEPC+APN178fQDyMggdEPUWQMCLhEgAURlwTC692Y94T0/J/CRjGkzu16dk2rqEaXkSGd0Km5RvY9QM0K8qMqw00IIIAAAggggAACCCCAgF8FmK/7NbLeGhcLIt6Kl+O9LSmR6ta1TuMoc66p3Fxp0ybJ/M2FAAIIIIAAAggggAACCCBQowDzdR4MNwiQwOiGKNAHBHwiwIKITwKZ6mGsWyGN6xzWizvLztS9FafG1LuC/Gzdclqx+nYujKkcNyOAAAIIIIAAAggggAACfhJgvu6naHp3LCyIeDd2jvW8a1dp7lzHqpepf/Zs5+qnZgQQQAABBBBAAAEEEEDABwLM130QRB8MgQRGHwSRISDgFgEWRNwSCR/04+5iacO3IQN5r+IAnVd2fVyDG9W3oy76fVFcZSmEAAIIIIAAAggggAACCHhdgPm61yPoj/6zIOKPONo6iuHDpdtus7XKkMqGDZPGjnWufmpGAAEEEEAAAQQQQAABBHwgwHzdB0H0wRBIYPRBEBkCAm4RYEHELZHwQT+eu0JaMDlkIFsDOTqw5F8qVU5cA5xwdhd2YoxLjkIIIIAAAggggAACCCDgdQHm616PoD/6z4KIP+Jo6yiWL5fatpUCAVurNZUFMjKUsWyZVMQHWm3HpUIEEEAAAQQQQAABBBDwlQDzdV+F07ODIYHRs6Gj4wi4T4AFEffFxKs9Wv/Bo6r/2lVh3T+jZIQ+DXSIa1jmOOnXh/RQs4L8uMpTCAEEEEAAAQQQQAABBBDwqgDzda9Gzl/9ZkHEX/G0bTT9+0vTp9tW3Y6K1vTqr8ZvTbO9XipEAAEEEEAAAQQQQAABBPwmwHzdbxH15nhIYPRm3Og1Aq4UYEHElWHxZKeuf/i/uuWbc8L6/o+y/hpfcXrcYzqxuLnuO7dr3OUpiAACCCCAAAIIIIAAAgh4UYD5uhej5r8+syDiv5jaMqKVK6VOnaT1622pzlSyTvX18DWLNeSuQtvqpCIEEEAAAQQQQAABBBBAwK8CzNf9GllvjYsERm/Fi94i4GoBFkRcHR7PdO67tVvU/c6ZejtnsFpn/hzS7w8qOuqcshviHot1epDeubaXWjWsFXcdFEQAAQQQQAABBBBAAAEEvCbAfN1rEfNnf1kQ8WdcbRnV1KnSWWfZUpWpZICmaNVRA/Tuu7ZVSUUIIIAAAggggAACCCCAgG8FmK/7NrSeGhgJjJ4KF51FwN0CLIi4Oz5e6d3tM/6n+2ct0+3ZkzQge1ZIt0sCOTqw5EGVKDfu4VzRs62uOz6+Y6jjbpSCCCCAAAIIIIAAAggggEAKBZivpxCfpqsEWBDhYdijwIQJ0lVXJYw0SOP1Tw1SVpb06adSdraUny+1bi3l5SVcPRUggAACCCCAAAIIIIAAAr4TYL7uu5B6ckAkMHoybHQaAXcKsCDizrh4rVcnTXhXi1Zu1KmZ7+me3PvCun9W6Q36qLJj3MMqbllPLw46Ku7yFEQAAQQQQAABBBBAAAEEvCbAfN1rEfNnf1kQ8WdcbR2V2Ylx4MC4jpM2x0YP1EQ9be2/WNOVkyMVF0u9e0uXXSYVFdnacypDAAEEEEAAAQQQQAABBDwrwHzds6HzVcdJYPRVOBkMAqkVYEEktf5+aL2kvEKdRr6qsoqAmusXfZQ/KGxY95SfrnvK+8c93NysTC0a3Ue52Zlx10FBBBBAAAEEEEAAAQQQQMBLAszXvRQt//aVBRH/xtbWka1aJQ0eLE2fLgUCUVVd2qK12qz+UKtVGNX9GRlSv37SuHFSYXRFoqqXmxBAAAEEEEAAAQQQQAABLwowX/di1PzXZxIY/RdTRoRAygRYEEkZvW8aXr5ms3rdNatqPDNzr1ZR5o8h4/u4soMGlI5IaMwz/9pTRY1rJ1QHhRFAAAEEEEAAAQQQQAABrwgwX/dKpPzdTxZE/B1f20e3fLk0aZL0+uvSwoVSaelum1ib0VBNAz+qQtZ50TFc9etLEydKA2retDGGmrgVAQQQQAABBBBAAAEEEPCuAPN178bOTz0ngdFP0WQsCKRYgAWRFAfAB83/74eNOv6ed6tGMjb7QZ2dPTNkZCWBbB1Y8i+VKDfuEc/4y9Hq0Lwg7vIURAABBBBAAAEEEEAAAQS8JMB83UvR8m9fWRDxb2wdH5lJXvzmG2nrVumpp6SxY8OaPFrv6D0dHVdXxo+XBoUfAhJXXRRCAAEEEEAAAQQQQAABBLwmwHzdaxHzZ39JYPRnXBkVAikRYEEkJey+anTXHRhPznxf43PvDRvj2aXX68PKA+IeOzswxk1HQQQQQAABBBBAAAEEEPCgAPN1DwbNh11mQcSHQU3FkL76SmrXLqzlO/VXDdWdcfdoyhR2Yowbj4IIIIAAAggggAACCCDgaQHm654On286TwKjb0LJQBBIvQALIqmPgdd7UFJeoU4jX1VZRSA4lKZap0/y/xQ2rPHlp+of5WfGNdzcrEwtGt1HudmZcZWnEAIIIIAAAggggAACCCDgNQHm616LmD/7y4KIP+OailGVte+onKWfhzT9P+2v3+l/cXfHHCe9eLFUWBh3FRREAAEEEEAAAQQQQAABBDwpwHzdk2HzXadJYPRdSBkQAqkTYEEkdfZ+avmkCe9q0cqNVUN6M/catc1cHTLETyr315mlI+MadnHLenpx0FFxlaUQAggggAACCCCAAAIIIOBFAebrXoya//rMgoj/YpqqEf1n/+t06pd3hDXfXl9oqdrH3a3+/aVp0+IuTkEEEEAAAQQQQAABBBBAwJMCzNc9GTbfdZoERt+FlAEhkDoBFkRSZ++nlm+f8T/dP2tZ1ZBuyX5I52a/GTLE0kCWDiz5l7YqL+ahX9Gzra47vkPM5SiAAAIIIIAAAggggAACCHhVgPm6VyPnr36zIOKveKZqNMuXS+fv+77eU/iHU6/RXfqHrom7axkZ0jLrlVRRUdxVUBABBBBAAAEEEEAAAQQQ8JwA83XPhcyXHSaB0ZdhZVAIpEaABZHUuPut1e/WblH3O2cqsO0UafXN/EATcv8ZNszzSofrvcrimIZvXkS/c20vtWpYK6Zy3IwAAggggAACCCCAAAIIeFmA+bqXo+efvrMg4p9YpnIkw4dLd9xWoR/UXE20JqQrb6u7eurthLo3bJg0dmxCVVAYAQQQQAABBBBAAAEEEPCUAPN1T4XLt50lgdG3oWVgCCRfgAWR5Jv7tcUrnpijVxb9EBxeE63Xp/lXhg31n+Wn6K7yATERnFjcXPed2zWmMtyMAAIIIIAAAggggAACCHhdgPm61yPoj/6zIOKPOKZ6FF2t1zpz50oP6yLrz6Mh3alQpprqJ61Vo7i7aeqfPTvu4hREAAEEEEAAAQQQQAABBDwnwHzdcyHzZYdJYPRlWBkUAqkRYEEkNe5+bPWHDVvV++63tXFreXB4r+deq3aZK0OGOqeynfqVjo56+AX52Xp9SA81K8iPugw3IoAAAggggAACCCCAAAJ+EGC+7ocoen8MLIh4P4apHkFJiVS3rlRWJp2u6daf/mFdOk+P60mdF3dXc3OlTZsk8zcXAggggAACCCCAAAIIIJAOAszX0yHK7h8jCYzujxE9RMAzAiyIeCZUnujoiwtWadBT84J9vSn73zo/+42QfpcFstS55EFtUXQJiRPO7qK+nQs9MXY6iQACCCCAAAIIIIAAAgjYKcB83U5N6opXgAWReOUot0Ng6VKpfftt/6qjTdYB0o2Vp9IQoKd1hgbo6YTQvvxSatcuoSoojAACCCCAAAIIIIAAAgh4RoD5umdC5euOksDo6/AyOASSK8CCSHK906G1R95frlEvLtGJmR/pvtzxYUO+oPQ6vVPZOSLFqL4dddHviyLexw0IIIAAAggggAACCCCAgB8FmK/7MareGxMLIt6Lmdt6vHChdOCBO3v1io63/rwa0s2NqmulNa5RmeLfQvGzz6TiYreNnv4ggAACCCCAAAIIIIAAAs4IMF93xpVaYxMggTE2L+5GAIE9CLAgwuPhhIDZifHvz72nWbo0rPrJ5b30aEUflShHqwKNrc/c54TcY46NvuW0YnZedCIw1IkAAggggAACCCCAAAKeEWC+7plQ+bqjLIj4OrxJGVz1HRhNg1foPuvPn8LaPk6v6Q0dF3ef2IExbjoKIoAAAggggAACCCCAgAcFmK97MGg+7DIJjD4MKkNCIFUCLIikSt7/7f64casq/nmYCktX7HawpdaR0l8EWundygM1ueIYbam1t14ZfLSaFUR3xLT/FRkhAggggAACCCCAAAIIpKsA8/V0jby7xs2CiLvi4cXelJRIdetKZWXbet9K31p/9gkbyngN0mCFn+QRzZhzrY0bN22SzN9cCCCAAAIIIIAAAggggEA6CDBfT4cou3+MJDC6P0b0EAHPCLAg4plQea+jG1dJD58orVseVd8rAxl6pbKbulz2gApb7RtVGW5CAAEEEEAAAQQQQAABBPwqwHzdr5H11rhYEPFWvNza265dpblzd/ZurrpYf+aHdHeFldRYJPMOKSPmYZj6Z8+OuRgFEEAAAQQQQAABBBBAAAHPCjBf92zofNVxEhh9FU4Gg0BqBVgQSa2/b1tfNF166Wpp64aYh7g1u67yTx0ndeoXc1kKIIAAAggggAACCCCAAAJ+EWC+7pdIenscTiyIBAIBlVjb8m3cuFFbt1qnN1RUyHyNy78CCxZIS5bsHF+xFqqTFoUN+GWdqA2qFzNEx45S584xF6OAQwLm90ZWVpby8/NVUFCgvLw8Vf9d4lCzVIsAAggggAACCCCAQFoJODFfTytABmuLAAmMtjBSCQIIGAEWRHgObBf4aKI047rEqz3hDumwyxOvhxoQQAABBBBAAAEEEEAAAQ8KMF/3YNB82GW7F0RM0uLPP/+s0tJSH2oxpN0JmGOkFy7c+d3a2qzf6fOw21epUL+ooTIVUKW1E2Opcq3/lhkRtrhYVpJcxNu4IUUCudbZ3k2aNAkmM3IhgAACCCCAAAIIIICAPQJ2z9ft6RW1pJsACYzpFnHGi4CDAiyIOIibjlWbnRefudi+kff/Nzsx2qdJTQgggAACCCCAAAIIIOAhAebrHgqWj7tq54LIhg0btGrVKh9rMbQ9CZgkxvLynXfU0hYrRXHPO28GgndkqEJZKle2ldQYnsyYnU3yoleevMLCQtWrF/sOm14ZH/1EAAEEEEAAAQQQQCCZAnbO15PZb9rylwAJjP6KJ6NBIKUCLIiklN9fjW+0FiHuOzyuY6N3C5FvvdS88mOpoIW/rBgNAggggAACCCCAAAIIIBBBgPk6j4gbBOxaEDE7L65cuTJsSKb+nJwcjpd1Q7Ad7kNlpWTlsFrHhW9rqI5+tfZXjG0nTrMj4xbVqkpktB4fKyFOyoy8SaPDo6P66gLmSPiysrIaj4Zv2bIlOzHyuCCAAAIIIIAAAgggYIOAXfN1G7pCFWksQAJjGgefoSNgtwALInaLpnF9U8+XPn/BfoCOp0hnPmZ/vdSIAAIIIIAAAggggAACCLhYgPm6i4OTRl2zY0HEJDN9/fXXIcdG77XXXmrUqJFq165tJZ+RfZYuj9TatbKeBamB1qqNVlj7KlpZjTFe5Vapb7SP1llHTe+7r9SwYYwVcHtSBCqtjNXNmzfrl19+0W+//VbVpjlOel8rcNV/tySlQzSCAAIIIIAAAggggIDPBOyYr/uMhOGkQIAExhSg0yQCfhVgQcSvkU3yuNatkMYdZDW656N/4uuV9XH6wfOtt9tt4itOKQQQQAABBBBAAAEEEEDAgwLM1z0YNB922Y4Fka1bt2r58uVVOiZ5sXXr1iQu+vB5iWZIm5b9qLrrvovm1j3es6lBK9Vt2yzheqjAWQGTyPjtt9+GJDEWFRUpPz/f2YapHQEEEEAAAQQQQAABnwvYMV/3ORHDS4IACYxJQKYJBNJFgAWRdIm0w+N8Y5T03t3ONXLU1dKxVhtcCCCAAAIIIIAAAggggECaCDBfT5NAu3yYdiyI/PTTT8Fd2HZce++9t8zzzZWGAju2YLRr6GzBaJeko/Vs2rRJ33//fVUbjRs3VpMmTRxtk8oRQAABBBBAAAEEEPC7gB3zdb8bMT7nBUhgdN6YFhBIGwEWRNIm1M4O9IHu0uoFzrXRwtrd8fK3naufmhFAAAEEEEAAAQQQQAABlwkwX3dZQNK0O3YsiJjd18xRsuYy9bVv357dF9PxeSotlRYvlioq7Bt9VpZ0wAGSdSwxl3sFzC6MX375pcxx8uYyR8ebXVi5EEAAAQQQQAABBBBAIH4BO+br8bdOSQS2CZDAyJOAAAK2CbAgYhtl+lZUXiLd2lKqLHPMoDIzV99c/qUKGxUoL9t6Oc2FAAIIIIAAAggggAACCPhcgPm6zwPskeHZsSBijo82x0ibK9dKNGvbtq1HRk83bRVYtkxat87WKoOVNWgg66Gyv15qtFVgmRX/UpPEal3mGPk2bdrYWj+VIYAAAggggAACCCCQbgJ2zNfTzYzx2i9AAqP9ptSIQNoKsCCStqG3b+C/WC+gJxxsX327qalnyd+1MrNQ+zevq6PbNdE5h7ZWq4a1HG+XBhBAAAEEEEAAAQQQQACBVAgwX0+FOm3uKmDHgsjXX3+tkhLrw4/WlZeXp33Nsb9c6SVg4r9woXNjLi42D5dz9VNzwgL8HkiYkAoQQAABBBBAAAEEEAgRsGO+DikCiQqQwJioIOURQKBKgAURHoaEBX60jv+5/8iEq4lUQZ+S2/RFYOfxMtapUzqhU3ON7HuAmhXkRyrO9xFAAAEEEEAAAQQQQAABTwkwX/dUuHzbWTsWREhc8u3jEf3Avv9e+uGH6O+P8c6yxs1V0Xzv4EnSmZkxFub2pAjweyApzDSCAAIIIIAAAgggkEYCdszX04iLoTokQAKjQ7BUi0A6CrAgko5Rt3nMSdqB8dzSYfq08ncqVU7IAArys3XLacXq27nQ5oFRHQIIIIAAAggggAACCCCQOgHm66mzp+WdAnYsiJC4xBOlJUukLVscg9isWvpcHWU+7GqdTqyCAqlJEzZldAw8jor5PRAHGkUQQAABBBBAAAEEENiDgB3zdYARSFSABMZEBSmPAAJVAiyI8DAkLFBuHQN0a0upsizhqiJVUBrIsnZhbKV3Kw/U5Ipj9H2gaVWRUX076qLDrCTGDdan+su3StnWroz19rb+5gihSK58HwEEEEAAAQQQQAABBNwnwHzdfTFJxx7ZsSBC4lI6PjnVxlxZKc2bJwUCjkFUKkPz1EUBhW6/2KCB1KqVgjszcqVWgN8DqfWndQQQQAABBBBAAAH/CdgxX/efCiNKtgAJjMkWpz0EfCzAgoiPg5vMoT3QXVq9IJktqjKQoVcqu+nB8j+od9YcHZ35mQ7I+l6ZgfKqfgQyc5TRrKPU9hip60VSgzbhfTQJmCQ9JjV2NIYAAggggAACCCCAAAKRBZivRzbiDucF7FgQIXHJ+Ti5uoWt1odMFy1yvIsL1Uklsj7MusuVlSXts4/UsKHjXaCBPQjwe4DHAwEEEEAAAQQQQAABewXsmK/b2yNqS0cBEhjTMeqMGQGHBFgQcQg23ap9Y5T03t0pGbX5AL85IijSFbA+jZ/R8WTp+NulCitpcc4j0rK3FPhxiTKq7R4ZKemxZOsW/fT9MpWXbLE2d6ylpnu3VV5+rUjN830EEEAAAQQQQAABBBBAICYB5usxcXGzQwJ2LIiQuORQcLxSrTk62hwh7fC1VPtpowrCdmHc0azZibFJ40qVbS5VoMLaszErUzm1c5Vp/c3lvAC/B5w3pgUEEEAAAQQQQACB9BKwY76eXmKM1gkBEhidUKVOBNJUgAWRNA283cNet0Iad5BVq3PHAdnV5UBmtnXcdYWVzhi5rzuSHn844FItf/9pNfnxfbUuX6HcjIqq7phjrb/NbqOfm/1e+xz3JxUWdQjpalwJj+wKaVe4qQcBBBBAAAEEEEAAAc8KMF/3bOh81XE7FkRIXPLVIxH7YJK0A6PpmDlK+jftFUxk/FlNVKo85Vr7Mjax/lVgfXUv67uZ1d4HmftLMvdS+V4Fytu7iXLr5oWNr9JKdowl6dGcmF1aavXF+jvTyo00x1ebv9P94vdAuj8BjB8BBBBAAAEEEEDAbgE75ut294n60k+ABMb0izkjRsAxARZEHKNNv4qnni99/oIvxx3tLo/mWOv5dY9WrZ5Xa93c52JLeDRJoHHuCmltBxnbMdix3u/LqDIoBBBAAAEEEEAAAQTcLcB83d3xSZfe2bEgQuJSujwtuxmnyeSbN8/6zGvkD5LaKWVaK1OO9afMSlOMfJn7N+c0UN5+rRSoDKjk+5+V/dtG5VVGTnossV7L/PyztHGjtPW3SuUESq1EyUrrT6bKMnKVv1emCgqsHSCbSHm75EjGmiAZeSTuvIPfA+6MC71CAAEEEEAAAQQQ8K6AHfN1746enrtFgARGt0SCfiDgAwEWRHwQRLcMYeMq6b7DrTe1G9zSo5T1I5aEx8W1D1X7ZnWVu/zNmHaF1BGDpC/+G/0x2IkkoyYCIwAAIABJREFUSBrJWJMeY70/ZdGiYQQQQAABBBBAAAEE3CnAfN2dcUm3XtmxIELiUro9NTWM1xwhbY6S9sBldmU0p3ZEm/S4IaOBVgeaqb7W73aXxx27Qq6x9oKs1SBPLRqWqOKH6BMkd2WLNekx1vudCBO/B5xQpU4EEEAAAQQQQACBdBawY76ezn6M3R4BEhjtcaQWBBCwBFgQ4TGwVWDRdOmZi22tkspqFjA7A0T7Mj2jbgsFNv0QW4Lk8bdLFdYWArHsCplAkmRSjtqONaky1vtNqGIt4/T99EnKzpfq7W39HX4UWMhPl9OxiLV+Ykfs9vTM8jxF93zghJOdP0c8T+n1PLlkEsJ83SWBSPNu2LEg4qvEJbPV3rffWh/e3CrlW3ON1q3Dt9RLw2dm1KhRGj16dFwjP6VHD/3nrrvCyva8/HK9PXfubuvMyspSvTp11KxhQ3Xt0EG9Dz9cZ/zf/yl/1y0O4+pVbIVieUeTrF0hSzeVxLSLZPURx5PwGKnMrr8HWjZuqdUff6vSjVuVW5CvFoe1Vl5BhHl7bGHhbgQQQAABBBBAAAEEfC1gx3zd10AMLikCJDAmhZlGEEgPARZE0iPOSR3lxw9IrwxNapM0Zr9AIDNbqqyIMunRSqaMI0nyhwMu1fL3n3b2qO1Ykypjvd/Qx1rG6fvpkwI/LlFGZVnVD0YgM0cZzTpKbY+Rul4kNWiz7XtOxyLW+ukTsdv+1Nb4zPI8Rfd84ISTnT9HPE/p9TzZ/3+pE66R+XrChFRgg4AdCyKeT2BcvlyaNEl67TVp4ULrXOKdcw3l5EjFxVLv3tJll0lFRTaoe6+KVCQw1qTUpEED3Tt0qM449ljvIe6hx9V3hbzIShZ99L/WiRzWdeEf/qBHrH9Xv+I9OjuzsJkq1qyP+ths02YsSZLf/7xSW7f8pl+XrlLuF0vVcfhflGsd773jKrUO+162V7F+7NxbbW+/TK26h/4slWwsiTnhMdYyTt9vxup0G7HWT5+iT6CN1dbp+4kdsdtT0neszx/PE88Tz1P4/xGL9eco1vv5ufP2z51bJht2zNfdMhb64V0BEhi9Gzt6joDrBFgQcV1I/NEhsxPjS1dznLQ/ounYKJw9ajvWpMpY77eOlGp3XNAmsPR1hxI96ZM5tivSFdzpItYEWmIXiTV4YBrPeDTPH07R/ZzihNPuf+3wezzaXbL537vofo7icOp4smR2Hy9oEfF/H5N9A/P1ZIvTXk0CdiyIeDaBceVKafBg6dlnrYlf5P9vqAzrnIR+/aRx46TCwrR6oHZNYOzevbv22muvUANzhHT15M/t3z3ywAM14tJLw7yq78BodlXs0aVLyD3lFRX6ce1aLbESTCsrK0O+N+Haa/XnM8/0ZQwiJTDGO+hYdpHckl0v2Eyt8g1Rnw6yTJlWuqIVp88/V561i+m+N9yw266ahM2PW/ZTnZHX6Jd/P69mC15T298WRpXw+N07y7XsuklRl3H6fjNIp9uItX76xPO044evpsRhnqfong+ccLLz54jnieeJ5yn8Qyyx/lw4fX+8/x/b6XJ2zNed7iP1+1+ABEb/x5gRIpA0ARZEkkadfg1tXC3NuE5a8oI19ihe9KefECNGAAEEEEAAAQQQQAABFwhU5tVTZt+7pU5W4pGLLubrLgpGGnfFjgURTyYwTp0qDRworV8fe/Tr15cmTpQGDIi9rEdL7JrAuNxKKmzTpk3oaEpLpcWLJSvxMJqregLjPi1aaMUL5v1S+PWTlcQ4+sEHdd8zz1R9MzMzU/OeeEIHtmsXTVOeusepBEanEb62GrAOYI8qgXFHX6JNqjQJj7ObnGgVC+iQn1+xUiUjv4c0Ka8/ZrZUs8pVDt1Pn6KLA0447f63T+w/pzxPPE88T7sKxP5zFOv/PvJzx8+d/3/uzAdril4Yp+YHu+9DanbM152eB1C//wVIYPR/jBkhAkkTYEEkadTp21DV0XszpZ+WWC+qrRfWXAgggAACCCCAAAIIIICA2wROuEM67HLX9Ir5umtCkdYdsWNBxHMJjOPHb9t5MdHL1DNoUKK1eKJ8VAmMZiRWsqG+Nqlska9oExh31HTj/ffr5n//u6pic4z002PHRm7IY3ekUwKjx0JDdxFAAAEEEEAAAQR8KrA+o76WDJqoI8e560NqdszXfRoyhpVEARIYk4hNUwj4XYAFEb9H2GXjKy9V6dfvKHeyu3Y2cZkS3UEAAQQQQAABBBBAAIFUCfS3kl9cshMj8/VUPQS0W13AjgURTyUwmp0XzzrLvodgypS02Ikx6gRGI/vjj9aZut9FNI41gbHE2uFxn759g8dKm6ugdm398sYbys7OjtiWl24ggdFL0aKvCCCAAAIIIIAAAn4SeLvfePV4xj0fUrNjvu6n+DCW1AiQwJgad1pFwJcCLIj4MqzuHtSP1nFB9x/p7j7SOwQQQAABBBBAAAEEEEhLgdKcAuUO+sTKfGmR8vEzX095COiAJWDHgohnEhhXrrQSmDvFd2z07p4Wc5y0OTa50H3Hjdn5gMeUwGgaNkmG33yzx+OkY01gNNWed+ONenLGjKqhLX32We3XqlXcQ63eh5GXXqpRl10WrOvVDz/UlNde00eLFumHX37R+k2b1Nk6rnr+5MkhbW3ZulVvfPyx3p47V/O+/FJffvut1m7YoIrKSjWoW1fmaOzfd+6s8088UV3233+P/czo1i2mcTw8YoQushI6d3d9s3q1nnr1Vb1m9e8rK6H0Z+u49Bwr2bN5o0Y6orhY/Xr10sk9esTU5p5ujucIadsapyIEEEAAAQQQQAABBGwS+OCqKa7ZidGO+bpNLFSTxgIkMKZx8Bk6AnYLsCBityj1RRT4ZZk04eCIt3EDAggggAACCCCAAAIIIJAKga3t+ir/3CdS0XRIm8zXUx4COmAJ2LEg4pkExv79penT7Y+7qXfaNPvrdVGNMScwmr5bOyYGd2Jct67GkcSTwDj8n//UbY8+WlXfh9aR0odbyXjxXrsmMP75zDN18ZgxevHdd8Oq3DWBcZKVPDnknnu0+bffomreHHn9r+uvV0GdOjXeb1cCo9mpcvi99+pe65ksLSvbY98OsxJ6J990k/bde++oxrCnm0hgTJiQChBAAAEEEEAAAQRcIGCOk946e7GaH5z6D6nZMV93ASld8LgACYweDyDdR8BNAiyIuCkaadKX8hIFbm2pjMo9vyRNEw2GiQACCCCAAAIIIIAAAi4TqFSGMgfPlxq0SWnPmK+nlJ/GtwvYsSDiiQTG5cultm2lQMD+2GdkSMusD3MWFdlft0tqjCuBcUffS0qkn3+WNm6UTLLf9hjEk8D4Vyth8O9PPlmlMufxx3Vwhw5xK1Xvw/CLLtJbs2frY2vXRXPVt3ZQ3H+ffZSXk6MV1m6GZkfF6jsw7tqXhvXqqcjaibOedbR1WUWFVllj/tra9TNQ7ZkzfX3/X/9Sfl5eWJ+PH7TtqLqF1rNkypqrsEkTFZvntobrmvPO03GHHRbynXWW8cnXXKP35lv/G1ftMrtUtrTqKisv1/+snTHNLpE7rqYNG2rm/fer4777xu1oCpLAmBAfhRFAAAEEEEAAAQRcJPBhy/464vvUf0jNjvm6i1jpikcFSGD0aODoNgJuFGBBxI1RSYM+PdBdWr0gDQbKEBFAAAEEEEAAAQQQQMCLAhu7/lkFfW9JadeZr6eUn8a3C9ixIOKJBMbhw6XbbnMu7sOGSWPHOld/imtOKIGxet+to5WDiYxffaV4Ehj/8Je/6OX336+q8fv//lctmzaNW6d6HwqsxMONmzdrb6u+e6wkwFO6d1e2deTyjsscw1z9uOprx43Tp0uW6Jw+fXT8kUeqdfPmYf1Y+dNPGj91ajDpssJKajTXNeeeq7uscezuumjUKD1qjctcF/7hD3rE+nc0l0mUND6vfPBB8PbMzEz95ayzNMRqr7pRpRWDF955R3+6446qRMmOVvLt7Mce0175+dE0VeM9JDDGTUdBBBBAAAEEEEAAAZcJmA++rnx7mVp1T+2H1OyYr7uMlu54UIAERg8GjS4j4FYBFkTcGhmf9+sN6+Xqe3f7fJAMDwEEEEAAAQQQQAABBLwqsLp2B7W49uOUdp/5ekr5aXy7gB0LInEnMG7aJC1enJxYWLvr6YsvnGvL7AL48MPO1V+95gMOkKzdAJN52ZbAaDq9datk7XIYawLjD2vWqOjUU7XV7OhoXa2aNdO3L72UEEP1PpiKWjRurI+sONaUjLhrQ79u2aI6tWpF1f7kGTN07o03Bu+tvddeMomXZofHmq54ExgfsI60Hrg9iTY7K0vPWgmKfa0kzN1d3/3wg7pdeKF+XLs2eMvfreRHk+wY70UCY7xylEMAAQQQQAABBBBwo8Csw4ep54ep/ZCaHfN1N9rSJ28JkMDorXjRWwRcLcCCiKvD49/OrVshjTvIGp8DRzP5V42RIYAAAggggAACCCCAQJIEypStnBtWS9m5SWoxvBnm6ymjp+FqAnYsiMSdwPjRR9IRRxCPWAU+/FA6/PBYSyV0/64JjNFWNnjwYN1jHfsccpldGOfNU8/LLtPbc+cGv7VPixZa8cILu622pLRUp/71r5phxr79GnLOOfr71VdH25Ua79s1gXHyzTfrbGtHRSeuIy++WB8uXBiseuqtt+rM446rsZl4EhjN7o7t+/ULHlltrqEXXKDbtx9JvaexPP7yy7pg5MioYhDJhATGSEJ8HwEEEEAAAQQQQMBLAktqdVXHzbNT2mU75uspHQCN+0KABEZfhJFBIOAOARZE3BGHtOzF1POlz3f/8jktTRg0AggggAACCCCAAAIIuEag9MrZym3aLmX9Yb6eMnoariZgx4IICYxJfqS8nsBouKyjl3uef/4eExjLy8v107p1mjVnjm579FEttI6d3nE1rFdP/5s2TU0aNEgIv3oCYyOrztXWTok51Y6NTqjyXQr/1UrkNEdJm2tPyZfxJDAao14DBwbrNkdHr7R2eGxu7SYZ6TKJoQ2OOUa/bd/V8svp09WudetIxWr8PgmMcbFRCAEEEEAAAQQQQMClAiXKVYZ1akBundR98NWO+bpLeemWhwRIYPRQsOgqAm4XYEHE7RHycf82rpLus3YE2LrBx4NkaAgggAACCCCAAAIIIOBVge/PelN7dzgkZd1nvp4yehquJmDHgggJjEl+pFyQwNjdOpp4L+so5EjXaaedpssvvzz8tu+/V89TTqlKYIxUT/XvF9SurVfGjdORnTvHUqzGe6snMJ501FF68e6746pz1c8/641PPgkmWa62jrreZB0vbZIDq19fWWNeZv3HXGcee6ymbj/uedcG40lgHP3ggxo1aVKwqgPbtdOCyZOjHkcX69jo+V9+Gbw/kR0oSWCMmpwbEUAAAQQQQAABBDwisOK1L9XmuNR98NWO+bpHqOmmiwVIYHRxcOgaAl4TYEHEaxHzWX8XTZeeudhng2I4CCCAAAIIIIAAAggg4AeBZWe9o7YdEk+AideC+Xq8cpSzU8COBRESGO2MSBR1uSCBcfny5WrTpk0Und3NLdaOfz2PPDKmBMasrCz1Pfpo3TNkSPDIaTuu6gmMg886S/dcc01M1X5uOVxj7az4qnUceqU5GjvKq7d1BPirEybUeHc8CYz9hg7VszNnButrXL++unboEGVPpE+s3TDXbdwYvH+cNf6rLId4LhIY41GjDAIIIIAAAggggICbBb585jO171ecsi7aMV9PWedp2DcCJDD6JpQMBIHUC7AgkvoYpH0PPn5AemVo2jMAgAACCCCAAAIIIIAAAu4RKAlka9WVX6moWWLHjyYyIubriehR1i4BOxZESGC0KxpR1uOHBEZrqD0PO0xvW7sWmis/L089unQJAci2jnI2uy02tY6JPthKyPu/bt3UsmnTKJGiu616AuONf/yjxmw/hjma0q+8/75Ov+46bd1+/HI0ZXbc0+PggzXrAet9WQ1XPAmM1ccRSz92vXf0ZZdpxKWXxlUFCYxxsVEIAQQQQAABBBBAwMUC7MDo4uDQtaQJkMCYNGoaQsD/AiyI+D/Gnhih2Ynxpas5TtoTwaKTCCCAAAIIIIAAAgj4X2Bh5b7af8Qc5WZnpmywzNdTRk/D1QRSmsC4aZO0eHFy4nHRRdIXXzjXltnx7v+zdx9wdlR138D/6QmE0EIRCBC6FCkRX0WkCghKVxBBBKRYUZqIIFVQEeURAREDwceIgogiCgpKR3iQHooQQog0ISg1hPR3z+Bedjdb7u7eMvfOdz6f5/Vld+bMOd/f3Ju9Z/73zIQJ1Wu/bcvrrRex2GK1Odd/z3LyySfHKaecUjpnv1dgbGlpqy23jJtvuSVrM62o+NTvf1/TMaWTtS38O6mlcO/klgK+crb0yOi1P/7xeKPlUdFpW2T48Nhvxx1jh5aVFd89dmy8a/ToGNFSlDls6NBSc+kRz+lRz2mrdAHjpvvvH3c/+mg5Xe92n94YdGxIAWO/+TVAgAABAgQIECCQI4FZMTQGtHxmHTrynb/pa929Snxer3Wfna/5BBQwNl+mRkSgbgJuiNSN3ok7Crz2fMSfjo14JE1IL+jRZ0HLLgMG9LibHQgQIECAAAECBAgQINBrgV8P/0R84uvje31cJQ/web2Smtrqq0Alboj0eQXGvna6L8cdd1zEd77TlyPLO+brX4/49rfL27cB96pKAeNWW8XNN9+caTRaAeMxP/xhnDVxYtb3xUeOjNvHj4/1Vl+922SPPPvsOPvSS7N9Kl3AuN0Xvxh/+e9qlvt+5CMx8bTTan6VKWCsObkTEiBAgAABAgQIVFHgkUXGxboz7q7iGXpuuhKf13s+iz0IdC+ggNEVQoBAxQTcEKkYpYYqJfDyUxH3XBIx5caIFx+JmDf7nZYHtXyLZdl1Y/Ji74uTH185PjXv97HjwL/HwAE9FzzOb9llXgyKIQPmVaqn2iFAgAABAgQIECBAoAkF5i8YEBdufGV8brdt6jo6n9fryu/k/xWoxA2RhihgnDo1IhWYpW9LVnpL376cMiWiZeW9Zt0UMLZPdv29946Hn0wlexEnHnxwnHLYYT1G/4mWItcr/vrXbL9KFzB++sQTY+K112Ztb7ruunHXz37WY38qvYMCxkqLao8AAQIECBAgQKCeAje9/+ux1R31/ZJaJT6v19PQuZtDQAFjc+RoFARyIeCGSC5i0ImuBOa2FC+++nTE3LciBg9v+dr6mJb/fXsp7hdeeytOufrhmPTQg7HPoBti84GTYu0BT8ewAXNLrc1aMDgeWzAmbp2/Qfxy3jYxf8CQOH7Qz8ouerTKo0uTAAECBAgQIECAQPEErpn3vtjgiKtizFKL1HXwPq/Xld/J/ytQiRsiDVHAmMbb8sjf+M1vKp99avfXv658uzlqseoFjGPGxFNXXdXyzdTafim1r4+QXqzl8detj4/+Q8vKih/dfPNu01rQMgG10kc/GunR02nrroDxoFNPjQlXX53tt3/LMT9reXx3T9uPr7givvDd72a7DRo0KP71pz/F6CWW6Omwiv5eAWNFOTVGgAABAgQIECBQR4H5MSCevXlKjNmivl9Sq8Tn9ToyOnWTCChgbJIgDYNAHgTcEMlDCvrQH4Gn//NmXHrXP+O2yS/Fk/96OZaZ/0IMizkxK4bE9IHLxWrLLxkfWnN07PO+lWPo4IG9Knq8bt64OHz4n2Lr+XeWtcqjgsf+JOlYAgQIECBAgAABAvUXeHXBIvGd1S6Jb39mh7p3xuf1ukegAy0Clbgh0jAFjM8+G7H++hGvvFK57FOR2MMPR6ywQuXazGFLVS9gXGWVeOrxxyOebvmS68svlyWQ1tKc1/JF1kEL5rTcXux5S/svaNlzYMv/27r1tYBx+Ac/GLNmv/1EkXIKGP9w662x85FHls7bXQHj4WedFT+67LJs3098+MNxeRmPJp/acm2vvvvuLQuMvj22U1tWhPxmy8qQtdwUMNZS27kIECBAgAABAgSqKXDHih+PDzxT/y+pVeLzejWdtF0MAQWMxcjZKAnURMANkZowO0mNBGbPnR/PvjIzZs2dF8MGD4oVlxiRFS123HpT9JhWXXlu6j9i2vXnxegX/harzH0qhrZZ5XF2yyqP0wavGi8t98FYauPdYsbNZ8dGr99aVsFjejTdTQs2yp5QtfXA+8s6RpFkjS4mpyFAgAABAgQIECikwDHx1Tj6yONiuVEtK8DXefN5vc4BOH0mUIkbIg1TwJgGnArDPvnJyqX/q19FtDxOuNm3mhQwPvXU24yzZkWklQpfey1i5sz2j/1Oj+seMSJi1KiIZZaJGDYsZr8+K2Y9Mz0Gz3wths2f2a5AMa2cMmvgiJg7YlQMW2mZGDCw5b+feDoWnfNyVvTYUwFjKgfsrDhytV13janPPZd195hPfzrOPPzwLi+BGS1j2Hi//WLyP/9Z2qe7AsZvT5gQ3zj//GzfDddcM+6/9NKyLq+9jjsufv2Xv2T7LtpidPv48bHhWmuVdWwldlLAWAlFbRAgQIAAAQIECNRb4JUBS8Rbdz8cy29S/y+pVeLzer09nb/xBRQwNn6GRkAgNwJuiOQmCh2pk0C5RY+t3Zs966144enJMXfWmzF42CKx3Jg1Y+iw9jc3yy14XGW7L8SgpVft9aqQhw7+Y9mPwZ7fMpv+QiwZy8UrZRVIpv3nxaAYMqC2j2WqU/xOS4AAAQIECBAgQKAkcNKcz8R79/p67Lxh/SehU6d8Xndx5kGgEjdEGqqAMaH/6EcR3RSclZ3LOedEfPnLZe/eyDvWtICxLdT8+RFppcP0vwNbvsA6dOjb/9vFNn/e/JgzY3YsaPnfAYMGxpBFh8bAlv/tuLUWPX7003vErff8Pfv1SYccEicfemi0K3pcfokY+p8XYkHLqpBtCxkP/ta34qL0yOuWbZHhw+PGCy6I9623Xra2Y9tVIae3HLfnscfGrffd164LrQWMna0Ked2dd8YO/72u0uvz2h/+MHb4wAd6vHyeaFm9clxLMeVrM2Zk+y6z5JLxvy2Pn/7IZpt1e+yL//lPXPKHP8SDkyfHxNNO6/E8Xe2ggLHPdA4kQIAAAQIECBDIkcDfDv9VbPbDfHxJrRKf13NEqysNKqCAsUGD020CeRRwQySPqehTMwmUU/CYxlvuqpDbvXu5+OltT8akhx6MfQbdEJsPnBRrD3g6hrVZFXJWy6qQjy0YE7fO3yB+OW+bmLvYmBjy+tNl7z+/5RFLxw/6WdWKJK0i2UxXuLEQIECAAAECBBpfID02+vg5n433fvSzccAHx+ZmQD6v5yaKQnekEjdEGq6AMSWeVmL83Of69jjp9NjoloK1Iqy82PriqFsBY5VfnVtttVXcfPPN2VmO/9o34pvHf7Pzosc2q0IuaFlR8ZEnnogN99035s17+8uhw1oKKz/bsrLn9jvvHEsvv3w8//TzcfOfr4tfXHl5vPL6a7H4yJGxU8tjp3/55z9n+39o3Kbxx59f2emqkHPnzo1VW1Z4fPbFF0ujf/fYsbHqu94VQ4cMyX6Wiiy/svdese2mm7YTuub222O3o4+OOS1ttG7v32CD2HWLLWL91VePJRZbLGa2jOWllseoT2oZw+0PPBC3P/hgNo7uVoUsJwYFjOUo2YcAAQIECBAgQCDPAjfveU5seUV+vqRWic/refbWt8YQUMDYGDnpJYGGEHBDpCFi0smCCZSzKmS5BY/7vG/lSI/B7s3+6bHbp1z9cNWKJK+bNy4OH/6n2Hr+nWWuCtn7R233ZeXJ3q1UOSBumL9hyy2BAWU//lufyntMOidOXb3lz1/gdTdwQFqDpfuNU7krDrueXE9dv5Z6/2+R66mRr6dr528aPxh0UHx19y1zs/Ji69Xp83pP/+r5fS0EKnFDpCELGBNuegTwV74S8ZvftH9McVfw6fHFe+4Z0bIiXqyQj5Vca3GNpHMUoYDxpJNOysbZ4/bfVSHP+/GP40tHHtnj7iNbihd/ccnEuOuuu+L0M8/I9t9yyy3jpptuands20dh33bnzbH70UdFevx0V9tPf3xh7L3ljgs9Ovu2+++PT3z96/Gvf/+7x7613aHtqpBvDl48+9Uic1/t9BHaHRtOn2KmtDy8e05LaWU8+mgMa3lc9monnNDl+bt6NHevOmxnAgQIECBAgAABAhUSSI+NfuTLF+Rm5cXWYVXi83qFiDRTYAEFjAUO39AJVFrADZFKi2qPQO0Fyil4bNurcvfvTdFjb4sk0/7VfNR2X1ae7M1Klb9qWdlyzbXXa2EdEJMfe6js1S17c47ejkGfyltllBOnSq5a63pyPbme3v4Lo7+rP/fm30evO6+7Sr/uNlj/PXHSzuvFcqOG1/4P+R7O6PN67iIpZIcqcUOkYQsYWxOfOjXiwgsjrr8+YtKktx9Z3LqlRxa3rGAX228f0fKI4WhZCa+ImwLGzlO/quUx0kcddVRMmTJloR0GDRoU2223XZzT8qjxNddcs10RaGcFjG0bSI/CnvzI5Lhowvi49fZb44knp8Srr74ac+bMKe02YcKEOOCAA7L/7vjo7Jnz3orzzj+vZaHQC+KZZ57p8pId3NLHTdddN3bbeuvYc6fdY9mV18hWhRy62LDsmLZFlcPmz2wpUXznC1ftHrXdcswz05+Nt96cGW9Mfi6GPvZEvPu4r8aweOe1NCuGxpRFNogXN9w+lj5ol3jj5O/H/3v2N+3a7Kqj6Vx3L7NTmqKJ9754TZnHRPxr4Iqx/PznqrS/PrW9HmTXXqCllLeX15/ryfXU9V8Xrifv49397dn768P7U3nvN5yK5PR/K+4ZY3//w1h+k/x9Sa0Sn9eL+PnVmCsroICxsp5aI1BoATdECh2/wRMoW6DcosfWBnu9/6y34oWnJ8fcWW/G4GGLxHJj1oyhwxa+iVztosretp/G29tjqr2/Pr2TUhTlAAAgAElEQVQUT/7r5Vhm/gstN0PmxKwYEtMHLherLb9kfGjN0dG6KiknTt1dH719nbqeXE+up4XfZ3v7Ourt/l53XneVft2V/YdxDXf0eb2G2E7VpUAlbog0fAFjW51UvDhtWsRbb0UMb/nMusoqEamI0UagC4H0+OW///3vce+998bLL78cS7Q8YvxdLY973nzzzWPZZZetu9tjjz0W99xzT7z00kvx2muvxYgRI2KppZaKsSutGuutvW6MWmLxzh+b3aHnHYskhyw6NAYOGljaq+P7wErLrhTP3TEtZr/2Vgxt+RLBCh9YJYaObP9aevqWqTHl2Atj2Qevj9XfnNRlwePq3zkkxmzxdvFwb4+p9v76JLvWF0HbIt3Wa7a315/ryfXkenqn2L2vryOvu/JeR5w4VfL9plmup7r/4d5JByrxeT2P49KnxhJQwNhYeektgVwLuCGS63h0jgCBbgR6XSQ5d348+8rMmDV3XgwbPChWXGJEpMdld7X1tv3UTm+Pqfb++lRe1pw4eS9Y+J3Q+1N5rwtOnLr7Y63a10dv2/fvXXnXa57+APd5PU9pFLcvlbgh0lQFjMW9FIycQL8E+vs+MPuN2T0WPHbsYG+Pqfb+2d9ivRxHtffXp64LaF1Pvb9eXU+up46F6G1fR719P3M9uZ5cT53M11b57wivu/Jfd/36w7iCB1fi83oFu6OpggooYCxo8IZNoBoCbohUQ1WbBAgQIECAAAECBAgQIECgfwI+r/fPz9GVEajEDZH+Fi5VZiRaIUCgngLeB+qp79wECBAgQIAAAQLNKFCJz+vN6GJMtRVQwFhbb2cj0NQCbog0dbwGR4AAAQIECBAgQIAAAQINKuDzeoMG12TdrsQNEYVLTXZRGA6BPgh4H+gDmkMIECBAgAABAgQIdCNQic/rgAn0V0ABY38FHU+AQEnADREXAwECBAgQIECAAAECBAgQyJ+Az+v5y6SIParEDRGFS0W8coyZQHsB7wOuCAIECBAgQIAAAQKVFajE5/XK9khrRRRQwFjE1I2ZQJUE3BCpEqxmCRAgQIAAAQIECBAgQIBAPwR8Xu8HnkMrJlCJGyIKlyoWh4YINKyA94GGjU7HCRAgQIAAAQIEcipQic/rOR2abjWQgALGBgpLVwnkXcANkbwnpH8ECBAgQIAAAQIECBAgUEQBn9eLmHr+xlyJGyIKl/KXqx4RqLWA94FaizsfAQIECBAgQIBAswtU4vN6sxsZX/UFFDBW39gZCBRGwA2RwkRtoAQIECBAgAABAgQIECDQQAI+rzdQWE3c1UrcEFG41MQXiKERKFPA+0CZUHYjQIAAAQIECBAgUKZAJT6vl3kquxHoUkABo4uDAIGKCbghUjFKDREgQIAAAQIECBAgQIAAgYoJ+LxeMUoN9UOgEjdEFC71IwCHEmgSAe8DTRKkYRAgQIAAAQIECORGoBKf13MzGB1pWAEFjA0bnY4TyJ+AGyL5y0SPCBAgQIAAAQIECBAgQICAz+uugTwIVOKGiMKlPCSpDwTqK+B9oL7+zk6AAAECBAgQINB8ApX4vN58KkZUawEFjLUWdz4CTSzghkgTh2toBAgQIECAAAECBAgQINCwAj6vN2x0TdXxStwQUbjUVJeEwRDok4D3gT6xOYgAAQIECBAgQIBAlwKV+LyOl0B/BRQw9lfQ8QQIlATcEHExECBAgAABAgQIECBAgACB/An4vJ6/TIrYo0rcEFG4VMQrx5gJtBfwPuCKIECAAAECBAgQIFBZgUp8Xq9sj7RWRAEFjEVM3ZgJVEnADZEqwWqWAAECBAgQIECAAAECBAj0Q8Dn9X7gObRiApW4IaJwqWJxaIhAwwp4H2jY6HScAAECBAgQIEAgpwKV+Lye06HpVgMJKGBsoLB0lUDeBdwQyXtC+keAAAECBAgQIECAAAECRRTweb2IqedvzJW4IaJwKX+56hGBWgt4H6i1uPMRIECAAAECBAg0u0AlPq83u5HxVV9AAWP1jZ2BQGEE3BApTNQGSoAAAQIECBAgQIAAAQINJODzegOF1cRdrcQNkalTp8Zbb72VKQ0dOjRWX331JhYzNAIEOhOYMmVKzJ49O/vViBEjYtVVVwVFgAABAgQIECBAgEA/BCrxeb0fp3cogUxAAaMLgQCBigm4IVIxSg0RIECAAAECBAgQIECAAIGKCfi8XjFKDfVDoBI3RP75z3/GjBkz3p7YHjAg1lprrRg4cGA/euVQAgQaSWD+/Pnx+OOPx4IFC7JuL7roorHyyis30hD0lQABAgQIECBAgEDuBCrxeT13g9KhhhNQwNhwkekwgfwKuCGS32z0jAABAgQIECBAgAABAgSKK+DzenGzz9PIK3FD5MUXX4x///vfpWGttNJKka5vGwECxRB4/fXX45lnnikNdvTo0bHMMssUY/BGSYAAAQIECBAgQKBKApX4vF6lrmm2QAIKGAsUtqESqLaAGyLVFtY+AQIECBAgQIAAAQIECBDovYDP6703c0TlBSpxQyQ9Pjo9Rrp1S4+PTauvWYWx8nlpkUDeBNLqi2kV1pkzZ5a6Nnbs2Bg+fHjeuqo/BAgQIECAAAECBBpKoBKf1xtqwDqbSwEFjLmMRacINKaAGyKNmZteEyBAgAABAgQIECBAgEBzC/i83tz5NsroKnFDJD029sknn4zZs2eXhp2KGJdeeunsUbIKGRvlatBPAuULpMLF9Oj4tPpq2+LFoUOHxmqrrZY9Tt5GgAABAgQIECBAgEDfBSrxeb3vZ3ckgbcFFDC6EggQqJiAGyIVo9QQAQIECBAgQIAAAQIECBComIDP6xWj1FA/BCp1Q+S1116LZ599dqGepPaHDBmimKkfGTmUQN4EUtHynDlzIv1vx23FFVeMUaNG5a3L+kOAAAECBAgQIECg4QQq9Xm94Qauw7kSUMCYqzh0hkBjC7gh0tj56T0BAgQIECBAgAABAgQINKeAz+vNmWujjaqSN0ReffXVeO655xqNQH8JEKiQwAorrBCLL754hVrTDAECBAgQIECAAIFiC1Ty83qxJY2+PwIKGPuj51gCBNoJuCHigiBAgAABAgQIECBAgAABAvkT8Hk9f5kUsUeVviGSVmKcPn16u8dJF9HVmAkUSSA9NnqZZZax8mKRQjdWAgQIECBAgACBqgtU+vN61TvsBE0poICxKWM1KAL1EXBDpD7uzkqAAAECBAgQIECAAAECBLoT8Hnd9ZEHgWrcEEmPlZ01a1akYsa33nor5s+fn/2fjQCB5hAYOHBgpP8bMWJEpH/Lhg0b5jHxzRGtURAgQIAAAQIECORIoBqf13M0PF1pEAEFjA0SlG4SaAQBN0QaISV9JECAAAECBAgQIECAAIGiCfi8XrTE8zleN0TymYteESBAgAABAgQIECBAgECxBXxeL3b+eRm9Asa8JKEfBJpAwA2RJgjREAgQIECAAAECBAgQIECg6QR8Xm+6SBtyQG6INGRsOk2AAAECBAgQIECAAAECTS7g83qTB9wgw1PA2CBB6SaBRhBwQ6QRUtJHAgQIECBAgAABAgQIECiagM/rRUs8n+N1QySfuegVAQIECBAgQIAAAQIECBRbwOf1Yuefl9ErYMxLEvpBoAkE3BBpghANgQABAgQIECBAgAABAgSaTsDn9aaLtCEH5IZIQ8am0wQIECBAgAABAgQIECDQ5AI+rzd5wA0yPAWMDRKUbhJoBAE3RBohJX0kQIAAAQIECBAgQIAAgaIJ+LxetMTzOV43RPKZi14RIECAAAECBAgQIECAQLEFfF4vdv55Gb0CxrwkoR8EmkDADZEmCNEQCBAgQIAAAQIECBAgQKDpBHxeb7pIG3JAbog0ZGw6TYAAAQIECBAgQIAAAQJNLuDzepMH3CDDU8DYIEHpJoFGEHBDpBFS0kcCBAgQIECAAAECBAgQKJqAz+tFSzyf43VDJJ+56BUBAgQIECBAgAABAgQIFFvA5/Vi55+X0StgzEsS+kGgCQTcEGmCEA2BAAECBAgQIECAAAECBJpOwOf1pou0IQfkhkhDxqbTBAgQIECAAAECBAgQINDkAj6vN3nADTI8BYwNEpRuEmgEATdEGiElfSRAgAABAgQIECBAgACBogn4vF60xPM5XjdE8pmLXhEgQIAAAQIECBAgQIBAsQV8Xi92/nkZvQLGvCShHwSaQMANkSYI0RAIECBAgAABAgQIECBAoOkEfF5vukgbckBuiDRkbDpNgAABAgQIECBAgAABAk0u4PN6kwfcIMNTwNggQekmgUYQcEOkEVLSRwIECBAgQIAAAQIECBAomoDP60VLPJ/jdUMkn7noFQECBAgQIECAAAECBAgUW8Dn9WLnn5fRK2DMSxL6QaAJBNwQaYIQDYEAAQIECBAgQIAAAQIEmk7A5/Wmi7QhB+SGSEPGptMECBAgQIAAAQIECBAg0OQCPq83ecANMjwFjA0SlG4SaAQBN0QaISV9JECAAAECBAgQIECAAIGiCfi8XrTE8zleN0TymYteESBAgAABAgQIECBAgECxBXxeL3b+eRm9Asa8JKEfBJpAwA2RJgjREAgQIECAAAECBAgQIECg6QR8Xm+6SBtyQG6INGRsOk2AAAECBAgQIECAAAECTS7g83qTB9wgw1PA2CBB6SaBRhBwQ6QRUtJHAgQIECBAgAABAgQIECiagM/rRUs8n+N1QySfuegVAQIECBAgQIAAAQIECBRbwOf1Yuefl9ErYMxLEvpBoAkEBg4cGAsWLMhGMnLkyCYYkSEQIECAAAECBAgQIECAAIHGF3jjjTeyQaQJ6fnz5zf+gIygIQXa3hBpyAHoNAECBAgQIECAAAECBAgQaHKB1nqPJh+m4eVQQAFjDkPRJQKNKmAiulGT028CBAgQIECAAAECBAgQKIqAieiiJJ2/cZo3yl8mekSAAAECBAgQIECAAAECBNoKmDdyPdRLQAFjveSdl0ATCgwaNChbySFNSC+66KINM8LWlShSh60c2TCx9amjsu4TW0MeJOuGjK3PnZZ3n+ka7kBZN1xkfe6wrPtM15AHyrshY+tTp2XdJ7aKHDRjxozsiQnpyQnz5s2rSJsaIdBbAQWMvRWzPwECBAgQIECAAAECBAgQqK2AAsbaejvbOwIKGF0NBAgUXmCxxRaLdCMtFS++/vrrhfdoZgBZN3O67ccm6+JknUYq7+LkLWtZF0egWCP12i5O3rIuTtZGSqCZBLx3NVOa3Y9F1rIujkCxRuq1XZy8ZS3r4ggUa6Re28XJW9bFydpICXQmoIDRdUGAQOEF/DFUnEtA1rIujkCxRuq1XZy8ZS3r4ggUa6Re28XJW9bFydpICTSTgPeuZkpTAWNx0pS1rN8R8D5enKtB1rIujkCxRuq1XZy8ZV2crI2UgAJG1wABAgQ6EfDHUHEuC1nLujgCxRqp13Zx8pa1rIsjUKyRem0XJ29ZFydrIyXQTALeu5opTUVtxUlT1rJ+R8D7eHGuBlnLujgCxRqp13Zx8pZ1cbI2UgKdCViB0XVBgEDhBfwxVJxLQNayLo5AsUbqtV2cvGUt6+IIFGukXtvFyVvWxcnaSAk0k4D3rmZKU1FbcdKUtawVMBbxGvBvdnFSl3Vxsk4jlXdx8pZ1cbI2UgKdCShgdF0QIFB4AX8MFecSkLWsiyNQrJF6bRcnb1nLujgCxRqp13Zx8pZ1cbI2UgLNJOC9q5nSVNRWnDRlLet3BLyPF+dqkLWsiyNQrJF6bRcnb1kXJ2sjJaCA0TVAgACBTgT8MVScy0LWsi6OQLFG6rVdnLxlLeviCBRrpF7bxclb1sXJ2kgJNJOA965mSlNRW3HSlLWs3xHwPl6cq0HWsi6OQLFG6rVdnLxlXZysjZRAZwJWYHRdECBQeAF/DBXnEpC1rIsjUKyRem0XJ29Zy7o4AsUaqdd2cfKWdXGyNlICzSTgvauZ0lTUVpw0ZS1rBYxFvAb8m12c1GVdnKzTSOVdnLxlXZysjZRAZwIKGF0XBAgUXsAfQ8W5BGQt6+IIFGukXtvFyVvWsi6OQLFG6rVdnLxlXZysjZRAMwl472qmNBW1FSdNWcv6HQHv48W5GmQt6+IIFGukXtvFyVvWxcnaSAkoYHQNECBAoBMBfwwV57KQtayLI1CskXptFydvWcu6OALFGqnXdnHylnVxsjZSAs0k4L2rmdJU1FacNGUt63cEvI8X52qQtayLI1CskXptFydvWRcnayMl0JmAFRhdFwQIFF7AH0PFuQRkLeviCBRrpF7bxclb1rIujkCxRuq1XZy8ZV2crI2UQDMJeO9qpjQVtRUnTVnLWgFjEa8B/2YXJ3VZFyfrNFJ5FydvWRcnayMl0JmAAkbXBQEChRfwx1BxLgFZy7o4AsUaqdd2cfKWtayLI1CskXptFydvWRcnayMl0EwC3ruaKU1FbcVJU9ayfkfA+3hxrgZZy7o4AsUaqdd2cfKWdXGyNlICChhdAwQIEOhE4IwzzojZs2fH0KFD4xvf+AajJhaQdROH22Fosi5O1mmk8i5O3rKWdXEEijVSr+3i5C3r4mRtpASaScB7VzOl2f1YZC3r4ggUa6Re28XJW9ayLo5AsUbqtV2cvGVdnKyNlEBnAlZgdF0QIECAAAECBAgQIECAAAECBAgQIECAAAECBAgQIECAAAECBAgQIECAAAECNRdQwFhzcickQIAAAQIECBAgQIAAAQIECBAgQIAAAQIECBAgQIAAAQIECBAgQIAAAQIEFDC6BggQIECAAAECBAgQIECAAAECBAgQIECAAAECBAgQIECAAAECBAgQIECAAIGaCyhgrDm5ExIgQIAAAQIECBAgQIAAAQIECBAgQIAAAQIECBAgQIAAAQIECBAgQIAAAQIKGF0DBAgQIECAAAECBAgQIECAAAECBAgQIECAAAECBAgQIECAAAECBAgQIECAQM0FFDDWnNwJCRAgQIAAAQIECBAgQIAAAQIECBAgQIAAAQIECBAgQIAAAQIECBAgQIAAAQWMrgECBAgQIECAAAECBAgQIECAAAECBAgQIECAAAECBAgQIECAAAECBAgQIECg5gIKGGtO7oQECBAgQIAAAQIECBAgQIAAAQIECBAgQIAAAQIECBAgQIAAAQIECBAgQICAAkbXAAECBAgQIECAAAECBAgQIECAAAECBAgQIECAAAECBAgQIECAAAECBAgQIFBzAQWMNSd3QgIECBAgQIAAAQIECBAgQIAAAQIECBAgQIAAAQIECBAgQIAAAQIECBAgQEABo2uAAAECBAgQIECAAAECBAgQIECAAAECBAgQIECAAAECBAgQIECAAAECBAgQqLmAAsaakzshAQIECBAgQIAAAQIECBAgQIAAAQIECBAgQIAAAQIECBAgQIAAAQIECBAgoIDRNUCAAAECBAgQIECAAAECBAgQIECAAAECBAgQIECAAAECBAgQIECAAAECBAjUXEABY83JnZAAgTwIPPvsszFx4sT4/e9/H0899VS89NJLMXr06Fh11VVjl112if322y9WXHHFPHRVH/4r8Prrr8f9998f99xzT9x7773Z/z722GMxb968bI9VVlkly7I/m+uiP3qVO3bWrFlx++23x0033ZRl/cgjj8T06dMj/XzxxRePlVZaKf7f//t/sfvuu8f2228fAwYM6PXJZd1rsqocsGDBgizfv/3tb/HAAw/Eo48+GtOmTYsXX3wx3nzzzRgxYkQsueSSse6668bmm2+evTen9+nebvLurVh99v/GN74R3/72t9ud/MYbb4ytttqq7A7Jumyqqu2Y/i0eO3Zsr9tfbrnl4l//+lfZx8m6bKqa7pj+LrvhhhviyiuvjDvuuCPL9OWXX46llloqll9++VhrrbViyy23zP5vvfXWK6tvsi6Lqao79eVvrY4dSv/ml7PJuxwl+xAgUG0B70XVFq5O++aNquOax1bNG+Uxlcr3yZxR5U0bvUXzRo2e4Nv9N2/UHDn2dRTmjfoql+/jzBvlOx+9I9BIAgoYGyktfSVAoCICF1xwQRx99NExY8aMLtsbOXJknHXWWXHYYYdV5Jwa6Z/A2muvHZMnT47ubnz2t4DRddG/jCpx9AsvvBBHHHFE/OEPf4h046GcLRU/XHTRRVlBY7mbrMuVqv5+KbuDDz647BMNHDgwDj300Pjud78bo0aNKus4eZfFVPedUlH6+9///pg7d267vvSmgFHWdY8x60AtJqJlnY+sO/YiFaN/4QtfyArSy9nmzJkTgwcP7nZXWZcjWf19+jsRvfTSS2dfGOtpk3dPQn5PgEAtBLwX1UK58ucwb1R50zy2aN4oj6lUr0/mjKpn24gtmzdqxNQ677N5o+bJsrcjMW/UW7HG2d+8UeNkpacE8i6ggDHvCekfAQIVFTj11FPjpJNOatfmGmuska22mL5h/8QTT7T73WmnnRYnnHBCRfugsd4LlPPHb38KGF0Xvc+kGkfcfffdsemmmy7U9Lve9a5s1cXFFlssW8npH//4R8yfP7+0Xyp+uOyyy2KPPfbosVuy7pGopjuMHz8+DjnkkHZZphUW00psafXFVMj6+OOPZ6t3td022WST+Mtf/pKtztjdJu+axtnnk82ePTvGjRsXDz300EJtlFvAKOs+81f8wI4T0VtssUX2eu5pSyv0XXrppT3tFrLukaguO/zkJz+Jz3/+8+2+bLLIIotE+js7rXI+c+bMmDp1artVNnsqYJR1XaLs9KQf+chHetWZ559/Ph588MHSMV/96lfj7LPP9m92rxTtTIBAPQT821MP9cqc07xRZRzz3op5o7wnVNn+mTOqrGcjt2beqJHTW7jv5o2aK89yR2PeqFypxtzPvFFj5qbXBPIooIAxj6noEwECVRFIj4veddddS22nR5L+7//+b1Y00bqlb/Ltv//+2SNNW7errroqe6y0rX4CrRPRiy66aGy44YaRipdSbqlo7U9/+lPWsb4WMLou6pdrxzO3nYhOKyoecMABkT74dHxkcCpiPP300+O8884rFUoMHTo0u1GeVl3oapN1frJu7ckll1wSF198cey8886RipzSa3vIkCHtOppWXr3lllvi2GOPjf/7v/8r/W7fffeNiRMnyjt/sfa6R8cff3ycccYZ2XHpsfDXXXddqY1yChi9tntNXtUDOk5Ep6K1vjz6vbNOyrqq0fW58Z/+9KfZquWtK2Wvs8462b/TO+20UwwfPrxdu88880y20nJaTeXOO++MQYMGdXpeWfc5jlwcmFZLTtdF65YK1Lt7ZLi8cxGbThAovID3osa+BMwbNXZ+5fbevFG5Us2xnzmj5sixEqMwb1QJxfy0Yd4oP1nUqifmjWol3TjnMW/UOFnpKYFaCyhgrLW48xEgUBeBtMJLKlhsXWExreaWHm+XVvvpuP3nP/+J97znPdmKjGlbc801s4LGnh5xV5eBFeSkv/jFL7LCplSclh4h27qlAref/exn2X/2pYDRdZGvC+jee+/NVtY68cQTs7x72n70ox/F4YcfXtptzz33jCuuuKLTw2Tdk2b+fz9r1qz48Ic/HLfddlvW2XSDKk14rbzyygt1Xt75z7O1h+l1nwqW06OjN9poo/je974X2223XWkAPRUwyjp/WVdrIlrW+cs69SitirzxxhvHW2+9lXXwYx/7WPZv8bBhw/rcYVn3mS4XB7755pux/PLLZ6sopy29x6di1a42eeciNp0gUHgB70WNfwmYN2r8DMsZgXmjcpSKuY85o+bN3bxR82Vr3qj5Mu1uROaNipV3OaM1b1SOkn0IFFdAAWNxszdyAoUS+PnPf56trNi6XX755fGJT3yiS4P0+7333rv0+3T8fvvtVyizRhhsfwsYXReNkHL3fUw3xe+6665sp7TK07///e9Ij6zsuMm68bNOI0grMW655ZalwUyYMCFbqVPejZlvegTQe9/73pg0aVL2JYH0Wn711Vdj6623Lg2opwJGr+38ZV+tiWhZ5y/r1KPNN988br/99qxza621VvYFoY6rLva257LurVi+9k8r5Rx44IGlTqWVFg4++OAuOynvfOWnNwSKKuC9qHmTN2/UvNmWOzLzRuVKNf5+5owaP8OOIzBv1HyZphGZN2rOXLsalXmjYuVdzmjNG5WjZB8CxRVQwFjc7I2cQKEE0uNJ0+Pq0rbCCivEtGnTul1RMa0ElVb0e+6557Jj0iOk06OkbfkS6O9EtOsiX3n2pTfpEZUnnHBC6dCHH344W2214ybrvujm75j07bz0KPnWLT12+LjjjpN3/qIqq0fptZtew2n7+te/Ht/+9rfjpptu6lUBo9d2WdQ13alaE9GyrmmMZZ0srar3gQ98oLTv1Vdfna3A2N9N1v0VrO/xbW9OjBw5Mp5//vlI/9vVJu/65uXsBAi8LeC9qHmvBPNGzZttuSMzb1SuVOPvZ86o8TPsOALzRs2XaRqReaPmzLWzUZk3Kk7WvRmpeaPeaNmXQPEEFDAWL3MjJlA4gZkzZ8aSSy4Z6VESaTvooIPioosu6tEh7ZdW90pbWknm5Zdf7veKMj2e1A69EujPRLTrolfUud35ggsuiM9//vOl/t1xxx3x/ve/v11/ZZ3b+HrdsbQ63xJLLFE67txzz40vfvGL8u61ZP0PaPsIoLartvWmgNFru/45dtaDakxEyzqfWbf9O2zllVeOqVOnxsCBA/vVWVn3i6/uBz/22GOxzjrrlPrx2c9+NsaPH99lv+Rd98h0gACBFgHvRc19GZg3au58yxmdeaNylJpjH3NGzZFj6yjMGzVXnm1HY96oebPtODLzRsXJutyRmjcqV8p+BIoroICxuNkbOYHCCKQPu+PGjSuNNxUvpuLEnra0X9vHnaV2Nt54454O8/saCvRnItp1UcOgqniqtGrbd7/73dIZpkyZEquttlq7M8q6igHUuOnf/e53sa2LLicAACAASURBVPvuu5fOev/998eGG24o7xrn0N/TpUcAbbrppvHggw/GgAED4uabb44PfehDWbO9KWD02u5vEtU5vhoT0bKuTlb9bXX55ZePF154IWsmfZng/PPP72+TIet+E9a1ga997Wvxve99r9SHv/3tb+1W6ezYOXnXNS4nJ0DgvwLei5r7UjBv1Nz5ljM680blKDXHPuaMmiPHNArzRs2TZWcjMW/U3Pm2HZ15o+JkXe5IzRuVK2U/AsUVUMBY3OyNnEBhBH7+85/H/vvvXxrvLbfcUiqU6A4h7bfllluWdpk4cWLsu+++hXFrhIH2ZyLaddEICXffxwULFsSaa64ZqWgxbe9617vi2WefzQqi2m6ybvys0whSkUx6vMATTzyRDWiHHXaIP/3pTwsNTt75z/ub3/xmfOtb38o6+oUvfCHOO++8Uqd7U8Ao63xm3XEieq+99opHH300/vnPf2YrHKVVVFdcccXYbLPNssc1br/99gu9b3ccmazzl3XHnFNG++23X5bzxRdfHOlx0mmf9Bi3pZdeOtZbb73YbrvtIq3Il1ZG72qTdf6yLrdHc+bMiTFjxpSKWtddd914+OGHuz1c3uXq2o8AgWoKeC+qpm792zZvVP8M6tkD80b11K/tuc0Z1da72mczb1Rt4fq2b96ovv61Ort5o1pJN855zBs1TlZ6SqCeAgoY66nv3AQI1ETgtNNOixNPPLF0rvSH8yqrrNLjuadNmxarrrpqab/UzgknnNDjcXaonUB/JqJdF7XLqVpn+sUvfpEVS7RuRx99dLtVf1p/LutqJVDddtONhhkzZmQFqtdee2384Ac/iOnTp2cnTY+nvPHGGyN9i7PjJu/q5tLf1u+777543/veF3Pnzs0KXVJxy2KLLVZqtjcFjLLubxrVOb7jBGVPZ0mFbT/96U+7XaVN1j0p1v73HVc3ueuuu+Lvf/97pG9Sp/furrZRo0Zl/1Yfeuihne4i69pnWakz/va3v4099tij1Fz6d/uII47otnl5V0pfOwQI9EfAe1F/9PJ/rHmj/GdUzR6aN6qmbn3bNmdUX/9qnt28UTV189G2eaN85FDtXpg3qrZw47Vv3qjxMtNjAvUQUMBYD3XnJECgpgLHHHNMnHXWWaVzvvLKK7H44ov32Ie0X9sVYtIN2baPqu2xATtUXaA/E9Gui6rHU9UTPPPMM7HRRhvFv//97+w8aUWvVOi21FJLLXReWVc1ioo23vY13VnDqdDtsMMOi5NOOilGjhzZ6bnlXdFIKtpY+pble9/73uzR0Wm75pprYscdd2x3jt4UMMq6ovFUrLGOE9Fp9b3VV189K1R94403svfql156qd35Bg8eHBdccEG2Ol9nm6wrFk/FGho/fnwccsghpfaOOuqo+P73v1/671RgnlZJnjdvXjzyyCOR/q5uux1//PGllVjb/lzWFYuo5g197GMfiz/+8Y/ZeYcOHZqtij169Ohu+yHvmsfkhAQIdCLgvai5LwvzRs2db3ejM2/UfNmbM2q+TDuOyLxR82ecRmjeqBg5mzcqRs69GaV5o95o2ZdAcQUUMBY3eyMnUBiBz3/+89lN8dZt1qxZ2U21nra03/Dhw0u7pXbOP//8ng7z+xoK9Gci2nVRw6AqfKr0OMqtttoqW+mpdbvssssiPaa0s03WFQ6gis11Nxmd3o8/97nPZf+39tprd9kLeVcxoH42nVZDTivcpC2tnpoe19dx600Bo6z7GUiVDk8T0R//+MfjoIMOygpUx44du9CZ7rnnnvjOd74TV1xxRel3gwYNyoqf0uPhO26yrlJY/Wg2fTkoFXx03NIq5+nv7pTjgAEDsl+nFVfT6jeHH354vPbaa6VDrrzyyth9993bNSHrfoRSx0NTsWLKPhWspu0Tn/hEXH755T32SN49EtmBAIEaCHgvqgFyHU9h3qiO+HU8tXmjOuJX8dTmjKqIm5OmzRvlJIgqd8O8UZWBc9K8eaOcBJGTbpg3ykkQukGgAQQUMDZASLpIgED/BA4++OC46KKLSo2kG2sDBw7ssdH58+dHupneuqV20iMObfkR6M9EtOsiPzn2piepCCI9nvDqq68uHfbFL34xzj333C6bkXVvhOu7b1q96/rrr886kd6DX3311Xj88cfbrdyVCmK+9KUvZSt9DRkyZKEOy7u+GXZ19vvvvz97dHT6Nv2yyy6brciWVubruPWmgFHW+cy6N7360Y9+lBW1tW5rrLFGdm10fG3Lujeqtdn3W9/6Vnzzm99sd7L02r733ntjxRVX7LQT//d//xcf+tCHsveBtKUVGh999NGF/t72d3ttMqzkWU4//fQ44YQTSk3++c9/ju23377HU3ht90hkBwIEaiDgvagGyHU8hXmjOuLX6dTmjeoEX4PTmjOqAXIdT2HeqI74OT61eaMch9ND18wbNW521ei5eaNqqGqTQHMKKGBszlyNigCBNgJf+cpX4pxzzin9ZMaMGbHIIov0aJT2a/uI0tTO//zP//R4nB1qJ9CfiWjXRe1yqtSZUkHbvvvuG7/61a9KTaZVFy+99NJ2xQ8dzyfrSiVQn3YWLFgQd9xxR5x66qmRCiJat7TC269//euFOiXv+uTU3VlTsdKmm24aDzzwQLZbeg3vvffenR7SmwJGWecv6770KD02+uKLLy4dmlZl3HPPPds1Jeu+yFb3mLPPPjuOPPLIdidJOR544IHdnjgdk45t3f7yl7/EtttuW/pvWVc3t2q0nv6dTsWo6fHwaUsrMT755JNlfWFM3tVIRJsECPRWwHtRb8Uaa3/zRo2VV397a96ov4KNd7w5o8bLrLMemzdqjhyrNQrzRtWSrW675o2q69tIrZs3aqS09JVA/QUUMNY/Az0gQKDKAscff3ycccYZpbNMnz49Ro8e3eNZ035pJZnWLa0q0vroyx4PtkNNBPozEe26qElEFTtJmoROebd95GwqcEmFUIMHD+72PLKuWAx1b+iII45oV0j+v//7v/HpT3+6Xb/kXfeYFurASSedlBWgpm2XXXaJq666qstO9qaAUdb5y7ovPUqFTquvvnrp0DQxPX78eK/rvmDW8JiU0SGHHFI647Bhw7LVcocPH95tLyZNmhTvec97Svuk13H6Vn7r5nVdwxArdKobb7wxttlmm1JrJ598cqT3/XI2eZejZB8CBKot4L2o2sL1bd+8UX39a3l280a11M7nucwZ5TOXcnpl3qgcpeLuY96oMbM3b9SYuVWj1+aNqqGqTQLNK6CAsXmzNTICBP4rkFZNTBMYrduDDz4YG2ywQY8+ab8NN9ywtF9qJ30z35Yfgf5MRLsu8pNjTz1Jk9CpoOWSSy4p7br77rvHZZdd1ukjhDu2J+uehBvn9+lRUOuvv3489thjWafTqn533XVXuwHIO195Pv3001lxWvo2/eKLL549HniFFVbospO9KWCUdb6y7k9vVl111Zg2bVrWxAc/+MG47bbbvK77A1qDY1Mh8m677VY607hx4+Luu+/u8czp3/RFF1003nrrrWzfT37yk/HLX/6y3d/b/m7vkTFXO6TVsdNq2GkbOHBgPPXUUzFmzJiy+uh9vCwmOxEgUGUB70VVBq5z8+aN6hxAjU5v3qhG0Dk/jTmjnAfURffMGzVmbrXutXmjWov3/3zmjfpv2CwtmDdqliSNg0BtBBQw1sbZWQgQqKPAn/70p9hxxx1LPbj66qvjYx/7WI89SvullaJat/To0u23377H4+xQO4H+TES7LmqXU3/OlCahDz744JgwYUKpmVQwcfnll5dVvJgOknV/EsjfsWk13NNPPz3rWCqUmDFjRrsVv+Sdr8zuv//+2HjjjSvWqZdffjmWWGKJrD1ZV4y17g194AMfiDvvvDPrx9prrx3/+Mc/2vVJ1nWPaKEOTJ48OdZaa63Sz9PfyOlv5XK2FVdcMZ577rls147Hybocwfzsk1bdfNe73lUqSP3IRz4S1157bdkdlHfZVHYkQKCKAt6Lqoibg6bNG+UghCp3wbxRlYEbrHlzRg0WWEt3zRs1Xmb16LF5o3qo9++c5o3659csR5s3apYkjYNA7QQUMNbO2pkIEKiTQPoW38orr1w6+ymnnBInnnhij71J+6VHoLVuqZ2VVlqpx+PsUDuB/kxEuy5ql1Nfz1SJSeh0bln3NYF8HnfhhRfGYYcdVurcs88+225FP3nnK7dqTkTLOl9Z96c3acXrtPJ12jbaaKO477772jUn6/7oVufY9G/0yJEjY+bMmdkJttxyy0grqJazLb300vGf//wn23XXXXeN3/3ud+3+3vZ3ezmK+djnvPPOiy996UulzlxxxRWx5557lt05r+2yqexIgEAVBbwXVRE3B02bN8pBCFXsgnmjKuI2aNPmjBovOPNGjZdZPXps3qge6v07p3mj/vk1y9HmjZolSeMgUDsBBYy1s3YmAgTqKLDGGmvElClTsh5ss8028de//rXH3qT9brzxxmy/dHz6xpAtXwL9mYhuzdV1ka9MW3tTqUno1va8B+Qz57706swzz4xjjz22dGhagXGRRRZp15S8+yJbnWMeeuih2GqrrcpuPD1q+rXXXivtP2rUqHarrT755JORfua1XTZp7necNWtWLLXUUvHmm29mfe1qBTev6/xFudNOO5VW20uPDP7nP//ZYyfTKqqpgHHBggXZvqkg/YILLvAe3qNcPnfYZJNNSgXHyyyzTKQvFQwZMqRXnfXa7hWXnQkQqJKA96IqweagWfNGOQihSl0wb1Ql2AZv1pxR4wVo3qjxMqt1j80b1Vq8cuczb1Q5y0ZtybxRoyan3wTqJ6CAsX72zkyAQA0Fvva1r8X3vve97IzpkaNTp05ttypjx66kG7Bjx46NNBmWtnT8d7/73Rr22KnKEejvRLTrohzl2u+Tiho++9nPtnts9O677x6XXXZZr2+Kt/Ze1rXPsVpn/OhHPxrXXHNN1nx6bGXrY0jbnk/e1dKvfrtpBbett966dKL0RYLuCiBlXf1Mqn2GX/7yl/GpT32qdJpvfetbcfzxxy90WllXO4netz9hwoQ46KCDSgemG0/rrbdetw396le/in322ae0z89+9rPYf//92x0j695nUY8j7r333hg3blzp1EcddVScddZZve6KvHtN5gACBKog4L2oCqg5adK8UU6CqHA3zBtVGLSJmjNn1ERhdjEU80bNn3HHEZo3atzMzRs1bnaV6Ll5o0ooaoNA8QQUMBYvcyMmUEiBRx99NDbYYIOYN29eNv6DDz44fvrTn3ZpkX5/0UUXZb8fNGhQTJo0Kd797ncX0i7Pg+7vRLTrIn/ppknoQw45pPT6Sz3cY489IhU89HZFn7ajk3X+su5Lj2655ZasmK115a7Pfe5z8eMf/3ihpuTdF918HNPbiWhZ5yO3vvbixRdfjE033bS0cl/6kkkqguvsby5Z91W5esel1VJXX331eOmll7KT7LXXXtmXDbra0gqrKe8HHngg22XEiBExbdq0SCv3+Te7ejlVq+UvfvGLcf7555eaT6/RddZZp9en89ruNZkDCBCogoD3oiqg5qRJ80Y5CaKC3TBvVEHMJmvKnFGTBdrFcMwbFSPn1lGaN2rsvM0bNXZ+/e29eaP+CjqeQDEFFDAWM3ejJlBIgbSi28UXX1wa+4UXXpgVSnXc0s/T4+xat3Tc+PHjC2mW90H3dyI6jc91kZ+U0yR0KkhLr8HWbc8998yKFwcPHtzvjsq634QVbeDhhx+O73//+3H00UfHuuuu22PbV155ZRx44IGlxwsPHz48K3RKxTOdbfLukTSXO/R2Itr7eL5ivOOOOyKtqHfEEUfE2muv3W3n0pdDPvnJT8YjjzxS2i/9u56+nd3V5nWdr7xTb84999z48pe/XOrYaaedFieccMJCHU3Fi2m1xokTJ5Z+192KfbLOX9ZtezRz5sxYYYUV4pVXXsl+/MEPfjBuu+22Pnda3n2mcyABAhUU8F5UQcwcNWXeKEdhVKAr5o0qgNggTZgzapCg6tBN80Z1QK/gKc0bVRCzQZoyb9QgQVW4m+aNKgyqOQIFElDAWKCwDZVA0QXS6jDvf//7Y8qUKSWKnXfeObt5nm7ApceQpkKpq6++uvT7NdZYI9KHqtGjRxedr67jT4+TTP/XcUs3w1sf851+N2zYsIX22WKLLeK6667rsv+ui7pG2+7kl19+eey9996lnw0YMCC22WabXhUvpmKI7bbbrtNByTo/Waee3H///bHxxhtnnUqrrW277bbxnve8J1ZcccUYNWpUpNf39OnT48EHH4yrrroqK1Zs3dK1kVbRTTcZu9rkna+8y+1NXyaiZV2ubvX3a5vfhhtumL2Hp9f18ssvH4sttli88cYb8cQTT8Sf//zn+OMf/9ju3/D0fpCOT69/r+vqZ1WpM6TVzXfZZZe45pprSk2mv7c/85nPZEWs6fdpxcWf/OQnMXny5NI+m2yySVbwllZh7Gzzuq5UQtVpJxWifvrTny41nr4klr5k0NdN3n2VcxwBApUU8F5USc3at2XeqPbm9TijeaN6qNfnnOaM6uPeCGc1b9QIKXXdR/NGjZ1fX3pv3qgvao1/jHmjxs/QCAjUS0ABY73knZcAgboIpBunO+ywQ0ydOrXH848dOzYrfEtFjLb6Cpx88slxyimn9KkTW265ZVYQ0d3muugTbcUPuuSSS/p18zt1KK3clVZY6GqTdcVj63ODbSeje9PIUkstla34tc8++/R4mLx7JMrdDn2ZiE6DkHU+ouyYX7m9Sl8oSQVQ5XxhRNblqtZuvzfffDN22223uP7668s66eabbx5XXHFFLLfccv4+K0ssfzttvfXWpb+vU3Hy888/H4suumi/Ouq13S8+BxMgUCEB70UVgqxDM+aN6oBeh1OaN6oDep1Oac6oTvANcFrzRg0QUjddNG/U2Pn1tffmjfoq17jHmTdq3Oz0nEC9BRQw1jsB5ydAoOYCafWf448/PnvE4auvvrrQ+RdffPFs1ZjTTz89Ro4cWfP+OeHCAtWeiE5ndF3U/8qrxUS0rOufc2sP0mMnf/CDH2SF4vfee2+24mJ326qrrpqt9nT44YeXVeTU2pbXdn4yL6cnfZ2I9touR7f6+0ybNi17fPCdd96ZrbTY3TZw4MBs5dUvfelL2Qp+vdm8rnujVZt90+P8xo8fH2eeeWaX2Y8ZMyaOOeaY+NznPhdDhgwpq2OyLouppjul1ezXXHPNSJmn7dBDD81W2KzEJu9KKGqDAIH+Cngv6q9gfY43b1Qf91qf1bxRrcXrdz5zRvWzz/uZzRvlPaHu+2feqLHz60/vzRv1R6+xjjVv1Fh56S2BvAkoYMxbIvpDgEDNBN566624+eab46mnnop///vfsfTSS0cqkNlqq606fRRxzTrmRHUVcF3Ulb+mJ5d1Tbm7PdmsWbNi0qRJkT7cplWc0k3DVNySHiWbHim90UYbxcorr9yvDsu7X3wNdbCs8xFX+tsqPQI+PQo+/f9ffvnlGDp0aCyxxBKx+uqrx6abbtrvL4rIOh9Zd+zFfffdFw8//HD2fp62ZZZZJsaNGxfrr79+DBgwoE+dlnWf2Br2IHk3bHQ6TqCpBLwXNVWcFR2Ma6OinLluTNb5iMecUT5yaKZeeG3nI03zRvnIoR69MG9UD/XmOqf38ebK02gItBVQwOh6IECAAAECBAgQIECAAAECBAgQIECAAAECBAgQIECAAAECBAgQIECAAAECBGouoICx5uROSIAAAQIECBAgQIAAAQIECBAgQIAAAQIECBAgQIAAAQIECBAgQIAAAQIECChgdA0QIECAAAECBAgQIECAAAECBAgQIECAAAECBAgQIECAAAECBAgQIECAAAECNRdQwFhzcickQIAAAQIECBAgQIAAAQIECBAgQIAAAQIECBAgQIAAAQIECBAgQIAAAQIEFDC6BggQIECAAAECBAgQIECAAAECBAgQIECAAAECBAgQIECAAAECBAgQIECAAIGaCyhgrDm5ExIgQIAAAQIECBAgQIAAAQIECBAgQIAAAQIECBAgQIAAAQIECBAgQIAAAQIKGF0DBAgQIECAAAECBAgQIECAAAECBAgQIECAAAECBAgQIECAAAECBAgQIECAQM0FFDDWnNwJCRAgQIAAAQIECBAgQIAAAQIECBAgQIAAAQIECBAgQIAAAQIECBAgQIAAAQWMrgECBAgQIECAAAECBAgQIECAAAECBAgQIECAAAECBAgQIECAAAECBAgQIECg5gIKGGtO7oQECBAgQIAAAQIECBAgQIAAAQIECBAgQIAAAQIECBAgQIAAAQIECBAgQICAAkbXAAECBAgQIECAAAECBAgQIECAAAECBAgQIECAAAECBAgQIECAAAECBAgQIFBzAQWMNSd3QgIECBAgQIAAAQIECBAgQIAAAQIECBAgQIAAAQIECBAgQIAAAQIECBAgQEABo2uAAAECBAgQIECAAAECBAgQIECAAAECBAgQIECAAAECBAgQIECAAAECBAgQqLmAAsaakzshAQIECBAgQIAAAQIECBAgQIAAAQIECBAgQIAAAQIECBAgQIAAAQIECBAgoIDRNUCAAAECBAgQIECAAAECBAgQIECAAAECBAgQIECAAAECBAgQIECAAAECBAjUXEABY83JnZAAAQIECBAgQIAAAQIECBAgQIAAAQIECBAgQIAAAQIECBAgQIAAAQIECBBQwOgaIECAAAECBAgQIECAAAECBAgQIECAAAECBAgQIECAAAECBAgQIECAAAECBGouoICx5uROSIAAAQIECBAgQIAAAQIECBAgQIAAAQIECBAgQIAAAQIECBAgQIAAAQIECChgdA0QIECAAAECBAgQIECAAAECBAgQIECAAAECBAgQIECAAAECBAgQIECAAAECNRdQwFhzcickQIAAAQIECBAgQIAAAQIECBAgQIAAAQIECBAgQIAAAQIECBAgQIAAAQIEFDC6BggQIECAAAECBAgQqKvAqquuGtOmTcv6MGHChDjggAPq2h8nJ0CAAAECBAgQIECAAAECBAgQyIeAeaN85KAXBAgQIECAAIFqCihgrKautgkQIECAAAECBJpG4OSTT45TTjmlX+O57777YqONNupXG814sInoZkzVmAgQIECAAAECBAgQIECAQHEEzBtVL2vzRtWz1TIBAgQIECBAIC8CChjzkoR+ECBAgAABAgQI5FrARHT14jERXT1bLRMgQIAAAQIECBAgQIAAAQLVFzBvVD1j80bVs9UyAQIECBAgQCAvAgoY85KEfhAgQIAAAQIECORaoONE9BZbbBEjRozoVZ/PP//8WG211Xp1TBF2NhFdhJSNkQABAgQIECBAgAABAgQINK+AeaPqZWveqHq2WiZAgAABAgQI5EVAAWNektAPAgQIECBAgACBXAt0nIieOnVqpAlUW/8FTET331ALBAgQIECAAAECBAgQIECAQP0EzBtVz968UfVstUyAAAECBAgQyIuAAsa8JKEfBAgQIECAAAECuRYwEV29eExEV89WywQIECBAgAABAgQIECBAgED1BcwbVc/YvFH1bLVMgAABAgQIEMiLgALGvCShHwQIECBAgAABArkWMBFdvXhMRFfPVssECBAgQIAAAQIECBAgQIBA9QXMG1XP2LxR9Wy1TIAAAQIECBDIi4ACxrwkoR8ECBAgQIAAAQK5FqjWRHRnk7Bz586NK6+8MiZOnBgPPfRQPP/88zFy5MhYY401Yvfdd49DDjkkllxyyV55vfHGG/Hzn/88rr322pg0aVK8+OKLMWDAgFh22WVj4403jo9+9KPxqU99KoYPH96rdtPOjz76aPz617+OG264IZ588sl46aWXYv78+Vkf11577fjABz6Qtb/55pt32nZXE9HXX399XHLJJXHXXXfFs88+G0OGDImVV145PvzhD8fhhx8eY8eOLauvqS+///3v4ze/+U3ce++9WVvJI7W3+OKLZ22uu+66sdlmm8Uuu+wSyy+/fFnt2okAAQIECBAgQIAAAQIECBAgkATMG3V9HZg38hohQIAAAQIECBDoSUABY09Cfk+AAAECBAgQIECghhPRqThv7733jr/97W9dui+33HIxYcKE2HHHHcvK5pe//GUcccQR8cILL3S7fyrkO//887Niw3K26dOnx1e+8pW47LLLsoLFnrbPfOYzWUFix61jAWMqIjz44IPjt7/9bZdNDh06NC688MJIbXa3TZ48OfO87777eupe9vtUdPmf//ynrH3tRIAAAQIECBAgQIAAAQIECBBIArUqYDRvNCH78ql5I687AgQIECBAgEBzCShgbK48jYYAAQIECBAgQKBKArWYiP7Rj34U5513XvzjH//IRpFWR1xrrbVizpw52SqHr732Wml0afXAtKLgzjvv3O2IzzzzzDj22GPb7TN69OhsZcRUdJjO9fLLL5d+P2jQoLjggguyieDutkceeSR22mmnmDZtWrvdVlpppWxFw1RgmFZifOyxx7L+p23XXXeN3/3udws127aAMRVQXnzxxXH33Xdn+y2zzDKx5pprxuDBg7O+ppUjW7e0gmRapXHbbbfttKvp/O95z3uyFSxbt7TCZBr70ksvHfPmzYtXXnklUpHjm2++me2SVmRMP7MRIECAAAECBAgQIECAAAECBMoVMG/UXsq8UblXjv0IECBAgAABAgSSgAJG1wEBAgQIECBAgACBMgRqMRGdivXSqoYrrLBCthJiKk4cOHBg1rtZs2ZlhX3HHHNMzJgxI/tZKrZ7+OGHY8UVV+x0BNddd1185CMfiQULFmS/T49GTkWS6THUqVAxbam48NJLL81WaGwtZEzFgrfffnu8733v67TdtN+4ceNi6tSppd/vs88+ccIJJ2SPYm67pX7/9a9/jZ/97GdZweAVlH16swAAGB9JREFUV1yxUJttCxhTcWUqPFxvvfXihz/8YWyzzTbZo67TlsaR+poeoT1z5szsZ6kYsbXgs2PDRx55ZJx99tnZjxdbbLHs/7/vvvsu9JjsVMj5wAMPZMWV6VHYaZLdRoAAAQIECBAgQIAAAQIECBAoV8C80TtS5o3KvWrsR4AAAQIECBAg0CqggNG1QIAAAQIECBAgQKAMgVpMRKdupAK+O++8M1ZfffVOe5WKAXfYYYesGDBtn/rUp+IXv/jFQvum36c2WldITMWR6bHUa6yxRqft3nvvvbHFFluUiiM33HDDuP/++zvd94ADDsgKElu3VGh4+OGH96j4xhtvxMiRIxfar20BY/rlJptsEjfeeGOMGjWq0zbTuVMfWrdbb701Nt9884X2TWOdMmVK9vP0uOlU+NjTltxaizt72tfvCRAgQIAAAQIECBAgQIAAAQJJwLzRO9eBeSOvCQIECBAgQIAAgd4KKGDsrZj9CRAgQIAAAQIECinQcSK6twif+cxn4pJLLlnosI7Fe+PHj4/Pfvaz3Tb/5S9/Oc4999xsn/Qo6WeeeSZ73HTbLT1e+uMf/3jpR6nob//99++23bPOOitb4bF1u+GGG2Lrrbdud8xTTz2VPdJ57ty52c9Tm22LGXvrkvZva5BWnHzooYfi3e9+d5dNpRUTx4wZE88991y2zxlnnBHHHXfcQvsPGzYsZs+enf08PYJ7nXXW6Uv3HEOAAAECBAgQIECAAAECBAgQ6FbAvNHbPOaNvFAIECBAgAABAgT6IqCAsS9qjiFAgAABAgQIECicQC0mopdccsn417/+FUOHDu3WN60q2HYlxZ/+9Kdx8MEHtzsmPSo5PW45benR0anIsaeVBdOjqdO+aaXEtH3pS1/KHjnddvvud78bX//617MfpWLDJ554IsaOHduv66FtAeOHP/zhuP7663ts75Of/GRcdtll2X5prBMnTlzomCWWWCJeffXV7OfJIj3m2kaAAAECBAgQIECAAAECBAgQqLSAeaO3Rc0bVfrK0h4BAgQIECBAoBgCChiLkbNREiBAgAABAgQI9FOg40R0etzyiBEjym51u+22i6OOOmqh/dsW733iE5+Iyy+/vKw202qCjz32WLZvKl5MRYxtt9VWWy2mTp2a/ejAAw+Miy++uKx2d9ttt7jqqquyfdOjnO+55552x+20005x7bXXZj97//vfH3fccUdZ7Xa3U1uD5HzSSSf12GZaKTKtGJm2j370o/GHP/xhoWPSo7avu+667OdLLbVUXHDBBbHHHnv0WMjZ48ntQIAAAQIECBAgQIAAAQIECBBoI2De6G0M80ZeFgQIECBAgAABAn0RUMDYFzXHECBAgAABAgQIFE6g40R0Kg5MhXf93doW75166qnxzW9+s6wm99prr/j1r3+d7ZuKKW+++ebScfPmzYvBgweX/vt//ud/4itf+UpZ7abiwdSPtI0aNaq0gmHrwW37mx5lfc4555TVbnc7tW0zFRkedthhPbbZNo+tttoqbrzxxoWO+ctf/hLbb799LFiwoPS70aNHRyps/NCHPhSbbbZZrL/++jFgwIAez2cHAgQIECBAgAABAgQIECBAgEBXAuaN3pYxb+Q1QoAAAQIECBAg0BcBBYx9UXMMAQIECBAgQIBA4QRqMRF93nnnxRe+8IWybD//+c9nKwqmbYMNNogHH3ywdNxLL70UyyyzTOm/f/GLX8SnPvWpsto999xzIxUmtm5z585tt2JhKmp8/fXXs1+fdtppccIJJ5TVbnc7tZ3cnjBhQhxwwAE9ttk2jy233DJuuummTo/5yU9+EocffnjMnj2709+nlRlTkeOnP/3p2HHHHRUz9ihvBwIECBAgQIAAAQIECBAgQKCjgHmjt0XMG3ltECBAgAABAgQI9EVAAWNf1BxDgAABAgQIECBQOIFaTESnx0Cnx0GXs331q1+NH/7wh9mua665Zjz++OOlw5599tlYaaWVSv+dVmr8+Mc/Xk6z2aOoDz300NK+M2bMiEUWWaT030OHDo05c+Zk/33mmWdGepRzf7dqFjCmvqXVMn/wgx/EZZddFtOnT++yu+PGjYuJEydGejy3jQABAgQIECBAgAABAgQIECBQroB5o7elzBuVe8XYjwABAgQIECBAoK2AAkbXAwECBAgQIECAAIEyBGoxEZ2K7I444ogyehNx0EEHRVqtMG2bbrpp3HXXXaXjUtHhyJEjS/998cUXx4EHHlhWu9///vfj6KOPLk06z5o1q91xyy23XLz44ovZz44//vj41re+VVa73e1U7QLG1nOnR0lPmjQpbr/99rj11luzVRuff/75dl1LK1fec889MWbMmH6PSwMECBAgQIAAAQIECBAgQIBAMQTMG72ds3mjYlzvRkmAAAECBAgQqLSAAsZKi2qPAAECBAgQIECgKQVqMRGdHt18zjnnlOW31VZbxc0335zt+7GPfSyuvvrqdsctuuii8eabb2Y/+8Y3vhGnn356We22fTT1iiuuGM8880y74zbaaKN44IEHsp+lVR3T6o793WpVwNixn6mg8Y477ogzzjgj/vjHP5Z+nVagTI+ethEgQIAAAQIECBAgQIAAAQIEyhEwb/S2knmjcq4W+xAgQIAAAQIECHQUUMDomiBAgAABAgQIECBQhkAtJqI7rqTYVbdmz54daaXA1157LdvlpJNOitS/ttsWW2yRrTKYtlTseOONN5YxyogNN9wwHnzwwWzfXXfdNX73u9+1O+4LX/hC/PjHP85+lr5Vnx5XPWjQoLLa7mqnehUwtvZn/vz5sfXWW8ctt9yS/WjllVeOadOm9WtMDiZAgAABAgQIECBAgAABAgSKI2De6O2szRsV55o3UgIECBAgQIBAJQUUMFZSU1sECBAgQIAAAQJNK1CLieiE9/jjj8eaa67ZreNvfvObbPXD1u2GG27ICvDabieeeGKcdtpp2Y8GDhwYTz75ZKyyyirdtnvffffFJptsUtrn7LPPjq9+9avtjkkrPe6yyy6ln1122WWx11579Sv3ehcwps6nsR555JHZOIYOHRodH53drwE6mAABAgQIECBAgAABAgQIEGhqAfNGb8dr3qipL3ODI0CAAAECBAhUTUABY9VoNUyAAAECBAgQINBMArWaiN5tt93it7/9bZd0qbAuPY7nH//4R7bP6quvHpMnT44BAwa0OyatIJh+N2/evOzne+65Z1xxxRVdtptWIdx2223jpptuyvYZMWJEPP3007H00ku3Oybt9+53vzsrtExbesz0/fffH6NHj+5z3NUoYEyPh+5o0l0HU7FnKvpM2/LLLx/PP/98n8fjQAIECBAgQIAAAQIECBAgQKBYAuaN3s7bvFGxrnujJUCAAAECBAhUSkABY6UktUOAAAECBAgQINDUArWaiE6Ixx57bJxxxhnZyolttzfffDP23Xffdo91njBhQhxwwAGd2h988MFx0UUXlX73ta99LWu34yOf0yOpv/jFL8b48eNL+6Y+fOc73+m03Y7fpl933XXjyiuvjLXXXrvLa+DRRx+NO++8Mw488MCF9qlGAeNTTz0V++yzTxx11FGx8847x7Bhw7rs25QpU+KDH/xgvPDCC9k+6bhLL720qa9ngyNAgAABAgQIECBAgAABAgQqJ2De6B1L80aVu660RIAAAQIECBAoioACxqIkbZwECBAgQIAAAQL9Eug4Eb3FFltkqxT2Zttvv/0i/V/brW3x3ic/+clIj2ROqweOGzcuK/ZLqx3OmTMn0uOdL7zwwpg6dWrp8B133DGuueaaLrvw+uuvZ4+EfuKJJ0r7pNUbDzrooEhFh+lb8Q8++GBWuNi6omPaMR1zxx13ZI9S7mr7xje+Ed/+9rdLvx48eHDssccescMOO8TKK6+cHTt9+vR44IEH4s9//nPcddddseuuu7Yrvmw9uFoFjGPHjs1OMWrUqKxfm266aay11lqx5JJLZj9/9tln4+abb46JEyfGjBkzsp+lft9zzz2x/vrr9yZa+xIgQIAAAQIECBAgQIAAAQIFFjBv1D5880YFfjEYOgECBAgQIECgDwIKGPuA5hACBAgQIECAAIHiCXSciO6LwEknnRSpnbZbx+K9tArgcccdlxUxdrelAspUvLjooot2u99zzz0XqdAxFSqWs2222WaRvim/1FJL9bj7mWeemfU1FUKWs9WrgLGcvqV9UkFqWnkxPcbbRoAAAQIECBAgQIAAAQIECBAoV8C80cJS5o3KvXrsR4AAAQIECBAgoIDRNUCAAAECBAgQIECgDIFaTUSnx0H//ve/j2OOOSYef/zxhXq2+OKLx9FHH509ZnrIkCFl9DzirbfeinPOOSd+8IMflB6T3PHAMWPGZG0edthhkVZTLHd76KGHIhVm/uEPf4j0KOrOtrSq4bbbbhtHHnlkfPjDH15ol2qswDhz5sw4//zzsyLPtJpk+u+utkUWWSR23333OPXUU2O11VYrd+j2I0CAAAECBAgQIECAAAECBAhkAuaNOr8QzBt5gRAgQIAAAQIECJQjoICxHCX7ECBAgAABAgQIEKiSQHfFe3fffXc8/PDD8fzzz8fIkSNjjTXWiK233jqGDRvWp96kVR3T45EnTZqUPd55wIABseyyy0Z6rPSGG27YpzZbD0qPYL7tttti2rRp8dJLL8WgQYNi6aWXzh7Z/N73vjdSkWC9tvQI7jRhPnny5EgrUr7xxhtZ8Wd6lPQ666yTPa67p5Us69V35yVAgAABAgQIECBAgAABAgSKK2DeqPrZmzeqvrEzECBAgAABAgR6ElDA2JOQ3xMgQIAAAQIECBCookBfVh+sYnc0TYAAAQIECBAgQIAAAQIECBAgkBMB80Y5CUI3CBAgQIAAAQIEqiqggLGqvBonQIAAAQIECBAg0L2AiWhXCAECBAgQIECAAAECBAgQIECAQGcC5o1cFwQIECBAgAABAkUQUMBYhJSNkQABAgQIECBAILcCJqJzG42OESBAgAABAgQIECBAgAABAgTqKmDeqK78Tk6AAAECBAgQIFAjAQWMNYJ2GgIECBAgQIAAAQKdCZiIdl0QIECAAAECBAgQIECAAAECBAiYN3INECBAgAABAgQIFFVAAWNRkzduAgQIECBAgACBXAgoYMxFDDpBgAABAgQIECBAgAABAgQIEMidgHmj3EWiQwQIECBAgAABAlUQUMBYBVRNEiBAgAABAgQIEChXwER0uVL2I0CAAAECBAgQIECAAAECBAgUS8C8UbHyNloCBAgQIECAQFEFFDAWNXnjJkCAAAECBAgQIECAAAECBAgQIECAAAECBAgQIECAAAECBAgQIECAAAECdRRQwFhHfKcmQIAAAQIECBAgQIAAAQIECBAgQIAAAQIECBAgQIAAAQIECBAgQIAAAQJFFVDAWNTkjZsAAQIECBAgQIAAAQIECBAgQIAAAQIECBAgQIAAAQIECBAgQIAAAQIECNRRQAFjHfGdmgABAgQIECBAgAABAgQIECBAgAABAgQIECBAgAABAgQIECBAgAABAgQIFFVAAWNRkzduAgQIECBAgAABAgQIECBAgAABAgQIECBAgAABAgQIECBAgAABAgQIECBQRwEFjHXEd2oCBAgQIECAAAECBAgQIECAAAECBAgQIECAAAECBAgQIECAAAECBAgQIFBUAQWMRU3euAkQIECAAAECBAgQIECAAAECBAgQIECAAAECBAgQIECAAAECBAgQIECAQB0FFDDWEd+pCRAgQIAAAQIECBAgQIAAAQIECBAgQIAAAQIECBAgQIAAAQIECBAgQIBAUQUUMBY1eeMmQIAAAQIECBAgQIAAAQIECBAgQIAAAQIECBAgQIAAAQIECBAgQIAAAQJ1FFDAWEd8pyZAgAABAgQIECBAgAABAgQIECBAgAABAgQIECBAgAABAgQIECBAgAABAkUVUMBY1OSNmwABAgQIECBAgAABAgQIECBAgAABAgQIECBAgAABAgQIECBAgAABAgQI1FFAAWMd8Z2aAAECBAgQIECAAAECBAgQIECAAAECBAgQIECAAAECBAgQIECAAAECBAgUVUABY1GTN24CBAgQIECAAAECBAgQIECAAAECBAgQIECAAAECBAgQIECAAAECBAgQIFBHAQWMdcR3agIECBAgQIAAAQIECBAgQIAAAQIECBAgQIAAAQIECBAgQIAAAQIECBAgUFQBBYxFTd64CRAgQIAAAQIECBAgQIAAAQIECBAgQIAAAQIECBAgQIAAAQIECBAgQIBAHQUUMNYR36kJECBAgAABAgQIECBAgAABAgQIECBAgAABAgQIECBAgAABAgQIECBAgEBRBRQwFjV54yZAgAABAgQIECBAgAABAgQIECBAgAABAgQIECBAgAABAgQIECBAgAABAnUUUMBYR3ynJkCAAAECBAgQIECAAAECBAgQIECAAAECBAgQIECAAAECBAgQIECAAAECRRVQwFjU5I2bAAECBAgQIECAAAECBAgQIECAAAECBAgQIECAAAECBAgQIECAAAECBAjUUUABYx3xnZoAAQIECBAgQIAAAQIECBAgQIAAAQIECBAgQIAAAQIECBAgQIAAAQIECBRVQAFjUZM3bgIECBAgQIAAAQIECBAgQIAAAQIECBAgQIAAAQIECBAgQIAAAQIECBAgUEcBBYx1xHdqAgQIECBAgAABAgQIECBAgAABAgQIECBAgAABAgQIECBAgAABAgQIECBQVAEFjEVN3rgJECBAgAABAgQIECBAgAABAgQIECBAgAABAgQIECBAgAABAgQIECBAgEAdBRQw1hHfqQkQIECAAAECBAgQIECAAAECBAgQIECAAAECBAgQIECAAAECBAgQIECAQFEFFDAWNXnjJkCAAAECBAgQIECAAAECBAgQIECAAAECBAgQIECAAAECBAgQIECAAAECdRRQwFhHfKcmQIAAAQIECBAgQIAAAQIECBAgQIAAAQIECBAgQIAAAQIECBAgQIAAAQJFFVDAWNTkjZsAAQIECBAgQIAAAQIECBAgQIAAAQIECBAgQIAAAQIECBAgQIAAAQIECNRRQAFjHfGdmgABAgQIECBAgAABAgQIECBAgAABAgQIECBAgAABAgQIECBAgAABAgQIFFVAAWNRkzduAgQIECBAgAABAgQIECBAgAABAgQIECBAgAABAgQIECBAgAABAgQIECBQRwEFjHXEd2oCBAgQIECAAAECBAgQIECAAAECBAgQIECAAAECBAgQIECAAAECBAgQIFBUAQWMRU3euAkQIECAAAECBAgQIECAAAECBAgQIECAAAECBAgQIECAAAECBAgQIECAQB0FFDDWEd+pCRAgQIAAAQIECBAgQIAAAQIECBAgQIAAAQIECBAgQIAAAQIECBAgQIBAUQUUMBY1eeMmQIAAAQIECBAgQIAAAQIECBAgQIAAAQIECBAgQIAAAQIECBAgQIAAAQJ1FFDAWEd8pyZAgAABAgQIECBAgMD/b9eOaQAAABCG+XeNDI5VAaG8ECBAgAABAgQIECBAgAABAgQIECBAgAABAgQIECBQFXBgrC6vNwECBAgQIECAAAECBAgQIECAAAECBAgQIECAAAECBAgQIECAAAECBAgQOAo4MB7xRRMgQIAAAQIECBAgQIAAAQIECBAgQIAAAQIECBAgQIAAAQIECBAgQIAAgaqAA2N1eb0JECBAgAABAgQIECBAgAABAgQIECBAgAABAgQIECBAgAABAgQIECBAgMBRwIHxiC+aAAECBAgQIECAAAECBAgQIECAAAECBAgQIECAAAECBAgQIECAAAECBAhUBRwYq8vrTYAAAQIECBAgQIAAAQIECBAgQIAAAQIECBAgQIAAAQIECBAgQIAAAQIEjgIOjEd80QQIECBAgAABAgQIECBAgAABAgQIECBAgAABAgQIECBAgAABAgQIECBAoCrgwFhdXm8CBAgQIECAAAECBAgQIECAAAECBAgQIECAAAECBAgQIECAAAECBAgQIHAUcGA84osmQIAAAQIECBAgQIAAAQIECBAgQIAAAQIECBAgQIAAAQIECBAgQIAAAQJVAQfG6vJ6EyBAgAABAgQIECBAgAABAgQIECBAgAABAgQIECBAgAABAgQIECBAgACBo4AD4xFfNAECBAgQIECAAAECBAgQIECAAAECBAgQIECAAAECBAgQIECAAAECBAgQqAoMCy6Gd6MYEacAAAAASUVORK5CYII=\" width=\"999.7333333333333\">"
      ],
      "text/plain": [
       "<IPython.core.display.HTML object>"
      ]
     },
     "metadata": {},
     "output_type": "display_data"
    }
   ],
   "source": [
    "dual_train_plots(results.index,\n",
    "                 results.cost, results.val,\n",
    "                 results.cost, results.val)\n",
    "plt.tight_layout()\n",
    "plt.savefig(str(output / f'{name}_stats_a.png'))"
   ]
  },
  {
   "cell_type": "code",
   "execution_count": 25,
   "metadata": {},
   "outputs": [],
   "source": [
    "quit()\n"
   ]
  },
  {
   "cell_type": "code",
   "execution_count": null,
   "metadata": {},
   "outputs": [],
   "source": []
  },
  {
   "cell_type": "markdown",
   "metadata": {},
   "source": []
  },
  {
   "cell_type": "code",
   "execution_count": null,
   "metadata": {},
   "outputs": [],
   "source": []
  }
 ],
 "metadata": {
  "kernelspec": {
   "display_name": "june2020",
   "language": "python",
   "name": "june2020"
  },
  "language_info": {
   "codemirror_mode": {
    "name": "ipython",
    "version": 3
   },
   "file_extension": ".py",
   "mimetype": "text/x-python",
   "name": "python",
   "nbconvert_exporter": "python",
   "pygments_lexer": "ipython3",
   "version": "3.7.6"
  }
 },
 "nbformat": 4,
 "nbformat_minor": 2
}
