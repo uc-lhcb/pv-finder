{
 "cells": [
  {
   "cell_type": "code",
   "execution_count": 1,
   "metadata": {},
   "outputs": [],
   "source": [
    "import numpy as np\n",
    "import torch"
   ]
  },
  {
   "cell_type": "markdown",
   "metadata": {},
   "source": [
    "This notebook is meant to demonstrate a minimal example of using Pytorch's scatter method\n",
    "to populate a large array of values from a smaller array of values and a corresponding \n",
    "array of pointers to where the values should go.\n",
    "\n",
    "The specific use case envisioned is one where we have **localRange** values for each of **nTracks** that we want to embed in a new array **testArray** that nominally has **globalRange** bins for each track rather than **localRange**. The array **zBin** contains pointers to the first of **localRanges** contiguous bins to be filled in **testArray** for each track.\n",
    "\n"
   ]
  },
  {
   "cell_type": "code",
   "execution_count": 4,
   "metadata": {
    "scrolled": false
   },
   "outputs": [
    {
     "name": "stdout",
     "output_type": "stream",
     "text": [
      "zBin =  [3 0 1]\n",
      "zOffset =  [0.03183977 0.02901667 0.0120559 ]\n",
      "x =  [[0.95244617 0.26444482 0.47953895 0.09976397 0.11021995]\n",
      " [0.89427884 0.87599649 0.28631198 0.26024099 0.29852294]\n",
      " [0.69206709 0.86854137 0.67103843 0.39329595 0.98658881]]\n",
      "zBin.shape =  (3,)\n",
      "zBin =  [3 0 1]\n",
      "a =  tensor([0, 1, 2, 3, 4])\n",
      "a.dtype =  torch.int64\n",
      "a =  tensor([0, 1, 2, 3, 4])\n",
      "a.dtype =  torch.int64\n",
      "b =  tensor([1, 1, 1], dtype=torch.int32)\n",
      "b.dtype =  torch.int32\n",
      "myOuter.dtype =  torch.int64\n",
      "myOuter =  tensor([[0, 0, 0],\n",
      "        [1, 1, 1],\n",
      "        [2, 2, 2],\n",
      "        [3, 3, 3],\n",
      "        [4, 4, 4]])\n",
      "place_at =  tensor([[3, 0, 1],\n",
      "        [4, 1, 2],\n",
      "        [5, 2, 3],\n",
      "        [6, 3, 4],\n",
      "        [7, 4, 5]])\n",
      "place_at.dtype =  torch.int64\n",
      "testArray.dtype =  torch.float64\n",
      "x.dtype =  torch.float64\n",
      "x =  tensor([[0.9524, 0.2644, 0.4795, 0.0998, 0.1102],\n",
      "        [0.8943, 0.8760, 0.2863, 0.2602, 0.2985],\n",
      "        [0.6921, 0.8685, 0.6710, 0.3933, 0.9866]], dtype=torch.float64)\n",
      "result =  tensor([[0.0000, 0.0000, 0.0000, 0.9524, 0.2644, 0.4795, 0.0998, 0.1102, 0.0000,\n",
      "         0.0000, 0.0000, 0.0000, 0.0000, 0.0000, 0.0000, 0.0000, 0.0000, 0.0000,\n",
      "         0.0000, 0.0000],\n",
      "        [0.8943, 0.8760, 0.2863, 0.2602, 0.2985, 0.0000, 0.0000, 0.0000, 0.0000,\n",
      "         0.0000, 0.0000, 0.0000, 0.0000, 0.0000, 0.0000, 0.0000, 0.0000, 0.0000,\n",
      "         0.0000, 0.0000],\n",
      "        [0.0000, 0.6921, 0.8685, 0.6710, 0.3933, 0.9866, 0.0000, 0.0000, 0.0000,\n",
      "         0.0000, 0.0000, 0.0000, 0.0000, 0.0000, 0.0000, 0.0000, 0.0000, 0.0000,\n",
      "         0.0000, 0.0000]], dtype=torch.float64)\n"
     ]
    }
   ],
   "source": [
    "## for each of 3 tracks we will generate 5 values corresponding to the elements of a pocaEllipsoid in\n",
    "## our tracks-to-KDE algorithm.\n",
    "\n",
    "## for each track we want to embed these in an array with 20 bins for each track, analogous to the\n",
    "## 4000-bin we want to produce.\n",
    "\n",
    "nTracks = 3\n",
    "localRange = 5\n",
    "globalRange = 20\n",
    "\n",
    "\n",
    "## for each track, zBin is the index of the first of globalRange bins to be populated\n",
    "## in this example, the localRange bins to be populated are contiguous (and distinct)\n",
    "zBin = np.int_(np.floor(10.*np.random.rand(nTracks)))\n",
    "zOffset = 0.05*np.random.rand(nTracks)\n",
    "\n",
    "## x is the array with dimension localRange that contains the values to be moved \n",
    "## to the array with with corresponding larger dimension globalRange\n",
    "x = np.random.rand(nTracks,localRange)\n",
    "\n",
    "print(\"zBin = \",zBin)\n",
    "print(\"zOffset = \",zOffset)\n",
    "print(\"x = \",x)\n",
    "\n",
    "\n",
    "x = torch.tensor(x)\n",
    "\n",
    "\n",
    "print(\"zBin.shape = \",zBin.shape)\n",
    "print(\"zBin = \",zBin)\n",
    "zBin = torch.tensor(zBin)\n",
    "\n",
    "\n",
    "a = torch.tensor([0,1,2,3,4])\n",
    "print(\"a = \",a)\n",
    "print(\"a.dtype = \",a.dtype)\n",
    "\n",
    "a = torch.arange(localRange)\n",
    "print(\"a = \",a)\n",
    "print(\"a.dtype = \",a.dtype)\n",
    "\n",
    "\n",
    "b = (torch.ones(nTracks)).int()\n",
    "\n",
    "\n",
    "print(\"b = \",b)\n",
    "print(\"b.dtype = \",b.dtype)\n",
    "\n",
    "\n",
    "## to work correctly, myOuter must be\n",
    "## dtype = int64; in this case, setting a = torch.arange([---])\n",
    "## has assured this, even though b = (---).int() creates an int32\n",
    "## it would be better to create b = (---).long()\n",
    "myOuter = torch.outer(a,b)\n",
    "print(\"myOuter.dtype = \",myOuter.dtype)\n",
    "print(\"myOuter = \",myOuter)\n",
    "\n",
    "lowerIndex = zBin\n",
    "place_at = lowerIndex+myOuter\n",
    "print(\"place_at = \",place_at)\n",
    "print(\"place_at.dtype = \",place_at.dtype)\n",
    "place_at_T = torch.transpose(place_at, 0, 1)\n",
    "\n",
    "testArray = torch.zeros([nTracks,globalRange]).double()\n",
    "print(\"testArray.dtype = \",testArray.dtype)\n",
    "print(\"x.dtype = \",x.dtype)\n",
    "print(\"x = \",x)\n",
    "\n",
    "result = testArray.scatter(dim=1, index=place_at_T, src=x)\n",
    "print(\"result = \",result)"
   ]
  },
  {
   "cell_type": "code",
   "execution_count": 5,
   "metadata": {},
   "outputs": [
    {
     "name": "stdout",
     "output_type": "stream",
     "text": [
      "a =  tensor([0, 1, 2, 3, 4])\n",
      "a.dtype =  torch.int64\n",
      "b.dtype =  torch.int64\n"
     ]
    }
   ],
   "source": [
    "a = torch.arange(localRange)\n",
    "print(\"a = \",a)\n",
    "print(\"a.dtype = \",a.dtype)\n",
    "\n",
    "\n",
    "b = (torch.ones(nTracks)).double()\n",
    "b = b.long()\n",
    "print(\"b.dtype = \",b.dtype)"
   ]
  },
  {
   "cell_type": "code",
   "execution_count": null,
   "metadata": {},
   "outputs": [],
   "source": []
  }
 ],
 "metadata": {
  "kernelspec": {
   "display_name": "june2020",
   "language": "python",
   "name": "june2020"
  },
  "language_info": {
   "codemirror_mode": {
    "name": "ipython",
    "version": 3
   },
   "file_extension": ".py",
   "mimetype": "text/x-python",
   "name": "python",
   "nbconvert_exporter": "python",
   "pygments_lexer": "ipython3",
   "version": "3.7.6"
  }
 },
 "nbformat": 4,
 "nbformat_minor": 4
}
