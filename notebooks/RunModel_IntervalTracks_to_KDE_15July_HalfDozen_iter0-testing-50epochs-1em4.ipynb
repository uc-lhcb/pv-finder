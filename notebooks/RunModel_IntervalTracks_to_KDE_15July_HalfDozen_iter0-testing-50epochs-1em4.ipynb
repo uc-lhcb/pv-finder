{
 "cells": [
  {
   "cell_type": "code",
   "execution_count": 1,
   "metadata": {},
   "outputs": [],
   "source": [
    "##%matplotlib widget\n",
    "## with %matplotlib notebook: seems to require ipympl as part of environment, either\n",
    "## part of the conda environment or \"pip install ipympl\"\n",
    "## otherwise, does not show ANY plots in note\"book, plt.savefig() works\n",
    "%matplotlib notebook  \n",
    "##%matplotlib inline    ## --plt.savefig()  works, but re-sizing does NOT\n"
   ]
  },
  {
   "cell_type": "code",
   "execution_count": 2,
   "metadata": {
    "scrolled": true
   },
   "outputs": [
    {
     "name": "stdout",
     "output_type": "stream",
     "text": [
      "np.version.version =  1.21.2\n",
      "a =  [-1.7 -1.5 -0.2  0.2  1.5  1.7  2. ]\n",
      "a.shape =  (7,)\n",
      "aFloor =  [-2. -2. -1.  0.  1.  1.  2.]\n",
      "aFloor.shape =  (7,)\n",
      "aFloorInt =  [-2 -2 -1  0  1  1  2]\n"
     ]
    }
   ],
   "source": [
    "import numpy as np\n",
    "##  testing the np.floor and np.int_ methods as they seem to fail in a method used below\n",
    "##  from model.collectdata_kde_Ellipsoids_29Aug2021 import collect_t2kde_data\n",
    "print(\"np.version.version = \",np.version.version)\n",
    "a = np.array([-1.7, -1.5, -0.2, 0.2, 1.5, 1.7, 2.0])\n",
    "aFloor = np.floor(a)\n",
    "print(\"a = \",a)\n",
    "print(\"a.shape = \",a.shape)\n",
    "print(\"aFloor = \",aFloor)\n",
    "print(\"aFloor.shape = \",aFloor.shape)\n",
    "aFloorInt = np.int_(aFloor)\n",
    "print(\"aFloorInt = \",aFloorInt)"
   ]
  },
  {
   "cell_type": "markdown",
   "metadata": {},
   "source": [
    "This notebook is the second (perhaps third) attempt to read in track information and use it to predict the KDE used as input to pv-finder. This time, we are reading in poca KDEs rather than the original KDEs. \n",
    "\n",
    "collectdata_kde_Ellipsoids.py uses poca_z, poca_x, poca_y, and six parameters A, B, C, D, E, and F describing the error ellipsoids are those defined at\n",
    "\n",
    "from https://math.stackexchange.com/questions/1865188/how-to-prove-the-parallel-projection-of-an-ellipsoid-is-an-ellipse\n",
    "\n",
    "Up to translation, a general ellipsoid can be written in the form\n",
    "\n",
    "  𝐴$𝑥^2$ +𝐵$𝑦^2$+𝐶$𝑧^2$+2(𝐷𝑥𝑦+𝐸𝑥𝑧+𝐹𝑦𝑧)=1\n",
    "  \n",
    "for some positive-definite coefficient matrix \n",
    "\n",
    "$$\n",
    "\\left(\\begin{array}{ccc}\n",
    "A & D & E \\\\\n",
    "D & B & F \\\\\n",
    "E & F & C \\\\\n",
    "\\end{array}\\right)\n",
    "$$\n",
    "\n",
    "Note that other conventions use a similarly named set of parameters with D, E, and and F denoting the coefficients of different combinations of $ x y $, etc., or without the factor of 2 in front of the cross-terms.  However, this is the convention we are using for pv-finder related work, as of early November, 20020\n"
   ]
  },
  {
   "cell_type": "markdown",
   "metadata": {},
   "source": [
    "Check the current GPU usage. Please try to be nice!"
   ]
  },
  {
   "cell_type": "code",
   "execution_count": 3,
   "metadata": {},
   "outputs": [
    {
     "name": "stdout",
     "output_type": "stream",
     "text": [
      "Fri Jul 15 09:35:28 2022       \r\n",
      "+-----------------------------------------------------------------------------+\r\n",
      "| NVIDIA-SMI 460.32.03    Driver Version: 460.56       CUDA Version: 11.2     |\r\n",
      "|-------------------------------+----------------------+----------------------+\r\n",
      "| GPU  Name        Persistence-M| Bus-Id        Disp.A | Volatile Uncorr. ECC |\r\n",
      "| Fan  Temp  Perf  Pwr:Usage/Cap|         Memory-Usage | GPU-Util  Compute M. |\r\n",
      "|                               |                      |               MIG M. |\r\n",
      "|===============================+======================+======================|\r\n",
      "|   0  GeForce RTX 208...  On   | 00000000:18:00.0 Off |                  N/A |\r\n",
      "| 29%   38C    P8    21W / 250W |      3MiB / 11019MiB |      0%      Default |\r\n",
      "|                               |                      |                  N/A |\r\n",
      "+-------------------------------+----------------------+----------------------+\r\n",
      "|   1  GeForce RTX 208...  On   | 00000000:3B:00.0 Off |                  N/A |\r\n",
      "| 29%   33C    P8    20W / 250W |      3MiB / 11019MiB |      0%      Default |\r\n",
      "|                               |                      |                  N/A |\r\n",
      "+-------------------------------+----------------------+----------------------+\r\n",
      "|   2  GeForce RTX 3090    On   | 00000000:AF:00.0 Off |                  N/A |\r\n",
      "| 42%   62C    P2   124W / 350W |  20218MiB / 24268MiB |     12%      Default |\r\n",
      "|                               |                      |                  N/A |\r\n",
      "+-------------------------------+----------------------+----------------------+\r\n",
      "                                                                               \r\n",
      "+-----------------------------------------------------------------------------+\r\n",
      "| Processes:                                                                  |\r\n",
      "|  GPU   GI   CI        PID   Type   Process name                  GPU Memory |\r\n",
      "|        ID   ID                                                   Usage      |\r\n",
      "|=============================================================================|\r\n",
      "|    2   N/A  N/A    162944      C   .../envs/june2020/bin/python    20215MiB |\r\n",
      "+-----------------------------------------------------------------------------+\r\n"
     ]
    }
   ],
   "source": [
    "!nvidia-smi"
   ]
  },
  {
   "cell_type": "code",
   "execution_count": 4,
   "metadata": {},
   "outputs": [
    {
     "name": "stdout",
     "output_type": "stream",
     "text": [
      "1.8.2+cu111\n",
      "<module 'torch.cuda' from '/data/home/sokoloff/.local/lib/python3.7/site-packages/torch/cuda/__init__.py'>\n"
     ]
    }
   ],
   "source": [
    "import torch\n",
    "print(torch.__version__)\n",
    "print(torch.cuda)"
   ]
  },
  {
   "cell_type": "markdown",
   "metadata": {},
   "source": [
    "> **WARNING**: The card numbers here are *not* the same as in CUDA. You have been warned."
   ]
  },
  {
   "cell_type": "markdown",
   "metadata": {},
   "source": [
    "This notebook is first attempt to read in track information and use it to predict the KDE used as input to PvFinder.\n"
   ]
  },
  {
   "cell_type": "markdown",
   "metadata": {},
   "source": [
    "## Imports"
   ]
  },
  {
   "cell_type": "code",
   "execution_count": 5,
   "metadata": {},
   "outputs": [
    {
     "name": "stdout",
     "output_type": "stream",
     "text": [
      "numpy.version.version =  1.21.2\n"
     ]
    }
   ],
   "source": [
    "import matplotlib.pyplot as plt\n",
    "import numpy as np\n",
    "print(\"numpy.version.version = \",np.version.version)\n",
    "import time\n",
    "import torch\n",
    "import pandas as pd\n",
    "\n",
    "# Python 3 standard library\n",
    "from pathlib import Path\n",
    "\n",
    "##from torchsummary import summary"
   ]
  },
  {
   "cell_type": "markdown",
   "metadata": {},
   "source": [
    "### Set up local parameters"
   ]
  },
  {
   "cell_type": "code",
   "execution_count": 6,
   "metadata": {},
   "outputs": [],
   "source": [
    "n_epochs = 50\n",
    "\n",
    "# Name is the output file name\n",
    "\n",
    "\n",
    "##  201019  mds\n",
    "folder = '15July_testing_HalfDozen_first_learning_iter0_50epochs_1em4'\n",
    "name   = folder\n",
    "\n",
    "# Make an output folder named \"name\" (change if you want)\n",
    "\n",
    "## Special instructions for those working on goofy at UC\n",
    "## Please be very careful to make sure that your folder\n",
    "## does not live in a subdirectory of your home directory\n",
    "## this disk has very little capacity. Instead, use \n",
    "## a subdirectory in /share/lazy with a symbolic link to\n",
    "## it in this (the notebooks) subdirectory\n",
    "folder = 'ML/' + folder\n",
    "output = Path(folder)\n",
    "\n",
    "## batch_size = 64 seems to use 20 GB on 3090,\n",
    "## so set batch_size = 16 so we can run on a 2080Ti\n",
    "##  batch_size 16 still seems to require commenting out\n",
    "##  device=device, and one epoch takes >900 seconds\n",
    "##  compared to 120 seconds with batch_size = 64 on 3090\n",
    "##  so try batch_size = 64 again\n",
    "# Size of batches\n",
    "batch_size = 64\n",
    "# How fast to learn\n",
    "learning_rate = 1e-4"
   ]
  },
  {
   "cell_type": "markdown",
   "metadata": {},
   "source": [
    "Make the output directory if it does not exist:"
   ]
  },
  {
   "cell_type": "code",
   "execution_count": 7,
   "metadata": {},
   "outputs": [],
   "source": [
    "output.mkdir(exist_ok=True)"
   ]
  },
  {
   "cell_type": "markdown",
   "metadata": {},
   "source": [
    "## Get the helper functions\n",
    "\n",
    "Add the directory with the model\n",
    "definitions to the path so we can import from it:\n",
    "\n",
    "> When you type `import X`,\n",
    "Python searches `sys.path` for a python\n",
    "file named `X.py` to import. So we need to add the model directory to the path."
   ]
  },
  {
   "cell_type": "code",
   "execution_count": 8,
   "metadata": {
    "scrolled": true
   },
   "outputs": [],
   "source": [
    "## collectdata_kde_Ellipsoids_29Aug2021 adds zBin and zOffset to X[]\n",
    "## from model.collectdata_kde_Ellipsoids_29Aug2021 import collect_t2kde_data\n",
    "##from model.collectdata_kde_Ellipsoids_29Aug2021 import collect_t2kde_data\n",
    "## revert to traditional collect_t2kde_data\n",
    "##from model.collectdata_kde_Ellipsoids import collect_t2kde_data\n",
    "## use July 2022 version of collect_t2kde_data for testing stgructure\n",
    "## (and later for modifying structure of X[] and Y[])\n",
    "from model.collectdata_kde_Ellipsoids_jul2022 import collect_t2kde_data\n",
    "\n",
    "\n",
    "## 220714 mds \n",
    "## interval_kde_loss_Ba is derived from kde_loss_Ba, modified for 100-bin intervals\n",
    "## looks like it returns average loss per bin, so costs may be directly\n",
    "## comparable to original DirtyDozen\n",
    "from model.interval_kde_loss_Ba import Loss\n",
    "\n",
    "##  TracksToKDE_Ellipsoids_SevenLayerCake has 7 hidden layers producing the 4000-bin KDE historgram\n",
    "##  It takes 9 input features (pocca centers + (A,B,C,D,E,F) . \n",
    "from model.models_July2022_kde import TrackIntervalsToKDE_HalfDozen as Model\n",
    "\n",
    "\n",
    "from model.training_kde import trainNet, select_gpu, Results\n",
    "from model.plots import dual_train_plots, replace_in_ax"
   ]
  },
  {
   "cell_type": "code",
   "execution_count": 9,
   "metadata": {},
   "outputs": [],
   "source": [
    "# This gets built up during the run - do not rerun this cell\n",
    "results = pd.DataFrame([], columns=Results._fields)"
   ]
  },
  {
   "cell_type": "markdown",
   "metadata": {},
   "source": [
    "Set up Torch device configuration. All tensors and model parameters need to know where to be put.\n",
    "This takes a BUS ID number: The BUS ID is the same as the listing at the top of this script."
   ]
  },
  {
   "cell_type": "code",
   "execution_count": 10,
   "metadata": {},
   "outputs": [
    {
     "name": "stdout",
     "output_type": "stream",
     "text": [
      "1 available GPUs (initially using device 0):\n",
      "  0 GeForce RTX 2080 Ti\n"
     ]
    }
   ],
   "source": [
    "##device = \"cuda\"\n",
    "device = select_gpu(0)\n",
    "##device = \"cpu\""
   ]
  },
  {
   "cell_type": "markdown",
   "metadata": {},
   "source": [
    "## Loading data\n",
    "\n",
    "Load the dataset, split into parts, then move to device (see `collectdata.py` in the `../model` directory)"
   ]
  },
  {
   "cell_type": "markdown",
   "metadata": {},
   "source": [
    "# Preparing the model"
   ]
  },
  {
   "cell_type": "markdown",
   "metadata": {},
   "source": [
    "Prepare a model, use multiple GPUs if they are VISIBLE, and move the model to the device."
   ]
  },
  {
   "cell_type": "code",
   "execution_count": 11,
   "metadata": {
    "scrolled": true
   },
   "outputs": [],
   "source": [
    "##print(\"Let's use\", torch.cuda.device_count(), \"GPUs!\")\n",
    "##if torch.cuda.device_count() > 1:\n",
    "##    model = torch.nn.DataParallel(model)"
   ]
  },
  {
   "cell_type": "code",
   "execution_count": 12,
   "metadata": {},
   "outputs": [
    {
     "name": "stdout",
     "output_type": "stream",
     "text": [
      "ct, child =  0    Linear(in_features=9, out_features=20, bias=True)\n",
      "ct, child =  1    Linear(in_features=20, out_features=20, bias=True)\n",
      "ct, child =  2    Linear(in_features=20, out_features=20, bias=True)\n",
      "ct, child =  3    Linear(in_features=20, out_features=20, bias=True)\n",
      "ct, child =  4    Linear(in_features=20, out_features=20, bias=True)\n",
      "ct, child =  5    Linear(in_features=20, out_features=100, bias=True)\n"
     ]
    }
   ],
   "source": [
    "## a comment on the web at https://pytorch.org/docs/stable/optim.html says\n",
    "\"\"\"\n",
    "If you need to move a model to GPU via .cuda(), please do so before constructing optimizers for it. \n",
    "Parameters of a model after .cuda() will be different objects with those before the call.\n",
    "\n",
    "In general, you should make sure that optimized parameters live in consistent locations when \n",
    "optimizers are constructed and used.\n",
    "\"\"\"\n",
    "## so move this here (although we are using model.to(device) not explicitly using .cuda()\n",
    "\n",
    "nOut1 = 20\n",
    "nOut2 = 20\n",
    "nOut3 = 20\n",
    "nOut4 = 20\n",
    "nOut5 = 20\n",
    "\n",
    "model = Model(nOut1,nOut2,nOut3,nOut4,nOut5)\n",
    "\n",
    "##summary(model, input_size=(4, 4000))\n",
    "##print(model.parameters)\n",
    "\n",
    "## add the following code to allow the user to freeze the some of the weights corresponding \n",
    "## to those taken from an earlier model trained with the original target histograms\n",
    "## presumably -- this leaves either the perturbative filter \"fixed\" and lets the \n",
    "## learning focus on the non-perturbative features, so get started faster, or vice versa\n",
    "ct = 0\n",
    "for child in model.children():\n",
    "  print('ct, child = ',ct, \"  \", child)\n",
    "  if ct < 0:\n",
    "    print(\"     About to set param.requires_grad=False for ct = \", ct, \"params\")\n",
    "    for param in child.parameters():\n",
    "        param.requires_grad = False \n",
    "  ct += 1\n",
    "##  mds 200121 loss = Loss(epsilon=1e-5,coefficient=1.0)\n",
    "##  loss = Loss(epsilon=1e-5,coefficient=2.5)\n",
    "##loss = Loss(epsilon=3e-6, debug=False)\n",
    "loss = Loss(epsilon=3e-6)"
   ]
  },
  {
   "cell_type": "markdown",
   "metadata": {},
   "source": [
    "Let's move the model's weight matricies to the GPU:"
   ]
  },
  {
   "cell_type": "code",
   "execution_count": 13,
   "metadata": {
    "scrolled": false
   },
   "outputs": [],
   "source": [
    "model = model.to(device)"
   ]
  },
  {
   "cell_type": "code",
   "execution_count": 14,
   "metadata": {
    "scrolled": true
   },
   "outputs": [],
   "source": [
    "optimizer = torch.optim.Adam(model.parameters(), lr=learning_rate)\n",
    "##optimizer = torch.optim.SGD(model.parameters(), lr=learning_rate)"
   ]
  },
  {
   "cell_type": "code",
   "execution_count": 15,
   "metadata": {},
   "outputs": [
    {
     "name": "stdout",
     "output_type": "stream",
     "text": [
      "output =  ML/15July_testing_HalfDozen_first_learning_iter0_50epochs_1em4\n",
      "for model_dict\n",
      "index, k =   0    layer1.weight\n",
      "index, k =   1    layer1.bias\n",
      "index, k =   2    layer2.weight\n",
      "index, k =   3    layer2.bias\n",
      "index, k =   4    layer3.weight\n",
      "index, k =   5    layer3.bias\n",
      "index, k =   6    layer4.weight\n",
      "index, k =   7    layer4.bias\n",
      "index, k =   8    layer5.weight\n",
      "index, k =   9    layer5.bias\n",
      "index, k =   10    layer6.weight\n",
      "index, k =   11    layer6.bias\n"
     ]
    }
   ],
   "source": [
    "print('output = ',output)\n",
    "##print('oldOutput = ',oldOutput)\n",
    "##  use the first four layers from a pre-existing model\n",
    "##  see example at https://discuss.pytorch.org/t/how-to-load-part-of-pre-trained-model/1113\n",
    "\n",
    "##   ML -> /share/lazy/sokoloff/ML\n",
    "model_dict = model.state_dict()\n",
    "## mds 190725 for debugging\n",
    "print(\"for model_dict\")\n",
    "index = 0\n",
    "for k,v in model_dict.items():\n",
    "    print(\"index, k =  \",index,\"  \",k)\n",
    "    index = index+1\n",
    "##    print(\"value = \", v)\n",
    " \n",
    "updated_dict = model_dict\n",
    "##print(\"updated_dict = \",updated_dict)\n",
    "## when starting \"ab initio\", reduce biases as the bias gets summed for each track\n",
    "## contributing to the predicted KDE\n",
    "updated_dict[\"layer1.bias\"] = 0.005*model_dict[\"layer1.bias\"]\n",
    "updated_dict[\"layer2.bias\"] = 0.005*model_dict[\"layer2.bias\"]\n",
    "updated_dict[\"layer3.bias\"] = 0.005*model_dict[\"layer3.bias\"]\n",
    "updated_dict[\"layer4.bias\"] = 0.005*model_dict[\"layer4.bias\"]\n",
    "updated_dict[\"layer5.bias\"] = 0.005*model_dict[\"layer5.bias\"]\n",
    "\n",
    "\n",
    "model.load_state_dict(updated_dict,strict=False)\n",
    "\n",
    "model_dict = model.state_dict()"
   ]
  },
  {
   "cell_type": "code",
   "execution_count": 16,
   "metadata": {
    "scrolled": false
   },
   "outputs": [
    {
     "data": {
      "text/plain": [
       "'\\n##print(\"updated model_dict = \",model_dict)\\n\\n## print(\" \\n\",\"  for pretrained_dict\")\\n## index = 0\\n##for k,v in pretrained_dict.items():\\n##    print(\"index, k =  \",index,\"  \",k)\\n##    index = index+1\\n## mds  \\n\\n##pretrained_dict = torch.load(\\'ML/29July2020_Trks_to_KDE_C_lossB_100epochs_b64_1m3_nOut_50x50/29July2020_Trks_to_KDE_C_lossB_100epochs_b64_1m3_nOut_50x50_final.pyt\\')\\n##print(\"model_dict instantiated\")\\n# 1. filter out unnecessary keys\\n##pretrained_dict = {k: v for k, v in pretrained_dict.items() if k in model_dict}\\n##print(\"pretrained_dict iterated\")\\n# 2. overwrite entries in the existing state dict\\n##model_dict.update(pretrained_dict) \\n##\\n#   when starting from a model with a fully connected last layer rather than a convolutional layer\\n# 3. load the new state dict\\n#   need to use strict=False as the two models state model attributes do not agree exactly\\n#   see https://pytorch.org/docs/master/_modules/torch/nn/modules/module.html#Module.load_state_dict\\n\\n##model.load_state_dict(pretrained_dict,strict=False)\\n\\n## print(\\'model_dict =    \\', model_dict)\\n\\n\\n##pretrained_dict = torch.load(\\'ML/27October_testing_DirtyDozen_first_learning_iter0_250epochs_1em3/27October_testing_DirtyDozen_first_learning_iter0_250epochs_1em3_220.pyt\\')\\n\\n##  the next model had fluctuations near the end, but the final epoch is within striking distance of the lowest cost\\npretrained_dict = torch.load(\\'ML/06November_testing_DirtyDozen_first_learning_iterB_20epochs_1em6/06November_testing_DirtyDozen_first_learning_iterB_20epochs_1em6_final.pyt\\')\\nprint(\" \")\\nprint(\"  for pretrained_dict\")\\nindex = 0\\nfor k,v in pretrained_dict.items():\\n    print(\"index, k =  \",index,\"  \",k)\\n    index = index+1\\n \\n\\n##print(\"model_dict instantiated\")\\n# 1. filter out unnecessary keys\\npretrained_dict = {k: v for k, v in pretrained_dict.items() if k in model_dict}\\nprint(\"pretrained_dict iterated\")\\n# 2. overwrite entries in the existing state dict\\nmodel_dict.update(pretrained_dict) \\n##\\n#   when starting from a model with a fully connected last layer rather than a convolutional layer\\n# 3. load the new state dict\\n#   need to use strict=False as the two models state model attributes do not agree exactly\\n#   see https://pytorch.org/docs/master/_modules/torch/nn/modules/module.html#Module.load_state_dict\\n\\nmodel.load_state_dict(pretrained_dict,strict=False)\\n'"
      ]
     },
     "execution_count": 16,
     "metadata": {},
     "output_type": "execute_result"
    }
   ],
   "source": [
    "\"\"\"\n",
    "##print(\"updated model_dict = \",model_dict)\n",
    "\n",
    "## print(\" \\n\",\"  for pretrained_dict\")\n",
    "## index = 0\n",
    "##for k,v in pretrained_dict.items():\n",
    "##    print(\"index, k =  \",index,\"  \",k)\n",
    "##    index = index+1\n",
    "## mds  \n",
    "\n",
    "##pretrained_dict = torch.load('ML/29July2020_Trks_to_KDE_C_lossB_100epochs_b64_1m3_nOut_50x50/29July2020_Trks_to_KDE_C_lossB_100epochs_b64_1m3_nOut_50x50_final.pyt')\n",
    "##print(\"model_dict instantiated\")\n",
    "# 1. filter out unnecessary keys\n",
    "##pretrained_dict = {k: v for k, v in pretrained_dict.items() if k in model_dict}\n",
    "##print(\"pretrained_dict iterated\")\n",
    "# 2. overwrite entries in the existing state dict\n",
    "##model_dict.update(pretrained_dict) \n",
    "##\n",
    "#   when starting from a model with a fully connected last layer rather than a convolutional layer\n",
    "# 3. load the new state dict\n",
    "#   need to use strict=False as the two models state model attributes do not agree exactly\n",
    "#   see https://pytorch.org/docs/master/_modules/torch/nn/modules/module.html#Module.load_state_dict\n",
    "\n",
    "##model.load_state_dict(pretrained_dict,strict=False)\n",
    "\n",
    "## print('model_dict =    ', model_dict)\n",
    "\n",
    "\n",
    "##pretrained_dict = torch.load('ML/27October_testing_DirtyDozen_first_learning_iter0_250epochs_1em3/27October_testing_DirtyDozen_first_learning_iter0_250epochs_1em3_220.pyt')\n",
    "\n",
    "##  the next model had fluctuations near the end, but the final epoch is within striking distance of the lowest cost\n",
    "pretrained_dict = torch.load('ML/06November_testing_DirtyDozen_first_learning_iterB_20epochs_1em6/06November_testing_DirtyDozen_first_learning_iterB_20epochs_1em6_final.pyt')\n",
    "print(\" \")\n",
    "print(\"  for pretrained_dict\")\n",
    "index = 0\n",
    "for k,v in pretrained_dict.items():\n",
    "    print(\"index, k =  \",index,\"  \",k)\n",
    "    index = index+1\n",
    " \n",
    "\n",
    "##print(\"model_dict instantiated\")\n",
    "# 1. filter out unnecessary keys\n",
    "pretrained_dict = {k: v for k, v in pretrained_dict.items() if k in model_dict}\n",
    "print(\"pretrained_dict iterated\")\n",
    "# 2. overwrite entries in the existing state dict\n",
    "model_dict.update(pretrained_dict) \n",
    "##\n",
    "#   when starting from a model with a fully connected last layer rather than a convolutional layer\n",
    "# 3. load the new state dict\n",
    "#   need to use strict=False as the two models state model attributes do not agree exactly\n",
    "#   see https://pytorch.org/docs/master/_modules/torch/nn/modules/module.html#Module.load_state_dict\n",
    "\n",
    "model.load_state_dict(pretrained_dict,strict=False)\n",
    "\"\"\""
   ]
  },
  {
   "cell_type": "markdown",
   "metadata": {},
   "source": [
    "##print('validation.dataset.tensors = ',validation.dataset.tensors)\n",
    "fig_size = plt.rcParams[\"figure.figsize\"]\n",
    "fig_size[0] = 10\n",
    "fig_size[1] = 4\n",
    "plt.rcParams[\"figure.figsize\"] = fig_size"
   ]
  },
  {
   "cell_type": "code",
   "execution_count": 17,
   "metadata": {
    "scrolled": false
   },
   "outputs": [
    {
     "name": "stdout",
     "output_type": "stream",
     "text": [
      "Loading data...\n",
      "  \n",
      "kernel.shape =  (20000, 4000)\n",
      "kernel.shape[0] =  20000\n",
      "kernel.shape[1] =  4000\n",
      "Y.shape =       (20000, 12000)\n",
      "binsPerInterval =  100\n",
      "nIntervals =        40\n",
      "intervalKernels.shape =  (800000, 100)\n",
      "pocaMx.shape =  (20000,)\n",
      "nEvts =  20000\n",
      "pocaz.shape =  (20000,)\n",
      "len(pocaMx[0]) =  211\n",
      "len(pocaMx[1]) =  21\n",
      "len(pocaMx[2]) =  20\n",
      "len(pocaMx[3]) =  198\n",
      "len(pocaMx[4]) =  233\n",
      "majorAxis.shape =  (20000, 3)\n",
      "minorAxis_1.shape =  (20000, 3)\n",
      "minorAxis_2.shape =  (20000, 3)\n",
      "have entered six_ellipsoid_parameters\n",
      "  \n",
      " \n",
      "  nEvts =  20000\n",
      " iEvt, nTrks =  0 211\n",
      " iEvt, nTrks =  1 21\n",
      " iEvt, nTrks =  2 20\n",
      " iEvt, nTrks =  3 198\n",
      " iEvt, nTrks =  4 233\n",
      " iEvt, nTrks =  5 85\n",
      " iEvt, nTrks =  6 223\n",
      " iEvt, nTrks =  7 425\n",
      " iEvt, nTrks =  8 252\n",
      " iEvt, nTrks =  9 169\n",
      "A.shape =  (20000,)\n",
      "majorAxis[iTrk][0][0] =  -0.00023452607\n",
      "majorAxis[iTrk][1][0] =  -0.00047206535\n",
      "majorAxis[iTrk][2][0] =  0.096502915\n",
      "minorAxis_1[iTrk][0][0] =  -15.822749\n",
      "minorAxis_1[iTrk][1][0] =  7.8608756\n",
      "minorAxis_1[iTrk][2][0] =  -2.6228399e-08\n",
      "minorAxis_2[iTrk][0][0] =  7.860759\n",
      "minorAxis_2[iTrk][1][0] =  15.822513\n",
      "minorAxis_2[iTrk][2][0] =  0.096502915\n",
      "  \n",
      "majorAxis[iTrk][0][0] =  -0.37655562\n",
      "majorAxis[iTrk][1][0] =  0.2768704\n",
      "majorAxis[iTrk][2][0] =  2.8546858\n",
      "minorAxis_1[iTrk][0][0] =  -10.466048\n",
      "minorAxis_1[iTrk][1][0] =  -14.234274\n",
      "minorAxis_1[iTrk][2][0] =  2.2974699e-11\n",
      "minorAxis_2[iTrk][0][0] =  -14.04724\n",
      "minorAxis_2[iTrk][1][0] =  10.328527\n",
      "minorAxis_2[iTrk][2][0] =  -2.8546853\n",
      "  \n",
      " *** intervalLength =  10.0    ***\n",
      "eventIndex =  0\n",
      "len(local_pocaz) =  211\n",
      "  \n",
      "local_pocaz =  [-1.23822388e+03 -4.43958618e+02 -3.33485016e+02 -3.21600800e+02\n",
      " -2.44395828e+02 -1.55983612e+02 -1.42279724e+02 -8.60519485e+01\n",
      " -5.78091278e+01 -5.11150093e+01 -4.43069305e+01 -4.28218460e+01\n",
      " -3.76326904e+01 -3.44797554e+01 -3.33126869e+01 -3.21566505e+01\n",
      " -3.17352009e+01 -3.10061512e+01 -3.09818459e+01 -3.09294434e+01\n",
      " -3.08653851e+01 -3.06606483e+01 -3.06359768e+01 -3.04435177e+01\n",
      " -3.04254246e+01 -3.04000340e+01 -3.01665459e+01 -3.01444073e+01\n",
      " -3.01066399e+01 -3.00841160e+01 -2.99790344e+01 -2.99323521e+01\n",
      " -2.99069862e+01 -2.98943558e+01 -2.98873138e+01 -2.98739624e+01\n",
      " -2.98281155e+01 -2.98238163e+01 -2.98175507e+01 -2.97863998e+01\n",
      " -2.97791901e+01 -2.97753983e+01 -2.97153091e+01 -2.97009544e+01\n",
      " -2.96718330e+01 -2.96403008e+01 -2.95927296e+01 -2.94849796e+01\n",
      " -2.94028625e+01 -2.93101521e+01 -2.89519367e+01 -2.89046593e+01\n",
      " -2.88616905e+01 -2.88577652e+01 -2.88553295e+01 -2.75121384e+01\n",
      " -2.72576771e+01 -2.71799793e+01 -2.66432877e+01 -2.62467613e+01\n",
      " -2.48227444e+01 -2.46314392e+01 -2.25500526e+01 -1.58481617e+01\n",
      " -2.10979676e+00 -1.72000504e+00 -1.71724963e+00 -8.96518528e-01\n",
      " -8.15029144e-01 -5.81001937e-01 -5.08191347e-01 -5.01292408e-01\n",
      " -3.53640288e-01 -3.40370059e-01 -2.64390618e-01 -2.16207311e-01\n",
      " -1.93332553e-01 -1.67944506e-01 -1.31774321e-01 -1.19251795e-01\n",
      " -6.15143590e-02 -5.25222756e-02  1.06699489e-01  1.66734442e-01\n",
      "  1.81626886e-01  2.31216758e-01  8.13655436e-01  1.08331537e+00\n",
      "  1.52280295e+00  2.00598311e+00  2.52052236e+00  5.99052763e+00\n",
      "  6.03304529e+00  6.42440176e+00  8.09042931e+00  4.44174004e+01\n",
      "  5.01861458e+01  5.68113251e+01  5.91287575e+01  5.92444153e+01\n",
      "  5.92517738e+01  5.92810402e+01  5.97522240e+01  6.01143799e+01\n",
      "  6.03394737e+01  6.05848083e+01  6.06125488e+01  6.07765999e+01\n",
      "  6.08017044e+01  6.08162651e+01  6.08422470e+01  6.08880119e+01\n",
      "  6.09001160e+01  6.09123573e+01  6.09170876e+01  6.09424744e+01\n",
      "  6.09446945e+01  6.09501572e+01  6.09941864e+01  6.10036354e+01\n",
      "  6.10254211e+01  6.10578918e+01  6.11008301e+01  6.11076927e+01\n",
      "  6.11610985e+01  6.11631813e+01  6.12250557e+01  6.12415085e+01\n",
      "  6.12678490e+01  6.13250465e+01  6.13421822e+01  6.13525352e+01\n",
      "  6.13722801e+01  6.14056282e+01  6.14375801e+01  6.16845360e+01\n",
      "  6.17298470e+01  6.18694267e+01  6.20367851e+01  6.25428810e+01\n",
      "  6.27768974e+01  6.33778725e+01  6.36097946e+01  6.39338875e+01\n",
      "  6.44314346e+01  6.91550903e+01  7.08076324e+01  7.25392075e+01\n",
      "  7.26160660e+01  7.68055801e+01  7.72203217e+01  7.84709778e+01\n",
      "  7.86709290e+01  7.88299255e+01  7.89823532e+01  7.90333099e+01\n",
      "  7.90586548e+01  7.90678024e+01  7.92038193e+01  7.92089920e+01\n",
      "  7.92213593e+01  7.92312698e+01  7.93373871e+01  7.93659668e+01\n",
      "  7.94643555e+01  7.94832153e+01  7.95804672e+01  7.97348633e+01\n",
      "  7.97485886e+01  7.97766876e+01  8.03003616e+01  8.11383209e+01\n",
      "  8.12266769e+01  8.43174820e+01  8.43780289e+01  8.57019196e+01\n",
      "  9.45961609e+01  9.49262695e+01  9.55904922e+01  9.66111603e+01\n",
      "  9.66593399e+01  9.70098724e+01  9.72887573e+01  9.72934265e+01\n",
      "  9.73515930e+01  9.75128326e+01  9.77453079e+01  9.77679520e+01\n",
      "  9.78552322e+01  9.82620010e+01  9.83588943e+01  9.84510040e+01\n",
      "  9.90869217e+01  9.90924988e+01  9.92693176e+01  9.95827713e+01\n",
      "  9.99623108e+01  1.00004112e+02  1.00182793e+02  1.00373497e+02\n",
      "  1.02967598e+02  1.08647308e+02  1.10738358e+02  1.30093079e+02\n",
      "  1.31439850e+02  1.33983627e+02  1.34378586e+02  1.34470154e+02\n",
      "  1.35141418e+02  1.36323364e+02  1.47392563e+02]\n",
      "ordered_pocaz =  [-1.23822388e+03 -4.43958618e+02 -3.33485016e+02 -3.21600800e+02\n",
      " -2.44395828e+02 -1.55983612e+02 -1.42279724e+02 -8.60519485e+01\n",
      " -5.78091278e+01 -5.11150093e+01 -4.43069305e+01 -4.28218460e+01\n",
      " -3.76326904e+01 -3.44797554e+01 -3.33126869e+01 -3.21566505e+01\n",
      " -3.17352009e+01 -3.10061512e+01 -3.09818459e+01 -3.09294434e+01\n",
      " -3.08653851e+01 -3.06606483e+01 -3.06359768e+01 -3.04435177e+01\n",
      " -3.04254246e+01 -3.04000340e+01 -3.01665459e+01 -3.01444073e+01\n",
      " -3.01066399e+01 -3.00841160e+01 -2.99790344e+01 -2.99323521e+01\n",
      " -2.99069862e+01 -2.98943558e+01 -2.98873138e+01 -2.98739624e+01\n",
      " -2.98281155e+01 -2.98238163e+01 -2.98175507e+01 -2.97863998e+01\n",
      " -2.97791901e+01 -2.97753983e+01 -2.97153091e+01 -2.97009544e+01\n",
      " -2.96718330e+01 -2.96403008e+01 -2.95927296e+01 -2.94849796e+01\n",
      " -2.94028625e+01 -2.93101521e+01 -2.89519367e+01 -2.89046593e+01\n",
      " -2.88616905e+01 -2.88577652e+01 -2.88553295e+01 -2.75121384e+01\n",
      " -2.72576771e+01 -2.71799793e+01 -2.66432877e+01 -2.62467613e+01\n",
      " -2.48227444e+01 -2.46314392e+01 -2.25500526e+01 -1.58481617e+01\n",
      " -2.10979676e+00 -1.72000504e+00 -1.71724963e+00 -8.96518528e-01\n",
      " -8.15029144e-01 -5.81001937e-01 -5.08191347e-01 -5.01292408e-01\n",
      " -3.53640288e-01 -3.40370059e-01 -2.64390618e-01 -2.16207311e-01\n",
      " -1.93332553e-01 -1.67944506e-01 -1.31774321e-01 -1.19251795e-01\n",
      " -6.15143590e-02 -5.25222756e-02  1.06699489e-01  1.66734442e-01\n",
      "  1.81626886e-01  2.31216758e-01  8.13655436e-01  1.08331537e+00\n",
      "  1.52280295e+00  2.00598311e+00  2.52052236e+00  5.99052763e+00\n",
      "  6.03304529e+00  6.42440176e+00  8.09042931e+00  4.44174004e+01\n",
      "  5.01861458e+01  5.68113251e+01  5.91287575e+01  5.92444153e+01\n",
      "  5.92517738e+01  5.92810402e+01  5.97522240e+01  6.01143799e+01\n",
      "  6.03394737e+01  6.05848083e+01  6.06125488e+01  6.07765999e+01\n",
      "  6.08017044e+01  6.08162651e+01  6.08422470e+01  6.08880119e+01\n",
      "  6.09001160e+01  6.09123573e+01  6.09170876e+01  6.09424744e+01\n",
      "  6.09446945e+01  6.09501572e+01  6.09941864e+01  6.10036354e+01\n",
      "  6.10254211e+01  6.10578918e+01  6.11008301e+01  6.11076927e+01\n",
      "  6.11610985e+01  6.11631813e+01  6.12250557e+01  6.12415085e+01\n",
      "  6.12678490e+01  6.13250465e+01  6.13421822e+01  6.13525352e+01\n",
      "  6.13722801e+01  6.14056282e+01  6.14375801e+01  6.16845360e+01\n",
      "  6.17298470e+01  6.18694267e+01  6.20367851e+01  6.25428810e+01\n",
      "  6.27768974e+01  6.33778725e+01  6.36097946e+01  6.39338875e+01\n",
      "  6.44314346e+01  6.91550903e+01  7.08076324e+01  7.25392075e+01\n",
      "  7.26160660e+01  7.68055801e+01  7.72203217e+01  7.84709778e+01\n",
      "  7.86709290e+01  7.88299255e+01  7.89823532e+01  7.90333099e+01\n",
      "  7.90586548e+01  7.90678024e+01  7.92038193e+01  7.92089920e+01\n",
      "  7.92213593e+01  7.92312698e+01  7.93373871e+01  7.93659668e+01\n",
      "  7.94643555e+01  7.94832153e+01  7.95804672e+01  7.97348633e+01\n",
      "  7.97485886e+01  7.97766876e+01  8.03003616e+01  8.11383209e+01\n",
      "  8.12266769e+01  8.43174820e+01  8.43780289e+01  8.57019196e+01\n",
      "  9.45961609e+01  9.49262695e+01  9.55904922e+01  9.66111603e+01\n",
      "  9.66593399e+01  9.70098724e+01  9.72887573e+01  9.72934265e+01\n",
      "  9.73515930e+01  9.75128326e+01  9.77453079e+01  9.77679520e+01\n",
      "  9.78552322e+01  9.82620010e+01  9.83588943e+01  9.84510040e+01\n",
      "  9.90869217e+01  9.90924988e+01  9.92693176e+01  9.95827713e+01\n",
      "  9.99623108e+01  1.00004112e+02  1.00182793e+02  1.00373497e+02\n",
      "  1.02967598e+02  1.08647308e+02  1.10738358e+02  1.30093079e+02\n",
      "  1.31439850e+02  1.33983627e+02  1.34378586e+02  1.34470154e+02\n",
      "  1.35141418e+02  1.36323364e+02  1.47392563e+02]\n",
      "      -----------      \n",
      "local_pocax =  [-0.12564518  0.05206263 -0.03062759 -0.03235899  0.09763418  0.0048499\n",
      "  0.00943753  0.05516989  0.31492278  0.12163319  0.04015106 -0.02172407\n",
      " -0.00177114 -0.14081542 -0.01912842 -0.05125614 -0.00062081  0.14885484\n",
      "  0.01483655  0.05170671 -0.01707729 -0.00061385  0.00881472 -0.21753241\n",
      "  0.00605343 -0.07077286 -0.0167565  -0.00459527 -0.01600695 -0.01677939\n",
      "  0.0118908  -0.01762416  0.00435679  0.01462892  0.00253085 -0.04859198\n",
      "  0.02631253 -0.00935868 -0.01795375 -0.02515749  0.00725456 -0.05981446\n",
      " -0.03460036 -0.03687518  0.16210654  0.07979918  0.0079322  -0.03207037\n",
      "  0.03996011 -0.09564117 -0.03536231 -0.17327581  0.0346862   0.09674329\n",
      "  0.22787358 -0.00259696  0.01409541 -0.01223536  0.32812136  0.08642837\n",
      " -0.04823636 -0.12990084 -0.13456105  0.06290641  0.00759618  0.01218839\n",
      "  0.00123247  0.04466092  0.00611177 -0.00070899 -0.03710658  0.04524364\n",
      "  0.07460894  0.06935555  0.05660795 -0.04045226 -0.00639004  0.08061168\n",
      "  0.01804429  0.0022031   0.02782362 -0.03081498  0.00083262 -0.15262756\n",
      "  0.01391983  0.01577597  0.01479018 -0.2998547   0.05607008 -0.0592328\n",
      "  0.2868236   0.35189405  0.04597934 -0.23782757 -0.0222602  -0.02689268\n",
      " -0.18937762  0.08067524  0.12080713  0.01067393  0.13868931  0.01779817\n",
      "  0.0320772   0.01244222  0.05454691  0.00552833  0.0653168   0.00124253\n",
      "  0.00255716  0.0050332   0.07317971  0.00085498 -0.04339629 -0.01131052\n",
      "  0.00926857  0.03009852  0.00401286  0.0226302   0.04329113  0.0019631\n",
      "  0.00525049  0.305941    0.00693353  0.03443407  0.03116727  0.13596304\n",
      "  0.02660353  0.00581463 -0.01692358  0.01484644 -0.01729076 -0.00118962\n",
      "  0.00461809  0.03938045  0.04206297  0.05636727  0.01120443 -0.0101408\n",
      " -0.00472407 -0.01845525 -0.00274096  0.00504194 -0.02382473  0.03708906\n",
      "  0.01763952 -0.00162936  0.00991266  0.00545246 -0.00244212 -0.02179445\n",
      "  0.00862779 -0.03101769  0.01337135 -0.05252787 -0.01752301 -0.07212412\n",
      "  0.04218627  0.01835897 -0.03841999 -0.03380709 -0.02865586  0.00289253\n",
      " -0.00503832  0.06380809  0.0231844   0.04371573  0.01818898  0.01144092\n",
      " -0.05715381  0.01327179 -0.05416953  0.01055767 -0.01377359 -0.00697023\n",
      "  0.00534507  0.19495408 -0.00382809 -0.01153739  0.05261749 -0.15305598\n",
      " -0.05780239 -0.00722723 -0.10334502 -0.02891188  0.04872941 -0.06369349\n",
      " -0.06087724 -0.01461384 -0.06479985  0.01923    -0.0022962   0.04742396\n",
      "  0.10417484  0.0236708  -0.07264555 -0.04379908 -0.09639246 -0.05758272\n",
      "  0.02172072 -0.01892907 -0.03184969 -0.06358586 -0.08816814 -0.06739305\n",
      " -0.04407161 -0.04014831 -0.04984743  0.02286243 -0.01402193 -0.03166869\n",
      "  0.04575175]\n",
      "ordered_pocax =  [-0.12564518  0.05206263 -0.03062759 -0.03235899  0.09763418  0.0048499\n",
      "  0.00943753  0.05516989  0.31492278  0.12163319  0.04015106 -0.02172407\n",
      " -0.00177114 -0.14081542 -0.01912842 -0.05125614 -0.00062081  0.14885484\n",
      "  0.01483655  0.05170671 -0.01707729 -0.00061385  0.00881472 -0.21753241\n",
      "  0.00605343 -0.07077286 -0.0167565  -0.00459527 -0.01600695 -0.01677939\n",
      "  0.0118908  -0.01762416  0.00435679  0.01462892  0.00253085 -0.04859198\n",
      "  0.02631253 -0.00935868 -0.01795375 -0.02515749  0.00725456 -0.05981446\n",
      " -0.03460036 -0.03687518  0.16210654  0.07979918  0.0079322  -0.03207037\n",
      "  0.03996011 -0.09564117 -0.03536231 -0.17327581  0.0346862   0.09674329\n",
      "  0.22787358 -0.00259696  0.01409541 -0.01223536  0.32812136  0.08642837\n",
      " -0.04823636 -0.12990084 -0.13456105  0.06290641  0.00759618  0.01218839\n",
      "  0.00123247  0.04466092  0.00611177 -0.00070899 -0.03710658  0.04524364\n",
      "  0.07460894  0.06935555  0.05660795 -0.04045226 -0.00639004  0.08061168\n",
      "  0.01804429  0.0022031   0.02782362 -0.03081498  0.00083262 -0.15262756\n",
      "  0.01391983  0.01577597  0.01479018 -0.2998547   0.05607008 -0.0592328\n",
      "  0.2868236   0.35189405  0.04597934 -0.23782757 -0.0222602  -0.02689268\n",
      " -0.18937762  0.08067524  0.12080713  0.01067393  0.13868931  0.01779817\n",
      "  0.0320772   0.01244222  0.05454691  0.00552833  0.0653168   0.00124253\n",
      "  0.00255716  0.0050332   0.07317971  0.00085498 -0.04339629 -0.01131052\n",
      "  0.00926857  0.03009852  0.00401286  0.0226302   0.04329113  0.0019631\n",
      "  0.00525049  0.305941    0.00693353  0.03443407  0.03116727  0.13596304\n",
      "  0.02660353  0.00581463 -0.01692358  0.01484644 -0.01729076 -0.00118962\n",
      "  0.00461809  0.03938045  0.04206297  0.05636727  0.01120443 -0.0101408\n",
      " -0.00472407 -0.01845525 -0.00274096  0.00504194 -0.02382473  0.03708906\n",
      "  0.01763952 -0.00162936  0.00991266  0.00545246 -0.00244212 -0.02179445\n",
      "  0.00862779 -0.03101769  0.01337135 -0.05252787 -0.01752301 -0.07212412\n",
      "  0.04218627  0.01835897 -0.03841999 -0.03380709 -0.02865586  0.00289253\n",
      " -0.00503832  0.06380809  0.0231844   0.04371573  0.01818898  0.01144092\n",
      " -0.05715381  0.01327179 -0.05416953  0.01055767 -0.01377359 -0.00697023\n",
      "  0.00534507  0.19495408 -0.00382809 -0.01153739  0.05261749 -0.15305598\n",
      " -0.05780239 -0.00722723 -0.10334502 -0.02891188  0.04872941 -0.06369349\n",
      " -0.06087724 -0.01461384 -0.06479985  0.01923    -0.0022962   0.04742396\n",
      "  0.10417484  0.0236708  -0.07264555 -0.04379908 -0.09639246 -0.05758272\n",
      "  0.02172072 -0.01892907 -0.03184969 -0.06358586 -0.08816814 -0.06739305\n",
      " -0.04407161 -0.04014831 -0.04984743  0.02286243 -0.01402193 -0.03166869\n",
      "  0.04575175]\n",
      "  ---------------------- \n",
      "\n",
      " -- interval, interval_minZ, interval_maxZ =  0 -102.5 -87.5\n",
      "  \n",
      "eventIndex, interval =  0 0\n",
      "interval_pocaz =  []\n",
      "             ----          \n",
      "interval_pocax =  []\n",
      "  \n",
      "eventIndex and interval =  0 0\n",
      "interval_pocaz =  []\n",
      " -- interval, interval_minZ, interval_maxZ =  1 -92.5 -77.5\n",
      "  \n",
      "eventIndex, interval =  0 1\n",
      "interval_pocaz =  [3.9480515]\n",
      "             ----          \n",
      "interval_pocax =  [0.05516989]\n",
      "  \n",
      "eventIndex and interval =  0 1\n",
      "interval_pocaz =  [3.9480515]\n",
      " -- interval, interval_minZ, interval_maxZ =  2 -82.5 -67.5\n",
      "  \n",
      "eventIndex, interval =  0 2\n",
      "interval_pocaz =  []\n",
      "             ----          \n",
      "interval_pocax =  []\n",
      "  \n",
      "eventIndex and interval =  0 2\n",
      "interval_pocaz =  []\n",
      " -- interval, interval_minZ, interval_maxZ =  3 -72.5 -57.5\n",
      "  \n",
      "eventIndex, interval =  0 3\n",
      "interval_pocaz =  [12.190872]\n",
      "             ----          \n",
      "interval_pocax =  [0.31492278]\n",
      "  \n",
      "eventIndex and interval =  0 3\n",
      "interval_pocaz =  [12.190872]\n",
      " -- interval, interval_minZ, interval_maxZ =  4 -62.5 -47.5\n",
      "  \n",
      "eventIndex, interval =  0 4\n",
      "interval_pocaz =  [2.1908722 8.884991 ]\n",
      "             ----          \n",
      "interval_pocax =  [0.31492278 0.12163319]\n",
      "  \n",
      "eventIndex and interval =  0 4\n",
      "interval_pocaz =  [2.1908722 8.884991 ]\n",
      " -- interval, interval_minZ, interval_maxZ =  5 -52.5 -37.5\n",
      "  \n",
      "  \n",
      "eventIndex and interval =  0 5\n",
      "interval_pocaz =  [-1.1150093  5.6930695  7.178154  12.36731  ]\n",
      " -- interval, interval_minZ, interval_maxZ =  6 -42.5 -27.5\n",
      "  \n",
      "  \n",
      "eventIndex and interval =  0 6\n",
      "interval_pocaz =  [ 2.3673096  5.5202446  6.687313   7.8433495  8.264799   8.993849\n",
      "  9.018154   9.070557   9.134615   9.339352   9.364023   9.556482\n",
      "  9.574575   9.599966   9.833454   9.855593   9.89336    9.915884\n",
      " 10.020966  10.067648  10.093014  10.105644  10.112686  10.126038\n",
      " 10.171885  10.176184  10.182449  10.2136    10.22081   10.224602\n",
      " 10.284691  10.299046  10.328167  10.359699  10.40727   10.51502\n",
      " 10.597137  10.689848  11.048063  11.095341  11.1383095 11.142235\n",
      " 11.1446705 12.487862 ]\n",
      " -- interval, interval_minZ, interval_maxZ =  7 -32.5 -17.5\n",
      "  \n",
      "  \n",
      "eventIndex and interval =  0 7\n",
      "interval_pocaz =  [-2.1566505  -1.7352009  -1.0061512  -0.98184586 -0.92944336 -0.86538506\n",
      " -0.66064835 -0.6359768  -0.44351768 -0.42542458 -0.40003395 -0.16654587\n",
      " -0.14440727 -0.10663986 -0.08411598  0.02096558  0.06764793  0.09301376\n",
      "  0.10564423  0.11268616  0.1260376   0.17188454  0.1761837   0.18244934\n",
      "  0.21360016  0.22080994  0.22460175  0.28469086  0.29904556  0.32816696\n",
      "  0.35969925  0.40727043  0.5150204   0.59713745  0.68984795  1.0480633\n",
      "  1.0953407   1.1383095   1.1422348   1.1446705   2.4878616   2.742323\n",
      "  2.8200207   3.3567123   3.7532387   5.1772556   5.368561    7.4499474 ]\n",
      " -- interval, interval_minZ, interval_maxZ =  8 -22.5 -7.5\n",
      "  \n",
      "  \n",
      "eventIndex and interval =  0 8\n",
      "interval_pocaz =  [4.1518383]\n",
      " -- interval, interval_minZ, interval_maxZ =  9 -12.5 2.5\n",
      "  \n",
      "  \n",
      "eventIndex and interval =  0 9\n",
      "interval_pocaz =  [ 7.8902035  8.279995   8.28275    9.103481   9.184971   9.418998\n",
      "  9.491809   9.498708   9.646359   9.65963    9.735609   9.7837925\n",
      "  9.806667   9.832055   9.868226   9.880748   9.938486   9.947477\n",
      " 10.1067    10.166735  10.181627  10.231216  10.813656  11.083315\n",
      " 11.522803  12.005983 ]\n",
      " -- interval, interval_minZ, interval_maxZ =  10 -2.5 12.5\n",
      "  \n",
      "  \n",
      "eventIndex and interval =  0 10\n",
      "interval_pocaz =  [-2.1097968  -1.720005   -1.7172496  -0.8965185  -0.81502914 -0.58100194\n",
      " -0.50819135 -0.5012924  -0.3536403  -0.34037006 -0.26439062 -0.21620731\n",
      " -0.19333255 -0.1679445  -0.13177432 -0.1192518  -0.06151436 -0.05252228\n",
      "  0.10669949  0.16673444  0.18162689  0.23121676  0.81365544  1.0833154\n",
      "  1.522803    2.005983    2.5205224   5.9905276   6.0330453   6.4244018\n",
      "  8.090429  ]\n",
      " -- interval, interval_minZ, interval_maxZ =  11 7.5 22.5\n",
      "  \n",
      "  \n",
      "eventIndex and interval =  0 11\n",
      "interval_pocaz =  [-1.9095707]\n",
      " -- interval, interval_minZ, interval_maxZ =  12 17.5 32.5\n",
      "  \n",
      "  \n",
      "eventIndex and interval =  0 12\n",
      "interval_pocaz =  []\n",
      " -- interval, interval_minZ, interval_maxZ =  13 27.5 42.5\n",
      "  \n",
      "  \n",
      "eventIndex and interval =  0 13\n",
      "interval_pocaz =  []\n",
      " -- interval, interval_minZ, interval_maxZ =  14 37.5 52.5\n",
      "  \n",
      "  \n",
      "eventIndex and interval =  0 14\n",
      "interval_pocaz =  [ 4.4174004 10.186146 ]\n",
      " -- interval, interval_minZ, interval_maxZ =  15 47.5 62.5\n",
      "  \n",
      "  \n",
      "eventIndex and interval =  0 15\n",
      "interval_pocaz =  [ 0.18614578  6.811325    9.128757    9.244415    9.251774    9.28104\n",
      "  9.752224   10.11438    10.339474   10.584808   10.612549   10.7766\n",
      " 10.801704   10.816265   10.842247   10.888012   10.900116   10.912357\n",
      " 10.917088   10.942474   10.9446945  10.950157   10.994186   11.003635\n",
      " 11.025421   11.057892   11.10083    11.107693   11.1610985  11.163181\n",
      " 11.225056   11.2415085  11.267849   11.325047   11.342182   11.352535\n",
      " 11.37228    11.405628   11.43758    11.684536   11.729847   11.869427\n",
      " 12.036785  ]\n",
      " -- interval, interval_minZ, interval_maxZ =  16 57.5 72.5\n",
      "  \n",
      "  \n",
      "eventIndex and interval =  0 16\n",
      "interval_pocaz =  [-0.8712425  -0.7555847  -0.74822617 -0.7189598  -0.24777603  0.11437988\n",
      "  0.33947372  0.58480835  0.6125488   0.7765999   0.8017044   0.8162651\n",
      "  0.842247    0.88801193  0.90011597  0.91235733  0.91708755  0.94247437\n",
      "  0.9446945   0.95015717  0.9941864   1.0036354   1.0254211   1.0578918\n",
      "  1.1008301   1.1076927   1.1610985   1.1631813   1.2250557   1.2415085\n",
      "  1.267849    1.3250465   1.3421822   1.3525352   1.3722801   1.4056282\n",
      "  1.4375801   1.684536    1.729847    1.8694267   2.0367851   2.542881\n",
      "  2.7768974   3.3778725   3.6097946   3.9338875   4.4314346   9.15509\n",
      " 10.807632  ]\n",
      " -- interval, interval_minZ, interval_maxZ =  17 67.5 82.5\n",
      "  \n",
      "  \n",
      "eventIndex and interval =  0 17\n",
      "interval_pocaz =  [-0.84490967  0.80763245  2.5392075   2.616066    6.80558     7.2203217\n",
      "  8.470978    8.670929    8.829926    8.982353    9.03331     9.058655\n",
      "  9.067802    9.203819    9.208992    9.221359    9.23127     9.337387\n",
      "  9.365967    9.464355    9.483215    9.580467    9.734863    9.748589\n",
      "  9.776688   10.300362   11.138321   11.226677  ]\n",
      " -- interval, interval_minZ, interval_maxZ =  18 77.5 92.5\n",
      "  \n",
      "  \n",
      "eventIndex and interval =  0 18\n",
      "interval_pocaz =  [-1.5290222  -1.329071   -1.1700745  -1.0176468  -0.96669006 -0.9413452\n",
      " -0.9321976  -0.7961807  -0.791008   -0.77864075 -0.76873016 -0.6626129\n",
      " -0.6340332  -0.53564453 -0.51678467 -0.41953278 -0.26513672 -0.25141144\n",
      " -0.22331238  0.30036163  1.1383209   1.226677    4.317482    4.378029\n",
      "  5.7019196 ]\n",
      " -- interval, interval_minZ, interval_maxZ =  19 87.5 102.5\n",
      "  \n",
      "  \n",
      "eventIndex and interval =  0 19\n",
      "interval_pocaz =  [ 4.596161   4.9262695  5.5904922  6.6111603  6.65934    7.0098724\n",
      "  7.2887573  7.2934265  7.351593   7.5128326  7.745308   7.767952\n",
      "  7.8552322  8.262001   8.358894   8.451004   9.086922   9.092499\n",
      "  9.269318   9.582771   9.962311  10.004112  10.182793  10.373497 ]\n",
      " -- interval, interval_minZ, interval_maxZ =  20 97.5 112.5\n",
      "  \n",
      "  \n",
      "eventIndex and interval =  0 20\n",
      "interval_pocaz =  [-2.4871674e+00 -2.2546921e+00 -2.2320480e+00 -2.1447678e+00\n",
      " -1.7379990e+00 -1.6411057e+00 -1.5489960e+00 -9.1307831e-01\n",
      " -9.0750122e-01 -7.3068237e-01 -4.1722870e-01 -3.7689209e-02\n",
      "  4.1122437e-03  1.8279266e-01  3.7349701e-01  2.9675980e+00\n",
      "  8.6473083e+00  1.0738358e+01]\n",
      " -- interval, interval_minZ, interval_maxZ =  21 107.5 122.5\n",
      "  \n",
      "  \n",
      "eventIndex and interval =  0 21\n",
      "interval_pocaz =  [-1.3526917   0.73835754]\n",
      " -- interval, interval_minZ, interval_maxZ =  22 117.5 132.5\n",
      "  \n",
      "  \n",
      "eventIndex and interval =  0 22\n",
      "interval_pocaz =  [10.093079 11.43985 ]\n",
      " -- interval, interval_minZ, interval_maxZ =  23 127.5 142.5\n",
      "  \n",
      "  \n",
      "eventIndex and interval =  0 23\n",
      "interval_pocaz =  [0.09307861 1.4398499  3.9836273  4.378586   4.470154   5.1414185\n",
      " 6.3233643 ]\n",
      " -- interval, interval_minZ, interval_maxZ =  24 137.5 152.5\n",
      "  \n",
      "  \n",
      "eventIndex and interval =  0 24\n",
      "interval_pocaz =  [7.392563]\n",
      " -- interval, interval_minZ, interval_maxZ =  25 147.5 162.5\n",
      "  \n",
      "  \n",
      "eventIndex and interval =  0 25\n",
      "interval_pocaz =  []\n",
      " -- interval, interval_minZ, interval_maxZ =  26 157.5 172.5\n",
      "  \n",
      "  \n",
      "eventIndex and interval =  0 26\n",
      "interval_pocaz =  []\n",
      " -- interval, interval_minZ, interval_maxZ =  27 167.5 182.5\n",
      "  \n",
      "  \n",
      "eventIndex and interval =  0 27\n",
      "interval_pocaz =  []\n",
      " -- interval, interval_minZ, interval_maxZ =  28 177.5 192.5\n",
      "  \n",
      "  \n",
      "eventIndex and interval =  0 28\n",
      "interval_pocaz =  []\n",
      " -- interval, interval_minZ, interval_maxZ =  29 187.5 202.5\n",
      "  \n",
      "  \n",
      "eventIndex and interval =  0 29\n",
      "interval_pocaz =  []\n",
      " -- interval, interval_minZ, interval_maxZ =  30 197.5 212.5\n",
      "  \n",
      "  \n",
      "eventIndex and interval =  0 30\n",
      "interval_pocaz =  []\n",
      " -- interval, interval_minZ, interval_maxZ =  31 207.5 222.5\n",
      "  \n",
      "  \n",
      "eventIndex and interval =  0 31\n",
      "interval_pocaz =  []\n",
      " -- interval, interval_minZ, interval_maxZ =  32 217.5 232.5\n",
      "  \n",
      "  \n",
      "eventIndex and interval =  0 32\n",
      "interval_pocaz =  []\n",
      " -- interval, interval_minZ, interval_maxZ =  33 227.5 242.5\n",
      "  \n",
      "  \n",
      "eventIndex and interval =  0 33\n",
      "interval_pocaz =  []\n",
      " -- interval, interval_minZ, interval_maxZ =  34 237.5 252.5\n",
      "  \n",
      "  \n",
      "eventIndex and interval =  0 34\n",
      "interval_pocaz =  []\n",
      " -- interval, interval_minZ, interval_maxZ =  35 247.5 262.5\n",
      "  \n",
      "  \n",
      "eventIndex and interval =  0 35\n",
      "interval_pocaz =  []\n",
      " -- interval, interval_minZ, interval_maxZ =  36 257.5 272.5\n",
      "  \n",
      "  \n",
      "eventIndex and interval =  0 36\n",
      "interval_pocaz =  []\n",
      " -- interval, interval_minZ, interval_maxZ =  37 267.5 282.5\n",
      "  \n",
      "  \n",
      "eventIndex and interval =  0 37\n",
      "interval_pocaz =  []\n",
      " -- interval, interval_minZ, interval_maxZ =  38 277.5 292.5\n",
      "  \n",
      "  \n",
      "eventIndex and interval =  0 38\n",
      "interval_pocaz =  []\n",
      " -- interval, interval_minZ, interval_maxZ =  39 287.5 302.5\n",
      "  \n",
      "  \n",
      "eventIndex and interval =  0 39\n",
      "interval_pocaz =  []\n"
     ]
    },
    {
     "name": "stdout",
     "output_type": "stream",
     "text": [
      "len(X) =  20000\n",
      "len(X_ints) = 800000\n",
      "len(Xlist) =  1\n",
      "len(Xlist_ints) =  1\n",
      "Loaded dataAA/20K_POCA_kernel_evts_200926.h5 in 95.31 s\n",
      "outer loop X.shape =  (20000, 9, 600)\n",
      "Constructing 20000 event dataset took 0.6395 s\n",
      "x_t.shape =  torch.Size([20000, 9, 600])\n",
      "x_t.shape[0] =  20000\n",
      "x_t.shape[1] =  9\n",
      "x_t_intervals.shape =  torch.Size([700000, 9, 300])\n",
      "x_t_intervals.shape[0] =  700000\n",
      "x_t_intervals.shape[1] =  9\n",
      "y_t.shape =  torch.Size([20000, 12000])\n",
      "y_t_intervals.shape =  torch.Size([700000, 300])\n",
      "y_t_intervals.shape[0] =  700000\n",
      "y_t_intervals.shape[1] =  300\n",
      "Loading data...\n",
      "  \n",
      "kernel.shape =  (20000, 4000)\n",
      "kernel.shape[0] =  20000\n",
      "kernel.shape[1] =  4000\n",
      "Y.shape =       (20000, 12000)\n",
      "binsPerInterval =  100\n",
      "nIntervals =        40\n",
      "intervalKernels.shape =  (800000, 100)\n",
      "pocaMx.shape =  (20000,)\n",
      "nEvts =  20000\n",
      "pocaz.shape =  (20000,)\n",
      "len(pocaMx[0]) =  211\n",
      "len(pocaMx[1]) =  21\n",
      "len(pocaMx[2]) =  20\n",
      "len(pocaMx[3]) =  198\n",
      "len(pocaMx[4]) =  233\n",
      "majorAxis.shape =  (20000, 3)\n",
      "minorAxis_1.shape =  (20000, 3)\n",
      "minorAxis_2.shape =  (20000, 3)\n",
      "have entered six_ellipsoid_parameters\n",
      "  \n",
      " \n",
      "  nEvts =  20000\n",
      " iEvt, nTrks =  0 211\n",
      " iEvt, nTrks =  1 21\n",
      " iEvt, nTrks =  2 20\n",
      " iEvt, nTrks =  3 198\n",
      " iEvt, nTrks =  4 233\n",
      " iEvt, nTrks =  5 85\n",
      " iEvt, nTrks =  6 223\n",
      " iEvt, nTrks =  7 425\n",
      " iEvt, nTrks =  8 252\n",
      " iEvt, nTrks =  9 169\n",
      "A.shape =  (20000,)\n",
      "majorAxis[iTrk][0][0] =  -0.00023452607\n",
      "majorAxis[iTrk][1][0] =  -0.00047206535\n",
      "majorAxis[iTrk][2][0] =  0.096502915\n",
      "minorAxis_1[iTrk][0][0] =  -15.822749\n",
      "minorAxis_1[iTrk][1][0] =  7.8608756\n",
      "minorAxis_1[iTrk][2][0] =  -2.6228399e-08\n",
      "minorAxis_2[iTrk][0][0] =  7.860759\n",
      "minorAxis_2[iTrk][1][0] =  15.822513\n",
      "minorAxis_2[iTrk][2][0] =  0.096502915\n",
      "  \n",
      "majorAxis[iTrk][0][0] =  -0.37655562\n",
      "majorAxis[iTrk][1][0] =  0.2768704\n",
      "majorAxis[iTrk][2][0] =  2.8546858\n",
      "minorAxis_1[iTrk][0][0] =  -10.466048\n",
      "minorAxis_1[iTrk][1][0] =  -14.234274\n",
      "minorAxis_1[iTrk][2][0] =  2.2974699e-11\n",
      "minorAxis_2[iTrk][0][0] =  -14.04724\n",
      "minorAxis_2[iTrk][1][0] =  10.328527\n",
      "minorAxis_2[iTrk][2][0] =  -2.8546853\n",
      "  \n",
      " *** intervalLength =  10.0    ***\n",
      "eventIndex =  0\n",
      "len(local_pocaz) =  211\n",
      "  \n",
      "local_pocaz =  [-1.23822388e+03 -4.43958618e+02 -3.33485016e+02 -3.21600800e+02\n",
      " -2.44395828e+02 -1.55983612e+02 -1.42279724e+02 -8.60519485e+01\n",
      " -5.78091278e+01 -5.11150093e+01 -4.43069305e+01 -4.28218460e+01\n",
      " -3.76326904e+01 -3.44797554e+01 -3.33126869e+01 -3.21566505e+01\n",
      " -3.17352009e+01 -3.10061512e+01 -3.09818459e+01 -3.09294434e+01\n",
      " -3.08653851e+01 -3.06606483e+01 -3.06359768e+01 -3.04435177e+01\n",
      " -3.04254246e+01 -3.04000340e+01 -3.01665459e+01 -3.01444073e+01\n",
      " -3.01066399e+01 -3.00841160e+01 -2.99790344e+01 -2.99323521e+01\n",
      " -2.99069862e+01 -2.98943558e+01 -2.98873138e+01 -2.98739624e+01\n",
      " -2.98281155e+01 -2.98238163e+01 -2.98175507e+01 -2.97863998e+01\n",
      " -2.97791901e+01 -2.97753983e+01 -2.97153091e+01 -2.97009544e+01\n",
      " -2.96718330e+01 -2.96403008e+01 -2.95927296e+01 -2.94849796e+01\n",
      " -2.94028625e+01 -2.93101521e+01 -2.89519367e+01 -2.89046593e+01\n",
      " -2.88616905e+01 -2.88577652e+01 -2.88553295e+01 -2.75121384e+01\n",
      " -2.72576771e+01 -2.71799793e+01 -2.66432877e+01 -2.62467613e+01\n",
      " -2.48227444e+01 -2.46314392e+01 -2.25500526e+01 -1.58481617e+01\n",
      " -2.10979676e+00 -1.72000504e+00 -1.71724963e+00 -8.96518528e-01\n",
      " -8.15029144e-01 -5.81001937e-01 -5.08191347e-01 -5.01292408e-01\n",
      " -3.53640288e-01 -3.40370059e-01 -2.64390618e-01 -2.16207311e-01\n",
      " -1.93332553e-01 -1.67944506e-01 -1.31774321e-01 -1.19251795e-01\n",
      " -6.15143590e-02 -5.25222756e-02  1.06699489e-01  1.66734442e-01\n",
      "  1.81626886e-01  2.31216758e-01  8.13655436e-01  1.08331537e+00\n",
      "  1.52280295e+00  2.00598311e+00  2.52052236e+00  5.99052763e+00\n",
      "  6.03304529e+00  6.42440176e+00  8.09042931e+00  4.44174004e+01\n",
      "  5.01861458e+01  5.68113251e+01  5.91287575e+01  5.92444153e+01\n",
      "  5.92517738e+01  5.92810402e+01  5.97522240e+01  6.01143799e+01\n",
      "  6.03394737e+01  6.05848083e+01  6.06125488e+01  6.07765999e+01\n",
      "  6.08017044e+01  6.08162651e+01  6.08422470e+01  6.08880119e+01\n",
      "  6.09001160e+01  6.09123573e+01  6.09170876e+01  6.09424744e+01\n",
      "  6.09446945e+01  6.09501572e+01  6.09941864e+01  6.10036354e+01\n",
      "  6.10254211e+01  6.10578918e+01  6.11008301e+01  6.11076927e+01\n",
      "  6.11610985e+01  6.11631813e+01  6.12250557e+01  6.12415085e+01\n",
      "  6.12678490e+01  6.13250465e+01  6.13421822e+01  6.13525352e+01\n",
      "  6.13722801e+01  6.14056282e+01  6.14375801e+01  6.16845360e+01\n",
      "  6.17298470e+01  6.18694267e+01  6.20367851e+01  6.25428810e+01\n",
      "  6.27768974e+01  6.33778725e+01  6.36097946e+01  6.39338875e+01\n",
      "  6.44314346e+01  6.91550903e+01  7.08076324e+01  7.25392075e+01\n",
      "  7.26160660e+01  7.68055801e+01  7.72203217e+01  7.84709778e+01\n",
      "  7.86709290e+01  7.88299255e+01  7.89823532e+01  7.90333099e+01\n",
      "  7.90586548e+01  7.90678024e+01  7.92038193e+01  7.92089920e+01\n",
      "  7.92213593e+01  7.92312698e+01  7.93373871e+01  7.93659668e+01\n",
      "  7.94643555e+01  7.94832153e+01  7.95804672e+01  7.97348633e+01\n",
      "  7.97485886e+01  7.97766876e+01  8.03003616e+01  8.11383209e+01\n",
      "  8.12266769e+01  8.43174820e+01  8.43780289e+01  8.57019196e+01\n",
      "  9.45961609e+01  9.49262695e+01  9.55904922e+01  9.66111603e+01\n",
      "  9.66593399e+01  9.70098724e+01  9.72887573e+01  9.72934265e+01\n",
      "  9.73515930e+01  9.75128326e+01  9.77453079e+01  9.77679520e+01\n",
      "  9.78552322e+01  9.82620010e+01  9.83588943e+01  9.84510040e+01\n",
      "  9.90869217e+01  9.90924988e+01  9.92693176e+01  9.95827713e+01\n",
      "  9.99623108e+01  1.00004112e+02  1.00182793e+02  1.00373497e+02\n",
      "  1.02967598e+02  1.08647308e+02  1.10738358e+02  1.30093079e+02\n",
      "  1.31439850e+02  1.33983627e+02  1.34378586e+02  1.34470154e+02\n",
      "  1.35141418e+02  1.36323364e+02  1.47392563e+02]\n",
      "ordered_pocaz =  [-1.23822388e+03 -4.43958618e+02 -3.33485016e+02 -3.21600800e+02\n",
      " -2.44395828e+02 -1.55983612e+02 -1.42279724e+02 -8.60519485e+01\n",
      " -5.78091278e+01 -5.11150093e+01 -4.43069305e+01 -4.28218460e+01\n",
      " -3.76326904e+01 -3.44797554e+01 -3.33126869e+01 -3.21566505e+01\n",
      " -3.17352009e+01 -3.10061512e+01 -3.09818459e+01 -3.09294434e+01\n",
      " -3.08653851e+01 -3.06606483e+01 -3.06359768e+01 -3.04435177e+01\n",
      " -3.04254246e+01 -3.04000340e+01 -3.01665459e+01 -3.01444073e+01\n",
      " -3.01066399e+01 -3.00841160e+01 -2.99790344e+01 -2.99323521e+01\n",
      " -2.99069862e+01 -2.98943558e+01 -2.98873138e+01 -2.98739624e+01\n",
      " -2.98281155e+01 -2.98238163e+01 -2.98175507e+01 -2.97863998e+01\n",
      " -2.97791901e+01 -2.97753983e+01 -2.97153091e+01 -2.97009544e+01\n",
      " -2.96718330e+01 -2.96403008e+01 -2.95927296e+01 -2.94849796e+01\n",
      " -2.94028625e+01 -2.93101521e+01 -2.89519367e+01 -2.89046593e+01\n",
      " -2.88616905e+01 -2.88577652e+01 -2.88553295e+01 -2.75121384e+01\n",
      " -2.72576771e+01 -2.71799793e+01 -2.66432877e+01 -2.62467613e+01\n",
      " -2.48227444e+01 -2.46314392e+01 -2.25500526e+01 -1.58481617e+01\n",
      " -2.10979676e+00 -1.72000504e+00 -1.71724963e+00 -8.96518528e-01\n",
      " -8.15029144e-01 -5.81001937e-01 -5.08191347e-01 -5.01292408e-01\n",
      " -3.53640288e-01 -3.40370059e-01 -2.64390618e-01 -2.16207311e-01\n",
      " -1.93332553e-01 -1.67944506e-01 -1.31774321e-01 -1.19251795e-01\n",
      " -6.15143590e-02 -5.25222756e-02  1.06699489e-01  1.66734442e-01\n",
      "  1.81626886e-01  2.31216758e-01  8.13655436e-01  1.08331537e+00\n",
      "  1.52280295e+00  2.00598311e+00  2.52052236e+00  5.99052763e+00\n",
      "  6.03304529e+00  6.42440176e+00  8.09042931e+00  4.44174004e+01\n",
      "  5.01861458e+01  5.68113251e+01  5.91287575e+01  5.92444153e+01\n",
      "  5.92517738e+01  5.92810402e+01  5.97522240e+01  6.01143799e+01\n",
      "  6.03394737e+01  6.05848083e+01  6.06125488e+01  6.07765999e+01\n",
      "  6.08017044e+01  6.08162651e+01  6.08422470e+01  6.08880119e+01\n",
      "  6.09001160e+01  6.09123573e+01  6.09170876e+01  6.09424744e+01\n",
      "  6.09446945e+01  6.09501572e+01  6.09941864e+01  6.10036354e+01\n",
      "  6.10254211e+01  6.10578918e+01  6.11008301e+01  6.11076927e+01\n",
      "  6.11610985e+01  6.11631813e+01  6.12250557e+01  6.12415085e+01\n",
      "  6.12678490e+01  6.13250465e+01  6.13421822e+01  6.13525352e+01\n",
      "  6.13722801e+01  6.14056282e+01  6.14375801e+01  6.16845360e+01\n",
      "  6.17298470e+01  6.18694267e+01  6.20367851e+01  6.25428810e+01\n",
      "  6.27768974e+01  6.33778725e+01  6.36097946e+01  6.39338875e+01\n",
      "  6.44314346e+01  6.91550903e+01  7.08076324e+01  7.25392075e+01\n",
      "  7.26160660e+01  7.68055801e+01  7.72203217e+01  7.84709778e+01\n",
      "  7.86709290e+01  7.88299255e+01  7.89823532e+01  7.90333099e+01\n",
      "  7.90586548e+01  7.90678024e+01  7.92038193e+01  7.92089920e+01\n",
      "  7.92213593e+01  7.92312698e+01  7.93373871e+01  7.93659668e+01\n",
      "  7.94643555e+01  7.94832153e+01  7.95804672e+01  7.97348633e+01\n",
      "  7.97485886e+01  7.97766876e+01  8.03003616e+01  8.11383209e+01\n",
      "  8.12266769e+01  8.43174820e+01  8.43780289e+01  8.57019196e+01\n",
      "  9.45961609e+01  9.49262695e+01  9.55904922e+01  9.66111603e+01\n",
      "  9.66593399e+01  9.70098724e+01  9.72887573e+01  9.72934265e+01\n",
      "  9.73515930e+01  9.75128326e+01  9.77453079e+01  9.77679520e+01\n",
      "  9.78552322e+01  9.82620010e+01  9.83588943e+01  9.84510040e+01\n",
      "  9.90869217e+01  9.90924988e+01  9.92693176e+01  9.95827713e+01\n",
      "  9.99623108e+01  1.00004112e+02  1.00182793e+02  1.00373497e+02\n",
      "  1.02967598e+02  1.08647308e+02  1.10738358e+02  1.30093079e+02\n",
      "  1.31439850e+02  1.33983627e+02  1.34378586e+02  1.34470154e+02\n",
      "  1.35141418e+02  1.36323364e+02  1.47392563e+02]\n",
      "      -----------      \n",
      "local_pocax =  [-0.12564518  0.05206263 -0.03062759 -0.03235899  0.09763418  0.0048499\n",
      "  0.00943753  0.05516989  0.31492278  0.12163319  0.04015106 -0.02172407\n",
      " -0.00177114 -0.14081542 -0.01912842 -0.05125614 -0.00062081  0.14885484\n",
      "  0.01483655  0.05170671 -0.01707729 -0.00061385  0.00881472 -0.21753241\n",
      "  0.00605343 -0.07077286 -0.0167565  -0.00459527 -0.01600695 -0.01677939\n",
      "  0.0118908  -0.01762416  0.00435679  0.01462892  0.00253085 -0.04859198\n",
      "  0.02631253 -0.00935868 -0.01795375 -0.02515749  0.00725456 -0.05981446\n",
      " -0.03460036 -0.03687518  0.16210654  0.07979918  0.0079322  -0.03207037\n",
      "  0.03996011 -0.09564117 -0.03536231 -0.17327581  0.0346862   0.09674329\n",
      "  0.22787358 -0.00259696  0.01409541 -0.01223536  0.32812136  0.08642837\n",
      " -0.04823636 -0.12990084 -0.13456105  0.06290641  0.00759618  0.01218839\n",
      "  0.00123247  0.04466092  0.00611177 -0.00070899 -0.03710658  0.04524364\n",
      "  0.07460894  0.06935555  0.05660795 -0.04045226 -0.00639004  0.08061168\n",
      "  0.01804429  0.0022031   0.02782362 -0.03081498  0.00083262 -0.15262756\n",
      "  0.01391983  0.01577597  0.01479018 -0.2998547   0.05607008 -0.0592328\n",
      "  0.2868236   0.35189405  0.04597934 -0.23782757 -0.0222602  -0.02689268\n",
      " -0.18937762  0.08067524  0.12080713  0.01067393  0.13868931  0.01779817\n",
      "  0.0320772   0.01244222  0.05454691  0.00552833  0.0653168   0.00124253\n",
      "  0.00255716  0.0050332   0.07317971  0.00085498 -0.04339629 -0.01131052\n",
      "  0.00926857  0.03009852  0.00401286  0.0226302   0.04329113  0.0019631\n",
      "  0.00525049  0.305941    0.00693353  0.03443407  0.03116727  0.13596304\n",
      "  0.02660353  0.00581463 -0.01692358  0.01484644 -0.01729076 -0.00118962\n",
      "  0.00461809  0.03938045  0.04206297  0.05636727  0.01120443 -0.0101408\n",
      " -0.00472407 -0.01845525 -0.00274096  0.00504194 -0.02382473  0.03708906\n",
      "  0.01763952 -0.00162936  0.00991266  0.00545246 -0.00244212 -0.02179445\n",
      "  0.00862779 -0.03101769  0.01337135 -0.05252787 -0.01752301 -0.07212412\n",
      "  0.04218627  0.01835897 -0.03841999 -0.03380709 -0.02865586  0.00289253\n",
      " -0.00503832  0.06380809  0.0231844   0.04371573  0.01818898  0.01144092\n",
      " -0.05715381  0.01327179 -0.05416953  0.01055767 -0.01377359 -0.00697023\n",
      "  0.00534507  0.19495408 -0.00382809 -0.01153739  0.05261749 -0.15305598\n",
      " -0.05780239 -0.00722723 -0.10334502 -0.02891188  0.04872941 -0.06369349\n",
      " -0.06087724 -0.01461384 -0.06479985  0.01923    -0.0022962   0.04742396\n",
      "  0.10417484  0.0236708  -0.07264555 -0.04379908 -0.09639246 -0.05758272\n",
      "  0.02172072 -0.01892907 -0.03184969 -0.06358586 -0.08816814 -0.06739305\n",
      " -0.04407161 -0.04014831 -0.04984743  0.02286243 -0.01402193 -0.03166869\n",
      "  0.04575175]\n",
      "ordered_pocax =  [-0.12564518  0.05206263 -0.03062759 -0.03235899  0.09763418  0.0048499\n",
      "  0.00943753  0.05516989  0.31492278  0.12163319  0.04015106 -0.02172407\n",
      " -0.00177114 -0.14081542 -0.01912842 -0.05125614 -0.00062081  0.14885484\n",
      "  0.01483655  0.05170671 -0.01707729 -0.00061385  0.00881472 -0.21753241\n",
      "  0.00605343 -0.07077286 -0.0167565  -0.00459527 -0.01600695 -0.01677939\n",
      "  0.0118908  -0.01762416  0.00435679  0.01462892  0.00253085 -0.04859198\n",
      "  0.02631253 -0.00935868 -0.01795375 -0.02515749  0.00725456 -0.05981446\n",
      " -0.03460036 -0.03687518  0.16210654  0.07979918  0.0079322  -0.03207037\n",
      "  0.03996011 -0.09564117 -0.03536231 -0.17327581  0.0346862   0.09674329\n",
      "  0.22787358 -0.00259696  0.01409541 -0.01223536  0.32812136  0.08642837\n",
      " -0.04823636 -0.12990084 -0.13456105  0.06290641  0.00759618  0.01218839\n",
      "  0.00123247  0.04466092  0.00611177 -0.00070899 -0.03710658  0.04524364\n",
      "  0.07460894  0.06935555  0.05660795 -0.04045226 -0.00639004  0.08061168\n",
      "  0.01804429  0.0022031   0.02782362 -0.03081498  0.00083262 -0.15262756\n",
      "  0.01391983  0.01577597  0.01479018 -0.2998547   0.05607008 -0.0592328\n",
      "  0.2868236   0.35189405  0.04597934 -0.23782757 -0.0222602  -0.02689268\n",
      " -0.18937762  0.08067524  0.12080713  0.01067393  0.13868931  0.01779817\n",
      "  0.0320772   0.01244222  0.05454691  0.00552833  0.0653168   0.00124253\n",
      "  0.00255716  0.0050332   0.07317971  0.00085498 -0.04339629 -0.01131052\n",
      "  0.00926857  0.03009852  0.00401286  0.0226302   0.04329113  0.0019631\n",
      "  0.00525049  0.305941    0.00693353  0.03443407  0.03116727  0.13596304\n",
      "  0.02660353  0.00581463 -0.01692358  0.01484644 -0.01729076 -0.00118962\n",
      "  0.00461809  0.03938045  0.04206297  0.05636727  0.01120443 -0.0101408\n",
      " -0.00472407 -0.01845525 -0.00274096  0.00504194 -0.02382473  0.03708906\n",
      "  0.01763952 -0.00162936  0.00991266  0.00545246 -0.00244212 -0.02179445\n",
      "  0.00862779 -0.03101769  0.01337135 -0.05252787 -0.01752301 -0.07212412\n",
      "  0.04218627  0.01835897 -0.03841999 -0.03380709 -0.02865586  0.00289253\n",
      " -0.00503832  0.06380809  0.0231844   0.04371573  0.01818898  0.01144092\n",
      " -0.05715381  0.01327179 -0.05416953  0.01055767 -0.01377359 -0.00697023\n",
      "  0.00534507  0.19495408 -0.00382809 -0.01153739  0.05261749 -0.15305598\n",
      " -0.05780239 -0.00722723 -0.10334502 -0.02891188  0.04872941 -0.06369349\n",
      " -0.06087724 -0.01461384 -0.06479985  0.01923    -0.0022962   0.04742396\n",
      "  0.10417484  0.0236708  -0.07264555 -0.04379908 -0.09639246 -0.05758272\n",
      "  0.02172072 -0.01892907 -0.03184969 -0.06358586 -0.08816814 -0.06739305\n",
      " -0.04407161 -0.04014831 -0.04984743  0.02286243 -0.01402193 -0.03166869\n",
      "  0.04575175]\n",
      "  ---------------------- \n",
      "\n",
      " -- interval, interval_minZ, interval_maxZ =  0 -102.5 -87.5\n",
      "  \n",
      "eventIndex, interval =  0 0\n",
      "interval_pocaz =  []\n",
      "             ----          \n",
      "interval_pocax =  []\n",
      "  \n",
      "eventIndex and interval =  0 0\n",
      "interval_pocaz =  []\n",
      " -- interval, interval_minZ, interval_maxZ =  1 -92.5 -77.5\n",
      "  \n",
      "eventIndex, interval =  0 1\n",
      "interval_pocaz =  [3.9480515]\n",
      "             ----          \n",
      "interval_pocax =  [0.05516989]\n",
      "  \n",
      "eventIndex and interval =  0 1\n",
      "interval_pocaz =  [3.9480515]\n",
      " -- interval, interval_minZ, interval_maxZ =  2 -82.5 -67.5\n",
      "  \n",
      "eventIndex, interval =  0 2\n",
      "interval_pocaz =  []\n",
      "             ----          \n",
      "interval_pocax =  []\n",
      "  \n",
      "eventIndex and interval =  0 2\n",
      "interval_pocaz =  []\n",
      " -- interval, interval_minZ, interval_maxZ =  3 -72.5 -57.5\n",
      "  \n",
      "eventIndex, interval =  0 3\n",
      "interval_pocaz =  [12.190872]\n",
      "             ----          \n",
      "interval_pocax =  [0.31492278]\n",
      "  \n",
      "eventIndex and interval =  0 3\n",
      "interval_pocaz =  [12.190872]\n",
      " -- interval, interval_minZ, interval_maxZ =  4 -62.5 -47.5\n",
      "  \n",
      "eventIndex, interval =  0 4\n",
      "interval_pocaz =  [2.1908722 8.884991 ]\n",
      "             ----          \n",
      "interval_pocax =  [0.31492278 0.12163319]\n",
      "  \n",
      "eventIndex and interval =  0 4\n",
      "interval_pocaz =  [2.1908722 8.884991 ]\n",
      " -- interval, interval_minZ, interval_maxZ =  5 -52.5 -37.5\n",
      "  \n",
      "  \n",
      "eventIndex and interval =  0 5\n",
      "interval_pocaz =  [-1.1150093  5.6930695  7.178154  12.36731  ]\n",
      " -- interval, interval_minZ, interval_maxZ =  6 -42.5 -27.5\n",
      "  \n",
      "  \n",
      "eventIndex and interval =  0 6\n",
      "interval_pocaz =  [ 2.3673096  5.5202446  6.687313   7.8433495  8.264799   8.993849\n",
      "  9.018154   9.070557   9.134615   9.339352   9.364023   9.556482\n",
      "  9.574575   9.599966   9.833454   9.855593   9.89336    9.915884\n",
      " 10.020966  10.067648  10.093014  10.105644  10.112686  10.126038\n",
      " 10.171885  10.176184  10.182449  10.2136    10.22081   10.224602\n",
      " 10.284691  10.299046  10.328167  10.359699  10.40727   10.51502\n",
      " 10.597137  10.689848  11.048063  11.095341  11.1383095 11.142235\n",
      " 11.1446705 12.487862 ]\n",
      " -- interval, interval_minZ, interval_maxZ =  7 -32.5 -17.5\n",
      "  \n",
      "  \n",
      "eventIndex and interval =  0 7\n",
      "interval_pocaz =  [-2.1566505  -1.7352009  -1.0061512  -0.98184586 -0.92944336 -0.86538506\n",
      " -0.66064835 -0.6359768  -0.44351768 -0.42542458 -0.40003395 -0.16654587\n",
      " -0.14440727 -0.10663986 -0.08411598  0.02096558  0.06764793  0.09301376\n",
      "  0.10564423  0.11268616  0.1260376   0.17188454  0.1761837   0.18244934\n",
      "  0.21360016  0.22080994  0.22460175  0.28469086  0.29904556  0.32816696\n",
      "  0.35969925  0.40727043  0.5150204   0.59713745  0.68984795  1.0480633\n",
      "  1.0953407   1.1383095   1.1422348   1.1446705   2.4878616   2.742323\n",
      "  2.8200207   3.3567123   3.7532387   5.1772556   5.368561    7.4499474 ]\n",
      " -- interval, interval_minZ, interval_maxZ =  8 -22.5 -7.5\n",
      "  \n",
      "  \n",
      "eventIndex and interval =  0 8\n",
      "interval_pocaz =  [4.1518383]\n",
      " -- interval, interval_minZ, interval_maxZ =  9 -12.5 2.5\n",
      "  \n",
      "  \n",
      "eventIndex and interval =  0 9\n",
      "interval_pocaz =  [ 7.8902035  8.279995   8.28275    9.103481   9.184971   9.418998\n",
      "  9.491809   9.498708   9.646359   9.65963    9.735609   9.7837925\n",
      "  9.806667   9.832055   9.868226   9.880748   9.938486   9.947477\n",
      " 10.1067    10.166735  10.181627  10.231216  10.813656  11.083315\n",
      " 11.522803  12.005983 ]\n",
      " -- interval, interval_minZ, interval_maxZ =  10 -2.5 12.5\n",
      "  \n",
      "  \n",
      "eventIndex and interval =  0 10\n",
      "interval_pocaz =  [-2.1097968  -1.720005   -1.7172496  -0.8965185  -0.81502914 -0.58100194\n",
      " -0.50819135 -0.5012924  -0.3536403  -0.34037006 -0.26439062 -0.21620731\n",
      " -0.19333255 -0.1679445  -0.13177432 -0.1192518  -0.06151436 -0.05252228\n",
      "  0.10669949  0.16673444  0.18162689  0.23121676  0.81365544  1.0833154\n",
      "  1.522803    2.005983    2.5205224   5.9905276   6.0330453   6.4244018\n",
      "  8.090429  ]\n",
      " -- interval, interval_minZ, interval_maxZ =  11 7.5 22.5\n",
      "  \n",
      "  \n",
      "eventIndex and interval =  0 11\n",
      "interval_pocaz =  [-1.9095707]\n",
      " -- interval, interval_minZ, interval_maxZ =  12 17.5 32.5\n",
      "  \n",
      "  \n",
      "eventIndex and interval =  0 12\n",
      "interval_pocaz =  []\n",
      " -- interval, interval_minZ, interval_maxZ =  13 27.5 42.5\n",
      "  \n",
      "  \n",
      "eventIndex and interval =  0 13\n",
      "interval_pocaz =  []\n",
      " -- interval, interval_minZ, interval_maxZ =  14 37.5 52.5\n",
      "  \n",
      "  \n",
      "eventIndex and interval =  0 14\n",
      "interval_pocaz =  [ 4.4174004 10.186146 ]\n",
      " -- interval, interval_minZ, interval_maxZ =  15 47.5 62.5\n",
      "  \n",
      "  \n",
      "eventIndex and interval =  0 15\n",
      "interval_pocaz =  [ 0.18614578  6.811325    9.128757    9.244415    9.251774    9.28104\n",
      "  9.752224   10.11438    10.339474   10.584808   10.612549   10.7766\n",
      " 10.801704   10.816265   10.842247   10.888012   10.900116   10.912357\n",
      " 10.917088   10.942474   10.9446945  10.950157   10.994186   11.003635\n",
      " 11.025421   11.057892   11.10083    11.107693   11.1610985  11.163181\n",
      " 11.225056   11.2415085  11.267849   11.325047   11.342182   11.352535\n",
      " 11.37228    11.405628   11.43758    11.684536   11.729847   11.869427\n",
      " 12.036785  ]\n",
      " -- interval, interval_minZ, interval_maxZ =  16 57.5 72.5\n",
      "  \n",
      "  \n",
      "eventIndex and interval =  0 16\n",
      "interval_pocaz =  [-0.8712425  -0.7555847  -0.74822617 -0.7189598  -0.24777603  0.11437988\n",
      "  0.33947372  0.58480835  0.6125488   0.7765999   0.8017044   0.8162651\n",
      "  0.842247    0.88801193  0.90011597  0.91235733  0.91708755  0.94247437\n",
      "  0.9446945   0.95015717  0.9941864   1.0036354   1.0254211   1.0578918\n",
      "  1.1008301   1.1076927   1.1610985   1.1631813   1.2250557   1.2415085\n",
      "  1.267849    1.3250465   1.3421822   1.3525352   1.3722801   1.4056282\n",
      "  1.4375801   1.684536    1.729847    1.8694267   2.0367851   2.542881\n",
      "  2.7768974   3.3778725   3.6097946   3.9338875   4.4314346   9.15509\n",
      " 10.807632  ]\n",
      " -- interval, interval_minZ, interval_maxZ =  17 67.5 82.5\n",
      "  \n",
      "  \n",
      "eventIndex and interval =  0 17\n",
      "interval_pocaz =  [-0.84490967  0.80763245  2.5392075   2.616066    6.80558     7.2203217\n",
      "  8.470978    8.670929    8.829926    8.982353    9.03331     9.058655\n",
      "  9.067802    9.203819    9.208992    9.221359    9.23127     9.337387\n",
      "  9.365967    9.464355    9.483215    9.580467    9.734863    9.748589\n",
      "  9.776688   10.300362   11.138321   11.226677  ]\n",
      " -- interval, interval_minZ, interval_maxZ =  18 77.5 92.5\n",
      "  \n",
      "  \n",
      "eventIndex and interval =  0 18\n",
      "interval_pocaz =  [-1.5290222  -1.329071   -1.1700745  -1.0176468  -0.96669006 -0.9413452\n",
      " -0.9321976  -0.7961807  -0.791008   -0.77864075 -0.76873016 -0.6626129\n",
      " -0.6340332  -0.53564453 -0.51678467 -0.41953278 -0.26513672 -0.25141144\n",
      " -0.22331238  0.30036163  1.1383209   1.226677    4.317482    4.378029\n",
      "  5.7019196 ]\n",
      " -- interval, interval_minZ, interval_maxZ =  19 87.5 102.5\n",
      "  \n",
      "  \n",
      "eventIndex and interval =  0 19\n",
      "interval_pocaz =  [ 4.596161   4.9262695  5.5904922  6.6111603  6.65934    7.0098724\n",
      "  7.2887573  7.2934265  7.351593   7.5128326  7.745308   7.767952\n",
      "  7.8552322  8.262001   8.358894   8.451004   9.086922   9.092499\n",
      "  9.269318   9.582771   9.962311  10.004112  10.182793  10.373497 ]\n",
      " -- interval, interval_minZ, interval_maxZ =  20 97.5 112.5\n",
      "  \n",
      "  \n",
      "eventIndex and interval =  0 20\n",
      "interval_pocaz =  [-2.4871674e+00 -2.2546921e+00 -2.2320480e+00 -2.1447678e+00\n",
      " -1.7379990e+00 -1.6411057e+00 -1.5489960e+00 -9.1307831e-01\n",
      " -9.0750122e-01 -7.3068237e-01 -4.1722870e-01 -3.7689209e-02\n",
      "  4.1122437e-03  1.8279266e-01  3.7349701e-01  2.9675980e+00\n",
      "  8.6473083e+00  1.0738358e+01]\n",
      " -- interval, interval_minZ, interval_maxZ =  21 107.5 122.5\n",
      "  \n",
      "  \n",
      "eventIndex and interval =  0 21\n",
      "interval_pocaz =  [-1.3526917   0.73835754]\n",
      " -- interval, interval_minZ, interval_maxZ =  22 117.5 132.5\n",
      "  \n",
      "  \n",
      "eventIndex and interval =  0 22\n",
      "interval_pocaz =  [10.093079 11.43985 ]\n",
      " -- interval, interval_minZ, interval_maxZ =  23 127.5 142.5\n",
      "  \n",
      "  \n",
      "eventIndex and interval =  0 23\n",
      "interval_pocaz =  [0.09307861 1.4398499  3.9836273  4.378586   4.470154   5.1414185\n",
      " 6.3233643 ]\n",
      " -- interval, interval_minZ, interval_maxZ =  24 137.5 152.5\n",
      "  \n",
      "  \n",
      "eventIndex and interval =  0 24\n",
      "interval_pocaz =  [7.392563]\n",
      " -- interval, interval_minZ, interval_maxZ =  25 147.5 162.5\n",
      "  \n",
      "  \n",
      "eventIndex and interval =  0 25\n",
      "interval_pocaz =  []\n",
      " -- interval, interval_minZ, interval_maxZ =  26 157.5 172.5\n",
      "  \n",
      "  \n",
      "eventIndex and interval =  0 26\n",
      "interval_pocaz =  []\n",
      " -- interval, interval_minZ, interval_maxZ =  27 167.5 182.5\n",
      "  \n",
      "  \n",
      "eventIndex and interval =  0 27\n",
      "interval_pocaz =  []\n",
      " -- interval, interval_minZ, interval_maxZ =  28 177.5 192.5\n",
      "  \n",
      "  \n",
      "eventIndex and interval =  0 28\n",
      "interval_pocaz =  []\n",
      " -- interval, interval_minZ, interval_maxZ =  29 187.5 202.5\n",
      "  \n",
      "  \n",
      "eventIndex and interval =  0 29\n",
      "interval_pocaz =  []\n",
      " -- interval, interval_minZ, interval_maxZ =  30 197.5 212.5\n",
      "  \n",
      "  \n",
      "eventIndex and interval =  0 30\n",
      "interval_pocaz =  []\n",
      " -- interval, interval_minZ, interval_maxZ =  31 207.5 222.5\n",
      "  \n",
      "  \n",
      "eventIndex and interval =  0 31\n",
      "interval_pocaz =  []\n",
      " -- interval, interval_minZ, interval_maxZ =  32 217.5 232.5\n",
      "  \n",
      "  \n",
      "eventIndex and interval =  0 32\n",
      "interval_pocaz =  []\n",
      " -- interval, interval_minZ, interval_maxZ =  33 227.5 242.5\n",
      "  \n",
      "  \n",
      "eventIndex and interval =  0 33\n",
      "interval_pocaz =  []\n",
      " -- interval, interval_minZ, interval_maxZ =  34 237.5 252.5\n",
      "  \n",
      "  \n",
      "eventIndex and interval =  0 34\n",
      "interval_pocaz =  []\n",
      " -- interval, interval_minZ, interval_maxZ =  35 247.5 262.5\n",
      "  \n",
      "  \n",
      "eventIndex and interval =  0 35\n",
      "interval_pocaz =  []\n",
      " -- interval, interval_minZ, interval_maxZ =  36 257.5 272.5\n",
      "  \n",
      "  \n",
      "eventIndex and interval =  0 36\n",
      "interval_pocaz =  []\n",
      " -- interval, interval_minZ, interval_maxZ =  37 267.5 282.5\n",
      "  \n",
      "  \n",
      "eventIndex and interval =  0 37\n",
      "interval_pocaz =  []\n",
      " -- interval, interval_minZ, interval_maxZ =  38 277.5 292.5\n",
      "  \n",
      "  \n",
      "eventIndex and interval =  0 38\n",
      "interval_pocaz =  []\n",
      " -- interval, interval_minZ, interval_maxZ =  39 287.5 302.5\n",
      "  \n",
      "  \n",
      "eventIndex and interval =  0 39\n",
      "interval_pocaz =  []\n"
     ]
    },
    {
     "name": "stdout",
     "output_type": "stream",
     "text": [
      "len(X) =  20000\n",
      "len(X_ints) = 800000\n",
      "len(Xlist) =  1\n",
      "len(Xlist_ints) =  1\n",
      "Loaded dataAA/20K_POCA_kernel_evts_200926.h5 in 96.0 s\n",
      "outer loop X.shape =  (20000, 9, 600)\n",
      "Constructing 20000 event dataset took 0.7593 s\n",
      "x_t.shape =  torch.Size([20000, 9, 600])\n",
      "x_t.shape[0] =  20000\n",
      "x_t.shape[1] =  9\n",
      "x_t_intervals.shape =  torch.Size([800000, 9, 300])\n",
      "x_t_intervals.shape[0] =  800000\n",
      "x_t_intervals.shape[1] =  9\n",
      "y_t.shape =  torch.Size([20000, 12000])\n",
      "y_t_intervals.shape =  torch.Size([800000, 300])\n",
      "y_t_intervals.shape[0] =  800000\n",
      "y_t_intervals.shape[1] =  300\n"
     ]
    }
   ],
   "source": [
    "## Training dataset. You can put as many files here as desired.\n",
    "\n",
    "##train_loader = collect_t2kde_data('/share/lazy/pv-finder/20k_evts_for_KDE_learning_200716.h5',\n",
    "train_loader = collect_t2kde_data('dataAA/20K_POCA_kernel_evts_200926.h5',\n",
    "##train_loader = collect_t2kde_data('/share/lazy/sokoloff/ML-data_AA/100_POCA_kernel_evts_210829.h5',                                  \n",
    "##train_loader = collect_t2kde_data('/share/lazy/pv-finder/test_data_for_KDE_learning_BastilleDay20.h5',\n",
    "                            batch_size=batch_size,\n",
    "## if we are using a larger dataset (240K events, with the datasets above, and 11 GB  of GPU memory),\n",
    "## the dataset will overflow the GPU memory; device=device will allow the data to move back\n",
    "## and forth between the CPU and GPU memory. While this allows use of a larger dataset, it slows\n",
    "## down performance by about 10%.  So comment out when not needed.\n",
    "                                  \n",
    "## 220715 running out of CUDA memory when device=device enabled,\n",
    "## so comment out to see if this helps\n",
    "##                          device=device,\n",
    "##  slice is used as index in feature set defined in terms of intervals\n",
    "##  and there are 800K intervals in a file with 20K events\n",
    "                           slice = slice(None,700000)\n",
    "                           )\n",
    "                            \n",
    "\n",
    "# Validation dataset. You can slice to reduce the size.\n",
    "## mds no separate validation set yet,\n",
    "val_loader = collect_t2kde_data('dataAA/20K_POCA_kernel_evts_200926.h5',\n",
    "                            batch_size=batch_size,\n",
    "## 220715 running out of CUDA memory when device=device enabled,\n",
    "## so comment out to see if this helps\n",
    "##                          device=device,\n",
    "##                            slice = slice(700000,None)\n",
    "                           )"
   ]
  },
  {
   "cell_type": "markdown",
   "metadata": {},
   "source": [
    "with torch.no_grad():\n",
    "    counter = 0\n",
    "    event = 0\n",
    "    print(\"train_loader = \",train_loader)\n",
    "    for inputs, labels in train_loader:\n",
    "##        print(\"counter = \",counter)\n",
    "##        print(\"inputs = \",inputs)\n",
    "        print(\"inputs.shape = \",inputs.shape)\n",
    "        if inputs.device != device:\n",
    "            inputs, labels = inputs.to(device), labels.to(device)\n",
    "            \n",
    "        outputs = model(inputs)\n",
    "##        print(\"outputs.shape = \",outputs.shape)\n",
    "        nEvts = outputs.shape[0]\n",
    "        for iEvt in range(nEvts):\n",
    "            y_pred = outputs[iEvt,:]\n",
    "            y_pred = y_pred.cpu().numpy()\n",
    "            \n",
    "            event = event +1\n",
    "##            print(\"event = \",event)\n",
    "            if (event<5):\n",
    "                plt.figure()\n",
    "                plt.plot(y_pred[0:50])\n",
    "                plt.show()\n",
    "                \n",
    "##                print(\"  point AA \")\n",
    "                features = inputs[iEvt,:]\n",
    "                features = features[np.newaxis,:,:]\n",
    "                \n",
    "                \n",
    "                print(\"features.shape = \",features.shape)\n",
    "                \n",
    "                output_A = model(features)\n",
    "                y_prime = output_A[0,:]\n",
    "                y_prime = y_prime.cpu().numpy()\n",
    "                plt.figure()\n",
    "                plt.plot(y_prime[0:50], color=\"r\")\n",
    "                plt.show()\n",
    "                \n",
    "            \n",
    "\n",
    "##        print(\"nEvts = \",nEvts)\n",
    "        \n",
    "        counter = counter+1\n",
    "        \n",
    "        \n",
    "        "
   ]
  },
  {
   "cell_type": "code",
   "execution_count": 18,
   "metadata": {
    "scrolled": true
   },
   "outputs": [
    {
     "data": {
      "application/javascript": [
       "/* Put everything inside the global mpl namespace */\n",
       "window.mpl = {};\n",
       "\n",
       "\n",
       "mpl.get_websocket_type = function() {\n",
       "    if (typeof(WebSocket) !== 'undefined') {\n",
       "        return WebSocket;\n",
       "    } else if (typeof(MozWebSocket) !== 'undefined') {\n",
       "        return MozWebSocket;\n",
       "    } else {\n",
       "        alert('Your browser does not have WebSocket support. ' +\n",
       "              'Please try Chrome, Safari or Firefox ≥ 6. ' +\n",
       "              'Firefox 4 and 5 are also supported but you ' +\n",
       "              'have to enable WebSockets in about:config.');\n",
       "    };\n",
       "}\n",
       "\n",
       "mpl.figure = function(figure_id, websocket, ondownload, parent_element) {\n",
       "    this.id = figure_id;\n",
       "\n",
       "    this.ws = websocket;\n",
       "\n",
       "    this.supports_binary = (this.ws.binaryType != undefined);\n",
       "\n",
       "    if (!this.supports_binary) {\n",
       "        var warnings = document.getElementById(\"mpl-warnings\");\n",
       "        if (warnings) {\n",
       "            warnings.style.display = 'block';\n",
       "            warnings.textContent = (\n",
       "                \"This browser does not support binary websocket messages. \" +\n",
       "                    \"Performance may be slow.\");\n",
       "        }\n",
       "    }\n",
       "\n",
       "    this.imageObj = new Image();\n",
       "\n",
       "    this.context = undefined;\n",
       "    this.message = undefined;\n",
       "    this.canvas = undefined;\n",
       "    this.rubberband_canvas = undefined;\n",
       "    this.rubberband_context = undefined;\n",
       "    this.format_dropdown = undefined;\n",
       "\n",
       "    this.image_mode = 'full';\n",
       "\n",
       "    this.root = $('<div/>');\n",
       "    this._root_extra_style(this.root)\n",
       "    this.root.attr('style', 'display: inline-block');\n",
       "\n",
       "    $(parent_element).append(this.root);\n",
       "\n",
       "    this._init_header(this);\n",
       "    this._init_canvas(this);\n",
       "    this._init_toolbar(this);\n",
       "\n",
       "    var fig = this;\n",
       "\n",
       "    this.waiting = false;\n",
       "\n",
       "    this.ws.onopen =  function () {\n",
       "            fig.send_message(\"supports_binary\", {value: fig.supports_binary});\n",
       "            fig.send_message(\"send_image_mode\", {});\n",
       "            if (mpl.ratio != 1) {\n",
       "                fig.send_message(\"set_dpi_ratio\", {'dpi_ratio': mpl.ratio});\n",
       "            }\n",
       "            fig.send_message(\"refresh\", {});\n",
       "        }\n",
       "\n",
       "    this.imageObj.onload = function() {\n",
       "            if (fig.image_mode == 'full') {\n",
       "                // Full images could contain transparency (where diff images\n",
       "                // almost always do), so we need to clear the canvas so that\n",
       "                // there is no ghosting.\n",
       "                fig.context.clearRect(0, 0, fig.canvas.width, fig.canvas.height);\n",
       "            }\n",
       "            fig.context.drawImage(fig.imageObj, 0, 0);\n",
       "        };\n",
       "\n",
       "    this.imageObj.onunload = function() {\n",
       "        fig.ws.close();\n",
       "    }\n",
       "\n",
       "    this.ws.onmessage = this._make_on_message_function(this);\n",
       "\n",
       "    this.ondownload = ondownload;\n",
       "}\n",
       "\n",
       "mpl.figure.prototype._init_header = function() {\n",
       "    var titlebar = $(\n",
       "        '<div class=\"ui-dialog-titlebar ui-widget-header ui-corner-all ' +\n",
       "        'ui-helper-clearfix\"/>');\n",
       "    var titletext = $(\n",
       "        '<div class=\"ui-dialog-title\" style=\"width: 100%; ' +\n",
       "        'text-align: center; padding: 3px;\"/>');\n",
       "    titlebar.append(titletext)\n",
       "    this.root.append(titlebar);\n",
       "    this.header = titletext[0];\n",
       "}\n",
       "\n",
       "\n",
       "\n",
       "mpl.figure.prototype._canvas_extra_style = function(canvas_div) {\n",
       "\n",
       "}\n",
       "\n",
       "\n",
       "mpl.figure.prototype._root_extra_style = function(canvas_div) {\n",
       "\n",
       "}\n",
       "\n",
       "mpl.figure.prototype._init_canvas = function() {\n",
       "    var fig = this;\n",
       "\n",
       "    var canvas_div = $('<div/>');\n",
       "\n",
       "    canvas_div.attr('style', 'position: relative; clear: both; outline: 0');\n",
       "\n",
       "    function canvas_keyboard_event(event) {\n",
       "        return fig.key_event(event, event['data']);\n",
       "    }\n",
       "\n",
       "    canvas_div.keydown('key_press', canvas_keyboard_event);\n",
       "    canvas_div.keyup('key_release', canvas_keyboard_event);\n",
       "    this.canvas_div = canvas_div\n",
       "    this._canvas_extra_style(canvas_div)\n",
       "    this.root.append(canvas_div);\n",
       "\n",
       "    var canvas = $('<canvas/>');\n",
       "    canvas.addClass('mpl-canvas');\n",
       "    canvas.attr('style', \"left: 0; top: 0; z-index: 0; outline: 0\")\n",
       "\n",
       "    this.canvas = canvas[0];\n",
       "    this.context = canvas[0].getContext(\"2d\");\n",
       "\n",
       "    var backingStore = this.context.backingStorePixelRatio ||\n",
       "\tthis.context.webkitBackingStorePixelRatio ||\n",
       "\tthis.context.mozBackingStorePixelRatio ||\n",
       "\tthis.context.msBackingStorePixelRatio ||\n",
       "\tthis.context.oBackingStorePixelRatio ||\n",
       "\tthis.context.backingStorePixelRatio || 1;\n",
       "\n",
       "    mpl.ratio = (window.devicePixelRatio || 1) / backingStore;\n",
       "\n",
       "    var rubberband = $('<canvas/>');\n",
       "    rubberband.attr('style', \"position: absolute; left: 0; top: 0; z-index: 1;\")\n",
       "\n",
       "    var pass_mouse_events = true;\n",
       "\n",
       "    canvas_div.resizable({\n",
       "        start: function(event, ui) {\n",
       "            pass_mouse_events = false;\n",
       "        },\n",
       "        resize: function(event, ui) {\n",
       "            fig.request_resize(ui.size.width, ui.size.height);\n",
       "        },\n",
       "        stop: function(event, ui) {\n",
       "            pass_mouse_events = true;\n",
       "            fig.request_resize(ui.size.width, ui.size.height);\n",
       "        },\n",
       "    });\n",
       "\n",
       "    function mouse_event_fn(event) {\n",
       "        if (pass_mouse_events)\n",
       "            return fig.mouse_event(event, event['data']);\n",
       "    }\n",
       "\n",
       "    rubberband.mousedown('button_press', mouse_event_fn);\n",
       "    rubberband.mouseup('button_release', mouse_event_fn);\n",
       "    // Throttle sequential mouse events to 1 every 20ms.\n",
       "    rubberband.mousemove('motion_notify', mouse_event_fn);\n",
       "\n",
       "    rubberband.mouseenter('figure_enter', mouse_event_fn);\n",
       "    rubberband.mouseleave('figure_leave', mouse_event_fn);\n",
       "\n",
       "    canvas_div.on(\"wheel\", function (event) {\n",
       "        event = event.originalEvent;\n",
       "        event['data'] = 'scroll'\n",
       "        if (event.deltaY < 0) {\n",
       "            event.step = 1;\n",
       "        } else {\n",
       "            event.step = -1;\n",
       "        }\n",
       "        mouse_event_fn(event);\n",
       "    });\n",
       "\n",
       "    canvas_div.append(canvas);\n",
       "    canvas_div.append(rubberband);\n",
       "\n",
       "    this.rubberband = rubberband;\n",
       "    this.rubberband_canvas = rubberband[0];\n",
       "    this.rubberband_context = rubberband[0].getContext(\"2d\");\n",
       "    this.rubberband_context.strokeStyle = \"#000000\";\n",
       "\n",
       "    this._resize_canvas = function(width, height) {\n",
       "        // Keep the size of the canvas, canvas container, and rubber band\n",
       "        // canvas in synch.\n",
       "        canvas_div.css('width', width)\n",
       "        canvas_div.css('height', height)\n",
       "\n",
       "        canvas.attr('width', width * mpl.ratio);\n",
       "        canvas.attr('height', height * mpl.ratio);\n",
       "        canvas.attr('style', 'width: ' + width + 'px; height: ' + height + 'px;');\n",
       "\n",
       "        rubberband.attr('width', width);\n",
       "        rubberband.attr('height', height);\n",
       "    }\n",
       "\n",
       "    // Set the figure to an initial 600x600px, this will subsequently be updated\n",
       "    // upon first draw.\n",
       "    this._resize_canvas(600, 600);\n",
       "\n",
       "    // Disable right mouse context menu.\n",
       "    $(this.rubberband_canvas).bind(\"contextmenu\",function(e){\n",
       "        return false;\n",
       "    });\n",
       "\n",
       "    function set_focus () {\n",
       "        canvas.focus();\n",
       "        canvas_div.focus();\n",
       "    }\n",
       "\n",
       "    window.setTimeout(set_focus, 100);\n",
       "}\n",
       "\n",
       "mpl.figure.prototype._init_toolbar = function() {\n",
       "    var fig = this;\n",
       "\n",
       "    var nav_element = $('<div/>');\n",
       "    nav_element.attr('style', 'width: 100%');\n",
       "    this.root.append(nav_element);\n",
       "\n",
       "    // Define a callback function for later on.\n",
       "    function toolbar_event(event) {\n",
       "        return fig.toolbar_button_onclick(event['data']);\n",
       "    }\n",
       "    function toolbar_mouse_event(event) {\n",
       "        return fig.toolbar_button_onmouseover(event['data']);\n",
       "    }\n",
       "\n",
       "    for(var toolbar_ind in mpl.toolbar_items) {\n",
       "        var name = mpl.toolbar_items[toolbar_ind][0];\n",
       "        var tooltip = mpl.toolbar_items[toolbar_ind][1];\n",
       "        var image = mpl.toolbar_items[toolbar_ind][2];\n",
       "        var method_name = mpl.toolbar_items[toolbar_ind][3];\n",
       "\n",
       "        if (!name) {\n",
       "            // put a spacer in here.\n",
       "            continue;\n",
       "        }\n",
       "        var button = $('<button/>');\n",
       "        button.addClass('ui-button ui-widget ui-state-default ui-corner-all ' +\n",
       "                        'ui-button-icon-only');\n",
       "        button.attr('role', 'button');\n",
       "        button.attr('aria-disabled', 'false');\n",
       "        button.click(method_name, toolbar_event);\n",
       "        button.mouseover(tooltip, toolbar_mouse_event);\n",
       "\n",
       "        var icon_img = $('<span/>');\n",
       "        icon_img.addClass('ui-button-icon-primary ui-icon');\n",
       "        icon_img.addClass(image);\n",
       "        icon_img.addClass('ui-corner-all');\n",
       "\n",
       "        var tooltip_span = $('<span/>');\n",
       "        tooltip_span.addClass('ui-button-text');\n",
       "        tooltip_span.html(tooltip);\n",
       "\n",
       "        button.append(icon_img);\n",
       "        button.append(tooltip_span);\n",
       "\n",
       "        nav_element.append(button);\n",
       "    }\n",
       "\n",
       "    var fmt_picker_span = $('<span/>');\n",
       "\n",
       "    var fmt_picker = $('<select/>');\n",
       "    fmt_picker.addClass('mpl-toolbar-option ui-widget ui-widget-content');\n",
       "    fmt_picker_span.append(fmt_picker);\n",
       "    nav_element.append(fmt_picker_span);\n",
       "    this.format_dropdown = fmt_picker[0];\n",
       "\n",
       "    for (var ind in mpl.extensions) {\n",
       "        var fmt = mpl.extensions[ind];\n",
       "        var option = $(\n",
       "            '<option/>', {selected: fmt === mpl.default_extension}).html(fmt);\n",
       "        fmt_picker.append(option);\n",
       "    }\n",
       "\n",
       "    // Add hover states to the ui-buttons\n",
       "    $( \".ui-button\" ).hover(\n",
       "        function() { $(this).addClass(\"ui-state-hover\");},\n",
       "        function() { $(this).removeClass(\"ui-state-hover\");}\n",
       "    );\n",
       "\n",
       "    var status_bar = $('<span class=\"mpl-message\"/>');\n",
       "    nav_element.append(status_bar);\n",
       "    this.message = status_bar[0];\n",
       "}\n",
       "\n",
       "mpl.figure.prototype.request_resize = function(x_pixels, y_pixels) {\n",
       "    // Request matplotlib to resize the figure. Matplotlib will then trigger a resize in the client,\n",
       "    // which will in turn request a refresh of the image.\n",
       "    this.send_message('resize', {'width': x_pixels, 'height': y_pixels});\n",
       "}\n",
       "\n",
       "mpl.figure.prototype.send_message = function(type, properties) {\n",
       "    properties['type'] = type;\n",
       "    properties['figure_id'] = this.id;\n",
       "    this.ws.send(JSON.stringify(properties));\n",
       "}\n",
       "\n",
       "mpl.figure.prototype.send_draw_message = function() {\n",
       "    if (!this.waiting) {\n",
       "        this.waiting = true;\n",
       "        this.ws.send(JSON.stringify({type: \"draw\", figure_id: this.id}));\n",
       "    }\n",
       "}\n",
       "\n",
       "\n",
       "mpl.figure.prototype.handle_save = function(fig, msg) {\n",
       "    var format_dropdown = fig.format_dropdown;\n",
       "    var format = format_dropdown.options[format_dropdown.selectedIndex].value;\n",
       "    fig.ondownload(fig, format);\n",
       "}\n",
       "\n",
       "\n",
       "mpl.figure.prototype.handle_resize = function(fig, msg) {\n",
       "    var size = msg['size'];\n",
       "    if (size[0] != fig.canvas.width || size[1] != fig.canvas.height) {\n",
       "        fig._resize_canvas(size[0], size[1]);\n",
       "        fig.send_message(\"refresh\", {});\n",
       "    };\n",
       "}\n",
       "\n",
       "mpl.figure.prototype.handle_rubberband = function(fig, msg) {\n",
       "    var x0 = msg['x0'] / mpl.ratio;\n",
       "    var y0 = (fig.canvas.height - msg['y0']) / mpl.ratio;\n",
       "    var x1 = msg['x1'] / mpl.ratio;\n",
       "    var y1 = (fig.canvas.height - msg['y1']) / mpl.ratio;\n",
       "    x0 = Math.floor(x0) + 0.5;\n",
       "    y0 = Math.floor(y0) + 0.5;\n",
       "    x1 = Math.floor(x1) + 0.5;\n",
       "    y1 = Math.floor(y1) + 0.5;\n",
       "    var min_x = Math.min(x0, x1);\n",
       "    var min_y = Math.min(y0, y1);\n",
       "    var width = Math.abs(x1 - x0);\n",
       "    var height = Math.abs(y1 - y0);\n",
       "\n",
       "    fig.rubberband_context.clearRect(\n",
       "        0, 0, fig.canvas.width / mpl.ratio, fig.canvas.height / mpl.ratio);\n",
       "\n",
       "    fig.rubberband_context.strokeRect(min_x, min_y, width, height);\n",
       "}\n",
       "\n",
       "mpl.figure.prototype.handle_figure_label = function(fig, msg) {\n",
       "    // Updates the figure title.\n",
       "    fig.header.textContent = msg['label'];\n",
       "}\n",
       "\n",
       "mpl.figure.prototype.handle_cursor = function(fig, msg) {\n",
       "    var cursor = msg['cursor'];\n",
       "    switch(cursor)\n",
       "    {\n",
       "    case 0:\n",
       "        cursor = 'pointer';\n",
       "        break;\n",
       "    case 1:\n",
       "        cursor = 'default';\n",
       "        break;\n",
       "    case 2:\n",
       "        cursor = 'crosshair';\n",
       "        break;\n",
       "    case 3:\n",
       "        cursor = 'move';\n",
       "        break;\n",
       "    }\n",
       "    fig.rubberband_canvas.style.cursor = cursor;\n",
       "}\n",
       "\n",
       "mpl.figure.prototype.handle_message = function(fig, msg) {\n",
       "    fig.message.textContent = msg['message'];\n",
       "}\n",
       "\n",
       "mpl.figure.prototype.handle_draw = function(fig, msg) {\n",
       "    // Request the server to send over a new figure.\n",
       "    fig.send_draw_message();\n",
       "}\n",
       "\n",
       "mpl.figure.prototype.handle_image_mode = function(fig, msg) {\n",
       "    fig.image_mode = msg['mode'];\n",
       "}\n",
       "\n",
       "mpl.figure.prototype.updated_canvas_event = function() {\n",
       "    // Called whenever the canvas gets updated.\n",
       "    this.send_message(\"ack\", {});\n",
       "}\n",
       "\n",
       "// A function to construct a web socket function for onmessage handling.\n",
       "// Called in the figure constructor.\n",
       "mpl.figure.prototype._make_on_message_function = function(fig) {\n",
       "    return function socket_on_message(evt) {\n",
       "        if (evt.data instanceof Blob) {\n",
       "            /* FIXME: We get \"Resource interpreted as Image but\n",
       "             * transferred with MIME type text/plain:\" errors on\n",
       "             * Chrome.  But how to set the MIME type?  It doesn't seem\n",
       "             * to be part of the websocket stream */\n",
       "            evt.data.type = \"image/png\";\n",
       "\n",
       "            /* Free the memory for the previous frames */\n",
       "            if (fig.imageObj.src) {\n",
       "                (window.URL || window.webkitURL).revokeObjectURL(\n",
       "                    fig.imageObj.src);\n",
       "            }\n",
       "\n",
       "            fig.imageObj.src = (window.URL || window.webkitURL).createObjectURL(\n",
       "                evt.data);\n",
       "            fig.updated_canvas_event();\n",
       "            fig.waiting = false;\n",
       "            return;\n",
       "        }\n",
       "        else if (typeof evt.data === 'string' && evt.data.slice(0, 21) == \"data:image/png;base64\") {\n",
       "            fig.imageObj.src = evt.data;\n",
       "            fig.updated_canvas_event();\n",
       "            fig.waiting = false;\n",
       "            return;\n",
       "        }\n",
       "\n",
       "        var msg = JSON.parse(evt.data);\n",
       "        var msg_type = msg['type'];\n",
       "\n",
       "        // Call the  \"handle_{type}\" callback, which takes\n",
       "        // the figure and JSON message as its only arguments.\n",
       "        try {\n",
       "            var callback = fig[\"handle_\" + msg_type];\n",
       "        } catch (e) {\n",
       "            console.log(\"No handler for the '\" + msg_type + \"' message type: \", msg);\n",
       "            return;\n",
       "        }\n",
       "\n",
       "        if (callback) {\n",
       "            try {\n",
       "                // console.log(\"Handling '\" + msg_type + \"' message: \", msg);\n",
       "                callback(fig, msg);\n",
       "            } catch (e) {\n",
       "                console.log(\"Exception inside the 'handler_\" + msg_type + \"' callback:\", e, e.stack, msg);\n",
       "            }\n",
       "        }\n",
       "    };\n",
       "}\n",
       "\n",
       "// from http://stackoverflow.com/questions/1114465/getting-mouse-location-in-canvas\n",
       "mpl.findpos = function(e) {\n",
       "    //this section is from http://www.quirksmode.org/js/events_properties.html\n",
       "    var targ;\n",
       "    if (!e)\n",
       "        e = window.event;\n",
       "    if (e.target)\n",
       "        targ = e.target;\n",
       "    else if (e.srcElement)\n",
       "        targ = e.srcElement;\n",
       "    if (targ.nodeType == 3) // defeat Safari bug\n",
       "        targ = targ.parentNode;\n",
       "\n",
       "    // jQuery normalizes the pageX and pageY\n",
       "    // pageX,Y are the mouse positions relative to the document\n",
       "    // offset() returns the position of the element relative to the document\n",
       "    var x = e.pageX - $(targ).offset().left;\n",
       "    var y = e.pageY - $(targ).offset().top;\n",
       "\n",
       "    return {\"x\": x, \"y\": y};\n",
       "};\n",
       "\n",
       "/*\n",
       " * return a copy of an object with only non-object keys\n",
       " * we need this to avoid circular references\n",
       " * http://stackoverflow.com/a/24161582/3208463\n",
       " */\n",
       "function simpleKeys (original) {\n",
       "  return Object.keys(original).reduce(function (obj, key) {\n",
       "    if (typeof original[key] !== 'object')\n",
       "        obj[key] = original[key]\n",
       "    return obj;\n",
       "  }, {});\n",
       "}\n",
       "\n",
       "mpl.figure.prototype.mouse_event = function(event, name) {\n",
       "    var canvas_pos = mpl.findpos(event)\n",
       "\n",
       "    if (name === 'button_press')\n",
       "    {\n",
       "        this.canvas.focus();\n",
       "        this.canvas_div.focus();\n",
       "    }\n",
       "\n",
       "    var x = canvas_pos.x * mpl.ratio;\n",
       "    var y = canvas_pos.y * mpl.ratio;\n",
       "\n",
       "    this.send_message(name, {x: x, y: y, button: event.button,\n",
       "                             step: event.step,\n",
       "                             guiEvent: simpleKeys(event)});\n",
       "\n",
       "    /* This prevents the web browser from automatically changing to\n",
       "     * the text insertion cursor when the button is pressed.  We want\n",
       "     * to control all of the cursor setting manually through the\n",
       "     * 'cursor' event from matplotlib */\n",
       "    event.preventDefault();\n",
       "    return false;\n",
       "}\n",
       "\n",
       "mpl.figure.prototype._key_event_extra = function(event, name) {\n",
       "    // Handle any extra behaviour associated with a key event\n",
       "}\n",
       "\n",
       "mpl.figure.prototype.key_event = function(event, name) {\n",
       "\n",
       "    // Prevent repeat events\n",
       "    if (name == 'key_press')\n",
       "    {\n",
       "        if (event.which === this._key)\n",
       "            return;\n",
       "        else\n",
       "            this._key = event.which;\n",
       "    }\n",
       "    if (name == 'key_release')\n",
       "        this._key = null;\n",
       "\n",
       "    var value = '';\n",
       "    if (event.ctrlKey && event.which != 17)\n",
       "        value += \"ctrl+\";\n",
       "    if (event.altKey && event.which != 18)\n",
       "        value += \"alt+\";\n",
       "    if (event.shiftKey && event.which != 16)\n",
       "        value += \"shift+\";\n",
       "\n",
       "    value += 'k';\n",
       "    value += event.which.toString();\n",
       "\n",
       "    this._key_event_extra(event, name);\n",
       "\n",
       "    this.send_message(name, {key: value,\n",
       "                             guiEvent: simpleKeys(event)});\n",
       "    return false;\n",
       "}\n",
       "\n",
       "mpl.figure.prototype.toolbar_button_onclick = function(name) {\n",
       "    if (name == 'download') {\n",
       "        this.handle_save(this, null);\n",
       "    } else {\n",
       "        this.send_message(\"toolbar_button\", {name: name});\n",
       "    }\n",
       "};\n",
       "\n",
       "mpl.figure.prototype.toolbar_button_onmouseover = function(tooltip) {\n",
       "    this.message.textContent = tooltip;\n",
       "};\n",
       "mpl.toolbar_items = [[\"Home\", \"Reset original view\", \"fa fa-home icon-home\", \"home\"], [\"Back\", \"Back to previous view\", \"fa fa-arrow-left icon-arrow-left\", \"back\"], [\"Forward\", \"Forward to next view\", \"fa fa-arrow-right icon-arrow-right\", \"forward\"], [\"\", \"\", \"\", \"\"], [\"Pan\", \"Pan axes with left mouse, zoom with right\", \"fa fa-arrows icon-move\", \"pan\"], [\"Zoom\", \"Zoom to rectangle\", \"fa fa-square-o icon-check-empty\", \"zoom\"], [\"\", \"\", \"\", \"\"], [\"Download\", \"Download plot\", \"fa fa-floppy-o icon-save\", \"download\"]];\n",
       "\n",
       "mpl.extensions = [\"eps\", \"jpeg\", \"pdf\", \"png\", \"ps\", \"raw\", \"svg\", \"tif\"];\n",
       "\n",
       "mpl.default_extension = \"png\";var comm_websocket_adapter = function(comm) {\n",
       "    // Create a \"websocket\"-like object which calls the given IPython comm\n",
       "    // object with the appropriate methods. Currently this is a non binary\n",
       "    // socket, so there is still some room for performance tuning.\n",
       "    var ws = {};\n",
       "\n",
       "    ws.close = function() {\n",
       "        comm.close()\n",
       "    };\n",
       "    ws.send = function(m) {\n",
       "        //console.log('sending', m);\n",
       "        comm.send(m);\n",
       "    };\n",
       "    // Register the callback with on_msg.\n",
       "    comm.on_msg(function(msg) {\n",
       "        //console.log('receiving', msg['content']['data'], msg);\n",
       "        // Pass the mpl event to the overridden (by mpl) onmessage function.\n",
       "        ws.onmessage(msg['content']['data'])\n",
       "    });\n",
       "    return ws;\n",
       "}\n",
       "\n",
       "mpl.mpl_figure_comm = function(comm, msg) {\n",
       "    // This is the function which gets called when the mpl process\n",
       "    // starts-up an IPython Comm through the \"matplotlib\" channel.\n",
       "\n",
       "    var id = msg.content.data.id;\n",
       "    // Get hold of the div created by the display call when the Comm\n",
       "    // socket was opened in Python.\n",
       "    var element = $(\"#\" + id);\n",
       "    var ws_proxy = comm_websocket_adapter(comm)\n",
       "\n",
       "    function ondownload(figure, format) {\n",
       "        window.open(figure.imageObj.src);\n",
       "    }\n",
       "\n",
       "    var fig = new mpl.figure(id, ws_proxy,\n",
       "                           ondownload,\n",
       "                           element.get(0));\n",
       "\n",
       "    // Call onopen now - mpl needs it, as it is assuming we've passed it a real\n",
       "    // web socket which is closed, not our websocket->open comm proxy.\n",
       "    ws_proxy.onopen();\n",
       "\n",
       "    fig.parent_element = element.get(0);\n",
       "    fig.cell_info = mpl.find_output_cell(\"<div id='\" + id + \"'></div>\");\n",
       "    if (!fig.cell_info) {\n",
       "        console.error(\"Failed to find cell for figure\", id, fig);\n",
       "        return;\n",
       "    }\n",
       "\n",
       "    var output_index = fig.cell_info[2]\n",
       "    var cell = fig.cell_info[0];\n",
       "\n",
       "};\n",
       "\n",
       "mpl.figure.prototype.handle_close = function(fig, msg) {\n",
       "    var width = fig.canvas.width/mpl.ratio\n",
       "    fig.root.unbind('remove')\n",
       "\n",
       "    // Update the output cell to use the data from the current canvas.\n",
       "    fig.push_to_output();\n",
       "    var dataURL = fig.canvas.toDataURL();\n",
       "    // Re-enable the keyboard manager in IPython - without this line, in FF,\n",
       "    // the notebook keyboard shortcuts fail.\n",
       "    IPython.keyboard_manager.enable()\n",
       "    $(fig.parent_element).html('<img src=\"' + dataURL + '\" width=\"' + width + '\">');\n",
       "    fig.close_ws(fig, msg);\n",
       "}\n",
       "\n",
       "mpl.figure.prototype.close_ws = function(fig, msg){\n",
       "    fig.send_message('closing', msg);\n",
       "    // fig.ws.close()\n",
       "}\n",
       "\n",
       "mpl.figure.prototype.push_to_output = function(remove_interactive) {\n",
       "    // Turn the data on the canvas into data in the output cell.\n",
       "    var width = this.canvas.width/mpl.ratio\n",
       "    var dataURL = this.canvas.toDataURL();\n",
       "    this.cell_info[1]['text/html'] = '<img src=\"' + dataURL + '\" width=\"' + width + '\">';\n",
       "}\n",
       "\n",
       "mpl.figure.prototype.updated_canvas_event = function() {\n",
       "    // Tell IPython that the notebook contents must change.\n",
       "    IPython.notebook.set_dirty(true);\n",
       "    this.send_message(\"ack\", {});\n",
       "    var fig = this;\n",
       "    // Wait a second, then push the new image to the DOM so\n",
       "    // that it is saved nicely (might be nice to debounce this).\n",
       "    setTimeout(function () { fig.push_to_output() }, 1000);\n",
       "}\n",
       "\n",
       "mpl.figure.prototype._init_toolbar = function() {\n",
       "    var fig = this;\n",
       "\n",
       "    var nav_element = $('<div/>');\n",
       "    nav_element.attr('style', 'width: 100%');\n",
       "    this.root.append(nav_element);\n",
       "\n",
       "    // Define a callback function for later on.\n",
       "    function toolbar_event(event) {\n",
       "        return fig.toolbar_button_onclick(event['data']);\n",
       "    }\n",
       "    function toolbar_mouse_event(event) {\n",
       "        return fig.toolbar_button_onmouseover(event['data']);\n",
       "    }\n",
       "\n",
       "    for(var toolbar_ind in mpl.toolbar_items){\n",
       "        var name = mpl.toolbar_items[toolbar_ind][0];\n",
       "        var tooltip = mpl.toolbar_items[toolbar_ind][1];\n",
       "        var image = mpl.toolbar_items[toolbar_ind][2];\n",
       "        var method_name = mpl.toolbar_items[toolbar_ind][3];\n",
       "\n",
       "        if (!name) { continue; };\n",
       "\n",
       "        var button = $('<button class=\"btn btn-default\" href=\"#\" title=\"' + name + '\"><i class=\"fa ' + image + ' fa-lg\"></i></button>');\n",
       "        button.click(method_name, toolbar_event);\n",
       "        button.mouseover(tooltip, toolbar_mouse_event);\n",
       "        nav_element.append(button);\n",
       "    }\n",
       "\n",
       "    // Add the status bar.\n",
       "    var status_bar = $('<span class=\"mpl-message\" style=\"text-align:right; float: right;\"/>');\n",
       "    nav_element.append(status_bar);\n",
       "    this.message = status_bar[0];\n",
       "\n",
       "    // Add the close button to the window.\n",
       "    var buttongrp = $('<div class=\"btn-group inline pull-right\"></div>');\n",
       "    var button = $('<button class=\"btn btn-mini btn-primary\" href=\"#\" title=\"Stop Interaction\"><i class=\"fa fa-power-off icon-remove icon-large\"></i></button>');\n",
       "    button.click(function (evt) { fig.handle_close(fig, {}); } );\n",
       "    button.mouseover('Stop Interaction', toolbar_mouse_event);\n",
       "    buttongrp.append(button);\n",
       "    var titlebar = this.root.find($('.ui-dialog-titlebar'));\n",
       "    titlebar.prepend(buttongrp);\n",
       "}\n",
       "\n",
       "mpl.figure.prototype._root_extra_style = function(el){\n",
       "    var fig = this\n",
       "    el.on(\"remove\", function(){\n",
       "\tfig.close_ws(fig, {});\n",
       "    });\n",
       "}\n",
       "\n",
       "mpl.figure.prototype._canvas_extra_style = function(el){\n",
       "    // this is important to make the div 'focusable\n",
       "    el.attr('tabindex', 0)\n",
       "    // reach out to IPython and tell the keyboard manager to turn it's self\n",
       "    // off when our div gets focus\n",
       "\n",
       "    // location in version 3\n",
       "    if (IPython.notebook.keyboard_manager) {\n",
       "        IPython.notebook.keyboard_manager.register_events(el);\n",
       "    }\n",
       "    else {\n",
       "        // location in version 2\n",
       "        IPython.keyboard_manager.register_events(el);\n",
       "    }\n",
       "\n",
       "}\n",
       "\n",
       "mpl.figure.prototype._key_event_extra = function(event, name) {\n",
       "    var manager = IPython.notebook.keyboard_manager;\n",
       "    if (!manager)\n",
       "        manager = IPython.keyboard_manager;\n",
       "\n",
       "    // Check for shift+enter\n",
       "    if (event.shiftKey && event.which == 13) {\n",
       "        this.canvas_div.blur();\n",
       "        // select the cell after this one\n",
       "        var index = IPython.notebook.find_cell_index(this.cell_info[0]);\n",
       "        IPython.notebook.select(index + 1);\n",
       "    }\n",
       "}\n",
       "\n",
       "mpl.figure.prototype.handle_save = function(fig, msg) {\n",
       "    fig.ondownload(fig, null);\n",
       "}\n",
       "\n",
       "\n",
       "mpl.find_output_cell = function(html_output) {\n",
       "    // Return the cell and output element which can be found *uniquely* in the notebook.\n",
       "    // Note - this is a bit hacky, but it is done because the \"notebook_saving.Notebook\"\n",
       "    // IPython event is triggered only after the cells have been serialised, which for\n",
       "    // our purposes (turning an active figure into a static one), is too late.\n",
       "    var cells = IPython.notebook.get_cells();\n",
       "    var ncells = cells.length;\n",
       "    for (var i=0; i<ncells; i++) {\n",
       "        var cell = cells[i];\n",
       "        if (cell.cell_type === 'code'){\n",
       "            for (var j=0; j<cell.output_area.outputs.length; j++) {\n",
       "                var data = cell.output_area.outputs[j];\n",
       "                if (data.data) {\n",
       "                    // IPython >= 3 moved mimebundle to data attribute of output\n",
       "                    data = data.data;\n",
       "                }\n",
       "                if (data['text/html'] == html_output) {\n",
       "                    return [cell, data, j];\n",
       "                }\n",
       "            }\n",
       "        }\n",
       "    }\n",
       "}\n",
       "\n",
       "// Register the function which deals with the matplotlib target/channel.\n",
       "// The kernel may be null if the page has been refreshed.\n",
       "if (IPython.notebook.kernel != null) {\n",
       "    IPython.notebook.kernel.comm_manager.register_target('matplotlib', mpl.mpl_figure_comm);\n",
       "}\n"
      ],
      "text/plain": [
       "<IPython.core.display.Javascript object>"
      ]
     },
     "metadata": {},
     "output_type": "display_data"
    },
    {
     "data": {
      "text/html": [
       "<img src=\"data:image/png;base64,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\" width=\"999.7333333333333\">"
      ],
      "text/plain": [
       "<IPython.core.display.HTML object>"
      ]
     },
     "metadata": {},
     "output_type": "display_data"
    }
   ],
   "source": [
    "ax, tax, lax, lines = dual_train_plots()\n",
    "fig = ax.figure\n",
    "plt.tight_layout()"
   ]
  },
  {
   "cell_type": "code",
   "execution_count": 19,
   "metadata": {},
   "outputs": [
    {
     "name": "stdout",
     "output_type": "stream",
     "text": [
      "Number of batches: train = 10938, val = 12500\n"
     ]
    },
    {
     "data": {
      "application/vnd.jupyter.widget-view+json": {
       "model_id": "de3d7f570cf0411bbc439aa9645c27f7",
       "version_major": 2,
       "version_minor": 0
      },
      "text/plain": [
       "HBox(children=(FloatProgress(value=0.0, description='Epochs', layout=Layout(flex='2'), max=50.0, style=Progres…"
      ]
     },
     "metadata": {},
     "output_type": "display_data"
    },
    {
     "name": "stdout",
     "output_type": "stream",
     "text": [
      "Number of batches: train = 10938, val = 12500\n"
     ]
    },
    {
     "data": {
      "application/vnd.jupyter.widget-view+json": {
       "model_id": "",
       "version_major": 2,
       "version_minor": 0
      },
      "text/plain": [
       "HBox(children=(FloatProgress(value=0.0, description='Training', layout=Layout(flex='2'), max=10938.0, style=Pr…"
      ]
     },
     "metadata": {},
     "output_type": "display_data"
    },
    {
     "name": "stdout",
     "output_type": "stream",
     "text": [
      "Epoch 0: train=7.60441, val=6.7552, took 310.93 s\n"
     ]
    },
    {
     "data": {
      "application/vnd.jupyter.widget-view+json": {
       "model_id": "",
       "version_major": 2,
       "version_minor": 0
      },
      "text/plain": [
       "HBox(children=(FloatProgress(value=0.0, description='Training', layout=Layout(flex='2'), max=10938.0, style=Pr…"
      ]
     },
     "metadata": {},
     "output_type": "display_data"
    },
    {
     "name": "stdout",
     "output_type": "stream",
     "text": [
      "Epoch 1: train=5.74449, val=4.38711, took 284.56 s\n"
     ]
    },
    {
     "data": {
      "application/vnd.jupyter.widget-view+json": {
       "model_id": "",
       "version_major": 2,
       "version_minor": 0
      },
      "text/plain": [
       "HBox(children=(FloatProgress(value=0.0, description='Training', layout=Layout(flex='2'), max=10938.0, style=Pr…"
      ]
     },
     "metadata": {},
     "output_type": "display_data"
    },
    {
     "name": "stdout",
     "output_type": "stream",
     "text": [
      "Epoch 2: train=3.45154, val=2.79947, took 292.99 s\n"
     ]
    },
    {
     "data": {
      "application/vnd.jupyter.widget-view+json": {
       "model_id": "",
       "version_major": 2,
       "version_minor": 0
      },
      "text/plain": [
       "HBox(children=(FloatProgress(value=0.0, description='Training', layout=Layout(flex='2'), max=10938.0, style=Pr…"
      ]
     },
     "metadata": {},
     "output_type": "display_data"
    },
    {
     "name": "stdout",
     "output_type": "stream",
     "text": [
      "Epoch 3: train=2.51695, val=2.25781, took 290.83 s\n"
     ]
    },
    {
     "data": {
      "application/vnd.jupyter.widget-view+json": {
       "model_id": "",
       "version_major": 2,
       "version_minor": 0
      },
      "text/plain": [
       "HBox(children=(FloatProgress(value=0.0, description='Training', layout=Layout(flex='2'), max=10938.0, style=Pr…"
      ]
     },
     "metadata": {},
     "output_type": "display_data"
    },
    {
     "name": "stdout",
     "output_type": "stream",
     "text": [
      "Epoch 4: train=2.10539, val=1.91295, took 377.49 s\n"
     ]
    },
    {
     "data": {
      "application/vnd.jupyter.widget-view+json": {
       "model_id": "",
       "version_major": 2,
       "version_minor": 0
      },
      "text/plain": [
       "HBox(children=(FloatProgress(value=0.0, description='Training', layout=Layout(flex='2'), max=10938.0, style=Pr…"
      ]
     },
     "metadata": {},
     "output_type": "display_data"
    },
    {
     "name": "stdout",
     "output_type": "stream",
     "text": [
      "Epoch 5: train=1.73597, val=1.56564, took 431.08 s\n"
     ]
    },
    {
     "data": {
      "application/vnd.jupyter.widget-view+json": {
       "model_id": "",
       "version_major": 2,
       "version_minor": 0
      },
      "text/plain": [
       "HBox(children=(FloatProgress(value=0.0, description='Training', layout=Layout(flex='2'), max=10938.0, style=Pr…"
      ]
     },
     "metadata": {},
     "output_type": "display_data"
    },
    {
     "name": "stdout",
     "output_type": "stream",
     "text": [
      "Epoch 6: train=1.49814, val=1.42135, took 432.43 s\n"
     ]
    },
    {
     "data": {
      "application/vnd.jupyter.widget-view+json": {
       "model_id": "",
       "version_major": 2,
       "version_minor": 0
      },
      "text/plain": [
       "HBox(children=(FloatProgress(value=0.0, description='Training', layout=Layout(flex='2'), max=10938.0, style=Pr…"
      ]
     },
     "metadata": {},
     "output_type": "display_data"
    },
    {
     "name": "stdout",
     "output_type": "stream",
     "text": [
      "Epoch 7: train=1.40416, val=1.3572, took 430.72 s\n"
     ]
    },
    {
     "data": {
      "application/vnd.jupyter.widget-view+json": {
       "model_id": "",
       "version_major": 2,
       "version_minor": 0
      },
      "text/plain": [
       "HBox(children=(FloatProgress(value=0.0, description='Training', layout=Layout(flex='2'), max=10938.0, style=Pr…"
      ]
     },
     "metadata": {},
     "output_type": "display_data"
    },
    {
     "name": "stdout",
     "output_type": "stream",
     "text": [
      "Epoch 8: train=1.35355, val=1.31745, took 429.01 s\n"
     ]
    },
    {
     "data": {
      "application/vnd.jupyter.widget-view+json": {
       "model_id": "",
       "version_major": 2,
       "version_minor": 0
      },
      "text/plain": [
       "HBox(children=(FloatProgress(value=0.0, description='Training', layout=Layout(flex='2'), max=10938.0, style=Pr…"
      ]
     },
     "metadata": {},
     "output_type": "display_data"
    },
    {
     "name": "stdout",
     "output_type": "stream",
     "text": [
      "Epoch 9: train=1.31977, val=1.28915, took 430.77 s\n"
     ]
    },
    {
     "data": {
      "application/vnd.jupyter.widget-view+json": {
       "model_id": "",
       "version_major": 2,
       "version_minor": 0
      },
      "text/plain": [
       "HBox(children=(FloatProgress(value=0.0, description='Training', layout=Layout(flex='2'), max=10938.0, style=Pr…"
      ]
     },
     "metadata": {},
     "output_type": "display_data"
    },
    {
     "name": "stdout",
     "output_type": "stream",
     "text": [
      "Epoch 10: train=1.29592, val=1.26827, took 427.99 s\n"
     ]
    },
    {
     "data": {
      "application/vnd.jupyter.widget-view+json": {
       "model_id": "",
       "version_major": 2,
       "version_minor": 0
      },
      "text/plain": [
       "HBox(children=(FloatProgress(value=0.0, description='Training', layout=Layout(flex='2'), max=10938.0, style=Pr…"
      ]
     },
     "metadata": {},
     "output_type": "display_data"
    },
    {
     "name": "stdout",
     "output_type": "stream",
     "text": [
      "Epoch 11: train=1.27669, val=1.25403, took 424.99 s\n"
     ]
    },
    {
     "data": {
      "application/vnd.jupyter.widget-view+json": {
       "model_id": "",
       "version_major": 2,
       "version_minor": 0
      },
      "text/plain": [
       "HBox(children=(FloatProgress(value=0.0, description='Training', layout=Layout(flex='2'), max=10938.0, style=Pr…"
      ]
     },
     "metadata": {},
     "output_type": "display_data"
    },
    {
     "name": "stdout",
     "output_type": "stream",
     "text": [
      "Epoch 12: train=1.26067, val=1.24682, took 427.32 s\n"
     ]
    },
    {
     "data": {
      "application/vnd.jupyter.widget-view+json": {
       "model_id": "",
       "version_major": 2,
       "version_minor": 0
      },
      "text/plain": [
       "HBox(children=(FloatProgress(value=0.0, description='Training', layout=Layout(flex='2'), max=10938.0, style=Pr…"
      ]
     },
     "metadata": {},
     "output_type": "display_data"
    },
    {
     "name": "stdout",
     "output_type": "stream",
     "text": [
      "Epoch 13: train=1.24676, val=1.24093, took 428.72 s\n"
     ]
    },
    {
     "data": {
      "application/vnd.jupyter.widget-view+json": {
       "model_id": "",
       "version_major": 2,
       "version_minor": 0
      },
      "text/plain": [
       "HBox(children=(FloatProgress(value=0.0, description='Training', layout=Layout(flex='2'), max=10938.0, style=Pr…"
      ]
     },
     "metadata": {},
     "output_type": "display_data"
    },
    {
     "name": "stdout",
     "output_type": "stream",
     "text": [
      "Epoch 14: train=1.23411, val=1.22651, took 428.48 s\n"
     ]
    },
    {
     "data": {
      "application/vnd.jupyter.widget-view+json": {
       "model_id": "",
       "version_major": 2,
       "version_minor": 0
      },
      "text/plain": [
       "HBox(children=(FloatProgress(value=0.0, description='Training', layout=Layout(flex='2'), max=10938.0, style=Pr…"
      ]
     },
     "metadata": {},
     "output_type": "display_data"
    },
    {
     "name": "stdout",
     "output_type": "stream",
     "text": [
      "Epoch 15: train=1.2227, val=1.21805, took 429.89 s\n"
     ]
    },
    {
     "data": {
      "application/vnd.jupyter.widget-view+json": {
       "model_id": "",
       "version_major": 2,
       "version_minor": 0
      },
      "text/plain": [
       "HBox(children=(FloatProgress(value=0.0, description='Training', layout=Layout(flex='2'), max=10938.0, style=Pr…"
      ]
     },
     "metadata": {},
     "output_type": "display_data"
    },
    {
     "name": "stdout",
     "output_type": "stream",
     "text": [
      "Epoch 16: train=1.21229, val=1.20592, took 435.07 s\n"
     ]
    },
    {
     "data": {
      "application/vnd.jupyter.widget-view+json": {
       "model_id": "",
       "version_major": 2,
       "version_minor": 0
      },
      "text/plain": [
       "HBox(children=(FloatProgress(value=0.0, description='Training', layout=Layout(flex='2'), max=10938.0, style=Pr…"
      ]
     },
     "metadata": {},
     "output_type": "display_data"
    },
    {
     "name": "stdout",
     "output_type": "stream",
     "text": [
      "Epoch 17: train=1.20316, val=1.19871, took 434.93 s\n"
     ]
    },
    {
     "data": {
      "application/vnd.jupyter.widget-view+json": {
       "model_id": "",
       "version_major": 2,
       "version_minor": 0
      },
      "text/plain": [
       "HBox(children=(FloatProgress(value=0.0, description='Training', layout=Layout(flex='2'), max=10938.0, style=Pr…"
      ]
     },
     "metadata": {},
     "output_type": "display_data"
    },
    {
     "name": "stdout",
     "output_type": "stream",
     "text": [
      "Epoch 18: train=1.19408, val=1.1853, took 435.29 s\n"
     ]
    },
    {
     "data": {
      "application/vnd.jupyter.widget-view+json": {
       "model_id": "",
       "version_major": 2,
       "version_minor": 0
      },
      "text/plain": [
       "HBox(children=(FloatProgress(value=0.0, description='Training', layout=Layout(flex='2'), max=10938.0, style=Pr…"
      ]
     },
     "metadata": {},
     "output_type": "display_data"
    },
    {
     "name": "stdout",
     "output_type": "stream",
     "text": [
      "Epoch 19: train=1.18534, val=1.17466, took 435.05 s\n"
     ]
    },
    {
     "data": {
      "application/vnd.jupyter.widget-view+json": {
       "model_id": "",
       "version_major": 2,
       "version_minor": 0
      },
      "text/plain": [
       "HBox(children=(FloatProgress(value=0.0, description='Training', layout=Layout(flex='2'), max=10938.0, style=Pr…"
      ]
     },
     "metadata": {},
     "output_type": "display_data"
    },
    {
     "name": "stdout",
     "output_type": "stream",
     "text": [
      "Epoch 20: train=1.1775, val=1.16816, took 434.4 s\n"
     ]
    },
    {
     "data": {
      "application/vnd.jupyter.widget-view+json": {
       "model_id": "",
       "version_major": 2,
       "version_minor": 0
      },
      "text/plain": [
       "HBox(children=(FloatProgress(value=0.0, description='Training', layout=Layout(flex='2'), max=10938.0, style=Pr…"
      ]
     },
     "metadata": {},
     "output_type": "display_data"
    },
    {
     "name": "stdout",
     "output_type": "stream",
     "text": [
      "Epoch 21: train=1.16978, val=1.16033, took 437.8 s\n"
     ]
    },
    {
     "data": {
      "application/vnd.jupyter.widget-view+json": {
       "model_id": "",
       "version_major": 2,
       "version_minor": 0
      },
      "text/plain": [
       "HBox(children=(FloatProgress(value=0.0, description='Training', layout=Layout(flex='2'), max=10938.0, style=Pr…"
      ]
     },
     "metadata": {},
     "output_type": "display_data"
    },
    {
     "name": "stdout",
     "output_type": "stream",
     "text": [
      "Epoch 22: train=1.16308, val=1.15568, took 434.26 s\n"
     ]
    },
    {
     "data": {
      "application/vnd.jupyter.widget-view+json": {
       "model_id": "",
       "version_major": 2,
       "version_minor": 0
      },
      "text/plain": [
       "HBox(children=(FloatProgress(value=0.0, description='Training', layout=Layout(flex='2'), max=10938.0, style=Pr…"
      ]
     },
     "metadata": {},
     "output_type": "display_data"
    },
    {
     "name": "stdout",
     "output_type": "stream",
     "text": [
      "Epoch 23: train=1.15661, val=1.14383, took 434.04 s\n"
     ]
    },
    {
     "data": {
      "application/vnd.jupyter.widget-view+json": {
       "model_id": "",
       "version_major": 2,
       "version_minor": 0
      },
      "text/plain": [
       "HBox(children=(FloatProgress(value=0.0, description='Training', layout=Layout(flex='2'), max=10938.0, style=Pr…"
      ]
     },
     "metadata": {},
     "output_type": "display_data"
    },
    {
     "name": "stdout",
     "output_type": "stream",
     "text": [
      "Epoch 24: train=1.1507, val=1.13497, took 433.54 s\n"
     ]
    },
    {
     "data": {
      "application/vnd.jupyter.widget-view+json": {
       "model_id": "",
       "version_major": 2,
       "version_minor": 0
      },
      "text/plain": [
       "HBox(children=(FloatProgress(value=0.0, description='Training', layout=Layout(flex='2'), max=10938.0, style=Pr…"
      ]
     },
     "metadata": {},
     "output_type": "display_data"
    },
    {
     "name": "stdout",
     "output_type": "stream",
     "text": [
      "Epoch 25: train=1.14528, val=1.12881, took 431.25 s\n"
     ]
    },
    {
     "data": {
      "application/vnd.jupyter.widget-view+json": {
       "model_id": "",
       "version_major": 2,
       "version_minor": 0
      },
      "text/plain": [
       "HBox(children=(FloatProgress(value=0.0, description='Training', layout=Layout(flex='2'), max=10938.0, style=Pr…"
      ]
     },
     "metadata": {},
     "output_type": "display_data"
    },
    {
     "name": "stdout",
     "output_type": "stream",
     "text": [
      "Epoch 26: train=1.13986, val=1.11943, took 431.92 s\n"
     ]
    },
    {
     "data": {
      "application/vnd.jupyter.widget-view+json": {
       "model_id": "",
       "version_major": 2,
       "version_minor": 0
      },
      "text/plain": [
       "HBox(children=(FloatProgress(value=0.0, description='Training', layout=Layout(flex='2'), max=10938.0, style=Pr…"
      ]
     },
     "metadata": {},
     "output_type": "display_data"
    },
    {
     "name": "stdout",
     "output_type": "stream",
     "text": [
      "Epoch 27: train=1.1353, val=1.11232, took 428.51 s\n"
     ]
    },
    {
     "data": {
      "application/vnd.jupyter.widget-view+json": {
       "model_id": "",
       "version_major": 2,
       "version_minor": 0
      },
      "text/plain": [
       "HBox(children=(FloatProgress(value=0.0, description='Training', layout=Layout(flex='2'), max=10938.0, style=Pr…"
      ]
     },
     "metadata": {},
     "output_type": "display_data"
    },
    {
     "name": "stdout",
     "output_type": "stream",
     "text": [
      "Epoch 28: train=1.13114, val=1.10654, took 429.73 s\n"
     ]
    },
    {
     "data": {
      "application/vnd.jupyter.widget-view+json": {
       "model_id": "",
       "version_major": 2,
       "version_minor": 0
      },
      "text/plain": [
       "HBox(children=(FloatProgress(value=0.0, description='Training', layout=Layout(flex='2'), max=10938.0, style=Pr…"
      ]
     },
     "metadata": {},
     "output_type": "display_data"
    },
    {
     "name": "stdout",
     "output_type": "stream",
     "text": [
      "Epoch 29: train=1.12707, val=1.10186, took 425.88 s\n"
     ]
    },
    {
     "data": {
      "application/vnd.jupyter.widget-view+json": {
       "model_id": "",
       "version_major": 2,
       "version_minor": 0
      },
      "text/plain": [
       "HBox(children=(FloatProgress(value=0.0, description='Training', layout=Layout(flex='2'), max=10938.0, style=Pr…"
      ]
     },
     "metadata": {},
     "output_type": "display_data"
    },
    {
     "name": "stdout",
     "output_type": "stream",
     "text": [
      "Epoch 30: train=1.12336, val=1.09859, took 428.15 s\n"
     ]
    },
    {
     "data": {
      "application/vnd.jupyter.widget-view+json": {
       "model_id": "",
       "version_major": 2,
       "version_minor": 0
      },
      "text/plain": [
       "HBox(children=(FloatProgress(value=0.0, description='Training', layout=Layout(flex='2'), max=10938.0, style=Pr…"
      ]
     },
     "metadata": {},
     "output_type": "display_data"
    },
    {
     "name": "stdout",
     "output_type": "stream",
     "text": [
      "Epoch 31: train=1.11955, val=1.09648, took 427.45 s\n"
     ]
    },
    {
     "data": {
      "application/vnd.jupyter.widget-view+json": {
       "model_id": "",
       "version_major": 2,
       "version_minor": 0
      },
      "text/plain": [
       "HBox(children=(FloatProgress(value=0.0, description='Training', layout=Layout(flex='2'), max=10938.0, style=Pr…"
      ]
     },
     "metadata": {},
     "output_type": "display_data"
    },
    {
     "name": "stdout",
     "output_type": "stream",
     "text": [
      "Epoch 32: train=1.11613, val=1.09067, took 428.97 s\n"
     ]
    },
    {
     "data": {
      "application/vnd.jupyter.widget-view+json": {
       "model_id": "",
       "version_major": 2,
       "version_minor": 0
      },
      "text/plain": [
       "HBox(children=(FloatProgress(value=0.0, description='Training', layout=Layout(flex='2'), max=10938.0, style=Pr…"
      ]
     },
     "metadata": {},
     "output_type": "display_data"
    },
    {
     "name": "stdout",
     "output_type": "stream",
     "text": [
      "Epoch 33: train=1.11294, val=1.08492, took 429.86 s\n"
     ]
    },
    {
     "data": {
      "application/vnd.jupyter.widget-view+json": {
       "model_id": "",
       "version_major": 2,
       "version_minor": 0
      },
      "text/plain": [
       "HBox(children=(FloatProgress(value=0.0, description='Training', layout=Layout(flex='2'), max=10938.0, style=Pr…"
      ]
     },
     "metadata": {},
     "output_type": "display_data"
    },
    {
     "name": "stdout",
     "output_type": "stream",
     "text": [
      "Epoch 34: train=1.10959, val=1.08218, took 432.47 s\n"
     ]
    },
    {
     "data": {
      "application/vnd.jupyter.widget-view+json": {
       "model_id": "",
       "version_major": 2,
       "version_minor": 0
      },
      "text/plain": [
       "HBox(children=(FloatProgress(value=0.0, description='Training', layout=Layout(flex='2'), max=10938.0, style=Pr…"
      ]
     },
     "metadata": {},
     "output_type": "display_data"
    },
    {
     "name": "stdout",
     "output_type": "stream",
     "text": [
      "Epoch 35: train=1.10646, val=1.07867, took 430.27 s\n"
     ]
    },
    {
     "data": {
      "application/vnd.jupyter.widget-view+json": {
       "model_id": "",
       "version_major": 2,
       "version_minor": 0
      },
      "text/plain": [
       "HBox(children=(FloatProgress(value=0.0, description='Training', layout=Layout(flex='2'), max=10938.0, style=Pr…"
      ]
     },
     "metadata": {},
     "output_type": "display_data"
    },
    {
     "name": "stdout",
     "output_type": "stream",
     "text": [
      "Epoch 36: train=1.1036, val=1.07578, took 430.88 s\n"
     ]
    },
    {
     "data": {
      "application/vnd.jupyter.widget-view+json": {
       "model_id": "",
       "version_major": 2,
       "version_minor": 0
      },
      "text/plain": [
       "HBox(children=(FloatProgress(value=0.0, description='Training', layout=Layout(flex='2'), max=10938.0, style=Pr…"
      ]
     },
     "metadata": {},
     "output_type": "display_data"
    },
    {
     "name": "stdout",
     "output_type": "stream",
     "text": [
      "Epoch 37: train=1.10054, val=1.07383, took 405.42 s\n"
     ]
    },
    {
     "data": {
      "application/vnd.jupyter.widget-view+json": {
       "model_id": "",
       "version_major": 2,
       "version_minor": 0
      },
      "text/plain": [
       "HBox(children=(FloatProgress(value=0.0, description='Training', layout=Layout(flex='2'), max=10938.0, style=Pr…"
      ]
     },
     "metadata": {},
     "output_type": "display_data"
    },
    {
     "name": "stdout",
     "output_type": "stream",
     "text": [
      "Epoch 38: train=1.09779, val=1.07003, took 270.33 s\n"
     ]
    },
    {
     "data": {
      "application/vnd.jupyter.widget-view+json": {
       "model_id": "",
       "version_major": 2,
       "version_minor": 0
      },
      "text/plain": [
       "HBox(children=(FloatProgress(value=0.0, description='Training', layout=Layout(flex='2'), max=10938.0, style=Pr…"
      ]
     },
     "metadata": {},
     "output_type": "display_data"
    },
    {
     "name": "stdout",
     "output_type": "stream",
     "text": [
      "Epoch 39: train=1.09506, val=1.06665, took 277.49 s\n"
     ]
    },
    {
     "data": {
      "application/vnd.jupyter.widget-view+json": {
       "model_id": "",
       "version_major": 2,
       "version_minor": 0
      },
      "text/plain": [
       "HBox(children=(FloatProgress(value=0.0, description='Training', layout=Layout(flex='2'), max=10938.0, style=Pr…"
      ]
     },
     "metadata": {},
     "output_type": "display_data"
    },
    {
     "name": "stdout",
     "output_type": "stream",
     "text": [
      "Epoch 40: train=1.09187, val=1.06206, took 269.46 s\n"
     ]
    },
    {
     "data": {
      "application/vnd.jupyter.widget-view+json": {
       "model_id": "",
       "version_major": 2,
       "version_minor": 0
      },
      "text/plain": [
       "HBox(children=(FloatProgress(value=0.0, description='Training', layout=Layout(flex='2'), max=10938.0, style=Pr…"
      ]
     },
     "metadata": {},
     "output_type": "display_data"
    },
    {
     "name": "stdout",
     "output_type": "stream",
     "text": [
      "Epoch 41: train=1.08831, val=1.05683, took 267.17 s\n"
     ]
    },
    {
     "data": {
      "application/vnd.jupyter.widget-view+json": {
       "model_id": "",
       "version_major": 2,
       "version_minor": 0
      },
      "text/plain": [
       "HBox(children=(FloatProgress(value=0.0, description='Training', layout=Layout(flex='2'), max=10938.0, style=Pr…"
      ]
     },
     "metadata": {},
     "output_type": "display_data"
    },
    {
     "name": "stdout",
     "output_type": "stream",
     "text": [
      "Epoch 42: train=1.0849, val=1.05354, took 261.42 s\n"
     ]
    },
    {
     "data": {
      "application/vnd.jupyter.widget-view+json": {
       "model_id": "",
       "version_major": 2,
       "version_minor": 0
      },
      "text/plain": [
       "HBox(children=(FloatProgress(value=0.0, description='Training', layout=Layout(flex='2'), max=10938.0, style=Pr…"
      ]
     },
     "metadata": {},
     "output_type": "display_data"
    },
    {
     "name": "stdout",
     "output_type": "stream",
     "text": [
      "Epoch 43: train=1.08116, val=1.05038, took 255.65 s\n"
     ]
    },
    {
     "data": {
      "application/vnd.jupyter.widget-view+json": {
       "model_id": "",
       "version_major": 2,
       "version_minor": 0
      },
      "text/plain": [
       "HBox(children=(FloatProgress(value=0.0, description='Training', layout=Layout(flex='2'), max=10938.0, style=Pr…"
      ]
     },
     "metadata": {},
     "output_type": "display_data"
    },
    {
     "name": "stdout",
     "output_type": "stream",
     "text": [
      "Epoch 44: train=1.07711, val=1.04582, took 258.76 s\n"
     ]
    },
    {
     "data": {
      "application/vnd.jupyter.widget-view+json": {
       "model_id": "",
       "version_major": 2,
       "version_minor": 0
      },
      "text/plain": [
       "HBox(children=(FloatProgress(value=0.0, description='Training', layout=Layout(flex='2'), max=10938.0, style=Pr…"
      ]
     },
     "metadata": {},
     "output_type": "display_data"
    },
    {
     "name": "stdout",
     "output_type": "stream",
     "text": [
      "Epoch 45: train=1.07279, val=1.04196, took 260.96 s\n"
     ]
    },
    {
     "data": {
      "application/vnd.jupyter.widget-view+json": {
       "model_id": "",
       "version_major": 2,
       "version_minor": 0
      },
      "text/plain": [
       "HBox(children=(FloatProgress(value=0.0, description='Training', layout=Layout(flex='2'), max=10938.0, style=Pr…"
      ]
     },
     "metadata": {},
     "output_type": "display_data"
    },
    {
     "name": "stdout",
     "output_type": "stream",
     "text": [
      "Epoch 46: train=1.06825, val=1.03667, took 259.77 s\n"
     ]
    },
    {
     "data": {
      "application/vnd.jupyter.widget-view+json": {
       "model_id": "",
       "version_major": 2,
       "version_minor": 0
      },
      "text/plain": [
       "HBox(children=(FloatProgress(value=0.0, description='Training', layout=Layout(flex='2'), max=10938.0, style=Pr…"
      ]
     },
     "metadata": {},
     "output_type": "display_data"
    },
    {
     "name": "stdout",
     "output_type": "stream",
     "text": [
      "Epoch 47: train=1.06409, val=1.03102, took 268.32 s\n"
     ]
    },
    {
     "data": {
      "application/vnd.jupyter.widget-view+json": {
       "model_id": "",
       "version_major": 2,
       "version_minor": 0
      },
      "text/plain": [
       "HBox(children=(FloatProgress(value=0.0, description='Training', layout=Layout(flex='2'), max=10938.0, style=Pr…"
      ]
     },
     "metadata": {},
     "output_type": "display_data"
    },
    {
     "name": "stdout",
     "output_type": "stream",
     "text": [
      "Epoch 48: train=1.05964, val=1.02647, took 268.71 s\n"
     ]
    },
    {
     "data": {
      "application/vnd.jupyter.widget-view+json": {
       "model_id": "",
       "version_major": 2,
       "version_minor": 0
      },
      "text/plain": [
       "HBox(children=(FloatProgress(value=0.0, description='Training', layout=Layout(flex='2'), max=10938.0, style=Pr…"
      ]
     },
     "metadata": {},
     "output_type": "display_data"
    },
    {
     "name": "stdout",
     "output_type": "stream",
     "text": [
      "Epoch 49: train=1.05507, val=1.02263, took 275.49 s\n",
      "\n"
     ]
    }
   ],
   "source": [
    "for result in trainNet(model, optimizer, loss,\n",
    "                        train_loader, val_loader,\n",
    "                        n_epochs, epoch_start=len(results),\n",
    "                        notebook=True):\n",
    "    \n",
    "    results = results.append(pd.Series(result._asdict()), ignore_index=True)\n",
    "    xs = results.index\n",
    "    \n",
    "    # Update the plot above\n",
    "    lines['train'].set_data(results.index,results.cost)\n",
    "    lines['val'].set_data(results.index,results.val)\n",
    "    \n",
    "    #filter first cost epoch (can be really large)\n",
    "    max_cost = max(max(results.cost if len(results.cost)<2 else results.cost[1:]), max(results.val))\n",
    "    min_cost = min(min(results.cost), min(results.val))\n",
    "    \n",
    "    # The plot limits need updating too\n",
    "    \n",
    "    \n",
    "    \n",
    "    ax.set_ylim(min_cost*.9, max_cost*1.1)  \n",
    "    ax.set_xlim(-.5, len(results.cost) - .5)\n",
    "\n",
    "    \n",
    "    # Redraw the figure\n",
    "    fig.canvas.draw()\n",
    "\n",
    "    # Save each model state dictionary\n",
    "    torch.save(model.state_dict(), output / f'{name}_{result.epoch}.pyt')"
   ]
  },
  {
   "cell_type": "markdown",
   "metadata": {},
   "source": [
    "Go ahead and save the final model (even though it was also saved above):"
   ]
  },
  {
   "cell_type": "markdown",
   "metadata": {},
   "source": [
    "torch.save(model.state_dict(), output / f'{name}_final.pyt')"
   ]
  },
  {
   "cell_type": "markdown",
   "metadata": {},
   "source": [
    "Save the output results:"
   ]
  },
  {
   "cell_type": "markdown",
   "metadata": {},
   "source": [
    "results.to_hdf(f'{name}_stats.hdf5', 'results')"
   ]
  },
  {
   "cell_type": "markdown",
   "metadata": {},
   "source": [
    "Save the plot above:"
   ]
  },
  {
   "cell_type": "markdown",
   "metadata": {},
   "source": [
    "dual_train_plots(results.index,\n",
    "                 results.cost, results.val,\n",
    "                 results.cost, results.val)\n",
    "plt.tight_layout()\n",
    "plt.savefig(str(output / f'{name}_stats_a.png'))"
   ]
  },
  {
   "cell_type": "code",
   "execution_count": 20,
   "metadata": {},
   "outputs": [],
   "source": [
    "##quit()\n"
   ]
  },
  {
   "cell_type": "code",
   "execution_count": null,
   "metadata": {},
   "outputs": [],
   "source": []
  },
  {
   "cell_type": "markdown",
   "metadata": {},
   "source": []
  },
  {
   "cell_type": "code",
   "execution_count": null,
   "metadata": {},
   "outputs": [],
   "source": []
  }
 ],
 "metadata": {
  "kernelspec": {
   "display_name": "june2020",
   "language": "python",
   "name": "june2020"
  },
  "language_info": {
   "codemirror_mode": {
    "name": "ipython",
    "version": 3
   },
   "file_extension": ".py",
   "mimetype": "text/x-python",
   "name": "python",
   "nbconvert_exporter": "python",
   "pygments_lexer": "ipython3",
   "version": "3.7.6"
  }
 },
 "nbformat": 4,
 "nbformat_minor": 2
}
