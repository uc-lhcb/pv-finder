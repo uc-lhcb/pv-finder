{
 "cells": [
  {
   "cell_type": "code",
   "execution_count": 1,
   "id": "2a9aba9d",
   "metadata": {},
   "outputs": [],
   "source": [
    "%%capture _ \n",
    "# ^ this just silences warnings\n",
    "import torch\n",
    "import mlflow\n",
    "import hiddenlayer as HL\n",
    "\n",
    "from model.collectdata_mdsA import collect_data\n",
    "from model.alt_loss_A import Loss\n",
    "from model.training import trainNet\n",
    "\n",
    "from model.training import trainNet\n",
    "from model.utilities import load_full_state, count_parameters, Params, save_to_mlflow\n",
    "from model.autoencoder_models import UNet"
   ]
  },
  {
   "cell_type": "code",
   "execution_count": 2,
   "id": "6ff43e4b",
   "metadata": {},
   "outputs": [],
   "source": [
    "args = Params(\n",
    "    batch_size=64,\n",
    "    device = 'cuda:0',\n",
    "    epochs=20,\n",
    "    lr=4e-4,\n",
    "    experiment_name='UNet', \n",
    "    asymmetry_parameter=2.5\n",
    ")"
   ]
  },
  {
   "cell_type": "code",
   "execution_count": 3,
   "id": "2bdfd76f",
   "metadata": {},
   "outputs": [],
   "source": [
    "model = UNet().to(args['device'])\n"
   ]
  },
  {
   "cell_type": "code",
   "execution_count": 4,
   "id": "fc16f7a1",
   "metadata": {},
   "outputs": [
    {
     "name": "stdout",
     "output_type": "stream",
     "text": [
      "None\n",
      "None\n",
      "None\n",
      "None\n",
      "None\n",
      "None\n",
      "None\n",
      "None\n",
      "None\n",
      "None\n",
      "None\n",
      "None\n",
      "None\n",
      "None\n",
      "None\n",
      "None\n",
      "None\n",
      "None\n",
      "None\n",
      "None\n",
      "None\n",
      "None\n",
      "None\n",
      "None\n",
      "None\n",
      "None\n",
      "None\n",
      "None\n",
      "None\n",
      "None\n",
      "None\n",
      "None\n",
      "None\n",
      "None\n",
      "None\n",
      "None\n",
      "None\n",
      "None\n",
      "None\n",
      "None\n",
      "None\n",
      "None\n",
      "None\n",
      "None\n",
      "None\n",
      "None\n",
      "None\n",
      "None\n"
     ]
    }
   ],
   "source": [
    "for param_group in model.parameters():\n",
    "    print(param_group.grad)"
   ]
  },
  {
   "cell_type": "code",
   "execution_count": 3,
   "id": "8bd82330",
   "metadata": {},
   "outputs": [
    {
     "name": "stdout",
     "output_type": "stream",
     "text": [
      "Loading data...\n",
      "Loaded /share/lazy/sokoloff/ML-data_A/Aug14_80K_train.h5 in 11.28 s\n",
      "Constructing 80000 event dataset took 0.409 s\n",
      "Loading data...\n",
      "Loaded /share/lazy/sokoloff/ML-data_AA/Oct03_20K_val.h5 in 2.745 s\n",
      "Constructing 9984 event dataset took 0.04345 s\n"
     ]
    }
   ],
   "source": [
    "train_loader = collect_data(\n",
    "    '/share/lazy/sokoloff/ML-data_A/Aug14_80K_train.h5',\n",
    "#     '/share/lazy/sokoloff/ML-data_AA/Oct03_80K_train.h5',\n",
    "#     '/share/lazy/sokoloff/ML-data_AA/Oct03_40K_train.h5',\n",
    "#     '/share/lazy/will/ML_mdsA/June30_2020_80k_1.h5',\n",
    "#     '/share/lazy/will/ML_mdsA/June30_2020_80k_3.h5',\n",
    "#     '/share/lazy/will/ML_mdsA/June30_2020_80k_4.h5',\n",
    "#     '/share/lazy/will/ML_mdsA/June30_2020_80k_5.h5',\n",
    "#     '/share/lazy/will/ML_mdsA/June30_2020_80k_6.h5',\n",
    "#     '/share/lazy/will/ML_mdsA/June30_2020_80k_7.h5',\n",
    "#     '/share/lazy/will/ML_mdsA/June30_2020_80k_8.h5',\n",
    "#     '/share/lazy/will/ML_mdsA/June30_2020_80k_9.h5',\n",
    "    batch_size=args['batch_size'],\n",
    "    masking=True,\n",
    "    shuffle=False,\n",
    "    load_XandXsq=False,\n",
    "#     device = args['device'], \n",
    "    load_xy=False\n",
    ")\n",
    "\n",
    "val_loader = collect_data(\n",
    "    '/share/lazy/sokoloff/ML-data_AA/Oct03_20K_val.h5',\n",
    "    batch_size=args['batch_size'],\n",
    "    slice=slice(256 * 39),\n",
    "    masking=True, \n",
    "    shuffle=False,\n",
    "    load_XandXsq=False,\n",
    "    load_xy=False)\n"
   ]
  },
  {
   "cell_type": "code",
   "execution_count": 4,
   "id": "7989f710",
   "metadata": {},
   "outputs": [
    {
     "name": "stderr",
     "output_type": "stream",
     "text": [
      "WARNING:root:Malformed experiment 'ML'. Detailed error Yaml file '/share/lazy/pv-finder_model_repo/ML/meta.yaml' does not exist.\n",
      "Traceback (most recent call last):\n",
      "  File \"/data/home/will/.local/lib/python3.7/site-packages/mlflow/store/tracking/file_store.py\", line 237, in list_experiments\n",
      "    experiment = self._get_experiment(exp_id, view_type)\n",
      "  File \"/data/home/will/.local/lib/python3.7/site-packages/mlflow/store/tracking/file_store.py\", line 311, in _get_experiment\n",
      "    meta = read_yaml(experiment_dir, FileStore.META_DATA_FILE_NAME)\n",
      "  File \"/data/home/will/.local/lib/python3.7/site-packages/mlflow/utils/file_utils.py\", line 168, in read_yaml\n",
      "    raise MissingConfigException(\"Yaml file '%s' does not exist.\" % file_path)\n",
      "mlflow.exceptions.MissingConfigException: Yaml file '/share/lazy/pv-finder_model_repo/ML/meta.yaml' does not exist.\n"
     ]
    }
   ],
   "source": [
    "mlflow.tracking.set_tracking_uri('file:/share/lazy/pv-finder_model_repo')\n",
    "mlflow.set_experiment(args['experiment_name'])"
   ]
  },
  {
   "cell_type": "code",
   "execution_count": 5,
   "id": "59d158a5",
   "metadata": {},
   "outputs": [],
   "source": [
    "model = UNet().to(args['device'])\n",
    "model.fuse_model()\n",
    "optimizer = torch.optim.Adam(model.parameters(), lr=args['lr'])\n",
    "loss = Loss(epsilon=1e-5,coefficient=2.5)\n",
    "\n",
    "model.qconfig = torch.quantization.get_default_qat_qconfig('fbgemm')\n",
    "torch.quantization.prepare_qat(model, inplace=True)"
   ]
  },
  {
   "cell_type": "code",
   "execution_count": 16,
   "id": "c796e529",
   "metadata": {},
   "outputs": [
    {
     "name": "stdout",
     "output_type": "stream",
     "text": [
      "Number of batches: train = 1250, val = 156\n"
     ]
    },
    {
     "data": {
      "application/vnd.jupyter.widget-view+json": {
       "model_id": "5599ce0d1b0844faa81bd9c3b2c1f8b8",
       "version_major": 2,
       "version_minor": 0
      },
      "text/plain": [
       "HBox(children=(FloatProgress(value=0.0, description='Epochs', layout=Layout(flex='2'), max=20.0, style=Progres…"
      ]
     },
     "metadata": {},
     "output_type": "display_data"
    },
    {
     "data": {
      "application/vnd.jupyter.widget-view+json": {
       "model_id": "1b500315a0414520afe1fe1cb6b09aa6",
       "version_major": 2,
       "version_minor": 0
      },
      "text/plain": [
       "HBox(children=(FloatProgress(value=0.0, description='Training', layout=Layout(flex='2'), max=1250.0, style=Pro…"
      ]
     },
     "metadata": {},
     "output_type": "display_data"
    },
    {
     "name": "stdout",
     "output_type": "stream",
     "text": [
      "Epoch 0: train=3.22182, val=5.40527, took 28.341 s\n",
      "  Validation Found 50701 of 54504, added 1643 (eff 93.02%) (0.165 FP/event)\n"
     ]
    },
    {
     "ename": "NameError",
     "evalue": "name 'eff_val' is not defined",
     "output_type": "error",
     "traceback": [
      "\u001b[0;31m---------------------------------------------------------------------------\u001b[0m",
      "\u001b[0;31mNameError\u001b[0m                                 Traceback (most recent call last)",
      "\u001b[0;32m<ipython-input-16-1ef605f243a4>\u001b[0m in \u001b[0;36m<module>\u001b[0;34m\u001b[0m\n\u001b[1;32m     10\u001b[0m                 \u001b[0;34m'Metric: Validation loss'\u001b[0m\u001b[0;34m:\u001b[0m\u001b[0mresult\u001b[0m\u001b[0;34m.\u001b[0m\u001b[0mval\u001b[0m\u001b[0;34m,\u001b[0m\u001b[0;34m\u001b[0m\u001b[0;34m\u001b[0m\u001b[0m\n\u001b[1;32m     11\u001b[0m                 \u001b[0;34m'Metric: Efficiency'\u001b[0m\u001b[0;34m:\u001b[0m\u001b[0mresult\u001b[0m\u001b[0;34m.\u001b[0m\u001b[0meff_val\u001b[0m\u001b[0;34m.\u001b[0m\u001b[0meff_rate\u001b[0m\u001b[0;34m,\u001b[0m\u001b[0;34m\u001b[0m\u001b[0;34m\u001b[0m\u001b[0m\n\u001b[0;32m---> 12\u001b[0;31m                 \u001b[0;34m'Metric: False positive rate'\u001b[0m\u001b[0;34m:\u001b[0m\u001b[0meff_val\u001b[0m\u001b[0;34m.\u001b[0m\u001b[0mfp_rate\u001b[0m\u001b[0;34m,\u001b[0m\u001b[0;34m\u001b[0m\u001b[0;34m\u001b[0m\u001b[0m\n\u001b[0m\u001b[1;32m     13\u001b[0m             }, i)\n",
      "\u001b[0;31mNameError\u001b[0m: name 'eff_val' is not defined"
     ]
    }
   ],
   "source": [
    "# load_full_state(model, optimizer, '/share/lazy/pv-finder_model_repo/0/a868d4b8ec0642b39a7156f3dd894dfb/artifacts/run_stats.pyt', freeze_weights=False)\n",
    "\n",
    "run_name = 'stock u-net'\n",
    "\n",
    "train_iter = enumerate(trainNet(model, optimizer, loss, train_loader, val_loader, args['epochs'], notebook=True))\n",
    "with mlflow.start_run(run_name = run_name) as run:\n",
    "    for i, result in train_iter:\n",
    "        if epoch > 3:\n",
    "            # Freeze quantizer parameters\n",
    "            model.apply(torch.quantization.disable_observer)\n",
    "        if epoch > 2:\n",
    "            # Freeze batch norm mean and variance estimates\n",
    "            model.apply(torch.nn.intrinsic.qat.freeze_bn_stats)\n",
    "            \n",
    "        save_to_mlflow({\n",
    "            'Metric: Training loss':result.cost,\n",
    "            'Metric: Validation loss':result.val,\n",
    "            'Metric: Efficiency':result.eff_val.eff_rate,\n",
    "            'Metric: False positive rate':result.eff_val.fp_rate,\n",
    "        }, step=i)\n"
   ]
  }
 ],
 "metadata": {
  "kernelspec": {
   "display_name": "june2020-gpu",
   "language": "python",
   "name": "june2020-gpu"
  },
  "language_info": {
   "codemirror_mode": {
    "name": "ipython",
    "version": 3
   },
   "file_extension": ".py",
   "mimetype": "text/x-python",
   "name": "python",
   "nbconvert_exporter": "python",
   "pygments_lexer": "ipython3",
   "version": "3.7.6"
  }
 },
 "nbformat": 4,
 "nbformat_minor": 5
}
