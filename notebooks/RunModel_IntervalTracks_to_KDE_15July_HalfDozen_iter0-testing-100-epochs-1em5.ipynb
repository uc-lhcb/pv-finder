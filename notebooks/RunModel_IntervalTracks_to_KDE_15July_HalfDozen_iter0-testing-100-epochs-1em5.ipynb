{
 "cells": [
  {
   "cell_type": "code",
   "execution_count": 1,
   "metadata": {},
   "outputs": [],
   "source": [
    "##%matplotlib widget\n",
    "## with %matplotlib notebook: seems to require ipympl as part of environment, either\n",
    "## part of the conda environment or \"pip install ipympl\"\n",
    "## otherwise, does not show ANY plots in note\"book, plt.savefig() works\n",
    "%matplotlib notebook  \n",
    "##%matplotlib inline    ## --plt.savefig()  works, but re-sizing does NOT\n"
   ]
  },
  {
   "cell_type": "code",
   "execution_count": 2,
   "metadata": {
    "scrolled": true
   },
   "outputs": [
    {
     "name": "stdout",
     "output_type": "stream",
     "text": [
      "np.version.version =  1.21.2\n",
      "a =  [-1.7 -1.5 -0.2  0.2  1.5  1.7  2. ]\n",
      "a.shape =  (7,)\n",
      "aFloor =  [-2. -2. -1.  0.  1.  1.  2.]\n",
      "aFloor.shape =  (7,)\n",
      "aFloorInt =  [-2 -2 -1  0  1  1  2]\n"
     ]
    }
   ],
   "source": [
    "import numpy as np\n",
    "##  testing the np.floor and np.int_ methods as they seem to fail in a method used below\n",
    "##  from model.collectdata_kde_Ellipsoids_29Aug2021 import collect_t2kde_data\n",
    "print(\"np.version.version = \",np.version.version)\n",
    "a = np.array([-1.7, -1.5, -0.2, 0.2, 1.5, 1.7, 2.0])\n",
    "aFloor = np.floor(a)\n",
    "print(\"a = \",a)\n",
    "print(\"a.shape = \",a.shape)\n",
    "print(\"aFloor = \",aFloor)\n",
    "print(\"aFloor.shape = \",aFloor.shape)\n",
    "aFloorInt = np.int_(aFloor)\n",
    "print(\"aFloorInt = \",aFloorInt)"
   ]
  },
  {
   "cell_type": "markdown",
   "metadata": {},
   "source": [
    "This notebook is the second (perhaps third) attempt to read in track information and use it to predict the KDE used as input to pv-finder. This time, we are reading in poca KDEs rather than the original KDEs. \n",
    "\n",
    "collectdata_kde_Ellipsoids.py uses poca_z, poca_x, poca_y, and six parameters A, B, C, D, E, and F describing the error ellipsoids are those defined at\n",
    "\n",
    "from https://math.stackexchange.com/questions/1865188/how-to-prove-the-parallel-projection-of-an-ellipsoid-is-an-ellipse\n",
    "\n",
    "Up to translation, a general ellipsoid can be written in the form\n",
    "\n",
    "  𝐴$𝑥^2$ +𝐵$𝑦^2$+𝐶$𝑧^2$+2(𝐷𝑥𝑦+𝐸𝑥𝑧+𝐹𝑦𝑧)=1\n",
    "  \n",
    "for some positive-definite coefficient matrix \n",
    "\n",
    "$$\n",
    "\\left(\\begin{array}{ccc}\n",
    "A & D & E \\\\\n",
    "D & B & F \\\\\n",
    "E & F & C \\\\\n",
    "\\end{array}\\right)\n",
    "$$\n",
    "\n",
    "Note that other conventions use a similarly named set of parameters with D, E, and and F denoting the coefficients of different combinations of $ x y $, etc., or without the factor of 2 in front of the cross-terms.  However, this is the convention we are using for pv-finder related work, as of early November, 20020\n"
   ]
  },
  {
   "cell_type": "markdown",
   "metadata": {},
   "source": [
    "Check the current GPU usage. Please try to be nice!"
   ]
  },
  {
   "cell_type": "code",
   "execution_count": 3,
   "metadata": {},
   "outputs": [
    {
     "name": "stdout",
     "output_type": "stream",
     "text": [
      "Fri Jul 15 08:14:16 2022       \r\n",
      "+-----------------------------------------------------------------------------+\r\n",
      "| NVIDIA-SMI 460.32.03    Driver Version: 460.56       CUDA Version: 11.2     |\r\n",
      "|-------------------------------+----------------------+----------------------+\r\n",
      "| GPU  Name        Persistence-M| Bus-Id        Disp.A | Volatile Uncorr. ECC |\r\n",
      "| Fan  Temp  Perf  Pwr:Usage/Cap|         Memory-Usage | GPU-Util  Compute M. |\r\n",
      "|                               |                      |               MIG M. |\r\n",
      "|===============================+======================+======================|\r\n",
      "|   0  GeForce RTX 208...  On   | 00000000:18:00.0 Off |                  N/A |\r\n",
      "| 29%   28C    P8    20W / 250W |  10570MiB / 11019MiB |      0%      Default |\r\n",
      "|                               |                      |                  N/A |\r\n",
      "+-------------------------------+----------------------+----------------------+\r\n",
      "|   1  GeForce RTX 208...  On   | 00000000:3B:00.0 Off |                  N/A |\r\n",
      "| 29%   29C    P8    19W / 250W |      3MiB / 11019MiB |      0%      Default |\r\n",
      "|                               |                      |                  N/A |\r\n",
      "+-------------------------------+----------------------+----------------------+\r\n",
      "|   2  GeForce RTX 3090    On   | 00000000:AF:00.0 Off |                  N/A |\r\n",
      "|  0%   33C    P8    21W / 350W |      3MiB / 24268MiB |      0%      Default |\r\n",
      "|                               |                      |                  N/A |\r\n",
      "+-------------------------------+----------------------+----------------------+\r\n",
      "                                                                               \r\n",
      "+-----------------------------------------------------------------------------+\r\n",
      "| Processes:                                                                  |\r\n",
      "|  GPU   GI   CI        PID   Type   Process name                  GPU Memory |\r\n",
      "|        ID   ID                                                   Usage      |\r\n",
      "|=============================================================================|\r\n",
      "|    0   N/A  N/A    146276      C   .../envs/june2020/bin/python    10567MiB |\r\n",
      "+-----------------------------------------------------------------------------+\r\n"
     ]
    }
   ],
   "source": [
    "!nvidia-smi"
   ]
  },
  {
   "cell_type": "code",
   "execution_count": 4,
   "metadata": {},
   "outputs": [
    {
     "name": "stdout",
     "output_type": "stream",
     "text": [
      "1.8.2+cu111\n",
      "<module 'torch.cuda' from '/data/home/sokoloff/.local/lib/python3.7/site-packages/torch/cuda/__init__.py'>\n"
     ]
    }
   ],
   "source": [
    "import torch\n",
    "print(torch.__version__)\n",
    "print(torch.cuda)"
   ]
  },
  {
   "cell_type": "markdown",
   "metadata": {},
   "source": [
    "> **WARNING**: The card numbers here are *not* the same as in CUDA. You have been warned."
   ]
  },
  {
   "cell_type": "markdown",
   "metadata": {},
   "source": [
    "This notebook is first attempt to read in track information and use it to predict the KDE used as input to PvFinder.\n"
   ]
  },
  {
   "cell_type": "markdown",
   "metadata": {},
   "source": [
    "## Imports"
   ]
  },
  {
   "cell_type": "code",
   "execution_count": 5,
   "metadata": {},
   "outputs": [
    {
     "name": "stdout",
     "output_type": "stream",
     "text": [
      "numpy.version.version =  1.21.2\n"
     ]
    }
   ],
   "source": [
    "import matplotlib.pyplot as plt\n",
    "import numpy as np\n",
    "print(\"numpy.version.version = \",np.version.version)\n",
    "import time\n",
    "import torch\n",
    "import pandas as pd\n",
    "\n",
    "# Python 3 standard library\n",
    "from pathlib import Path\n",
    "\n",
    "##from torchsummary import summary"
   ]
  },
  {
   "cell_type": "markdown",
   "metadata": {},
   "source": [
    "### Set up local parameters"
   ]
  },
  {
   "cell_type": "code",
   "execution_count": 6,
   "metadata": {},
   "outputs": [],
   "source": [
    "n_epochs = 100\n",
    "\n",
    "# Name is the output file name\n",
    "\n",
    "\n",
    "##  201019  mds\n",
    "folder = '15July_testing_HalfDozen_first_learning_iter0_100epochs_1em5'\n",
    "name   = folder\n",
    "\n",
    "# Make an output folder named \"name\" (change if you want)\n",
    "\n",
    "## Special instructions for those working on goofy at UC\n",
    "## Please be very careful to make sure that your folder\n",
    "## does not live in a subdirectory of your home directory\n",
    "## this disk has very little capacity. Instead, use \n",
    "## a subdirectory in /share/lazy with a symbolic link to\n",
    "## it in this (the notebooks) subdirectory\n",
    "folder = 'ML/' + folder\n",
    "output = Path(folder)\n",
    "\n",
    "\n",
    "# Size of batches\n",
    "batch_size = 64\n",
    "# How fast to learn\n",
    "learning_rate = 1e-5"
   ]
  },
  {
   "cell_type": "markdown",
   "metadata": {},
   "source": [
    "Make the output directory if it does not exist:"
   ]
  },
  {
   "cell_type": "code",
   "execution_count": 7,
   "metadata": {},
   "outputs": [],
   "source": [
    "output.mkdir(exist_ok=True)"
   ]
  },
  {
   "cell_type": "markdown",
   "metadata": {},
   "source": [
    "## Get the helper functions\n",
    "\n",
    "Add the directory with the model\n",
    "definitions to the path so we can import from it:\n",
    "\n",
    "> When you type `import X`,\n",
    "Python searches `sys.path` for a python\n",
    "file named `X.py` to import. So we need to add the model directory to the path."
   ]
  },
  {
   "cell_type": "code",
   "execution_count": 8,
   "metadata": {
    "scrolled": true
   },
   "outputs": [],
   "source": [
    "## collectdata_kde_Ellipsoids_29Aug2021 adds zBin and zOffset to X[]\n",
    "## from model.collectdata_kde_Ellipsoids_29Aug2021 import collect_t2kde_data\n",
    "##from model.collectdata_kde_Ellipsoids_29Aug2021 import collect_t2kde_data\n",
    "## revert to traditional collect_t2kde_data\n",
    "##from model.collectdata_kde_Ellipsoids import collect_t2kde_data\n",
    "## use July 2022 version of collect_t2kde_data for testing stgructure\n",
    "## (and later for modifying structure of X[] and Y[])\n",
    "from model.collectdata_kde_Ellipsoids_jul2022 import collect_t2kde_data\n",
    "\n",
    "\n",
    "## 220714 mds \n",
    "## interval_kde_loss_Ba is derived from kde_loss_Ba, modified for 100-bin intervals\n",
    "## looks like it returns average loss per bin, so costs may be directly\n",
    "## comparable to original DirtyDozen\n",
    "from model.interval_kde_loss_Ba import Loss\n",
    "\n",
    "##  TracksToKDE_Ellipsoids_SevenLayerCake has 7 hidden layers producing the 4000-bin KDE historgram\n",
    "##  It takes 9 input features (pocca centers + (A,B,C,D,E,F) . \n",
    "from model.models_July2022_kde import TrackIntervalsToKDE_HalfDozen as Model\n",
    "\n",
    "\n",
    "from model.training_kde import trainNet, select_gpu, Results\n",
    "from model.plots import dual_train_plots, replace_in_ax"
   ]
  },
  {
   "cell_type": "code",
   "execution_count": 9,
   "metadata": {},
   "outputs": [],
   "source": [
    "# This gets built up during the run - do not rerun this cell\n",
    "results = pd.DataFrame([], columns=Results._fields)"
   ]
  },
  {
   "cell_type": "markdown",
   "metadata": {},
   "source": [
    "Set up Torch device configuration. All tensors and model parameters need to know where to be put.\n",
    "This takes a BUS ID number: The BUS ID is the same as the listing at the top of this script."
   ]
  },
  {
   "cell_type": "code",
   "execution_count": 10,
   "metadata": {},
   "outputs": [
    {
     "name": "stdout",
     "output_type": "stream",
     "text": [
      "1 available GPUs (initially using device 0):\n",
      "  0 GeForce RTX 3090\n"
     ]
    }
   ],
   "source": [
    "##device = \"cuda\"\n",
    "device = select_gpu(2)\n",
    "##device = \"cpu\""
   ]
  },
  {
   "cell_type": "markdown",
   "metadata": {},
   "source": [
    "## Loading data\n",
    "\n",
    "Load the dataset, split into parts, then move to device (see `collectdata.py` in the `../model` directory)"
   ]
  },
  {
   "cell_type": "markdown",
   "metadata": {},
   "source": [
    "# Preparing the model"
   ]
  },
  {
   "cell_type": "markdown",
   "metadata": {},
   "source": [
    "Prepare a model, use multiple GPUs if they are VISIBLE, and move the model to the device."
   ]
  },
  {
   "cell_type": "code",
   "execution_count": 11,
   "metadata": {
    "scrolled": true
   },
   "outputs": [],
   "source": [
    "##print(\"Let's use\", torch.cuda.device_count(), \"GPUs!\")\n",
    "##if torch.cuda.device_count() > 1:\n",
    "##    model = torch.nn.DataParallel(model)"
   ]
  },
  {
   "cell_type": "code",
   "execution_count": 12,
   "metadata": {},
   "outputs": [
    {
     "name": "stdout",
     "output_type": "stream",
     "text": [
      "ct, child =  0    Linear(in_features=9, out_features=20, bias=True)\n",
      "ct, child =  1    Linear(in_features=20, out_features=20, bias=True)\n",
      "ct, child =  2    Linear(in_features=20, out_features=20, bias=True)\n",
      "ct, child =  3    Linear(in_features=20, out_features=20, bias=True)\n",
      "ct, child =  4    Linear(in_features=20, out_features=20, bias=True)\n",
      "ct, child =  5    Linear(in_features=20, out_features=100, bias=True)\n"
     ]
    }
   ],
   "source": [
    "## a comment on the web at https://pytorch.org/docs/stable/optim.html says\n",
    "\"\"\"\n",
    "If you need to move a model to GPU via .cuda(), please do so before constructing optimizers for it. \n",
    "Parameters of a model after .cuda() will be different objects with those before the call.\n",
    "\n",
    "In general, you should make sure that optimized parameters live in consistent locations when \n",
    "optimizers are constructed and used.\n",
    "\"\"\"\n",
    "## so move this here (although we are using model.to(device) not explicitly using .cuda()\n",
    "\n",
    "nOut1 = 20\n",
    "nOut2 = 20\n",
    "nOut3 = 20\n",
    "nOut4 = 20\n",
    "nOut5 = 20\n",
    "\n",
    "model = Model(nOut1,nOut2,nOut3,nOut4,nOut5)\n",
    "\n",
    "##summary(model, input_size=(4, 4000))\n",
    "##print(model.parameters)\n",
    "\n",
    "## add the following code to allow the user to freeze the some of the weights corresponding \n",
    "## to those taken from an earlier model trained with the original target histograms\n",
    "## presumably -- this leaves either the perturbative filter \"fixed\" and lets the \n",
    "## learning focus on the non-perturbative features, so get started faster, or vice versa\n",
    "ct = 0\n",
    "for child in model.children():\n",
    "  print('ct, child = ',ct, \"  \", child)\n",
    "  if ct < 0:\n",
    "    print(\"     About to set param.requires_grad=False for ct = \", ct, \"params\")\n",
    "    for param in child.parameters():\n",
    "        param.requires_grad = False \n",
    "  ct += 1\n",
    "##  mds 200121 loss = Loss(epsilon=1e-5,coefficient=1.0)\n",
    "##  loss = Loss(epsilon=1e-5,coefficient=2.5)\n",
    "##loss = Loss(epsilon=3e-6, debug=False)\n",
    "loss = Loss(epsilon=3e-6)"
   ]
  },
  {
   "cell_type": "markdown",
   "metadata": {},
   "source": [
    "Let's move the model's weight matricies to the GPU:"
   ]
  },
  {
   "cell_type": "code",
   "execution_count": 13,
   "metadata": {
    "scrolled": false
   },
   "outputs": [],
   "source": [
    "model = model.to(device)"
   ]
  },
  {
   "cell_type": "code",
   "execution_count": 14,
   "metadata": {
    "scrolled": true
   },
   "outputs": [],
   "source": [
    "optimizer = torch.optim.Adam(model.parameters(), lr=learning_rate)\n",
    "##optimizer = torch.optim.SGD(model.parameters(), lr=learning_rate)"
   ]
  },
  {
   "cell_type": "code",
   "execution_count": 15,
   "metadata": {},
   "outputs": [
    {
     "name": "stdout",
     "output_type": "stream",
     "text": [
      "output =  ML/15July_testing_HalfDozen_first_learning_iter0_100epochs_1em5\n",
      "for model_dict\n",
      "index, k =   0    layer1.weight\n",
      "index, k =   1    layer1.bias\n",
      "index, k =   2    layer2.weight\n",
      "index, k =   3    layer2.bias\n",
      "index, k =   4    layer3.weight\n",
      "index, k =   5    layer3.bias\n",
      "index, k =   6    layer4.weight\n",
      "index, k =   7    layer4.bias\n",
      "index, k =   8    layer5.weight\n",
      "index, k =   9    layer5.bias\n",
      "index, k =   10    layer6.weight\n",
      "index, k =   11    layer6.bias\n"
     ]
    }
   ],
   "source": [
    "print('output = ',output)\n",
    "##print('oldOutput = ',oldOutput)\n",
    "##  use the first four layers from a pre-existing model\n",
    "##  see example at https://discuss.pytorch.org/t/how-to-load-part-of-pre-trained-model/1113\n",
    "\n",
    "##   ML -> /share/lazy/sokoloff/ML\n",
    "model_dict = model.state_dict()\n",
    "## mds 190725 for debugging\n",
    "print(\"for model_dict\")\n",
    "index = 0\n",
    "for k,v in model_dict.items():\n",
    "    print(\"index, k =  \",index,\"  \",k)\n",
    "    index = index+1\n",
    "##    print(\"value = \", v)\n",
    " \n",
    "updated_dict = model_dict\n",
    "##print(\"updated_dict = \",updated_dict)\n",
    "## when starting \"ab initio\", reduce biases as the bias gets summed for each track\n",
    "## contributing to the predicted KDE\n",
    "updated_dict[\"layer1.bias\"] = 0.005*model_dict[\"layer1.bias\"]\n",
    "updated_dict[\"layer2.bias\"] = 0.005*model_dict[\"layer2.bias\"]\n",
    "updated_dict[\"layer3.bias\"] = 0.005*model_dict[\"layer3.bias\"]\n",
    "updated_dict[\"layer4.bias\"] = 0.005*model_dict[\"layer4.bias\"]\n",
    "updated_dict[\"layer5.bias\"] = 0.005*model_dict[\"layer5.bias\"]\n",
    "\n",
    "\n",
    "model.load_state_dict(updated_dict,strict=False)\n",
    "\n",
    "model_dict = model.state_dict()"
   ]
  },
  {
   "cell_type": "code",
   "execution_count": 16,
   "metadata": {
    "scrolled": false
   },
   "outputs": [
    {
     "data": {
      "text/plain": [
       "'\\n##print(\"updated model_dict = \",model_dict)\\n\\n## print(\" \\n\",\"  for pretrained_dict\")\\n## index = 0\\n##for k,v in pretrained_dict.items():\\n##    print(\"index, k =  \",index,\"  \",k)\\n##    index = index+1\\n## mds  \\n\\n##pretrained_dict = torch.load(\\'ML/29July2020_Trks_to_KDE_C_lossB_100epochs_b64_1m3_nOut_50x50/29July2020_Trks_to_KDE_C_lossB_100epochs_b64_1m3_nOut_50x50_final.pyt\\')\\n##print(\"model_dict instantiated\")\\n# 1. filter out unnecessary keys\\n##pretrained_dict = {k: v for k, v in pretrained_dict.items() if k in model_dict}\\n##print(\"pretrained_dict iterated\")\\n# 2. overwrite entries in the existing state dict\\n##model_dict.update(pretrained_dict) \\n##\\n#   when starting from a model with a fully connected last layer rather than a convolutional layer\\n# 3. load the new state dict\\n#   need to use strict=False as the two models state model attributes do not agree exactly\\n#   see https://pytorch.org/docs/master/_modules/torch/nn/modules/module.html#Module.load_state_dict\\n\\n##model.load_state_dict(pretrained_dict,strict=False)\\n\\n## print(\\'model_dict =    \\', model_dict)\\n\\n\\n##pretrained_dict = torch.load(\\'ML/27October_testing_DirtyDozen_first_learning_iter0_250epochs_1em3/27October_testing_DirtyDozen_first_learning_iter0_250epochs_1em3_220.pyt\\')\\n\\n##  the next model had fluctuations near the end, but the final epoch is within striking distance of the lowest cost\\npretrained_dict = torch.load(\\'ML/06November_testing_DirtyDozen_first_learning_iterB_20epochs_1em6/06November_testing_DirtyDozen_first_learning_iterB_20epochs_1em6_final.pyt\\')\\nprint(\" \")\\nprint(\"  for pretrained_dict\")\\nindex = 0\\nfor k,v in pretrained_dict.items():\\n    print(\"index, k =  \",index,\"  \",k)\\n    index = index+1\\n \\n\\n##print(\"model_dict instantiated\")\\n# 1. filter out unnecessary keys\\npretrained_dict = {k: v for k, v in pretrained_dict.items() if k in model_dict}\\nprint(\"pretrained_dict iterated\")\\n# 2. overwrite entries in the existing state dict\\nmodel_dict.update(pretrained_dict) \\n##\\n#   when starting from a model with a fully connected last layer rather than a convolutional layer\\n# 3. load the new state dict\\n#   need to use strict=False as the two models state model attributes do not agree exactly\\n#   see https://pytorch.org/docs/master/_modules/torch/nn/modules/module.html#Module.load_state_dict\\n\\nmodel.load_state_dict(pretrained_dict,strict=False)\\n'"
      ]
     },
     "execution_count": 16,
     "metadata": {},
     "output_type": "execute_result"
    }
   ],
   "source": [
    "\"\"\"\n",
    "##print(\"updated model_dict = \",model_dict)\n",
    "\n",
    "## print(\" \\n\",\"  for pretrained_dict\")\n",
    "## index = 0\n",
    "##for k,v in pretrained_dict.items():\n",
    "##    print(\"index, k =  \",index,\"  \",k)\n",
    "##    index = index+1\n",
    "## mds  \n",
    "\n",
    "##pretrained_dict = torch.load('ML/29July2020_Trks_to_KDE_C_lossB_100epochs_b64_1m3_nOut_50x50/29July2020_Trks_to_KDE_C_lossB_100epochs_b64_1m3_nOut_50x50_final.pyt')\n",
    "##print(\"model_dict instantiated\")\n",
    "# 1. filter out unnecessary keys\n",
    "##pretrained_dict = {k: v for k, v in pretrained_dict.items() if k in model_dict}\n",
    "##print(\"pretrained_dict iterated\")\n",
    "# 2. overwrite entries in the existing state dict\n",
    "##model_dict.update(pretrained_dict) \n",
    "##\n",
    "#   when starting from a model with a fully connected last layer rather than a convolutional layer\n",
    "# 3. load the new state dict\n",
    "#   need to use strict=False as the two models state model attributes do not agree exactly\n",
    "#   see https://pytorch.org/docs/master/_modules/torch/nn/modules/module.html#Module.load_state_dict\n",
    "\n",
    "##model.load_state_dict(pretrained_dict,strict=False)\n",
    "\n",
    "## print('model_dict =    ', model_dict)\n",
    "\n",
    "\n",
    "##pretrained_dict = torch.load('ML/27October_testing_DirtyDozen_first_learning_iter0_250epochs_1em3/27October_testing_DirtyDozen_first_learning_iter0_250epochs_1em3_220.pyt')\n",
    "\n",
    "##  the next model had fluctuations near the end, but the final epoch is within striking distance of the lowest cost\n",
    "pretrained_dict = torch.load('ML/06November_testing_DirtyDozen_first_learning_iterB_20epochs_1em6/06November_testing_DirtyDozen_first_learning_iterB_20epochs_1em6_final.pyt')\n",
    "print(\" \")\n",
    "print(\"  for pretrained_dict\")\n",
    "index = 0\n",
    "for k,v in pretrained_dict.items():\n",
    "    print(\"index, k =  \",index,\"  \",k)\n",
    "    index = index+1\n",
    " \n",
    "\n",
    "##print(\"model_dict instantiated\")\n",
    "# 1. filter out unnecessary keys\n",
    "pretrained_dict = {k: v for k, v in pretrained_dict.items() if k in model_dict}\n",
    "print(\"pretrained_dict iterated\")\n",
    "# 2. overwrite entries in the existing state dict\n",
    "model_dict.update(pretrained_dict) \n",
    "##\n",
    "#   when starting from a model with a fully connected last layer rather than a convolutional layer\n",
    "# 3. load the new state dict\n",
    "#   need to use strict=False as the two models state model attributes do not agree exactly\n",
    "#   see https://pytorch.org/docs/master/_modules/torch/nn/modules/module.html#Module.load_state_dict\n",
    "\n",
    "model.load_state_dict(pretrained_dict,strict=False)\n",
    "\"\"\""
   ]
  },
  {
   "cell_type": "markdown",
   "metadata": {},
   "source": [
    "##print('validation.dataset.tensors = ',validation.dataset.tensors)\n",
    "fig_size = plt.rcParams[\"figure.figsize\"]\n",
    "fig_size[0] = 10\n",
    "fig_size[1] = 4\n",
    "plt.rcParams[\"figure.figsize\"] = fig_size"
   ]
  },
  {
   "cell_type": "code",
   "execution_count": 17,
   "metadata": {
    "scrolled": false
   },
   "outputs": [
    {
     "name": "stdout",
     "output_type": "stream",
     "text": [
      "Loading data...\n",
      "  \n",
      "kernel.shape =  (20000, 4000)\n",
      "kernel.shape[0] =  20000\n",
      "kernel.shape[1] =  4000\n",
      "Y.shape =       (20000, 12000)\n",
      "binsPerInterval =  100\n",
      "nIntervals =        40\n",
      "intervalKernels.shape =  (800000, 100)\n",
      "pocaMx.shape =  (20000,)\n",
      "nEvts =  20000\n",
      "pocaz.shape =  (20000,)\n",
      "len(pocaMx[0]) =  211\n",
      "len(pocaMx[1]) =  21\n",
      "len(pocaMx[2]) =  20\n",
      "len(pocaMx[3]) =  198\n",
      "len(pocaMx[4]) =  233\n",
      "majorAxis.shape =  (20000, 3)\n",
      "minorAxis_1.shape =  (20000, 3)\n",
      "minorAxis_2.shape =  (20000, 3)\n",
      "have entered six_ellipsoid_parameters\n",
      "  \n",
      " \n",
      "  nEvts =  20000\n",
      " iEvt, nTrks =  0 211\n",
      " iEvt, nTrks =  1 21\n",
      " iEvt, nTrks =  2 20\n",
      " iEvt, nTrks =  3 198\n",
      " iEvt, nTrks =  4 233\n",
      " iEvt, nTrks =  5 85\n",
      " iEvt, nTrks =  6 223\n",
      " iEvt, nTrks =  7 425\n",
      " iEvt, nTrks =  8 252\n",
      " iEvt, nTrks =  9 169\n",
      "A.shape =  (20000,)\n",
      "majorAxis[iTrk][0][0] =  -0.00023452607\n",
      "majorAxis[iTrk][1][0] =  -0.00047206535\n",
      "majorAxis[iTrk][2][0] =  0.096502915\n",
      "minorAxis_1[iTrk][0][0] =  -15.822749\n",
      "minorAxis_1[iTrk][1][0] =  7.8608756\n",
      "minorAxis_1[iTrk][2][0] =  -2.6228399e-08\n",
      "minorAxis_2[iTrk][0][0] =  7.860759\n",
      "minorAxis_2[iTrk][1][0] =  15.822513\n",
      "minorAxis_2[iTrk][2][0] =  0.096502915\n",
      "  \n",
      "majorAxis[iTrk][0][0] =  -0.37655562\n",
      "majorAxis[iTrk][1][0] =  0.2768704\n",
      "majorAxis[iTrk][2][0] =  2.8546858\n",
      "minorAxis_1[iTrk][0][0] =  -10.466048\n",
      "minorAxis_1[iTrk][1][0] =  -14.234274\n",
      "minorAxis_1[iTrk][2][0] =  2.2974699e-11\n",
      "minorAxis_2[iTrk][0][0] =  -14.04724\n",
      "minorAxis_2[iTrk][1][0] =  10.328527\n",
      "minorAxis_2[iTrk][2][0] =  -2.8546853\n",
      "  \n",
      " *** intervalLength =  10.0    ***\n",
      "eventIndex =  0\n",
      "len(local_pocaz) =  211\n",
      "  \n",
      "local_pocaz =  [-1.23822388e+03 -4.43958618e+02 -3.33485016e+02 -3.21600800e+02\n",
      " -2.44395828e+02 -1.55983612e+02 -1.42279724e+02 -8.60519485e+01\n",
      " -5.78091278e+01 -5.11150093e+01 -4.43069305e+01 -4.28218460e+01\n",
      " -3.76326904e+01 -3.44797554e+01 -3.33126869e+01 -3.21566505e+01\n",
      " -3.17352009e+01 -3.10061512e+01 -3.09818459e+01 -3.09294434e+01\n",
      " -3.08653851e+01 -3.06606483e+01 -3.06359768e+01 -3.04435177e+01\n",
      " -3.04254246e+01 -3.04000340e+01 -3.01665459e+01 -3.01444073e+01\n",
      " -3.01066399e+01 -3.00841160e+01 -2.99790344e+01 -2.99323521e+01\n",
      " -2.99069862e+01 -2.98943558e+01 -2.98873138e+01 -2.98739624e+01\n",
      " -2.98281155e+01 -2.98238163e+01 -2.98175507e+01 -2.97863998e+01\n",
      " -2.97791901e+01 -2.97753983e+01 -2.97153091e+01 -2.97009544e+01\n",
      " -2.96718330e+01 -2.96403008e+01 -2.95927296e+01 -2.94849796e+01\n",
      " -2.94028625e+01 -2.93101521e+01 -2.89519367e+01 -2.89046593e+01\n",
      " -2.88616905e+01 -2.88577652e+01 -2.88553295e+01 -2.75121384e+01\n",
      " -2.72576771e+01 -2.71799793e+01 -2.66432877e+01 -2.62467613e+01\n",
      " -2.48227444e+01 -2.46314392e+01 -2.25500526e+01 -1.58481617e+01\n",
      " -2.10979676e+00 -1.72000504e+00 -1.71724963e+00 -8.96518528e-01\n",
      " -8.15029144e-01 -5.81001937e-01 -5.08191347e-01 -5.01292408e-01\n",
      " -3.53640288e-01 -3.40370059e-01 -2.64390618e-01 -2.16207311e-01\n",
      " -1.93332553e-01 -1.67944506e-01 -1.31774321e-01 -1.19251795e-01\n",
      " -6.15143590e-02 -5.25222756e-02  1.06699489e-01  1.66734442e-01\n",
      "  1.81626886e-01  2.31216758e-01  8.13655436e-01  1.08331537e+00\n",
      "  1.52280295e+00  2.00598311e+00  2.52052236e+00  5.99052763e+00\n",
      "  6.03304529e+00  6.42440176e+00  8.09042931e+00  4.44174004e+01\n",
      "  5.01861458e+01  5.68113251e+01  5.91287575e+01  5.92444153e+01\n",
      "  5.92517738e+01  5.92810402e+01  5.97522240e+01  6.01143799e+01\n",
      "  6.03394737e+01  6.05848083e+01  6.06125488e+01  6.07765999e+01\n",
      "  6.08017044e+01  6.08162651e+01  6.08422470e+01  6.08880119e+01\n",
      "  6.09001160e+01  6.09123573e+01  6.09170876e+01  6.09424744e+01\n",
      "  6.09446945e+01  6.09501572e+01  6.09941864e+01  6.10036354e+01\n",
      "  6.10254211e+01  6.10578918e+01  6.11008301e+01  6.11076927e+01\n",
      "  6.11610985e+01  6.11631813e+01  6.12250557e+01  6.12415085e+01\n",
      "  6.12678490e+01  6.13250465e+01  6.13421822e+01  6.13525352e+01\n",
      "  6.13722801e+01  6.14056282e+01  6.14375801e+01  6.16845360e+01\n",
      "  6.17298470e+01  6.18694267e+01  6.20367851e+01  6.25428810e+01\n",
      "  6.27768974e+01  6.33778725e+01  6.36097946e+01  6.39338875e+01\n",
      "  6.44314346e+01  6.91550903e+01  7.08076324e+01  7.25392075e+01\n",
      "  7.26160660e+01  7.68055801e+01  7.72203217e+01  7.84709778e+01\n",
      "  7.86709290e+01  7.88299255e+01  7.89823532e+01  7.90333099e+01\n",
      "  7.90586548e+01  7.90678024e+01  7.92038193e+01  7.92089920e+01\n",
      "  7.92213593e+01  7.92312698e+01  7.93373871e+01  7.93659668e+01\n",
      "  7.94643555e+01  7.94832153e+01  7.95804672e+01  7.97348633e+01\n",
      "  7.97485886e+01  7.97766876e+01  8.03003616e+01  8.11383209e+01\n",
      "  8.12266769e+01  8.43174820e+01  8.43780289e+01  8.57019196e+01\n",
      "  9.45961609e+01  9.49262695e+01  9.55904922e+01  9.66111603e+01\n",
      "  9.66593399e+01  9.70098724e+01  9.72887573e+01  9.72934265e+01\n",
      "  9.73515930e+01  9.75128326e+01  9.77453079e+01  9.77679520e+01\n",
      "  9.78552322e+01  9.82620010e+01  9.83588943e+01  9.84510040e+01\n",
      "  9.90869217e+01  9.90924988e+01  9.92693176e+01  9.95827713e+01\n",
      "  9.99623108e+01  1.00004112e+02  1.00182793e+02  1.00373497e+02\n",
      "  1.02967598e+02  1.08647308e+02  1.10738358e+02  1.30093079e+02\n",
      "  1.31439850e+02  1.33983627e+02  1.34378586e+02  1.34470154e+02\n",
      "  1.35141418e+02  1.36323364e+02  1.47392563e+02]\n",
      "ordered_pocaz =  [-1.23822388e+03 -4.43958618e+02 -3.33485016e+02 -3.21600800e+02\n",
      " -2.44395828e+02 -1.55983612e+02 -1.42279724e+02 -8.60519485e+01\n",
      " -5.78091278e+01 -5.11150093e+01 -4.43069305e+01 -4.28218460e+01\n",
      " -3.76326904e+01 -3.44797554e+01 -3.33126869e+01 -3.21566505e+01\n",
      " -3.17352009e+01 -3.10061512e+01 -3.09818459e+01 -3.09294434e+01\n",
      " -3.08653851e+01 -3.06606483e+01 -3.06359768e+01 -3.04435177e+01\n",
      " -3.04254246e+01 -3.04000340e+01 -3.01665459e+01 -3.01444073e+01\n",
      " -3.01066399e+01 -3.00841160e+01 -2.99790344e+01 -2.99323521e+01\n",
      " -2.99069862e+01 -2.98943558e+01 -2.98873138e+01 -2.98739624e+01\n",
      " -2.98281155e+01 -2.98238163e+01 -2.98175507e+01 -2.97863998e+01\n",
      " -2.97791901e+01 -2.97753983e+01 -2.97153091e+01 -2.97009544e+01\n",
      " -2.96718330e+01 -2.96403008e+01 -2.95927296e+01 -2.94849796e+01\n",
      " -2.94028625e+01 -2.93101521e+01 -2.89519367e+01 -2.89046593e+01\n",
      " -2.88616905e+01 -2.88577652e+01 -2.88553295e+01 -2.75121384e+01\n",
      " -2.72576771e+01 -2.71799793e+01 -2.66432877e+01 -2.62467613e+01\n",
      " -2.48227444e+01 -2.46314392e+01 -2.25500526e+01 -1.58481617e+01\n",
      " -2.10979676e+00 -1.72000504e+00 -1.71724963e+00 -8.96518528e-01\n",
      " -8.15029144e-01 -5.81001937e-01 -5.08191347e-01 -5.01292408e-01\n",
      " -3.53640288e-01 -3.40370059e-01 -2.64390618e-01 -2.16207311e-01\n",
      " -1.93332553e-01 -1.67944506e-01 -1.31774321e-01 -1.19251795e-01\n",
      " -6.15143590e-02 -5.25222756e-02  1.06699489e-01  1.66734442e-01\n",
      "  1.81626886e-01  2.31216758e-01  8.13655436e-01  1.08331537e+00\n",
      "  1.52280295e+00  2.00598311e+00  2.52052236e+00  5.99052763e+00\n",
      "  6.03304529e+00  6.42440176e+00  8.09042931e+00  4.44174004e+01\n",
      "  5.01861458e+01  5.68113251e+01  5.91287575e+01  5.92444153e+01\n",
      "  5.92517738e+01  5.92810402e+01  5.97522240e+01  6.01143799e+01\n",
      "  6.03394737e+01  6.05848083e+01  6.06125488e+01  6.07765999e+01\n",
      "  6.08017044e+01  6.08162651e+01  6.08422470e+01  6.08880119e+01\n",
      "  6.09001160e+01  6.09123573e+01  6.09170876e+01  6.09424744e+01\n",
      "  6.09446945e+01  6.09501572e+01  6.09941864e+01  6.10036354e+01\n",
      "  6.10254211e+01  6.10578918e+01  6.11008301e+01  6.11076927e+01\n",
      "  6.11610985e+01  6.11631813e+01  6.12250557e+01  6.12415085e+01\n",
      "  6.12678490e+01  6.13250465e+01  6.13421822e+01  6.13525352e+01\n",
      "  6.13722801e+01  6.14056282e+01  6.14375801e+01  6.16845360e+01\n",
      "  6.17298470e+01  6.18694267e+01  6.20367851e+01  6.25428810e+01\n",
      "  6.27768974e+01  6.33778725e+01  6.36097946e+01  6.39338875e+01\n",
      "  6.44314346e+01  6.91550903e+01  7.08076324e+01  7.25392075e+01\n",
      "  7.26160660e+01  7.68055801e+01  7.72203217e+01  7.84709778e+01\n",
      "  7.86709290e+01  7.88299255e+01  7.89823532e+01  7.90333099e+01\n",
      "  7.90586548e+01  7.90678024e+01  7.92038193e+01  7.92089920e+01\n",
      "  7.92213593e+01  7.92312698e+01  7.93373871e+01  7.93659668e+01\n",
      "  7.94643555e+01  7.94832153e+01  7.95804672e+01  7.97348633e+01\n",
      "  7.97485886e+01  7.97766876e+01  8.03003616e+01  8.11383209e+01\n",
      "  8.12266769e+01  8.43174820e+01  8.43780289e+01  8.57019196e+01\n",
      "  9.45961609e+01  9.49262695e+01  9.55904922e+01  9.66111603e+01\n",
      "  9.66593399e+01  9.70098724e+01  9.72887573e+01  9.72934265e+01\n",
      "  9.73515930e+01  9.75128326e+01  9.77453079e+01  9.77679520e+01\n",
      "  9.78552322e+01  9.82620010e+01  9.83588943e+01  9.84510040e+01\n",
      "  9.90869217e+01  9.90924988e+01  9.92693176e+01  9.95827713e+01\n",
      "  9.99623108e+01  1.00004112e+02  1.00182793e+02  1.00373497e+02\n",
      "  1.02967598e+02  1.08647308e+02  1.10738358e+02  1.30093079e+02\n",
      "  1.31439850e+02  1.33983627e+02  1.34378586e+02  1.34470154e+02\n",
      "  1.35141418e+02  1.36323364e+02  1.47392563e+02]\n",
      "      -----------      \n",
      "local_pocax =  [-0.12564518  0.05206263 -0.03062759 -0.03235899  0.09763418  0.0048499\n",
      "  0.00943753  0.05516989  0.31492278  0.12163319  0.04015106 -0.02172407\n",
      " -0.00177114 -0.14081542 -0.01912842 -0.05125614 -0.00062081  0.14885484\n",
      "  0.01483655  0.05170671 -0.01707729 -0.00061385  0.00881472 -0.21753241\n",
      "  0.00605343 -0.07077286 -0.0167565  -0.00459527 -0.01600695 -0.01677939\n",
      "  0.0118908  -0.01762416  0.00435679  0.01462892  0.00253085 -0.04859198\n",
      "  0.02631253 -0.00935868 -0.01795375 -0.02515749  0.00725456 -0.05981446\n",
      " -0.03460036 -0.03687518  0.16210654  0.07979918  0.0079322  -0.03207037\n",
      "  0.03996011 -0.09564117 -0.03536231 -0.17327581  0.0346862   0.09674329\n",
      "  0.22787358 -0.00259696  0.01409541 -0.01223536  0.32812136  0.08642837\n",
      " -0.04823636 -0.12990084 -0.13456105  0.06290641  0.00759618  0.01218839\n",
      "  0.00123247  0.04466092  0.00611177 -0.00070899 -0.03710658  0.04524364\n",
      "  0.07460894  0.06935555  0.05660795 -0.04045226 -0.00639004  0.08061168\n",
      "  0.01804429  0.0022031   0.02782362 -0.03081498  0.00083262 -0.15262756\n",
      "  0.01391983  0.01577597  0.01479018 -0.2998547   0.05607008 -0.0592328\n",
      "  0.2868236   0.35189405  0.04597934 -0.23782757 -0.0222602  -0.02689268\n",
      " -0.18937762  0.08067524  0.12080713  0.01067393  0.13868931  0.01779817\n",
      "  0.0320772   0.01244222  0.05454691  0.00552833  0.0653168   0.00124253\n",
      "  0.00255716  0.0050332   0.07317971  0.00085498 -0.04339629 -0.01131052\n",
      "  0.00926857  0.03009852  0.00401286  0.0226302   0.04329113  0.0019631\n",
      "  0.00525049  0.305941    0.00693353  0.03443407  0.03116727  0.13596304\n",
      "  0.02660353  0.00581463 -0.01692358  0.01484644 -0.01729076 -0.00118962\n",
      "  0.00461809  0.03938045  0.04206297  0.05636727  0.01120443 -0.0101408\n",
      " -0.00472407 -0.01845525 -0.00274096  0.00504194 -0.02382473  0.03708906\n",
      "  0.01763952 -0.00162936  0.00991266  0.00545246 -0.00244212 -0.02179445\n",
      "  0.00862779 -0.03101769  0.01337135 -0.05252787 -0.01752301 -0.07212412\n",
      "  0.04218627  0.01835897 -0.03841999 -0.03380709 -0.02865586  0.00289253\n",
      " -0.00503832  0.06380809  0.0231844   0.04371573  0.01818898  0.01144092\n",
      " -0.05715381  0.01327179 -0.05416953  0.01055767 -0.01377359 -0.00697023\n",
      "  0.00534507  0.19495408 -0.00382809 -0.01153739  0.05261749 -0.15305598\n",
      " -0.05780239 -0.00722723 -0.10334502 -0.02891188  0.04872941 -0.06369349\n",
      " -0.06087724 -0.01461384 -0.06479985  0.01923    -0.0022962   0.04742396\n",
      "  0.10417484  0.0236708  -0.07264555 -0.04379908 -0.09639246 -0.05758272\n",
      "  0.02172072 -0.01892907 -0.03184969 -0.06358586 -0.08816814 -0.06739305\n",
      " -0.04407161 -0.04014831 -0.04984743  0.02286243 -0.01402193 -0.03166869\n",
      "  0.04575175]\n",
      "ordered_pocax =  [-0.12564518  0.05206263 -0.03062759 -0.03235899  0.09763418  0.0048499\n",
      "  0.00943753  0.05516989  0.31492278  0.12163319  0.04015106 -0.02172407\n",
      " -0.00177114 -0.14081542 -0.01912842 -0.05125614 -0.00062081  0.14885484\n",
      "  0.01483655  0.05170671 -0.01707729 -0.00061385  0.00881472 -0.21753241\n",
      "  0.00605343 -0.07077286 -0.0167565  -0.00459527 -0.01600695 -0.01677939\n",
      "  0.0118908  -0.01762416  0.00435679  0.01462892  0.00253085 -0.04859198\n",
      "  0.02631253 -0.00935868 -0.01795375 -0.02515749  0.00725456 -0.05981446\n",
      " -0.03460036 -0.03687518  0.16210654  0.07979918  0.0079322  -0.03207037\n",
      "  0.03996011 -0.09564117 -0.03536231 -0.17327581  0.0346862   0.09674329\n",
      "  0.22787358 -0.00259696  0.01409541 -0.01223536  0.32812136  0.08642837\n",
      " -0.04823636 -0.12990084 -0.13456105  0.06290641  0.00759618  0.01218839\n",
      "  0.00123247  0.04466092  0.00611177 -0.00070899 -0.03710658  0.04524364\n",
      "  0.07460894  0.06935555  0.05660795 -0.04045226 -0.00639004  0.08061168\n",
      "  0.01804429  0.0022031   0.02782362 -0.03081498  0.00083262 -0.15262756\n",
      "  0.01391983  0.01577597  0.01479018 -0.2998547   0.05607008 -0.0592328\n",
      "  0.2868236   0.35189405  0.04597934 -0.23782757 -0.0222602  -0.02689268\n",
      " -0.18937762  0.08067524  0.12080713  0.01067393  0.13868931  0.01779817\n",
      "  0.0320772   0.01244222  0.05454691  0.00552833  0.0653168   0.00124253\n",
      "  0.00255716  0.0050332   0.07317971  0.00085498 -0.04339629 -0.01131052\n",
      "  0.00926857  0.03009852  0.00401286  0.0226302   0.04329113  0.0019631\n",
      "  0.00525049  0.305941    0.00693353  0.03443407  0.03116727  0.13596304\n",
      "  0.02660353  0.00581463 -0.01692358  0.01484644 -0.01729076 -0.00118962\n",
      "  0.00461809  0.03938045  0.04206297  0.05636727  0.01120443 -0.0101408\n",
      " -0.00472407 -0.01845525 -0.00274096  0.00504194 -0.02382473  0.03708906\n",
      "  0.01763952 -0.00162936  0.00991266  0.00545246 -0.00244212 -0.02179445\n",
      "  0.00862779 -0.03101769  0.01337135 -0.05252787 -0.01752301 -0.07212412\n",
      "  0.04218627  0.01835897 -0.03841999 -0.03380709 -0.02865586  0.00289253\n",
      " -0.00503832  0.06380809  0.0231844   0.04371573  0.01818898  0.01144092\n",
      " -0.05715381  0.01327179 -0.05416953  0.01055767 -0.01377359 -0.00697023\n",
      "  0.00534507  0.19495408 -0.00382809 -0.01153739  0.05261749 -0.15305598\n",
      " -0.05780239 -0.00722723 -0.10334502 -0.02891188  0.04872941 -0.06369349\n",
      " -0.06087724 -0.01461384 -0.06479985  0.01923    -0.0022962   0.04742396\n",
      "  0.10417484  0.0236708  -0.07264555 -0.04379908 -0.09639246 -0.05758272\n",
      "  0.02172072 -0.01892907 -0.03184969 -0.06358586 -0.08816814 -0.06739305\n",
      " -0.04407161 -0.04014831 -0.04984743  0.02286243 -0.01402193 -0.03166869\n",
      "  0.04575175]\n",
      "  ---------------------- \n",
      "\n",
      " -- interval, interval_minZ, interval_maxZ =  0 -102.5 -87.5\n",
      "  \n",
      "eventIndex, interval =  0 0\n",
      "interval_pocaz =  []\n",
      "             ----          \n",
      "interval_pocax =  []\n",
      "  \n",
      "eventIndex and interval =  0 0\n",
      "interval_pocaz =  []\n",
      " -- interval, interval_minZ, interval_maxZ =  1 -92.5 -77.5\n",
      "  \n",
      "eventIndex, interval =  0 1\n",
      "interval_pocaz =  [3.9480515]\n",
      "             ----          \n",
      "interval_pocax =  [0.05516989]\n",
      "  \n",
      "eventIndex and interval =  0 1\n",
      "interval_pocaz =  [3.9480515]\n",
      " -- interval, interval_minZ, interval_maxZ =  2 -82.5 -67.5\n",
      "  \n",
      "eventIndex, interval =  0 2\n",
      "interval_pocaz =  []\n",
      "             ----          \n",
      "interval_pocax =  []\n",
      "  \n",
      "eventIndex and interval =  0 2\n",
      "interval_pocaz =  []\n",
      " -- interval, interval_minZ, interval_maxZ =  3 -72.5 -57.5\n",
      "  \n",
      "eventIndex, interval =  0 3\n",
      "interval_pocaz =  [12.190872]\n",
      "             ----          \n",
      "interval_pocax =  [0.31492278]\n",
      "  \n",
      "eventIndex and interval =  0 3\n",
      "interval_pocaz =  [12.190872]\n",
      " -- interval, interval_minZ, interval_maxZ =  4 -62.5 -47.5\n",
      "  \n",
      "eventIndex, interval =  0 4\n",
      "interval_pocaz =  [2.1908722 8.884991 ]\n",
      "             ----          \n",
      "interval_pocax =  [0.31492278 0.12163319]\n",
      "  \n",
      "eventIndex and interval =  0 4\n",
      "interval_pocaz =  [2.1908722 8.884991 ]\n",
      " -- interval, interval_minZ, interval_maxZ =  5 -52.5 -37.5\n",
      "  \n",
      "  \n",
      "eventIndex and interval =  0 5\n",
      "interval_pocaz =  [-1.1150093  5.6930695  7.178154  12.36731  ]\n",
      " -- interval, interval_minZ, interval_maxZ =  6 -42.5 -27.5\n",
      "  \n",
      "  \n",
      "eventIndex and interval =  0 6\n",
      "interval_pocaz =  [ 2.3673096  5.5202446  6.687313   7.8433495  8.264799   8.993849\n",
      "  9.018154   9.070557   9.134615   9.339352   9.364023   9.556482\n",
      "  9.574575   9.599966   9.833454   9.855593   9.89336    9.915884\n",
      " 10.020966  10.067648  10.093014  10.105644  10.112686  10.126038\n",
      " 10.171885  10.176184  10.182449  10.2136    10.22081   10.224602\n",
      " 10.284691  10.299046  10.328167  10.359699  10.40727   10.51502\n",
      " 10.597137  10.689848  11.048063  11.095341  11.1383095 11.142235\n",
      " 11.1446705 12.487862 ]\n",
      " -- interval, interval_minZ, interval_maxZ =  7 -32.5 -17.5\n",
      "  \n",
      "  \n",
      "eventIndex and interval =  0 7\n",
      "interval_pocaz =  [-2.1566505  -1.7352009  -1.0061512  -0.98184586 -0.92944336 -0.86538506\n",
      " -0.66064835 -0.6359768  -0.44351768 -0.42542458 -0.40003395 -0.16654587\n",
      " -0.14440727 -0.10663986 -0.08411598  0.02096558  0.06764793  0.09301376\n",
      "  0.10564423  0.11268616  0.1260376   0.17188454  0.1761837   0.18244934\n",
      "  0.21360016  0.22080994  0.22460175  0.28469086  0.29904556  0.32816696\n",
      "  0.35969925  0.40727043  0.5150204   0.59713745  0.68984795  1.0480633\n",
      "  1.0953407   1.1383095   1.1422348   1.1446705   2.4878616   2.742323\n",
      "  2.8200207   3.3567123   3.7532387   5.1772556   5.368561    7.4499474 ]\n",
      " -- interval, interval_minZ, interval_maxZ =  8 -22.5 -7.5\n",
      "  \n",
      "  \n",
      "eventIndex and interval =  0 8\n",
      "interval_pocaz =  [4.1518383]\n",
      " -- interval, interval_minZ, interval_maxZ =  9 -12.5 2.5\n",
      "  \n",
      "  \n",
      "eventIndex and interval =  0 9\n",
      "interval_pocaz =  [ 7.8902035  8.279995   8.28275    9.103481   9.184971   9.418998\n",
      "  9.491809   9.498708   9.646359   9.65963    9.735609   9.7837925\n",
      "  9.806667   9.832055   9.868226   9.880748   9.938486   9.947477\n",
      " 10.1067    10.166735  10.181627  10.231216  10.813656  11.083315\n",
      " 11.522803  12.005983 ]\n",
      " -- interval, interval_minZ, interval_maxZ =  10 -2.5 12.5\n",
      "  \n",
      "  \n",
      "eventIndex and interval =  0 10\n",
      "interval_pocaz =  [-2.1097968  -1.720005   -1.7172496  -0.8965185  -0.81502914 -0.58100194\n",
      " -0.50819135 -0.5012924  -0.3536403  -0.34037006 -0.26439062 -0.21620731\n",
      " -0.19333255 -0.1679445  -0.13177432 -0.1192518  -0.06151436 -0.05252228\n",
      "  0.10669949  0.16673444  0.18162689  0.23121676  0.81365544  1.0833154\n",
      "  1.522803    2.005983    2.5205224   5.9905276   6.0330453   6.4244018\n",
      "  8.090429  ]\n",
      " -- interval, interval_minZ, interval_maxZ =  11 7.5 22.5\n",
      "  \n",
      "  \n",
      "eventIndex and interval =  0 11\n",
      "interval_pocaz =  [-1.9095707]\n",
      " -- interval, interval_minZ, interval_maxZ =  12 17.5 32.5\n",
      "  \n",
      "  \n",
      "eventIndex and interval =  0 12\n",
      "interval_pocaz =  []\n",
      " -- interval, interval_minZ, interval_maxZ =  13 27.5 42.5\n",
      "  \n",
      "  \n",
      "eventIndex and interval =  0 13\n",
      "interval_pocaz =  []\n",
      " -- interval, interval_minZ, interval_maxZ =  14 37.5 52.5\n",
      "  \n",
      "  \n",
      "eventIndex and interval =  0 14\n",
      "interval_pocaz =  [ 4.4174004 10.186146 ]\n",
      " -- interval, interval_minZ, interval_maxZ =  15 47.5 62.5\n",
      "  \n",
      "  \n",
      "eventIndex and interval =  0 15\n",
      "interval_pocaz =  [ 0.18614578  6.811325    9.128757    9.244415    9.251774    9.28104\n",
      "  9.752224   10.11438    10.339474   10.584808   10.612549   10.7766\n",
      " 10.801704   10.816265   10.842247   10.888012   10.900116   10.912357\n",
      " 10.917088   10.942474   10.9446945  10.950157   10.994186   11.003635\n",
      " 11.025421   11.057892   11.10083    11.107693   11.1610985  11.163181\n",
      " 11.225056   11.2415085  11.267849   11.325047   11.342182   11.352535\n",
      " 11.37228    11.405628   11.43758    11.684536   11.729847   11.869427\n",
      " 12.036785  ]\n",
      " -- interval, interval_minZ, interval_maxZ =  16 57.5 72.5\n",
      "  \n",
      "  \n",
      "eventIndex and interval =  0 16\n",
      "interval_pocaz =  [-0.8712425  -0.7555847  -0.74822617 -0.7189598  -0.24777603  0.11437988\n",
      "  0.33947372  0.58480835  0.6125488   0.7765999   0.8017044   0.8162651\n",
      "  0.842247    0.88801193  0.90011597  0.91235733  0.91708755  0.94247437\n",
      "  0.9446945   0.95015717  0.9941864   1.0036354   1.0254211   1.0578918\n",
      "  1.1008301   1.1076927   1.1610985   1.1631813   1.2250557   1.2415085\n",
      "  1.267849    1.3250465   1.3421822   1.3525352   1.3722801   1.4056282\n",
      "  1.4375801   1.684536    1.729847    1.8694267   2.0367851   2.542881\n",
      "  2.7768974   3.3778725   3.6097946   3.9338875   4.4314346   9.15509\n",
      " 10.807632  ]\n",
      " -- interval, interval_minZ, interval_maxZ =  17 67.5 82.5\n",
      "  \n",
      "  \n",
      "eventIndex and interval =  0 17\n",
      "interval_pocaz =  [-0.84490967  0.80763245  2.5392075   2.616066    6.80558     7.2203217\n",
      "  8.470978    8.670929    8.829926    8.982353    9.03331     9.058655\n",
      "  9.067802    9.203819    9.208992    9.221359    9.23127     9.337387\n",
      "  9.365967    9.464355    9.483215    9.580467    9.734863    9.748589\n",
      "  9.776688   10.300362   11.138321   11.226677  ]\n",
      " -- interval, interval_minZ, interval_maxZ =  18 77.5 92.5\n",
      "  \n",
      "  \n",
      "eventIndex and interval =  0 18\n",
      "interval_pocaz =  [-1.5290222  -1.329071   -1.1700745  -1.0176468  -0.96669006 -0.9413452\n",
      " -0.9321976  -0.7961807  -0.791008   -0.77864075 -0.76873016 -0.6626129\n",
      " -0.6340332  -0.53564453 -0.51678467 -0.41953278 -0.26513672 -0.25141144\n",
      " -0.22331238  0.30036163  1.1383209   1.226677    4.317482    4.378029\n",
      "  5.7019196 ]\n",
      " -- interval, interval_minZ, interval_maxZ =  19 87.5 102.5\n",
      "  \n",
      "  \n",
      "eventIndex and interval =  0 19\n",
      "interval_pocaz =  [ 4.596161   4.9262695  5.5904922  6.6111603  6.65934    7.0098724\n",
      "  7.2887573  7.2934265  7.351593   7.5128326  7.745308   7.767952\n",
      "  7.8552322  8.262001   8.358894   8.451004   9.086922   9.092499\n",
      "  9.269318   9.582771   9.962311  10.004112  10.182793  10.373497 ]\n",
      " -- interval, interval_minZ, interval_maxZ =  20 97.5 112.5\n",
      "  \n",
      "  \n",
      "eventIndex and interval =  0 20\n",
      "interval_pocaz =  [-2.4871674e+00 -2.2546921e+00 -2.2320480e+00 -2.1447678e+00\n",
      " -1.7379990e+00 -1.6411057e+00 -1.5489960e+00 -9.1307831e-01\n",
      " -9.0750122e-01 -7.3068237e-01 -4.1722870e-01 -3.7689209e-02\n",
      "  4.1122437e-03  1.8279266e-01  3.7349701e-01  2.9675980e+00\n",
      "  8.6473083e+00  1.0738358e+01]\n",
      " -- interval, interval_minZ, interval_maxZ =  21 107.5 122.5\n",
      "  \n",
      "  \n",
      "eventIndex and interval =  0 21\n",
      "interval_pocaz =  [-1.3526917   0.73835754]\n",
      " -- interval, interval_minZ, interval_maxZ =  22 117.5 132.5\n",
      "  \n",
      "  \n",
      "eventIndex and interval =  0 22\n",
      "interval_pocaz =  [10.093079 11.43985 ]\n",
      " -- interval, interval_minZ, interval_maxZ =  23 127.5 142.5\n",
      "  \n",
      "  \n",
      "eventIndex and interval =  0 23\n",
      "interval_pocaz =  [0.09307861 1.4398499  3.9836273  4.378586   4.470154   5.1414185\n",
      " 6.3233643 ]\n",
      " -- interval, interval_minZ, interval_maxZ =  24 137.5 152.5\n",
      "  \n",
      "  \n",
      "eventIndex and interval =  0 24\n",
      "interval_pocaz =  [7.392563]\n",
      " -- interval, interval_minZ, interval_maxZ =  25 147.5 162.5\n",
      "  \n",
      "  \n",
      "eventIndex and interval =  0 25\n",
      "interval_pocaz =  []\n",
      " -- interval, interval_minZ, interval_maxZ =  26 157.5 172.5\n",
      "  \n",
      "  \n",
      "eventIndex and interval =  0 26\n",
      "interval_pocaz =  []\n",
      " -- interval, interval_minZ, interval_maxZ =  27 167.5 182.5\n",
      "  \n",
      "  \n",
      "eventIndex and interval =  0 27\n",
      "interval_pocaz =  []\n",
      " -- interval, interval_minZ, interval_maxZ =  28 177.5 192.5\n",
      "  \n",
      "  \n",
      "eventIndex and interval =  0 28\n",
      "interval_pocaz =  []\n",
      " -- interval, interval_minZ, interval_maxZ =  29 187.5 202.5\n",
      "  \n",
      "  \n",
      "eventIndex and interval =  0 29\n",
      "interval_pocaz =  []\n",
      " -- interval, interval_minZ, interval_maxZ =  30 197.5 212.5\n",
      "  \n",
      "  \n",
      "eventIndex and interval =  0 30\n",
      "interval_pocaz =  []\n",
      " -- interval, interval_minZ, interval_maxZ =  31 207.5 222.5\n",
      "  \n",
      "  \n",
      "eventIndex and interval =  0 31\n",
      "interval_pocaz =  []\n",
      " -- interval, interval_minZ, interval_maxZ =  32 217.5 232.5\n",
      "  \n",
      "  \n",
      "eventIndex and interval =  0 32\n",
      "interval_pocaz =  []\n",
      " -- interval, interval_minZ, interval_maxZ =  33 227.5 242.5\n",
      "  \n",
      "  \n",
      "eventIndex and interval =  0 33\n",
      "interval_pocaz =  []\n",
      " -- interval, interval_minZ, interval_maxZ =  34 237.5 252.5\n",
      "  \n",
      "  \n",
      "eventIndex and interval =  0 34\n",
      "interval_pocaz =  []\n",
      " -- interval, interval_minZ, interval_maxZ =  35 247.5 262.5\n",
      "  \n",
      "  \n",
      "eventIndex and interval =  0 35\n",
      "interval_pocaz =  []\n",
      " -- interval, interval_minZ, interval_maxZ =  36 257.5 272.5\n",
      "  \n",
      "  \n",
      "eventIndex and interval =  0 36\n",
      "interval_pocaz =  []\n",
      " -- interval, interval_minZ, interval_maxZ =  37 267.5 282.5\n",
      "  \n",
      "  \n",
      "eventIndex and interval =  0 37\n",
      "interval_pocaz =  []\n",
      " -- interval, interval_minZ, interval_maxZ =  38 277.5 292.5\n",
      "  \n",
      "  \n",
      "eventIndex and interval =  0 38\n",
      "interval_pocaz =  []\n",
      " -- interval, interval_minZ, interval_maxZ =  39 287.5 302.5\n",
      "  \n",
      "  \n",
      "eventIndex and interval =  0 39\n",
      "interval_pocaz =  []\n"
     ]
    },
    {
     "name": "stdout",
     "output_type": "stream",
     "text": [
      "len(X) =  20000\n",
      "len(X_ints) = 800000\n",
      "len(Xlist) =  1\n",
      "len(Xlist_ints) =  1\n",
      "Loaded dataAA/20K_POCA_kernel_evts_200926.h5 in 97.68 s\n",
      "outer loop X.shape =  (20000, 9, 600)\n",
      "Constructing 20000 event dataset took 4.649 s\n",
      "x_t.shape =  torch.Size([20000, 9, 600])\n",
      "x_t.shape[0] =  20000\n",
      "x_t.shape[1] =  9\n",
      "x_t_intervals.shape =  torch.Size([700000, 9, 300])\n",
      "x_t_intervals.shape[0] =  700000\n",
      "x_t_intervals.shape[1] =  9\n",
      "y_t.shape =  torch.Size([20000, 12000])\n",
      "y_t_intervals.shape =  torch.Size([700000, 300])\n",
      "y_t_intervals.shape[0] =  700000\n",
      "y_t_intervals.shape[1] =  300\n"
     ]
    }
   ],
   "source": [
    "## Training dataset. You can put as many files here as desired.\n",
    "\n",
    "##train_loader = collect_t2kde_data('/share/lazy/pv-finder/20k_evts_for_KDE_learning_200716.h5',\n",
    "train_loader = collect_t2kde_data('dataAA/20K_POCA_kernel_evts_200926.h5',\n",
    "##train_loader = collect_t2kde_data('/share/lazy/sokoloff/ML-data_AA/100_POCA_kernel_evts_210829.h5',                                  \n",
    "##train_loader = collect_t2kde_data('/share/lazy/pv-finder/test_data_for_KDE_learning_BastilleDay20.h5',\n",
    "                            batch_size=batch_size,\n",
    "## if we are using a larger dataset (240K events, with the datasets above, and 11 GB  of GPU memory),\n",
    "## the dataset will overflow the GPU memory; device=device will allow the data to move back\n",
    "## and forth between the CPU and GPU memory. While this allows use of a larger dataset, it slows\n",
    "## down performance by about 10%.  So comment out when not needed.\n",
    "                           device=device,\n",
    "##  slice is used as index in feature set defined in terms of intervals\n",
    "##  and there are 800K intervals in a file with 20K events\n",
    "                           slice = slice(None,700000)\n",
    "                           )\n",
    "                            "
   ]
  },
  {
   "cell_type": "code",
   "execution_count": 18,
   "metadata": {},
   "outputs": [
    {
     "name": "stdout",
     "output_type": "stream",
     "text": [
      "Loading data...\n",
      "  \n",
      "kernel.shape =  (20000, 4000)\n",
      "kernel.shape[0] =  20000\n",
      "kernel.shape[1] =  4000\n",
      "Y.shape =       (20000, 12000)\n",
      "binsPerInterval =  100\n",
      "nIntervals =        40\n",
      "intervalKernels.shape =  (800000, 100)\n",
      "pocaMx.shape =  (20000,)\n",
      "nEvts =  20000\n",
      "pocaz.shape =  (20000,)\n",
      "len(pocaMx[0]) =  211\n",
      "len(pocaMx[1]) =  21\n",
      "len(pocaMx[2]) =  20\n",
      "len(pocaMx[3]) =  198\n",
      "len(pocaMx[4]) =  233\n",
      "majorAxis.shape =  (20000, 3)\n",
      "minorAxis_1.shape =  (20000, 3)\n",
      "minorAxis_2.shape =  (20000, 3)\n",
      "have entered six_ellipsoid_parameters\n",
      "  \n",
      " \n",
      "  nEvts =  20000\n",
      " iEvt, nTrks =  0 211\n",
      " iEvt, nTrks =  1 21\n",
      " iEvt, nTrks =  2 20\n",
      " iEvt, nTrks =  3 198\n",
      " iEvt, nTrks =  4 233\n",
      " iEvt, nTrks =  5 85\n",
      " iEvt, nTrks =  6 223\n",
      " iEvt, nTrks =  7 425\n",
      " iEvt, nTrks =  8 252\n",
      " iEvt, nTrks =  9 169\n",
      "A.shape =  (20000,)\n",
      "majorAxis[iTrk][0][0] =  -0.00023452607\n",
      "majorAxis[iTrk][1][0] =  -0.00047206535\n",
      "majorAxis[iTrk][2][0] =  0.096502915\n",
      "minorAxis_1[iTrk][0][0] =  -15.822749\n",
      "minorAxis_1[iTrk][1][0] =  7.8608756\n",
      "minorAxis_1[iTrk][2][0] =  -2.6228399e-08\n",
      "minorAxis_2[iTrk][0][0] =  7.860759\n",
      "minorAxis_2[iTrk][1][0] =  15.822513\n",
      "minorAxis_2[iTrk][2][0] =  0.096502915\n",
      "  \n",
      "majorAxis[iTrk][0][0] =  -0.37655562\n",
      "majorAxis[iTrk][1][0] =  0.2768704\n",
      "majorAxis[iTrk][2][0] =  2.8546858\n",
      "minorAxis_1[iTrk][0][0] =  -10.466048\n",
      "minorAxis_1[iTrk][1][0] =  -14.234274\n",
      "minorAxis_1[iTrk][2][0] =  2.2974699e-11\n",
      "minorAxis_2[iTrk][0][0] =  -14.04724\n",
      "minorAxis_2[iTrk][1][0] =  10.328527\n",
      "minorAxis_2[iTrk][2][0] =  -2.8546853\n",
      "  \n",
      " *** intervalLength =  10.0    ***\n",
      "eventIndex =  0\n",
      "len(local_pocaz) =  211\n",
      "  \n",
      "local_pocaz =  [-1.23822388e+03 -4.43958618e+02 -3.33485016e+02 -3.21600800e+02\n",
      " -2.44395828e+02 -1.55983612e+02 -1.42279724e+02 -8.60519485e+01\n",
      " -5.78091278e+01 -5.11150093e+01 -4.43069305e+01 -4.28218460e+01\n",
      " -3.76326904e+01 -3.44797554e+01 -3.33126869e+01 -3.21566505e+01\n",
      " -3.17352009e+01 -3.10061512e+01 -3.09818459e+01 -3.09294434e+01\n",
      " -3.08653851e+01 -3.06606483e+01 -3.06359768e+01 -3.04435177e+01\n",
      " -3.04254246e+01 -3.04000340e+01 -3.01665459e+01 -3.01444073e+01\n",
      " -3.01066399e+01 -3.00841160e+01 -2.99790344e+01 -2.99323521e+01\n",
      " -2.99069862e+01 -2.98943558e+01 -2.98873138e+01 -2.98739624e+01\n",
      " -2.98281155e+01 -2.98238163e+01 -2.98175507e+01 -2.97863998e+01\n",
      " -2.97791901e+01 -2.97753983e+01 -2.97153091e+01 -2.97009544e+01\n",
      " -2.96718330e+01 -2.96403008e+01 -2.95927296e+01 -2.94849796e+01\n",
      " -2.94028625e+01 -2.93101521e+01 -2.89519367e+01 -2.89046593e+01\n",
      " -2.88616905e+01 -2.88577652e+01 -2.88553295e+01 -2.75121384e+01\n",
      " -2.72576771e+01 -2.71799793e+01 -2.66432877e+01 -2.62467613e+01\n",
      " -2.48227444e+01 -2.46314392e+01 -2.25500526e+01 -1.58481617e+01\n",
      " -2.10979676e+00 -1.72000504e+00 -1.71724963e+00 -8.96518528e-01\n",
      " -8.15029144e-01 -5.81001937e-01 -5.08191347e-01 -5.01292408e-01\n",
      " -3.53640288e-01 -3.40370059e-01 -2.64390618e-01 -2.16207311e-01\n",
      " -1.93332553e-01 -1.67944506e-01 -1.31774321e-01 -1.19251795e-01\n",
      " -6.15143590e-02 -5.25222756e-02  1.06699489e-01  1.66734442e-01\n",
      "  1.81626886e-01  2.31216758e-01  8.13655436e-01  1.08331537e+00\n",
      "  1.52280295e+00  2.00598311e+00  2.52052236e+00  5.99052763e+00\n",
      "  6.03304529e+00  6.42440176e+00  8.09042931e+00  4.44174004e+01\n",
      "  5.01861458e+01  5.68113251e+01  5.91287575e+01  5.92444153e+01\n",
      "  5.92517738e+01  5.92810402e+01  5.97522240e+01  6.01143799e+01\n",
      "  6.03394737e+01  6.05848083e+01  6.06125488e+01  6.07765999e+01\n",
      "  6.08017044e+01  6.08162651e+01  6.08422470e+01  6.08880119e+01\n",
      "  6.09001160e+01  6.09123573e+01  6.09170876e+01  6.09424744e+01\n",
      "  6.09446945e+01  6.09501572e+01  6.09941864e+01  6.10036354e+01\n",
      "  6.10254211e+01  6.10578918e+01  6.11008301e+01  6.11076927e+01\n",
      "  6.11610985e+01  6.11631813e+01  6.12250557e+01  6.12415085e+01\n",
      "  6.12678490e+01  6.13250465e+01  6.13421822e+01  6.13525352e+01\n",
      "  6.13722801e+01  6.14056282e+01  6.14375801e+01  6.16845360e+01\n",
      "  6.17298470e+01  6.18694267e+01  6.20367851e+01  6.25428810e+01\n",
      "  6.27768974e+01  6.33778725e+01  6.36097946e+01  6.39338875e+01\n",
      "  6.44314346e+01  6.91550903e+01  7.08076324e+01  7.25392075e+01\n",
      "  7.26160660e+01  7.68055801e+01  7.72203217e+01  7.84709778e+01\n",
      "  7.86709290e+01  7.88299255e+01  7.89823532e+01  7.90333099e+01\n",
      "  7.90586548e+01  7.90678024e+01  7.92038193e+01  7.92089920e+01\n",
      "  7.92213593e+01  7.92312698e+01  7.93373871e+01  7.93659668e+01\n",
      "  7.94643555e+01  7.94832153e+01  7.95804672e+01  7.97348633e+01\n",
      "  7.97485886e+01  7.97766876e+01  8.03003616e+01  8.11383209e+01\n",
      "  8.12266769e+01  8.43174820e+01  8.43780289e+01  8.57019196e+01\n",
      "  9.45961609e+01  9.49262695e+01  9.55904922e+01  9.66111603e+01\n",
      "  9.66593399e+01  9.70098724e+01  9.72887573e+01  9.72934265e+01\n",
      "  9.73515930e+01  9.75128326e+01  9.77453079e+01  9.77679520e+01\n",
      "  9.78552322e+01  9.82620010e+01  9.83588943e+01  9.84510040e+01\n",
      "  9.90869217e+01  9.90924988e+01  9.92693176e+01  9.95827713e+01\n",
      "  9.99623108e+01  1.00004112e+02  1.00182793e+02  1.00373497e+02\n",
      "  1.02967598e+02  1.08647308e+02  1.10738358e+02  1.30093079e+02\n",
      "  1.31439850e+02  1.33983627e+02  1.34378586e+02  1.34470154e+02\n",
      "  1.35141418e+02  1.36323364e+02  1.47392563e+02]\n",
      "ordered_pocaz =  [-1.23822388e+03 -4.43958618e+02 -3.33485016e+02 -3.21600800e+02\n",
      " -2.44395828e+02 -1.55983612e+02 -1.42279724e+02 -8.60519485e+01\n",
      " -5.78091278e+01 -5.11150093e+01 -4.43069305e+01 -4.28218460e+01\n",
      " -3.76326904e+01 -3.44797554e+01 -3.33126869e+01 -3.21566505e+01\n",
      " -3.17352009e+01 -3.10061512e+01 -3.09818459e+01 -3.09294434e+01\n",
      " -3.08653851e+01 -3.06606483e+01 -3.06359768e+01 -3.04435177e+01\n",
      " -3.04254246e+01 -3.04000340e+01 -3.01665459e+01 -3.01444073e+01\n",
      " -3.01066399e+01 -3.00841160e+01 -2.99790344e+01 -2.99323521e+01\n",
      " -2.99069862e+01 -2.98943558e+01 -2.98873138e+01 -2.98739624e+01\n",
      " -2.98281155e+01 -2.98238163e+01 -2.98175507e+01 -2.97863998e+01\n",
      " -2.97791901e+01 -2.97753983e+01 -2.97153091e+01 -2.97009544e+01\n",
      " -2.96718330e+01 -2.96403008e+01 -2.95927296e+01 -2.94849796e+01\n",
      " -2.94028625e+01 -2.93101521e+01 -2.89519367e+01 -2.89046593e+01\n",
      " -2.88616905e+01 -2.88577652e+01 -2.88553295e+01 -2.75121384e+01\n",
      " -2.72576771e+01 -2.71799793e+01 -2.66432877e+01 -2.62467613e+01\n",
      " -2.48227444e+01 -2.46314392e+01 -2.25500526e+01 -1.58481617e+01\n",
      " -2.10979676e+00 -1.72000504e+00 -1.71724963e+00 -8.96518528e-01\n",
      " -8.15029144e-01 -5.81001937e-01 -5.08191347e-01 -5.01292408e-01\n",
      " -3.53640288e-01 -3.40370059e-01 -2.64390618e-01 -2.16207311e-01\n",
      " -1.93332553e-01 -1.67944506e-01 -1.31774321e-01 -1.19251795e-01\n",
      " -6.15143590e-02 -5.25222756e-02  1.06699489e-01  1.66734442e-01\n",
      "  1.81626886e-01  2.31216758e-01  8.13655436e-01  1.08331537e+00\n",
      "  1.52280295e+00  2.00598311e+00  2.52052236e+00  5.99052763e+00\n",
      "  6.03304529e+00  6.42440176e+00  8.09042931e+00  4.44174004e+01\n",
      "  5.01861458e+01  5.68113251e+01  5.91287575e+01  5.92444153e+01\n",
      "  5.92517738e+01  5.92810402e+01  5.97522240e+01  6.01143799e+01\n",
      "  6.03394737e+01  6.05848083e+01  6.06125488e+01  6.07765999e+01\n",
      "  6.08017044e+01  6.08162651e+01  6.08422470e+01  6.08880119e+01\n",
      "  6.09001160e+01  6.09123573e+01  6.09170876e+01  6.09424744e+01\n",
      "  6.09446945e+01  6.09501572e+01  6.09941864e+01  6.10036354e+01\n",
      "  6.10254211e+01  6.10578918e+01  6.11008301e+01  6.11076927e+01\n",
      "  6.11610985e+01  6.11631813e+01  6.12250557e+01  6.12415085e+01\n",
      "  6.12678490e+01  6.13250465e+01  6.13421822e+01  6.13525352e+01\n",
      "  6.13722801e+01  6.14056282e+01  6.14375801e+01  6.16845360e+01\n",
      "  6.17298470e+01  6.18694267e+01  6.20367851e+01  6.25428810e+01\n",
      "  6.27768974e+01  6.33778725e+01  6.36097946e+01  6.39338875e+01\n",
      "  6.44314346e+01  6.91550903e+01  7.08076324e+01  7.25392075e+01\n",
      "  7.26160660e+01  7.68055801e+01  7.72203217e+01  7.84709778e+01\n",
      "  7.86709290e+01  7.88299255e+01  7.89823532e+01  7.90333099e+01\n",
      "  7.90586548e+01  7.90678024e+01  7.92038193e+01  7.92089920e+01\n",
      "  7.92213593e+01  7.92312698e+01  7.93373871e+01  7.93659668e+01\n",
      "  7.94643555e+01  7.94832153e+01  7.95804672e+01  7.97348633e+01\n",
      "  7.97485886e+01  7.97766876e+01  8.03003616e+01  8.11383209e+01\n",
      "  8.12266769e+01  8.43174820e+01  8.43780289e+01  8.57019196e+01\n",
      "  9.45961609e+01  9.49262695e+01  9.55904922e+01  9.66111603e+01\n",
      "  9.66593399e+01  9.70098724e+01  9.72887573e+01  9.72934265e+01\n",
      "  9.73515930e+01  9.75128326e+01  9.77453079e+01  9.77679520e+01\n",
      "  9.78552322e+01  9.82620010e+01  9.83588943e+01  9.84510040e+01\n",
      "  9.90869217e+01  9.90924988e+01  9.92693176e+01  9.95827713e+01\n",
      "  9.99623108e+01  1.00004112e+02  1.00182793e+02  1.00373497e+02\n",
      "  1.02967598e+02  1.08647308e+02  1.10738358e+02  1.30093079e+02\n",
      "  1.31439850e+02  1.33983627e+02  1.34378586e+02  1.34470154e+02\n",
      "  1.35141418e+02  1.36323364e+02  1.47392563e+02]\n",
      "      -----------      \n",
      "local_pocax =  [-0.12564518  0.05206263 -0.03062759 -0.03235899  0.09763418  0.0048499\n",
      "  0.00943753  0.05516989  0.31492278  0.12163319  0.04015106 -0.02172407\n",
      " -0.00177114 -0.14081542 -0.01912842 -0.05125614 -0.00062081  0.14885484\n",
      "  0.01483655  0.05170671 -0.01707729 -0.00061385  0.00881472 -0.21753241\n",
      "  0.00605343 -0.07077286 -0.0167565  -0.00459527 -0.01600695 -0.01677939\n",
      "  0.0118908  -0.01762416  0.00435679  0.01462892  0.00253085 -0.04859198\n",
      "  0.02631253 -0.00935868 -0.01795375 -0.02515749  0.00725456 -0.05981446\n",
      " -0.03460036 -0.03687518  0.16210654  0.07979918  0.0079322  -0.03207037\n",
      "  0.03996011 -0.09564117 -0.03536231 -0.17327581  0.0346862   0.09674329\n",
      "  0.22787358 -0.00259696  0.01409541 -0.01223536  0.32812136  0.08642837\n",
      " -0.04823636 -0.12990084 -0.13456105  0.06290641  0.00759618  0.01218839\n",
      "  0.00123247  0.04466092  0.00611177 -0.00070899 -0.03710658  0.04524364\n",
      "  0.07460894  0.06935555  0.05660795 -0.04045226 -0.00639004  0.08061168\n",
      "  0.01804429  0.0022031   0.02782362 -0.03081498  0.00083262 -0.15262756\n",
      "  0.01391983  0.01577597  0.01479018 -0.2998547   0.05607008 -0.0592328\n",
      "  0.2868236   0.35189405  0.04597934 -0.23782757 -0.0222602  -0.02689268\n",
      " -0.18937762  0.08067524  0.12080713  0.01067393  0.13868931  0.01779817\n",
      "  0.0320772   0.01244222  0.05454691  0.00552833  0.0653168   0.00124253\n",
      "  0.00255716  0.0050332   0.07317971  0.00085498 -0.04339629 -0.01131052\n",
      "  0.00926857  0.03009852  0.00401286  0.0226302   0.04329113  0.0019631\n",
      "  0.00525049  0.305941    0.00693353  0.03443407  0.03116727  0.13596304\n",
      "  0.02660353  0.00581463 -0.01692358  0.01484644 -0.01729076 -0.00118962\n",
      "  0.00461809  0.03938045  0.04206297  0.05636727  0.01120443 -0.0101408\n",
      " -0.00472407 -0.01845525 -0.00274096  0.00504194 -0.02382473  0.03708906\n",
      "  0.01763952 -0.00162936  0.00991266  0.00545246 -0.00244212 -0.02179445\n",
      "  0.00862779 -0.03101769  0.01337135 -0.05252787 -0.01752301 -0.07212412\n",
      "  0.04218627  0.01835897 -0.03841999 -0.03380709 -0.02865586  0.00289253\n",
      " -0.00503832  0.06380809  0.0231844   0.04371573  0.01818898  0.01144092\n",
      " -0.05715381  0.01327179 -0.05416953  0.01055767 -0.01377359 -0.00697023\n",
      "  0.00534507  0.19495408 -0.00382809 -0.01153739  0.05261749 -0.15305598\n",
      " -0.05780239 -0.00722723 -0.10334502 -0.02891188  0.04872941 -0.06369349\n",
      " -0.06087724 -0.01461384 -0.06479985  0.01923    -0.0022962   0.04742396\n",
      "  0.10417484  0.0236708  -0.07264555 -0.04379908 -0.09639246 -0.05758272\n",
      "  0.02172072 -0.01892907 -0.03184969 -0.06358586 -0.08816814 -0.06739305\n",
      " -0.04407161 -0.04014831 -0.04984743  0.02286243 -0.01402193 -0.03166869\n",
      "  0.04575175]\n",
      "ordered_pocax =  [-0.12564518  0.05206263 -0.03062759 -0.03235899  0.09763418  0.0048499\n",
      "  0.00943753  0.05516989  0.31492278  0.12163319  0.04015106 -0.02172407\n",
      " -0.00177114 -0.14081542 -0.01912842 -0.05125614 -0.00062081  0.14885484\n",
      "  0.01483655  0.05170671 -0.01707729 -0.00061385  0.00881472 -0.21753241\n",
      "  0.00605343 -0.07077286 -0.0167565  -0.00459527 -0.01600695 -0.01677939\n",
      "  0.0118908  -0.01762416  0.00435679  0.01462892  0.00253085 -0.04859198\n",
      "  0.02631253 -0.00935868 -0.01795375 -0.02515749  0.00725456 -0.05981446\n",
      " -0.03460036 -0.03687518  0.16210654  0.07979918  0.0079322  -0.03207037\n",
      "  0.03996011 -0.09564117 -0.03536231 -0.17327581  0.0346862   0.09674329\n",
      "  0.22787358 -0.00259696  0.01409541 -0.01223536  0.32812136  0.08642837\n",
      " -0.04823636 -0.12990084 -0.13456105  0.06290641  0.00759618  0.01218839\n",
      "  0.00123247  0.04466092  0.00611177 -0.00070899 -0.03710658  0.04524364\n",
      "  0.07460894  0.06935555  0.05660795 -0.04045226 -0.00639004  0.08061168\n",
      "  0.01804429  0.0022031   0.02782362 -0.03081498  0.00083262 -0.15262756\n",
      "  0.01391983  0.01577597  0.01479018 -0.2998547   0.05607008 -0.0592328\n",
      "  0.2868236   0.35189405  0.04597934 -0.23782757 -0.0222602  -0.02689268\n",
      " -0.18937762  0.08067524  0.12080713  0.01067393  0.13868931  0.01779817\n",
      "  0.0320772   0.01244222  0.05454691  0.00552833  0.0653168   0.00124253\n",
      "  0.00255716  0.0050332   0.07317971  0.00085498 -0.04339629 -0.01131052\n",
      "  0.00926857  0.03009852  0.00401286  0.0226302   0.04329113  0.0019631\n",
      "  0.00525049  0.305941    0.00693353  0.03443407  0.03116727  0.13596304\n",
      "  0.02660353  0.00581463 -0.01692358  0.01484644 -0.01729076 -0.00118962\n",
      "  0.00461809  0.03938045  0.04206297  0.05636727  0.01120443 -0.0101408\n",
      " -0.00472407 -0.01845525 -0.00274096  0.00504194 -0.02382473  0.03708906\n",
      "  0.01763952 -0.00162936  0.00991266  0.00545246 -0.00244212 -0.02179445\n",
      "  0.00862779 -0.03101769  0.01337135 -0.05252787 -0.01752301 -0.07212412\n",
      "  0.04218627  0.01835897 -0.03841999 -0.03380709 -0.02865586  0.00289253\n",
      " -0.00503832  0.06380809  0.0231844   0.04371573  0.01818898  0.01144092\n",
      " -0.05715381  0.01327179 -0.05416953  0.01055767 -0.01377359 -0.00697023\n",
      "  0.00534507  0.19495408 -0.00382809 -0.01153739  0.05261749 -0.15305598\n",
      " -0.05780239 -0.00722723 -0.10334502 -0.02891188  0.04872941 -0.06369349\n",
      " -0.06087724 -0.01461384 -0.06479985  0.01923    -0.0022962   0.04742396\n",
      "  0.10417484  0.0236708  -0.07264555 -0.04379908 -0.09639246 -0.05758272\n",
      "  0.02172072 -0.01892907 -0.03184969 -0.06358586 -0.08816814 -0.06739305\n",
      " -0.04407161 -0.04014831 -0.04984743  0.02286243 -0.01402193 -0.03166869\n",
      "  0.04575175]\n",
      "  ---------------------- \n",
      "\n",
      " -- interval, interval_minZ, interval_maxZ =  0 -102.5 -87.5\n",
      "  \n",
      "eventIndex, interval =  0 0\n",
      "interval_pocaz =  []\n",
      "             ----          \n",
      "interval_pocax =  []\n",
      "  \n",
      "eventIndex and interval =  0 0\n",
      "interval_pocaz =  []\n",
      " -- interval, interval_minZ, interval_maxZ =  1 -92.5 -77.5\n",
      "  \n",
      "eventIndex, interval =  0 1\n",
      "interval_pocaz =  [3.9480515]\n",
      "             ----          \n",
      "interval_pocax =  [0.05516989]\n",
      "  \n",
      "eventIndex and interval =  0 1\n",
      "interval_pocaz =  [3.9480515]\n",
      " -- interval, interval_minZ, interval_maxZ =  2 -82.5 -67.5\n",
      "  \n",
      "eventIndex, interval =  0 2\n",
      "interval_pocaz =  []\n",
      "             ----          \n",
      "interval_pocax =  []\n",
      "  \n",
      "eventIndex and interval =  0 2\n",
      "interval_pocaz =  []\n",
      " -- interval, interval_minZ, interval_maxZ =  3 -72.5 -57.5\n",
      "  \n",
      "eventIndex, interval =  0 3\n",
      "interval_pocaz =  [12.190872]\n",
      "             ----          \n",
      "interval_pocax =  [0.31492278]\n",
      "  \n",
      "eventIndex and interval =  0 3\n",
      "interval_pocaz =  [12.190872]\n",
      " -- interval, interval_minZ, interval_maxZ =  4 -62.5 -47.5\n",
      "  \n",
      "eventIndex, interval =  0 4\n",
      "interval_pocaz =  [2.1908722 8.884991 ]\n",
      "             ----          \n",
      "interval_pocax =  [0.31492278 0.12163319]\n",
      "  \n",
      "eventIndex and interval =  0 4\n",
      "interval_pocaz =  [2.1908722 8.884991 ]\n",
      " -- interval, interval_minZ, interval_maxZ =  5 -52.5 -37.5\n",
      "  \n",
      "  \n",
      "eventIndex and interval =  0 5\n",
      "interval_pocaz =  [-1.1150093  5.6930695  7.178154  12.36731  ]\n",
      " -- interval, interval_minZ, interval_maxZ =  6 -42.5 -27.5\n",
      "  \n",
      "  \n",
      "eventIndex and interval =  0 6\n",
      "interval_pocaz =  [ 2.3673096  5.5202446  6.687313   7.8433495  8.264799   8.993849\n",
      "  9.018154   9.070557   9.134615   9.339352   9.364023   9.556482\n",
      "  9.574575   9.599966   9.833454   9.855593   9.89336    9.915884\n",
      " 10.020966  10.067648  10.093014  10.105644  10.112686  10.126038\n",
      " 10.171885  10.176184  10.182449  10.2136    10.22081   10.224602\n",
      " 10.284691  10.299046  10.328167  10.359699  10.40727   10.51502\n",
      " 10.597137  10.689848  11.048063  11.095341  11.1383095 11.142235\n",
      " 11.1446705 12.487862 ]\n",
      " -- interval, interval_minZ, interval_maxZ =  7 -32.5 -17.5\n",
      "  \n",
      "  \n",
      "eventIndex and interval =  0 7\n",
      "interval_pocaz =  [-2.1566505  -1.7352009  -1.0061512  -0.98184586 -0.92944336 -0.86538506\n",
      " -0.66064835 -0.6359768  -0.44351768 -0.42542458 -0.40003395 -0.16654587\n",
      " -0.14440727 -0.10663986 -0.08411598  0.02096558  0.06764793  0.09301376\n",
      "  0.10564423  0.11268616  0.1260376   0.17188454  0.1761837   0.18244934\n",
      "  0.21360016  0.22080994  0.22460175  0.28469086  0.29904556  0.32816696\n",
      "  0.35969925  0.40727043  0.5150204   0.59713745  0.68984795  1.0480633\n",
      "  1.0953407   1.1383095   1.1422348   1.1446705   2.4878616   2.742323\n",
      "  2.8200207   3.3567123   3.7532387   5.1772556   5.368561    7.4499474 ]\n",
      " -- interval, interval_minZ, interval_maxZ =  8 -22.5 -7.5\n",
      "  \n",
      "  \n",
      "eventIndex and interval =  0 8\n",
      "interval_pocaz =  [4.1518383]\n",
      " -- interval, interval_minZ, interval_maxZ =  9 -12.5 2.5\n",
      "  \n",
      "  \n",
      "eventIndex and interval =  0 9\n",
      "interval_pocaz =  [ 7.8902035  8.279995   8.28275    9.103481   9.184971   9.418998\n",
      "  9.491809   9.498708   9.646359   9.65963    9.735609   9.7837925\n",
      "  9.806667   9.832055   9.868226   9.880748   9.938486   9.947477\n",
      " 10.1067    10.166735  10.181627  10.231216  10.813656  11.083315\n",
      " 11.522803  12.005983 ]\n",
      " -- interval, interval_minZ, interval_maxZ =  10 -2.5 12.5\n",
      "  \n",
      "  \n",
      "eventIndex and interval =  0 10\n",
      "interval_pocaz =  [-2.1097968  -1.720005   -1.7172496  -0.8965185  -0.81502914 -0.58100194\n",
      " -0.50819135 -0.5012924  -0.3536403  -0.34037006 -0.26439062 -0.21620731\n",
      " -0.19333255 -0.1679445  -0.13177432 -0.1192518  -0.06151436 -0.05252228\n",
      "  0.10669949  0.16673444  0.18162689  0.23121676  0.81365544  1.0833154\n",
      "  1.522803    2.005983    2.5205224   5.9905276   6.0330453   6.4244018\n",
      "  8.090429  ]\n",
      " -- interval, interval_minZ, interval_maxZ =  11 7.5 22.5\n",
      "  \n",
      "  \n",
      "eventIndex and interval =  0 11\n",
      "interval_pocaz =  [-1.9095707]\n",
      " -- interval, interval_minZ, interval_maxZ =  12 17.5 32.5\n",
      "  \n",
      "  \n",
      "eventIndex and interval =  0 12\n",
      "interval_pocaz =  []\n",
      " -- interval, interval_minZ, interval_maxZ =  13 27.5 42.5\n",
      "  \n",
      "  \n",
      "eventIndex and interval =  0 13\n",
      "interval_pocaz =  []\n",
      " -- interval, interval_minZ, interval_maxZ =  14 37.5 52.5\n",
      "  \n",
      "  \n",
      "eventIndex and interval =  0 14\n",
      "interval_pocaz =  [ 4.4174004 10.186146 ]\n",
      " -- interval, interval_minZ, interval_maxZ =  15 47.5 62.5\n",
      "  \n",
      "  \n",
      "eventIndex and interval =  0 15\n",
      "interval_pocaz =  [ 0.18614578  6.811325    9.128757    9.244415    9.251774    9.28104\n",
      "  9.752224   10.11438    10.339474   10.584808   10.612549   10.7766\n",
      " 10.801704   10.816265   10.842247   10.888012   10.900116   10.912357\n",
      " 10.917088   10.942474   10.9446945  10.950157   10.994186   11.003635\n",
      " 11.025421   11.057892   11.10083    11.107693   11.1610985  11.163181\n",
      " 11.225056   11.2415085  11.267849   11.325047   11.342182   11.352535\n",
      " 11.37228    11.405628   11.43758    11.684536   11.729847   11.869427\n",
      " 12.036785  ]\n",
      " -- interval, interval_minZ, interval_maxZ =  16 57.5 72.5\n",
      "  \n",
      "  \n",
      "eventIndex and interval =  0 16\n",
      "interval_pocaz =  [-0.8712425  -0.7555847  -0.74822617 -0.7189598  -0.24777603  0.11437988\n",
      "  0.33947372  0.58480835  0.6125488   0.7765999   0.8017044   0.8162651\n",
      "  0.842247    0.88801193  0.90011597  0.91235733  0.91708755  0.94247437\n",
      "  0.9446945   0.95015717  0.9941864   1.0036354   1.0254211   1.0578918\n",
      "  1.1008301   1.1076927   1.1610985   1.1631813   1.2250557   1.2415085\n",
      "  1.267849    1.3250465   1.3421822   1.3525352   1.3722801   1.4056282\n",
      "  1.4375801   1.684536    1.729847    1.8694267   2.0367851   2.542881\n",
      "  2.7768974   3.3778725   3.6097946   3.9338875   4.4314346   9.15509\n",
      " 10.807632  ]\n",
      " -- interval, interval_minZ, interval_maxZ =  17 67.5 82.5\n",
      "  \n",
      "  \n",
      "eventIndex and interval =  0 17\n",
      "interval_pocaz =  [-0.84490967  0.80763245  2.5392075   2.616066    6.80558     7.2203217\n",
      "  8.470978    8.670929    8.829926    8.982353    9.03331     9.058655\n",
      "  9.067802    9.203819    9.208992    9.221359    9.23127     9.337387\n",
      "  9.365967    9.464355    9.483215    9.580467    9.734863    9.748589\n",
      "  9.776688   10.300362   11.138321   11.226677  ]\n",
      " -- interval, interval_minZ, interval_maxZ =  18 77.5 92.5\n",
      "  \n",
      "  \n",
      "eventIndex and interval =  0 18\n",
      "interval_pocaz =  [-1.5290222  -1.329071   -1.1700745  -1.0176468  -0.96669006 -0.9413452\n",
      " -0.9321976  -0.7961807  -0.791008   -0.77864075 -0.76873016 -0.6626129\n",
      " -0.6340332  -0.53564453 -0.51678467 -0.41953278 -0.26513672 -0.25141144\n",
      " -0.22331238  0.30036163  1.1383209   1.226677    4.317482    4.378029\n",
      "  5.7019196 ]\n",
      " -- interval, interval_minZ, interval_maxZ =  19 87.5 102.5\n",
      "  \n",
      "  \n",
      "eventIndex and interval =  0 19\n",
      "interval_pocaz =  [ 4.596161   4.9262695  5.5904922  6.6111603  6.65934    7.0098724\n",
      "  7.2887573  7.2934265  7.351593   7.5128326  7.745308   7.767952\n",
      "  7.8552322  8.262001   8.358894   8.451004   9.086922   9.092499\n",
      "  9.269318   9.582771   9.962311  10.004112  10.182793  10.373497 ]\n",
      " -- interval, interval_minZ, interval_maxZ =  20 97.5 112.5\n",
      "  \n",
      "  \n",
      "eventIndex and interval =  0 20\n",
      "interval_pocaz =  [-2.4871674e+00 -2.2546921e+00 -2.2320480e+00 -2.1447678e+00\n",
      " -1.7379990e+00 -1.6411057e+00 -1.5489960e+00 -9.1307831e-01\n",
      " -9.0750122e-01 -7.3068237e-01 -4.1722870e-01 -3.7689209e-02\n",
      "  4.1122437e-03  1.8279266e-01  3.7349701e-01  2.9675980e+00\n",
      "  8.6473083e+00  1.0738358e+01]\n",
      " -- interval, interval_minZ, interval_maxZ =  21 107.5 122.5\n",
      "  \n",
      "  \n",
      "eventIndex and interval =  0 21\n",
      "interval_pocaz =  [-1.3526917   0.73835754]\n",
      " -- interval, interval_minZ, interval_maxZ =  22 117.5 132.5\n",
      "  \n",
      "  \n",
      "eventIndex and interval =  0 22\n",
      "interval_pocaz =  [10.093079 11.43985 ]\n",
      " -- interval, interval_minZ, interval_maxZ =  23 127.5 142.5\n",
      "  \n",
      "  \n",
      "eventIndex and interval =  0 23\n",
      "interval_pocaz =  [0.09307861 1.4398499  3.9836273  4.378586   4.470154   5.1414185\n",
      " 6.3233643 ]\n",
      " -- interval, interval_minZ, interval_maxZ =  24 137.5 152.5\n",
      "  \n",
      "  \n",
      "eventIndex and interval =  0 24\n",
      "interval_pocaz =  [7.392563]\n",
      " -- interval, interval_minZ, interval_maxZ =  25 147.5 162.5\n",
      "  \n",
      "  \n",
      "eventIndex and interval =  0 25\n",
      "interval_pocaz =  []\n",
      " -- interval, interval_minZ, interval_maxZ =  26 157.5 172.5\n",
      "  \n",
      "  \n",
      "eventIndex and interval =  0 26\n",
      "interval_pocaz =  []\n",
      " -- interval, interval_minZ, interval_maxZ =  27 167.5 182.5\n",
      "  \n",
      "  \n",
      "eventIndex and interval =  0 27\n",
      "interval_pocaz =  []\n",
      " -- interval, interval_minZ, interval_maxZ =  28 177.5 192.5\n",
      "  \n",
      "  \n",
      "eventIndex and interval =  0 28\n",
      "interval_pocaz =  []\n",
      " -- interval, interval_minZ, interval_maxZ =  29 187.5 202.5\n",
      "  \n",
      "  \n",
      "eventIndex and interval =  0 29\n",
      "interval_pocaz =  []\n",
      " -- interval, interval_minZ, interval_maxZ =  30 197.5 212.5\n",
      "  \n",
      "  \n",
      "eventIndex and interval =  0 30\n",
      "interval_pocaz =  []\n",
      " -- interval, interval_minZ, interval_maxZ =  31 207.5 222.5\n",
      "  \n",
      "  \n",
      "eventIndex and interval =  0 31\n",
      "interval_pocaz =  []\n",
      " -- interval, interval_minZ, interval_maxZ =  32 217.5 232.5\n",
      "  \n",
      "  \n",
      "eventIndex and interval =  0 32\n",
      "interval_pocaz =  []\n",
      " -- interval, interval_minZ, interval_maxZ =  33 227.5 242.5\n",
      "  \n",
      "  \n",
      "eventIndex and interval =  0 33\n",
      "interval_pocaz =  []\n",
      " -- interval, interval_minZ, interval_maxZ =  34 237.5 252.5\n",
      "  \n",
      "  \n",
      "eventIndex and interval =  0 34\n",
      "interval_pocaz =  []\n",
      " -- interval, interval_minZ, interval_maxZ =  35 247.5 262.5\n",
      "  \n",
      "  \n",
      "eventIndex and interval =  0 35\n",
      "interval_pocaz =  []\n",
      " -- interval, interval_minZ, interval_maxZ =  36 257.5 272.5\n",
      "  \n",
      "  \n",
      "eventIndex and interval =  0 36\n",
      "interval_pocaz =  []\n",
      " -- interval, interval_minZ, interval_maxZ =  37 267.5 282.5\n",
      "  \n",
      "  \n",
      "eventIndex and interval =  0 37\n",
      "interval_pocaz =  []\n",
      " -- interval, interval_minZ, interval_maxZ =  38 277.5 292.5\n",
      "  \n",
      "  \n",
      "eventIndex and interval =  0 38\n",
      "interval_pocaz =  []\n",
      " -- interval, interval_minZ, interval_maxZ =  39 287.5 302.5\n",
      "  \n",
      "  \n",
      "eventIndex and interval =  0 39\n",
      "interval_pocaz =  []\n"
     ]
    },
    {
     "name": "stdout",
     "output_type": "stream",
     "text": [
      "len(X) =  20000\n",
      "len(X_ints) = 800000\n",
      "len(Xlist) =  1\n",
      "len(Xlist_ints) =  1\n",
      "Loaded dataAA/20K_POCA_kernel_evts_200926.h5 in 95.52 s\n",
      "outer loop X.shape =  (20000, 9, 600)\n",
      "Constructing 20000 event dataset took 4.839 s\n",
      "x_t.shape =  torch.Size([20000, 9, 600])\n",
      "x_t.shape[0] =  20000\n",
      "x_t.shape[1] =  9\n",
      "x_t_intervals.shape =  torch.Size([800000, 9, 300])\n",
      "x_t_intervals.shape[0] =  800000\n",
      "x_t_intervals.shape[1] =  9\n",
      "y_t.shape =  torch.Size([20000, 12000])\n",
      "y_t_intervals.shape =  torch.Size([800000, 300])\n",
      "y_t_intervals.shape[0] =  800000\n",
      "y_t_intervals.shape[1] =  300\n"
     ]
    }
   ],
   "source": [
    "# Validation dataset. You can slice to reduce the size.\n",
    "## mds no separate validation set yet,\n",
    "val_loader = collect_t2kde_data('dataAA/20K_POCA_kernel_evts_200926.h5',\n",
    "                            batch_size=batch_size,\n",
    "                            device=device,\n",
    "##                            slice = slice(700000,None)\n",
    "                           )"
   ]
  },
  {
   "cell_type": "markdown",
   "metadata": {},
   "source": [
    "with torch.no_grad():\n",
    "    counter = 0\n",
    "    event = 0\n",
    "    print(\"train_loader = \",train_loader)\n",
    "    for inputs, labels in train_loader:\n",
    "##        print(\"counter = \",counter)\n",
    "##        print(\"inputs = \",inputs)\n",
    "        print(\"inputs.shape = \",inputs.shape)\n",
    "        if inputs.device != device:\n",
    "            inputs, labels = inputs.to(device), labels.to(device)\n",
    "            \n",
    "        outputs = model(inputs)\n",
    "##        print(\"outputs.shape = \",outputs.shape)\n",
    "        nEvts = outputs.shape[0]\n",
    "        for iEvt in range(nEvts):\n",
    "            y_pred = outputs[iEvt,:]\n",
    "            y_pred = y_pred.cpu().numpy()\n",
    "            \n",
    "            event = event +1\n",
    "##            print(\"event = \",event)\n",
    "            if (event<5):\n",
    "                plt.figure()\n",
    "                plt.plot(y_pred[0:50])\n",
    "                plt.show()\n",
    "                \n",
    "##                print(\"  point AA \")\n",
    "                features = inputs[iEvt,:]\n",
    "                features = features[np.newaxis,:,:]\n",
    "                \n",
    "                \n",
    "                print(\"features.shape = \",features.shape)\n",
    "                \n",
    "                output_A = model(features)\n",
    "                y_prime = output_A[0,:]\n",
    "                y_prime = y_prime.cpu().numpy()\n",
    "                plt.figure()\n",
    "                plt.plot(y_prime[0:50], color=\"r\")\n",
    "                plt.show()\n",
    "                \n",
    "            \n",
    "\n",
    "##        print(\"nEvts = \",nEvts)\n",
    "        \n",
    "        counter = counter+1\n",
    "        \n",
    "        \n",
    "        "
   ]
  },
  {
   "cell_type": "code",
   "execution_count": 19,
   "metadata": {
    "scrolled": false
   },
   "outputs": [
    {
     "data": {
      "application/javascript": [
       "/* Put everything inside the global mpl namespace */\n",
       "window.mpl = {};\n",
       "\n",
       "\n",
       "mpl.get_websocket_type = function() {\n",
       "    if (typeof(WebSocket) !== 'undefined') {\n",
       "        return WebSocket;\n",
       "    } else if (typeof(MozWebSocket) !== 'undefined') {\n",
       "        return MozWebSocket;\n",
       "    } else {\n",
       "        alert('Your browser does not have WebSocket support. ' +\n",
       "              'Please try Chrome, Safari or Firefox ≥ 6. ' +\n",
       "              'Firefox 4 and 5 are also supported but you ' +\n",
       "              'have to enable WebSockets in about:config.');\n",
       "    };\n",
       "}\n",
       "\n",
       "mpl.figure = function(figure_id, websocket, ondownload, parent_element) {\n",
       "    this.id = figure_id;\n",
       "\n",
       "    this.ws = websocket;\n",
       "\n",
       "    this.supports_binary = (this.ws.binaryType != undefined);\n",
       "\n",
       "    if (!this.supports_binary) {\n",
       "        var warnings = document.getElementById(\"mpl-warnings\");\n",
       "        if (warnings) {\n",
       "            warnings.style.display = 'block';\n",
       "            warnings.textContent = (\n",
       "                \"This browser does not support binary websocket messages. \" +\n",
       "                    \"Performance may be slow.\");\n",
       "        }\n",
       "    }\n",
       "\n",
       "    this.imageObj = new Image();\n",
       "\n",
       "    this.context = undefined;\n",
       "    this.message = undefined;\n",
       "    this.canvas = undefined;\n",
       "    this.rubberband_canvas = undefined;\n",
       "    this.rubberband_context = undefined;\n",
       "    this.format_dropdown = undefined;\n",
       "\n",
       "    this.image_mode = 'full';\n",
       "\n",
       "    this.root = $('<div/>');\n",
       "    this._root_extra_style(this.root)\n",
       "    this.root.attr('style', 'display: inline-block');\n",
       "\n",
       "    $(parent_element).append(this.root);\n",
       "\n",
       "    this._init_header(this);\n",
       "    this._init_canvas(this);\n",
       "    this._init_toolbar(this);\n",
       "\n",
       "    var fig = this;\n",
       "\n",
       "    this.waiting = false;\n",
       "\n",
       "    this.ws.onopen =  function () {\n",
       "            fig.send_message(\"supports_binary\", {value: fig.supports_binary});\n",
       "            fig.send_message(\"send_image_mode\", {});\n",
       "            if (mpl.ratio != 1) {\n",
       "                fig.send_message(\"set_dpi_ratio\", {'dpi_ratio': mpl.ratio});\n",
       "            }\n",
       "            fig.send_message(\"refresh\", {});\n",
       "        }\n",
       "\n",
       "    this.imageObj.onload = function() {\n",
       "            if (fig.image_mode == 'full') {\n",
       "                // Full images could contain transparency (where diff images\n",
       "                // almost always do), so we need to clear the canvas so that\n",
       "                // there is no ghosting.\n",
       "                fig.context.clearRect(0, 0, fig.canvas.width, fig.canvas.height);\n",
       "            }\n",
       "            fig.context.drawImage(fig.imageObj, 0, 0);\n",
       "        };\n",
       "\n",
       "    this.imageObj.onunload = function() {\n",
       "        fig.ws.close();\n",
       "    }\n",
       "\n",
       "    this.ws.onmessage = this._make_on_message_function(this);\n",
       "\n",
       "    this.ondownload = ondownload;\n",
       "}\n",
       "\n",
       "mpl.figure.prototype._init_header = function() {\n",
       "    var titlebar = $(\n",
       "        '<div class=\"ui-dialog-titlebar ui-widget-header ui-corner-all ' +\n",
       "        'ui-helper-clearfix\"/>');\n",
       "    var titletext = $(\n",
       "        '<div class=\"ui-dialog-title\" style=\"width: 100%; ' +\n",
       "        'text-align: center; padding: 3px;\"/>');\n",
       "    titlebar.append(titletext)\n",
       "    this.root.append(titlebar);\n",
       "    this.header = titletext[0];\n",
       "}\n",
       "\n",
       "\n",
       "\n",
       "mpl.figure.prototype._canvas_extra_style = function(canvas_div) {\n",
       "\n",
       "}\n",
       "\n",
       "\n",
       "mpl.figure.prototype._root_extra_style = function(canvas_div) {\n",
       "\n",
       "}\n",
       "\n",
       "mpl.figure.prototype._init_canvas = function() {\n",
       "    var fig = this;\n",
       "\n",
       "    var canvas_div = $('<div/>');\n",
       "\n",
       "    canvas_div.attr('style', 'position: relative; clear: both; outline: 0');\n",
       "\n",
       "    function canvas_keyboard_event(event) {\n",
       "        return fig.key_event(event, event['data']);\n",
       "    }\n",
       "\n",
       "    canvas_div.keydown('key_press', canvas_keyboard_event);\n",
       "    canvas_div.keyup('key_release', canvas_keyboard_event);\n",
       "    this.canvas_div = canvas_div\n",
       "    this._canvas_extra_style(canvas_div)\n",
       "    this.root.append(canvas_div);\n",
       "\n",
       "    var canvas = $('<canvas/>');\n",
       "    canvas.addClass('mpl-canvas');\n",
       "    canvas.attr('style', \"left: 0; top: 0; z-index: 0; outline: 0\")\n",
       "\n",
       "    this.canvas = canvas[0];\n",
       "    this.context = canvas[0].getContext(\"2d\");\n",
       "\n",
       "    var backingStore = this.context.backingStorePixelRatio ||\n",
       "\tthis.context.webkitBackingStorePixelRatio ||\n",
       "\tthis.context.mozBackingStorePixelRatio ||\n",
       "\tthis.context.msBackingStorePixelRatio ||\n",
       "\tthis.context.oBackingStorePixelRatio ||\n",
       "\tthis.context.backingStorePixelRatio || 1;\n",
       "\n",
       "    mpl.ratio = (window.devicePixelRatio || 1) / backingStore;\n",
       "\n",
       "    var rubberband = $('<canvas/>');\n",
       "    rubberband.attr('style', \"position: absolute; left: 0; top: 0; z-index: 1;\")\n",
       "\n",
       "    var pass_mouse_events = true;\n",
       "\n",
       "    canvas_div.resizable({\n",
       "        start: function(event, ui) {\n",
       "            pass_mouse_events = false;\n",
       "        },\n",
       "        resize: function(event, ui) {\n",
       "            fig.request_resize(ui.size.width, ui.size.height);\n",
       "        },\n",
       "        stop: function(event, ui) {\n",
       "            pass_mouse_events = true;\n",
       "            fig.request_resize(ui.size.width, ui.size.height);\n",
       "        },\n",
       "    });\n",
       "\n",
       "    function mouse_event_fn(event) {\n",
       "        if (pass_mouse_events)\n",
       "            return fig.mouse_event(event, event['data']);\n",
       "    }\n",
       "\n",
       "    rubberband.mousedown('button_press', mouse_event_fn);\n",
       "    rubberband.mouseup('button_release', mouse_event_fn);\n",
       "    // Throttle sequential mouse events to 1 every 20ms.\n",
       "    rubberband.mousemove('motion_notify', mouse_event_fn);\n",
       "\n",
       "    rubberband.mouseenter('figure_enter', mouse_event_fn);\n",
       "    rubberband.mouseleave('figure_leave', mouse_event_fn);\n",
       "\n",
       "    canvas_div.on(\"wheel\", function (event) {\n",
       "        event = event.originalEvent;\n",
       "        event['data'] = 'scroll'\n",
       "        if (event.deltaY < 0) {\n",
       "            event.step = 1;\n",
       "        } else {\n",
       "            event.step = -1;\n",
       "        }\n",
       "        mouse_event_fn(event);\n",
       "    });\n",
       "\n",
       "    canvas_div.append(canvas);\n",
       "    canvas_div.append(rubberband);\n",
       "\n",
       "    this.rubberband = rubberband;\n",
       "    this.rubberband_canvas = rubberband[0];\n",
       "    this.rubberband_context = rubberband[0].getContext(\"2d\");\n",
       "    this.rubberband_context.strokeStyle = \"#000000\";\n",
       "\n",
       "    this._resize_canvas = function(width, height) {\n",
       "        // Keep the size of the canvas, canvas container, and rubber band\n",
       "        // canvas in synch.\n",
       "        canvas_div.css('width', width)\n",
       "        canvas_div.css('height', height)\n",
       "\n",
       "        canvas.attr('width', width * mpl.ratio);\n",
       "        canvas.attr('height', height * mpl.ratio);\n",
       "        canvas.attr('style', 'width: ' + width + 'px; height: ' + height + 'px;');\n",
       "\n",
       "        rubberband.attr('width', width);\n",
       "        rubberband.attr('height', height);\n",
       "    }\n",
       "\n",
       "    // Set the figure to an initial 600x600px, this will subsequently be updated\n",
       "    // upon first draw.\n",
       "    this._resize_canvas(600, 600);\n",
       "\n",
       "    // Disable right mouse context menu.\n",
       "    $(this.rubberband_canvas).bind(\"contextmenu\",function(e){\n",
       "        return false;\n",
       "    });\n",
       "\n",
       "    function set_focus () {\n",
       "        canvas.focus();\n",
       "        canvas_div.focus();\n",
       "    }\n",
       "\n",
       "    window.setTimeout(set_focus, 100);\n",
       "}\n",
       "\n",
       "mpl.figure.prototype._init_toolbar = function() {\n",
       "    var fig = this;\n",
       "\n",
       "    var nav_element = $('<div/>');\n",
       "    nav_element.attr('style', 'width: 100%');\n",
       "    this.root.append(nav_element);\n",
       "\n",
       "    // Define a callback function for later on.\n",
       "    function toolbar_event(event) {\n",
       "        return fig.toolbar_button_onclick(event['data']);\n",
       "    }\n",
       "    function toolbar_mouse_event(event) {\n",
       "        return fig.toolbar_button_onmouseover(event['data']);\n",
       "    }\n",
       "\n",
       "    for(var toolbar_ind in mpl.toolbar_items) {\n",
       "        var name = mpl.toolbar_items[toolbar_ind][0];\n",
       "        var tooltip = mpl.toolbar_items[toolbar_ind][1];\n",
       "        var image = mpl.toolbar_items[toolbar_ind][2];\n",
       "        var method_name = mpl.toolbar_items[toolbar_ind][3];\n",
       "\n",
       "        if (!name) {\n",
       "            // put a spacer in here.\n",
       "            continue;\n",
       "        }\n",
       "        var button = $('<button/>');\n",
       "        button.addClass('ui-button ui-widget ui-state-default ui-corner-all ' +\n",
       "                        'ui-button-icon-only');\n",
       "        button.attr('role', 'button');\n",
       "        button.attr('aria-disabled', 'false');\n",
       "        button.click(method_name, toolbar_event);\n",
       "        button.mouseover(tooltip, toolbar_mouse_event);\n",
       "\n",
       "        var icon_img = $('<span/>');\n",
       "        icon_img.addClass('ui-button-icon-primary ui-icon');\n",
       "        icon_img.addClass(image);\n",
       "        icon_img.addClass('ui-corner-all');\n",
       "\n",
       "        var tooltip_span = $('<span/>');\n",
       "        tooltip_span.addClass('ui-button-text');\n",
       "        tooltip_span.html(tooltip);\n",
       "\n",
       "        button.append(icon_img);\n",
       "        button.append(tooltip_span);\n",
       "\n",
       "        nav_element.append(button);\n",
       "    }\n",
       "\n",
       "    var fmt_picker_span = $('<span/>');\n",
       "\n",
       "    var fmt_picker = $('<select/>');\n",
       "    fmt_picker.addClass('mpl-toolbar-option ui-widget ui-widget-content');\n",
       "    fmt_picker_span.append(fmt_picker);\n",
       "    nav_element.append(fmt_picker_span);\n",
       "    this.format_dropdown = fmt_picker[0];\n",
       "\n",
       "    for (var ind in mpl.extensions) {\n",
       "        var fmt = mpl.extensions[ind];\n",
       "        var option = $(\n",
       "            '<option/>', {selected: fmt === mpl.default_extension}).html(fmt);\n",
       "        fmt_picker.append(option);\n",
       "    }\n",
       "\n",
       "    // Add hover states to the ui-buttons\n",
       "    $( \".ui-button\" ).hover(\n",
       "        function() { $(this).addClass(\"ui-state-hover\");},\n",
       "        function() { $(this).removeClass(\"ui-state-hover\");}\n",
       "    );\n",
       "\n",
       "    var status_bar = $('<span class=\"mpl-message\"/>');\n",
       "    nav_element.append(status_bar);\n",
       "    this.message = status_bar[0];\n",
       "}\n",
       "\n",
       "mpl.figure.prototype.request_resize = function(x_pixels, y_pixels) {\n",
       "    // Request matplotlib to resize the figure. Matplotlib will then trigger a resize in the client,\n",
       "    // which will in turn request a refresh of the image.\n",
       "    this.send_message('resize', {'width': x_pixels, 'height': y_pixels});\n",
       "}\n",
       "\n",
       "mpl.figure.prototype.send_message = function(type, properties) {\n",
       "    properties['type'] = type;\n",
       "    properties['figure_id'] = this.id;\n",
       "    this.ws.send(JSON.stringify(properties));\n",
       "}\n",
       "\n",
       "mpl.figure.prototype.send_draw_message = function() {\n",
       "    if (!this.waiting) {\n",
       "        this.waiting = true;\n",
       "        this.ws.send(JSON.stringify({type: \"draw\", figure_id: this.id}));\n",
       "    }\n",
       "}\n",
       "\n",
       "\n",
       "mpl.figure.prototype.handle_save = function(fig, msg) {\n",
       "    var format_dropdown = fig.format_dropdown;\n",
       "    var format = format_dropdown.options[format_dropdown.selectedIndex].value;\n",
       "    fig.ondownload(fig, format);\n",
       "}\n",
       "\n",
       "\n",
       "mpl.figure.prototype.handle_resize = function(fig, msg) {\n",
       "    var size = msg['size'];\n",
       "    if (size[0] != fig.canvas.width || size[1] != fig.canvas.height) {\n",
       "        fig._resize_canvas(size[0], size[1]);\n",
       "        fig.send_message(\"refresh\", {});\n",
       "    };\n",
       "}\n",
       "\n",
       "mpl.figure.prototype.handle_rubberband = function(fig, msg) {\n",
       "    var x0 = msg['x0'] / mpl.ratio;\n",
       "    var y0 = (fig.canvas.height - msg['y0']) / mpl.ratio;\n",
       "    var x1 = msg['x1'] / mpl.ratio;\n",
       "    var y1 = (fig.canvas.height - msg['y1']) / mpl.ratio;\n",
       "    x0 = Math.floor(x0) + 0.5;\n",
       "    y0 = Math.floor(y0) + 0.5;\n",
       "    x1 = Math.floor(x1) + 0.5;\n",
       "    y1 = Math.floor(y1) + 0.5;\n",
       "    var min_x = Math.min(x0, x1);\n",
       "    var min_y = Math.min(y0, y1);\n",
       "    var width = Math.abs(x1 - x0);\n",
       "    var height = Math.abs(y1 - y0);\n",
       "\n",
       "    fig.rubberband_context.clearRect(\n",
       "        0, 0, fig.canvas.width / mpl.ratio, fig.canvas.height / mpl.ratio);\n",
       "\n",
       "    fig.rubberband_context.strokeRect(min_x, min_y, width, height);\n",
       "}\n",
       "\n",
       "mpl.figure.prototype.handle_figure_label = function(fig, msg) {\n",
       "    // Updates the figure title.\n",
       "    fig.header.textContent = msg['label'];\n",
       "}\n",
       "\n",
       "mpl.figure.prototype.handle_cursor = function(fig, msg) {\n",
       "    var cursor = msg['cursor'];\n",
       "    switch(cursor)\n",
       "    {\n",
       "    case 0:\n",
       "        cursor = 'pointer';\n",
       "        break;\n",
       "    case 1:\n",
       "        cursor = 'default';\n",
       "        break;\n",
       "    case 2:\n",
       "        cursor = 'crosshair';\n",
       "        break;\n",
       "    case 3:\n",
       "        cursor = 'move';\n",
       "        break;\n",
       "    }\n",
       "    fig.rubberband_canvas.style.cursor = cursor;\n",
       "}\n",
       "\n",
       "mpl.figure.prototype.handle_message = function(fig, msg) {\n",
       "    fig.message.textContent = msg['message'];\n",
       "}\n",
       "\n",
       "mpl.figure.prototype.handle_draw = function(fig, msg) {\n",
       "    // Request the server to send over a new figure.\n",
       "    fig.send_draw_message();\n",
       "}\n",
       "\n",
       "mpl.figure.prototype.handle_image_mode = function(fig, msg) {\n",
       "    fig.image_mode = msg['mode'];\n",
       "}\n",
       "\n",
       "mpl.figure.prototype.updated_canvas_event = function() {\n",
       "    // Called whenever the canvas gets updated.\n",
       "    this.send_message(\"ack\", {});\n",
       "}\n",
       "\n",
       "// A function to construct a web socket function for onmessage handling.\n",
       "// Called in the figure constructor.\n",
       "mpl.figure.prototype._make_on_message_function = function(fig) {\n",
       "    return function socket_on_message(evt) {\n",
       "        if (evt.data instanceof Blob) {\n",
       "            /* FIXME: We get \"Resource interpreted as Image but\n",
       "             * transferred with MIME type text/plain:\" errors on\n",
       "             * Chrome.  But how to set the MIME type?  It doesn't seem\n",
       "             * to be part of the websocket stream */\n",
       "            evt.data.type = \"image/png\";\n",
       "\n",
       "            /* Free the memory for the previous frames */\n",
       "            if (fig.imageObj.src) {\n",
       "                (window.URL || window.webkitURL).revokeObjectURL(\n",
       "                    fig.imageObj.src);\n",
       "            }\n",
       "\n",
       "            fig.imageObj.src = (window.URL || window.webkitURL).createObjectURL(\n",
       "                evt.data);\n",
       "            fig.updated_canvas_event();\n",
       "            fig.waiting = false;\n",
       "            return;\n",
       "        }\n",
       "        else if (typeof evt.data === 'string' && evt.data.slice(0, 21) == \"data:image/png;base64\") {\n",
       "            fig.imageObj.src = evt.data;\n",
       "            fig.updated_canvas_event();\n",
       "            fig.waiting = false;\n",
       "            return;\n",
       "        }\n",
       "\n",
       "        var msg = JSON.parse(evt.data);\n",
       "        var msg_type = msg['type'];\n",
       "\n",
       "        // Call the  \"handle_{type}\" callback, which takes\n",
       "        // the figure and JSON message as its only arguments.\n",
       "        try {\n",
       "            var callback = fig[\"handle_\" + msg_type];\n",
       "        } catch (e) {\n",
       "            console.log(\"No handler for the '\" + msg_type + \"' message type: \", msg);\n",
       "            return;\n",
       "        }\n",
       "\n",
       "        if (callback) {\n",
       "            try {\n",
       "                // console.log(\"Handling '\" + msg_type + \"' message: \", msg);\n",
       "                callback(fig, msg);\n",
       "            } catch (e) {\n",
       "                console.log(\"Exception inside the 'handler_\" + msg_type + \"' callback:\", e, e.stack, msg);\n",
       "            }\n",
       "        }\n",
       "    };\n",
       "}\n",
       "\n",
       "// from http://stackoverflow.com/questions/1114465/getting-mouse-location-in-canvas\n",
       "mpl.findpos = function(e) {\n",
       "    //this section is from http://www.quirksmode.org/js/events_properties.html\n",
       "    var targ;\n",
       "    if (!e)\n",
       "        e = window.event;\n",
       "    if (e.target)\n",
       "        targ = e.target;\n",
       "    else if (e.srcElement)\n",
       "        targ = e.srcElement;\n",
       "    if (targ.nodeType == 3) // defeat Safari bug\n",
       "        targ = targ.parentNode;\n",
       "\n",
       "    // jQuery normalizes the pageX and pageY\n",
       "    // pageX,Y are the mouse positions relative to the document\n",
       "    // offset() returns the position of the element relative to the document\n",
       "    var x = e.pageX - $(targ).offset().left;\n",
       "    var y = e.pageY - $(targ).offset().top;\n",
       "\n",
       "    return {\"x\": x, \"y\": y};\n",
       "};\n",
       "\n",
       "/*\n",
       " * return a copy of an object with only non-object keys\n",
       " * we need this to avoid circular references\n",
       " * http://stackoverflow.com/a/24161582/3208463\n",
       " */\n",
       "function simpleKeys (original) {\n",
       "  return Object.keys(original).reduce(function (obj, key) {\n",
       "    if (typeof original[key] !== 'object')\n",
       "        obj[key] = original[key]\n",
       "    return obj;\n",
       "  }, {});\n",
       "}\n",
       "\n",
       "mpl.figure.prototype.mouse_event = function(event, name) {\n",
       "    var canvas_pos = mpl.findpos(event)\n",
       "\n",
       "    if (name === 'button_press')\n",
       "    {\n",
       "        this.canvas.focus();\n",
       "        this.canvas_div.focus();\n",
       "    }\n",
       "\n",
       "    var x = canvas_pos.x * mpl.ratio;\n",
       "    var y = canvas_pos.y * mpl.ratio;\n",
       "\n",
       "    this.send_message(name, {x: x, y: y, button: event.button,\n",
       "                             step: event.step,\n",
       "                             guiEvent: simpleKeys(event)});\n",
       "\n",
       "    /* This prevents the web browser from automatically changing to\n",
       "     * the text insertion cursor when the button is pressed.  We want\n",
       "     * to control all of the cursor setting manually through the\n",
       "     * 'cursor' event from matplotlib */\n",
       "    event.preventDefault();\n",
       "    return false;\n",
       "}\n",
       "\n",
       "mpl.figure.prototype._key_event_extra = function(event, name) {\n",
       "    // Handle any extra behaviour associated with a key event\n",
       "}\n",
       "\n",
       "mpl.figure.prototype.key_event = function(event, name) {\n",
       "\n",
       "    // Prevent repeat events\n",
       "    if (name == 'key_press')\n",
       "    {\n",
       "        if (event.which === this._key)\n",
       "            return;\n",
       "        else\n",
       "            this._key = event.which;\n",
       "    }\n",
       "    if (name == 'key_release')\n",
       "        this._key = null;\n",
       "\n",
       "    var value = '';\n",
       "    if (event.ctrlKey && event.which != 17)\n",
       "        value += \"ctrl+\";\n",
       "    if (event.altKey && event.which != 18)\n",
       "        value += \"alt+\";\n",
       "    if (event.shiftKey && event.which != 16)\n",
       "        value += \"shift+\";\n",
       "\n",
       "    value += 'k';\n",
       "    value += event.which.toString();\n",
       "\n",
       "    this._key_event_extra(event, name);\n",
       "\n",
       "    this.send_message(name, {key: value,\n",
       "                             guiEvent: simpleKeys(event)});\n",
       "    return false;\n",
       "}\n",
       "\n",
       "mpl.figure.prototype.toolbar_button_onclick = function(name) {\n",
       "    if (name == 'download') {\n",
       "        this.handle_save(this, null);\n",
       "    } else {\n",
       "        this.send_message(\"toolbar_button\", {name: name});\n",
       "    }\n",
       "};\n",
       "\n",
       "mpl.figure.prototype.toolbar_button_onmouseover = function(tooltip) {\n",
       "    this.message.textContent = tooltip;\n",
       "};\n",
       "mpl.toolbar_items = [[\"Home\", \"Reset original view\", \"fa fa-home icon-home\", \"home\"], [\"Back\", \"Back to previous view\", \"fa fa-arrow-left icon-arrow-left\", \"back\"], [\"Forward\", \"Forward to next view\", \"fa fa-arrow-right icon-arrow-right\", \"forward\"], [\"\", \"\", \"\", \"\"], [\"Pan\", \"Pan axes with left mouse, zoom with right\", \"fa fa-arrows icon-move\", \"pan\"], [\"Zoom\", \"Zoom to rectangle\", \"fa fa-square-o icon-check-empty\", \"zoom\"], [\"\", \"\", \"\", \"\"], [\"Download\", \"Download plot\", \"fa fa-floppy-o icon-save\", \"download\"]];\n",
       "\n",
       "mpl.extensions = [\"eps\", \"jpeg\", \"pdf\", \"png\", \"ps\", \"raw\", \"svg\", \"tif\"];\n",
       "\n",
       "mpl.default_extension = \"png\";var comm_websocket_adapter = function(comm) {\n",
       "    // Create a \"websocket\"-like object which calls the given IPython comm\n",
       "    // object with the appropriate methods. Currently this is a non binary\n",
       "    // socket, so there is still some room for performance tuning.\n",
       "    var ws = {};\n",
       "\n",
       "    ws.close = function() {\n",
       "        comm.close()\n",
       "    };\n",
       "    ws.send = function(m) {\n",
       "        //console.log('sending', m);\n",
       "        comm.send(m);\n",
       "    };\n",
       "    // Register the callback with on_msg.\n",
       "    comm.on_msg(function(msg) {\n",
       "        //console.log('receiving', msg['content']['data'], msg);\n",
       "        // Pass the mpl event to the overridden (by mpl) onmessage function.\n",
       "        ws.onmessage(msg['content']['data'])\n",
       "    });\n",
       "    return ws;\n",
       "}\n",
       "\n",
       "mpl.mpl_figure_comm = function(comm, msg) {\n",
       "    // This is the function which gets called when the mpl process\n",
       "    // starts-up an IPython Comm through the \"matplotlib\" channel.\n",
       "\n",
       "    var id = msg.content.data.id;\n",
       "    // Get hold of the div created by the display call when the Comm\n",
       "    // socket was opened in Python.\n",
       "    var element = $(\"#\" + id);\n",
       "    var ws_proxy = comm_websocket_adapter(comm)\n",
       "\n",
       "    function ondownload(figure, format) {\n",
       "        window.open(figure.imageObj.src);\n",
       "    }\n",
       "\n",
       "    var fig = new mpl.figure(id, ws_proxy,\n",
       "                           ondownload,\n",
       "                           element.get(0));\n",
       "\n",
       "    // Call onopen now - mpl needs it, as it is assuming we've passed it a real\n",
       "    // web socket which is closed, not our websocket->open comm proxy.\n",
       "    ws_proxy.onopen();\n",
       "\n",
       "    fig.parent_element = element.get(0);\n",
       "    fig.cell_info = mpl.find_output_cell(\"<div id='\" + id + \"'></div>\");\n",
       "    if (!fig.cell_info) {\n",
       "        console.error(\"Failed to find cell for figure\", id, fig);\n",
       "        return;\n",
       "    }\n",
       "\n",
       "    var output_index = fig.cell_info[2]\n",
       "    var cell = fig.cell_info[0];\n",
       "\n",
       "};\n",
       "\n",
       "mpl.figure.prototype.handle_close = function(fig, msg) {\n",
       "    var width = fig.canvas.width/mpl.ratio\n",
       "    fig.root.unbind('remove')\n",
       "\n",
       "    // Update the output cell to use the data from the current canvas.\n",
       "    fig.push_to_output();\n",
       "    var dataURL = fig.canvas.toDataURL();\n",
       "    // Re-enable the keyboard manager in IPython - without this line, in FF,\n",
       "    // the notebook keyboard shortcuts fail.\n",
       "    IPython.keyboard_manager.enable()\n",
       "    $(fig.parent_element).html('<img src=\"' + dataURL + '\" width=\"' + width + '\">');\n",
       "    fig.close_ws(fig, msg);\n",
       "}\n",
       "\n",
       "mpl.figure.prototype.close_ws = function(fig, msg){\n",
       "    fig.send_message('closing', msg);\n",
       "    // fig.ws.close()\n",
       "}\n",
       "\n",
       "mpl.figure.prototype.push_to_output = function(remove_interactive) {\n",
       "    // Turn the data on the canvas into data in the output cell.\n",
       "    var width = this.canvas.width/mpl.ratio\n",
       "    var dataURL = this.canvas.toDataURL();\n",
       "    this.cell_info[1]['text/html'] = '<img src=\"' + dataURL + '\" width=\"' + width + '\">';\n",
       "}\n",
       "\n",
       "mpl.figure.prototype.updated_canvas_event = function() {\n",
       "    // Tell IPython that the notebook contents must change.\n",
       "    IPython.notebook.set_dirty(true);\n",
       "    this.send_message(\"ack\", {});\n",
       "    var fig = this;\n",
       "    // Wait a second, then push the new image to the DOM so\n",
       "    // that it is saved nicely (might be nice to debounce this).\n",
       "    setTimeout(function () { fig.push_to_output() }, 1000);\n",
       "}\n",
       "\n",
       "mpl.figure.prototype._init_toolbar = function() {\n",
       "    var fig = this;\n",
       "\n",
       "    var nav_element = $('<div/>');\n",
       "    nav_element.attr('style', 'width: 100%');\n",
       "    this.root.append(nav_element);\n",
       "\n",
       "    // Define a callback function for later on.\n",
       "    function toolbar_event(event) {\n",
       "        return fig.toolbar_button_onclick(event['data']);\n",
       "    }\n",
       "    function toolbar_mouse_event(event) {\n",
       "        return fig.toolbar_button_onmouseover(event['data']);\n",
       "    }\n",
       "\n",
       "    for(var toolbar_ind in mpl.toolbar_items){\n",
       "        var name = mpl.toolbar_items[toolbar_ind][0];\n",
       "        var tooltip = mpl.toolbar_items[toolbar_ind][1];\n",
       "        var image = mpl.toolbar_items[toolbar_ind][2];\n",
       "        var method_name = mpl.toolbar_items[toolbar_ind][3];\n",
       "\n",
       "        if (!name) { continue; };\n",
       "\n",
       "        var button = $('<button class=\"btn btn-default\" href=\"#\" title=\"' + name + '\"><i class=\"fa ' + image + ' fa-lg\"></i></button>');\n",
       "        button.click(method_name, toolbar_event);\n",
       "        button.mouseover(tooltip, toolbar_mouse_event);\n",
       "        nav_element.append(button);\n",
       "    }\n",
       "\n",
       "    // Add the status bar.\n",
       "    var status_bar = $('<span class=\"mpl-message\" style=\"text-align:right; float: right;\"/>');\n",
       "    nav_element.append(status_bar);\n",
       "    this.message = status_bar[0];\n",
       "\n",
       "    // Add the close button to the window.\n",
       "    var buttongrp = $('<div class=\"btn-group inline pull-right\"></div>');\n",
       "    var button = $('<button class=\"btn btn-mini btn-primary\" href=\"#\" title=\"Stop Interaction\"><i class=\"fa fa-power-off icon-remove icon-large\"></i></button>');\n",
       "    button.click(function (evt) { fig.handle_close(fig, {}); } );\n",
       "    button.mouseover('Stop Interaction', toolbar_mouse_event);\n",
       "    buttongrp.append(button);\n",
       "    var titlebar = this.root.find($('.ui-dialog-titlebar'));\n",
       "    titlebar.prepend(buttongrp);\n",
       "}\n",
       "\n",
       "mpl.figure.prototype._root_extra_style = function(el){\n",
       "    var fig = this\n",
       "    el.on(\"remove\", function(){\n",
       "\tfig.close_ws(fig, {});\n",
       "    });\n",
       "}\n",
       "\n",
       "mpl.figure.prototype._canvas_extra_style = function(el){\n",
       "    // this is important to make the div 'focusable\n",
       "    el.attr('tabindex', 0)\n",
       "    // reach out to IPython and tell the keyboard manager to turn it's self\n",
       "    // off when our div gets focus\n",
       "\n",
       "    // location in version 3\n",
       "    if (IPython.notebook.keyboard_manager) {\n",
       "        IPython.notebook.keyboard_manager.register_events(el);\n",
       "    }\n",
       "    else {\n",
       "        // location in version 2\n",
       "        IPython.keyboard_manager.register_events(el);\n",
       "    }\n",
       "\n",
       "}\n",
       "\n",
       "mpl.figure.prototype._key_event_extra = function(event, name) {\n",
       "    var manager = IPython.notebook.keyboard_manager;\n",
       "    if (!manager)\n",
       "        manager = IPython.keyboard_manager;\n",
       "\n",
       "    // Check for shift+enter\n",
       "    if (event.shiftKey && event.which == 13) {\n",
       "        this.canvas_div.blur();\n",
       "        // select the cell after this one\n",
       "        var index = IPython.notebook.find_cell_index(this.cell_info[0]);\n",
       "        IPython.notebook.select(index + 1);\n",
       "    }\n",
       "}\n",
       "\n",
       "mpl.figure.prototype.handle_save = function(fig, msg) {\n",
       "    fig.ondownload(fig, null);\n",
       "}\n",
       "\n",
       "\n",
       "mpl.find_output_cell = function(html_output) {\n",
       "    // Return the cell and output element which can be found *uniquely* in the notebook.\n",
       "    // Note - this is a bit hacky, but it is done because the \"notebook_saving.Notebook\"\n",
       "    // IPython event is triggered only after the cells have been serialised, which for\n",
       "    // our purposes (turning an active figure into a static one), is too late.\n",
       "    var cells = IPython.notebook.get_cells();\n",
       "    var ncells = cells.length;\n",
       "    for (var i=0; i<ncells; i++) {\n",
       "        var cell = cells[i];\n",
       "        if (cell.cell_type === 'code'){\n",
       "            for (var j=0; j<cell.output_area.outputs.length; j++) {\n",
       "                var data = cell.output_area.outputs[j];\n",
       "                if (data.data) {\n",
       "                    // IPython >= 3 moved mimebundle to data attribute of output\n",
       "                    data = data.data;\n",
       "                }\n",
       "                if (data['text/html'] == html_output) {\n",
       "                    return [cell, data, j];\n",
       "                }\n",
       "            }\n",
       "        }\n",
       "    }\n",
       "}\n",
       "\n",
       "// Register the function which deals with the matplotlib target/channel.\n",
       "// The kernel may be null if the page has been refreshed.\n",
       "if (IPython.notebook.kernel != null) {\n",
       "    IPython.notebook.kernel.comm_manager.register_target('matplotlib', mpl.mpl_figure_comm);\n",
       "}\n"
      ],
      "text/plain": [
       "<IPython.core.display.Javascript object>"
      ]
     },
     "metadata": {},
     "output_type": "display_data"
    },
    {
     "data": {
      "text/html": [
       "<img src=\"data:image/png;base64,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\" width=\"999.7333333333333\">"
      ],
      "text/plain": [
       "<IPython.core.display.HTML object>"
      ]
     },
     "metadata": {},
     "output_type": "display_data"
    }
   ],
   "source": [
    "ax, tax, lax, lines = dual_train_plots()\n",
    "fig = ax.figure\n",
    "plt.tight_layout()"
   ]
  },
  {
   "cell_type": "code",
   "execution_count": 20,
   "metadata": {},
   "outputs": [
    {
     "name": "stdout",
     "output_type": "stream",
     "text": [
      "Number of batches: train = 10938, val = 12500\n"
     ]
    },
    {
     "data": {
      "application/vnd.jupyter.widget-view+json": {
       "model_id": "e55ae95ff9d94977934a60f6d5ccfaae",
       "version_major": 2,
       "version_minor": 0
      },
      "text/plain": [
       "HBox(children=(FloatProgress(value=0.0, description='Epochs', layout=Layout(flex='2'), style=ProgressStyle(des…"
      ]
     },
     "metadata": {},
     "output_type": "display_data"
    },
    {
     "name": "stdout",
     "output_type": "stream",
     "text": [
      "Number of batches: train = 10938, val = 12500\n"
     ]
    },
    {
     "data": {
      "application/vnd.jupyter.widget-view+json": {
       "model_id": "",
       "version_major": 2,
       "version_minor": 0
      },
      "text/plain": [
       "HBox(children=(FloatProgress(value=0.0, description='Training', layout=Layout(flex='2'), max=10938.0, style=Pr…"
      ]
     },
     "metadata": {},
     "output_type": "display_data"
    },
    {
     "name": "stdout",
     "output_type": "stream",
     "text": [
      "Epoch 0: train=8.20413, val=7.62575, took 130.05 s\n"
     ]
    },
    {
     "data": {
      "application/vnd.jupyter.widget-view+json": {
       "model_id": "",
       "version_major": 2,
       "version_minor": 0
      },
      "text/plain": [
       "HBox(children=(FloatProgress(value=0.0, description='Training', layout=Layout(flex='2'), max=10938.0, style=Pr…"
      ]
     },
     "metadata": {},
     "output_type": "display_data"
    },
    {
     "name": "stdout",
     "output_type": "stream",
     "text": [
      "Epoch 1: train=7.5851, val=7.56656, took 126.07 s\n"
     ]
    },
    {
     "data": {
      "application/vnd.jupyter.widget-view+json": {
       "model_id": "",
       "version_major": 2,
       "version_minor": 0
      },
      "text/plain": [
       "HBox(children=(FloatProgress(value=0.0, description='Training', layout=Layout(flex='2'), max=10938.0, style=Pr…"
      ]
     },
     "metadata": {},
     "output_type": "display_data"
    },
    {
     "name": "stdout",
     "output_type": "stream",
     "text": [
      "Epoch 2: train=7.53368, val=7.48665, took 119.99 s\n"
     ]
    },
    {
     "data": {
      "application/vnd.jupyter.widget-view+json": {
       "model_id": "",
       "version_major": 2,
       "version_minor": 0
      },
      "text/plain": [
       "HBox(children=(FloatProgress(value=0.0, description='Training', layout=Layout(flex='2'), max=10938.0, style=Pr…"
      ]
     },
     "metadata": {},
     "output_type": "display_data"
    },
    {
     "name": "stdout",
     "output_type": "stream",
     "text": [
      "Epoch 3: train=7.37553, val=7.2244, took 117.73 s\n"
     ]
    },
    {
     "data": {
      "application/vnd.jupyter.widget-view+json": {
       "model_id": "",
       "version_major": 2,
       "version_minor": 0
      },
      "text/plain": [
       "HBox(children=(FloatProgress(value=0.0, description='Training', layout=Layout(flex='2'), max=10938.0, style=Pr…"
      ]
     },
     "metadata": {},
     "output_type": "display_data"
    },
    {
     "name": "stdout",
     "output_type": "stream",
     "text": [
      "Epoch 4: train=6.98362, val=6.69311, took 117.43 s\n"
     ]
    },
    {
     "data": {
      "application/vnd.jupyter.widget-view+json": {
       "model_id": "",
       "version_major": 2,
       "version_minor": 0
      },
      "text/plain": [
       "HBox(children=(FloatProgress(value=0.0, description='Training', layout=Layout(flex='2'), max=10938.0, style=Pr…"
      ]
     },
     "metadata": {},
     "output_type": "display_data"
    },
    {
     "name": "stdout",
     "output_type": "stream",
     "text": [
      "Epoch 5: train=6.43086, val=6.21612, took 120.37 s\n"
     ]
    },
    {
     "data": {
      "application/vnd.jupyter.widget-view+json": {
       "model_id": "",
       "version_major": 2,
       "version_minor": 0
      },
      "text/plain": [
       "HBox(children=(FloatProgress(value=0.0, description='Training', layout=Layout(flex='2'), max=10938.0, style=Pr…"
      ]
     },
     "metadata": {},
     "output_type": "display_data"
    },
    {
     "name": "stdout",
     "output_type": "stream",
     "text": [
      "Epoch 6: train=6.07192, val=5.95385, took 116.78 s\n"
     ]
    },
    {
     "data": {
      "application/vnd.jupyter.widget-view+json": {
       "model_id": "",
       "version_major": 2,
       "version_minor": 0
      },
      "text/plain": [
       "HBox(children=(FloatProgress(value=0.0, description='Training', layout=Layout(flex='2'), max=10938.0, style=Pr…"
      ]
     },
     "metadata": {},
     "output_type": "display_data"
    },
    {
     "name": "stdout",
     "output_type": "stream",
     "text": [
      "Epoch 7: train=5.85889, val=5.76996, took 116.88 s\n"
     ]
    },
    {
     "data": {
      "application/vnd.jupyter.widget-view+json": {
       "model_id": "",
       "version_major": 2,
       "version_minor": 0
      },
      "text/plain": [
       "HBox(children=(FloatProgress(value=0.0, description='Training', layout=Layout(flex='2'), max=10938.0, style=Pr…"
      ]
     },
     "metadata": {},
     "output_type": "display_data"
    },
    {
     "name": "stdout",
     "output_type": "stream",
     "text": [
      "Epoch 8: train=5.67597, val=5.57315, took 124.33 s\n"
     ]
    },
    {
     "data": {
      "application/vnd.jupyter.widget-view+json": {
       "model_id": "",
       "version_major": 2,
       "version_minor": 0
      },
      "text/plain": [
       "HBox(children=(FloatProgress(value=0.0, description='Training', layout=Layout(flex='2'), max=10938.0, style=Pr…"
      ]
     },
     "metadata": {},
     "output_type": "display_data"
    },
    {
     "name": "stdout",
     "output_type": "stream",
     "text": [
      "Epoch 9: train=5.43143, val=5.27251, took 128.42 s\n"
     ]
    },
    {
     "data": {
      "application/vnd.jupyter.widget-view+json": {
       "model_id": "",
       "version_major": 2,
       "version_minor": 0
      },
      "text/plain": [
       "HBox(children=(FloatProgress(value=0.0, description='Training', layout=Layout(flex='2'), max=10938.0, style=Pr…"
      ]
     },
     "metadata": {},
     "output_type": "display_data"
    },
    {
     "name": "stdout",
     "output_type": "stream",
     "text": [
      "Epoch 10: train=5.07358, val=4.83528, took 120.74 s\n"
     ]
    },
    {
     "data": {
      "application/vnd.jupyter.widget-view+json": {
       "model_id": "",
       "version_major": 2,
       "version_minor": 0
      },
      "text/plain": [
       "HBox(children=(FloatProgress(value=0.0, description='Training', layout=Layout(flex='2'), max=10938.0, style=Pr…"
      ]
     },
     "metadata": {},
     "output_type": "display_data"
    },
    {
     "name": "stdout",
     "output_type": "stream",
     "text": [
      "Epoch 11: train=4.57421, val=4.3264, took 125.6 s\n"
     ]
    },
    {
     "data": {
      "application/vnd.jupyter.widget-view+json": {
       "model_id": "",
       "version_major": 2,
       "version_minor": 0
      },
      "text/plain": [
       "HBox(children=(FloatProgress(value=0.0, description='Training', layout=Layout(flex='2'), max=10938.0, style=Pr…"
      ]
     },
     "metadata": {},
     "output_type": "display_data"
    },
    {
     "name": "stdout",
     "output_type": "stream",
     "text": [
      "Epoch 12: train=4.11664, val=3.92204, took 127.77 s\n"
     ]
    },
    {
     "data": {
      "application/vnd.jupyter.widget-view+json": {
       "model_id": "",
       "version_major": 2,
       "version_minor": 0
      },
      "text/plain": [
       "HBox(children=(FloatProgress(value=0.0, description='Training', layout=Layout(flex='2'), max=10938.0, style=Pr…"
      ]
     },
     "metadata": {},
     "output_type": "display_data"
    },
    {
     "name": "stdout",
     "output_type": "stream",
     "text": [
      "Epoch 13: train=3.75676, val=3.59819, took 126.35 s\n"
     ]
    },
    {
     "data": {
      "application/vnd.jupyter.widget-view+json": {
       "model_id": "",
       "version_major": 2,
       "version_minor": 0
      },
      "text/plain": [
       "HBox(children=(FloatProgress(value=0.0, description='Training', layout=Layout(flex='2'), max=10938.0, style=Pr…"
      ]
     },
     "metadata": {},
     "output_type": "display_data"
    },
    {
     "name": "stdout",
     "output_type": "stream",
     "text": [
      "Epoch 14: train=3.45745, val=3.31671, took 120.61 s\n"
     ]
    },
    {
     "data": {
      "application/vnd.jupyter.widget-view+json": {
       "model_id": "",
       "version_major": 2,
       "version_minor": 0
      },
      "text/plain": [
       "HBox(children=(FloatProgress(value=0.0, description='Training', layout=Layout(flex='2'), max=10938.0, style=Pr…"
      ]
     },
     "metadata": {},
     "output_type": "display_data"
    },
    {
     "name": "stdout",
     "output_type": "stream",
     "text": [
      "Epoch 15: train=3.18859, val=3.06098, took 123.75 s\n"
     ]
    },
    {
     "data": {
      "application/vnd.jupyter.widget-view+json": {
       "model_id": "",
       "version_major": 2,
       "version_minor": 0
      },
      "text/plain": [
       "HBox(children=(FloatProgress(value=0.0, description='Training', layout=Layout(flex='2'), max=10938.0, style=Pr…"
      ]
     },
     "metadata": {},
     "output_type": "display_data"
    },
    {
     "name": "stdout",
     "output_type": "stream",
     "text": [
      "Epoch 16: train=2.94838, val=2.8363, took 124.78 s\n"
     ]
    },
    {
     "data": {
      "application/vnd.jupyter.widget-view+json": {
       "model_id": "",
       "version_major": 2,
       "version_minor": 0
      },
      "text/plain": [
       "HBox(children=(FloatProgress(value=0.0, description='Training', layout=Layout(flex='2'), max=10938.0, style=Pr…"
      ]
     },
     "metadata": {},
     "output_type": "display_data"
    },
    {
     "name": "stdout",
     "output_type": "stream",
     "text": [
      "Epoch 17: train=2.73766, val=2.63884, took 124.2 s\n"
     ]
    },
    {
     "data": {
      "application/vnd.jupyter.widget-view+json": {
       "model_id": "",
       "version_major": 2,
       "version_minor": 0
      },
      "text/plain": [
       "HBox(children=(FloatProgress(value=0.0, description='Training', layout=Layout(flex='2'), max=10938.0, style=Pr…"
      ]
     },
     "metadata": {},
     "output_type": "display_data"
    },
    {
     "name": "stdout",
     "output_type": "stream",
     "text": [
      "Epoch 18: train=2.55144, val=2.4634, took 123.41 s\n"
     ]
    },
    {
     "data": {
      "application/vnd.jupyter.widget-view+json": {
       "model_id": "",
       "version_major": 2,
       "version_minor": 0
      },
      "text/plain": [
       "HBox(children=(FloatProgress(value=0.0, description='Training', layout=Layout(flex='2'), max=10938.0, style=Pr…"
      ]
     },
     "metadata": {},
     "output_type": "display_data"
    },
    {
     "name": "stdout",
     "output_type": "stream",
     "text": [
      "Epoch 19: train=2.38496, val=2.30578, took 123.42 s\n"
     ]
    },
    {
     "data": {
      "application/vnd.jupyter.widget-view+json": {
       "model_id": "",
       "version_major": 2,
       "version_minor": 0
      },
      "text/plain": [
       "HBox(children=(FloatProgress(value=0.0, description='Training', layout=Layout(flex='2'), max=10938.0, style=Pr…"
      ]
     },
     "metadata": {},
     "output_type": "display_data"
    },
    {
     "name": "stdout",
     "output_type": "stream",
     "text": [
      "Epoch 20: train=2.23487, val=2.16454, took 119.14 s\n"
     ]
    },
    {
     "data": {
      "application/vnd.jupyter.widget-view+json": {
       "model_id": "",
       "version_major": 2,
       "version_minor": 0
      },
      "text/plain": [
       "HBox(children=(FloatProgress(value=0.0, description='Training', layout=Layout(flex='2'), max=10938.0, style=Pr…"
      ]
     },
     "metadata": {},
     "output_type": "display_data"
    },
    {
     "name": "stdout",
     "output_type": "stream",
     "text": [
      "Epoch 21: train=2.10219, val=2.04084, took 121.15 s\n"
     ]
    },
    {
     "data": {
      "application/vnd.jupyter.widget-view+json": {
       "model_id": "",
       "version_major": 2,
       "version_minor": 0
      },
      "text/plain": [
       "HBox(children=(FloatProgress(value=0.0, description='Training', layout=Layout(flex='2'), max=10938.0, style=Pr…"
      ]
     },
     "metadata": {},
     "output_type": "display_data"
    },
    {
     "name": "stdout",
     "output_type": "stream",
     "text": [
      "Epoch 22: train=1.98639, val=1.9329, took 125.77 s\n"
     ]
    },
    {
     "data": {
      "application/vnd.jupyter.widget-view+json": {
       "model_id": "",
       "version_major": 2,
       "version_minor": 0
      },
      "text/plain": [
       "HBox(children=(FloatProgress(value=0.0, description='Training', layout=Layout(flex='2'), max=10938.0, style=Pr…"
      ]
     },
     "metadata": {},
     "output_type": "display_data"
    },
    {
     "name": "stdout",
     "output_type": "stream",
     "text": [
      "Epoch 23: train=1.88601, val=1.83979, took 124.37 s\n"
     ]
    },
    {
     "data": {
      "application/vnd.jupyter.widget-view+json": {
       "model_id": "",
       "version_major": 2,
       "version_minor": 0
      },
      "text/plain": [
       "HBox(children=(FloatProgress(value=0.0, description='Training', layout=Layout(flex='2'), max=10938.0, style=Pr…"
      ]
     },
     "metadata": {},
     "output_type": "display_data"
    },
    {
     "name": "stdout",
     "output_type": "stream",
     "text": [
      "Epoch 24: train=1.79845, val=1.75698, took 117.13 s\n"
     ]
    },
    {
     "data": {
      "application/vnd.jupyter.widget-view+json": {
       "model_id": "",
       "version_major": 2,
       "version_minor": 0
      },
      "text/plain": [
       "HBox(children=(FloatProgress(value=0.0, description='Training', layout=Layout(flex='2'), max=10938.0, style=Pr…"
      ]
     },
     "metadata": {},
     "output_type": "display_data"
    },
    {
     "name": "stdout",
     "output_type": "stream",
     "text": [
      "Epoch 25: train=1.72151, val=1.68618, took 116.72 s\n"
     ]
    },
    {
     "data": {
      "application/vnd.jupyter.widget-view+json": {
       "model_id": "",
       "version_major": 2,
       "version_minor": 0
      },
      "text/plain": [
       "HBox(children=(FloatProgress(value=0.0, description='Training', layout=Layout(flex='2'), max=10938.0, style=Pr…"
      ]
     },
     "metadata": {},
     "output_type": "display_data"
    },
    {
     "name": "stdout",
     "output_type": "stream",
     "text": [
      "Epoch 26: train=1.6524, val=1.61588, took 120.95 s\n"
     ]
    },
    {
     "data": {
      "application/vnd.jupyter.widget-view+json": {
       "model_id": "",
       "version_major": 2,
       "version_minor": 0
      },
      "text/plain": [
       "HBox(children=(FloatProgress(value=0.0, description='Training', layout=Layout(flex='2'), max=10938.0, style=Pr…"
      ]
     },
     "metadata": {},
     "output_type": "display_data"
    },
    {
     "name": "stdout",
     "output_type": "stream",
     "text": [
      "Epoch 27: train=1.58366, val=1.55441, took 129.63 s\n"
     ]
    },
    {
     "data": {
      "application/vnd.jupyter.widget-view+json": {
       "model_id": "",
       "version_major": 2,
       "version_minor": 0
      },
      "text/plain": [
       "HBox(children=(FloatProgress(value=0.0, description='Training', layout=Layout(flex='2'), max=10938.0, style=Pr…"
      ]
     },
     "metadata": {},
     "output_type": "display_data"
    },
    {
     "name": "stdout",
     "output_type": "stream",
     "text": [
      "Epoch 28: train=1.53123, val=1.5079, took 211.6 s\n"
     ]
    },
    {
     "data": {
      "application/vnd.jupyter.widget-view+json": {
       "model_id": "",
       "version_major": 2,
       "version_minor": 0
      },
      "text/plain": [
       "HBox(children=(FloatProgress(value=0.0, description='Training', layout=Layout(flex='2'), max=10938.0, style=Pr…"
      ]
     },
     "metadata": {},
     "output_type": "display_data"
    },
    {
     "name": "stdout",
     "output_type": "stream",
     "text": [
      "Epoch 29: train=1.48847, val=1.46802, took 259.16 s\n"
     ]
    },
    {
     "data": {
      "application/vnd.jupyter.widget-view+json": {
       "model_id": "",
       "version_major": 2,
       "version_minor": 0
      },
      "text/plain": [
       "HBox(children=(FloatProgress(value=0.0, description='Training', layout=Layout(flex='2'), max=10938.0, style=Pr…"
      ]
     },
     "metadata": {},
     "output_type": "display_data"
    },
    {
     "name": "stdout",
     "output_type": "stream",
     "text": [
      "Epoch 30: train=1.45125, val=1.43303, took 270.95 s\n"
     ]
    },
    {
     "data": {
      "application/vnd.jupyter.widget-view+json": {
       "model_id": "",
       "version_major": 2,
       "version_minor": 0
      },
      "text/plain": [
       "HBox(children=(FloatProgress(value=0.0, description='Training', layout=Layout(flex='2'), max=10938.0, style=Pr…"
      ]
     },
     "metadata": {},
     "output_type": "display_data"
    },
    {
     "name": "stdout",
     "output_type": "stream",
     "text": [
      "Epoch 31: train=1.41833, val=1.40184, took 296.36 s\n"
     ]
    },
    {
     "data": {
      "application/vnd.jupyter.widget-view+json": {
       "model_id": "",
       "version_major": 2,
       "version_minor": 0
      },
      "text/plain": [
       "HBox(children=(FloatProgress(value=0.0, description='Training', layout=Layout(flex='2'), max=10938.0, style=Pr…"
      ]
     },
     "metadata": {},
     "output_type": "display_data"
    },
    {
     "name": "stdout",
     "output_type": "stream",
     "text": [
      "Epoch 32: train=1.389, val=1.37402, took 141.06 s\n"
     ]
    },
    {
     "data": {
      "application/vnd.jupyter.widget-view+json": {
       "model_id": "",
       "version_major": 2,
       "version_minor": 0
      },
      "text/plain": [
       "HBox(children=(FloatProgress(value=0.0, description='Training', layout=Layout(flex='2'), max=10938.0, style=Pr…"
      ]
     },
     "metadata": {},
     "output_type": "display_data"
    },
    {
     "name": "stdout",
     "output_type": "stream",
     "text": [
      "Epoch 33: train=1.36271, val=1.34907, took 130.97 s\n"
     ]
    },
    {
     "data": {
      "application/vnd.jupyter.widget-view+json": {
       "model_id": "",
       "version_major": 2,
       "version_minor": 0
      },
      "text/plain": [
       "HBox(children=(FloatProgress(value=0.0, description='Training', layout=Layout(flex='2'), max=10938.0, style=Pr…"
      ]
     },
     "metadata": {},
     "output_type": "display_data"
    },
    {
     "name": "stdout",
     "output_type": "stream",
     "text": [
      "Epoch 34: train=1.33901, val=1.32644, took 188.25 s\n"
     ]
    },
    {
     "data": {
      "application/vnd.jupyter.widget-view+json": {
       "model_id": "",
       "version_major": 2,
       "version_minor": 0
      },
      "text/plain": [
       "HBox(children=(FloatProgress(value=0.0, description='Training', layout=Layout(flex='2'), max=10938.0, style=Pr…"
      ]
     },
     "metadata": {},
     "output_type": "display_data"
    },
    {
     "name": "stdout",
     "output_type": "stream",
     "text": [
      "Epoch 35: train=1.31756, val=1.3059, took 270.79 s\n"
     ]
    },
    {
     "data": {
      "application/vnd.jupyter.widget-view+json": {
       "model_id": "",
       "version_major": 2,
       "version_minor": 0
      },
      "text/plain": [
       "HBox(children=(FloatProgress(value=0.0, description='Training', layout=Layout(flex='2'), max=10938.0, style=Pr…"
      ]
     },
     "metadata": {},
     "output_type": "display_data"
    },
    {
     "name": "stdout",
     "output_type": "stream",
     "text": [
      "Epoch 36: train=1.298, val=1.28714, took 270.34 s\n"
     ]
    },
    {
     "data": {
      "application/vnd.jupyter.widget-view+json": {
       "model_id": "",
       "version_major": 2,
       "version_minor": 0
      },
      "text/plain": [
       "HBox(children=(FloatProgress(value=0.0, description='Training', layout=Layout(flex='2'), max=10938.0, style=Pr…"
      ]
     },
     "metadata": {},
     "output_type": "display_data"
    },
    {
     "name": "stdout",
     "output_type": "stream",
     "text": [
      "Epoch 37: train=1.2801, val=1.26999, took 269.45 s\n"
     ]
    },
    {
     "data": {
      "application/vnd.jupyter.widget-view+json": {
       "model_id": "",
       "version_major": 2,
       "version_minor": 0
      },
      "text/plain": [
       "HBox(children=(FloatProgress(value=0.0, description='Training', layout=Layout(flex='2'), max=10938.0, style=Pr…"
      ]
     },
     "metadata": {},
     "output_type": "display_data"
    },
    {
     "name": "stdout",
     "output_type": "stream",
     "text": [
      "Epoch 38: train=1.26365, val=1.25415, took 274.96 s\n"
     ]
    },
    {
     "data": {
      "application/vnd.jupyter.widget-view+json": {
       "model_id": "",
       "version_major": 2,
       "version_minor": 0
      },
      "text/plain": [
       "HBox(children=(FloatProgress(value=0.0, description='Training', layout=Layout(flex='2'), max=10938.0, style=Pr…"
      ]
     },
     "metadata": {},
     "output_type": "display_data"
    },
    {
     "name": "stdout",
     "output_type": "stream",
     "text": [
      "Epoch 39: train=1.24855, val=1.23945, took 343.42 s\n"
     ]
    },
    {
     "data": {
      "application/vnd.jupyter.widget-view+json": {
       "model_id": "",
       "version_major": 2,
       "version_minor": 0
      },
      "text/plain": [
       "HBox(children=(FloatProgress(value=0.0, description='Training', layout=Layout(flex='2'), max=10938.0, style=Pr…"
      ]
     },
     "metadata": {},
     "output_type": "display_data"
    },
    {
     "name": "stdout",
     "output_type": "stream",
     "text": [
      "Epoch 40: train=1.23459, val=1.22605, took 414.45 s\n"
     ]
    },
    {
     "data": {
      "application/vnd.jupyter.widget-view+json": {
       "model_id": "",
       "version_major": 2,
       "version_minor": 0
      },
      "text/plain": [
       "HBox(children=(FloatProgress(value=0.0, description='Training', layout=Layout(flex='2'), max=10938.0, style=Pr…"
      ]
     },
     "metadata": {},
     "output_type": "display_data"
    },
    {
     "name": "stdout",
     "output_type": "stream",
     "text": [
      "Epoch 41: train=1.22169, val=1.21364, took 416.6 s\n"
     ]
    },
    {
     "data": {
      "application/vnd.jupyter.widget-view+json": {
       "model_id": "",
       "version_major": 2,
       "version_minor": 0
      },
      "text/plain": [
       "HBox(children=(FloatProgress(value=0.0, description='Training', layout=Layout(flex='2'), max=10938.0, style=Pr…"
      ]
     },
     "metadata": {},
     "output_type": "display_data"
    },
    {
     "name": "stdout",
     "output_type": "stream",
     "text": [
      "Epoch 42: train=1.20968, val=1.20208, took 409.66 s\n"
     ]
    },
    {
     "data": {
      "application/vnd.jupyter.widget-view+json": {
       "model_id": "",
       "version_major": 2,
       "version_minor": 0
      },
      "text/plain": [
       "HBox(children=(FloatProgress(value=0.0, description='Training', layout=Layout(flex='2'), max=10938.0, style=Pr…"
      ]
     },
     "metadata": {},
     "output_type": "display_data"
    },
    {
     "name": "stdout",
     "output_type": "stream",
     "text": [
      "Epoch 43: train=1.19851, val=1.19131, took 405.31 s\n"
     ]
    },
    {
     "data": {
      "application/vnd.jupyter.widget-view+json": {
       "model_id": "",
       "version_major": 2,
       "version_minor": 0
      },
      "text/plain": [
       "HBox(children=(FloatProgress(value=0.0, description='Training', layout=Layout(flex='2'), max=10938.0, style=Pr…"
      ]
     },
     "metadata": {},
     "output_type": "display_data"
    },
    {
     "name": "stdout",
     "output_type": "stream",
     "text": [
      "Epoch 44: train=1.18809, val=1.18133, took 406.31 s\n"
     ]
    },
    {
     "data": {
      "application/vnd.jupyter.widget-view+json": {
       "model_id": "",
       "version_major": 2,
       "version_minor": 0
      },
      "text/plain": [
       "HBox(children=(FloatProgress(value=0.0, description='Training', layout=Layout(flex='2'), max=10938.0, style=Pr…"
      ]
     },
     "metadata": {},
     "output_type": "display_data"
    },
    {
     "name": "stdout",
     "output_type": "stream",
     "text": [
      "Epoch 45: train=1.17839, val=1.17203, took 405.07 s\n"
     ]
    },
    {
     "data": {
      "application/vnd.jupyter.widget-view+json": {
       "model_id": "",
       "version_major": 2,
       "version_minor": 0
      },
      "text/plain": [
       "HBox(children=(FloatProgress(value=0.0, description='Training', layout=Layout(flex='2'), max=10938.0, style=Pr…"
      ]
     },
     "metadata": {},
     "output_type": "display_data"
    },
    {
     "name": "stdout",
     "output_type": "stream",
     "text": [
      "Epoch 46: train=1.16933, val=1.16348, took 400.8 s\n"
     ]
    },
    {
     "data": {
      "application/vnd.jupyter.widget-view+json": {
       "model_id": "",
       "version_major": 2,
       "version_minor": 0
      },
      "text/plain": [
       "HBox(children=(FloatProgress(value=0.0, description='Training', layout=Layout(flex='2'), max=10938.0, style=Pr…"
      ]
     },
     "metadata": {},
     "output_type": "display_data"
    },
    {
     "name": "stdout",
     "output_type": "stream",
     "text": [
      "Epoch 47: train=1.16091, val=1.15535, took 402.55 s\n"
     ]
    },
    {
     "data": {
      "application/vnd.jupyter.widget-view+json": {
       "model_id": "",
       "version_major": 2,
       "version_minor": 0
      },
      "text/plain": [
       "HBox(children=(FloatProgress(value=0.0, description='Training', layout=Layout(flex='2'), max=10938.0, style=Pr…"
      ]
     },
     "metadata": {},
     "output_type": "display_data"
    },
    {
     "name": "stdout",
     "output_type": "stream",
     "text": [
      "Epoch 48: train=1.15307, val=1.1479, took 405.41 s\n"
     ]
    },
    {
     "data": {
      "application/vnd.jupyter.widget-view+json": {
       "model_id": "",
       "version_major": 2,
       "version_minor": 0
      },
      "text/plain": [
       "HBox(children=(FloatProgress(value=0.0, description='Training', layout=Layout(flex='2'), max=10938.0, style=Pr…"
      ]
     },
     "metadata": {},
     "output_type": "display_data"
    },
    {
     "name": "stdout",
     "output_type": "stream",
     "text": [
      "Epoch 49: train=1.14574, val=1.14071, took 402.6 s\n"
     ]
    },
    {
     "data": {
      "application/vnd.jupyter.widget-view+json": {
       "model_id": "",
       "version_major": 2,
       "version_minor": 0
      },
      "text/plain": [
       "HBox(children=(FloatProgress(value=0.0, description='Training', layout=Layout(flex='2'), max=10938.0, style=Pr…"
      ]
     },
     "metadata": {},
     "output_type": "display_data"
    },
    {
     "name": "stdout",
     "output_type": "stream",
     "text": [
      "Epoch 50: train=1.13895, val=1.13387, took 405.02 s\n"
     ]
    },
    {
     "data": {
      "application/vnd.jupyter.widget-view+json": {
       "model_id": "",
       "version_major": 2,
       "version_minor": 0
      },
      "text/plain": [
       "HBox(children=(FloatProgress(value=0.0, description='Training', layout=Layout(flex='2'), max=10938.0, style=Pr…"
      ]
     },
     "metadata": {},
     "output_type": "display_data"
    },
    {
     "name": "stdout",
     "output_type": "stream",
     "text": [
      "Epoch 51: train=1.13261, val=1.1278, took 409.08 s\n"
     ]
    },
    {
     "data": {
      "application/vnd.jupyter.widget-view+json": {
       "model_id": "",
       "version_major": 2,
       "version_minor": 0
      },
      "text/plain": [
       "HBox(children=(FloatProgress(value=0.0, description='Training', layout=Layout(flex='2'), max=10938.0, style=Pr…"
      ]
     },
     "metadata": {},
     "output_type": "display_data"
    },
    {
     "name": "stdout",
     "output_type": "stream",
     "text": [
      "Epoch 52: train=1.12669, val=1.12221, took 411.95 s\n"
     ]
    },
    {
     "data": {
      "application/vnd.jupyter.widget-view+json": {
       "model_id": "",
       "version_major": 2,
       "version_minor": 0
      },
      "text/plain": [
       "HBox(children=(FloatProgress(value=0.0, description='Training', layout=Layout(flex='2'), max=10938.0, style=Pr…"
      ]
     },
     "metadata": {},
     "output_type": "display_data"
    },
    {
     "name": "stdout",
     "output_type": "stream",
     "text": [
      "Epoch 53: train=1.12115, val=1.11686, took 411.87 s\n"
     ]
    },
    {
     "data": {
      "application/vnd.jupyter.widget-view+json": {
       "model_id": "",
       "version_major": 2,
       "version_minor": 0
      },
      "text/plain": [
       "HBox(children=(FloatProgress(value=0.0, description='Training', layout=Layout(flex='2'), max=10938.0, style=Pr…"
      ]
     },
     "metadata": {},
     "output_type": "display_data"
    },
    {
     "name": "stdout",
     "output_type": "stream",
     "text": [
      "Epoch 54: train=1.11598, val=1.11183, took 412.75 s\n"
     ]
    },
    {
     "data": {
      "application/vnd.jupyter.widget-view+json": {
       "model_id": "",
       "version_major": 2,
       "version_minor": 0
      },
      "text/plain": [
       "HBox(children=(FloatProgress(value=0.0, description='Training', layout=Layout(flex='2'), max=10938.0, style=Pr…"
      ]
     },
     "metadata": {},
     "output_type": "display_data"
    },
    {
     "name": "stdout",
     "output_type": "stream",
     "text": [
      "Epoch 55: train=1.11113, val=1.10716, took 416.85 s\n"
     ]
    },
    {
     "data": {
      "application/vnd.jupyter.widget-view+json": {
       "model_id": "",
       "version_major": 2,
       "version_minor": 0
      },
      "text/plain": [
       "HBox(children=(FloatProgress(value=0.0, description='Training', layout=Layout(flex='2'), max=10938.0, style=Pr…"
      ]
     },
     "metadata": {},
     "output_type": "display_data"
    },
    {
     "name": "stdout",
     "output_type": "stream",
     "text": [
      "Epoch 56: train=1.10656, val=1.10305, took 415.19 s\n"
     ]
    },
    {
     "data": {
      "application/vnd.jupyter.widget-view+json": {
       "model_id": "",
       "version_major": 2,
       "version_minor": 0
      },
      "text/plain": [
       "HBox(children=(FloatProgress(value=0.0, description='Training', layout=Layout(flex='2'), max=10938.0, style=Pr…"
      ]
     },
     "metadata": {},
     "output_type": "display_data"
    },
    {
     "name": "stdout",
     "output_type": "stream",
     "text": [
      "Epoch 57: train=1.10227, val=1.09859, took 417.61 s\n"
     ]
    },
    {
     "data": {
      "application/vnd.jupyter.widget-view+json": {
       "model_id": "",
       "version_major": 2,
       "version_minor": 0
      },
      "text/plain": [
       "HBox(children=(FloatProgress(value=0.0, description='Training', layout=Layout(flex='2'), max=10938.0, style=Pr…"
      ]
     },
     "metadata": {},
     "output_type": "display_data"
    },
    {
     "name": "stdout",
     "output_type": "stream",
     "text": [
      "Epoch 58: train=1.09824, val=1.09471, took 415.51 s\n"
     ]
    },
    {
     "data": {
      "application/vnd.jupyter.widget-view+json": {
       "model_id": "",
       "version_major": 2,
       "version_minor": 0
      },
      "text/plain": [
       "HBox(children=(FloatProgress(value=0.0, description='Training', layout=Layout(flex='2'), max=10938.0, style=Pr…"
      ]
     },
     "metadata": {},
     "output_type": "display_data"
    },
    {
     "name": "stdout",
     "output_type": "stream",
     "text": [
      "Epoch 59: train=1.09445, val=1.09079, took 419.03 s\n"
     ]
    },
    {
     "data": {
      "application/vnd.jupyter.widget-view+json": {
       "model_id": "",
       "version_major": 2,
       "version_minor": 0
      },
      "text/plain": [
       "HBox(children=(FloatProgress(value=0.0, description='Training', layout=Layout(flex='2'), max=10938.0, style=Pr…"
      ]
     },
     "metadata": {},
     "output_type": "display_data"
    },
    {
     "name": "stdout",
     "output_type": "stream",
     "text": [
      "Epoch 60: train=1.09089, val=1.08758, took 412.7 s\n"
     ]
    },
    {
     "data": {
      "application/vnd.jupyter.widget-view+json": {
       "model_id": "",
       "version_major": 2,
       "version_minor": 0
      },
      "text/plain": [
       "HBox(children=(FloatProgress(value=0.0, description='Training', layout=Layout(flex='2'), max=10938.0, style=Pr…"
      ]
     },
     "metadata": {},
     "output_type": "display_data"
    },
    {
     "name": "stdout",
     "output_type": "stream",
     "text": [
      "Epoch 61: train=1.08753, val=1.08439, took 408.09 s\n"
     ]
    },
    {
     "data": {
      "application/vnd.jupyter.widget-view+json": {
       "model_id": "",
       "version_major": 2,
       "version_minor": 0
      },
      "text/plain": [
       "HBox(children=(FloatProgress(value=0.0, description='Training', layout=Layout(flex='2'), max=10938.0, style=Pr…"
      ]
     },
     "metadata": {},
     "output_type": "display_data"
    },
    {
     "name": "stdout",
     "output_type": "stream",
     "text": [
      "Epoch 62: train=1.08435, val=1.0815, took 409.33 s\n"
     ]
    },
    {
     "data": {
      "application/vnd.jupyter.widget-view+json": {
       "model_id": "",
       "version_major": 2,
       "version_minor": 0
      },
      "text/plain": [
       "HBox(children=(FloatProgress(value=0.0, description='Training', layout=Layout(flex='2'), max=10938.0, style=Pr…"
      ]
     },
     "metadata": {},
     "output_type": "display_data"
    },
    {
     "name": "stdout",
     "output_type": "stream",
     "text": [
      "Epoch 63: train=1.08136, val=1.07842, took 409.51 s\n"
     ]
    },
    {
     "data": {
      "application/vnd.jupyter.widget-view+json": {
       "model_id": "",
       "version_major": 2,
       "version_minor": 0
      },
      "text/plain": [
       "HBox(children=(FloatProgress(value=0.0, description='Training', layout=Layout(flex='2'), max=10938.0, style=Pr…"
      ]
     },
     "metadata": {},
     "output_type": "display_data"
    },
    {
     "name": "stdout",
     "output_type": "stream",
     "text": [
      "Epoch 64: train=1.07854, val=1.07556, took 406.22 s\n"
     ]
    },
    {
     "data": {
      "application/vnd.jupyter.widget-view+json": {
       "model_id": "",
       "version_major": 2,
       "version_minor": 0
      },
      "text/plain": [
       "HBox(children=(FloatProgress(value=0.0, description='Training', layout=Layout(flex='2'), max=10938.0, style=Pr…"
      ]
     },
     "metadata": {},
     "output_type": "display_data"
    },
    {
     "name": "stdout",
     "output_type": "stream",
     "text": [
      "Epoch 65: train=1.07586, val=1.07289, took 407.77 s\n"
     ]
    },
    {
     "data": {
      "application/vnd.jupyter.widget-view+json": {
       "model_id": "",
       "version_major": 2,
       "version_minor": 0
      },
      "text/plain": [
       "HBox(children=(FloatProgress(value=0.0, description='Training', layout=Layout(flex='2'), max=10938.0, style=Pr…"
      ]
     },
     "metadata": {},
     "output_type": "display_data"
    },
    {
     "name": "stdout",
     "output_type": "stream",
     "text": [
      "Epoch 66: train=1.07329, val=1.07045, took 404.44 s\n"
     ]
    },
    {
     "data": {
      "application/vnd.jupyter.widget-view+json": {
       "model_id": "",
       "version_major": 2,
       "version_minor": 0
      },
      "text/plain": [
       "HBox(children=(FloatProgress(value=0.0, description='Training', layout=Layout(flex='2'), max=10938.0, style=Pr…"
      ]
     },
     "metadata": {},
     "output_type": "display_data"
    },
    {
     "name": "stdout",
     "output_type": "stream",
     "text": [
      "Epoch 67: train=1.07091, val=1.06828, took 403.63 s\n"
     ]
    },
    {
     "data": {
      "application/vnd.jupyter.widget-view+json": {
       "model_id": "",
       "version_major": 2,
       "version_minor": 0
      },
      "text/plain": [
       "HBox(children=(FloatProgress(value=0.0, description='Training', layout=Layout(flex='2'), max=10938.0, style=Pr…"
      ]
     },
     "metadata": {},
     "output_type": "display_data"
    },
    {
     "name": "stdout",
     "output_type": "stream",
     "text": [
      "Epoch 68: train=1.06866, val=1.06606, took 403.17 s\n"
     ]
    },
    {
     "data": {
      "application/vnd.jupyter.widget-view+json": {
       "model_id": "",
       "version_major": 2,
       "version_minor": 0
      },
      "text/plain": [
       "HBox(children=(FloatProgress(value=0.0, description='Training', layout=Layout(flex='2'), max=10938.0, style=Pr…"
      ]
     },
     "metadata": {},
     "output_type": "display_data"
    },
    {
     "name": "stdout",
     "output_type": "stream",
     "text": [
      "Epoch 69: train=1.06649, val=1.06392, took 404.97 s\n"
     ]
    },
    {
     "data": {
      "application/vnd.jupyter.widget-view+json": {
       "model_id": "",
       "version_major": 2,
       "version_minor": 0
      },
      "text/plain": [
       "HBox(children=(FloatProgress(value=0.0, description='Training', layout=Layout(flex='2'), max=10938.0, style=Pr…"
      ]
     },
     "metadata": {},
     "output_type": "display_data"
    },
    {
     "name": "stdout",
     "output_type": "stream",
     "text": [
      "Epoch 70: train=1.06442, val=1.06204, took 413.45 s\n"
     ]
    },
    {
     "data": {
      "application/vnd.jupyter.widget-view+json": {
       "model_id": "",
       "version_major": 2,
       "version_minor": 0
      },
      "text/plain": [
       "HBox(children=(FloatProgress(value=0.0, description='Training', layout=Layout(flex='2'), max=10938.0, style=Pr…"
      ]
     },
     "metadata": {},
     "output_type": "display_data"
    },
    {
     "name": "stdout",
     "output_type": "stream",
     "text": [
      "Epoch 71: train=1.06248, val=1.06017, took 412.24 s\n"
     ]
    },
    {
     "data": {
      "application/vnd.jupyter.widget-view+json": {
       "model_id": "",
       "version_major": 2,
       "version_minor": 0
      },
      "text/plain": [
       "HBox(children=(FloatProgress(value=0.0, description='Training', layout=Layout(flex='2'), max=10938.0, style=Pr…"
      ]
     },
     "metadata": {},
     "output_type": "display_data"
    },
    {
     "name": "stdout",
     "output_type": "stream",
     "text": [
      "Epoch 72: train=1.06061, val=1.05819, took 413.76 s\n"
     ]
    },
    {
     "data": {
      "application/vnd.jupyter.widget-view+json": {
       "model_id": "",
       "version_major": 2,
       "version_minor": 0
      },
      "text/plain": [
       "HBox(children=(FloatProgress(value=0.0, description='Training', layout=Layout(flex='2'), max=10938.0, style=Pr…"
      ]
     },
     "metadata": {},
     "output_type": "display_data"
    },
    {
     "name": "stdout",
     "output_type": "stream",
     "text": [
      "Epoch 73: train=1.05883, val=1.05643, took 416.77 s\n"
     ]
    },
    {
     "data": {
      "application/vnd.jupyter.widget-view+json": {
       "model_id": "",
       "version_major": 2,
       "version_minor": 0
      },
      "text/plain": [
       "HBox(children=(FloatProgress(value=0.0, description='Training', layout=Layout(flex='2'), max=10938.0, style=Pr…"
      ]
     },
     "metadata": {},
     "output_type": "display_data"
    },
    {
     "name": "stdout",
     "output_type": "stream",
     "text": [
      "Epoch 74: train=1.05714, val=1.05489, took 345.82 s\n"
     ]
    },
    {
     "data": {
      "application/vnd.jupyter.widget-view+json": {
       "model_id": "",
       "version_major": 2,
       "version_minor": 0
      },
      "text/plain": [
       "HBox(children=(FloatProgress(value=0.0, description='Training', layout=Layout(flex='2'), max=10938.0, style=Pr…"
      ]
     },
     "metadata": {},
     "output_type": "display_data"
    },
    {
     "name": "stdout",
     "output_type": "stream",
     "text": [
      "Epoch 75: train=1.0555, val=1.05361, took 255.33 s\n"
     ]
    },
    {
     "data": {
      "application/vnd.jupyter.widget-view+json": {
       "model_id": "",
       "version_major": 2,
       "version_minor": 0
      },
      "text/plain": [
       "HBox(children=(FloatProgress(value=0.0, description='Training', layout=Layout(flex='2'), max=10938.0, style=Pr…"
      ]
     },
     "metadata": {},
     "output_type": "display_data"
    },
    {
     "name": "stdout",
     "output_type": "stream",
     "text": [
      "Epoch 76: train=1.05395, val=1.05179, took 250.01 s\n"
     ]
    },
    {
     "data": {
      "application/vnd.jupyter.widget-view+json": {
       "model_id": "",
       "version_major": 2,
       "version_minor": 0
      },
      "text/plain": [
       "HBox(children=(FloatProgress(value=0.0, description='Training', layout=Layout(flex='2'), max=10938.0, style=Pr…"
      ]
     },
     "metadata": {},
     "output_type": "display_data"
    },
    {
     "name": "stdout",
     "output_type": "stream",
     "text": [
      "Epoch 77: train=1.05247, val=1.05026, took 251.58 s\n"
     ]
    },
    {
     "data": {
      "application/vnd.jupyter.widget-view+json": {
       "model_id": "",
       "version_major": 2,
       "version_minor": 0
      },
      "text/plain": [
       "HBox(children=(FloatProgress(value=0.0, description='Training', layout=Layout(flex='2'), max=10938.0, style=Pr…"
      ]
     },
     "metadata": {},
     "output_type": "display_data"
    },
    {
     "name": "stdout",
     "output_type": "stream",
     "text": [
      "Epoch 78: train=1.05103, val=1.04902, took 245.88 s\n"
     ]
    },
    {
     "data": {
      "application/vnd.jupyter.widget-view+json": {
       "model_id": "",
       "version_major": 2,
       "version_minor": 0
      },
      "text/plain": [
       "HBox(children=(FloatProgress(value=0.0, description='Training', layout=Layout(flex='2'), max=10938.0, style=Pr…"
      ]
     },
     "metadata": {},
     "output_type": "display_data"
    },
    {
     "name": "stdout",
     "output_type": "stream",
     "text": [
      "Epoch 79: train=1.04967, val=1.04771, took 235.37 s\n"
     ]
    },
    {
     "data": {
      "application/vnd.jupyter.widget-view+json": {
       "model_id": "",
       "version_major": 2,
       "version_minor": 0
      },
      "text/plain": [
       "HBox(children=(FloatProgress(value=0.0, description='Training', layout=Layout(flex='2'), max=10938.0, style=Pr…"
      ]
     },
     "metadata": {},
     "output_type": "display_data"
    },
    {
     "name": "stdout",
     "output_type": "stream",
     "text": [
      "Epoch 80: train=1.04838, val=1.04649, took 236.95 s\n"
     ]
    },
    {
     "data": {
      "application/vnd.jupyter.widget-view+json": {
       "model_id": "",
       "version_major": 2,
       "version_minor": 0
      },
      "text/plain": [
       "HBox(children=(FloatProgress(value=0.0, description='Training', layout=Layout(flex='2'), max=10938.0, style=Pr…"
      ]
     },
     "metadata": {},
     "output_type": "display_data"
    },
    {
     "name": "stdout",
     "output_type": "stream",
     "text": [
      "Epoch 81: train=1.04713, val=1.0452, took 234.87 s\n"
     ]
    },
    {
     "data": {
      "application/vnd.jupyter.widget-view+json": {
       "model_id": "",
       "version_major": 2,
       "version_minor": 0
      },
      "text/plain": [
       "HBox(children=(FloatProgress(value=0.0, description='Training', layout=Layout(flex='2'), max=10938.0, style=Pr…"
      ]
     },
     "metadata": {},
     "output_type": "display_data"
    },
    {
     "name": "stdout",
     "output_type": "stream",
     "text": [
      "Epoch 82: train=1.04592, val=1.04404, took 240.15 s\n"
     ]
    },
    {
     "data": {
      "application/vnd.jupyter.widget-view+json": {
       "model_id": "",
       "version_major": 2,
       "version_minor": 0
      },
      "text/plain": [
       "HBox(children=(FloatProgress(value=0.0, description='Training', layout=Layout(flex='2'), max=10938.0, style=Pr…"
      ]
     },
     "metadata": {},
     "output_type": "display_data"
    },
    {
     "name": "stdout",
     "output_type": "stream",
     "text": [
      "Epoch 83: train=1.04476, val=1.04283, took 238.55 s\n"
     ]
    },
    {
     "data": {
      "application/vnd.jupyter.widget-view+json": {
       "model_id": "",
       "version_major": 2,
       "version_minor": 0
      },
      "text/plain": [
       "HBox(children=(FloatProgress(value=0.0, description='Training', layout=Layout(flex='2'), max=10938.0, style=Pr…"
      ]
     },
     "metadata": {},
     "output_type": "display_data"
    },
    {
     "name": "stdout",
     "output_type": "stream",
     "text": [
      "Epoch 84: train=1.04365, val=1.04196, took 244.82 s\n"
     ]
    },
    {
     "data": {
      "application/vnd.jupyter.widget-view+json": {
       "model_id": "",
       "version_major": 2,
       "version_minor": 0
      },
      "text/plain": [
       "HBox(children=(FloatProgress(value=0.0, description='Training', layout=Layout(flex='2'), max=10938.0, style=Pr…"
      ]
     },
     "metadata": {},
     "output_type": "display_data"
    },
    {
     "name": "stdout",
     "output_type": "stream",
     "text": [
      "Epoch 85: train=1.04256, val=1.04092, took 247.32 s\n"
     ]
    },
    {
     "data": {
      "application/vnd.jupyter.widget-view+json": {
       "model_id": "",
       "version_major": 2,
       "version_minor": 0
      },
      "text/plain": [
       "HBox(children=(FloatProgress(value=0.0, description='Training', layout=Layout(flex='2'), max=10938.0, style=Pr…"
      ]
     },
     "metadata": {},
     "output_type": "display_data"
    },
    {
     "name": "stdout",
     "output_type": "stream",
     "text": [
      "Epoch 86: train=1.0415, val=1.04009, took 255.76 s\n"
     ]
    },
    {
     "data": {
      "application/vnd.jupyter.widget-view+json": {
       "model_id": "",
       "version_major": 2,
       "version_minor": 0
      },
      "text/plain": [
       "HBox(children=(FloatProgress(value=0.0, description='Training', layout=Layout(flex='2'), max=10938.0, style=Pr…"
      ]
     },
     "metadata": {},
     "output_type": "display_data"
    },
    {
     "name": "stdout",
     "output_type": "stream",
     "text": [
      "Epoch 87: train=1.04051, val=1.03909, took 236.93 s\n"
     ]
    },
    {
     "data": {
      "application/vnd.jupyter.widget-view+json": {
       "model_id": "",
       "version_major": 2,
       "version_minor": 0
      },
      "text/plain": [
       "HBox(children=(FloatProgress(value=0.0, description='Training', layout=Layout(flex='2'), max=10938.0, style=Pr…"
      ]
     },
     "metadata": {},
     "output_type": "display_data"
    },
    {
     "name": "stdout",
     "output_type": "stream",
     "text": [
      "Epoch 88: train=1.03952, val=1.03811, took 125.46 s\n"
     ]
    },
    {
     "data": {
      "application/vnd.jupyter.widget-view+json": {
       "model_id": "",
       "version_major": 2,
       "version_minor": 0
      },
      "text/plain": [
       "HBox(children=(FloatProgress(value=0.0, description='Training', layout=Layout(flex='2'), max=10938.0, style=Pr…"
      ]
     },
     "metadata": {},
     "output_type": "display_data"
    },
    {
     "name": "stdout",
     "output_type": "stream",
     "text": [
      "Epoch 89: train=1.03858, val=1.03753, took 169.08 s\n"
     ]
    },
    {
     "data": {
      "application/vnd.jupyter.widget-view+json": {
       "model_id": "",
       "version_major": 2,
       "version_minor": 0
      },
      "text/plain": [
       "HBox(children=(FloatProgress(value=0.0, description='Training', layout=Layout(flex='2'), max=10938.0, style=Pr…"
      ]
     },
     "metadata": {},
     "output_type": "display_data"
    },
    {
     "name": "stdout",
     "output_type": "stream",
     "text": [
      "Epoch 90: train=1.03769, val=1.03678, took 259.82 s\n"
     ]
    },
    {
     "data": {
      "application/vnd.jupyter.widget-view+json": {
       "model_id": "",
       "version_major": 2,
       "version_minor": 0
      },
      "text/plain": [
       "HBox(children=(FloatProgress(value=0.0, description='Training', layout=Layout(flex='2'), max=10938.0, style=Pr…"
      ]
     },
     "metadata": {},
     "output_type": "display_data"
    },
    {
     "name": "stdout",
     "output_type": "stream",
     "text": [
      "Epoch 91: train=1.03679, val=1.03583, took 258.28 s\n"
     ]
    },
    {
     "data": {
      "application/vnd.jupyter.widget-view+json": {
       "model_id": "",
       "version_major": 2,
       "version_minor": 0
      },
      "text/plain": [
       "HBox(children=(FloatProgress(value=0.0, description='Training', layout=Layout(flex='2'), max=10938.0, style=Pr…"
      ]
     },
     "metadata": {},
     "output_type": "display_data"
    },
    {
     "name": "stdout",
     "output_type": "stream",
     "text": [
      "Epoch 92: train=1.03593, val=1.03478, took 262.6 s\n"
     ]
    },
    {
     "data": {
      "application/vnd.jupyter.widget-view+json": {
       "model_id": "",
       "version_major": 2,
       "version_minor": 0
      },
      "text/plain": [
       "HBox(children=(FloatProgress(value=0.0, description='Training', layout=Layout(flex='2'), max=10938.0, style=Pr…"
      ]
     },
     "metadata": {},
     "output_type": "display_data"
    },
    {
     "name": "stdout",
     "output_type": "stream",
     "text": [
      "Epoch 93: train=1.03511, val=1.03389, took 250.31 s\n"
     ]
    },
    {
     "data": {
      "application/vnd.jupyter.widget-view+json": {
       "model_id": "",
       "version_major": 2,
       "version_minor": 0
      },
      "text/plain": [
       "HBox(children=(FloatProgress(value=0.0, description='Training', layout=Layout(flex='2'), max=10938.0, style=Pr…"
      ]
     },
     "metadata": {},
     "output_type": "display_data"
    },
    {
     "name": "stdout",
     "output_type": "stream",
     "text": [
      "Epoch 94: train=1.0343, val=1.03332, took 255.49 s\n"
     ]
    },
    {
     "data": {
      "application/vnd.jupyter.widget-view+json": {
       "model_id": "",
       "version_major": 2,
       "version_minor": 0
      },
      "text/plain": [
       "HBox(children=(FloatProgress(value=0.0, description='Training', layout=Layout(flex='2'), max=10938.0, style=Pr…"
      ]
     },
     "metadata": {},
     "output_type": "display_data"
    },
    {
     "name": "stdout",
     "output_type": "stream",
     "text": [
      "Epoch 95: train=1.03348, val=1.03259, took 253.45 s\n"
     ]
    },
    {
     "data": {
      "application/vnd.jupyter.widget-view+json": {
       "model_id": "",
       "version_major": 2,
       "version_minor": 0
      },
      "text/plain": [
       "HBox(children=(FloatProgress(value=0.0, description='Training', layout=Layout(flex='2'), max=10938.0, style=Pr…"
      ]
     },
     "metadata": {},
     "output_type": "display_data"
    },
    {
     "name": "stdout",
     "output_type": "stream",
     "text": [
      "Epoch 96: train=1.03274, val=1.03182, took 253.66 s\n"
     ]
    },
    {
     "data": {
      "application/vnd.jupyter.widget-view+json": {
       "model_id": "",
       "version_major": 2,
       "version_minor": 0
      },
      "text/plain": [
       "HBox(children=(FloatProgress(value=0.0, description='Training', layout=Layout(flex='2'), max=10938.0, style=Pr…"
      ]
     },
     "metadata": {},
     "output_type": "display_data"
    },
    {
     "name": "stdout",
     "output_type": "stream",
     "text": [
      "Epoch 97: train=1.03196, val=1.03107, took 251.4 s\n"
     ]
    },
    {
     "data": {
      "application/vnd.jupyter.widget-view+json": {
       "model_id": "",
       "version_major": 2,
       "version_minor": 0
      },
      "text/plain": [
       "HBox(children=(FloatProgress(value=0.0, description='Training', layout=Layout(flex='2'), max=10938.0, style=Pr…"
      ]
     },
     "metadata": {},
     "output_type": "display_data"
    },
    {
     "name": "stdout",
     "output_type": "stream",
     "text": [
      "Epoch 98: train=1.03124, val=1.0305, took 255.1 s\n"
     ]
    },
    {
     "data": {
      "application/vnd.jupyter.widget-view+json": {
       "model_id": "",
       "version_major": 2,
       "version_minor": 0
      },
      "text/plain": [
       "HBox(children=(FloatProgress(value=0.0, description='Training', layout=Layout(flex='2'), max=10938.0, style=Pr…"
      ]
     },
     "metadata": {},
     "output_type": "display_data"
    },
    {
     "name": "stdout",
     "output_type": "stream",
     "text": [
      "Epoch 99: train=1.03051, val=1.02984, took 256.95 s\n",
      "\n"
     ]
    }
   ],
   "source": [
    "for result in trainNet(model, optimizer, loss,\n",
    "                        train_loader, val_loader,\n",
    "                        n_epochs, epoch_start=len(results),\n",
    "                        notebook=True):\n",
    "    \n",
    "    results = results.append(pd.Series(result._asdict()), ignore_index=True)\n",
    "    xs = results.index\n",
    "    \n",
    "    # Update the plot above\n",
    "    lines['train'].set_data(results.index,results.cost)\n",
    "    lines['val'].set_data(results.index,results.val)\n",
    "    \n",
    "    #filter first cost epoch (can be really large)\n",
    "    max_cost = max(max(results.cost if len(results.cost)<2 else results.cost[1:]), max(results.val))\n",
    "    min_cost = min(min(results.cost), min(results.val))\n",
    "    \n",
    "    # The plot limits need updating too\n",
    "    \n",
    "    \n",
    "    \n",
    "    ax.set_ylim(min_cost*.9, max_cost*1.1)  \n",
    "    ax.set_xlim(-.5, len(results.cost) - .5)\n",
    "\n",
    "    \n",
    "    # Redraw the figure\n",
    "    fig.canvas.draw()\n",
    "\n",
    "    # Save each model state dictionary\n",
    "    torch.save(model.state_dict(), output / f'{name}_{result.epoch}.pyt')"
   ]
  },
  {
   "cell_type": "markdown",
   "metadata": {},
   "source": [
    "Go ahead and save the final model (even though it was also saved above):"
   ]
  },
  {
   "cell_type": "code",
   "execution_count": 22,
   "metadata": {},
   "outputs": [],
   "source": [
    "torch.save(model.state_dict(), output / f'{name}_final.pyt')"
   ]
  },
  {
   "cell_type": "markdown",
   "metadata": {},
   "source": [
    "Save the output results:"
   ]
  },
  {
   "cell_type": "code",
   "execution_count": 23,
   "metadata": {},
   "outputs": [],
   "source": [
    "results.to_hdf(f'{name}_stats.hdf5', 'results')"
   ]
  },
  {
   "cell_type": "markdown",
   "metadata": {},
   "source": [
    "Save the plot above:"
   ]
  },
  {
   "cell_type": "code",
   "execution_count": 24,
   "metadata": {},
   "outputs": [
    {
     "data": {
      "application/javascript": [
       "/* Put everything inside the global mpl namespace */\n",
       "window.mpl = {};\n",
       "\n",
       "\n",
       "mpl.get_websocket_type = function() {\n",
       "    if (typeof(WebSocket) !== 'undefined') {\n",
       "        return WebSocket;\n",
       "    } else if (typeof(MozWebSocket) !== 'undefined') {\n",
       "        return MozWebSocket;\n",
       "    } else {\n",
       "        alert('Your browser does not have WebSocket support. ' +\n",
       "              'Please try Chrome, Safari or Firefox ≥ 6. ' +\n",
       "              'Firefox 4 and 5 are also supported but you ' +\n",
       "              'have to enable WebSockets in about:config.');\n",
       "    };\n",
       "}\n",
       "\n",
       "mpl.figure = function(figure_id, websocket, ondownload, parent_element) {\n",
       "    this.id = figure_id;\n",
       "\n",
       "    this.ws = websocket;\n",
       "\n",
       "    this.supports_binary = (this.ws.binaryType != undefined);\n",
       "\n",
       "    if (!this.supports_binary) {\n",
       "        var warnings = document.getElementById(\"mpl-warnings\");\n",
       "        if (warnings) {\n",
       "            warnings.style.display = 'block';\n",
       "            warnings.textContent = (\n",
       "                \"This browser does not support binary websocket messages. \" +\n",
       "                    \"Performance may be slow.\");\n",
       "        }\n",
       "    }\n",
       "\n",
       "    this.imageObj = new Image();\n",
       "\n",
       "    this.context = undefined;\n",
       "    this.message = undefined;\n",
       "    this.canvas = undefined;\n",
       "    this.rubberband_canvas = undefined;\n",
       "    this.rubberband_context = undefined;\n",
       "    this.format_dropdown = undefined;\n",
       "\n",
       "    this.image_mode = 'full';\n",
       "\n",
       "    this.root = $('<div/>');\n",
       "    this._root_extra_style(this.root)\n",
       "    this.root.attr('style', 'display: inline-block');\n",
       "\n",
       "    $(parent_element).append(this.root);\n",
       "\n",
       "    this._init_header(this);\n",
       "    this._init_canvas(this);\n",
       "    this._init_toolbar(this);\n",
       "\n",
       "    var fig = this;\n",
       "\n",
       "    this.waiting = false;\n",
       "\n",
       "    this.ws.onopen =  function () {\n",
       "            fig.send_message(\"supports_binary\", {value: fig.supports_binary});\n",
       "            fig.send_message(\"send_image_mode\", {});\n",
       "            if (mpl.ratio != 1) {\n",
       "                fig.send_message(\"set_dpi_ratio\", {'dpi_ratio': mpl.ratio});\n",
       "            }\n",
       "            fig.send_message(\"refresh\", {});\n",
       "        }\n",
       "\n",
       "    this.imageObj.onload = function() {\n",
       "            if (fig.image_mode == 'full') {\n",
       "                // Full images could contain transparency (where diff images\n",
       "                // almost always do), so we need to clear the canvas so that\n",
       "                // there is no ghosting.\n",
       "                fig.context.clearRect(0, 0, fig.canvas.width, fig.canvas.height);\n",
       "            }\n",
       "            fig.context.drawImage(fig.imageObj, 0, 0);\n",
       "        };\n",
       "\n",
       "    this.imageObj.onunload = function() {\n",
       "        fig.ws.close();\n",
       "    }\n",
       "\n",
       "    this.ws.onmessage = this._make_on_message_function(this);\n",
       "\n",
       "    this.ondownload = ondownload;\n",
       "}\n",
       "\n",
       "mpl.figure.prototype._init_header = function() {\n",
       "    var titlebar = $(\n",
       "        '<div class=\"ui-dialog-titlebar ui-widget-header ui-corner-all ' +\n",
       "        'ui-helper-clearfix\"/>');\n",
       "    var titletext = $(\n",
       "        '<div class=\"ui-dialog-title\" style=\"width: 100%; ' +\n",
       "        'text-align: center; padding: 3px;\"/>');\n",
       "    titlebar.append(titletext)\n",
       "    this.root.append(titlebar);\n",
       "    this.header = titletext[0];\n",
       "}\n",
       "\n",
       "\n",
       "\n",
       "mpl.figure.prototype._canvas_extra_style = function(canvas_div) {\n",
       "\n",
       "}\n",
       "\n",
       "\n",
       "mpl.figure.prototype._root_extra_style = function(canvas_div) {\n",
       "\n",
       "}\n",
       "\n",
       "mpl.figure.prototype._init_canvas = function() {\n",
       "    var fig = this;\n",
       "\n",
       "    var canvas_div = $('<div/>');\n",
       "\n",
       "    canvas_div.attr('style', 'position: relative; clear: both; outline: 0');\n",
       "\n",
       "    function canvas_keyboard_event(event) {\n",
       "        return fig.key_event(event, event['data']);\n",
       "    }\n",
       "\n",
       "    canvas_div.keydown('key_press', canvas_keyboard_event);\n",
       "    canvas_div.keyup('key_release', canvas_keyboard_event);\n",
       "    this.canvas_div = canvas_div\n",
       "    this._canvas_extra_style(canvas_div)\n",
       "    this.root.append(canvas_div);\n",
       "\n",
       "    var canvas = $('<canvas/>');\n",
       "    canvas.addClass('mpl-canvas');\n",
       "    canvas.attr('style', \"left: 0; top: 0; z-index: 0; outline: 0\")\n",
       "\n",
       "    this.canvas = canvas[0];\n",
       "    this.context = canvas[0].getContext(\"2d\");\n",
       "\n",
       "    var backingStore = this.context.backingStorePixelRatio ||\n",
       "\tthis.context.webkitBackingStorePixelRatio ||\n",
       "\tthis.context.mozBackingStorePixelRatio ||\n",
       "\tthis.context.msBackingStorePixelRatio ||\n",
       "\tthis.context.oBackingStorePixelRatio ||\n",
       "\tthis.context.backingStorePixelRatio || 1;\n",
       "\n",
       "    mpl.ratio = (window.devicePixelRatio || 1) / backingStore;\n",
       "\n",
       "    var rubberband = $('<canvas/>');\n",
       "    rubberband.attr('style', \"position: absolute; left: 0; top: 0; z-index: 1;\")\n",
       "\n",
       "    var pass_mouse_events = true;\n",
       "\n",
       "    canvas_div.resizable({\n",
       "        start: function(event, ui) {\n",
       "            pass_mouse_events = false;\n",
       "        },\n",
       "        resize: function(event, ui) {\n",
       "            fig.request_resize(ui.size.width, ui.size.height);\n",
       "        },\n",
       "        stop: function(event, ui) {\n",
       "            pass_mouse_events = true;\n",
       "            fig.request_resize(ui.size.width, ui.size.height);\n",
       "        },\n",
       "    });\n",
       "\n",
       "    function mouse_event_fn(event) {\n",
       "        if (pass_mouse_events)\n",
       "            return fig.mouse_event(event, event['data']);\n",
       "    }\n",
       "\n",
       "    rubberband.mousedown('button_press', mouse_event_fn);\n",
       "    rubberband.mouseup('button_release', mouse_event_fn);\n",
       "    // Throttle sequential mouse events to 1 every 20ms.\n",
       "    rubberband.mousemove('motion_notify', mouse_event_fn);\n",
       "\n",
       "    rubberband.mouseenter('figure_enter', mouse_event_fn);\n",
       "    rubberband.mouseleave('figure_leave', mouse_event_fn);\n",
       "\n",
       "    canvas_div.on(\"wheel\", function (event) {\n",
       "        event = event.originalEvent;\n",
       "        event['data'] = 'scroll'\n",
       "        if (event.deltaY < 0) {\n",
       "            event.step = 1;\n",
       "        } else {\n",
       "            event.step = -1;\n",
       "        }\n",
       "        mouse_event_fn(event);\n",
       "    });\n",
       "\n",
       "    canvas_div.append(canvas);\n",
       "    canvas_div.append(rubberband);\n",
       "\n",
       "    this.rubberband = rubberband;\n",
       "    this.rubberband_canvas = rubberband[0];\n",
       "    this.rubberband_context = rubberband[0].getContext(\"2d\");\n",
       "    this.rubberband_context.strokeStyle = \"#000000\";\n",
       "\n",
       "    this._resize_canvas = function(width, height) {\n",
       "        // Keep the size of the canvas, canvas container, and rubber band\n",
       "        // canvas in synch.\n",
       "        canvas_div.css('width', width)\n",
       "        canvas_div.css('height', height)\n",
       "\n",
       "        canvas.attr('width', width * mpl.ratio);\n",
       "        canvas.attr('height', height * mpl.ratio);\n",
       "        canvas.attr('style', 'width: ' + width + 'px; height: ' + height + 'px;');\n",
       "\n",
       "        rubberband.attr('width', width);\n",
       "        rubberband.attr('height', height);\n",
       "    }\n",
       "\n",
       "    // Set the figure to an initial 600x600px, this will subsequently be updated\n",
       "    // upon first draw.\n",
       "    this._resize_canvas(600, 600);\n",
       "\n",
       "    // Disable right mouse context menu.\n",
       "    $(this.rubberband_canvas).bind(\"contextmenu\",function(e){\n",
       "        return false;\n",
       "    });\n",
       "\n",
       "    function set_focus () {\n",
       "        canvas.focus();\n",
       "        canvas_div.focus();\n",
       "    }\n",
       "\n",
       "    window.setTimeout(set_focus, 100);\n",
       "}\n",
       "\n",
       "mpl.figure.prototype._init_toolbar = function() {\n",
       "    var fig = this;\n",
       "\n",
       "    var nav_element = $('<div/>');\n",
       "    nav_element.attr('style', 'width: 100%');\n",
       "    this.root.append(nav_element);\n",
       "\n",
       "    // Define a callback function for later on.\n",
       "    function toolbar_event(event) {\n",
       "        return fig.toolbar_button_onclick(event['data']);\n",
       "    }\n",
       "    function toolbar_mouse_event(event) {\n",
       "        return fig.toolbar_button_onmouseover(event['data']);\n",
       "    }\n",
       "\n",
       "    for(var toolbar_ind in mpl.toolbar_items) {\n",
       "        var name = mpl.toolbar_items[toolbar_ind][0];\n",
       "        var tooltip = mpl.toolbar_items[toolbar_ind][1];\n",
       "        var image = mpl.toolbar_items[toolbar_ind][2];\n",
       "        var method_name = mpl.toolbar_items[toolbar_ind][3];\n",
       "\n",
       "        if (!name) {\n",
       "            // put a spacer in here.\n",
       "            continue;\n",
       "        }\n",
       "        var button = $('<button/>');\n",
       "        button.addClass('ui-button ui-widget ui-state-default ui-corner-all ' +\n",
       "                        'ui-button-icon-only');\n",
       "        button.attr('role', 'button');\n",
       "        button.attr('aria-disabled', 'false');\n",
       "        button.click(method_name, toolbar_event);\n",
       "        button.mouseover(tooltip, toolbar_mouse_event);\n",
       "\n",
       "        var icon_img = $('<span/>');\n",
       "        icon_img.addClass('ui-button-icon-primary ui-icon');\n",
       "        icon_img.addClass(image);\n",
       "        icon_img.addClass('ui-corner-all');\n",
       "\n",
       "        var tooltip_span = $('<span/>');\n",
       "        tooltip_span.addClass('ui-button-text');\n",
       "        tooltip_span.html(tooltip);\n",
       "\n",
       "        button.append(icon_img);\n",
       "        button.append(tooltip_span);\n",
       "\n",
       "        nav_element.append(button);\n",
       "    }\n",
       "\n",
       "    var fmt_picker_span = $('<span/>');\n",
       "\n",
       "    var fmt_picker = $('<select/>');\n",
       "    fmt_picker.addClass('mpl-toolbar-option ui-widget ui-widget-content');\n",
       "    fmt_picker_span.append(fmt_picker);\n",
       "    nav_element.append(fmt_picker_span);\n",
       "    this.format_dropdown = fmt_picker[0];\n",
       "\n",
       "    for (var ind in mpl.extensions) {\n",
       "        var fmt = mpl.extensions[ind];\n",
       "        var option = $(\n",
       "            '<option/>', {selected: fmt === mpl.default_extension}).html(fmt);\n",
       "        fmt_picker.append(option);\n",
       "    }\n",
       "\n",
       "    // Add hover states to the ui-buttons\n",
       "    $( \".ui-button\" ).hover(\n",
       "        function() { $(this).addClass(\"ui-state-hover\");},\n",
       "        function() { $(this).removeClass(\"ui-state-hover\");}\n",
       "    );\n",
       "\n",
       "    var status_bar = $('<span class=\"mpl-message\"/>');\n",
       "    nav_element.append(status_bar);\n",
       "    this.message = status_bar[0];\n",
       "}\n",
       "\n",
       "mpl.figure.prototype.request_resize = function(x_pixels, y_pixels) {\n",
       "    // Request matplotlib to resize the figure. Matplotlib will then trigger a resize in the client,\n",
       "    // which will in turn request a refresh of the image.\n",
       "    this.send_message('resize', {'width': x_pixels, 'height': y_pixels});\n",
       "}\n",
       "\n",
       "mpl.figure.prototype.send_message = function(type, properties) {\n",
       "    properties['type'] = type;\n",
       "    properties['figure_id'] = this.id;\n",
       "    this.ws.send(JSON.stringify(properties));\n",
       "}\n",
       "\n",
       "mpl.figure.prototype.send_draw_message = function() {\n",
       "    if (!this.waiting) {\n",
       "        this.waiting = true;\n",
       "        this.ws.send(JSON.stringify({type: \"draw\", figure_id: this.id}));\n",
       "    }\n",
       "}\n",
       "\n",
       "\n",
       "mpl.figure.prototype.handle_save = function(fig, msg) {\n",
       "    var format_dropdown = fig.format_dropdown;\n",
       "    var format = format_dropdown.options[format_dropdown.selectedIndex].value;\n",
       "    fig.ondownload(fig, format);\n",
       "}\n",
       "\n",
       "\n",
       "mpl.figure.prototype.handle_resize = function(fig, msg) {\n",
       "    var size = msg['size'];\n",
       "    if (size[0] != fig.canvas.width || size[1] != fig.canvas.height) {\n",
       "        fig._resize_canvas(size[0], size[1]);\n",
       "        fig.send_message(\"refresh\", {});\n",
       "    };\n",
       "}\n",
       "\n",
       "mpl.figure.prototype.handle_rubberband = function(fig, msg) {\n",
       "    var x0 = msg['x0'] / mpl.ratio;\n",
       "    var y0 = (fig.canvas.height - msg['y0']) / mpl.ratio;\n",
       "    var x1 = msg['x1'] / mpl.ratio;\n",
       "    var y1 = (fig.canvas.height - msg['y1']) / mpl.ratio;\n",
       "    x0 = Math.floor(x0) + 0.5;\n",
       "    y0 = Math.floor(y0) + 0.5;\n",
       "    x1 = Math.floor(x1) + 0.5;\n",
       "    y1 = Math.floor(y1) + 0.5;\n",
       "    var min_x = Math.min(x0, x1);\n",
       "    var min_y = Math.min(y0, y1);\n",
       "    var width = Math.abs(x1 - x0);\n",
       "    var height = Math.abs(y1 - y0);\n",
       "\n",
       "    fig.rubberband_context.clearRect(\n",
       "        0, 0, fig.canvas.width / mpl.ratio, fig.canvas.height / mpl.ratio);\n",
       "\n",
       "    fig.rubberband_context.strokeRect(min_x, min_y, width, height);\n",
       "}\n",
       "\n",
       "mpl.figure.prototype.handle_figure_label = function(fig, msg) {\n",
       "    // Updates the figure title.\n",
       "    fig.header.textContent = msg['label'];\n",
       "}\n",
       "\n",
       "mpl.figure.prototype.handle_cursor = function(fig, msg) {\n",
       "    var cursor = msg['cursor'];\n",
       "    switch(cursor)\n",
       "    {\n",
       "    case 0:\n",
       "        cursor = 'pointer';\n",
       "        break;\n",
       "    case 1:\n",
       "        cursor = 'default';\n",
       "        break;\n",
       "    case 2:\n",
       "        cursor = 'crosshair';\n",
       "        break;\n",
       "    case 3:\n",
       "        cursor = 'move';\n",
       "        break;\n",
       "    }\n",
       "    fig.rubberband_canvas.style.cursor = cursor;\n",
       "}\n",
       "\n",
       "mpl.figure.prototype.handle_message = function(fig, msg) {\n",
       "    fig.message.textContent = msg['message'];\n",
       "}\n",
       "\n",
       "mpl.figure.prototype.handle_draw = function(fig, msg) {\n",
       "    // Request the server to send over a new figure.\n",
       "    fig.send_draw_message();\n",
       "}\n",
       "\n",
       "mpl.figure.prototype.handle_image_mode = function(fig, msg) {\n",
       "    fig.image_mode = msg['mode'];\n",
       "}\n",
       "\n",
       "mpl.figure.prototype.updated_canvas_event = function() {\n",
       "    // Called whenever the canvas gets updated.\n",
       "    this.send_message(\"ack\", {});\n",
       "}\n",
       "\n",
       "// A function to construct a web socket function for onmessage handling.\n",
       "// Called in the figure constructor.\n",
       "mpl.figure.prototype._make_on_message_function = function(fig) {\n",
       "    return function socket_on_message(evt) {\n",
       "        if (evt.data instanceof Blob) {\n",
       "            /* FIXME: We get \"Resource interpreted as Image but\n",
       "             * transferred with MIME type text/plain:\" errors on\n",
       "             * Chrome.  But how to set the MIME type?  It doesn't seem\n",
       "             * to be part of the websocket stream */\n",
       "            evt.data.type = \"image/png\";\n",
       "\n",
       "            /* Free the memory for the previous frames */\n",
       "            if (fig.imageObj.src) {\n",
       "                (window.URL || window.webkitURL).revokeObjectURL(\n",
       "                    fig.imageObj.src);\n",
       "            }\n",
       "\n",
       "            fig.imageObj.src = (window.URL || window.webkitURL).createObjectURL(\n",
       "                evt.data);\n",
       "            fig.updated_canvas_event();\n",
       "            fig.waiting = false;\n",
       "            return;\n",
       "        }\n",
       "        else if (typeof evt.data === 'string' && evt.data.slice(0, 21) == \"data:image/png;base64\") {\n",
       "            fig.imageObj.src = evt.data;\n",
       "            fig.updated_canvas_event();\n",
       "            fig.waiting = false;\n",
       "            return;\n",
       "        }\n",
       "\n",
       "        var msg = JSON.parse(evt.data);\n",
       "        var msg_type = msg['type'];\n",
       "\n",
       "        // Call the  \"handle_{type}\" callback, which takes\n",
       "        // the figure and JSON message as its only arguments.\n",
       "        try {\n",
       "            var callback = fig[\"handle_\" + msg_type];\n",
       "        } catch (e) {\n",
       "            console.log(\"No handler for the '\" + msg_type + \"' message type: \", msg);\n",
       "            return;\n",
       "        }\n",
       "\n",
       "        if (callback) {\n",
       "            try {\n",
       "                // console.log(\"Handling '\" + msg_type + \"' message: \", msg);\n",
       "                callback(fig, msg);\n",
       "            } catch (e) {\n",
       "                console.log(\"Exception inside the 'handler_\" + msg_type + \"' callback:\", e, e.stack, msg);\n",
       "            }\n",
       "        }\n",
       "    };\n",
       "}\n",
       "\n",
       "// from http://stackoverflow.com/questions/1114465/getting-mouse-location-in-canvas\n",
       "mpl.findpos = function(e) {\n",
       "    //this section is from http://www.quirksmode.org/js/events_properties.html\n",
       "    var targ;\n",
       "    if (!e)\n",
       "        e = window.event;\n",
       "    if (e.target)\n",
       "        targ = e.target;\n",
       "    else if (e.srcElement)\n",
       "        targ = e.srcElement;\n",
       "    if (targ.nodeType == 3) // defeat Safari bug\n",
       "        targ = targ.parentNode;\n",
       "\n",
       "    // jQuery normalizes the pageX and pageY\n",
       "    // pageX,Y are the mouse positions relative to the document\n",
       "    // offset() returns the position of the element relative to the document\n",
       "    var x = e.pageX - $(targ).offset().left;\n",
       "    var y = e.pageY - $(targ).offset().top;\n",
       "\n",
       "    return {\"x\": x, \"y\": y};\n",
       "};\n",
       "\n",
       "/*\n",
       " * return a copy of an object with only non-object keys\n",
       " * we need this to avoid circular references\n",
       " * http://stackoverflow.com/a/24161582/3208463\n",
       " */\n",
       "function simpleKeys (original) {\n",
       "  return Object.keys(original).reduce(function (obj, key) {\n",
       "    if (typeof original[key] !== 'object')\n",
       "        obj[key] = original[key]\n",
       "    return obj;\n",
       "  }, {});\n",
       "}\n",
       "\n",
       "mpl.figure.prototype.mouse_event = function(event, name) {\n",
       "    var canvas_pos = mpl.findpos(event)\n",
       "\n",
       "    if (name === 'button_press')\n",
       "    {\n",
       "        this.canvas.focus();\n",
       "        this.canvas_div.focus();\n",
       "    }\n",
       "\n",
       "    var x = canvas_pos.x * mpl.ratio;\n",
       "    var y = canvas_pos.y * mpl.ratio;\n",
       "\n",
       "    this.send_message(name, {x: x, y: y, button: event.button,\n",
       "                             step: event.step,\n",
       "                             guiEvent: simpleKeys(event)});\n",
       "\n",
       "    /* This prevents the web browser from automatically changing to\n",
       "     * the text insertion cursor when the button is pressed.  We want\n",
       "     * to control all of the cursor setting manually through the\n",
       "     * 'cursor' event from matplotlib */\n",
       "    event.preventDefault();\n",
       "    return false;\n",
       "}\n",
       "\n",
       "mpl.figure.prototype._key_event_extra = function(event, name) {\n",
       "    // Handle any extra behaviour associated with a key event\n",
       "}\n",
       "\n",
       "mpl.figure.prototype.key_event = function(event, name) {\n",
       "\n",
       "    // Prevent repeat events\n",
       "    if (name == 'key_press')\n",
       "    {\n",
       "        if (event.which === this._key)\n",
       "            return;\n",
       "        else\n",
       "            this._key = event.which;\n",
       "    }\n",
       "    if (name == 'key_release')\n",
       "        this._key = null;\n",
       "\n",
       "    var value = '';\n",
       "    if (event.ctrlKey && event.which != 17)\n",
       "        value += \"ctrl+\";\n",
       "    if (event.altKey && event.which != 18)\n",
       "        value += \"alt+\";\n",
       "    if (event.shiftKey && event.which != 16)\n",
       "        value += \"shift+\";\n",
       "\n",
       "    value += 'k';\n",
       "    value += event.which.toString();\n",
       "\n",
       "    this._key_event_extra(event, name);\n",
       "\n",
       "    this.send_message(name, {key: value,\n",
       "                             guiEvent: simpleKeys(event)});\n",
       "    return false;\n",
       "}\n",
       "\n",
       "mpl.figure.prototype.toolbar_button_onclick = function(name) {\n",
       "    if (name == 'download') {\n",
       "        this.handle_save(this, null);\n",
       "    } else {\n",
       "        this.send_message(\"toolbar_button\", {name: name});\n",
       "    }\n",
       "};\n",
       "\n",
       "mpl.figure.prototype.toolbar_button_onmouseover = function(tooltip) {\n",
       "    this.message.textContent = tooltip;\n",
       "};\n",
       "mpl.toolbar_items = [[\"Home\", \"Reset original view\", \"fa fa-home icon-home\", \"home\"], [\"Back\", \"Back to previous view\", \"fa fa-arrow-left icon-arrow-left\", \"back\"], [\"Forward\", \"Forward to next view\", \"fa fa-arrow-right icon-arrow-right\", \"forward\"], [\"\", \"\", \"\", \"\"], [\"Pan\", \"Pan axes with left mouse, zoom with right\", \"fa fa-arrows icon-move\", \"pan\"], [\"Zoom\", \"Zoom to rectangle\", \"fa fa-square-o icon-check-empty\", \"zoom\"], [\"\", \"\", \"\", \"\"], [\"Download\", \"Download plot\", \"fa fa-floppy-o icon-save\", \"download\"]];\n",
       "\n",
       "mpl.extensions = [\"eps\", \"jpeg\", \"pdf\", \"png\", \"ps\", \"raw\", \"svg\", \"tif\"];\n",
       "\n",
       "mpl.default_extension = \"png\";var comm_websocket_adapter = function(comm) {\n",
       "    // Create a \"websocket\"-like object which calls the given IPython comm\n",
       "    // object with the appropriate methods. Currently this is a non binary\n",
       "    // socket, so there is still some room for performance tuning.\n",
       "    var ws = {};\n",
       "\n",
       "    ws.close = function() {\n",
       "        comm.close()\n",
       "    };\n",
       "    ws.send = function(m) {\n",
       "        //console.log('sending', m);\n",
       "        comm.send(m);\n",
       "    };\n",
       "    // Register the callback with on_msg.\n",
       "    comm.on_msg(function(msg) {\n",
       "        //console.log('receiving', msg['content']['data'], msg);\n",
       "        // Pass the mpl event to the overridden (by mpl) onmessage function.\n",
       "        ws.onmessage(msg['content']['data'])\n",
       "    });\n",
       "    return ws;\n",
       "}\n",
       "\n",
       "mpl.mpl_figure_comm = function(comm, msg) {\n",
       "    // This is the function which gets called when the mpl process\n",
       "    // starts-up an IPython Comm through the \"matplotlib\" channel.\n",
       "\n",
       "    var id = msg.content.data.id;\n",
       "    // Get hold of the div created by the display call when the Comm\n",
       "    // socket was opened in Python.\n",
       "    var element = $(\"#\" + id);\n",
       "    var ws_proxy = comm_websocket_adapter(comm)\n",
       "\n",
       "    function ondownload(figure, format) {\n",
       "        window.open(figure.imageObj.src);\n",
       "    }\n",
       "\n",
       "    var fig = new mpl.figure(id, ws_proxy,\n",
       "                           ondownload,\n",
       "                           element.get(0));\n",
       "\n",
       "    // Call onopen now - mpl needs it, as it is assuming we've passed it a real\n",
       "    // web socket which is closed, not our websocket->open comm proxy.\n",
       "    ws_proxy.onopen();\n",
       "\n",
       "    fig.parent_element = element.get(0);\n",
       "    fig.cell_info = mpl.find_output_cell(\"<div id='\" + id + \"'></div>\");\n",
       "    if (!fig.cell_info) {\n",
       "        console.error(\"Failed to find cell for figure\", id, fig);\n",
       "        return;\n",
       "    }\n",
       "\n",
       "    var output_index = fig.cell_info[2]\n",
       "    var cell = fig.cell_info[0];\n",
       "\n",
       "};\n",
       "\n",
       "mpl.figure.prototype.handle_close = function(fig, msg) {\n",
       "    var width = fig.canvas.width/mpl.ratio\n",
       "    fig.root.unbind('remove')\n",
       "\n",
       "    // Update the output cell to use the data from the current canvas.\n",
       "    fig.push_to_output();\n",
       "    var dataURL = fig.canvas.toDataURL();\n",
       "    // Re-enable the keyboard manager in IPython - without this line, in FF,\n",
       "    // the notebook keyboard shortcuts fail.\n",
       "    IPython.keyboard_manager.enable()\n",
       "    $(fig.parent_element).html('<img src=\"' + dataURL + '\" width=\"' + width + '\">');\n",
       "    fig.close_ws(fig, msg);\n",
       "}\n",
       "\n",
       "mpl.figure.prototype.close_ws = function(fig, msg){\n",
       "    fig.send_message('closing', msg);\n",
       "    // fig.ws.close()\n",
       "}\n",
       "\n",
       "mpl.figure.prototype.push_to_output = function(remove_interactive) {\n",
       "    // Turn the data on the canvas into data in the output cell.\n",
       "    var width = this.canvas.width/mpl.ratio\n",
       "    var dataURL = this.canvas.toDataURL();\n",
       "    this.cell_info[1]['text/html'] = '<img src=\"' + dataURL + '\" width=\"' + width + '\">';\n",
       "}\n",
       "\n",
       "mpl.figure.prototype.updated_canvas_event = function() {\n",
       "    // Tell IPython that the notebook contents must change.\n",
       "    IPython.notebook.set_dirty(true);\n",
       "    this.send_message(\"ack\", {});\n",
       "    var fig = this;\n",
       "    // Wait a second, then push the new image to the DOM so\n",
       "    // that it is saved nicely (might be nice to debounce this).\n",
       "    setTimeout(function () { fig.push_to_output() }, 1000);\n",
       "}\n",
       "\n",
       "mpl.figure.prototype._init_toolbar = function() {\n",
       "    var fig = this;\n",
       "\n",
       "    var nav_element = $('<div/>');\n",
       "    nav_element.attr('style', 'width: 100%');\n",
       "    this.root.append(nav_element);\n",
       "\n",
       "    // Define a callback function for later on.\n",
       "    function toolbar_event(event) {\n",
       "        return fig.toolbar_button_onclick(event['data']);\n",
       "    }\n",
       "    function toolbar_mouse_event(event) {\n",
       "        return fig.toolbar_button_onmouseover(event['data']);\n",
       "    }\n",
       "\n",
       "    for(var toolbar_ind in mpl.toolbar_items){\n",
       "        var name = mpl.toolbar_items[toolbar_ind][0];\n",
       "        var tooltip = mpl.toolbar_items[toolbar_ind][1];\n",
       "        var image = mpl.toolbar_items[toolbar_ind][2];\n",
       "        var method_name = mpl.toolbar_items[toolbar_ind][3];\n",
       "\n",
       "        if (!name) { continue; };\n",
       "\n",
       "        var button = $('<button class=\"btn btn-default\" href=\"#\" title=\"' + name + '\"><i class=\"fa ' + image + ' fa-lg\"></i></button>');\n",
       "        button.click(method_name, toolbar_event);\n",
       "        button.mouseover(tooltip, toolbar_mouse_event);\n",
       "        nav_element.append(button);\n",
       "    }\n",
       "\n",
       "    // Add the status bar.\n",
       "    var status_bar = $('<span class=\"mpl-message\" style=\"text-align:right; float: right;\"/>');\n",
       "    nav_element.append(status_bar);\n",
       "    this.message = status_bar[0];\n",
       "\n",
       "    // Add the close button to the window.\n",
       "    var buttongrp = $('<div class=\"btn-group inline pull-right\"></div>');\n",
       "    var button = $('<button class=\"btn btn-mini btn-primary\" href=\"#\" title=\"Stop Interaction\"><i class=\"fa fa-power-off icon-remove icon-large\"></i></button>');\n",
       "    button.click(function (evt) { fig.handle_close(fig, {}); } );\n",
       "    button.mouseover('Stop Interaction', toolbar_mouse_event);\n",
       "    buttongrp.append(button);\n",
       "    var titlebar = this.root.find($('.ui-dialog-titlebar'));\n",
       "    titlebar.prepend(buttongrp);\n",
       "}\n",
       "\n",
       "mpl.figure.prototype._root_extra_style = function(el){\n",
       "    var fig = this\n",
       "    el.on(\"remove\", function(){\n",
       "\tfig.close_ws(fig, {});\n",
       "    });\n",
       "}\n",
       "\n",
       "mpl.figure.prototype._canvas_extra_style = function(el){\n",
       "    // this is important to make the div 'focusable\n",
       "    el.attr('tabindex', 0)\n",
       "    // reach out to IPython and tell the keyboard manager to turn it's self\n",
       "    // off when our div gets focus\n",
       "\n",
       "    // location in version 3\n",
       "    if (IPython.notebook.keyboard_manager) {\n",
       "        IPython.notebook.keyboard_manager.register_events(el);\n",
       "    }\n",
       "    else {\n",
       "        // location in version 2\n",
       "        IPython.keyboard_manager.register_events(el);\n",
       "    }\n",
       "\n",
       "}\n",
       "\n",
       "mpl.figure.prototype._key_event_extra = function(event, name) {\n",
       "    var manager = IPython.notebook.keyboard_manager;\n",
       "    if (!manager)\n",
       "        manager = IPython.keyboard_manager;\n",
       "\n",
       "    // Check for shift+enter\n",
       "    if (event.shiftKey && event.which == 13) {\n",
       "        this.canvas_div.blur();\n",
       "        // select the cell after this one\n",
       "        var index = IPython.notebook.find_cell_index(this.cell_info[0]);\n",
       "        IPython.notebook.select(index + 1);\n",
       "    }\n",
       "}\n",
       "\n",
       "mpl.figure.prototype.handle_save = function(fig, msg) {\n",
       "    fig.ondownload(fig, null);\n",
       "}\n",
       "\n",
       "\n",
       "mpl.find_output_cell = function(html_output) {\n",
       "    // Return the cell and output element which can be found *uniquely* in the notebook.\n",
       "    // Note - this is a bit hacky, but it is done because the \"notebook_saving.Notebook\"\n",
       "    // IPython event is triggered only after the cells have been serialised, which for\n",
       "    // our purposes (turning an active figure into a static one), is too late.\n",
       "    var cells = IPython.notebook.get_cells();\n",
       "    var ncells = cells.length;\n",
       "    for (var i=0; i<ncells; i++) {\n",
       "        var cell = cells[i];\n",
       "        if (cell.cell_type === 'code'){\n",
       "            for (var j=0; j<cell.output_area.outputs.length; j++) {\n",
       "                var data = cell.output_area.outputs[j];\n",
       "                if (data.data) {\n",
       "                    // IPython >= 3 moved mimebundle to data attribute of output\n",
       "                    data = data.data;\n",
       "                }\n",
       "                if (data['text/html'] == html_output) {\n",
       "                    return [cell, data, j];\n",
       "                }\n",
       "            }\n",
       "        }\n",
       "    }\n",
       "}\n",
       "\n",
       "// Register the function which deals with the matplotlib target/channel.\n",
       "// The kernel may be null if the page has been refreshed.\n",
       "if (IPython.notebook.kernel != null) {\n",
       "    IPython.notebook.kernel.comm_manager.register_target('matplotlib', mpl.mpl_figure_comm);\n",
       "}\n"
      ],
      "text/plain": [
       "<IPython.core.display.Javascript object>"
      ]
     },
     "metadata": {},
     "output_type": "display_data"
    },
    {
     "data": {
      "text/html": [
       "<img src=\"data:image/png;base64,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\" width=\"999.7333333333333\">"
      ],
      "text/plain": [
       "<IPython.core.display.HTML object>"
      ]
     },
     "metadata": {},
     "output_type": "display_data"
    }
   ],
   "source": [
    "dual_train_plots(results.index,\n",
    "                 results.cost, results.val,\n",
    "                 results.cost, results.val)\n",
    "plt.tight_layout()\n",
    "plt.savefig(str(output / f'{name}_stats_a.png'))"
   ]
  },
  {
   "cell_type": "code",
   "execution_count": 21,
   "metadata": {},
   "outputs": [],
   "source": [
    "##quit()\n"
   ]
  },
  {
   "cell_type": "code",
   "execution_count": null,
   "metadata": {},
   "outputs": [],
   "source": []
  },
  {
   "cell_type": "markdown",
   "metadata": {},
   "source": []
  },
  {
   "cell_type": "code",
   "execution_count": null,
   "metadata": {},
   "outputs": [],
   "source": []
  }
 ],
 "metadata": {
  "kernelspec": {
   "display_name": "june2020",
   "language": "python",
   "name": "june2020"
  },
  "language_info": {
   "codemirror_mode": {
    "name": "ipython",
    "version": 3
   },
   "file_extension": ".py",
   "mimetype": "text/x-python",
   "name": "python",
   "nbconvert_exporter": "python",
   "pygments_lexer": "ipython3",
   "version": "3.7.6"
  }
 },
 "nbformat": 4,
 "nbformat_minor": 2
}
