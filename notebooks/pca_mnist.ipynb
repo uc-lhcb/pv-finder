{
 "cells": [
  {
   "cell_type": "code",
   "execution_count": 1,
   "id": "d25e4834",
   "metadata": {},
   "outputs": [],
   "source": [
    "import torch\n",
    "import matplotlib.pyplot as plt\n",
    "import einops\n",
    "import torchvision\n"
   ]
  },
  {
   "cell_type": "code",
   "execution_count": 2,
   "id": "4f71dd29",
   "metadata": {},
   "outputs": [],
   "source": [
    "# we have some images - batch of 16 that are 256x256x3\n",
    "images = torch.rand(16, 3, 256, 256)"
   ]
  },
  {
   "cell_type": "code",
   "execution_count": 3,
   "id": "3234c860",
   "metadata": {},
   "outputs": [],
   "source": [
    "# model which processes the images \n",
    "\n",
    "class Model(torch.nn.Module):\n",
    "    \n",
    "    def __init__(self):\n",
    "        super().__init__()\n",
    "        self.conv1 = torch.nn.Conv2d(3, 16, 3)\n",
    "        self.conv2 = torch.nn.Conv2d(16, 16, 3) \n",
    "        self.conv3 = torch.nn.Conv2d(16, 16, 3)\n",
    "        self.conv4 = torch.nn.Conv2d(16, 1, 3)\n",
    "        \n",
    "    def forward(self, x):\n",
    "        \n",
    "        x = self.conv1(x)\n",
    "        x = self.conv2(x)\n",
    "        x = self.conv3(x)\n",
    "        x = self.conv4(x)\n",
    "        return x"
   ]
  },
  {
   "cell_type": "code",
   "execution_count": 4,
   "id": "691e43d3",
   "metadata": {},
   "outputs": [],
   "source": [
    "test = Model()(images)"
   ]
  },
  {
   "cell_type": "code",
   "execution_count": 5,
   "id": "7ad59fb7",
   "metadata": {},
   "outputs": [],
   "source": [
    "# pretend this is good model - lets get the good parameters from it "
   ]
  },
  {
   "cell_type": "code",
   "execution_count": 6,
   "id": "07983d9a",
   "metadata": {},
   "outputs": [],
   "source": [
    "model = Model()\n",
    "tensors = []\n",
    "for name, tensor in model.state_dict().items():\n",
    "    if 'weight' in name:\n",
    "        tensors.append(tensor.view(-1, 9)) # 9 because we are using 3x3 kernels \n",
    "all_kernels = torch.cat(tensors)"
   ]
  },
  {
   "cell_type": "code",
   "execution_count": 7,
   "id": "d27ad45e",
   "metadata": {},
   "outputs": [],
   "source": [
    "n_features = 2 # pca to 2d \n",
    "means = all_kernels.mean(axis=0).unsqueeze(0)\n",
    "centered_kernels = all_kernels - means\n",
    "cov_matrix = torch.matmul(centered_kernels.cuda().T, centered_kernels.cuda()) # need cuda otherwise takes forever\n",
    "v, w = torch.eig(cov_matrix, eigenvectors=True) # same comment as above\n",
    "pca_reduced_points = torch.matmul(centered_kernels.detach(), w[:, :n_features].cpu()) # dont need gpu here, though\n",
    "kernel_basis_vectors = w.view(9, 3, 3)"
   ]
  },
  {
   "cell_type": "code",
   "execution_count": 8,
   "id": "7aab3e63",
   "metadata": {},
   "outputs": [
    {
     "data": {
      "image/png": "[encoded data removed]",
      "text/plain": [
       "<Figure size 432x288 with 1 Axes>"
      ]
     },
     "metadata": {
      "needs_background": "light"
     },
     "output_type": "display_data"
    }
   ],
   "source": [
    "# the only thing this tells us is that our pca is very numerically unstable lol\n",
    "plt.bar(torch.arange(v.size(0)), v[:, 0].cpu()) # get real part of eigenvalues\n",
    "plt.show()"
   ]
  },
  {
   "cell_type": "code",
   "execution_count": 27,
   "id": "b6285a04",
   "metadata": {},
   "outputs": [],
   "source": [
    "class Model_experiment(torch.nn.Module):\n",
    "    \n",
    "    def __init__(self, basis_vectors, device): # need device in __init__ because of weight assignment - https://discuss.pytorch.org/t/typeerror-cannot-assign-torch-cuda-floattensor-as-parameter-weight-torch-nn-parameter-or-none-expected/61765\n",
    "        super().__init__()\n",
    "        \n",
    "        # conv basis weights\n",
    "        self.cbw1 = torch.nn.parameter.Parameter(torch.rand(16, 3, 9, device=device))\n",
    "        self.cbw2 = torch.nn.parameter.Parameter(torch.rand(16, 16, 9, device=device))\n",
    "        self.cbw3 = torch.nn.parameter.Parameter(torch.rand(16, 16, 9, device=device))\n",
    "        self.cbw4 = torch.nn.parameter.Parameter(torch.rand(10, 16, 9, device=device))\n",
    "        \n",
    "        self.linear = torch.nn.Linear(24*24, 1)\n",
    "        \n",
    "        # kernel basis vectors\n",
    "        self.kbf = basis_vectors.to(device)\n",
    "    def forward(self, x):\n",
    "        # should be able to optimize parameters? \n",
    "        conv1_weight = torch.einsum('bld,dnm -> blnm', self.cbw1, self.kbf)\n",
    "        x = torch.nn.functional.conv2d(input=x, weight=conv1_weight, stride=1)\n",
    "        x = torch.relu(x)\n",
    "        conv2_weight = torch.einsum('bld,dnm -> blnm', self.cbw2, self.kbf)\n",
    "        x = torch.nn.functional.conv2d(input=x, weight=conv2_weight, stride=1)\n",
    "        x = torch.relu(x)\n",
    "        conv3_weight = torch.einsum('bld,dnm -> blnm', self.cbw3, self.kbf)\n",
    "        x = torch.nn.functional.conv2d(input=x, weight=conv3_weight, stride=1)\n",
    "        x = torch.relu(x)\n",
    "        conv4_weight = torch.einsum('bld,dnm -> blnm', self.cbw4, self.kbf)\n",
    "        x = torch.nn.functional.conv2d(input=x, weight=conv4_weight, stride=1)\n",
    "        x = torch.relu(x)\n",
    "        x = self.linear(x.view(x.size(0), 10, -1))\n",
    "        return x.squeeze(-1)\n"
   ]
  },
  {
   "cell_type": "code",
   "execution_count": 28,
   "id": "1fe0f3a8",
   "metadata": {},
   "outputs": [],
   "source": [
    "class Model_control(torch.nn.Module):\n",
    "    \n",
    "    def __init__(self):\n",
    "        super().__init__()\n",
    "        self.cbw1 = torch.nn.Conv2d(3, 16, 3)\n",
    "        self.cbw2 = torch.nn.Conv2d(16, 16, 3)\n",
    "        self.cbw3 = torch.nn.Conv2d(16, 16, 3)\n",
    "        self.cbw4 = torch.nn.Conv2d(16, 10, 3)\n",
    "        \n",
    "        self.linear = torch.nn.Linear(24*24, 1)\n",
    "        \n",
    "    def forward(self, x):\n",
    "        x = self.cbw1(x)\n",
    "        x = torch.relu(x)\n",
    "        x = self.cbw2(x)\n",
    "        x = torch.relu(x)\n",
    "        x = self.cbw3(x)\n",
    "        x = torch.relu(x)\n",
    "        x = self.cbw4(x)\n",
    "        x = torch.relu(x)\n",
    "        x = self.linear(x.view(x.size(0), 10, -1))\n",
    "        return x.squeeze(-1)\n"
   ]
  },
  {
   "cell_type": "code",
   "execution_count": 29,
   "id": "9b180ac5",
   "metadata": {},
   "outputs": [],
   "source": [
    "device = 'cuda:2'\n",
    "model_control = Model_control().to(device)"
   ]
  },
  {
   "cell_type": "markdown",
   "id": "bbfd05d4",
   "metadata": {},
   "source": [
    "### Train some stuff, see if it actually works (MNIST)"
   ]
  },
  {
   "cell_type": "code",
   "execution_count": 12,
   "id": "e4e66b6e",
   "metadata": {},
   "outputs": [],
   "source": [
    "def train(model, device, train_loader, optimizer, epoch):\n",
    "    model.train()\n",
    "    acc = 0\n",
    "    for batch_idx, (data, target) in enumerate(train_loader):\n",
    "        data, target = data.to(device), target.to(device)\n",
    "        optimizer.zero_grad()\n",
    "        output = model(data)\n",
    "        loss = torch.nn.functional.cross_entropy(output, target)\n",
    "        out_softmax = torch.nn.functional.softmax(output, dim=-1)\n",
    "        _, idx = torch.max(out_softmax, -1)\n",
    "        acc += (idx == target).float().mean()\n",
    "        loss.backward()\n",
    "        optimizer.step()\n",
    "        if (1+batch_idx) % 150 == 0:\n",
    "            print('Train Epoch: {} [{}/{} ({:.0f}%)]\\tLoss: {:.6f}\\tAccuracy:'.format(\n",
    "                epoch, batch_idx * len(data), len(train_loader.dataset),\n",
    "                100. * batch_idx / len(train_loader), loss.item()),\n",
    "                 acc.item()/150)\n",
    "            acc_copy = acc.clone()\n",
    "            acc *= 0\n",
    "            yield acc_copy.item() / 150\n"
   ]
  },
  {
   "cell_type": "code",
   "execution_count": 14,
   "id": "75f504dd",
   "metadata": {},
   "outputs": [
    {
     "name": "stdout",
     "output_type": "stream",
     "text": [
      "Downloading https://www.cs.toronto.edu/~kriz/cifar-10-python.tar.gz to data2/cifar-10-python.tar.gz\n"
     ]
    },
    {
     "data": {
      "application/vnd.jupyter.widget-view+json": {
       "model_id": "ab3e40db2b7d4878a790a883673149bc",
       "version_major": 2,
       "version_minor": 0
      },
      "text/plain": [
       "HBox(children=(HTML(value=''), FloatProgress(value=0.0, max=170498071.0), HTML(value='')))"
      ]
     },
     "metadata": {},
     "output_type": "display_data"
    },
    {
     "name": "stdout",
     "output_type": "stream",
     "text": [
      "\n",
      "Extracting data2/cifar-10-python.tar.gz to data2\n"
     ]
    }
   ],
   "source": [
    "transform=torchvision.transforms.Compose([\n",
    "    torchvision.transforms.ToTensor(),\n",
    "    torchvision.transforms.Normalize((0.1307,), (0.3081,))\n",
    "    ])\n",
    "trainset = torchvision.datasets.CIFAR10(root='data2', train=True, download=True, transform=transform)\n",
    "# trainset = torchvision.datasets.MNIST('data', train=False,transform=transform)\n",
    "train_loader = torch.utils.data.DataLoader(trainset, batch_size=32)\n",
    "# test_loader = torch.utils.data.DataLoader(dataset2, batch_size=32)"
   ]
  },
  {
   "cell_type": "code",
   "execution_count": 30,
   "id": "5ba9ef34",
   "metadata": {},
   "outputs": [],
   "source": [
    "optimizer = torch.optim.Adam(model_control.parameters(), lr=3e-4)"
   ]
  },
  {
   "cell_type": "code",
   "execution_count": 145,
   "id": "29983456",
   "metadata": {
    "collapsed": true,
    "jupyter": {
     "outputs_hidden": true
    }
   },
   "outputs": [
    {
     "name": "stdout",
     "output_type": "stream",
     "text": [
      "Train Epoch: 1 [4768/50000 (10%)]\tLoss: 1.010902\tAccuracy: 0.645625\n",
      "Train Epoch: 1 [9568/50000 (19%)]\tLoss: 0.819527\tAccuracy: 0.6183333333333333\n",
      "Train Epoch: 1 [14368/50000 (29%)]\tLoss: 1.048664\tAccuracy: 0.6204166666666666\n",
      "Train Epoch: 1 [19168/50000 (38%)]\tLoss: 1.100863\tAccuracy: 0.6235416666666667\n",
      "Train Epoch: 1 [23968/50000 (48%)]\tLoss: 1.003893\tAccuracy: 0.6195833333333334\n",
      "Train Epoch: 1 [28768/50000 (58%)]\tLoss: 1.010216\tAccuracy: 0.635\n",
      "Train Epoch: 1 [33568/50000 (67%)]\tLoss: 1.030761\tAccuracy: 0.6229166666666667\n",
      "Train Epoch: 1 [38368/50000 (77%)]\tLoss: 1.057224\tAccuracy: 0.6122916666666667\n",
      "Train Epoch: 1 [43168/50000 (86%)]\tLoss: 1.231648\tAccuracy: 0.618125\n",
      "Train Epoch: 1 [47968/50000 (96%)]\tLoss: 1.017509\tAccuracy: 0.6235416666666667\n",
      "Train Epoch: 2 [4768/50000 (10%)]\tLoss: 0.999099\tAccuracy: 0.645625\n",
      "Train Epoch: 2 [9568/50000 (19%)]\tLoss: 0.817919\tAccuracy: 0.62125\n",
      "Train Epoch: 2 [14368/50000 (29%)]\tLoss: 1.045815\tAccuracy: 0.62125\n",
      "Train Epoch: 2 [19168/50000 (38%)]\tLoss: 1.088906\tAccuracy: 0.6216666666666667\n",
      "Train Epoch: 2 [23968/50000 (48%)]\tLoss: 0.995685\tAccuracy: 0.6204166666666666\n",
      "Train Epoch: 2 [28768/50000 (58%)]\tLoss: 1.011182\tAccuracy: 0.6339583333333333\n",
      "Train Epoch: 2 [33568/50000 (67%)]\tLoss: 1.023659\tAccuracy: 0.6260416666666667\n",
      "Train Epoch: 2 [38368/50000 (77%)]\tLoss: 1.046986\tAccuracy: 0.6133333333333333\n",
      "Train Epoch: 2 [43168/50000 (86%)]\tLoss: 1.223208\tAccuracy: 0.620625\n",
      "Train Epoch: 2 [47968/50000 (96%)]\tLoss: 1.014960\tAccuracy: 0.62625\n",
      "Train Epoch: 3 [4768/50000 (10%)]\tLoss: 0.987688\tAccuracy: 0.6479166666666667\n",
      "Train Epoch: 3 [9568/50000 (19%)]\tLoss: 0.813277\tAccuracy: 0.6220833333333333\n",
      "Train Epoch: 3 [14368/50000 (29%)]\tLoss: 1.040948\tAccuracy: 0.624375\n",
      "Train Epoch: 3 [19168/50000 (38%)]\tLoss: 1.082013\tAccuracy: 0.6222916666666667\n",
      "Train Epoch: 3 [23968/50000 (48%)]\tLoss: 0.990270\tAccuracy: 0.6227083333333333\n",
      "Train Epoch: 3 [28768/50000 (58%)]\tLoss: 1.014431\tAccuracy: 0.636875\n",
      "Train Epoch: 3 [33568/50000 (67%)]\tLoss: 1.014639\tAccuracy: 0.6291666666666667\n",
      "Train Epoch: 3 [38368/50000 (77%)]\tLoss: 1.036111\tAccuracy: 0.6189583333333334\n",
      "Train Epoch: 3 [43168/50000 (86%)]\tLoss: 1.211899\tAccuracy: 0.6216666666666667\n",
      "Train Epoch: 3 [47968/50000 (96%)]\tLoss: 1.008953\tAccuracy: 0.626875\n",
      "Train Epoch: 4 [4768/50000 (10%)]\tLoss: 0.979254\tAccuracy: 0.65\n",
      "Train Epoch: 4 [9568/50000 (19%)]\tLoss: 0.807814\tAccuracy: 0.6235416666666667\n",
      "Train Epoch: 4 [14368/50000 (29%)]\tLoss: 1.037752\tAccuracy: 0.6283333333333333\n",
      "Train Epoch: 4 [19168/50000 (38%)]\tLoss: 1.073113\tAccuracy: 0.6264583333333333\n",
      "Train Epoch: 4 [23968/50000 (48%)]\tLoss: 0.980562\tAccuracy: 0.6247916666666666\n",
      "Train Epoch: 4 [28768/50000 (58%)]\tLoss: 1.017080\tAccuracy: 0.6379166666666667\n",
      "Train Epoch: 4 [33568/50000 (67%)]\tLoss: 1.008832\tAccuracy: 0.63125\n",
      "Train Epoch: 4 [38368/50000 (77%)]\tLoss: 1.028476\tAccuracy: 0.6252083333333334\n",
      "Train Epoch: 4 [43168/50000 (86%)]\tLoss: 1.202524\tAccuracy: 0.626875\n",
      "Train Epoch: 4 [47968/50000 (96%)]\tLoss: 1.005899\tAccuracy: 0.6304166666666666\n",
      "Train Epoch: 5 [4768/50000 (10%)]\tLoss: 0.965585\tAccuracy: 0.6508333333333334\n",
      "Train Epoch: 5 [9568/50000 (19%)]\tLoss: 0.802180\tAccuracy: 0.6239583333333333\n",
      "Train Epoch: 5 [14368/50000 (29%)]\tLoss: 1.029755\tAccuracy: 0.6297916666666666\n",
      "Train Epoch: 5 [19168/50000 (38%)]\tLoss: 1.062140\tAccuracy: 0.6291666666666667\n",
      "Train Epoch: 5 [23968/50000 (48%)]\tLoss: 0.975987\tAccuracy: 0.6289583333333333\n",
      "Train Epoch: 5 [28768/50000 (58%)]\tLoss: 1.019192\tAccuracy: 0.64\n",
      "Train Epoch: 5 [33568/50000 (67%)]\tLoss: 1.000351\tAccuracy: 0.63375\n",
      "Train Epoch: 5 [38368/50000 (77%)]\tLoss: 1.018671\tAccuracy: 0.6285416666666667\n",
      "Train Epoch: 5 [43168/50000 (86%)]\tLoss: 1.186090\tAccuracy: 0.6304166666666666\n",
      "Train Epoch: 5 [47968/50000 (96%)]\tLoss: 0.999705\tAccuracy: 0.6295833333333334\n",
      "Train Epoch: 6 [4768/50000 (10%)]\tLoss: 0.954211\tAccuracy: 0.6514583333333334\n",
      "Train Epoch: 6 [9568/50000 (19%)]\tLoss: 0.803430\tAccuracy: 0.6258333333333334\n",
      "Train Epoch: 6 [14368/50000 (29%)]\tLoss: 1.023463\tAccuracy: 0.6310416666666666\n",
      "Train Epoch: 6 [19168/50000 (38%)]\tLoss: 1.052520\tAccuracy: 0.629375\n",
      "Train Epoch: 6 [23968/50000 (48%)]\tLoss: 0.972210\tAccuracy: 0.630625\n",
      "Train Epoch: 6 [28768/50000 (58%)]\tLoss: 1.018500\tAccuracy: 0.6402083333333334\n",
      "Train Epoch: 6 [33568/50000 (67%)]\tLoss: 0.996189\tAccuracy: 0.6360416666666666\n",
      "Train Epoch: 6 [38368/50000 (77%)]\tLoss: 1.011063\tAccuracy: 0.6310416666666666\n",
      "Train Epoch: 6 [43168/50000 (86%)]\tLoss: 1.177254\tAccuracy: 0.6335416666666667\n",
      "Train Epoch: 6 [47968/50000 (96%)]\tLoss: 0.994126\tAccuracy: 0.6320833333333333\n",
      "Train Epoch: 7 [4768/50000 (10%)]\tLoss: 0.945683\tAccuracy: 0.6527083333333333\n",
      "Train Epoch: 7 [9568/50000 (19%)]\tLoss: 0.794060\tAccuracy: 0.6264583333333333\n",
      "Train Epoch: 7 [14368/50000 (29%)]\tLoss: 1.020525\tAccuracy: 0.6320833333333333\n",
      "Train Epoch: 7 [19168/50000 (38%)]\tLoss: 1.046691\tAccuracy: 0.6310416666666666\n",
      "Train Epoch: 7 [23968/50000 (48%)]\tLoss: 0.965165\tAccuracy: 0.6320833333333333\n",
      "Train Epoch: 7 [28768/50000 (58%)]\tLoss: 1.021454\tAccuracy: 0.6435416666666667\n",
      "Train Epoch: 7 [33568/50000 (67%)]\tLoss: 0.996541\tAccuracy: 0.6360416666666666\n",
      "Train Epoch: 7 [38368/50000 (77%)]\tLoss: 1.000389\tAccuracy: 0.633125\n",
      "Train Epoch: 7 [43168/50000 (86%)]\tLoss: 1.163790\tAccuracy: 0.6335416666666667\n",
      "Train Epoch: 7 [47968/50000 (96%)]\tLoss: 0.994229\tAccuracy: 0.6304166666666666\n",
      "Train Epoch: 8 [4768/50000 (10%)]\tLoss: 0.936395\tAccuracy: 0.6535416666666667\n",
      "Train Epoch: 8 [9568/50000 (19%)]\tLoss: 0.791726\tAccuracy: 0.6258333333333334\n",
      "Train Epoch: 8 [14368/50000 (29%)]\tLoss: 1.010074\tAccuracy: 0.6333333333333333\n",
      "Train Epoch: 8 [19168/50000 (38%)]\tLoss: 1.034510\tAccuracy: 0.6335416666666667\n",
      "Train Epoch: 8 [23968/50000 (48%)]\tLoss: 0.960314\tAccuracy: 0.6372916666666667\n",
      "Train Epoch: 8 [28768/50000 (58%)]\tLoss: 1.019801\tAccuracy: 0.64375\n",
      "Train Epoch: 8 [33568/50000 (67%)]\tLoss: 0.992840\tAccuracy: 0.640625\n",
      "Train Epoch: 8 [38368/50000 (77%)]\tLoss: 0.993535\tAccuracy: 0.6345833333333334\n",
      "Train Epoch: 8 [43168/50000 (86%)]\tLoss: 1.148173\tAccuracy: 0.635625\n",
      "Train Epoch: 8 [47968/50000 (96%)]\tLoss: 0.992992\tAccuracy: 0.633125\n",
      "Train Epoch: 9 [4768/50000 (10%)]\tLoss: 0.923510\tAccuracy: 0.655\n",
      "Train Epoch: 9 [9568/50000 (19%)]\tLoss: 0.782472\tAccuracy: 0.6289583333333333\n",
      "Train Epoch: 9 [14368/50000 (29%)]\tLoss: 1.003532\tAccuracy: 0.6345833333333334\n",
      "Train Epoch: 9 [19168/50000 (38%)]\tLoss: 1.029197\tAccuracy: 0.6329166666666667\n",
      "Train Epoch: 9 [23968/50000 (48%)]\tLoss: 0.959362\tAccuracy: 0.6429166666666667\n",
      "Train Epoch: 9 [28768/50000 (58%)]\tLoss: 1.020790\tAccuracy: 0.645625\n",
      "Train Epoch: 9 [33568/50000 (67%)]\tLoss: 0.988760\tAccuracy: 0.6433333333333333\n",
      "Train Epoch: 9 [38368/50000 (77%)]\tLoss: 0.989104\tAccuracy: 0.6335416666666667\n",
      "Train Epoch: 9 [43168/50000 (86%)]\tLoss: 1.136256\tAccuracy: 0.6385416666666667\n",
      "Train Epoch: 9 [47968/50000 (96%)]\tLoss: 0.997741\tAccuracy: 0.6360416666666666\n",
      "Train Epoch: 10 [4768/50000 (10%)]\tLoss: 0.913424\tAccuracy: 0.6572916666666667\n",
      "Train Epoch: 10 [9568/50000 (19%)]\tLoss: 0.773046\tAccuracy: 0.6297916666666666\n",
      "Train Epoch: 10 [14368/50000 (29%)]\tLoss: 0.990970\tAccuracy: 0.6335416666666667\n",
      "Train Epoch: 10 [19168/50000 (38%)]\tLoss: 1.023429\tAccuracy: 0.635\n",
      "Train Epoch: 10 [23968/50000 (48%)]\tLoss: 0.952754\tAccuracy: 0.6416666666666667\n",
      "Train Epoch: 10 [28768/50000 (58%)]\tLoss: 1.018724\tAccuracy: 0.6475\n",
      "Train Epoch: 10 [33568/50000 (67%)]\tLoss: 0.980958\tAccuracy: 0.6427083333333333\n",
      "Train Epoch: 10 [38368/50000 (77%)]\tLoss: 0.982026\tAccuracy: 0.6364583333333333\n",
      "Train Epoch: 10 [43168/50000 (86%)]\tLoss: 1.121596\tAccuracy: 0.6383333333333333\n",
      "Train Epoch: 10 [47968/50000 (96%)]\tLoss: 0.998190\tAccuracy: 0.6364583333333333\n",
      "Train Epoch: 11 [4768/50000 (10%)]\tLoss: 0.904588\tAccuracy: 0.6595833333333333\n",
      "Train Epoch: 11 [9568/50000 (19%)]\tLoss: 0.768133\tAccuracy: 0.6329166666666667\n",
      "Train Epoch: 11 [14368/50000 (29%)]\tLoss: 0.982148\tAccuracy: 0.6364583333333333\n",
      "Train Epoch: 11 [19168/50000 (38%)]\tLoss: 1.019771\tAccuracy: 0.635\n",
      "Train Epoch: 11 [23968/50000 (48%)]\tLoss: 0.950156\tAccuracy: 0.6420833333333333\n",
      "Train Epoch: 11 [28768/50000 (58%)]\tLoss: 1.019193\tAccuracy: 0.6483333333333333\n",
      "Train Epoch: 11 [33568/50000 (67%)]\tLoss: 0.981955\tAccuracy: 0.6458333333333334\n",
      "Train Epoch: 11 [38368/50000 (77%)]\tLoss: 0.974871\tAccuracy: 0.63875\n",
      "Train Epoch: 11 [43168/50000 (86%)]\tLoss: 1.110443\tAccuracy: 0.6404166666666666\n",
      "Train Epoch: 11 [47968/50000 (96%)]\tLoss: 0.997935\tAccuracy: 0.6395833333333333\n",
      "Train Epoch: 12 [4768/50000 (10%)]\tLoss: 0.897757\tAccuracy: 0.6629166666666667\n",
      "Train Epoch: 12 [9568/50000 (19%)]\tLoss: 0.758363\tAccuracy: 0.6327083333333333\n",
      "Train Epoch: 12 [14368/50000 (29%)]\tLoss: 0.977625\tAccuracy: 0.638125\n",
      "Train Epoch: 12 [19168/50000 (38%)]\tLoss: 1.013576\tAccuracy: 0.6370833333333333\n",
      "Train Epoch: 12 [23968/50000 (48%)]\tLoss: 0.944099\tAccuracy: 0.6433333333333333\n",
      "Train Epoch: 12 [28768/50000 (58%)]\tLoss: 1.015970\tAccuracy: 0.64875\n",
      "Train Epoch: 12 [33568/50000 (67%)]\tLoss: 0.975619\tAccuracy: 0.64625\n",
      "Train Epoch: 12 [38368/50000 (77%)]\tLoss: 0.962654\tAccuracy: 0.63875\n",
      "Train Epoch: 12 [43168/50000 (86%)]\tLoss: 1.103129\tAccuracy: 0.64\n",
      "Train Epoch: 12 [47968/50000 (96%)]\tLoss: 0.997228\tAccuracy: 0.64125\n",
      "Train Epoch: 13 [4768/50000 (10%)]\tLoss: 0.892444\tAccuracy: 0.6635416666666667\n",
      "Train Epoch: 13 [9568/50000 (19%)]\tLoss: 0.754468\tAccuracy: 0.6333333333333333\n",
      "Train Epoch: 13 [14368/50000 (29%)]\tLoss: 0.967808\tAccuracy: 0.63875\n",
      "Train Epoch: 13 [19168/50000 (38%)]\tLoss: 1.011425\tAccuracy: 0.6377083333333333\n",
      "Train Epoch: 13 [23968/50000 (48%)]\tLoss: 0.949009\tAccuracy: 0.643125\n",
      "Train Epoch: 13 [28768/50000 (58%)]\tLoss: 1.015488\tAccuracy: 0.65\n",
      "Train Epoch: 13 [33568/50000 (67%)]\tLoss: 0.974243\tAccuracy: 0.6483333333333333\n",
      "Train Epoch: 13 [38368/50000 (77%)]\tLoss: 0.955114\tAccuracy: 0.6391666666666667\n",
      "Train Epoch: 13 [43168/50000 (86%)]\tLoss: 1.096836\tAccuracy: 0.6445833333333333\n",
      "Train Epoch: 13 [47968/50000 (96%)]\tLoss: 0.996860\tAccuracy: 0.640625\n",
      "Train Epoch: 14 [4768/50000 (10%)]\tLoss: 0.885368\tAccuracy: 0.6633333333333333\n",
      "Train Epoch: 14 [9568/50000 (19%)]\tLoss: 0.748379\tAccuracy: 0.6352083333333334\n",
      "Train Epoch: 14 [14368/50000 (29%)]\tLoss: 0.959676\tAccuracy: 0.6420833333333333\n",
      "Train Epoch: 14 [19168/50000 (38%)]\tLoss: 1.010194\tAccuracy: 0.6397916666666666\n",
      "Train Epoch: 14 [23968/50000 (48%)]\tLoss: 0.947538\tAccuracy: 0.6439583333333333\n",
      "Train Epoch: 14 [28768/50000 (58%)]\tLoss: 1.015244\tAccuracy: 0.651875\n",
      "Train Epoch: 14 [33568/50000 (67%)]\tLoss: 0.969252\tAccuracy: 0.6489583333333333\n",
      "Train Epoch: 14 [38368/50000 (77%)]\tLoss: 0.946712\tAccuracy: 0.639375\n",
      "Train Epoch: 14 [43168/50000 (86%)]\tLoss: 1.086232\tAccuracy: 0.6445833333333333\n",
      "Train Epoch: 14 [47968/50000 (96%)]\tLoss: 1.002035\tAccuracy: 0.6420833333333333\n",
      "Train Epoch: 15 [4768/50000 (10%)]\tLoss: 0.878952\tAccuracy: 0.66375\n",
      "Train Epoch: 15 [9568/50000 (19%)]\tLoss: 0.748807\tAccuracy: 0.6379166666666667\n",
      "Train Epoch: 15 [14368/50000 (29%)]\tLoss: 0.954412\tAccuracy: 0.6441666666666667\n",
      "Train Epoch: 15 [19168/50000 (38%)]\tLoss: 1.008007\tAccuracy: 0.6410416666666666\n",
      "Train Epoch: 15 [23968/50000 (48%)]\tLoss: 0.943540\tAccuracy: 0.6479166666666667\n",
      "Train Epoch: 15 [28768/50000 (58%)]\tLoss: 1.011487\tAccuracy: 0.6535416666666667\n",
      "Train Epoch: 15 [33568/50000 (67%)]\tLoss: 0.966325\tAccuracy: 0.6508333333333334\n",
      "Train Epoch: 15 [38368/50000 (77%)]\tLoss: 0.942413\tAccuracy: 0.6410416666666666\n",
      "Train Epoch: 15 [43168/50000 (86%)]\tLoss: 1.080599\tAccuracy: 0.6477083333333333\n",
      "Train Epoch: 15 [47968/50000 (96%)]\tLoss: 1.002137\tAccuracy: 0.6460416666666666\n",
      "Train Epoch: 16 [4768/50000 (10%)]\tLoss: 0.869177\tAccuracy: 0.665\n",
      "Train Epoch: 16 [9568/50000 (19%)]\tLoss: 0.748373\tAccuracy: 0.6395833333333333\n",
      "Train Epoch: 16 [14368/50000 (29%)]\tLoss: 0.948335\tAccuracy: 0.6433333333333333\n",
      "Train Epoch: 16 [19168/50000 (38%)]\tLoss: 1.005594\tAccuracy: 0.6420833333333333\n",
      "Train Epoch: 16 [23968/50000 (48%)]\tLoss: 0.943904\tAccuracy: 0.6485416666666667\n",
      "Train Epoch: 16 [28768/50000 (58%)]\tLoss: 1.010661\tAccuracy: 0.655625\n",
      "Train Epoch: 16 [33568/50000 (67%)]\tLoss: 0.964355\tAccuracy: 0.653125\n",
      "Train Epoch: 16 [38368/50000 (77%)]\tLoss: 0.937017\tAccuracy: 0.6420833333333333\n",
      "Train Epoch: 16 [43168/50000 (86%)]\tLoss: 1.076713\tAccuracy: 0.650625\n",
      "Train Epoch: 16 [47968/50000 (96%)]\tLoss: 1.002778\tAccuracy: 0.6445833333333333\n",
      "Train Epoch: 17 [4768/50000 (10%)]\tLoss: 0.862657\tAccuracy: 0.665625\n",
      "Train Epoch: 17 [9568/50000 (19%)]\tLoss: 0.736504\tAccuracy: 0.6402083333333334\n",
      "Train Epoch: 17 [14368/50000 (29%)]\tLoss: 0.938740\tAccuracy: 0.6439583333333333\n",
      "Train Epoch: 17 [19168/50000 (38%)]\tLoss: 1.001435\tAccuracy: 0.6422916666666667\n",
      "Train Epoch: 17 [23968/50000 (48%)]\tLoss: 0.942361\tAccuracy: 0.650625\n",
      "Train Epoch: 17 [28768/50000 (58%)]\tLoss: 1.010585\tAccuracy: 0.6570833333333334\n",
      "Train Epoch: 17 [33568/50000 (67%)]\tLoss: 0.956899\tAccuracy: 0.65625\n",
      "Train Epoch: 17 [38368/50000 (77%)]\tLoss: 0.931077\tAccuracy: 0.643125\n",
      "Train Epoch: 17 [43168/50000 (86%)]\tLoss: 1.067429\tAccuracy: 0.6525\n",
      "Train Epoch: 17 [47968/50000 (96%)]\tLoss: 0.999826\tAccuracy: 0.645\n",
      "Train Epoch: 18 [4768/50000 (10%)]\tLoss: 0.855606\tAccuracy: 0.668125\n",
      "Train Epoch: 18 [9568/50000 (19%)]\tLoss: 0.732381\tAccuracy: 0.6441666666666667\n",
      "Train Epoch: 18 [14368/50000 (29%)]\tLoss: 0.933280\tAccuracy: 0.6470833333333333\n",
      "Train Epoch: 18 [19168/50000 (38%)]\tLoss: 0.998206\tAccuracy: 0.6439583333333333\n",
      "Train Epoch: 18 [23968/50000 (48%)]\tLoss: 0.940789\tAccuracy: 0.6516666666666666\n",
      "Train Epoch: 18 [28768/50000 (58%)]\tLoss: 1.011693\tAccuracy: 0.6570833333333334\n",
      "Train Epoch: 18 [33568/50000 (67%)]\tLoss: 0.953372\tAccuracy: 0.6577083333333333\n",
      "Train Epoch: 18 [38368/50000 (77%)]\tLoss: 0.918742\tAccuracy: 0.6447916666666667\n",
      "Train Epoch: 18 [43168/50000 (86%)]\tLoss: 1.062052\tAccuracy: 0.654375\n",
      "Train Epoch: 18 [47968/50000 (96%)]\tLoss: 0.998841\tAccuracy: 0.6460416666666666\n",
      "Train Epoch: 19 [4768/50000 (10%)]\tLoss: 0.848149\tAccuracy: 0.67\n",
      "Train Epoch: 19 [9568/50000 (19%)]\tLoss: 0.728766\tAccuracy: 0.6454166666666666\n",
      "Train Epoch: 19 [14368/50000 (29%)]\tLoss: 0.922306\tAccuracy: 0.6483333333333333\n",
      "Train Epoch: 19 [19168/50000 (38%)]\tLoss: 0.999055\tAccuracy: 0.6447916666666667\n",
      "Train Epoch: 19 [23968/50000 (48%)]\tLoss: 0.936823\tAccuracy: 0.6539583333333333\n",
      "Train Epoch: 19 [28768/50000 (58%)]\tLoss: 1.009532\tAccuracy: 0.65875\n",
      "Train Epoch: 19 [33568/50000 (67%)]\tLoss: 0.952210\tAccuracy: 0.6572916666666667\n",
      "Train Epoch: 19 [38368/50000 (77%)]\tLoss: 0.906346\tAccuracy: 0.645625\n",
      "Train Epoch: 19 [43168/50000 (86%)]\tLoss: 1.050156\tAccuracy: 0.6570833333333334\n",
      "Train Epoch: 19 [47968/50000 (96%)]\tLoss: 0.995495\tAccuracy: 0.6466666666666666\n",
      "Train Epoch: 20 [4768/50000 (10%)]\tLoss: 0.838148\tAccuracy: 0.6733333333333333\n",
      "Train Epoch: 20 [9568/50000 (19%)]\tLoss: 0.722431\tAccuracy: 0.6477083333333333\n",
      "Train Epoch: 20 [14368/50000 (29%)]\tLoss: 0.913963\tAccuracy: 0.6491666666666667\n",
      "Train Epoch: 20 [19168/50000 (38%)]\tLoss: 0.990735\tAccuracy: 0.6477083333333333\n",
      "Train Epoch: 20 [23968/50000 (48%)]\tLoss: 0.931136\tAccuracy: 0.6545833333333333\n",
      "Train Epoch: 20 [28768/50000 (58%)]\tLoss: 1.004642\tAccuracy: 0.659375\n",
      "Train Epoch: 20 [33568/50000 (67%)]\tLoss: 0.947628\tAccuracy: 0.6589583333333333\n",
      "Train Epoch: 20 [38368/50000 (77%)]\tLoss: 0.899913\tAccuracy: 0.6485416666666667\n",
      "Train Epoch: 20 [43168/50000 (86%)]\tLoss: 1.047003\tAccuracy: 0.6597916666666667\n",
      "Train Epoch: 20 [47968/50000 (96%)]\tLoss: 0.988237\tAccuracy: 0.6466666666666666\n",
      "Train Epoch: 21 [4768/50000 (10%)]\tLoss: 0.831034\tAccuracy: 0.6745833333333333\n",
      "Train Epoch: 21 [9568/50000 (19%)]\tLoss: 0.720779\tAccuracy: 0.648125\n",
      "Train Epoch: 21 [14368/50000 (29%)]\tLoss: 0.907601\tAccuracy: 0.65\n",
      "Train Epoch: 21 [19168/50000 (38%)]\tLoss: 0.985981\tAccuracy: 0.6485416666666667\n",
      "Train Epoch: 21 [23968/50000 (48%)]\tLoss: 0.934121\tAccuracy: 0.655\n",
      "Train Epoch: 21 [28768/50000 (58%)]\tLoss: 0.998838\tAccuracy: 0.6608333333333334\n",
      "Train Epoch: 21 [33568/50000 (67%)]\tLoss: 0.947618\tAccuracy: 0.66\n",
      "Train Epoch: 21 [38368/50000 (77%)]\tLoss: 0.897381\tAccuracy: 0.6483333333333333\n",
      "Train Epoch: 21 [43168/50000 (86%)]\tLoss: 1.038858\tAccuracy: 0.66\n",
      "Train Epoch: 21 [47968/50000 (96%)]\tLoss: 0.983267\tAccuracy: 0.646875\n",
      "Train Epoch: 22 [4768/50000 (10%)]\tLoss: 0.826704\tAccuracy: 0.676875\n",
      "Train Epoch: 22 [9568/50000 (19%)]\tLoss: 0.720582\tAccuracy: 0.64875\n",
      "Train Epoch: 22 [14368/50000 (29%)]\tLoss: 0.899990\tAccuracy: 0.6502083333333334\n",
      "Train Epoch: 22 [19168/50000 (38%)]\tLoss: 0.979260\tAccuracy: 0.6497916666666667\n",
      "Train Epoch: 22 [23968/50000 (48%)]\tLoss: 0.935443\tAccuracy: 0.6566666666666666\n",
      "Train Epoch: 22 [28768/50000 (58%)]\tLoss: 0.992717\tAccuracy: 0.6614583333333334\n",
      "Train Epoch: 22 [33568/50000 (67%)]\tLoss: 0.944271\tAccuracy: 0.65875\n",
      "Train Epoch: 22 [38368/50000 (77%)]\tLoss: 0.891694\tAccuracy: 0.65\n",
      "Train Epoch: 22 [43168/50000 (86%)]\tLoss: 1.032034\tAccuracy: 0.6608333333333334\n",
      "Train Epoch: 22 [47968/50000 (96%)]\tLoss: 0.978098\tAccuracy: 0.6470833333333333\n",
      "Train Epoch: 23 [4768/50000 (10%)]\tLoss: 0.823711\tAccuracy: 0.6772916666666666\n",
      "Train Epoch: 23 [9568/50000 (19%)]\tLoss: 0.720521\tAccuracy: 0.6495833333333333\n",
      "Train Epoch: 23 [14368/50000 (29%)]\tLoss: 0.898455\tAccuracy: 0.6502083333333334\n",
      "Train Epoch: 23 [19168/50000 (38%)]\tLoss: 0.975272\tAccuracy: 0.6508333333333334\n",
      "Train Epoch: 23 [23968/50000 (48%)]\tLoss: 0.937704\tAccuracy: 0.6585416666666667\n",
      "Train Epoch: 23 [28768/50000 (58%)]\tLoss: 0.988612\tAccuracy: 0.6625\n",
      "Train Epoch: 23 [33568/50000 (67%)]\tLoss: 0.943442\tAccuracy: 0.6614583333333334\n",
      "Train Epoch: 23 [38368/50000 (77%)]\tLoss: 0.879902\tAccuracy: 0.6520833333333333\n",
      "Train Epoch: 23 [43168/50000 (86%)]\tLoss: 1.024578\tAccuracy: 0.6629166666666667\n",
      "Train Epoch: 23 [47968/50000 (96%)]\tLoss: 0.980335\tAccuracy: 0.6491666666666667\n",
      "Train Epoch: 24 [4768/50000 (10%)]\tLoss: 0.819280\tAccuracy: 0.6783333333333333\n",
      "Train Epoch: 24 [9568/50000 (19%)]\tLoss: 0.719747\tAccuracy: 0.650625\n",
      "Train Epoch: 24 [14368/50000 (29%)]\tLoss: 0.895633\tAccuracy: 0.6510416666666666\n",
      "Train Epoch: 24 [19168/50000 (38%)]\tLoss: 0.970197\tAccuracy: 0.6525\n",
      "Train Epoch: 24 [23968/50000 (48%)]\tLoss: 0.935390\tAccuracy: 0.6595833333333333\n",
      "Train Epoch: 24 [28768/50000 (58%)]\tLoss: 0.981990\tAccuracy: 0.6652083333333333\n",
      "Train Epoch: 24 [33568/50000 (67%)]\tLoss: 0.946570\tAccuracy: 0.66375\n",
      "Train Epoch: 24 [38368/50000 (77%)]\tLoss: 0.874991\tAccuracy: 0.65375\n",
      "Train Epoch: 24 [43168/50000 (86%)]\tLoss: 1.013166\tAccuracy: 0.663125\n",
      "Train Epoch: 24 [47968/50000 (96%)]\tLoss: 0.979711\tAccuracy: 0.6510416666666666\n",
      "Train Epoch: 25 [4768/50000 (10%)]\tLoss: 0.813718\tAccuracy: 0.680625\n",
      "Train Epoch: 25 [9568/50000 (19%)]\tLoss: 0.719428\tAccuracy: 0.6510416666666666\n",
      "Train Epoch: 25 [14368/50000 (29%)]\tLoss: 0.894964\tAccuracy: 0.654375\n",
      "Train Epoch: 25 [19168/50000 (38%)]\tLoss: 0.965901\tAccuracy: 0.6525\n",
      "Train Epoch: 25 [23968/50000 (48%)]\tLoss: 0.932389\tAccuracy: 0.6604166666666667\n",
      "Train Epoch: 25 [28768/50000 (58%)]\tLoss: 0.978250\tAccuracy: 0.6658333333333334\n",
      "Train Epoch: 25 [33568/50000 (67%)]\tLoss: 0.944666\tAccuracy: 0.664375\n",
      "Train Epoch: 25 [38368/50000 (77%)]\tLoss: 0.870768\tAccuracy: 0.6541666666666667\n",
      "Train Epoch: 25 [43168/50000 (86%)]\tLoss: 1.010123\tAccuracy: 0.6645833333333333\n",
      "Train Epoch: 25 [47968/50000 (96%)]\tLoss: 0.976711\tAccuracy: 0.6510416666666666\n",
      "Train Epoch: 26 [4768/50000 (10%)]\tLoss: 0.809168\tAccuracy: 0.6835416666666667\n",
      "Train Epoch: 26 [9568/50000 (19%)]\tLoss: 0.724374\tAccuracy: 0.6541666666666667\n",
      "Train Epoch: 26 [14368/50000 (29%)]\tLoss: 0.886895\tAccuracy: 0.6547916666666667\n",
      "Train Epoch: 26 [19168/50000 (38%)]\tLoss: 0.960423\tAccuracy: 0.6541666666666667\n",
      "Train Epoch: 26 [23968/50000 (48%)]\tLoss: 0.932601\tAccuracy: 0.6614583333333334\n",
      "Train Epoch: 26 [28768/50000 (58%)]\tLoss: 0.976540\tAccuracy: 0.666875\n",
      "Train Epoch: 26 [33568/50000 (67%)]\tLoss: 0.938127\tAccuracy: 0.6654166666666667\n",
      "Train Epoch: 26 [38368/50000 (77%)]\tLoss: 0.862005\tAccuracy: 0.6564583333333334\n",
      "Train Epoch: 26 [43168/50000 (86%)]\tLoss: 1.006248\tAccuracy: 0.6654166666666667\n",
      "Train Epoch: 26 [47968/50000 (96%)]\tLoss: 0.970615\tAccuracy: 0.65375\n",
      "Train Epoch: 27 [4768/50000 (10%)]\tLoss: 0.804636\tAccuracy: 0.6845833333333333\n",
      "Train Epoch: 27 [9568/50000 (19%)]\tLoss: 0.727759\tAccuracy: 0.6533333333333333\n",
      "Train Epoch: 27 [14368/50000 (29%)]\tLoss: 0.885435\tAccuracy: 0.6554166666666666\n",
      "Train Epoch: 27 [19168/50000 (38%)]\tLoss: 0.956737\tAccuracy: 0.6570833333333334\n",
      "Train Epoch: 27 [23968/50000 (48%)]\tLoss: 0.932434\tAccuracy: 0.6622916666666666\n",
      "Train Epoch: 27 [28768/50000 (58%)]\tLoss: 0.974078\tAccuracy: 0.6666666666666666\n",
      "Train Epoch: 27 [33568/50000 (67%)]\tLoss: 0.938319\tAccuracy: 0.6677083333333333\n",
      "Train Epoch: 27 [38368/50000 (77%)]\tLoss: 0.858337\tAccuracy: 0.6570833333333334\n",
      "Train Epoch: 27 [43168/50000 (86%)]\tLoss: 1.003735\tAccuracy: 0.6652083333333333\n",
      "Train Epoch: 27 [47968/50000 (96%)]\tLoss: 0.971514\tAccuracy: 0.653125\n",
      "Train Epoch: 28 [4768/50000 (10%)]\tLoss: 0.799864\tAccuracy: 0.685625\n",
      "Train Epoch: 28 [9568/50000 (19%)]\tLoss: 0.734528\tAccuracy: 0.653125\n",
      "Train Epoch: 28 [14368/50000 (29%)]\tLoss: 0.882496\tAccuracy: 0.6558333333333334\n",
      "Train Epoch: 28 [19168/50000 (38%)]\tLoss: 0.950988\tAccuracy: 0.6589583333333333\n",
      "Train Epoch: 28 [23968/50000 (48%)]\tLoss: 0.932888\tAccuracy: 0.66375\n",
      "Train Epoch: 28 [28768/50000 (58%)]\tLoss: 0.970389\tAccuracy: 0.6679166666666667\n",
      "Train Epoch: 28 [33568/50000 (67%)]\tLoss: 0.939714\tAccuracy: 0.66875\n",
      "Train Epoch: 28 [38368/50000 (77%)]\tLoss: 0.850989\tAccuracy: 0.6602083333333333\n",
      "Train Epoch: 28 [43168/50000 (86%)]\tLoss: 1.000668\tAccuracy: 0.6677083333333333\n",
      "Train Epoch: 28 [47968/50000 (96%)]\tLoss: 0.971546\tAccuracy: 0.6566666666666666\n",
      "Train Epoch: 29 [4768/50000 (10%)]\tLoss: 0.795248\tAccuracy: 0.68625\n",
      "Train Epoch: 29 [9568/50000 (19%)]\tLoss: 0.739488\tAccuracy: 0.655625\n",
      "Train Epoch: 29 [14368/50000 (29%)]\tLoss: 0.875904\tAccuracy: 0.6585416666666667\n",
      "Train Epoch: 29 [19168/50000 (38%)]\tLoss: 0.947817\tAccuracy: 0.659375\n",
      "Train Epoch: 29 [23968/50000 (48%)]\tLoss: 0.931473\tAccuracy: 0.66375\n",
      "Train Epoch: 29 [28768/50000 (58%)]\tLoss: 0.969180\tAccuracy: 0.6695833333333333\n",
      "Train Epoch: 29 [33568/50000 (67%)]\tLoss: 0.939707\tAccuracy: 0.6695833333333333\n",
      "Train Epoch: 29 [38368/50000 (77%)]\tLoss: 0.854633\tAccuracy: 0.661875\n",
      "Train Epoch: 29 [43168/50000 (86%)]\tLoss: 0.990428\tAccuracy: 0.669375\n",
      "Train Epoch: 29 [47968/50000 (96%)]\tLoss: 0.965592\tAccuracy: 0.6560416666666666\n"
     ]
    }
   ],
   "source": [
    "# control run\n",
    "# loss_control = []\n",
    "epochs = 30\n",
    "for epoch in range(1, epochs):\n",
    "    for loss_val in train(model_control, device, train_loader, optimizer, epoch):\n",
    "        loss_control.append(loss_val)\n"
   ]
  },
  {
   "cell_type": "code",
   "execution_count": 146,
   "id": "4a12e6b8",
   "metadata": {
    "collapsed": true,
    "jupyter": {
     "outputs_hidden": true
    }
   },
   "outputs": [
    {
     "name": "stdout",
     "output_type": "stream",
     "text": [
      "Train Epoch: 1 [4768/50000 (10%)]\tLoss: 2.327898\tAccuracy: 0.15791666666666668\n",
      "Train Epoch: 1 [9568/50000 (19%)]\tLoss: 2.123215\tAccuracy: 0.19895833333333332\n",
      "Train Epoch: 1 [14368/50000 (29%)]\tLoss: 2.119751\tAccuracy: 0.19395833333333334\n"
     ]
    },
    {
     "ename": "KeyboardInterrupt",
     "evalue": "",
     "output_type": "error",
     "traceback": [
      "\u001b[0;31m---------------------------------------------------------------------------\u001b[0m",
      "\u001b[0;31mKeyboardInterrupt\u001b[0m                         Traceback (most recent call last)",
      "\u001b[0;32m<ipython-input-146-2bb131e84e9e>\u001b[0m in \u001b[0;36m<module>\u001b[0;34m\u001b[0m\n\u001b[1;32m      5\u001b[0m \u001b[0moptimizer2\u001b[0m \u001b[0;34m=\u001b[0m \u001b[0mtorch\u001b[0m\u001b[0;34m.\u001b[0m\u001b[0moptim\u001b[0m\u001b[0;34m.\u001b[0m\u001b[0mAdam\u001b[0m\u001b[0;34m(\u001b[0m\u001b[0mmodel_control2\u001b[0m\u001b[0;34m.\u001b[0m\u001b[0mparameters\u001b[0m\u001b[0;34m(\u001b[0m\u001b[0;34m)\u001b[0m\u001b[0;34m,\u001b[0m \u001b[0mlr\u001b[0m\u001b[0;34m=\u001b[0m\u001b[0;36m3e-4\u001b[0m\u001b[0;34m)\u001b[0m\u001b[0;34m\u001b[0m\u001b[0;34m\u001b[0m\u001b[0m\n\u001b[1;32m      6\u001b[0m \u001b[0;32mfor\u001b[0m \u001b[0mepoch\u001b[0m \u001b[0;32min\u001b[0m \u001b[0mrange\u001b[0m\u001b[0;34m(\u001b[0m\u001b[0;36m1\u001b[0m\u001b[0;34m,\u001b[0m \u001b[0mepochs\u001b[0m\u001b[0;34m)\u001b[0m\u001b[0;34m:\u001b[0m\u001b[0;34m\u001b[0m\u001b[0;34m\u001b[0m\u001b[0m\n\u001b[0;32m----> 7\u001b[0;31m     \u001b[0;32mfor\u001b[0m \u001b[0mloss_val\u001b[0m \u001b[0;32min\u001b[0m \u001b[0mtrain\u001b[0m\u001b[0;34m(\u001b[0m\u001b[0mmodel_control2\u001b[0m\u001b[0;34m,\u001b[0m \u001b[0mdevice\u001b[0m\u001b[0;34m,\u001b[0m \u001b[0mtrain_loader\u001b[0m\u001b[0;34m,\u001b[0m \u001b[0moptimizer2\u001b[0m\u001b[0;34m,\u001b[0m \u001b[0mepoch\u001b[0m\u001b[0;34m)\u001b[0m\u001b[0;34m:\u001b[0m\u001b[0;34m\u001b[0m\u001b[0;34m\u001b[0m\u001b[0m\n\u001b[0m\u001b[1;32m      8\u001b[0m         \u001b[0mloss_control2\u001b[0m\u001b[0;34m.\u001b[0m\u001b[0mappend\u001b[0m\u001b[0;34m(\u001b[0m\u001b[0mloss_val\u001b[0m\u001b[0;34m)\u001b[0m\u001b[0;34m\u001b[0m\u001b[0;34m\u001b[0m\u001b[0m\n",
      "\u001b[0;32m<ipython-input-12-8091b908afe3>\u001b[0m in \u001b[0;36mtrain\u001b[0;34m(model, device, train_loader, optimizer, epoch)\u001b[0m\n\u001b[1;32m      2\u001b[0m     \u001b[0mmodel\u001b[0m\u001b[0;34m.\u001b[0m\u001b[0mtrain\u001b[0m\u001b[0;34m(\u001b[0m\u001b[0;34m)\u001b[0m\u001b[0;34m\u001b[0m\u001b[0;34m\u001b[0m\u001b[0m\n\u001b[1;32m      3\u001b[0m     \u001b[0macc\u001b[0m \u001b[0;34m=\u001b[0m \u001b[0;36m0\u001b[0m\u001b[0;34m\u001b[0m\u001b[0;34m\u001b[0m\u001b[0m\n\u001b[0;32m----> 4\u001b[0;31m     \u001b[0;32mfor\u001b[0m \u001b[0mbatch_idx\u001b[0m\u001b[0;34m,\u001b[0m \u001b[0;34m(\u001b[0m\u001b[0mdata\u001b[0m\u001b[0;34m,\u001b[0m \u001b[0mtarget\u001b[0m\u001b[0;34m)\u001b[0m \u001b[0;32min\u001b[0m \u001b[0menumerate\u001b[0m\u001b[0;34m(\u001b[0m\u001b[0mtrain_loader\u001b[0m\u001b[0;34m)\u001b[0m\u001b[0;34m:\u001b[0m\u001b[0;34m\u001b[0m\u001b[0;34m\u001b[0m\u001b[0m\n\u001b[0m\u001b[1;32m      5\u001b[0m         \u001b[0mdata\u001b[0m\u001b[0;34m,\u001b[0m \u001b[0mtarget\u001b[0m \u001b[0;34m=\u001b[0m \u001b[0mdata\u001b[0m\u001b[0;34m.\u001b[0m\u001b[0mto\u001b[0m\u001b[0;34m(\u001b[0m\u001b[0mdevice\u001b[0m\u001b[0;34m)\u001b[0m\u001b[0;34m,\u001b[0m \u001b[0mtarget\u001b[0m\u001b[0;34m.\u001b[0m\u001b[0mto\u001b[0m\u001b[0;34m(\u001b[0m\u001b[0mdevice\u001b[0m\u001b[0;34m)\u001b[0m\u001b[0;34m\u001b[0m\u001b[0;34m\u001b[0m\u001b[0m\n\u001b[1;32m      6\u001b[0m         \u001b[0moptimizer\u001b[0m\u001b[0;34m.\u001b[0m\u001b[0mzero_grad\u001b[0m\u001b[0;34m(\u001b[0m\u001b[0;34m)\u001b[0m\u001b[0;34m\u001b[0m\u001b[0;34m\u001b[0m\u001b[0m\n",
      "\u001b[0;32m~/.conda/envs/will-gpu/lib/python3.8/site-packages/torch/utils/data/dataloader.py\u001b[0m in \u001b[0;36m__next__\u001b[0;34m(self)\u001b[0m\n\u001b[1;32m    515\u001b[0m             \u001b[0;32mif\u001b[0m \u001b[0mself\u001b[0m\u001b[0;34m.\u001b[0m\u001b[0m_sampler_iter\u001b[0m \u001b[0;32mis\u001b[0m \u001b[0;32mNone\u001b[0m\u001b[0;34m:\u001b[0m\u001b[0;34m\u001b[0m\u001b[0;34m\u001b[0m\u001b[0m\n\u001b[1;32m    516\u001b[0m                 \u001b[0mself\u001b[0m\u001b[0;34m.\u001b[0m\u001b[0m_reset\u001b[0m\u001b[0;34m(\u001b[0m\u001b[0;34m)\u001b[0m\u001b[0;34m\u001b[0m\u001b[0;34m\u001b[0m\u001b[0m\n\u001b[0;32m--> 517\u001b[0;31m             \u001b[0mdata\u001b[0m \u001b[0;34m=\u001b[0m \u001b[0mself\u001b[0m\u001b[0;34m.\u001b[0m\u001b[0m_next_data\u001b[0m\u001b[0;34m(\u001b[0m\u001b[0;34m)\u001b[0m\u001b[0;34m\u001b[0m\u001b[0;34m\u001b[0m\u001b[0m\n\u001b[0m\u001b[1;32m    518\u001b[0m             \u001b[0mself\u001b[0m\u001b[0;34m.\u001b[0m\u001b[0m_num_yielded\u001b[0m \u001b[0;34m+=\u001b[0m \u001b[0;36m1\u001b[0m\u001b[0;34m\u001b[0m\u001b[0;34m\u001b[0m\u001b[0m\n\u001b[1;32m    519\u001b[0m             \u001b[0;32mif\u001b[0m \u001b[0mself\u001b[0m\u001b[0;34m.\u001b[0m\u001b[0m_dataset_kind\u001b[0m \u001b[0;34m==\u001b[0m \u001b[0m_DatasetKind\u001b[0m\u001b[0;34m.\u001b[0m\u001b[0mIterable\u001b[0m \u001b[0;32mand\u001b[0m\u001b[0;31m \u001b[0m\u001b[0;31m\\\u001b[0m\u001b[0;34m\u001b[0m\u001b[0;34m\u001b[0m\u001b[0m\n",
      "\u001b[0;32m~/.conda/envs/will-gpu/lib/python3.8/site-packages/torch/utils/data/dataloader.py\u001b[0m in \u001b[0;36m_next_data\u001b[0;34m(self)\u001b[0m\n\u001b[1;32m    555\u001b[0m     \u001b[0;32mdef\u001b[0m \u001b[0m_next_data\u001b[0m\u001b[0;34m(\u001b[0m\u001b[0mself\u001b[0m\u001b[0;34m)\u001b[0m\u001b[0;34m:\u001b[0m\u001b[0;34m\u001b[0m\u001b[0;34m\u001b[0m\u001b[0m\n\u001b[1;32m    556\u001b[0m         \u001b[0mindex\u001b[0m \u001b[0;34m=\u001b[0m \u001b[0mself\u001b[0m\u001b[0;34m.\u001b[0m\u001b[0m_next_index\u001b[0m\u001b[0;34m(\u001b[0m\u001b[0;34m)\u001b[0m  \u001b[0;31m# may raise StopIteration\u001b[0m\u001b[0;34m\u001b[0m\u001b[0;34m\u001b[0m\u001b[0m\n\u001b[0;32m--> 557\u001b[0;31m         \u001b[0mdata\u001b[0m \u001b[0;34m=\u001b[0m \u001b[0mself\u001b[0m\u001b[0;34m.\u001b[0m\u001b[0m_dataset_fetcher\u001b[0m\u001b[0;34m.\u001b[0m\u001b[0mfetch\u001b[0m\u001b[0;34m(\u001b[0m\u001b[0mindex\u001b[0m\u001b[0;34m)\u001b[0m  \u001b[0;31m# may raise StopIteration\u001b[0m\u001b[0;34m\u001b[0m\u001b[0;34m\u001b[0m\u001b[0m\n\u001b[0m\u001b[1;32m    558\u001b[0m         \u001b[0;32mif\u001b[0m \u001b[0mself\u001b[0m\u001b[0;34m.\u001b[0m\u001b[0m_pin_memory\u001b[0m\u001b[0;34m:\u001b[0m\u001b[0;34m\u001b[0m\u001b[0;34m\u001b[0m\u001b[0m\n\u001b[1;32m    559\u001b[0m             \u001b[0mdata\u001b[0m \u001b[0;34m=\u001b[0m \u001b[0m_utils\u001b[0m\u001b[0;34m.\u001b[0m\u001b[0mpin_memory\u001b[0m\u001b[0;34m.\u001b[0m\u001b[0mpin_memory\u001b[0m\u001b[0;34m(\u001b[0m\u001b[0mdata\u001b[0m\u001b[0;34m)\u001b[0m\u001b[0;34m\u001b[0m\u001b[0;34m\u001b[0m\u001b[0m\n",
      "\u001b[0;32m~/.conda/envs/will-gpu/lib/python3.8/site-packages/torch/utils/data/_utils/fetch.py\u001b[0m in \u001b[0;36mfetch\u001b[0;34m(self, possibly_batched_index)\u001b[0m\n\u001b[1;32m     42\u001b[0m     \u001b[0;32mdef\u001b[0m \u001b[0mfetch\u001b[0m\u001b[0;34m(\u001b[0m\u001b[0mself\u001b[0m\u001b[0;34m,\u001b[0m \u001b[0mpossibly_batched_index\u001b[0m\u001b[0;34m)\u001b[0m\u001b[0;34m:\u001b[0m\u001b[0;34m\u001b[0m\u001b[0;34m\u001b[0m\u001b[0m\n\u001b[1;32m     43\u001b[0m         \u001b[0;32mif\u001b[0m \u001b[0mself\u001b[0m\u001b[0;34m.\u001b[0m\u001b[0mauto_collation\u001b[0m\u001b[0;34m:\u001b[0m\u001b[0;34m\u001b[0m\u001b[0;34m\u001b[0m\u001b[0m\n\u001b[0;32m---> 44\u001b[0;31m             \u001b[0mdata\u001b[0m \u001b[0;34m=\u001b[0m \u001b[0;34m[\u001b[0m\u001b[0mself\u001b[0m\u001b[0;34m.\u001b[0m\u001b[0mdataset\u001b[0m\u001b[0;34m[\u001b[0m\u001b[0midx\u001b[0m\u001b[0;34m]\u001b[0m \u001b[0;32mfor\u001b[0m \u001b[0midx\u001b[0m \u001b[0;32min\u001b[0m \u001b[0mpossibly_batched_index\u001b[0m\u001b[0;34m]\u001b[0m\u001b[0;34m\u001b[0m\u001b[0;34m\u001b[0m\u001b[0m\n\u001b[0m\u001b[1;32m     45\u001b[0m         \u001b[0;32melse\u001b[0m\u001b[0;34m:\u001b[0m\u001b[0;34m\u001b[0m\u001b[0;34m\u001b[0m\u001b[0m\n\u001b[1;32m     46\u001b[0m             \u001b[0mdata\u001b[0m \u001b[0;34m=\u001b[0m \u001b[0mself\u001b[0m\u001b[0;34m.\u001b[0m\u001b[0mdataset\u001b[0m\u001b[0;34m[\u001b[0m\u001b[0mpossibly_batched_index\u001b[0m\u001b[0;34m]\u001b[0m\u001b[0;34m\u001b[0m\u001b[0;34m\u001b[0m\u001b[0m\n",
      "\u001b[0;32m~/.conda/envs/will-gpu/lib/python3.8/site-packages/torch/utils/data/_utils/fetch.py\u001b[0m in \u001b[0;36m<listcomp>\u001b[0;34m(.0)\u001b[0m\n\u001b[1;32m     42\u001b[0m     \u001b[0;32mdef\u001b[0m \u001b[0mfetch\u001b[0m\u001b[0;34m(\u001b[0m\u001b[0mself\u001b[0m\u001b[0;34m,\u001b[0m \u001b[0mpossibly_batched_index\u001b[0m\u001b[0;34m)\u001b[0m\u001b[0;34m:\u001b[0m\u001b[0;34m\u001b[0m\u001b[0;34m\u001b[0m\u001b[0m\n\u001b[1;32m     43\u001b[0m         \u001b[0;32mif\u001b[0m \u001b[0mself\u001b[0m\u001b[0;34m.\u001b[0m\u001b[0mauto_collation\u001b[0m\u001b[0;34m:\u001b[0m\u001b[0;34m\u001b[0m\u001b[0;34m\u001b[0m\u001b[0m\n\u001b[0;32m---> 44\u001b[0;31m             \u001b[0mdata\u001b[0m \u001b[0;34m=\u001b[0m \u001b[0;34m[\u001b[0m\u001b[0mself\u001b[0m\u001b[0;34m.\u001b[0m\u001b[0mdataset\u001b[0m\u001b[0;34m[\u001b[0m\u001b[0midx\u001b[0m\u001b[0;34m]\u001b[0m \u001b[0;32mfor\u001b[0m \u001b[0midx\u001b[0m \u001b[0;32min\u001b[0m \u001b[0mpossibly_batched_index\u001b[0m\u001b[0;34m]\u001b[0m\u001b[0;34m\u001b[0m\u001b[0;34m\u001b[0m\u001b[0m\n\u001b[0m\u001b[1;32m     45\u001b[0m         \u001b[0;32melse\u001b[0m\u001b[0;34m:\u001b[0m\u001b[0;34m\u001b[0m\u001b[0;34m\u001b[0m\u001b[0m\n\u001b[1;32m     46\u001b[0m             \u001b[0mdata\u001b[0m \u001b[0;34m=\u001b[0m \u001b[0mself\u001b[0m\u001b[0;34m.\u001b[0m\u001b[0mdataset\u001b[0m\u001b[0;34m[\u001b[0m\u001b[0mpossibly_batched_index\u001b[0m\u001b[0;34m]\u001b[0m\u001b[0;34m\u001b[0m\u001b[0;34m\u001b[0m\u001b[0m\n",
      "\u001b[0;32m~/.conda/envs/will-gpu/lib/python3.8/site-packages/torchvision/datasets/cifar.py\u001b[0m in \u001b[0;36m__getitem__\u001b[0;34m(self, index)\u001b[0m\n\u001b[1;32m    118\u001b[0m \u001b[0;34m\u001b[0m\u001b[0m\n\u001b[1;32m    119\u001b[0m         \u001b[0;32mif\u001b[0m \u001b[0mself\u001b[0m\u001b[0;34m.\u001b[0m\u001b[0mtransform\u001b[0m \u001b[0;32mis\u001b[0m \u001b[0;32mnot\u001b[0m \u001b[0;32mNone\u001b[0m\u001b[0;34m:\u001b[0m\u001b[0;34m\u001b[0m\u001b[0;34m\u001b[0m\u001b[0m\n\u001b[0;32m--> 120\u001b[0;31m             \u001b[0mimg\u001b[0m \u001b[0;34m=\u001b[0m \u001b[0mself\u001b[0m\u001b[0;34m.\u001b[0m\u001b[0mtransform\u001b[0m\u001b[0;34m(\u001b[0m\u001b[0mimg\u001b[0m\u001b[0;34m)\u001b[0m\u001b[0;34m\u001b[0m\u001b[0;34m\u001b[0m\u001b[0m\n\u001b[0m\u001b[1;32m    121\u001b[0m \u001b[0;34m\u001b[0m\u001b[0m\n\u001b[1;32m    122\u001b[0m         \u001b[0;32mif\u001b[0m \u001b[0mself\u001b[0m\u001b[0;34m.\u001b[0m\u001b[0mtarget_transform\u001b[0m \u001b[0;32mis\u001b[0m \u001b[0;32mnot\u001b[0m \u001b[0;32mNone\u001b[0m\u001b[0;34m:\u001b[0m\u001b[0;34m\u001b[0m\u001b[0;34m\u001b[0m\u001b[0m\n",
      "\u001b[0;32m~/.conda/envs/will-gpu/lib/python3.8/site-packages/torchvision/transforms/transforms.py\u001b[0m in \u001b[0;36m__call__\u001b[0;34m(self, img)\u001b[0m\n\u001b[1;32m     58\u001b[0m     \u001b[0;32mdef\u001b[0m \u001b[0m__call__\u001b[0m\u001b[0;34m(\u001b[0m\u001b[0mself\u001b[0m\u001b[0;34m,\u001b[0m \u001b[0mimg\u001b[0m\u001b[0;34m)\u001b[0m\u001b[0;34m:\u001b[0m\u001b[0;34m\u001b[0m\u001b[0;34m\u001b[0m\u001b[0m\n\u001b[1;32m     59\u001b[0m         \u001b[0;32mfor\u001b[0m \u001b[0mt\u001b[0m \u001b[0;32min\u001b[0m \u001b[0mself\u001b[0m\u001b[0;34m.\u001b[0m\u001b[0mtransforms\u001b[0m\u001b[0;34m:\u001b[0m\u001b[0;34m\u001b[0m\u001b[0;34m\u001b[0m\u001b[0m\n\u001b[0;32m---> 60\u001b[0;31m             \u001b[0mimg\u001b[0m \u001b[0;34m=\u001b[0m \u001b[0mt\u001b[0m\u001b[0;34m(\u001b[0m\u001b[0mimg\u001b[0m\u001b[0;34m)\u001b[0m\u001b[0;34m\u001b[0m\u001b[0;34m\u001b[0m\u001b[0m\n\u001b[0m\u001b[1;32m     61\u001b[0m         \u001b[0;32mreturn\u001b[0m \u001b[0mimg\u001b[0m\u001b[0;34m\u001b[0m\u001b[0;34m\u001b[0m\u001b[0m\n\u001b[1;32m     62\u001b[0m \u001b[0;34m\u001b[0m\u001b[0m\n",
      "\u001b[0;32m~/.conda/envs/will-gpu/lib/python3.8/site-packages/torch/nn/modules/module.py\u001b[0m in \u001b[0;36m_call_impl\u001b[0;34m(self, *input, **kwargs)\u001b[0m\n\u001b[1;32m    887\u001b[0m             \u001b[0mresult\u001b[0m \u001b[0;34m=\u001b[0m \u001b[0mself\u001b[0m\u001b[0;34m.\u001b[0m\u001b[0m_slow_forward\u001b[0m\u001b[0;34m(\u001b[0m\u001b[0;34m*\u001b[0m\u001b[0minput\u001b[0m\u001b[0;34m,\u001b[0m \u001b[0;34m**\u001b[0m\u001b[0mkwargs\u001b[0m\u001b[0;34m)\u001b[0m\u001b[0;34m\u001b[0m\u001b[0;34m\u001b[0m\u001b[0m\n\u001b[1;32m    888\u001b[0m         \u001b[0;32melse\u001b[0m\u001b[0;34m:\u001b[0m\u001b[0;34m\u001b[0m\u001b[0;34m\u001b[0m\u001b[0m\n\u001b[0;32m--> 889\u001b[0;31m             \u001b[0mresult\u001b[0m \u001b[0;34m=\u001b[0m \u001b[0mself\u001b[0m\u001b[0;34m.\u001b[0m\u001b[0mforward\u001b[0m\u001b[0;34m(\u001b[0m\u001b[0;34m*\u001b[0m\u001b[0minput\u001b[0m\u001b[0;34m,\u001b[0m \u001b[0;34m**\u001b[0m\u001b[0mkwargs\u001b[0m\u001b[0;34m)\u001b[0m\u001b[0;34m\u001b[0m\u001b[0;34m\u001b[0m\u001b[0m\n\u001b[0m\u001b[1;32m    890\u001b[0m         for hook in itertools.chain(\n\u001b[1;32m    891\u001b[0m                 \u001b[0m_global_forward_hooks\u001b[0m\u001b[0;34m.\u001b[0m\u001b[0mvalues\u001b[0m\u001b[0;34m(\u001b[0m\u001b[0;34m)\u001b[0m\u001b[0;34m,\u001b[0m\u001b[0;34m\u001b[0m\u001b[0;34m\u001b[0m\u001b[0m\n",
      "\u001b[0;32m~/.conda/envs/will-gpu/lib/python3.8/site-packages/torchvision/transforms/transforms.py\u001b[0m in \u001b[0;36mforward\u001b[0;34m(self, tensor)\u001b[0m\n\u001b[1;32m    219\u001b[0m             \u001b[0mTensor\u001b[0m\u001b[0;34m:\u001b[0m \u001b[0mNormalized\u001b[0m \u001b[0mTensor\u001b[0m \u001b[0mimage\u001b[0m\u001b[0;34m.\u001b[0m\u001b[0;34m\u001b[0m\u001b[0;34m\u001b[0m\u001b[0m\n\u001b[1;32m    220\u001b[0m         \"\"\"\n\u001b[0;32m--> 221\u001b[0;31m         \u001b[0;32mreturn\u001b[0m \u001b[0mF\u001b[0m\u001b[0;34m.\u001b[0m\u001b[0mnormalize\u001b[0m\u001b[0;34m(\u001b[0m\u001b[0mtensor\u001b[0m\u001b[0;34m,\u001b[0m \u001b[0mself\u001b[0m\u001b[0;34m.\u001b[0m\u001b[0mmean\u001b[0m\u001b[0;34m,\u001b[0m \u001b[0mself\u001b[0m\u001b[0;34m.\u001b[0m\u001b[0mstd\u001b[0m\u001b[0;34m,\u001b[0m \u001b[0mself\u001b[0m\u001b[0;34m.\u001b[0m\u001b[0minplace\u001b[0m\u001b[0;34m)\u001b[0m\u001b[0;34m\u001b[0m\u001b[0;34m\u001b[0m\u001b[0m\n\u001b[0m\u001b[1;32m    222\u001b[0m \u001b[0;34m\u001b[0m\u001b[0m\n\u001b[1;32m    223\u001b[0m     \u001b[0;32mdef\u001b[0m \u001b[0m__repr__\u001b[0m\u001b[0;34m(\u001b[0m\u001b[0mself\u001b[0m\u001b[0;34m)\u001b[0m\u001b[0;34m:\u001b[0m\u001b[0;34m\u001b[0m\u001b[0;34m\u001b[0m\u001b[0m\n",
      "\u001b[0;32m~/.conda/envs/will-gpu/lib/python3.8/site-packages/torchvision/transforms/functional.py\u001b[0m in \u001b[0;36mnormalize\u001b[0;34m(tensor, mean, std, inplace)\u001b[0m\n\u001b[1;32m    323\u001b[0m \u001b[0;34m\u001b[0m\u001b[0m\n\u001b[1;32m    324\u001b[0m     \u001b[0;32mif\u001b[0m \u001b[0;32mnot\u001b[0m \u001b[0minplace\u001b[0m\u001b[0;34m:\u001b[0m\u001b[0;34m\u001b[0m\u001b[0;34m\u001b[0m\u001b[0m\n\u001b[0;32m--> 325\u001b[0;31m         \u001b[0mtensor\u001b[0m \u001b[0;34m=\u001b[0m \u001b[0mtensor\u001b[0m\u001b[0;34m.\u001b[0m\u001b[0mclone\u001b[0m\u001b[0;34m(\u001b[0m\u001b[0;34m)\u001b[0m\u001b[0;34m\u001b[0m\u001b[0;34m\u001b[0m\u001b[0m\n\u001b[0m\u001b[1;32m    326\u001b[0m \u001b[0;34m\u001b[0m\u001b[0m\n\u001b[1;32m    327\u001b[0m     \u001b[0mdtype\u001b[0m \u001b[0;34m=\u001b[0m \u001b[0mtensor\u001b[0m\u001b[0;34m.\u001b[0m\u001b[0mdtype\u001b[0m\u001b[0;34m\u001b[0m\u001b[0;34m\u001b[0m\u001b[0m\n",
      "\u001b[0;31mKeyboardInterrupt\u001b[0m: "
     ]
    }
   ],
   "source": [
    "# control run\n",
    "# loss_control2 = []\n",
    "epochs = 30\n",
    "model_control2 = Model_control().to(device)\n",
    "optimizer2 = torch.optim.Adam(model_control2.parameters(), lr=3e-4)\n",
    "for epoch in range(1, epochs):\n",
    "    for loss_val in train(model_control2, device, train_loader, optimizer2, epoch):\n",
    "        loss_control2.append(loss_val)\n"
   ]
  },
  {
   "cell_type": "code",
   "execution_count": 147,
   "id": "9667f2bc",
   "metadata": {
    "collapsed": true,
    "jupyter": {
     "outputs_hidden": true
    }
   },
   "outputs": [
    {
     "name": "stdout",
     "output_type": "stream",
     "text": [
      "Train Epoch: 1 [4768/50000 (10%)]\tLoss: 1.560789\tAccuracy: 0.333125\n",
      "Train Epoch: 1 [9568/50000 (19%)]\tLoss: 1.648169\tAccuracy: 0.33875\n",
      "Train Epoch: 1 [14368/50000 (29%)]\tLoss: 1.560525\tAccuracy: 0.34770833333333334\n",
      "Train Epoch: 1 [19168/50000 (38%)]\tLoss: 1.701597\tAccuracy: 0.35479166666666667\n",
      "Train Epoch: 1 [23968/50000 (48%)]\tLoss: 1.778425\tAccuracy: 0.38604166666666667\n"
     ]
    },
    {
     "ename": "KeyboardInterrupt",
     "evalue": "",
     "output_type": "error",
     "traceback": [
      "\u001b[0;31m---------------------------------------------------------------------------\u001b[0m",
      "\u001b[0;31mKeyboardInterrupt\u001b[0m                         Traceback (most recent call last)",
      "\u001b[0;32m<ipython-input-147-b4fab7842787>\u001b[0m in \u001b[0;36m<module>\u001b[0;34m\u001b[0m\n\u001b[1;32m      5\u001b[0m \u001b[0;31m# optimizer3 = torch.optim.Adam(model_control3.parameters(), lr=3e-4)\u001b[0m\u001b[0;34m\u001b[0m\u001b[0;34m\u001b[0m\u001b[0;34m\u001b[0m\u001b[0m\n\u001b[1;32m      6\u001b[0m \u001b[0;32mfor\u001b[0m \u001b[0mepoch\u001b[0m \u001b[0;32min\u001b[0m \u001b[0mrange\u001b[0m\u001b[0;34m(\u001b[0m\u001b[0;36m1\u001b[0m\u001b[0;34m,\u001b[0m \u001b[0mepochs\u001b[0m\u001b[0;34m)\u001b[0m\u001b[0;34m:\u001b[0m\u001b[0;34m\u001b[0m\u001b[0;34m\u001b[0m\u001b[0m\n\u001b[0;32m----> 7\u001b[0;31m     \u001b[0;32mfor\u001b[0m \u001b[0mloss_val\u001b[0m \u001b[0;32min\u001b[0m \u001b[0mtrain\u001b[0m\u001b[0;34m(\u001b[0m\u001b[0mmodel_control3\u001b[0m\u001b[0;34m,\u001b[0m \u001b[0mdevice\u001b[0m\u001b[0;34m,\u001b[0m \u001b[0mtrain_loader\u001b[0m\u001b[0;34m,\u001b[0m \u001b[0moptimizer3\u001b[0m\u001b[0;34m,\u001b[0m \u001b[0mepoch\u001b[0m\u001b[0;34m)\u001b[0m\u001b[0;34m:\u001b[0m\u001b[0;34m\u001b[0m\u001b[0;34m\u001b[0m\u001b[0m\n\u001b[0m\u001b[1;32m      8\u001b[0m         \u001b[0mloss_control3\u001b[0m\u001b[0;34m.\u001b[0m\u001b[0mappend\u001b[0m\u001b[0;34m(\u001b[0m\u001b[0mloss_val\u001b[0m\u001b[0;34m)\u001b[0m\u001b[0;34m\u001b[0m\u001b[0;34m\u001b[0m\u001b[0m\n",
      "\u001b[0;32m<ipython-input-12-8091b908afe3>\u001b[0m in \u001b[0;36mtrain\u001b[0;34m(model, device, train_loader, optimizer, epoch)\u001b[0m\n\u001b[1;32m      3\u001b[0m     \u001b[0macc\u001b[0m \u001b[0;34m=\u001b[0m \u001b[0;36m0\u001b[0m\u001b[0;34m\u001b[0m\u001b[0;34m\u001b[0m\u001b[0m\n\u001b[1;32m      4\u001b[0m     \u001b[0;32mfor\u001b[0m \u001b[0mbatch_idx\u001b[0m\u001b[0;34m,\u001b[0m \u001b[0;34m(\u001b[0m\u001b[0mdata\u001b[0m\u001b[0;34m,\u001b[0m \u001b[0mtarget\u001b[0m\u001b[0;34m)\u001b[0m \u001b[0;32min\u001b[0m \u001b[0menumerate\u001b[0m\u001b[0;34m(\u001b[0m\u001b[0mtrain_loader\u001b[0m\u001b[0;34m)\u001b[0m\u001b[0;34m:\u001b[0m\u001b[0;34m\u001b[0m\u001b[0;34m\u001b[0m\u001b[0m\n\u001b[0;32m----> 5\u001b[0;31m         \u001b[0mdata\u001b[0m\u001b[0;34m,\u001b[0m \u001b[0mtarget\u001b[0m \u001b[0;34m=\u001b[0m \u001b[0mdata\u001b[0m\u001b[0;34m.\u001b[0m\u001b[0mto\u001b[0m\u001b[0;34m(\u001b[0m\u001b[0mdevice\u001b[0m\u001b[0;34m)\u001b[0m\u001b[0;34m,\u001b[0m \u001b[0mtarget\u001b[0m\u001b[0;34m.\u001b[0m\u001b[0mto\u001b[0m\u001b[0;34m(\u001b[0m\u001b[0mdevice\u001b[0m\u001b[0;34m)\u001b[0m\u001b[0;34m\u001b[0m\u001b[0;34m\u001b[0m\u001b[0m\n\u001b[0m\u001b[1;32m      6\u001b[0m         \u001b[0moptimizer\u001b[0m\u001b[0;34m.\u001b[0m\u001b[0mzero_grad\u001b[0m\u001b[0;34m(\u001b[0m\u001b[0;34m)\u001b[0m\u001b[0;34m\u001b[0m\u001b[0;34m\u001b[0m\u001b[0m\n\u001b[1;32m      7\u001b[0m         \u001b[0moutput\u001b[0m \u001b[0;34m=\u001b[0m \u001b[0mmodel\u001b[0m\u001b[0;34m(\u001b[0m\u001b[0mdata\u001b[0m\u001b[0;34m)\u001b[0m\u001b[0;34m\u001b[0m\u001b[0;34m\u001b[0m\u001b[0m\n",
      "\u001b[0;31mKeyboardInterrupt\u001b[0m: "
     ]
    }
   ],
   "source": [
    "# control run\n",
    "# loss_control3 = []\n",
    "epochs = 30\n",
    "# model_control3 = Model_control().to(device)\n",
    "# optimizer3 = torch.optim.Adam(model_control3.parameters(), lr=3e-4)\n",
    "for epoch in range(1, epochs):\n",
    "    for loss_val in train(model_control3, device, train_loader, optimizer3, epoch):\n",
    "        loss_control3.append(loss_val)\n"
   ]
  },
  {
   "cell_type": "code",
   "execution_count": 148,
   "id": "c0220b9e",
   "metadata": {},
   "outputs": [],
   "source": [
    "tensors = []\n",
    "for name, tensor in model_control.state_dict().items():\n",
    "    if ('weight' in name) & ('linear' not in name):\n",
    "        tensors.append(tensor.view(-1, 9)) # 9 because we are using 3x3 kernels \n",
    "# for name, tensor in model_control2.state_dict().items():\n",
    "#     if ('weight' in name) & ('linear' not in name):\n",
    "#         tensors.append(tensor.view(-1, 9)) # 9 because we are using 3x3 kernels \n",
    "# for name, tensor in model_control3.state_dict().items():\n",
    "#     if ('weight' in name) & ('linear' not in name):\n",
    "#         tensors.append(tensor.view(-1, 9)) # 9 because we are using 3x3 kernels \n",
    "all_kernels = torch.cat(tensors).cpu()"
   ]
  },
  {
   "cell_type": "code",
   "execution_count": 149,
   "id": "56267793",
   "metadata": {},
   "outputs": [
    {
     "data": {
      "text/plain": [
       "torch.Size([720, 9])"
      ]
     },
     "execution_count": 149,
     "metadata": {},
     "output_type": "execute_result"
    }
   ],
   "source": [
    "all_kernels.shape"
   ]
  },
  {
   "cell_type": "code",
   "execution_count": 150,
   "id": "10558b1f",
   "metadata": {},
   "outputs": [],
   "source": [
    "n_features = 2 # pca to 2d \n",
    "means = all_kernels.mean(axis=0).unsqueeze(0)\n",
    "centered_kernels = all_kernels - means\n",
    "cov_matrix = torch.matmul(centered_kernels.cuda().T, centered_kernels.cuda()) # need cuda otherwise takes forever\n",
    "v, w = torch.eig(cov_matrix, eigenvectors=True) # same comment as above\n",
    "pca_reduced_points = torch.matmul(centered_kernels.detach(), w[:, :n_features].cpu()) # dont need gpu here, though\n",
    "kernel_basis_vectors = w.view(9, 3, 3)"
   ]
  },
  {
   "cell_type": "code",
   "execution_count": 151,
   "id": "ff22d198",
   "metadata": {},
   "outputs": [
    {
     "data": {
      "image/png": "[encoded data removed]",
      "text/plain": [
       "<Figure size 432x288 with 1 Axes>"
      ]
     },
     "metadata": {
      "needs_background": "light"
     },
     "output_type": "display_data"
    }
   ],
   "source": [
    "# the only thing this tells us is that our pca is very numerically unstable lol\n",
    "plt.bar(torch.arange(v.size(0)), v[:, 0].cpu()) # get real part of eigenvalues\n",
    "plt.show()"
   ]
  },
  {
   "cell_type": "code",
   "execution_count": 172,
   "id": "7be288cb",
   "metadata": {},
   "outputs": [],
   "source": [
    "class Model_experiment(torch.nn.Module):\n",
    "    \n",
    "    def __init__(self, basis_vectors, device): # need device in __init__ because of weight assignment - https://discuss.pytorch.org/t/typeerror-cannot-assign-torch-cuda-floattensor-as-parameter-weight-torch-nn-parameter-or-none-expected/61765\n",
    "        super().__init__()\n",
    "        \n",
    "        # conv basis weights\n",
    "        norm_divisor = 10\n",
    "        self.cbw1 = torch.nn.parameter.Parameter((torch.rand(16, 3, 4, device=device)-.5)/norm_divisor)\n",
    "        self.cbw2 = torch.nn.parameter.Parameter((torch.rand(16, 16, 4, device=device)-.5)/norm_divisor)\n",
    "        self.cbw3 = torch.nn.parameter.Parameter((torch.rand(16, 16, 4, device=device)-.5)/norm_divisor)\n",
    "        self.cbw4 = torch.nn.parameter.Parameter((torch.rand(10, 16, 4, device=device)-.5)/norm_divisor)\n",
    "        \n",
    "        self.linear = torch.nn.Linear(24*24, 1)\n",
    "        \n",
    "        # kernel basis vectors\n",
    "        self.kbf = basis_vectors.to(device)\n",
    "    def forward(self, x):\n",
    "        # should be able to optimize parameters? \n",
    "        conv1_weight = torch.einsum('bld,dnm -> blnm', self.cbw1, self.kbf)\n",
    "        x = torch.nn.functional.conv2d(input=x, weight=conv1_weight, stride=1)\n",
    "        \n",
    "        conv2_weight = torch.einsum('bld,dnm -> blnm', self.cbw2, self.kbf)\n",
    "        x = torch.nn.functional.conv2d(input=x, weight=conv2_weight, stride=1)\n",
    "        \n",
    "        conv3_weight = torch.einsum('bld,dnm -> blnm', self.cbw3, self.kbf)\n",
    "        x = torch.nn.functional.conv2d(input=x, weight=conv3_weight, stride=1)\n",
    "        \n",
    "        conv4_weight = torch.einsum('bld,dnm -> blnm', self.cbw4, self.kbf)\n",
    "        x = torch.nn.functional.conv2d(input=x, weight=conv4_weight, stride=1)\n",
    "        \n",
    "        x = self.linear(x.view(x.size(0), 10, -1))\n",
    "        return x.squeeze(-1)\n"
   ]
  },
  {
   "cell_type": "code",
   "execution_count": 173,
   "id": "c5b5fc3f",
   "metadata": {},
   "outputs": [],
   "source": [
    "model_ex = Model_experiment(kernel_basis_vectors[:4], device).to(device)"
   ]
  },
  {
   "cell_type": "code",
   "execution_count": 174,
   "id": "0bea1ed9",
   "metadata": {},
   "outputs": [],
   "source": [
    "optimizer_ex = torch.optim.Adam(model_ex.parameters(), lr=5e-4)"
   ]
  },
  {
   "cell_type": "code",
   "execution_count": 175,
   "id": "6a6d4b95",
   "metadata": {
    "collapsed": true,
    "jupyter": {
     "outputs_hidden": true
    }
   },
   "outputs": [
    {
     "name": "stdout",
     "output_type": "stream",
     "text": [
      "Train Epoch: 1 [4768/50000 (10%)]\tLoss: 2.235107\tAccuracy: 0.10708333333333334\n",
      "Train Epoch: 1 [9568/50000 (19%)]\tLoss: 2.262482\tAccuracy: 0.178125\n",
      "Train Epoch: 1 [14368/50000 (29%)]\tLoss: 2.218242\tAccuracy: 0.19520833333333334\n",
      "Train Epoch: 1 [19168/50000 (38%)]\tLoss: 1.907750\tAccuracy: 0.20895833333333333\n",
      "Train Epoch: 1 [23968/50000 (48%)]\tLoss: 2.048964\tAccuracy: 0.23\n",
      "Train Epoch: 1 [28768/50000 (58%)]\tLoss: 2.299437\tAccuracy: 0.234375\n",
      "Train Epoch: 1 [33568/50000 (67%)]\tLoss: 2.073807\tAccuracy: 0.24270833333333333\n",
      "Train Epoch: 1 [38368/50000 (77%)]\tLoss: 2.100562\tAccuracy: 0.25875\n",
      "Train Epoch: 1 [43168/50000 (86%)]\tLoss: 2.297457\tAccuracy: 0.24770833333333334\n",
      "Train Epoch: 1 [47968/50000 (96%)]\tLoss: 1.913155\tAccuracy: 0.259375\n",
      "Train Epoch: 2 [4768/50000 (10%)]\tLoss: 2.015248\tAccuracy: 0.26708333333333334\n",
      "Train Epoch: 2 [9568/50000 (19%)]\tLoss: 2.018712\tAccuracy: 0.255625\n",
      "Train Epoch: 2 [14368/50000 (29%)]\tLoss: 2.094684\tAccuracy: 0.2679166666666667\n",
      "Train Epoch: 2 [19168/50000 (38%)]\tLoss: 1.851367\tAccuracy: 0.26208333333333333\n",
      "Train Epoch: 2 [23968/50000 (48%)]\tLoss: 1.965411\tAccuracy: 0.2764583333333333\n",
      "Train Epoch: 2 [28768/50000 (58%)]\tLoss: 2.199475\tAccuracy: 0.28770833333333334\n",
      "Train Epoch: 2 [33568/50000 (67%)]\tLoss: 2.027083\tAccuracy: 0.2875\n",
      "Train Epoch: 2 [38368/50000 (77%)]\tLoss: 2.019212\tAccuracy: 0.2808333333333333\n",
      "Train Epoch: 2 [43168/50000 (86%)]\tLoss: 2.265846\tAccuracy: 0.28229166666666666\n",
      "Train Epoch: 2 [47968/50000 (96%)]\tLoss: 1.878102\tAccuracy: 0.28270833333333334\n",
      "Train Epoch: 3 [4768/50000 (10%)]\tLoss: 1.977082\tAccuracy: 0.2991666666666667\n",
      "Train Epoch: 3 [9568/50000 (19%)]\tLoss: 1.966991\tAccuracy: 0.2889583333333333\n",
      "Train Epoch: 3 [14368/50000 (29%)]\tLoss: 2.016494\tAccuracy: 0.291875\n",
      "Train Epoch: 3 [19168/50000 (38%)]\tLoss: 1.818609\tAccuracy: 0.28375\n",
      "Train Epoch: 3 [23968/50000 (48%)]\tLoss: 1.895859\tAccuracy: 0.295625\n",
      "Train Epoch: 3 [28768/50000 (58%)]\tLoss: 2.155998\tAccuracy: 0.2972916666666667\n",
      "Train Epoch: 3 [33568/50000 (67%)]\tLoss: 1.968157\tAccuracy: 0.30354166666666665\n",
      "Train Epoch: 3 [38368/50000 (77%)]\tLoss: 1.987107\tAccuracy: 0.298125\n",
      "Train Epoch: 3 [43168/50000 (86%)]\tLoss: 2.226132\tAccuracy: 0.2991666666666667\n",
      "Train Epoch: 3 [47968/50000 (96%)]\tLoss: 1.824869\tAccuracy: 0.2975\n",
      "Train Epoch: 4 [4768/50000 (10%)]\tLoss: 1.911693\tAccuracy: 0.3122916666666667\n",
      "Train Epoch: 4 [9568/50000 (19%)]\tLoss: 1.928945\tAccuracy: 0.3075\n",
      "Train Epoch: 4 [14368/50000 (29%)]\tLoss: 1.941033\tAccuracy: 0.320625\n",
      "Train Epoch: 4 [19168/50000 (38%)]\tLoss: 1.747110\tAccuracy: 0.2991666666666667\n",
      "Train Epoch: 4 [23968/50000 (48%)]\tLoss: 1.859661\tAccuracy: 0.3177083333333333\n",
      "Train Epoch: 4 [28768/50000 (58%)]\tLoss: 2.125477\tAccuracy: 0.31375\n",
      "Train Epoch: 4 [33568/50000 (67%)]\tLoss: 1.920158\tAccuracy: 0.3225\n",
      "Train Epoch: 4 [38368/50000 (77%)]\tLoss: 1.957174\tAccuracy: 0.32208333333333333\n",
      "Train Epoch: 4 [43168/50000 (86%)]\tLoss: 2.146557\tAccuracy: 0.31333333333333335\n",
      "Train Epoch: 4 [47968/50000 (96%)]\tLoss: 1.769783\tAccuracy: 0.3152083333333333\n",
      "Train Epoch: 5 [4768/50000 (10%)]\tLoss: 1.863590\tAccuracy: 0.324375\n",
      "Train Epoch: 5 [9568/50000 (19%)]\tLoss: 1.898912\tAccuracy: 0.31916666666666665\n",
      "Train Epoch: 5 [14368/50000 (29%)]\tLoss: 1.885773\tAccuracy: 0.3283333333333333\n",
      "Train Epoch: 5 [19168/50000 (38%)]\tLoss: 1.710321\tAccuracy: 0.3175\n",
      "Train Epoch: 5 [23968/50000 (48%)]\tLoss: 1.850510\tAccuracy: 0.32208333333333333\n",
      "Train Epoch: 5 [28768/50000 (58%)]\tLoss: 2.098717\tAccuracy: 0.32145833333333335\n",
      "Train Epoch: 5 [33568/50000 (67%)]\tLoss: 1.946646\tAccuracy: 0.32729166666666665\n",
      "Train Epoch: 5 [38368/50000 (77%)]\tLoss: 1.936189\tAccuracy: 0.32645833333333335\n",
      "Train Epoch: 5 [43168/50000 (86%)]\tLoss: 2.091784\tAccuracy: 0.31875\n",
      "Train Epoch: 5 [47968/50000 (96%)]\tLoss: 1.745702\tAccuracy: 0.32208333333333333\n",
      "Train Epoch: 6 [4768/50000 (10%)]\tLoss: 1.827544\tAccuracy: 0.3333333333333333\n",
      "Train Epoch: 6 [9568/50000 (19%)]\tLoss: 1.882738\tAccuracy: 0.32375\n"
     ]
    },
    {
     "ename": "KeyboardInterrupt",
     "evalue": "",
     "output_type": "error",
     "traceback": [
      "\u001b[0;31m---------------------------------------------------------------------------\u001b[0m",
      "\u001b[0;31mKeyboardInterrupt\u001b[0m                         Traceback (most recent call last)",
      "\u001b[0;32m<ipython-input-175-c80637899e1f>\u001b[0m in \u001b[0;36m<module>\u001b[0;34m\u001b[0m\n\u001b[1;32m      3\u001b[0m \u001b[0mepochs\u001b[0m \u001b[0;34m=\u001b[0m \u001b[0;36m30\u001b[0m\u001b[0;34m\u001b[0m\u001b[0;34m\u001b[0m\u001b[0m\n\u001b[1;32m      4\u001b[0m \u001b[0;32mfor\u001b[0m \u001b[0mepoch\u001b[0m \u001b[0;32min\u001b[0m \u001b[0mrange\u001b[0m\u001b[0;34m(\u001b[0m\u001b[0;36m1\u001b[0m\u001b[0;34m,\u001b[0m \u001b[0mepochs\u001b[0m\u001b[0;34m)\u001b[0m\u001b[0;34m:\u001b[0m\u001b[0;34m\u001b[0m\u001b[0;34m\u001b[0m\u001b[0m\n\u001b[0;32m----> 5\u001b[0;31m     \u001b[0;32mfor\u001b[0m \u001b[0mloss_val\u001b[0m \u001b[0;32min\u001b[0m \u001b[0mtrain\u001b[0m\u001b[0;34m(\u001b[0m\u001b[0mmodel_ex\u001b[0m\u001b[0;34m,\u001b[0m \u001b[0mdevice\u001b[0m\u001b[0;34m,\u001b[0m \u001b[0mtrain_loader\u001b[0m\u001b[0;34m,\u001b[0m \u001b[0moptimizer_ex\u001b[0m\u001b[0;34m,\u001b[0m \u001b[0mepoch\u001b[0m\u001b[0;34m)\u001b[0m\u001b[0;34m:\u001b[0m\u001b[0;34m\u001b[0m\u001b[0;34m\u001b[0m\u001b[0m\n\u001b[0m\u001b[1;32m      6\u001b[0m         \u001b[0mloss_ex\u001b[0m\u001b[0;34m.\u001b[0m\u001b[0mappend\u001b[0m\u001b[0;34m(\u001b[0m\u001b[0mloss_val\u001b[0m\u001b[0;34m)\u001b[0m\u001b[0;34m\u001b[0m\u001b[0;34m\u001b[0m\u001b[0m\n",
      "\u001b[0;32m<ipython-input-12-8091b908afe3>\u001b[0m in \u001b[0;36mtrain\u001b[0;34m(model, device, train_loader, optimizer, epoch)\u001b[0m\n\u001b[1;32m      5\u001b[0m         \u001b[0mdata\u001b[0m\u001b[0;34m,\u001b[0m \u001b[0mtarget\u001b[0m \u001b[0;34m=\u001b[0m \u001b[0mdata\u001b[0m\u001b[0;34m.\u001b[0m\u001b[0mto\u001b[0m\u001b[0;34m(\u001b[0m\u001b[0mdevice\u001b[0m\u001b[0;34m)\u001b[0m\u001b[0;34m,\u001b[0m \u001b[0mtarget\u001b[0m\u001b[0;34m.\u001b[0m\u001b[0mto\u001b[0m\u001b[0;34m(\u001b[0m\u001b[0mdevice\u001b[0m\u001b[0;34m)\u001b[0m\u001b[0;34m\u001b[0m\u001b[0;34m\u001b[0m\u001b[0m\n\u001b[1;32m      6\u001b[0m         \u001b[0moptimizer\u001b[0m\u001b[0;34m.\u001b[0m\u001b[0mzero_grad\u001b[0m\u001b[0;34m(\u001b[0m\u001b[0;34m)\u001b[0m\u001b[0;34m\u001b[0m\u001b[0;34m\u001b[0m\u001b[0m\n\u001b[0;32m----> 7\u001b[0;31m         \u001b[0moutput\u001b[0m \u001b[0;34m=\u001b[0m \u001b[0mmodel\u001b[0m\u001b[0;34m(\u001b[0m\u001b[0mdata\u001b[0m\u001b[0;34m)\u001b[0m\u001b[0;34m\u001b[0m\u001b[0;34m\u001b[0m\u001b[0m\n\u001b[0m\u001b[1;32m      8\u001b[0m         \u001b[0mloss\u001b[0m \u001b[0;34m=\u001b[0m \u001b[0mtorch\u001b[0m\u001b[0;34m.\u001b[0m\u001b[0mnn\u001b[0m\u001b[0;34m.\u001b[0m\u001b[0mfunctional\u001b[0m\u001b[0;34m.\u001b[0m\u001b[0mcross_entropy\u001b[0m\u001b[0;34m(\u001b[0m\u001b[0moutput\u001b[0m\u001b[0;34m,\u001b[0m \u001b[0mtarget\u001b[0m\u001b[0;34m)\u001b[0m\u001b[0;34m\u001b[0m\u001b[0;34m\u001b[0m\u001b[0m\n\u001b[1;32m      9\u001b[0m         \u001b[0mout_softmax\u001b[0m \u001b[0;34m=\u001b[0m \u001b[0mtorch\u001b[0m\u001b[0;34m.\u001b[0m\u001b[0mnn\u001b[0m\u001b[0;34m.\u001b[0m\u001b[0mfunctional\u001b[0m\u001b[0;34m.\u001b[0m\u001b[0msoftmax\u001b[0m\u001b[0;34m(\u001b[0m\u001b[0moutput\u001b[0m\u001b[0;34m,\u001b[0m \u001b[0mdim\u001b[0m\u001b[0;34m=\u001b[0m\u001b[0;34m-\u001b[0m\u001b[0;36m1\u001b[0m\u001b[0;34m)\u001b[0m\u001b[0;34m\u001b[0m\u001b[0;34m\u001b[0m\u001b[0m\n",
      "\u001b[0;32m~/.conda/envs/will-gpu/lib/python3.8/site-packages/torch/nn/modules/module.py\u001b[0m in \u001b[0;36m_call_impl\u001b[0;34m(self, *input, **kwargs)\u001b[0m\n\u001b[1;32m    887\u001b[0m             \u001b[0mresult\u001b[0m \u001b[0;34m=\u001b[0m \u001b[0mself\u001b[0m\u001b[0;34m.\u001b[0m\u001b[0m_slow_forward\u001b[0m\u001b[0;34m(\u001b[0m\u001b[0;34m*\u001b[0m\u001b[0minput\u001b[0m\u001b[0;34m,\u001b[0m \u001b[0;34m**\u001b[0m\u001b[0mkwargs\u001b[0m\u001b[0;34m)\u001b[0m\u001b[0;34m\u001b[0m\u001b[0;34m\u001b[0m\u001b[0m\n\u001b[1;32m    888\u001b[0m         \u001b[0;32melse\u001b[0m\u001b[0;34m:\u001b[0m\u001b[0;34m\u001b[0m\u001b[0;34m\u001b[0m\u001b[0m\n\u001b[0;32m--> 889\u001b[0;31m             \u001b[0mresult\u001b[0m \u001b[0;34m=\u001b[0m \u001b[0mself\u001b[0m\u001b[0;34m.\u001b[0m\u001b[0mforward\u001b[0m\u001b[0;34m(\u001b[0m\u001b[0;34m*\u001b[0m\u001b[0minput\u001b[0m\u001b[0;34m,\u001b[0m \u001b[0;34m**\u001b[0m\u001b[0mkwargs\u001b[0m\u001b[0;34m)\u001b[0m\u001b[0;34m\u001b[0m\u001b[0;34m\u001b[0m\u001b[0m\n\u001b[0m\u001b[1;32m    890\u001b[0m         for hook in itertools.chain(\n\u001b[1;32m    891\u001b[0m                 \u001b[0m_global_forward_hooks\u001b[0m\u001b[0;34m.\u001b[0m\u001b[0mvalues\u001b[0m\u001b[0;34m(\u001b[0m\u001b[0;34m)\u001b[0m\u001b[0;34m,\u001b[0m\u001b[0;34m\u001b[0m\u001b[0;34m\u001b[0m\u001b[0m\n",
      "\u001b[0;32m<ipython-input-172-1e856ca9252f>\u001b[0m in \u001b[0;36mforward\u001b[0;34m(self, x)\u001b[0m\n\u001b[1;32m     20\u001b[0m         \u001b[0mx\u001b[0m \u001b[0;34m=\u001b[0m \u001b[0mtorch\u001b[0m\u001b[0;34m.\u001b[0m\u001b[0mnn\u001b[0m\u001b[0;34m.\u001b[0m\u001b[0mfunctional\u001b[0m\u001b[0;34m.\u001b[0m\u001b[0mconv2d\u001b[0m\u001b[0;34m(\u001b[0m\u001b[0minput\u001b[0m\u001b[0;34m=\u001b[0m\u001b[0mx\u001b[0m\u001b[0;34m,\u001b[0m \u001b[0mweight\u001b[0m\u001b[0;34m=\u001b[0m\u001b[0mconv1_weight\u001b[0m\u001b[0;34m,\u001b[0m \u001b[0mstride\u001b[0m\u001b[0;34m=\u001b[0m\u001b[0;36m1\u001b[0m\u001b[0;34m)\u001b[0m\u001b[0;34m\u001b[0m\u001b[0;34m\u001b[0m\u001b[0m\n\u001b[1;32m     21\u001b[0m \u001b[0;34m\u001b[0m\u001b[0m\n\u001b[0;32m---> 22\u001b[0;31m         \u001b[0mconv2_weight\u001b[0m \u001b[0;34m=\u001b[0m \u001b[0mtorch\u001b[0m\u001b[0;34m.\u001b[0m\u001b[0meinsum\u001b[0m\u001b[0;34m(\u001b[0m\u001b[0;34m'bld,dnm -> blnm'\u001b[0m\u001b[0;34m,\u001b[0m \u001b[0mself\u001b[0m\u001b[0;34m.\u001b[0m\u001b[0mcbw2\u001b[0m\u001b[0;34m,\u001b[0m \u001b[0mself\u001b[0m\u001b[0;34m.\u001b[0m\u001b[0mkbf\u001b[0m\u001b[0;34m)\u001b[0m\u001b[0;34m\u001b[0m\u001b[0;34m\u001b[0m\u001b[0m\n\u001b[0m\u001b[1;32m     23\u001b[0m         \u001b[0mx\u001b[0m \u001b[0;34m=\u001b[0m \u001b[0mtorch\u001b[0m\u001b[0;34m.\u001b[0m\u001b[0mnn\u001b[0m\u001b[0;34m.\u001b[0m\u001b[0mfunctional\u001b[0m\u001b[0;34m.\u001b[0m\u001b[0mconv2d\u001b[0m\u001b[0;34m(\u001b[0m\u001b[0minput\u001b[0m\u001b[0;34m=\u001b[0m\u001b[0mx\u001b[0m\u001b[0;34m,\u001b[0m \u001b[0mweight\u001b[0m\u001b[0;34m=\u001b[0m\u001b[0mconv2_weight\u001b[0m\u001b[0;34m,\u001b[0m \u001b[0mstride\u001b[0m\u001b[0;34m=\u001b[0m\u001b[0;36m1\u001b[0m\u001b[0;34m)\u001b[0m\u001b[0;34m\u001b[0m\u001b[0;34m\u001b[0m\u001b[0m\n\u001b[1;32m     24\u001b[0m \u001b[0;34m\u001b[0m\u001b[0m\n",
      "\u001b[0;32m~/.conda/envs/will-gpu/lib/python3.8/site-packages/torch/functional.py\u001b[0m in \u001b[0;36meinsum\u001b[0;34m(equation, *operands)\u001b[0m\n\u001b[1;32m    406\u001b[0m         \u001b[0;32mreturn\u001b[0m \u001b[0meinsum\u001b[0m\u001b[0;34m(\u001b[0m\u001b[0mequation\u001b[0m\u001b[0;34m,\u001b[0m \u001b[0;34m*\u001b[0m\u001b[0m_operands\u001b[0m\u001b[0;34m)\u001b[0m\u001b[0;34m\u001b[0m\u001b[0;34m\u001b[0m\u001b[0m\n\u001b[1;32m    407\u001b[0m \u001b[0;34m\u001b[0m\u001b[0m\n\u001b[0;32m--> 408\u001b[0;31m     \u001b[0;32mreturn\u001b[0m \u001b[0m_VF\u001b[0m\u001b[0;34m.\u001b[0m\u001b[0meinsum\u001b[0m\u001b[0;34m(\u001b[0m\u001b[0mequation\u001b[0m\u001b[0;34m,\u001b[0m \u001b[0moperands\u001b[0m\u001b[0;34m)\u001b[0m  \u001b[0;31m# type: ignore\u001b[0m\u001b[0;34m\u001b[0m\u001b[0;34m\u001b[0m\u001b[0m\n\u001b[0m\u001b[1;32m    409\u001b[0m \u001b[0;34m\u001b[0m\u001b[0m\n\u001b[1;32m    410\u001b[0m \u001b[0;34m\u001b[0m\u001b[0m\n",
      "\u001b[0;31mKeyboardInterrupt\u001b[0m: "
     ]
    }
   ],
   "source": [
    "# control run\n",
    "loss_ex = []\n",
    "epochs = 30\n",
    "for epoch in range(1, epochs):\n",
    "    for loss_val in train(model_ex, device, train_loader, optimizer_ex, epoch):\n",
    "        loss_ex.append(loss_val)\n"
   ]
  },
  {
   "cell_type": "code",
   "execution_count": 176,
   "id": "5a7513a9",
   "metadata": {},
   "outputs": [
    {
     "data": {
      "image/png": "[encoded data removed]",
      "text/plain": [
       "<Figure size 432x288 with 1 Axes>"
      ]
     },
     "metadata": {
      "needs_background": "light"
     },
     "output_type": "display_data"
    }
   ],
   "source": [
    "plt.plot(loss_ex, label='PCA thing')\n",
    "plt.plot(loss_control, label='control')\n",
    "plt.legend()\n",
    "plt.title('MNIST accuracy')\n",
    "plt.xlabel('epochs')\n",
    "plt.show()\n"
   ]
  },
  {
   "cell_type": "code",
   "execution_count": null,
   "id": "f396cb8d",
   "metadata": {},
   "outputs": [],
   "source": []
  }
 ],
 "metadata": {
  "kernelspec": {
   "display_name": "Python [conda env:.conda-will-gpu] *",
   "language": "python",
   "name": "conda-env-.conda-will-gpu-py"
  },
  "language_info": {
   "codemirror_mode": {
    "name": "ipython",
    "version": 3
   },
   "file_extension": ".py",
   "mimetype": "text/x-python",
   "name": "python",
   "nbconvert_exporter": "python",
   "pygments_lexer": "ipython3",
   "version": "3.8.10"
  }
 },
 "nbformat": 4,
 "nbformat_minor": 5
}
